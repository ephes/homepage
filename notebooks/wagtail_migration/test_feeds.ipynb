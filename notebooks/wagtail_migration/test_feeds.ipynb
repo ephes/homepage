{
 "cells": [
  {
   "cell_type": "code",
   "execution_count": 2,
   "id": "34eb4c33-b178-4932-8131-bbbac2feed77",
   "metadata": {},
   "outputs": [],
   "source": [
    "import requests"
   ]
  },
  {
   "cell_type": "code",
   "execution_count": 1,
   "id": "884c0505-40f2-4510-9cbe-bfc3dd6aed08",
   "metadata": {},
   "outputs": [],
   "source": [
    "orig_feed_url = \"https://wersdoerfer.de/blogs/ephes_blog/feed/rss.xml\"\n",
    "new_feed_url = \"https://homepage.staging.django-cast.com/blogs/ephes_blog/feed/rss.xml\""
   ]
  },
  {
   "cell_type": "code",
   "execution_count": 5,
   "id": "98b8dd5b-ac95-4f13-97eb-6c1e1847e00f",
   "metadata": {},
   "outputs": [
    {
     "name": "stdout",
     "output_type": "stream",
     "text": [
      "CPU times: user 30.3 ms, sys: 6.22 ms, total: 36.5 ms\n",
      "Wall time: 1.21 s\n"
     ]
    }
   ],
   "source": [
    "%%time\n",
    "r1 = requests.get(orig_feed_url)"
   ]
  },
  {
   "cell_type": "code",
   "execution_count": 6,
   "id": "4e2b035b-fb14-4356-b6eb-a755ee943c35",
   "metadata": {},
   "outputs": [
    {
     "name": "stdout",
     "output_type": "stream",
     "text": [
      "CPU times: user 24.8 ms, sys: 4.78 ms, total: 29.5 ms\n",
      "Wall time: 615 ms\n"
     ]
    }
   ],
   "source": [
    "%%time\n",
    "r2 = requests.get(new_feed_url)"
   ]
  },
  {
   "cell_type": "code",
   "execution_count": 8,
   "id": "e51c1c57-400a-4f9d-a4fa-011a57ff225d",
   "metadata": {},
   "outputs": [
    {
     "name": "stdout",
     "output_type": "stream",
     "text": [
      "724829\n",
      "3855\n"
     ]
    }
   ],
   "source": [
    "print(len(r1.content))\n",
    "print(len(r2.content))"
   ]
  },
  {
   "cell_type": "code",
   "execution_count": null,
   "id": "0da93ffd-5154-4579-a3c1-d1e96def969a",
   "metadata": {},
   "outputs": [],
   "source": []
  }
 ],
 "metadata": {
  "kernelspec": {
   "display_name": "Django Kernel",
   "language": "python",
   "name": "django_extensions"
  },
  "language_info": {
   "codemirror_mode": {
    "name": "ipython",
    "version": 3
   },
   "file_extension": ".py",
   "mimetype": "text/x-python",
   "name": "python",
   "nbconvert_exporter": "python",
   "pygments_lexer": "ipython3",
   "version": "3.11.0"
  }
 },
 "nbformat": 4,
 "nbformat_minor": 5
}
