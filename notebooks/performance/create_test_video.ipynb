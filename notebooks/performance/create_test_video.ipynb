{
 "cells": [
  {
   "cell_type": "code",
   "execution_count": 1,
   "id": "b3d07334-b569-437d-968d-5314f2179a51",
   "metadata": {
    "tags": []
   },
   "outputs": [],
   "source": [
    "import cv2\n",
    "import numpy as np\n",
    "\n",
    "# Video properties\n",
    "width, height = 640, 480\n",
    "fps = 24\n",
    "duration = 2  # seconds\n",
    "frame_count = fps * duration\n",
    "\n",
    "# Initialize video writer\n",
    "fourcc = cv2.VideoWriter_fourcc(*'mp4v')  # Video codec\n",
    "video = cv2.VideoWriter('test_video.mp4', fourcc, fps, (width, height))\n",
    "\n",
    "for i in range(frame_count):\n",
    "    # Create a frame with a changing color\n",
    "    frame = np.zeros((height, width, 3), dtype=np.uint8)\n",
    "    color_value = (i * 255) // frame_count  # Gradually change color\n",
    "    frame[:] = [color_value, 0, 0]  # Change BGR values as needed\n",
    "\n",
    "    # Write frame to video\n",
    "    video.write(frame)\n",
    "\n",
    "# Release the video writer\n",
    "video.release()"
   ]
  },
  {
   "cell_type": "code",
   "execution_count": 2,
   "id": "a35d263a-92e3-450f-b41f-f14446ce89f2",
   "metadata": {
    "tags": []
   },
   "outputs": [
    {
     "name": "stdout",
     "output_type": "stream",
     "text": [
      "hello world\n"
     ]
    }
   ],
   "source": [
    "print(\"hello world\")"
   ]
  },
  {
   "cell_type": "code",
   "execution_count": 3,
   "id": "5049ee6b-976d-43a9-bb22-7a7e8dcda78f",
   "metadata": {
    "tags": []
   },
   "outputs": [],
   "source": [
    "from pathlib import Path"
   ]
  },
  {
   "cell_type": "code",
   "execution_count": 5,
   "id": "173ea798-dcf3-475e-9c05-3518894cb5ae",
   "metadata": {
    "tags": []
   },
   "outputs": [
    {
     "data": {
      "text/plain": [
       "PosixPath('/Users/jochen/projects/homepage/notebooks')"
      ]
     },
     "execution_count": 5,
     "metadata": {},
     "output_type": "execute_result"
    }
   ],
   "source": [
    "Path(Path.cwd()).parent"
   ]
  },
  {
   "cell_type": "code",
   "execution_count": null,
   "id": "8e7b6722-104b-41e1-9bbd-a2add1857bac",
   "metadata": {},
   "outputs": [],
   "source": []
  }
 ],
 "metadata": {
  "kernelspec": {
   "display_name": "Django Kernel",
   "language": "python",
   "name": "django_extensions"
  },
  "language_info": {
   "codemirror_mode": {
    "name": "ipython",
    "version": 3
   },
   "file_extension": ".py",
   "mimetype": "text/x-python",
   "name": "python",
   "nbconvert_exporter": "python",
   "pygments_lexer": "ipython3",
   "version": "3.12.2"
  }
 },
 "nbformat": 4,
 "nbformat_minor": 5
}
