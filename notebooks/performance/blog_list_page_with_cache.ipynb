{
 "cells": [
  {
   "cell_type": "code",
   "execution_count": 1,
   "id": "1774bf9d-f298-4360-a8b6-b679c0cfa339",
   "metadata": {
    "tags": []
   },
   "outputs": [],
   "source": [
    "import sqlparse\n",
    "\n",
    "from django.test.client import RequestFactory\n",
    "from django.db import connection, reset_queries\n",
    "\n",
    "from django_htmx.middleware import HtmxDetails\n",
    "\n",
    "from cast.cache import PostData"
   ]
  },
  {
   "cell_type": "code",
   "execution_count": null,
   "id": "ca9ec71e-3a52-4918-a680-22c6b77da671",
   "metadata": {},
   "outputs": [],
   "source": []
  }
 ],
 "metadata": {
  "kernelspec": {
   "display_name": "Django Kernel",
   "language": "python",
   "name": "django_extensions"
  },
  "language_info": {
   "codemirror_mode": {
    "name": "ipython",
    "version": 3
   },
   "file_extension": ".py",
   "mimetype": "text/x-python",
   "name": "python",
   "nbconvert_exporter": "python",
   "pygments_lexer": "ipython3",
   "version": "3.12.1"
  }
 },
 "nbformat": 4,
 "nbformat_minor": 5
}
