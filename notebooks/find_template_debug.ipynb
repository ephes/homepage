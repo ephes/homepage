{
 "cells": [
  {
   "cell_type": "code",
   "execution_count": null,
   "id": "4590a554-fa73-49ad-a872-09b286a5ed2e",
   "metadata": {
    "tags": []
   },
   "outputs": [],
   "source": [
    "from cast.models.theme import get_template_base_dir_candidates, get_template_directories"
   ]
  },
  {
   "cell_type": "code",
   "execution_count": null,
   "id": "159d3cca-0774-4474-947b-f7deb9186675",
   "metadata": {
    "tags": []
   },
   "outputs": [],
   "source": [
    "template_dirs = get_template_directories()"
   ]
  },
  {
   "cell_type": "code",
   "execution_count": null,
   "id": "62909987-6a50-4575-8c26-a060c7d88866",
   "metadata": {
    "tags": []
   },
   "outputs": [],
   "source": [
    "get_template_base_dir_candidates(template_dirs)"
   ]
  },
  {
   "cell_type": "code",
   "execution_count": null,
   "id": "29a85a76-d0bb-410a-bd8f-b111a23fafa3",
   "metadata": {
    "tags": []
   },
   "outputs": [],
   "source": [
    "from django.template import engines"
   ]
  },
  {
   "cell_type": "code",
   "execution_count": null,
   "id": "938a2d5e-756c-456f-a877-5f02dd87b7f2",
   "metadata": {
    "tags": []
   },
   "outputs": [],
   "source": [
    "[engine] = engines.all()"
   ]
  },
  {
   "cell_type": "code",
   "execution_count": null,
   "id": "c1de5eb9-112f-44fe-a5d8-0bdaebddcf29",
   "metadata": {
    "tags": []
   },
   "outputs": [],
   "source": [
    "template = engine.get_template(\"cast/gallery.html\")"
   ]
  },
  {
   "cell_type": "code",
   "execution_count": 7,
   "id": "7302cbc0-118c-49da-acf1-677628d7a440",
   "metadata": {},
   "outputs": [
    {
     "data": {
      "text/plain": [
       "<Origin name='/Users/jochen/.virtualenvs/homepage/lib/python3.11/site-packages/cast/templates/cast/gallery.html'>"
      ]
     },
     "execution_count": 7,
     "metadata": {},
     "output_type": "execute_result"
    }
   ],
   "source": [
    "template.origin"
   ]
  },
  {
   "cell_type": "code",
   "execution_count": 8,
   "id": "ba8ed43b-4c46-4b53-a7f1-d47fb3023c8c",
   "metadata": {},
   "outputs": [
    {
     "data": {
      "text/plain": [
       "<django.template.backends.django.Template at 0x1073de9d0>"
      ]
     },
     "execution_count": 8,
     "metadata": {},
     "output_type": "execute_result"
    }
   ],
   "source": [
    "engine.get_template(\"cast/vue/gallery.html\")"
   ]
  },
  {
   "cell_type": "code",
   "execution_count": 9,
   "id": "09218b11-2a9a-4672-ac1f-3534766e14dd",
   "metadata": {
    "tags": []
   },
   "outputs": [
    {
     "name": "stdout",
     "output_type": "stream",
     "text": [
      "hello world\n"
     ]
    }
   ],
   "source": [
    "print(\"hello world\")"
   ]
  },
  {
   "cell_type": "code",
   "execution_count": 11,
   "id": "c660a8c4-f03d-4c47-804e-77c050a2589c",
   "metadata": {
    "tags": []
   },
   "outputs": [],
   "source": [
    "from django.template.loader import get_template"
   ]
  },
  {
   "cell_type": "code",
   "execution_count": 13,
   "id": "7196a717-ddb5-48ab-93c0-a0497de0cb8f",
   "metadata": {
    "tags": []
   },
   "outputs": [],
   "source": [
    "foo = \"\"\"\n",
    "SELECT \"wagtailcore_page\".\"id\", \"wagtailcore_page\".\"path\", \"wagtailcore_page\".\"depth\", \"wagtailcore_page\".\"numchild\", \"wagtailcore_page\".\"translation_key\", \"wagtailcore_page\".\"locale_id\", \"wagtailcore_page\".\"latest_revision_id\", \"wagtailcore_page\".\"live\", \"wagtailcore_page\".\"has_unpublished_changes\", \"wagtailcore_page\".\"first_published_at\", \"wagtailcore_page\".\"last_published_at\", \"wagtailcore_page\".\"live_revision_id\", \"wagtailcore_page\".\"go_live_at\", \"wagtailcore_page\".\"expire_at\", \"wagtailcore_page\".\"expired\", \"wagtailcore_page\".\"locked\", \"wagtailcore_page\".\"locked_at\", \"wagtailcore_page\".\"locked_by_id\", \"wagtailcore_page\".\"title\", \"wagtailcore_page\".\"draft_title\", \"wagtailcore_page\".\"slug\", \"wagtailcore_page\".\"content_type_id\", \"wagtailcore_page\".\"url_path\", \"wagtailcore_page\".\"owner_id\", \"wagtailcore_page\".\"seo_title\", \"wagtailcore_page\".\"show_in_menus\", \"wagtailcore_page\".\"search_description\", \"wagtailcore_page\".\"latest_revision_created_at\", \"wagtailcore_page\".\"alias_of_id\", \"cast_post\".\"page_ptr_id\", \"cast_post\".\"uuid\", \"cast_post\".\"visible_date\", \"cast_post\".\"comments_enabled\", \"cast_post\".\"body\" FROM \"cast_post\" INNER JOIN \"wagtailcore_page\" ON (\"cast_post\".\"page_ptr_id\" = \"wagtailcore_page\".\"id\") WHERE \"cast_post\".\"page_ptr_id\" IN (SELECT U0.\"id\" FROM \"wagtailcore_page\" U0 WHERE (U0.\"live\" AND U0.\"path\" LIKE 00010001% ESCAPE '\\' AND U0.\"depth\" >= 2)) ORDER BY \"wagtailcore_page\".\"path\" ASC\n",
    "\"\"\""
   ]
  },
  {
   "cell_type": "code",
   "execution_count": 12,
   "id": "fa35b87d-404e-48f5-a6c4-3935eb267dc1",
   "metadata": {
    "tags": []
   },
   "outputs": [],
   "source": [
    "import sqlparse"
   ]
  },
  {
   "cell_type": "code",
   "execution_count": 15,
   "id": "26b5f6c2-67a4-49cb-b2f1-03d2f85bc897",
   "metadata": {
    "tags": []
   },
   "outputs": [
    {
     "name": "stdout",
     "output_type": "stream",
     "text": [
      "\n",
      "SELECT \"wagtailcore_page\".\"id\",\n",
      "       \"wagtailcore_page\".\"path\",\n",
      "       \"wagtailcore_page\".\"depth\",\n",
      "       \"wagtailcore_page\".\"numchild\",\n",
      "       \"wagtailcore_page\".\"translation_key\",\n",
      "       \"wagtailcore_page\".\"locale_id\",\n",
      "       \"wagtailcore_page\".\"latest_revision_id\",\n",
      "       \"wagtailcore_page\".\"live\",\n",
      "       \"wagtailcore_page\".\"has_unpublished_changes\",\n",
      "       \"wagtailcore_page\".\"first_published_at\",\n",
      "       \"wagtailcore_page\".\"last_published_at\",\n",
      "       \"wagtailcore_page\".\"live_revision_id\",\n",
      "       \"wagtailcore_page\".\"go_live_at\",\n",
      "       \"wagtailcore_page\".\"expire_at\",\n",
      "       \"wagtailcore_page\".\"expired\",\n",
      "       \"wagtailcore_page\".\"locked\",\n",
      "       \"wagtailcore_page\".\"locked_at\",\n",
      "       \"wagtailcore_page\".\"locked_by_id\",\n",
      "       \"wagtailcore_page\".\"title\",\n",
      "       \"wagtailcore_page\".\"draft_title\",\n",
      "       \"wagtailcore_page\".\"slug\",\n",
      "       \"wagtailcore_page\".\"content_type_id\",\n",
      "       \"wagtailcore_page\".\"url_path\",\n",
      "       \"wagtailcore_page\".\"owner_id\",\n",
      "       \"wagtailcore_page\".\"seo_title\",\n",
      "       \"wagtailcore_page\".\"show_in_menus\",\n",
      "       \"wagtailcore_page\".\"search_description\",\n",
      "       \"wagtailcore_page\".\"latest_revision_created_at\",\n",
      "       \"wagtailcore_page\".\"alias_of_id\",\n",
      "       \"cast_post\".\"page_ptr_id\",\n",
      "       \"cast_post\".\"uuid\",\n",
      "       \"cast_post\".\"visible_date\",\n",
      "       \"cast_post\".\"comments_enabled\",\n",
      "       \"cast_post\".\"body\"\n",
      "FROM \"cast_post\"\n",
      "INNER JOIN \"wagtailcore_page\" ON (\"cast_post\".\"page_ptr_id\" = \"wagtailcore_page\".\"id\")\n",
      "WHERE \"cast_post\".\"page_ptr_id\" IN\n",
      "    (SELECT U0.\"id\"\n",
      "     FROM \"wagtailcore_page\" U0\n",
      "     WHERE (U0.\"live\"\n",
      "            AND U0.\"path\" LIKE 00010001% ESCAPE ''\n",
      "            AND U0.\"depth\" >= 2))\n",
      "ORDER BY \"wagtailcore_page\".\"path\" ASC\n"
     ]
    }
   ],
   "source": [
    "print(sqlparse.format(foo, reindent=True))"
   ]
  },
  {
   "cell_type": "code",
   "execution_count": 16,
   "id": "9f79e4ff-7ca8-4cc7-8602-bcf17d48e10c",
   "metadata": {
    "tags": []
   },
   "outputs": [],
   "source": [
    "from django.utils import timezone"
   ]
  },
  {
   "cell_type": "code",
   "execution_count": 18,
   "id": "3332117a-8fe4-4853-afe9-d361abc15482",
   "metadata": {
    "tags": []
   },
   "outputs": [
    {
     "data": {
      "text/plain": [
       "2023"
      ]
     },
     "execution_count": 18,
     "metadata": {},
     "output_type": "execute_result"
    }
   ],
   "source": [
    "timezone.now().year"
   ]
  },
  {
   "cell_type": "code",
   "execution_count": 19,
   "id": "79e04a02-0315-4de2-8bdd-1785a841dcd6",
   "metadata": {
    "tags": []
   },
   "outputs": [],
   "source": [
    "from datetime import datetime"
   ]
  },
  {
   "cell_type": "code",
   "execution_count": 20,
   "id": "f591e2b1-9065-4836-8b09-7917b143acbc",
   "metadata": {
    "tags": []
   },
   "outputs": [
    {
     "data": {
      "text/plain": [
       "datetime.datetime(2022, 9, 1, 0, 0)"
      ]
     },
     "execution_count": 20,
     "metadata": {},
     "output_type": "execute_result"
    }
   ],
   "source": [
    "datetime(2022, 9, 1)"
   ]
  },
  {
   "cell_type": "code",
   "execution_count": 24,
   "id": "d1346880-d1b8-41aa-b069-60d75f530b06",
   "metadata": {
    "tags": []
   },
   "outputs": [
    {
     "data": {
      "text/plain": [
       "datetime.datetime(2022, 9, 1, 0, 0)"
      ]
     },
     "execution_count": 24,
     "metadata": {},
     "output_type": "execute_result"
    }
   ],
   "source": [
    "timezone.datetime(2022, 9, 1)"
   ]
  },
  {
   "cell_type": "code",
   "execution_count": 31,
   "id": "33dbb1b3-823a-4562-ae83-ff3d562addb8",
   "metadata": {
    "tags": []
   },
   "outputs": [
    {
     "data": {
      "text/plain": [
       "9"
      ]
     },
     "execution_count": 31,
     "metadata": {},
     "output_type": "execute_result"
    }
   ],
   "source": [
    "timezone.datetime(2022, 9, 1).month"
   ]
  },
  {
   "cell_type": "code",
   "execution_count": 27,
   "id": "c34242b8-9a76-4bef-a8cd-73ffadd9b9af",
   "metadata": {
    "tags": []
   },
   "outputs": [
    {
     "ename": "AttributeError",
     "evalue": "module 'django.utils.timezone' has no attribute 'date'",
     "output_type": "error",
     "traceback": [
      "\u001b[0;31m---------------------------------------------------------------------------\u001b[0m",
      "\u001b[0;31mAttributeError\u001b[0m                            Traceback (most recent call last)",
      "Cell \u001b[0;32mIn[27], line 1\u001b[0m\n\u001b[0;32m----> 1\u001b[0m \u001b[43mtimezone\u001b[49m\u001b[38;5;241;43m.\u001b[39;49m\u001b[43mdate\u001b[49m\n",
      "File \u001b[0;32m~/.virtualenvs/homepage/lib/python3.11/site-packages/django/utils/timezone.py:47\u001b[0m, in \u001b[0;36m__getattr__\u001b[0;34m(name)\u001b[0m\n\u001b[1;32m     45\u001b[0m \u001b[38;5;28;01mdef\u001b[39;00m \u001b[38;5;21m__getattr__\u001b[39m(name):\n\u001b[1;32m     46\u001b[0m     \u001b[38;5;28;01mif\u001b[39;00m name \u001b[38;5;241m!=\u001b[39m \u001b[38;5;124m\"\u001b[39m\u001b[38;5;124mutc\u001b[39m\u001b[38;5;124m\"\u001b[39m:\n\u001b[0;32m---> 47\u001b[0m         \u001b[38;5;28;01mraise\u001b[39;00m \u001b[38;5;167;01mAttributeError\u001b[39;00m(\u001b[38;5;124mf\u001b[39m\u001b[38;5;124m\"\u001b[39m\u001b[38;5;124mmodule \u001b[39m\u001b[38;5;132;01m{\u001b[39;00m\u001b[38;5;18m__name__\u001b[39m\u001b[38;5;132;01m!r}\u001b[39;00m\u001b[38;5;124m has no attribute \u001b[39m\u001b[38;5;132;01m{\u001b[39;00mname\u001b[38;5;132;01m!r}\u001b[39;00m\u001b[38;5;124m\"\u001b[39m)\n\u001b[1;32m     49\u001b[0m     warnings\u001b[38;5;241m.\u001b[39mwarn(\n\u001b[1;32m     50\u001b[0m         \u001b[38;5;124m\"\u001b[39m\u001b[38;5;124mThe django.utils.timezone.utc alias is deprecated. \u001b[39m\u001b[38;5;124m\"\u001b[39m\n\u001b[1;32m     51\u001b[0m         \u001b[38;5;124m\"\u001b[39m\u001b[38;5;124mPlease update your code to use datetime.timezone.utc instead.\u001b[39m\u001b[38;5;124m\"\u001b[39m,\n\u001b[1;32m     52\u001b[0m         RemovedInDjango50Warning,\n\u001b[1;32m     53\u001b[0m         stacklevel\u001b[38;5;241m=\u001b[39m\u001b[38;5;241m2\u001b[39m,\n\u001b[1;32m     54\u001b[0m     )\n\u001b[1;32m     56\u001b[0m     \u001b[38;5;28;01mreturn\u001b[39;00m timezone\u001b[38;5;241m.\u001b[39mutc\n",
      "\u001b[0;31mAttributeError\u001b[0m: module 'django.utils.timezone' has no attribute 'date'"
     ]
    }
   ],
   "source": [
    "timezone.date"
   ]
  },
  {
   "cell_type": "code",
   "execution_count": null,
   "id": "2607394d-ba79-4936-b998-f8f95f7983b7",
   "metadata": {},
   "outputs": [],
   "source": []
  }
 ],
 "metadata": {
  "kernelspec": {
   "display_name": "Django Kernel",
   "language": "python",
   "name": "django_extensions"
  },
  "language_info": {
   "codemirror_mode": {
    "name": "ipython",
    "version": 3
   },
   "file_extension": ".py",
   "mimetype": "text/x-python",
   "name": "python",
   "nbconvert_exporter": "python",
   "pygments_lexer": "ipython3",
   "version": "3.11.3"
  }
 },
 "nbformat": 4,
 "nbformat_minor": 5
}
