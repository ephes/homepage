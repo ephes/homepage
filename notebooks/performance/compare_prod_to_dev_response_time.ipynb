{
 "cells": [
  {
   "cell_type": "code",
   "execution_count": 2,
   "id": "fdd1c5e7-035e-4cd4-8d62-b1cd1f875f15",
   "metadata": {
    "tags": []
   },
   "outputs": [],
   "source": [
    "import httpx"
   ]
  },
  {
   "cell_type": "markdown",
   "id": "23bf08ed-145c-4776-9491-fcfde5733388",
   "metadata": {},
   "source": [
    "# Comparing prod and dev\n",
    "\n",
    "Ok, not much difference here."
   ]
  },
  {
   "cell_type": "code",
   "execution_count": 3,
   "id": "f8efc4ff-27e3-45cb-b4cd-241782ad8eea",
   "metadata": {
    "tags": []
   },
   "outputs": [],
   "source": [
    "prod = \"https://wersdoerfer.de\"\n",
    "dev = \"http://localhost:8000\"\n",
    "blog_slug = \"ephes_blog\"\n",
    "# blog_slug = \"das_claas_und_nora_blog\""
   ]
  },
  {
   "cell_type": "code",
   "execution_count": 4,
   "id": "1874c6f6-3bb8-44e6-bf15-a3da908f2e42",
   "metadata": {
    "tags": []
   },
   "outputs": [
    {
     "name": "stdout",
     "output_type": "stream",
     "text": [
      "57756\n",
      "CPU times: user 23 ms, sys: 5.07 ms, total: 28.1 ms\n",
      "Wall time: 219 ms\n"
     ]
    }
   ],
   "source": [
    "%%time\n",
    "r = httpx.get(f\"{prod}/blogs/{blog_slug}/\")\n",
    "r.raise_for_status()\n",
    "content = r.text\n",
    "print(len(content))"
   ]
  },
  {
   "cell_type": "code",
   "execution_count": 5,
   "id": "7f198dd8-d80f-4bbd-a6ca-01859c0241cc",
   "metadata": {
    "tags": []
   },
   "outputs": [
    {
     "name": "stdout",
     "output_type": "stream",
     "text": [
      "67417\n",
      "CPU times: user 18.6 ms, sys: 3.22 ms, total: 21.8 ms\n",
      "Wall time: 229 ms\n"
     ]
    }
   ],
   "source": [
    "%%time\n",
    "r = httpx.get(f\"{dev}/blogs/{blog_slug}/\")\n",
    "r.raise_for_status()\n",
    "content = r.text\n",
    "print(len(content))"
   ]
  },
  {
   "cell_type": "code",
   "execution_count": 6,
   "id": "8795aa0e-28a1-454f-b17c-e9269dc4b132",
   "metadata": {
    "tags": []
   },
   "outputs": [
    {
     "name": "stdout",
     "output_type": "stream",
     "text": [
      "67417\n",
      "CPU times: user 13.5 ms, sys: 2.28 ms, total: 15.8 ms\n",
      "Wall time: 216 ms\n"
     ]
    }
   ],
   "source": [
    "%%time\n",
    "r = httpx.get(f\"{dev}/blogs/{blog_slug}/\")\n",
    "r.raise_for_status()\n",
    "content = r.text\n",
    "print(len(content))"
   ]
  },
  {
   "cell_type": "markdown",
   "id": "dcd68ecd-2a0f-4b93-aa56-06a395eb2d93",
   "metadata": {},
   "source": [
    "# How long does the serve call take?"
   ]
  },
  {
   "cell_type": "code",
   "execution_count": 18,
   "id": "49b79b42-aa90-41fa-ab50-59e095f102ea",
   "metadata": {
    "tags": []
   },
   "outputs": [],
   "source": [
    "from django.test.client import RequestFactory\n",
    "from django_htmx.middleware import HtmxDetails"
   ]
  },
  {
   "cell_type": "code",
   "execution_count": 19,
   "id": "f01ff56c-6063-4012-87f8-524c168c9191",
   "metadata": {
    "tags": []
   },
   "outputs": [],
   "source": [
    "request_factory = RequestFactory()\n",
    "request = request_factory.get(\"/\")\n",
    "request.htmx = HtmxDetails(request)"
   ]
  },
  {
   "cell_type": "code",
   "execution_count": 33,
   "id": "4daac98f-a69e-4284-acd5-ddb51d95943d",
   "metadata": {
    "tags": []
   },
   "outputs": [],
   "source": [
    "blog = Blog.objects.get(slug=\"das_claas_und_nora_blog\")"
   ]
  },
  {
   "cell_type": "code",
   "execution_count": 34,
   "id": "536c7c64-f84d-4b4b-86b1-4d2f1817ffa9",
   "metadata": {
    "tags": []
   },
   "outputs": [
    {
     "name": "stdout",
     "output_type": "stream",
     "text": [
      "24402\n",
      "CPU times: user 64.1 ms, sys: 11.5 ms, total: 75.6 ms\n",
      "Wall time: 93.4 ms\n"
     ]
    }
   ],
   "source": [
    "%%time\n",
    "response = blog.serve(request).render()\n",
    "print(len(response.content))"
   ]
  },
  {
   "cell_type": "code",
   "execution_count": 35,
   "id": "a8d41382-9705-48e7-8f9b-20d2a3eb42c5",
   "metadata": {
    "tags": []
   },
   "outputs": [
    {
     "data": {
      "text/plain": [
       "['das_claas_und_nora_blog', 'ephes_blog']"
      ]
     },
     "execution_count": 35,
     "metadata": {},
     "output_type": "execute_result"
    }
   ],
   "source": [
    "[b.slug for b in Blog.objects.all()]"
   ]
  },
  {
   "cell_type": "code",
   "execution_count": 43,
   "id": "ca7a28e3-9529-42f5-8dce-6463b7fac45b",
   "metadata": {
    "tags": []
   },
   "outputs": [
    {
     "data": {
      "text/plain": [
       "(11558, {'wagtailimages.Rendition': 11558})"
      ]
     },
     "execution_count": 43,
     "metadata": {},
     "output_type": "execute_result"
    }
   ],
   "source": [
    "Rendition.objects.all().delete()"
   ]
  },
  {
   "cell_type": "code",
   "execution_count": 45,
   "id": "f4fb15ba-6779-42c5-a07e-2ab38840cc44",
   "metadata": {
    "tags": []
   },
   "outputs": [],
   "source": [
    "slug = \"weeknotes-2023-07-24\"\n",
    "post = Post.objects.get(slug=slug)"
   ]
  },
  {
   "cell_type": "code",
   "execution_count": 46,
   "id": "e0e12e50-1ece-4cf3-91b8-492f40e0e316",
   "metadata": {
    "tags": []
   },
   "outputs": [],
   "source": [
    "post.sync_media_ids()"
   ]
  },
  {
   "cell_type": "code",
   "execution_count": 47,
   "id": "756bab9c-c03a-4e20-90d1-e8e43282406c",
   "metadata": {
    "tags": []
   },
   "outputs": [
    {
     "data": {
      "text/plain": [
       "{'image': set(), 'video': set(), 'gallery': {228}, 'audio': set()}"
      ]
     },
     "execution_count": 47,
     "metadata": {},
     "output_type": "execute_result"
    }
   ],
   "source": [
    "post.media_ids_from_db"
   ]
  },
  {
   "cell_type": "code",
   "execution_count": 48,
   "id": "ff611144-f629-4fa0-ac3c-364206b1260d",
   "metadata": {
    "tags": []
   },
   "outputs": [
    {
     "data": {
      "text/plain": [
       "{'gallery': {228}}"
      ]
     },
     "execution_count": 48,
     "metadata": {},
     "output_type": "execute_result"
    }
   ],
   "source": [
    "post.media_ids_from_body"
   ]
  },
  {
   "cell_type": "code",
   "execution_count": 50,
   "id": "613c5fdf-17c1-49a8-82f5-8d903a7605ef",
   "metadata": {
    "tags": []
   },
   "outputs": [],
   "source": [
    "[gallery] = post.galleries.all()"
   ]
  },
  {
   "cell_type": "code",
   "execution_count": 51,
   "id": "48f7fd8c-3297-44b9-8a3f-b70cd94ea0ab",
   "metadata": {
    "tags": []
   },
   "outputs": [
    {
     "data": {
      "text/plain": [
       "<Gallery: Gallery object (228)>"
      ]
     },
     "execution_count": 51,
     "metadata": {},
     "output_type": "execute_result"
    }
   ],
   "source": [
    "gallery\n"
   ]
  },
  {
   "cell_type": "code",
   "execution_count": 52,
   "id": "8ed0dcb3-66a3-4e0d-a750-a4f95065e69e",
   "metadata": {
    "tags": []
   },
   "outputs": [
    {
     "data": {
      "text/plain": [
       "<ImageQuerySet [<Image: Marktplatz in Vannes>, <Image: Fachwerkhäuser in Vannes>, <Image: Fensterspiegelung>, <Image: Sonnenstern an der Saline>, <Image: Fernglas zum Beobachten der Vögel an der Saline>, <Image: Salz in der Saline>, <Image: Windrad neben der Saline>, <Image: Ein paar Blumen am Wegesrand>, <Image: Atlantikküste vor Quiberon>, <Image: Steilküste vor Quiberon>, <Image: Strand in Quiberon>, <Image: Am Strand von Mousterian>, <Image: Frau am Strand von Mousterian>]>"
      ]
     },
     "execution_count": 52,
     "metadata": {},
     "output_type": "execute_result"
    }
   ],
   "source": [
    "gallery.images.all()"
   ]
  },
  {
   "cell_type": "code",
   "execution_count": 53,
   "id": "d8939a2b-15ec-4c12-bf72-1a6d69ecc400",
   "metadata": {
    "tags": []
   },
   "outputs": [
    {
     "data": {
      "text/plain": [
       "<ImageQuerySet []>"
      ]
     },
     "execution_count": 53,
     "metadata": {},
     "output_type": "execute_result"
    }
   ],
   "source": [
    "post.images.all()"
   ]
  },
  {
   "cell_type": "code",
   "execution_count": 55,
   "id": "13fc906a-416a-46eb-9efc-1094f4818cfe",
   "metadata": {
    "tags": []
   },
   "outputs": [
    {
     "data": {
      "text/plain": [
       "1734"
      ]
     },
     "execution_count": 55,
     "metadata": {},
     "output_type": "execute_result"
    }
   ],
   "source": [
    "Image.objects.count()"
   ]
  },
  {
   "cell_type": "code",
   "execution_count": null,
   "id": "f44ba9f1-17f4-484f-8d7d-38324c0b64bc",
   "metadata": {},
   "outputs": [],
   "source": []
  },
  {
   "cell_type": "code",
   "execution_count": null,
   "id": "7722200a-cebe-4baf-9e00-5a7c85090ff7",
   "metadata": {},
   "outputs": [],
   "source": []
  },
  {
   "cell_type": "code",
   "execution_count": null,
   "id": "5466a7ee-e567-45f8-a266-2dd9c89794e8",
   "metadata": {},
   "outputs": [],
   "source": []
  },
  {
   "cell_type": "code",
   "execution_count": 1,
   "id": "768cdcb1-3959-4216-a1b0-1ac65a187b83",
   "metadata": {
    "tags": []
   },
   "outputs": [
    {
     "data": {
      "text/plain": [
       "(20, {'sessions.Session': 20})"
      ]
     },
     "execution_count": 1,
     "metadata": {},
     "output_type": "execute_result"
    }
   ],
   "source": [
    "Session.objects.all().delete()"
   ]
  },
  {
   "cell_type": "code",
   "execution_count": null,
   "id": "aa8e1ba8-050d-499e-ac1d-6dfd07c0d5e8",
   "metadata": {},
   "outputs": [],
   "source": []
  }
 ],
 "metadata": {
  "kernelspec": {
   "display_name": "Django Kernel",
   "language": "python",
   "name": "django_extensions"
  },
  "language_info": {
   "codemirror_mode": {
    "name": "ipython",
    "version": 3
   },
   "file_extension": ".py",
   "mimetype": "text/x-python",
   "name": "python",
   "nbconvert_exporter": "python",
   "pygments_lexer": "ipython3",
   "version": "3.12.0"
  }
 },
 "nbformat": 4,
 "nbformat_minor": 5
}
