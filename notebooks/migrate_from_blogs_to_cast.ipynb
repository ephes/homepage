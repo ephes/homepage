{
 "cells": [
  {
   "cell_type": "code",
   "execution_count": 1,
   "metadata": {},
   "outputs": [],
   "source": [
    "%config InlineBackend.figure_format = 'retina'\n",
    "%load_ext autoreload\n",
    "%autoreload 1"
   ]
  },
  {
   "cell_type": "code",
   "execution_count": 2,
   "metadata": {},
   "outputs": [],
   "source": [
    "from cast.models import (\n",
    "    Blog as CastBlog,\n",
    "    Image,\n",
    "    Video,\n",
    "    File,\n",
    "    Post,\n",
    "    Gallery,\n",
    ")"
   ]
  },
  {
   "cell_type": "code",
   "execution_count": 3,
   "metadata": {},
   "outputs": [],
   "source": [
    "from homepage.blogs.models import (\n",
    "    Blog,\n",
    "    BlogImage,\n",
    "    BlogFile,\n",
    "    BlogGallery,\n",
    "    BlogPost,\n",
    "    BlogVideo,\n",
    ")"
   ]
  },
  {
   "cell_type": "markdown",
   "metadata": {},
   "source": [
    "# Migrate Blogs"
   ]
  },
  {
   "cell_type": "code",
   "execution_count": 4,
   "metadata": {},
   "outputs": [
    {
     "data": {
      "text/plain": [
       "(0, {})"
      ]
     },
     "execution_count": 4,
     "metadata": {},
     "output_type": "execute_result"
    }
   ],
   "source": [
    "CastBlog.objects.all().delete()"
   ]
  },
  {
   "cell_type": "code",
   "execution_count": 96,
   "metadata": {},
   "outputs": [
    {
     "name": "stdout",
     "output_type": "stream",
     "text": [
      "CPU times: user 3.35 ms, sys: 1.42 ms, total: 4.77 ms\n",
      "Wall time: 3.58 ms\n"
     ]
    }
   ],
   "source": [
    "%%time\n",
    "blog_attrs = (\"pk\", \"user\", \"title\", \"description\", \"slug\", \"created\", \"modified\")\n",
    "cast_blogs = []\n",
    "for bl in Blog.objects.all():\n",
    "    params = {attr: getattr(bl, attr) for attr in blog_attrs}\n",
    "    cast_blogs.append(CastBlog(**params))"
   ]
  },
  {
   "cell_type": "code",
   "execution_count": 97,
   "metadata": {},
   "outputs": [
    {
     "name": "stdout",
     "output_type": "stream",
     "text": [
      "CPU times: user 1.48 ms, sys: 1.45 ms, total: 2.93 ms\n",
      "Wall time: 40.9 ms\n"
     ]
    }
   ],
   "source": [
    "%%time\n",
    "created = CastBlog.objects.bulk_create(cast_blogs)"
   ]
  },
  {
   "cell_type": "code",
   "execution_count": 98,
   "metadata": {},
   "outputs": [
    {
     "data": {
      "text/plain": [
       "2"
      ]
     },
     "execution_count": 98,
     "metadata": {},
     "output_type": "execute_result"
    }
   ],
   "source": [
    "CastBlog.objects.count()"
   ]
  },
  {
   "cell_type": "markdown",
   "metadata": {},
   "source": [
    "# Migrate Images"
   ]
  },
  {
   "cell_type": "code",
   "execution_count": 99,
   "metadata": {},
   "outputs": [
    {
     "data": {
      "text/plain": [
       "(1077, {'cast.Gallery_images': 507, 'cast.Post_images': 0, 'cast.Image': 570})"
      ]
     },
     "execution_count": 99,
     "metadata": {},
     "output_type": "execute_result"
    }
   ],
   "source": [
    "Image.objects.all().delete()"
   ]
  },
  {
   "cell_type": "code",
   "execution_count": 100,
   "metadata": {},
   "outputs": [
    {
     "name": "stdout",
     "output_type": "stream",
     "text": [
      "CPU times: user 406 ms, sys: 11.8 ms, total: 418 ms\n",
      "Wall time: 495 ms\n"
     ]
    }
   ],
   "source": [
    "%%time\n",
    "image_attrs = (\"pk\", \"original\", \"original_height\", \"original_width\", \"user\", \"created\", \"modified\")\n",
    "cast_images = []\n",
    "for bi in BlogImage.objects.all():\n",
    "    params = {attr: getattr(bi, attr) for attr in image_attrs}\n",
    "    cast_images.append(Image(**params))"
   ]
  },
  {
   "cell_type": "code",
   "execution_count": 101,
   "metadata": {},
   "outputs": [
    {
     "name": "stdout",
     "output_type": "stream",
     "text": [
      "CPU times: user 76.6 ms, sys: 2.93 ms, total: 79.6 ms\n",
      "Wall time: 102 ms\n"
     ]
    }
   ],
   "source": [
    "%%time\n",
    "created = Image.objects.bulk_create(cast_images)"
   ]
  },
  {
   "cell_type": "code",
   "execution_count": 102,
   "metadata": {},
   "outputs": [
    {
     "data": {
      "text/plain": [
       "570"
      ]
     },
     "execution_count": 102,
     "metadata": {},
     "output_type": "execute_result"
    }
   ],
   "source": [
    "Image.objects.count()"
   ]
  },
  {
   "cell_type": "markdown",
   "metadata": {},
   "source": [
    "# Migrate Videos"
   ]
  },
  {
   "cell_type": "code",
   "execution_count": 103,
   "metadata": {},
   "outputs": [
    {
     "data": {
      "text/plain": [
       "(49, {'cast.Post_videos': 0, 'cast.Video': 49})"
      ]
     },
     "execution_count": 103,
     "metadata": {},
     "output_type": "execute_result"
    }
   ],
   "source": [
    "Video.objects.all().delete()"
   ]
  },
  {
   "cell_type": "code",
   "execution_count": 104,
   "metadata": {},
   "outputs": [
    {
     "name": "stdout",
     "output_type": "stream",
     "text": [
      "CPU times: user 41.4 ms, sys: 2.67 ms, total: 44.1 ms\n",
      "Wall time: 50.1 ms\n"
     ]
    }
   ],
   "source": [
    "%%time\n",
    "video_attrs = (\"pk\", \"original\", \"poster\", \"poster_seconds\", \"user\", \"created\", \"modified\")\n",
    "cast_videos = []\n",
    "for bv in BlogVideo.objects.all():\n",
    "    params = {attr: getattr(bv, attr) for attr in video_attrs}\n",
    "    cast_videos.append(Video(**params))"
   ]
  },
  {
   "cell_type": "code",
   "execution_count": 105,
   "metadata": {},
   "outputs": [
    {
     "name": "stdout",
     "output_type": "stream",
     "text": [
      "CPU times: user 4.93 ms, sys: 1.15 ms, total: 6.09 ms\n",
      "Wall time: 86.6 ms\n"
     ]
    }
   ],
   "source": [
    "%%time\n",
    "created = Video.objects.bulk_create(cast_videos)"
   ]
  },
  {
   "cell_type": "code",
   "execution_count": 106,
   "metadata": {},
   "outputs": [
    {
     "data": {
      "text/plain": [
       "49"
      ]
     },
     "execution_count": 106,
     "metadata": {},
     "output_type": "execute_result"
    }
   ],
   "source": [
    "Video.objects.count()"
   ]
  },
  {
   "cell_type": "markdown",
   "metadata": {},
   "source": [
    "# Migrate Files"
   ]
  },
  {
   "cell_type": "code",
   "execution_count": 107,
   "metadata": {},
   "outputs": [
    {
     "data": {
      "text/plain": [
       "(1, {'cast.File': 1})"
      ]
     },
     "execution_count": 107,
     "metadata": {},
     "output_type": "execute_result"
    }
   ],
   "source": [
    "File.objects.all().delete()"
   ]
  },
  {
   "cell_type": "code",
   "execution_count": 108,
   "metadata": {},
   "outputs": [
    {
     "name": "stdout",
     "output_type": "stream",
     "text": [
      "CPU times: user 2.29 ms, sys: 822 µs, total: 3.11 ms\n",
      "Wall time: 2.37 ms\n"
     ]
    }
   ],
   "source": [
    "%%time\n",
    "file_attrs = (\"pk\", \"original\", \"user\", \"created\", \"modified\")\n",
    "cast_files = []\n",
    "for bf in BlogFile.objects.all():\n",
    "    params = {attr: getattr(bf, attr) for attr in file_attrs}\n",
    "    cast_files.append(File(**params))"
   ]
  },
  {
   "cell_type": "code",
   "execution_count": 109,
   "metadata": {},
   "outputs": [
    {
     "name": "stdout",
     "output_type": "stream",
     "text": [
      "CPU times: user 1.17 ms, sys: 1.34 ms, total: 2.51 ms\n",
      "Wall time: 41.3 ms\n"
     ]
    }
   ],
   "source": [
    "%%time\n",
    "created = File.objects.bulk_create(cast_files)"
   ]
  },
  {
   "cell_type": "code",
   "execution_count": 110,
   "metadata": {},
   "outputs": [
    {
     "data": {
      "text/plain": [
       "1"
      ]
     },
     "execution_count": 110,
     "metadata": {},
     "output_type": "execute_result"
    }
   ],
   "source": [
    "File.objects.count()"
   ]
  },
  {
   "cell_type": "markdown",
   "metadata": {},
   "source": [
    "# Migrate Galleries"
   ]
  },
  {
   "cell_type": "code",
   "execution_count": 111,
   "metadata": {},
   "outputs": [
    {
     "data": {
      "text/plain": [
       "(66, {'cast.Gallery_images': 0, 'cast.Post_galleries': 0, 'cast.Gallery': 66})"
      ]
     },
     "execution_count": 111,
     "metadata": {},
     "output_type": "execute_result"
    }
   ],
   "source": [
    "Gallery.objects.all().delete()"
   ]
  },
  {
   "cell_type": "code",
   "execution_count": 112,
   "metadata": {},
   "outputs": [
    {
     "name": "stdout",
     "output_type": "stream",
     "text": [
      "CPU times: user 788 ms, sys: 45 ms, total: 833 ms\n",
      "Wall time: 2.65 s\n"
     ]
    }
   ],
   "source": [
    "%%time\n",
    "gallery_attrs = (\"pk\", \"user\", \"created\", \"modified\")\n",
    "for bg in BlogGallery.objects.all():\n",
    "    params = {attr: getattr(bg, attr) for attr in gallery_attrs}\n",
    "    gallery = Gallery.objects.create(**params)\n",
    "    img_pks = [pk for pk, in bg.images.values_list(\"pk\")]\n",
    "    images = Image.objects.filter(pk__in=img_pks)\n",
    "    for image in images:\n",
    "        gallery.images.add(image)\n",
    "    gallery.save()"
   ]
  },
  {
   "cell_type": "code",
   "execution_count": 113,
   "metadata": {},
   "outputs": [
    {
     "data": {
      "text/plain": [
       "66"
      ]
     },
     "execution_count": 113,
     "metadata": {},
     "output_type": "execute_result"
    }
   ],
   "source": [
    "Gallery.objects.count()"
   ]
  },
  {
   "cell_type": "markdown",
   "metadata": {},
   "source": [
    "# Migrate Posts"
   ]
  },
  {
   "cell_type": "code",
   "execution_count": 203,
   "metadata": {},
   "outputs": [
    {
     "data": {
      "text/plain": [
       "(7,\n",
       " {'cast.Post_images': 4,\n",
       "  'cast.Post_videos': 0,\n",
       "  'cast.Post_galleries': 2,\n",
       "  'cast.Post': 1})"
      ]
     },
     "execution_count": 203,
     "metadata": {},
     "output_type": "execute_result"
    }
   ],
   "source": [
    "Post.objects.all().delete()"
   ]
  },
  {
   "cell_type": "code",
   "execution_count": 204,
   "metadata": {},
   "outputs": [
    {
     "name": "stdout",
     "output_type": "stream",
     "text": [
      "<QuerySet [<Image: blogs_images/originals/fullsizeoutput_3164.jpeg>]>\n",
      "<QuerySet [<Image: blogs_images/originals/fullsizeoutput_3164.jpeg>]>\n",
      "Zu ersten Mal etwas Möhrenbrei\n",
      "<QuerySet []>\n",
      "<QuerySet []>\n",
      "Zu Besuch bei den Grosseltern\n",
      "<QuerySet [<Image: blogs_images/originals/fullsizeoutput_31b9.jpeg>, <Image: blogs_images/originals/fullsizeoutput_31ba.jpeg>]>\n",
      "<QuerySet [<Image: blogs_images/originals/fullsizeoutput_31b9.jpeg>, <Image: blogs_images/originals/fullsizeoutput_31ba.jpeg>]>\n",
      "Tapas mit Heike und Chrissie\n",
      "<QuerySet [<Image: blogs_images/originals/fullsizeoutput_31bd.jpeg>, <Image: blogs_images/originals/fullsizeoutput_31bc.jpeg>]>\n",
      "<QuerySet [<Image: blogs_images/originals/fullsizeoutput_31bd.jpeg>, <Image: blogs_images/originals/fullsizeoutput_31bc.jpeg>]>\n",
      "Martin und Marcus kommen zu Besuch\n",
      "<QuerySet [<Image: blogs_images/originals/fullsizeoutput_328c.jpeg>]>\n",
      "<QuerySet [<Image: blogs_images/originals/fullsizeoutput_328c.jpeg>]>\n",
      "Kaffeetrinken in der Spoerl-Fabrik\n",
      "<QuerySet [<Image: blogs_images/originals/fullsizeoutput_395e.jpeg>]>\n",
      "<QuerySet [<Image: blogs_images/originals/fullsizeoutput_395e.jpeg>]>\n",
      "In alten Möbeln\n",
      "<QuerySet []>\n",
      "<QuerySet []>\n",
      "Die U5 ist überstanden\n",
      "<QuerySet []>\n",
      "<QuerySet []>\n",
      "Caddy vs. nginx\n",
      "<QuerySet []>\n",
      "<QuerySet []>\n",
      "Spieldecke\n",
      "<QuerySet []>\n",
      "<QuerySet []>\n",
      "Schnullerversuch\n",
      "<QuerySet [<Image: blogs_images/originals/B40DA12A-A8C7-4C62-AEEA-9EE70D78B8FE.jpeg>]>\n",
      "<QuerySet [<Image: blogs_images/originals/B40DA12A-A8C7-4C62-AEEA-9EE70D78B8FE.jpeg>]>\n",
      "Tartlets\n",
      "<QuerySet [<Image: blogs_images/originals/Ag7E33vsR6SUEHZGmrbT2A.jpg>]>\n",
      "<QuerySet [<Image: blogs_images/originals/Ag7E33vsR6SUEHZGmrbT2A.jpg>]>\n",
      "Ein Wochenende in Abentheuer\n",
      "<QuerySet []>\n",
      "<QuerySet []>\n",
      "Writing my own blog engine: Serving images\n",
      "<QuerySet []>\n",
      "<QuerySet []>\n",
      "Sofagebrabbel\n",
      "<QuerySet []>\n",
      "<QuerySet []>\n",
      "Claas zieht sich zum ersten Mal am Sofa hoch\n",
      "<QuerySet [<Image: blogs_images/originals/fullsizeoutput_2f16.jpeg>]>\n",
      "<QuerySet [<Image: blogs_images/originals/fullsizeoutput_2f16.jpeg>]>\n",
      "Zum ersten Mal Draussen\n",
      "<QuerySet []>\n",
      "<QuerySet []>\n",
      "Kinderwagen ist ok\n",
      "<QuerySet []>\n",
      "<QuerySet []>\n",
      "Erste Stehversuche\n",
      "<QuerySet []>\n",
      "<QuerySet []>\n",
      "Kurzbesuch bei Uroma Thea\n",
      "<QuerySet [<Image: blogs_images/originals/fullsizeoutput_3065.jpeg>]>\n",
      "<QuerySet [<Image: blogs_images/originals/fullsizeoutput_3065.jpeg>]>\n",
      "Zu Besuch in Meersen bei Onkel Jo\n",
      "<QuerySet [<Image: blogs_images/originals/fullsizeoutput_314b.jpeg>]>\n",
      "<QuerySet [<Image: blogs_images/originals/fullsizeoutput_314b.jpeg>]>\n",
      "Weihnachten 2017\n",
      "<QuerySet [<Image: blogs_images/originals/fullsizeoutput_316a.jpeg>, <Image: blogs_images/originals/fullsizeoutput_317e.jpeg>]>\n",
      "<QuerySet [<Image: blogs_images/originals/fullsizeoutput_316a.jpeg>, <Image: blogs_images/originals/fullsizeoutput_317e.jpeg>]>\n",
      "Mit Katharina bei Sulis\n",
      "<QuerySet []>\n",
      "<QuerySet []>\n",
      "Claas hält sich zum ersten Mal alleine am Tisch fest\n",
      "<QuerySet [<Image: blogs_images/originals/DSC_0439.jpg>]>\n",
      "<QuerySet [<Image: blogs_images/originals/DSC_0439.jpg>]>\n",
      "Letzte Woche im Wildpark Grafenberger Wald\n",
      "<QuerySet [<Image: blogs_images/originals/11681FA3-6CB1-4657-8047-FA60D7117F43.jpeg>]>\n",
      "<QuerySet [<Image: blogs_images/originals/11681FA3-6CB1-4657-8047-FA60D7117F43.jpeg>]>\n",
      "Milchpumpe\n",
      "<QuerySet [<Image: blogs_images/originals/fullsizeoutput_396c.jpeg>]>\n",
      "<QuerySet [<Image: blogs_images/originals/fullsizeoutput_396c.jpeg>]>\n",
      "Apple Support\n",
      "<QuerySet []>\n",
      "<QuerySet []>\n",
      "Guten Morgen\n",
      "<QuerySet []>\n",
      "<QuerySet []>\n",
      "Geräusche von Draußen\n",
      "<QuerySet []>\n",
      "<QuerySet []>\n",
      "Claas rollt herum und setzt sich alleine hin\n",
      "<QuerySet [<Image: blogs_images/originals/IMG_1773.JPG>]>\n",
      "<QuerySet [<Image: blogs_images/originals/IMG_1773.JPG>]>\n",
      "Responsive images\n",
      "<QuerySet []>\n",
      "<QuerySet []>\n",
      "On my way to pycon\n",
      "<QuerySet []>\n",
      "<QuerySet []>\n",
      "Video mit grosser Kamera\n",
      "<QuerySet [<Image: blogs_images/originals/fullsizeoutput_3081.jpeg>]>\n",
      "<QuerySet [<Image: blogs_images/originals/fullsizeoutput_3081.jpeg>]>\n",
      "Besuch von den Kollegen\n",
      "<QuerySet [<Image: blogs_images/originals/ForJ0lyTRubTchU5sWztg.jpg>]>\n",
      "<QuerySet [<Image: blogs_images/originals/ForJ0lyTRubTchU5sWztg.jpg>]>\n",
      "In der Wiege\n",
      "<QuerySet []>\n",
      "<QuerySet []>\n",
      "Wickeltisch Strampelei\n",
      "<QuerySet [<Image: blogs_images/originals/beg9Jp2OTs27yUmyH2CndA.jpg>]>\n",
      "<QuerySet [<Image: blogs_images/originals/beg9Jp2OTs27yUmyH2CndA.jpg>]>\n",
      "Mit Anke bei Sulis\n",
      "<QuerySet [<Image: blogs_images/originals/fullsizeoutput_3129.jpeg>, <Image: blogs_images/originals/H5R9qVhOSo2anuNv3vh54w.jpg>]>\n",
      "<QuerySet [<Image: blogs_images/originals/fullsizeoutput_3129.jpeg>, <Image: blogs_images/originals/H5R9qVhOSo2anuNv3vh54w.jpg>]>\n",
      "Fuchsmütze\n",
      "<QuerySet []>\n",
      "<QuerySet []>\n",
      "Drehende Händchen sind irre lustig\n",
      "<QuerySet []>\n",
      "<QuerySet []>\n",
      "Using a CDN\n",
      "<QuerySet []>\n",
      "<QuerySet []>\n",
      "Scatter plots with density quartiles with python\n",
      "<QuerySet []>\n",
      "<QuerySet []>\n",
      "Babymodellierung\n",
      "<QuerySet [<Image: blogs_images/originals/blogs.png>]>\n",
      "<QuerySet [<Image: blogs_images/originals/blogs.png>]>\n",
      "Writing my own blog engine: The database model\n",
      "<QuerySet []>\n",
      "<QuerySet []>\n",
      "RSS Feeds\n",
      "<QuerySet []>\n",
      "<QuerySet []>\n",
      "Videos\n",
      "<QuerySet []>\n",
      "<QuerySet []>\n",
      "Guten Morgen\n",
      "<QuerySet [<Image: blogs_images/originals/IMG_1814.JPG>]>\n",
      "<QuerySet [<Image: blogs_images/originals/IMG_1814.JPG>]>\n",
      "Claas Uroma Thea\n",
      "<QuerySet []>\n",
      "<QuerySet []>\n",
      "Guten Morgen\n",
      "<QuerySet [<Image: blogs_images/originals/IMG_1790.JPG>]>\n",
      "<QuerySet [<Image: blogs_images/originals/IMG_1790.JPG>]>\n",
      "Omas Geburtstag!\n",
      "<QuerySet [<Image: blogs_images/originals/IMG_1824.JPG>, <Image: blogs_images/originals/fullsizeoutput_2f43.jpeg>]>\n",
      "<QuerySet [<Image: blogs_images/originals/IMG_1824.JPG>, <Image: blogs_images/originals/fullsizeoutput_2f43.jpeg>]>\n",
      "Unterwegs auf der Kö\n",
      "<QuerySet []>\n",
      "<QuerySet []>\n",
      "Ein paar Portraits\n",
      "<QuerySet []>\n",
      "<QuerySet []>\n",
      "Gute Laune am Freitagabend\n",
      "<QuerySet []>\n",
      "<QuerySet []>\n",
      "Brillenprobe\n",
      "<QuerySet []>\n",
      "<QuerySet []>\n",
      "Wiege mit Ball\n",
      "<QuerySet []>\n",
      "<QuerySet []>\n",
      "Claas sitzt zum ersten Mal alleine\n",
      "<QuerySet []>\n",
      "<QuerySet []>\n",
      "Besuch bei Jo in Maastricht\n",
      "<QuerySet []>\n",
      "<QuerySet []>\n",
      "Added rudimentary gallery support\n",
      "<QuerySet []>\n",
      "<QuerySet []>\n",
      "First post\n",
      "<QuerySet [<Image: blogs_images/originals/fullsizeoutput_2f15.jpeg>]>\n",
      "<QuerySet [<Image: blogs_images/originals/fullsizeoutput_2f15.jpeg>]>\n",
      "Getting images to work\n",
      "<QuerySet []>\n",
      "<QuerySet []>\n",
      "Ein paar Fotos und ein längeres Video\n",
      "<QuerySet []>\n",
      "<QuerySet []>\n",
      "Claas dreht sich\n",
      "<QuerySet []>\n",
      "<QuerySet []>\n",
      "Party\n",
      "<QuerySet [<Image: blogs_images/originals/fullsizeoutput_2f9e.jpeg>]>\n",
      "<QuerySet [<Image: blogs_images/originals/fullsizeoutput_2f9e.jpeg>]>\n",
      "Uroma Anita\n",
      "<QuerySet []>\n",
      "<QuerySet []>\n",
      "Geräusche auf dem Wickeltisch\n",
      "<QuerySet []>\n",
      "<QuerySet []>\n",
      "Schmatzen ist toll\n",
      "<QuerySet []>\n",
      "<QuerySet []>\n",
      "Sonntag in Lohmar\n",
      "<QuerySet []>\n",
      "<QuerySet []>\n",
      "Lohmart\n",
      "<QuerySet [<Image: blogs_images/originals/fullsizeoutput_3080.jpeg>]>\n",
      "<QuerySet [<Image: blogs_images/originals/fullsizeoutput_3080.jpeg>]>\n",
      "Claas mit Opa Ingo\n",
      "<QuerySet [<Image: blogs_images/originals/DC6C2E14-C17B-40E9-A083-9A92758BBE06.jpeg>]>\n",
      "<QuerySet [<Image: blogs_images/originals/DC6C2E14-C17B-40E9-A083-9A92758BBE06.jpeg>]>\n",
      "Karl und der Ofen\n",
      "<QuerySet []>\n",
      "<QuerySet []>\n",
      "Einmal lächeln bitte\n",
      "<QuerySet [<Image: blogs_images/originals/DSC_0695.jpg>, <Image: blogs_images/originals/DSC_0664.jpg>, <Image: blogs_images/originals/DSC_0659.jpg>]>\n",
      "<QuerySet [<Image: blogs_images/originals/DSC_0695.jpg>, <Image: blogs_images/originals/DSC_0664.jpg>, <Image: blogs_images/originals/DSC_0659.jpg>]>\n",
      "Onkel Jos Geburtstagsfeier\n",
      "<QuerySet [<Image: blogs_images/originals/fullsizeoutput_2fc8.jpeg>]>\n",
      "<QuerySet [<Image: blogs_images/originals/fullsizeoutput_2fc8.jpeg>]>\n",
      "Onkel Karl\n",
      "<QuerySet [<Image: blogs_images/originals/fullsizeoutput_2f86.jpeg>]>\n",
      "<QuerySet [<Image: blogs_images/originals/fullsizeoutput_2f86.jpeg>]>\n",
      "PyCon 2017\n",
      "<QuerySet []>\n",
      "<QuerySet []>\n",
      "Added pagination\n",
      "<QuerySet []>\n",
      "<QuerySet []>\n",
      "Wickeltisch\n",
      "<QuerySet [<Image: blogs_images/originals/DSC_0364.jpg>]>\n",
      "<QuerySet [<Image: blogs_images/originals/DSC_0364.jpg>]>\n",
      "Dirk und Sophie waren zu Besuch\n",
      "<QuerySet []>\n",
      "<QuerySet []>\n",
      "Die Hochzeitseinladungen für Katharina sehen nicht nur lecker aus\n",
      "<QuerySet [<Image: blogs_images/originals/fullsizeoutput_39e8.jpeg>]>\n",
      "<QuerySet [<Image: blogs_images/originals/fullsizeoutput_39e8.jpeg>]>\n",
      "Luftrollenspielzeug\n",
      "<QuerySet []>\n",
      "<QuerySet []>\n",
      "Ausgiebiges Brabbeln\n",
      "<QuerySet [<Image: blogs_images/originals/eeK81WRQaCrETf1Xz3Ug.jpg>, <Image: blogs_images/originals/NRgRHnUKShCleAHpFOnsg.jpg>]>\n"
     ]
    },
    {
     "name": "stdout",
     "output_type": "stream",
     "text": [
      "<QuerySet [<Image: blogs_images/originals/eeK81WRQaCrETf1Xz3Ug.jpg>, <Image: blogs_images/originals/NRgRHnUKShCleAHpFOnsg.jpg>]>\n",
      "Spaziergang in Düsseldorf\n",
      "<QuerySet []>\n",
      "<QuerySet []>\n",
      "Wintergarten wieder ohne Kissen\n",
      "<QuerySet [<Image: blogs_images/originals/fullsizeoutput_39f4.jpeg>, <Image: blogs_images/originals/fullsizeoutput_39f5.jpeg>]>\n",
      "<QuerySet [<Image: blogs_images/originals/fullsizeoutput_39f4.jpeg>, <Image: blogs_images/originals/fullsizeoutput_39f5.jpeg>]>\n",
      "Karfreitag im Carrotcake\n",
      "<QuerySet []>\n",
      "<QuerySet []>\n",
      "Zum ersten Mal beim Krabbeln gefilmt\n",
      "<QuerySet [<Image: blogs_images/originals/fullsizeoutput_3a38.jpeg>, <Image: blogs_images/originals/fullsizeoutput_3a01.jpeg>, <Image: blogs_images/originals/fullsizeoutput_3a2c.jpeg>, <Image: blogs_images/originals/fullsizeoutput_3a27.jpeg>]>\n",
      "<QuerySet [<Image: blogs_images/originals/fullsizeoutput_3a38.jpeg>, <Image: blogs_images/originals/fullsizeoutput_3a01.jpeg>, <Image: blogs_images/originals/fullsizeoutput_3a2c.jpeg>, <Image: blogs_images/originals/fullsizeoutput_3a27.jpeg>]>\n",
      "Ostern 2018\n",
      "<QuerySet [<Image: blogs_images/originals/fullsizeoutput_3a59.jpeg>]>\n",
      "<QuerySet [<Image: blogs_images/originals/fullsizeoutput_3a59.jpeg>]>\n",
      "Opa Ingos Geburtstag\n",
      "<QuerySet []>\n",
      "<QuerySet []>\n",
      "Die letzte Milch war wohl schlecht\n",
      "<QuerySet [<Image: blogs_images/originals/fullsizeoutput_3a83.jpeg>, <Image: blogs_images/originals/fullsizeoutput_3aa7.jpeg>]>\n",
      "<QuerySet [<Image: blogs_images/originals/fullsizeoutput_3a83.jpeg>, <Image: blogs_images/originals/fullsizeoutput_3aa7.jpeg>]>\n",
      "Spaziergang am Rhein\n",
      "<QuerySet [<Image: blogs_images/originals/fullsizeoutput_3a61.jpeg>, <Image: blogs_images/originals/fullsizeoutput_3a55.jpeg>]>\n",
      "<QuerySet [<Image: blogs_images/originals/fullsizeoutput_3a61.jpeg>, <Image: blogs_images/originals/fullsizeoutput_3a55.jpeg>]>\n",
      "Zu Besuch bei Huan, Volker und Charlie\n",
      "<QuerySet [<Image: blogs_images/originals/fullsizeoutput_344b.jpeg>]>\n",
      "<QuerySet [<Image: blogs_images/originals/fullsizeoutput_344b.jpeg>]>\n",
      "Milchbinge\n",
      "<QuerySet [<Image: blogs_images/originals/fullsizeoutput_3a64.jpeg>, <Image: blogs_images/originals/fullsizeoutput_3a75.jpeg>]>\n",
      "<QuerySet [<Image: blogs_images/originals/fullsizeoutput_3a64.jpeg>, <Image: blogs_images/originals/fullsizeoutput_3a75.jpeg>]>\n",
      "Claas im Kinderkaffee\n",
      "<QuerySet [<Image: blogs_images/originals/fullsizeoutput_3a81.jpeg>]>\n",
      "<QuerySet [<Image: blogs_images/originals/fullsizeoutput_3a81.jpeg>]>\n",
      "Abendlicht\n",
      "<QuerySet [<Image: blogs_images/originals/fullsizeoutput_3abb.jpeg>]>\n",
      "<QuerySet [<Image: blogs_images/originals/fullsizeoutput_3abb.jpeg>]>\n",
      "Der erste warme Frühlingstag\n",
      "<QuerySet [<Image: blogs_images/originals/fullsizeoutput_3abc.jpeg>]>\n",
      "<QuerySet [<Image: blogs_images/originals/fullsizeoutput_3abc.jpeg>]>\n",
      "Kirmes\n",
      "<QuerySet []>\n",
      "<QuerySet []>\n",
      "Die Küchentürschwelle\n",
      "<QuerySet [<Image: blogs_images/originals/fullsizeoutput_3abd.jpeg>]>\n",
      "<QuerySet [<Image: blogs_images/originals/fullsizeoutput_3abd.jpeg>]>\n",
      "Picknick auf dem Spielplatz um die Ecke\n",
      "<QuerySet [<Image: blogs_images/originals/fullsizeoutput_3ac5.jpeg>]>\n",
      "<QuerySet [<Image: blogs_images/originals/fullsizeoutput_3ac5.jpeg>]>\n",
      "Spaziergang\n",
      "<QuerySet [<Image: blogs_images/originals/fullsizeoutput_3ac9.jpeg>, <Image: blogs_images/originals/fullsizeoutput_3aca.jpeg>, <Image: blogs_images/originals/fullsizeoutput_3aeb.jpeg>, <Image: blogs_images/originals/fullsizeoutput_3af5.jpeg>]>\n",
      "<QuerySet [<Image: blogs_images/originals/fullsizeoutput_3ac9.jpeg>, <Image: blogs_images/originals/fullsizeoutput_3aca.jpeg>, <Image: blogs_images/originals/fullsizeoutput_3aeb.jpeg>, <Image: blogs_images/originals/fullsizeoutput_3af5.jpeg>]>\n",
      "Katharinas und Wolfgangs Hochzeit\n",
      "<QuerySet [<Image: blogs_images/originals/fullsizeoutput_3b27.jpeg>]>\n",
      "<QuerySet [<Image: blogs_images/originals/fullsizeoutput_3b27.jpeg>]>\n",
      "Katharinas Geburtstag\n",
      "<QuerySet []>\n",
      "<QuerySet []>\n",
      "Drehknöpfe\n",
      "<QuerySet [<Image: blogs_images/originals/fullsizeoutput_3b38.jpeg>]>\n",
      "<QuerySet [<Image: blogs_images/originals/fullsizeoutput_3b38.jpeg>]>\n",
      "Uroma Anita ist zu Besuch\n",
      "<QuerySet []>\n",
      "<QuerySet []>\n",
      "Es hagelt\n",
      "<QuerySet [<Image: blogs_images/originals/fullsizeoutput_3bf6.jpeg>, <Image: blogs_images/originals/fullsizeoutput_3c48.jpeg>, <Image: blogs_images/originals/fullsizeoutput_3c13.jpeg>]>\n",
      "<QuerySet [<Image: blogs_images/originals/fullsizeoutput_3bf6.jpeg>, <Image: blogs_images/originals/fullsizeoutput_3c48.jpeg>, <Image: blogs_images/originals/fullsizeoutput_3c13.jpeg>]>\n",
      "Pfingsten im Hof\n",
      "<QuerySet []>\n",
      "<QuerySet []>\n",
      "Grillen bei Johannes\n",
      "<QuerySet [<Image: blogs_images/originals/fullsizeoutput_3c4c.jpeg>]>\n",
      "<QuerySet [<Image: blogs_images/originals/fullsizeoutput_3c4c.jpeg>]>\n",
      "Japantag in den Rheinauen\n",
      "<QuerySet []>\n",
      "<QuerySet []>\n",
      "Erste Schritte!\n",
      "<QuerySet [<Image: blogs_images/originals/fullsizeoutput_3b41.jpeg>, <Image: blogs_images/originals/fullsizeoutput_3b3e.jpeg>, <Image: blogs_images/originals/fullsizeoutput_3b45.jpeg>, <Image: blogs_images/originals/fullsizeoutput_3bbd.jpeg>, <Image: blogs_images/originals/fullsizeoutput_3ba2.jpeg>, <Image: blogs_images/originals/fullsizeoutput_3b82.jpeg>, <Image: blogs_images/originals/fullsizeoutput_3b5c.jpeg>, <Image: blogs_images/originals/fullsizeoutput_3b61.jpeg>]>\n",
      "<QuerySet [<Image: blogs_images/originals/fullsizeoutput_3b41.jpeg>, <Image: blogs_images/originals/fullsizeoutput_3b3e.jpeg>, <Image: blogs_images/originals/fullsizeoutput_3b45.jpeg>, <Image: blogs_images/originals/fullsizeoutput_3bbd.jpeg>, <Image: blogs_images/originals/fullsizeoutput_3ba2.jpeg>, <Image: blogs_images/originals/fullsizeoutput_3b82.jpeg>, <Image: blogs_images/originals/fullsizeoutput_3b5c.jpeg>, <Image: blogs_images/originals/fullsizeoutput_3b61.jpeg>]>\n",
      "Geburtstag von Oma Thea und Onkel Volker\n",
      "<QuerySet []>\n",
      "<QuerySet []>\n",
      "Leckere Steine\n",
      "<QuerySet [<Image: blogs_images/originals/fullsizeoutput_3d64.jpeg>]>\n",
      "<QuerySet [<Image: blogs_images/originals/fullsizeoutput_3d64.jpeg>]>\n",
      "Huan und Rolfs Geburtstag\n",
      "<QuerySet [<Image: blogs_images/originals/black-label-2018-47.jpg>]>\n",
      "<QuerySet [<Image: blogs_images/originals/black-label-2018-47.jpg>]>\n",
      "Motorradtreffen\n",
      "<QuerySet [<Image: blogs_images/originals/783568F0-5F5C-4184-99D6-123D089FBEA3.jpeg>, <Image: blogs_images/originals/EF76CA1F-FAB4-4E87-88E8-27B3A1F78E00.jpeg>]>\n",
      "<QuerySet [<Image: blogs_images/originals/783568F0-5F5C-4184-99D6-123D089FBEA3.jpeg>, <Image: blogs_images/originals/EF76CA1F-FAB4-4E87-88E8-27B3A1F78E00.jpeg>]>\n",
      "Sundowner am Rhein\n",
      "<QuerySet [<Image: blogs_images/originals/aquazoo-nordpark-2018-2.jpg>, <Image: blogs_images/originals/aquazoo-nordpark-2018-6.jpg>, <Image: blogs_images/originals/IMG_0889.jpg>]>\n",
      "<QuerySet [<Image: blogs_images/originals/aquazoo-nordpark-2018-2.jpg>, <Image: blogs_images/originals/aquazoo-nordpark-2018-6.jpg>, <Image: blogs_images/originals/IMG_0889.jpg>]>\n",
      "Besuch im Aquazoo und Nordpark\n",
      "<QuerySet [<Image: blogs_images/originals/insel-hombroich-2018-20.jpg>, <Image: blogs_images/originals/insel-hombroich-2018-24.jpg>, <Image: blogs_images/originals/insel-hombroich-2018-35.jpg>, <Image: blogs_images/originals/insel-hombroich-2018-51.jpg>, <Image: blogs_images/originals/9.jpg>]>\n",
      "<QuerySet [<Image: blogs_images/originals/insel-hombroich-2018-20.jpg>, <Image: blogs_images/originals/insel-hombroich-2018-24.jpg>, <Image: blogs_images/originals/insel-hombroich-2018-35.jpg>, <Image: blogs_images/originals/insel-hombroich-2018-51.jpg>, <Image: blogs_images/originals/9.jpg>]>\n",
      "Museumsinsel Hombroich\n",
      "<QuerySet []>\n",
      "<QuerySet []>\n",
      "Claas hat eine neue Fortbewegungsmethode entdeckt\n",
      "<QuerySet [<Image: blogs_images/originals/fullsizeoutput_3d75.jpeg>]>\n",
      "<QuerySet [<Image: blogs_images/originals/fullsizeoutput_3d75.jpeg>]>\n",
      "Hoffentlich ist peak Matscherei bald erreicht\n",
      "<QuerySet [<Image: blogs_images/originals/schloss-dyck-2018-7.jpg>, <Image: blogs_images/originals/schloss-dyck-2018-13.jpg>, <Image: blogs_images/originals/schloss-dyck-2018-16.jpg>]>\n",
      "<QuerySet [<Image: blogs_images/originals/schloss-dyck-2018-7.jpg>, <Image: blogs_images/originals/schloss-dyck-2018-13.jpg>, <Image: blogs_images/originals/schloss-dyck-2018-16.jpg>]>\n",
      "Besuch auf Schloß Dyck\n",
      "<QuerySet [<Image: blogs_images/originals/fullsizeoutput_3dd6.jpeg>]>\n",
      "<QuerySet [<Image: blogs_images/originals/fullsizeoutput_3dd6.jpeg>]>\n",
      "Flashback Frühling\n"
     ]
    },
    {
     "name": "stdout",
     "output_type": "stream",
     "text": [
      "<QuerySet [<Image: blogs_images/originals/fullsizeoutput_3e1f.jpeg>]>\n",
      "<QuerySet [<Image: blogs_images/originals/fullsizeoutput_3e1f.jpeg>]>\n",
      "Claas erste Demo\n",
      "<QuerySet [<Image: blogs_images/originals/Industriepark-Duisburg-Juli-2018-3.jpg>, <Image: blogs_images/originals/Industriepark-Duisburg-Juli-2018-7.jpg>, <Image: blogs_images/originals/Industriepark-Duisburg-Juli-2018-11.jpg>, <Image: blogs_images/originals/Strandbar_Duisburg.jpg>]>\n",
      "<QuerySet [<Image: blogs_images/originals/Industriepark-Duisburg-Juli-2018-3.jpg>, <Image: blogs_images/originals/Industriepark-Duisburg-Juli-2018-7.jpg>, <Image: blogs_images/originals/Industriepark-Duisburg-Juli-2018-11.jpg>, <Image: blogs_images/originals/Strandbar_Duisburg.jpg>]>\n",
      "Picknick vor Hochofen 5\n",
      "CPU times: user 1.88 s, sys: 154 ms, total: 2.03 s\n",
      "Wall time: 7.23 s\n"
     ]
    }
   ],
   "source": [
    "%%time\n",
    "post_attrs = (\"pk\", \"author\", \"title\", \"pub_date\", \"visible_date\",\n",
    "              \"content\", \"slug\", \"created\", \"modified\")\n",
    "for bp in BlogPost.objects.all():\n",
    "    params = {attr: getattr(bp, attr) for attr in post_attrs}\n",
    "    params[\"content\"] = (params[\"content\"].replace(\"blog_image\", \"image\")\n",
    "                                          .replace(\"blog_gallery\", \"gallery\")\n",
    "                                          .replace(\"blog_video\", \"video\"))\n",
    "    params[\"blog\"] = CastBlog.objects.get(pk=bp.blog.pk)\n",
    "    post = Post.objects.create(**params)\n",
    "    \n",
    "    img_pks = [pk for pk, in bp.images.values_list(\"pk\")]\n",
    "    images = Image.objects.filter(pk__in=img_pks)\n",
    "    print(images)\n",
    "    for image in images:\n",
    "        post.images.add(image)\n",
    "    print(post.images.all())\n",
    "    print(post)\n",
    "    #post.save()\n",
    "    #print(post.images.all())\n",
    "    video_pks = [pk for pk, in bp.videos.values_list(\"pk\")]\n",
    "    videos = Video.objects.filter(pk__in=video_pks)\n",
    "    for video in videos:\n",
    "        post.videos.add(video)\n",
    "\n",
    "    gallery_pks = [pk for pk, in bp.galleries.values_list(\"pk\")]\n",
    "    galleries = Gallery.objects.filter(pk__in=gallery_pks)\n",
    "    for gallery in galleries:\n",
    "        post.galleries.add(gallery)\n",
    "    \n",
    "    #post.save()"
   ]
  },
  {
   "cell_type": "code",
   "execution_count": 196,
   "metadata": {},
   "outputs": [
    {
     "data": {
      "text/plain": [
       "<QuerySet [<Image: blogs_images/originals/Industriepark-Duisburg-Juli-2018-3.jpg>, <Image: blogs_images/originals/Industriepark-Duisburg-Juli-2018-7.jpg>, <Image: blogs_images/originals/Industriepark-Duisburg-Juli-2018-11.jpg>, <Image: blogs_images/originals/Strandbar_Duisburg.jpg>]>"
      ]
     },
     "execution_count": 196,
     "metadata": {},
     "output_type": "execute_result"
    }
   ],
   "source": [
    "post.images.all()"
   ]
  },
  {
   "cell_type": "code",
   "execution_count": 146,
   "metadata": {},
   "outputs": [
    {
     "data": {
      "text/plain": [
       "117"
      ]
     },
     "execution_count": 146,
     "metadata": {},
     "output_type": "execute_result"
    }
   ],
   "source": [
    "Post.objects.count()"
   ]
  },
  {
   "cell_type": "code",
   "execution_count": 121,
   "metadata": {},
   "outputs": [],
   "source": [
    "post = Post.objects.get(slug=\"pycon_2017\")"
   ]
  },
  {
   "cell_type": "code",
   "execution_count": 140,
   "metadata": {},
   "outputs": [],
   "source": [
    "foo = post.content"
   ]
  },
  {
   "cell_type": "code",
   "execution_count": 132,
   "metadata": {},
   "outputs": [
    {
     "data": {
      "text/plain": [
       "27"
      ]
     },
     "execution_count": 132,
     "metadata": {},
     "output_type": "execute_result"
    }
   ],
   "source": [
    "post.pk"
   ]
  },
  {
   "cell_type": "code",
   "execution_count": 131,
   "metadata": {},
   "outputs": [
    {
     "ename": "AttributeError",
     "evalue": "'BlogPost' object has no attribute 'description'",
     "output_type": "error",
     "traceback": [
      "\u001b[0;31m---------------------------------------------------------------------------\u001b[0m",
      "\u001b[0;31mAttributeError\u001b[0m                            Traceback (most recent call last)",
      "\u001b[0;32m<ipython-input-131-817da19a8813>\u001b[0m in \u001b[0;36m<module>\u001b[0;34m()\u001b[0m\n\u001b[0;32m----> 1\u001b[0;31m \u001b[0mBlogPost\u001b[0m\u001b[0;34m.\u001b[0m\u001b[0mobjects\u001b[0m\u001b[0;34m.\u001b[0m\u001b[0mall\u001b[0m\u001b[0;34m(\u001b[0m\u001b[0;34m)\u001b[0m\u001b[0;34m[\u001b[0m\u001b[0;36m1\u001b[0m\u001b[0;34m]\u001b[0m\u001b[0;34m.\u001b[0m\u001b[0mdescription\u001b[0m\u001b[0;34m\u001b[0m\u001b[0m\n\u001b[0m",
      "\u001b[0;31mAttributeError\u001b[0m: 'BlogPost' object has no attribute 'description'"
     ]
    }
   ],
   "source": [
    "BlogPost.objects.all()[1].description"
   ]
  },
  {
   "cell_type": "code",
   "execution_count": 133,
   "metadata": {},
   "outputs": [],
   "source": [
    "bp = BlogPost.objects.get(pk=27)"
   ]
  },
  {
   "cell_type": "code",
   "execution_count": 135,
   "metadata": {},
   "outputs": [
    {
     "data": {
      "text/plain": [
       "'<a href=\"https://de.pycon.org/\">PyCon 2017</a>&nbsp;is over now and I liked it a lot. It was a really well organized event and the talks were great. I already knew the <a href=\"http://zkm.de/en\">conference location</a>&nbsp;because I lived only a few hundred meters away for a long time. So it didn&#39;t came as a surprise for me that it was awesome.<br />\\r\\n<br />\\r\\n{% blog_gallery 8 %}<br />\\r\\n<br />\\r\\nI don&#39;t attend conferences like this because of the talks, I have to say. But I always get a strange boost in motivation from events like this - I don&#39;t now why, but I suspect it has something to do with talking to a lot of likeminded people. Talking to my former collegues from&nbsp;<a href=\"https://www.billiger.de/\">billiger.de</a>&nbsp;for example was a lot of fun. They did a lot of cool things since I moved on like having a new search service in pure python or migrating from relational databases to redis and now to elasticsearch for document storage.<br />\\r\\n<br />\\r\\n{% blog_gallery 10 %}<br />\\r\\n<br />\\r\\nAt the social event we had some concerns that the beer supply could become a problem, since nearly all of the attendees showed up. Turned out that our worries were exaggerated.<br />\\r\\n<br />\\r\\n{% blog_image 40 %}<br />\\r\\n<br />\\r\\nSince I know Karlsruhe well, I did also met nice people that didn&#39;t have anything to do with pycon.<br />\\r\\n<br />\\r\\n{% blog_gallery 11 %}<br />\\r\\n<br />\\r\\nThere was a funny installation at one of the exhibitions at the zkm.<br />\\r\\n<br />\\r\\n{% blog_video 9 %}'"
      ]
     },
     "execution_count": 135,
     "metadata": {},
     "output_type": "execute_result"
    }
   ],
   "source": [
    "bp.content"
   ]
  },
  {
   "cell_type": "code",
   "execution_count": 136,
   "metadata": {},
   "outputs": [
    {
     "ename": "AttributeError",
     "evalue": "'BlogPost' object has no attribute 'description'",
     "output_type": "error",
     "traceback": [
      "\u001b[0;31m---------------------------------------------------------------------------\u001b[0m",
      "\u001b[0;31mAttributeError\u001b[0m                            Traceback (most recent call last)",
      "\u001b[0;32m<ipython-input-136-bf4fcc514fde>\u001b[0m in \u001b[0;36m<module>\u001b[0;34m()\u001b[0m\n\u001b[0;32m----> 1\u001b[0;31m \u001b[0mbp\u001b[0m\u001b[0;34m.\u001b[0m\u001b[0mdescription\u001b[0m\u001b[0;34m\u001b[0m\u001b[0m\n\u001b[0m",
      "\u001b[0;31mAttributeError\u001b[0m: 'BlogPost' object has no attribute 'description'"
     ]
    }
   ],
   "source": [
    "bp.description"
   ]
  },
  {
   "cell_type": "code",
   "execution_count": 137,
   "metadata": {},
   "outputs": [
    {
     "data": {
      "text/plain": [
       "0"
      ]
     },
     "execution_count": 137,
     "metadata": {},
     "output_type": "execute_result"
    }
   ],
   "source": [
    "Post.objects.count()"
   ]
  },
  {
   "cell_type": "code",
   "execution_count": 143,
   "metadata": {},
   "outputs": [
    {
     "data": {
      "text/plain": [
       "'<h3>Besuch im Landschaftspark Duisburg-Nord</h3>\\r\\n{% image 529 %}<br />\\r\\n{% image 537 %}<br />\\r\\n<br />\\r\\nAuf dem riesigen Gel&auml;nde des ehemaligen H&uuml;ttenwerks in Duisburg gibt es wirklich viel zu entdecken. Es wird sicher spannend in der Anlage herumklettern zu k&ouml;nnen, wenn Claas ein paar Jahre &auml;lter ist. Aber auch zu ebener Erde ist der Anblick der vor sich hinrostenden Hoch&ouml;fen und der Bunkerg&auml;rten einen Besuch wert. Die &quot;Alte Emscher&quot; flie&szlig;t durch das Gel&auml;nde und in den ehemaligen Absetzbecken wuchern die Seerosen. Kurz, dieser Park hat uns nicht zum letzten Mal gesehen.&nbsp;<br />\\r\\n{% gallery 76 %}<br />\\r\\nNach unserem Picknick vor Hochofen 5, haben wir mit Claas einige der oberen Steige zu Fu&szlig; erkundet. Daf&uuml;r, dass er noch nicht sehr lange l&auml;uft hat er die langen Wege wirklich super gemeistert. V&ouml;llig angstfrei &uuml;ber Gitterbr&uuml;cken und so begeistert von den Bodenwellen auf einem offenen Platz, dass wir da f&uuml;nf Minuten bleiben mussten.<br />\\r\\n<br />\\r\\nUnd es gab so herrlich viel Dreck!<br />\\r\\n<br />\\r\\n{% image 533 %}<br />\\r\\n{% gallery 77 %}<br />\\r\\nIn ein paar Jahren ist dann auch der riesige Klettergarten oder Tauchen im Gasometer interessant. Hm, vielleicht lassen sich Onkel und Tante ja schon fr&uuml;her daf&uuml;r begeistern :).<br />\\r\\nGanz zum Schluss haben wir noch die F&uuml;&szlig;e in den feinen weichen Sand der Strandbar anl&auml;sslich des Sommerkinos in der alten Gie&szlig;halle versenkt. Claas hatte seine riesen Buddelkiste um ihn auch wirklich m&uuml;de mit nach Haus zu nehemen und alle ein k&uuml;hles Getr&auml;nk zum Abschluss &ndash; was will man mehr.<br />\\r\\n<br />\\r\\n{% image 566 %}'"
      ]
     },
     "execution_count": 143,
     "metadata": {},
     "output_type": "execute_result"
    }
   ],
   "source": [
    "foo.replace(\"blog_image\", \"image\").replace(\"blog_gallery\", \"gallery\").replace()"
   ]
  },
  {
   "cell_type": "code",
   "execution_count": 147,
   "metadata": {},
   "outputs": [
    {
     "data": {
      "text/plain": [
       "<Image: blogs_images/originals/Industriepark-Duisburg-Juli-2018-1.jpg>"
      ]
     },
     "execution_count": 147,
     "metadata": {},
     "output_type": "execute_result"
    }
   ],
   "source": [
    "Image.objects.get(pk=527)"
   ]
  },
  {
   "cell_type": "code",
   "execution_count": 202,
   "metadata": {},
   "outputs": [
    {
     "data": {
      "text/plain": [
       "<QuerySet [<Image: blogs_images/originals/Industriepark-Duisburg-Juli-2018-3.jpg>, <Image: blogs_images/originals/Industriepark-Duisburg-Juli-2018-7.jpg>, <Image: blogs_images/originals/Industriepark-Duisburg-Juli-2018-11.jpg>, <Image: blogs_images/originals/Strandbar_Duisburg.jpg>]>"
      ]
     },
     "execution_count": 202,
     "metadata": {},
     "output_type": "execute_result"
    }
   ],
   "source": [
    "Post.objects.get(pk=124).images.all()"
   ]
  },
  {
   "cell_type": "code",
   "execution_count": 197,
   "metadata": {},
   "outputs": [],
   "source": [
    "bp = BlogPost.objects.get(pk=124)"
   ]
  },
  {
   "cell_type": "code",
   "execution_count": 153,
   "metadata": {},
   "outputs": [],
   "source": [
    "img_pks = [pk for pk, in bp.images.values_list(\"pk\")]"
   ]
  },
  {
   "cell_type": "code",
   "execution_count": 154,
   "metadata": {},
   "outputs": [
    {
     "data": {
      "text/plain": [
       "[529, 533, 537, 566]"
      ]
     },
     "execution_count": 154,
     "metadata": {},
     "output_type": "execute_result"
    }
   ],
   "source": [
    "img_pks"
   ]
  },
  {
   "cell_type": "code",
   "execution_count": 155,
   "metadata": {},
   "outputs": [],
   "source": [
    "images = Image.objects.filter(pk__in=img_pks)"
   ]
  },
  {
   "cell_type": "code",
   "execution_count": 156,
   "metadata": {},
   "outputs": [
    {
     "data": {
      "text/plain": [
       "<QuerySet [<Image: blogs_images/originals/Industriepark-Duisburg-Juli-2018-3.jpg>, <Image: blogs_images/originals/Industriepark-Duisburg-Juli-2018-7.jpg>, <Image: blogs_images/originals/Industriepark-Duisburg-Juli-2018-11.jpg>, <Image: blogs_images/originals/Strandbar_Duisburg.jpg>]>"
      ]
     },
     "execution_count": 156,
     "metadata": {},
     "output_type": "execute_result"
    }
   ],
   "source": [
    "images"
   ]
  },
  {
   "cell_type": "code",
   "execution_count": 205,
   "metadata": {},
   "outputs": [],
   "source": [
    "post = Post.objects.get(pk=124)"
   ]
  },
  {
   "cell_type": "code",
   "execution_count": 159,
   "metadata": {},
   "outputs": [],
   "source": [
    "for image in images:\n",
    "    post.images.add(image)"
   ]
  },
  {
   "cell_type": "code",
   "execution_count": 160,
   "metadata": {},
   "outputs": [
    {
     "data": {
      "text/plain": [
       "<QuerySet [<Image: blogs_images/originals/Industriepark-Duisburg-Juli-2018-3.jpg>, <Image: blogs_images/originals/Industriepark-Duisburg-Juli-2018-7.jpg>, <Image: blogs_images/originals/Industriepark-Duisburg-Juli-2018-11.jpg>, <Image: blogs_images/originals/Strandbar_Duisburg.jpg>]>"
      ]
     },
     "execution_count": 160,
     "metadata": {},
     "output_type": "execute_result"
    }
   ],
   "source": [
    "post.images.all()"
   ]
  },
  {
   "cell_type": "code",
   "execution_count": 206,
   "metadata": {},
   "outputs": [
    {
     "data": {
      "text/plain": [
       "<QuerySet [<Image: blogs_images/originals/Industriepark-Duisburg-Juli-2018-3.jpg>, <Image: blogs_images/originals/Industriepark-Duisburg-Juli-2018-7.jpg>, <Image: blogs_images/originals/Industriepark-Duisburg-Juli-2018-11.jpg>, <Image: blogs_images/originals/Strandbar_Duisburg.jpg>]>"
      ]
     },
     "execution_count": 206,
     "metadata": {},
     "output_type": "execute_result"
    }
   ],
   "source": [
    "post.images.all()"
   ]
  },
  {
   "cell_type": "code",
   "execution_count": 207,
   "metadata": {},
   "outputs": [
    {
     "data": {
      "text/plain": [
       "(datetime.datetime(2018, 8, 3, 17, 30, 54, 936869, tzinfo=<UTC>),\n",
       " datetime.datetime(2018, 11, 6, 15, 32, 5, 194251, tzinfo=<UTC>))"
      ]
     },
     "execution_count": 207,
     "metadata": {},
     "output_type": "execute_result"
    }
   ],
   "source": [
    "post.created, post.modified"
   ]
  },
  {
   "cell_type": "code",
   "execution_count": 213,
   "metadata": {},
   "outputs": [],
   "source": [
    "video = Video.objects.all().order_by(\"-created\")[0]"
   ]
  },
  {
   "cell_type": "code",
   "execution_count": 214,
   "metadata": {},
   "outputs": [
    {
     "data": {
      "text/plain": [
       "datetime.datetime(2018, 8, 4, 8, 54, 29, 253890, tzinfo=<UTC>)"
      ]
     },
     "execution_count": 214,
     "metadata": {},
     "output_type": "execute_result"
    }
   ],
   "source": [
    "video.created"
   ]
  },
  {
   "cell_type": "code",
   "execution_count": 219,
   "metadata": {},
   "outputs": [
    {
     "data": {
      "text/plain": [
       "[1,\n",
       " 2,\n",
       " 3,\n",
       " 4,\n",
       " 6,\n",
       " 7,\n",
       " 8,\n",
       " 9,\n",
       " 10,\n",
       " 11,\n",
       " 12,\n",
       " 13,\n",
       " 16,\n",
       " 17,\n",
       " 18,\n",
       " 19,\n",
       " 20,\n",
       " 21,\n",
       " 22,\n",
       " 23,\n",
       " 24,\n",
       " 25,\n",
       " 27,\n",
       " 28,\n",
       " 29,\n",
       " 30,\n",
       " 31,\n",
       " 32,\n",
       " 33,\n",
       " 34,\n",
       " 35,\n",
       " 36,\n",
       " 37,\n",
       " 38,\n",
       " 39,\n",
       " 40,\n",
       " 41,\n",
       " 42,\n",
       " 43,\n",
       " 44,\n",
       " 45,\n",
       " 46,\n",
       " 47,\n",
       " 48,\n",
       " 49,\n",
       " 50,\n",
       " 51,\n",
       " 52,\n",
       " 53,\n",
       " 54,\n",
       " 55,\n",
       " 56,\n",
       " 57,\n",
       " 58,\n",
       " 59,\n",
       " 60,\n",
       " 61,\n",
       " 62,\n",
       " 63,\n",
       " 64,\n",
       " 65,\n",
       " 66,\n",
       " 67,\n",
       " 68,\n",
       " 69,\n",
       " 70,\n",
       " 71,\n",
       " 72,\n",
       " 73,\n",
       " 74,\n",
       " 75,\n",
       " 76,\n",
       " 77,\n",
       " 78,\n",
       " 79,\n",
       " 81,\n",
       " 82,\n",
       " 83,\n",
       " 84,\n",
       " 85,\n",
       " 86,\n",
       " 87,\n",
       " 88,\n",
       " 89,\n",
       " 90,\n",
       " 91,\n",
       " 92,\n",
       " 93,\n",
       " 94,\n",
       " 95,\n",
       " 96,\n",
       " 97,\n",
       " 98,\n",
       " 99,\n",
       " 100,\n",
       " 101,\n",
       " 102,\n",
       " 103,\n",
       " 104,\n",
       " 105,\n",
       " 106,\n",
       " 107,\n",
       " 108,\n",
       " 109,\n",
       " 110,\n",
       " 111,\n",
       " 112,\n",
       " 113,\n",
       " 114,\n",
       " 115,\n",
       " 116,\n",
       " 117,\n",
       " 118,\n",
       " 119,\n",
       " 120,\n",
       " 121,\n",
       " 124,\n",
       " 126]"
      ]
     },
     "execution_count": 219,
     "metadata": {},
     "output_type": "execute_result"
    }
   ],
   "source": [
    "sorted([pk for pk, in Post.objects.values_list(\"pk\")])"
   ]
  },
  {
   "cell_type": "code",
   "execution_count": 224,
   "metadata": {},
   "outputs": [
    {
     "ename": "DoesNotExist",
     "evalue": "Video matching query does not exist.",
     "output_type": "error",
     "traceback": [
      "\u001b[0;31m---------------------------------------------------------------------------\u001b[0m",
      "\u001b[0;31mDoesNotExist\u001b[0m                              Traceback (most recent call last)",
      "\u001b[0;32m<ipython-input-224-f73bba3b6de2>\u001b[0m in \u001b[0;36m<module>\u001b[0;34m()\u001b[0m\n\u001b[0;32m----> 1\u001b[0;31m \u001b[0mVideo\u001b[0m\u001b[0;34m.\u001b[0m\u001b[0mobjects\u001b[0m\u001b[0;34m.\u001b[0m\u001b[0mget\u001b[0m\u001b[0;34m(\u001b[0m\u001b[0mpk\u001b[0m\u001b[0;34m=\u001b[0m\u001b[0;36m59\u001b[0m\u001b[0;34m)\u001b[0m\u001b[0;34m\u001b[0m\u001b[0m\n\u001b[0m",
      "\u001b[0;32m~/.virtualenvs/homepage/lib/python3.7/site-packages/django/db/models/manager.py\u001b[0m in \u001b[0;36mmanager_method\u001b[0;34m(self, *args, **kwargs)\u001b[0m\n\u001b[1;32m     80\u001b[0m         \u001b[0;32mdef\u001b[0m \u001b[0mcreate_method\u001b[0m\u001b[0;34m(\u001b[0m\u001b[0mname\u001b[0m\u001b[0;34m,\u001b[0m \u001b[0mmethod\u001b[0m\u001b[0;34m)\u001b[0m\u001b[0;34m:\u001b[0m\u001b[0;34m\u001b[0m\u001b[0m\n\u001b[1;32m     81\u001b[0m             \u001b[0;32mdef\u001b[0m \u001b[0mmanager_method\u001b[0m\u001b[0;34m(\u001b[0m\u001b[0mself\u001b[0m\u001b[0;34m,\u001b[0m \u001b[0;34m*\u001b[0m\u001b[0margs\u001b[0m\u001b[0;34m,\u001b[0m \u001b[0;34m**\u001b[0m\u001b[0mkwargs\u001b[0m\u001b[0;34m)\u001b[0m\u001b[0;34m:\u001b[0m\u001b[0;34m\u001b[0m\u001b[0m\n\u001b[0;32m---> 82\u001b[0;31m                 \u001b[0;32mreturn\u001b[0m \u001b[0mgetattr\u001b[0m\u001b[0;34m(\u001b[0m\u001b[0mself\u001b[0m\u001b[0;34m.\u001b[0m\u001b[0mget_queryset\u001b[0m\u001b[0;34m(\u001b[0m\u001b[0;34m)\u001b[0m\u001b[0;34m,\u001b[0m \u001b[0mname\u001b[0m\u001b[0;34m)\u001b[0m\u001b[0;34m(\u001b[0m\u001b[0;34m*\u001b[0m\u001b[0margs\u001b[0m\u001b[0;34m,\u001b[0m \u001b[0;34m**\u001b[0m\u001b[0mkwargs\u001b[0m\u001b[0;34m)\u001b[0m\u001b[0;34m\u001b[0m\u001b[0m\n\u001b[0m\u001b[1;32m     83\u001b[0m             \u001b[0mmanager_method\u001b[0m\u001b[0;34m.\u001b[0m\u001b[0m__name__\u001b[0m \u001b[0;34m=\u001b[0m \u001b[0mmethod\u001b[0m\u001b[0;34m.\u001b[0m\u001b[0m__name__\u001b[0m\u001b[0;34m\u001b[0m\u001b[0m\n\u001b[1;32m     84\u001b[0m             \u001b[0mmanager_method\u001b[0m\u001b[0;34m.\u001b[0m\u001b[0m__doc__\u001b[0m \u001b[0;34m=\u001b[0m \u001b[0mmethod\u001b[0m\u001b[0;34m.\u001b[0m\u001b[0m__doc__\u001b[0m\u001b[0;34m\u001b[0m\u001b[0m\n",
      "\u001b[0;32m~/.virtualenvs/homepage/lib/python3.7/site-packages/django/db/models/query.py\u001b[0m in \u001b[0;36mget\u001b[0;34m(self, *args, **kwargs)\u001b[0m\n\u001b[1;32m    397\u001b[0m             raise self.model.DoesNotExist(\n\u001b[1;32m    398\u001b[0m                 \u001b[0;34m\"%s matching query does not exist.\"\u001b[0m \u001b[0;34m%\u001b[0m\u001b[0;34m\u001b[0m\u001b[0m\n\u001b[0;32m--> 399\u001b[0;31m                 \u001b[0mself\u001b[0m\u001b[0;34m.\u001b[0m\u001b[0mmodel\u001b[0m\u001b[0;34m.\u001b[0m\u001b[0m_meta\u001b[0m\u001b[0;34m.\u001b[0m\u001b[0mobject_name\u001b[0m\u001b[0;34m\u001b[0m\u001b[0m\n\u001b[0m\u001b[1;32m    400\u001b[0m             )\n\u001b[1;32m    401\u001b[0m         raise self.model.MultipleObjectsReturned(\n",
      "\u001b[0;31mDoesNotExist\u001b[0m: Video matching query does not exist."
     ]
    }
   ],
   "source": [
    "Video.objects.get(pk=59)"
   ]
  },
  {
   "cell_type": "code",
   "execution_count": 232,
   "metadata": {},
   "outputs": [
    {
     "data": {
      "text/plain": [
       "60"
      ]
     },
     "execution_count": 232,
     "metadata": {},
     "output_type": "execute_result"
    }
   ],
   "source": [
    "max([pk for pk, in Video.objects.values_list(\"pk\")])"
   ]
  },
  {
   "cell_type": "code",
   "execution_count": 226,
   "metadata": {},
   "outputs": [
    {
     "data": {
      "text/plain": [
       "59"
      ]
     },
     "execution_count": 226,
     "metadata": {},
     "output_type": "execute_result"
    }
   ],
   "source": [
    "max([pk for pk, in BlogVideo.objects.values_list(\"pk\")])"
   ]
  },
  {
   "cell_type": "code",
   "execution_count": 4,
   "metadata": {},
   "outputs": [],
   "source": [
    "video = BlogVideo.objects.all().order_by(\"-created\")[0]"
   ]
  },
  {
   "cell_type": "code",
   "execution_count": 5,
   "metadata": {},
   "outputs": [
    {
     "data": {
      "text/plain": [
       "<ImageFieldFile: blogs_videos/poster/poster_s77g5s3o.jpg>"
      ]
     },
     "execution_count": 5,
     "metadata": {},
     "output_type": "execute_result"
    },
    {
     "data": {
      "text/plain": [
       "<ImageFieldFile: blogs_videos/poster/poster_s77g5s3o.jpg>"
      ]
     },
     "execution_count": 5,
     "metadata": {},
     "output_type": "execute_result"
    }
   ],
   "source": [
    "video.poster"
   ]
  },
  {
   "cell_type": "code",
   "execution_count": 6,
   "metadata": {},
   "outputs": [
    {
     "data": {
      "text/plain": [
       "59"
      ]
     },
     "execution_count": 6,
     "metadata": {},
     "output_type": "execute_result"
    },
    {
     "data": {
      "text/plain": [
       "59"
      ]
     },
     "execution_count": 6,
     "metadata": {},
     "output_type": "execute_result"
    }
   ],
   "source": [
    "video.pk"
   ]
  },
  {
   "cell_type": "code",
   "execution_count": 7,
   "metadata": {},
   "outputs": [],
   "source": [
    "video = Video.objects.all().order_by(\"-created\")[0]"
   ]
  },
  {
   "cell_type": "code",
   "execution_count": 8,
   "metadata": {},
   "outputs": [
    {
     "data": {
      "text/plain": [
       "60"
      ]
     },
     "execution_count": 8,
     "metadata": {},
     "output_type": "execute_result"
    },
    {
     "data": {
      "text/plain": [
       "60"
      ]
     },
     "execution_count": 8,
     "metadata": {},
     "output_type": "execute_result"
    }
   ],
   "source": [
    "video.pk"
   ]
  },
  {
   "cell_type": "code",
   "execution_count": 9,
   "metadata": {},
   "outputs": [
    {
     "data": {
      "text/plain": [
       "<ImageFieldFile: None>"
      ]
     },
     "execution_count": 9,
     "metadata": {},
     "output_type": "execute_result"
    },
    {
     "data": {
      "text/plain": [
       "<ImageFieldFile: None>"
      ]
     },
     "execution_count": 9,
     "metadata": {},
     "output_type": "execute_result"
    }
   ],
   "source": [
    "video.poster"
   ]
  },
  {
   "cell_type": "code",
   "execution_count": null,
   "metadata": {},
   "outputs": [
    {
     "name": "stdout",
     "output_type": "stream",
     "text": [
      "/var/folders/2l/7zccp5bs1234yz4ns62s796m0000gn/T/poster_siswrc9x.jpg\n",
      "> /Users/jochen/projects/django-cast/cast/models.py(158)_create_poster()\n",
      "-> self.poster.save(\n",
      "/var/folders/2l/7zccp5bs1234yz4ns62s796m0000gn/T/poster_siswrc9x.jpg\n",
      "> /Users/jochen/projects/django-cast/cast/models.py(158)_create_poster()\n",
      "-> self.poster.save(\n",
      "(Pdb) import os\n",
      "(Pdb) print(os.stat(tmp_path)\n",
      "*** SyntaxError: unexpected EOF while parsing\n",
      "*** SyntaxError: unexpected EOF while parsing\n",
      "(Pdb) print(os.stat(tmp_path))\n",
      "os.stat_result(st_mode=33152, st_ino=8627049245, st_dev=16777220, st_nlink=1, st_uid=501, st_gid=20, st_size=285582, st_atime=1541579098, st_mtime=1541579098, st_ctime=1541579098)\n",
      "os.stat_result(st_mode=33152, st_ino=8627049245, st_dev=16777220, st_nlink=1, st_uid=501, st_gid=20, st_size=285582, st_atime=1541579098, st_mtime=1541579098, st_ctime=1541579098)\n",
      "(Pdb) os.path.exists(tmp_path)\n",
      "True\n",
      "True\n",
      "(Pdb) os.path.basename(tmp_path)\n",
      "'poster_siswrc9x.jpg'\n",
      "'poster_siswrc9x.jpg'\n"
     ]
    }
   ],
   "source": [
    "video.create_poster()"
   ]
  },
  {
   "cell_type": "code",
   "execution_count": 13,
   "metadata": {},
   "outputs": [
    {
     "data": {
      "text/plain": [
       "True"
      ]
     },
     "execution_count": 13,
     "metadata": {},
     "output_type": "execute_result"
    },
    {
     "data": {
      "text/plain": [
       "True"
      ]
     },
     "execution_count": 13,
     "metadata": {},
     "output_type": "execute_result"
    }
   ],
   "source": [
    "video.calc_poster"
   ]
  },
  {
   "cell_type": "code",
   "execution_count": 14,
   "metadata": {},
   "outputs": [
    {
     "name": "stdout",
     "output_type": "stream",
     "text": [
      "/var/folders/2l/7zccp5bs1234yz4ns62s796m0000gn/T/poster_oe5wtm5e.jpg\n",
      "/var/folders/2l/7zccp5bs1234yz4ns62s796m0000gn/T/poster_oe5wtm5e.jpg\n"
     ]
    },
    {
     "ename": "AttributeError",
     "evalue": "'File' object has no attribute 'read'",
     "output_type": "error",
     "traceback": [
      "\u001b[0;31m---------------------------------------------------------------------------\u001b[0m",
      "\u001b[0;31mAttributeError\u001b[0m                            Traceback (most recent call last)",
      "\u001b[0;32m<ipython-input-14-9a46d2734f29>\u001b[0m in \u001b[0;36m<module>\u001b[0;34m()\u001b[0m\n\u001b[0;32m----> 1\u001b[0;31m \u001b[0mvideo\u001b[0m\u001b[0;34m.\u001b[0m\u001b[0m_create_poster\u001b[0m\u001b[0;34m(\u001b[0m\u001b[0;34m)\u001b[0m\u001b[0;34m\u001b[0m\u001b[0m\n\u001b[0m",
      "\u001b[0;32m~/projects/django-cast/cast/models.py\u001b[0m in \u001b[0;36m_create_poster\u001b[0;34m(self)\u001b[0m\n\u001b[1;32m    157\u001b[0m         self.poster.save(\n\u001b[1;32m    158\u001b[0m             \u001b[0mos\u001b[0m\u001b[0;34m.\u001b[0m\u001b[0mpath\u001b[0m\u001b[0;34m.\u001b[0m\u001b[0mbasename\u001b[0m\u001b[0;34m(\u001b[0m\u001b[0mtmp_path\u001b[0m\u001b[0;34m)\u001b[0m\u001b[0;34m,\u001b[0m \u001b[0mFile\u001b[0m\u001b[0;34m(\u001b[0m\u001b[0mopen\u001b[0m\u001b[0;34m(\u001b[0m\u001b[0mtmp_path\u001b[0m\u001b[0;34m,\u001b[0m \u001b[0;34m'rb'\u001b[0m\u001b[0;34m)\u001b[0m\u001b[0;34m)\u001b[0m\u001b[0;34m,\u001b[0m\u001b[0;34m\u001b[0m\u001b[0m\n\u001b[0;32m--> 159\u001b[0;31m             save=False)\n\u001b[0m\u001b[1;32m    160\u001b[0m         \u001b[0mos\u001b[0m\u001b[0;34m.\u001b[0m\u001b[0munlink\u001b[0m\u001b[0;34m(\u001b[0m\u001b[0mtmp_path\u001b[0m\u001b[0;34m)\u001b[0m\u001b[0;34m\u001b[0m\u001b[0m\n\u001b[1;32m    161\u001b[0m         \u001b[0mlogger\u001b[0m\u001b[0;34m.\u001b[0m\u001b[0minfo\u001b[0m\u001b[0;34m(\u001b[0m\u001b[0mself\u001b[0m\u001b[0;34m.\u001b[0m\u001b[0mpk\u001b[0m\u001b[0;34m)\u001b[0m\u001b[0;34m\u001b[0m\u001b[0m\n",
      "\u001b[0;32m~/.virtualenvs/homepage/lib/python3.7/site-packages/django/db/models/fields/files.py\u001b[0m in \u001b[0;36msave\u001b[0;34m(self, name, content, save)\u001b[0m\n\u001b[1;32m     85\u001b[0m     \u001b[0;32mdef\u001b[0m \u001b[0msave\u001b[0m\u001b[0;34m(\u001b[0m\u001b[0mself\u001b[0m\u001b[0;34m,\u001b[0m \u001b[0mname\u001b[0m\u001b[0;34m,\u001b[0m \u001b[0mcontent\u001b[0m\u001b[0;34m,\u001b[0m \u001b[0msave\u001b[0m\u001b[0;34m=\u001b[0m\u001b[0;32mTrue\u001b[0m\u001b[0;34m)\u001b[0m\u001b[0;34m:\u001b[0m\u001b[0;34m\u001b[0m\u001b[0m\n\u001b[1;32m     86\u001b[0m         \u001b[0mname\u001b[0m \u001b[0;34m=\u001b[0m \u001b[0mself\u001b[0m\u001b[0;34m.\u001b[0m\u001b[0mfield\u001b[0m\u001b[0;34m.\u001b[0m\u001b[0mgenerate_filename\u001b[0m\u001b[0;34m(\u001b[0m\u001b[0mself\u001b[0m\u001b[0;34m.\u001b[0m\u001b[0minstance\u001b[0m\u001b[0;34m,\u001b[0m \u001b[0mname\u001b[0m\u001b[0;34m)\u001b[0m\u001b[0;34m\u001b[0m\u001b[0m\n\u001b[0;32m---> 87\u001b[0;31m         \u001b[0mself\u001b[0m\u001b[0;34m.\u001b[0m\u001b[0mname\u001b[0m \u001b[0;34m=\u001b[0m \u001b[0mself\u001b[0m\u001b[0;34m.\u001b[0m\u001b[0mstorage\u001b[0m\u001b[0;34m.\u001b[0m\u001b[0msave\u001b[0m\u001b[0;34m(\u001b[0m\u001b[0mname\u001b[0m\u001b[0;34m,\u001b[0m \u001b[0mcontent\u001b[0m\u001b[0;34m,\u001b[0m \u001b[0mmax_length\u001b[0m\u001b[0;34m=\u001b[0m\u001b[0mself\u001b[0m\u001b[0;34m.\u001b[0m\u001b[0mfield\u001b[0m\u001b[0;34m.\u001b[0m\u001b[0mmax_length\u001b[0m\u001b[0;34m)\u001b[0m\u001b[0;34m\u001b[0m\u001b[0m\n\u001b[0m\u001b[1;32m     88\u001b[0m         \u001b[0msetattr\u001b[0m\u001b[0;34m(\u001b[0m\u001b[0mself\u001b[0m\u001b[0;34m.\u001b[0m\u001b[0minstance\u001b[0m\u001b[0;34m,\u001b[0m \u001b[0mself\u001b[0m\u001b[0;34m.\u001b[0m\u001b[0mfield\u001b[0m\u001b[0;34m.\u001b[0m\u001b[0mname\u001b[0m\u001b[0;34m,\u001b[0m \u001b[0mself\u001b[0m\u001b[0;34m.\u001b[0m\u001b[0mname\u001b[0m\u001b[0;34m)\u001b[0m\u001b[0;34m\u001b[0m\u001b[0m\n\u001b[1;32m     89\u001b[0m         \u001b[0mself\u001b[0m\u001b[0;34m.\u001b[0m\u001b[0m_committed\u001b[0m \u001b[0;34m=\u001b[0m \u001b[0;32mTrue\u001b[0m\u001b[0;34m\u001b[0m\u001b[0m\n",
      "\u001b[0;32m~/.virtualenvs/homepage/lib/python3.7/site-packages/django/core/files/storage.py\u001b[0m in \u001b[0;36msave\u001b[0;34m(self, name, content, max_length)\u001b[0m\n\u001b[1;32m     47\u001b[0m \u001b[0;34m\u001b[0m\u001b[0m\n\u001b[1;32m     48\u001b[0m         \u001b[0mname\u001b[0m \u001b[0;34m=\u001b[0m \u001b[0mself\u001b[0m\u001b[0;34m.\u001b[0m\u001b[0mget_available_name\u001b[0m\u001b[0;34m(\u001b[0m\u001b[0mname\u001b[0m\u001b[0;34m,\u001b[0m \u001b[0mmax_length\u001b[0m\u001b[0;34m=\u001b[0m\u001b[0mmax_length\u001b[0m\u001b[0;34m)\u001b[0m\u001b[0;34m\u001b[0m\u001b[0m\n\u001b[0;32m---> 49\u001b[0;31m         \u001b[0;32mreturn\u001b[0m \u001b[0mself\u001b[0m\u001b[0;34m.\u001b[0m\u001b[0m_save\u001b[0m\u001b[0;34m(\u001b[0m\u001b[0mname\u001b[0m\u001b[0;34m,\u001b[0m \u001b[0mcontent\u001b[0m\u001b[0;34m)\u001b[0m\u001b[0;34m\u001b[0m\u001b[0m\n\u001b[0m\u001b[1;32m     50\u001b[0m \u001b[0;34m\u001b[0m\u001b[0m\n\u001b[1;32m     51\u001b[0m     \u001b[0;31m# These methods are part of the public API, with default implementations.\u001b[0m\u001b[0;34m\u001b[0m\u001b[0;34m\u001b[0m\u001b[0m\n",
      "\u001b[0;32m~/.virtualenvs/homepage/lib/python3.7/site-packages/django/core/files/storage.py\u001b[0m in \u001b[0;36m_save\u001b[0;34m(self, name, content)\u001b[0m\n\u001b[1;32m    266\u001b[0m                     \u001b[0;32mtry\u001b[0m\u001b[0;34m:\u001b[0m\u001b[0;34m\u001b[0m\u001b[0m\n\u001b[1;32m    267\u001b[0m                         \u001b[0mlocks\u001b[0m\u001b[0;34m.\u001b[0m\u001b[0mlock\u001b[0m\u001b[0;34m(\u001b[0m\u001b[0mfd\u001b[0m\u001b[0;34m,\u001b[0m \u001b[0mlocks\u001b[0m\u001b[0;34m.\u001b[0m\u001b[0mLOCK_EX\u001b[0m\u001b[0;34m)\u001b[0m\u001b[0;34m\u001b[0m\u001b[0m\n\u001b[0;32m--> 268\u001b[0;31m                         \u001b[0;32mfor\u001b[0m \u001b[0mchunk\u001b[0m \u001b[0;32min\u001b[0m \u001b[0mcontent\u001b[0m\u001b[0;34m.\u001b[0m\u001b[0mchunks\u001b[0m\u001b[0;34m(\u001b[0m\u001b[0;34m)\u001b[0m\u001b[0;34m:\u001b[0m\u001b[0;34m\u001b[0m\u001b[0m\n\u001b[0m\u001b[1;32m    269\u001b[0m                             \u001b[0;32mif\u001b[0m \u001b[0m_file\u001b[0m \u001b[0;32mis\u001b[0m \u001b[0;32mNone\u001b[0m\u001b[0;34m:\u001b[0m\u001b[0;34m\u001b[0m\u001b[0m\n\u001b[1;32m    270\u001b[0m                                 \u001b[0mmode\u001b[0m \u001b[0;34m=\u001b[0m \u001b[0;34m'wb'\u001b[0m \u001b[0;32mif\u001b[0m \u001b[0misinstance\u001b[0m\u001b[0;34m(\u001b[0m\u001b[0mchunk\u001b[0m\u001b[0;34m,\u001b[0m \u001b[0mbytes\u001b[0m\u001b[0;34m)\u001b[0m \u001b[0;32melse\u001b[0m \u001b[0;34m'wt'\u001b[0m\u001b[0;34m\u001b[0m\u001b[0m\n",
      "\u001b[0;32m~/.virtualenvs/homepage/lib/python3.7/site-packages/django/core/files/base.py\u001b[0m in \u001b[0;36mchunks\u001b[0;34m(self, chunk_size)\u001b[0m\n\u001b[1;32m     58\u001b[0m \u001b[0;34m\u001b[0m\u001b[0m\n\u001b[1;32m     59\u001b[0m         \u001b[0;32mwhile\u001b[0m \u001b[0;32mTrue\u001b[0m\u001b[0;34m:\u001b[0m\u001b[0;34m\u001b[0m\u001b[0m\n\u001b[0;32m---> 60\u001b[0;31m             \u001b[0mdata\u001b[0m \u001b[0;34m=\u001b[0m \u001b[0mself\u001b[0m\u001b[0;34m.\u001b[0m\u001b[0mread\u001b[0m\u001b[0;34m(\u001b[0m\u001b[0mchunk_size\u001b[0m\u001b[0;34m)\u001b[0m\u001b[0;34m\u001b[0m\u001b[0m\n\u001b[0m\u001b[1;32m     61\u001b[0m             \u001b[0;32mif\u001b[0m \u001b[0;32mnot\u001b[0m \u001b[0mdata\u001b[0m\u001b[0;34m:\u001b[0m\u001b[0;34m\u001b[0m\u001b[0m\n\u001b[1;32m     62\u001b[0m                 \u001b[0;32mbreak\u001b[0m\u001b[0;34m\u001b[0m\u001b[0m\n",
      "\u001b[0;32m~/.virtualenvs/homepage/lib/python3.7/site-packages/django/core/files/utils.py\u001b[0m in \u001b[0;36m<lambda>\u001b[0;34m(self)\u001b[0m\n\u001b[1;32m     14\u001b[0m     \u001b[0misatty\u001b[0m \u001b[0;34m=\u001b[0m \u001b[0mproperty\u001b[0m\u001b[0;34m(\u001b[0m\u001b[0;32mlambda\u001b[0m \u001b[0mself\u001b[0m\u001b[0;34m:\u001b[0m \u001b[0mself\u001b[0m\u001b[0;34m.\u001b[0m\u001b[0mfile\u001b[0m\u001b[0;34m.\u001b[0m\u001b[0misatty\u001b[0m\u001b[0;34m)\u001b[0m\u001b[0;34m\u001b[0m\u001b[0m\n\u001b[1;32m     15\u001b[0m     \u001b[0mnewlines\u001b[0m \u001b[0;34m=\u001b[0m \u001b[0mproperty\u001b[0m\u001b[0;34m(\u001b[0m\u001b[0;32mlambda\u001b[0m \u001b[0mself\u001b[0m\u001b[0;34m:\u001b[0m \u001b[0mself\u001b[0m\u001b[0;34m.\u001b[0m\u001b[0mfile\u001b[0m\u001b[0;34m.\u001b[0m\u001b[0mnewlines\u001b[0m\u001b[0;34m)\u001b[0m\u001b[0;34m\u001b[0m\u001b[0m\n\u001b[0;32m---> 16\u001b[0;31m     \u001b[0mread\u001b[0m \u001b[0;34m=\u001b[0m \u001b[0mproperty\u001b[0m\u001b[0;34m(\u001b[0m\u001b[0;32mlambda\u001b[0m \u001b[0mself\u001b[0m\u001b[0;34m:\u001b[0m \u001b[0mself\u001b[0m\u001b[0;34m.\u001b[0m\u001b[0mfile\u001b[0m\u001b[0;34m.\u001b[0m\u001b[0mread\u001b[0m\u001b[0;34m)\u001b[0m\u001b[0;34m\u001b[0m\u001b[0m\n\u001b[0m\u001b[1;32m     17\u001b[0m     \u001b[0mreadinto\u001b[0m \u001b[0;34m=\u001b[0m \u001b[0mproperty\u001b[0m\u001b[0;34m(\u001b[0m\u001b[0;32mlambda\u001b[0m \u001b[0mself\u001b[0m\u001b[0;34m:\u001b[0m \u001b[0mself\u001b[0m\u001b[0;34m.\u001b[0m\u001b[0mfile\u001b[0m\u001b[0;34m.\u001b[0m\u001b[0mreadinto\u001b[0m\u001b[0;34m)\u001b[0m\u001b[0;34m\u001b[0m\u001b[0m\n\u001b[1;32m     18\u001b[0m     \u001b[0mreadline\u001b[0m \u001b[0;34m=\u001b[0m \u001b[0mproperty\u001b[0m\u001b[0;34m(\u001b[0m\u001b[0;32mlambda\u001b[0m \u001b[0mself\u001b[0m\u001b[0;34m:\u001b[0m \u001b[0mself\u001b[0m\u001b[0;34m.\u001b[0m\u001b[0mfile\u001b[0m\u001b[0;34m.\u001b[0m\u001b[0mreadline\u001b[0m\u001b[0;34m)\u001b[0m\u001b[0;34m\u001b[0m\u001b[0m\n",
      "\u001b[0;31mAttributeError\u001b[0m: 'File' object has no attribute 'read'"
     ]
    },
    {
     "ename": "AttributeError",
     "evalue": "'File' object has no attribute 'read'",
     "output_type": "error",
     "traceback": [
      "\u001b[0;31m---------------------------------------------------------------------------\u001b[0m",
      "\u001b[0;31mAttributeError\u001b[0m                            Traceback (most recent call last)",
      "\u001b[0;32m<ipython-input-14-9a46d2734f29>\u001b[0m in \u001b[0;36m<module>\u001b[0;34m()\u001b[0m\n\u001b[0;32m----> 1\u001b[0;31m \u001b[0mvideo\u001b[0m\u001b[0;34m.\u001b[0m\u001b[0m_create_poster\u001b[0m\u001b[0;34m(\u001b[0m\u001b[0;34m)\u001b[0m\u001b[0;34m\u001b[0m\u001b[0m\n\u001b[0m",
      "\u001b[0;32m~/projects/django-cast/cast/models.py\u001b[0m in \u001b[0;36m_create_poster\u001b[0;34m(self)\u001b[0m\n\u001b[1;32m    157\u001b[0m         self.poster.save(\n\u001b[1;32m    158\u001b[0m             \u001b[0mos\u001b[0m\u001b[0;34m.\u001b[0m\u001b[0mpath\u001b[0m\u001b[0;34m.\u001b[0m\u001b[0mbasename\u001b[0m\u001b[0;34m(\u001b[0m\u001b[0mtmp_path\u001b[0m\u001b[0;34m)\u001b[0m\u001b[0;34m,\u001b[0m \u001b[0mFile\u001b[0m\u001b[0;34m(\u001b[0m\u001b[0mopen\u001b[0m\u001b[0;34m(\u001b[0m\u001b[0mtmp_path\u001b[0m\u001b[0;34m,\u001b[0m \u001b[0;34m'rb'\u001b[0m\u001b[0;34m)\u001b[0m\u001b[0;34m)\u001b[0m\u001b[0;34m,\u001b[0m\u001b[0;34m\u001b[0m\u001b[0m\n\u001b[0;32m--> 159\u001b[0;31m             save=False)\n\u001b[0m\u001b[1;32m    160\u001b[0m         \u001b[0mos\u001b[0m\u001b[0;34m.\u001b[0m\u001b[0munlink\u001b[0m\u001b[0;34m(\u001b[0m\u001b[0mtmp_path\u001b[0m\u001b[0;34m)\u001b[0m\u001b[0;34m\u001b[0m\u001b[0m\n\u001b[1;32m    161\u001b[0m         \u001b[0mlogger\u001b[0m\u001b[0;34m.\u001b[0m\u001b[0minfo\u001b[0m\u001b[0;34m(\u001b[0m\u001b[0mself\u001b[0m\u001b[0;34m.\u001b[0m\u001b[0mpk\u001b[0m\u001b[0;34m)\u001b[0m\u001b[0;34m\u001b[0m\u001b[0m\n",
      "\u001b[0;32m~/.virtualenvs/homepage/lib/python3.7/site-packages/django/db/models/fields/files.py\u001b[0m in \u001b[0;36msave\u001b[0;34m(self, name, content, save)\u001b[0m\n\u001b[1;32m     85\u001b[0m     \u001b[0;32mdef\u001b[0m \u001b[0msave\u001b[0m\u001b[0;34m(\u001b[0m\u001b[0mself\u001b[0m\u001b[0;34m,\u001b[0m \u001b[0mname\u001b[0m\u001b[0;34m,\u001b[0m \u001b[0mcontent\u001b[0m\u001b[0;34m,\u001b[0m \u001b[0msave\u001b[0m\u001b[0;34m=\u001b[0m\u001b[0;32mTrue\u001b[0m\u001b[0;34m)\u001b[0m\u001b[0;34m:\u001b[0m\u001b[0;34m\u001b[0m\u001b[0m\n\u001b[1;32m     86\u001b[0m         \u001b[0mname\u001b[0m \u001b[0;34m=\u001b[0m \u001b[0mself\u001b[0m\u001b[0;34m.\u001b[0m\u001b[0mfield\u001b[0m\u001b[0;34m.\u001b[0m\u001b[0mgenerate_filename\u001b[0m\u001b[0;34m(\u001b[0m\u001b[0mself\u001b[0m\u001b[0;34m.\u001b[0m\u001b[0minstance\u001b[0m\u001b[0;34m,\u001b[0m \u001b[0mname\u001b[0m\u001b[0;34m)\u001b[0m\u001b[0;34m\u001b[0m\u001b[0m\n\u001b[0;32m---> 87\u001b[0;31m         \u001b[0mself\u001b[0m\u001b[0;34m.\u001b[0m\u001b[0mname\u001b[0m \u001b[0;34m=\u001b[0m \u001b[0mself\u001b[0m\u001b[0;34m.\u001b[0m\u001b[0mstorage\u001b[0m\u001b[0;34m.\u001b[0m\u001b[0msave\u001b[0m\u001b[0;34m(\u001b[0m\u001b[0mname\u001b[0m\u001b[0;34m,\u001b[0m \u001b[0mcontent\u001b[0m\u001b[0;34m,\u001b[0m \u001b[0mmax_length\u001b[0m\u001b[0;34m=\u001b[0m\u001b[0mself\u001b[0m\u001b[0;34m.\u001b[0m\u001b[0mfield\u001b[0m\u001b[0;34m.\u001b[0m\u001b[0mmax_length\u001b[0m\u001b[0;34m)\u001b[0m\u001b[0;34m\u001b[0m\u001b[0m\n\u001b[0m\u001b[1;32m     88\u001b[0m         \u001b[0msetattr\u001b[0m\u001b[0;34m(\u001b[0m\u001b[0mself\u001b[0m\u001b[0;34m.\u001b[0m\u001b[0minstance\u001b[0m\u001b[0;34m,\u001b[0m \u001b[0mself\u001b[0m\u001b[0;34m.\u001b[0m\u001b[0mfield\u001b[0m\u001b[0;34m.\u001b[0m\u001b[0mname\u001b[0m\u001b[0;34m,\u001b[0m \u001b[0mself\u001b[0m\u001b[0;34m.\u001b[0m\u001b[0mname\u001b[0m\u001b[0;34m)\u001b[0m\u001b[0;34m\u001b[0m\u001b[0m\n\u001b[1;32m     89\u001b[0m         \u001b[0mself\u001b[0m\u001b[0;34m.\u001b[0m\u001b[0m_committed\u001b[0m \u001b[0;34m=\u001b[0m \u001b[0;32mTrue\u001b[0m\u001b[0;34m\u001b[0m\u001b[0m\n",
      "\u001b[0;32m~/.virtualenvs/homepage/lib/python3.7/site-packages/django/core/files/storage.py\u001b[0m in \u001b[0;36msave\u001b[0;34m(self, name, content, max_length)\u001b[0m\n\u001b[1;32m     47\u001b[0m \u001b[0;34m\u001b[0m\u001b[0m\n\u001b[1;32m     48\u001b[0m         \u001b[0mname\u001b[0m \u001b[0;34m=\u001b[0m \u001b[0mself\u001b[0m\u001b[0;34m.\u001b[0m\u001b[0mget_available_name\u001b[0m\u001b[0;34m(\u001b[0m\u001b[0mname\u001b[0m\u001b[0;34m,\u001b[0m \u001b[0mmax_length\u001b[0m\u001b[0;34m=\u001b[0m\u001b[0mmax_length\u001b[0m\u001b[0;34m)\u001b[0m\u001b[0;34m\u001b[0m\u001b[0m\n\u001b[0;32m---> 49\u001b[0;31m         \u001b[0;32mreturn\u001b[0m \u001b[0mself\u001b[0m\u001b[0;34m.\u001b[0m\u001b[0m_save\u001b[0m\u001b[0;34m(\u001b[0m\u001b[0mname\u001b[0m\u001b[0;34m,\u001b[0m \u001b[0mcontent\u001b[0m\u001b[0;34m)\u001b[0m\u001b[0;34m\u001b[0m\u001b[0m\n\u001b[0m\u001b[1;32m     50\u001b[0m \u001b[0;34m\u001b[0m\u001b[0m\n\u001b[1;32m     51\u001b[0m     \u001b[0;31m# These methods are part of the public API, with default implementations.\u001b[0m\u001b[0;34m\u001b[0m\u001b[0;34m\u001b[0m\u001b[0m\n",
      "\u001b[0;32m~/.virtualenvs/homepage/lib/python3.7/site-packages/django/core/files/storage.py\u001b[0m in \u001b[0;36m_save\u001b[0;34m(self, name, content)\u001b[0m\n\u001b[1;32m    266\u001b[0m                     \u001b[0;32mtry\u001b[0m\u001b[0;34m:\u001b[0m\u001b[0;34m\u001b[0m\u001b[0m\n\u001b[1;32m    267\u001b[0m                         \u001b[0mlocks\u001b[0m\u001b[0;34m.\u001b[0m\u001b[0mlock\u001b[0m\u001b[0;34m(\u001b[0m\u001b[0mfd\u001b[0m\u001b[0;34m,\u001b[0m \u001b[0mlocks\u001b[0m\u001b[0;34m.\u001b[0m\u001b[0mLOCK_EX\u001b[0m\u001b[0;34m)\u001b[0m\u001b[0;34m\u001b[0m\u001b[0m\n\u001b[0;32m--> 268\u001b[0;31m                         \u001b[0;32mfor\u001b[0m \u001b[0mchunk\u001b[0m \u001b[0;32min\u001b[0m \u001b[0mcontent\u001b[0m\u001b[0;34m.\u001b[0m\u001b[0mchunks\u001b[0m\u001b[0;34m(\u001b[0m\u001b[0;34m)\u001b[0m\u001b[0;34m:\u001b[0m\u001b[0;34m\u001b[0m\u001b[0m\n\u001b[0m\u001b[1;32m    269\u001b[0m                             \u001b[0;32mif\u001b[0m \u001b[0m_file\u001b[0m \u001b[0;32mis\u001b[0m \u001b[0;32mNone\u001b[0m\u001b[0;34m:\u001b[0m\u001b[0;34m\u001b[0m\u001b[0m\n\u001b[1;32m    270\u001b[0m                                 \u001b[0mmode\u001b[0m \u001b[0;34m=\u001b[0m \u001b[0;34m'wb'\u001b[0m \u001b[0;32mif\u001b[0m \u001b[0misinstance\u001b[0m\u001b[0;34m(\u001b[0m\u001b[0mchunk\u001b[0m\u001b[0;34m,\u001b[0m \u001b[0mbytes\u001b[0m\u001b[0;34m)\u001b[0m \u001b[0;32melse\u001b[0m \u001b[0;34m'wt'\u001b[0m\u001b[0;34m\u001b[0m\u001b[0m\n",
      "\u001b[0;32m~/.virtualenvs/homepage/lib/python3.7/site-packages/django/core/files/base.py\u001b[0m in \u001b[0;36mchunks\u001b[0;34m(self, chunk_size)\u001b[0m\n\u001b[1;32m     58\u001b[0m \u001b[0;34m\u001b[0m\u001b[0m\n\u001b[1;32m     59\u001b[0m         \u001b[0;32mwhile\u001b[0m \u001b[0;32mTrue\u001b[0m\u001b[0;34m:\u001b[0m\u001b[0;34m\u001b[0m\u001b[0m\n\u001b[0;32m---> 60\u001b[0;31m             \u001b[0mdata\u001b[0m \u001b[0;34m=\u001b[0m \u001b[0mself\u001b[0m\u001b[0;34m.\u001b[0m\u001b[0mread\u001b[0m\u001b[0;34m(\u001b[0m\u001b[0mchunk_size\u001b[0m\u001b[0;34m)\u001b[0m\u001b[0;34m\u001b[0m\u001b[0m\n\u001b[0m\u001b[1;32m     61\u001b[0m             \u001b[0;32mif\u001b[0m \u001b[0;32mnot\u001b[0m \u001b[0mdata\u001b[0m\u001b[0;34m:\u001b[0m\u001b[0;34m\u001b[0m\u001b[0m\n\u001b[1;32m     62\u001b[0m                 \u001b[0;32mbreak\u001b[0m\u001b[0;34m\u001b[0m\u001b[0m\n",
      "\u001b[0;32m~/.virtualenvs/homepage/lib/python3.7/site-packages/django/core/files/utils.py\u001b[0m in \u001b[0;36m<lambda>\u001b[0;34m(self)\u001b[0m\n\u001b[1;32m     14\u001b[0m     \u001b[0misatty\u001b[0m \u001b[0;34m=\u001b[0m \u001b[0mproperty\u001b[0m\u001b[0;34m(\u001b[0m\u001b[0;32mlambda\u001b[0m \u001b[0mself\u001b[0m\u001b[0;34m:\u001b[0m \u001b[0mself\u001b[0m\u001b[0;34m.\u001b[0m\u001b[0mfile\u001b[0m\u001b[0;34m.\u001b[0m\u001b[0misatty\u001b[0m\u001b[0;34m)\u001b[0m\u001b[0;34m\u001b[0m\u001b[0m\n\u001b[1;32m     15\u001b[0m     \u001b[0mnewlines\u001b[0m \u001b[0;34m=\u001b[0m \u001b[0mproperty\u001b[0m\u001b[0;34m(\u001b[0m\u001b[0;32mlambda\u001b[0m \u001b[0mself\u001b[0m\u001b[0;34m:\u001b[0m \u001b[0mself\u001b[0m\u001b[0;34m.\u001b[0m\u001b[0mfile\u001b[0m\u001b[0;34m.\u001b[0m\u001b[0mnewlines\u001b[0m\u001b[0;34m)\u001b[0m\u001b[0;34m\u001b[0m\u001b[0m\n\u001b[0;32m---> 16\u001b[0;31m     \u001b[0mread\u001b[0m \u001b[0;34m=\u001b[0m \u001b[0mproperty\u001b[0m\u001b[0;34m(\u001b[0m\u001b[0;32mlambda\u001b[0m \u001b[0mself\u001b[0m\u001b[0;34m:\u001b[0m \u001b[0mself\u001b[0m\u001b[0;34m.\u001b[0m\u001b[0mfile\u001b[0m\u001b[0;34m.\u001b[0m\u001b[0mread\u001b[0m\u001b[0;34m)\u001b[0m\u001b[0;34m\u001b[0m\u001b[0m\n\u001b[0m\u001b[1;32m     17\u001b[0m     \u001b[0mreadinto\u001b[0m \u001b[0;34m=\u001b[0m \u001b[0mproperty\u001b[0m\u001b[0;34m(\u001b[0m\u001b[0;32mlambda\u001b[0m \u001b[0mself\u001b[0m\u001b[0;34m:\u001b[0m \u001b[0mself\u001b[0m\u001b[0;34m.\u001b[0m\u001b[0mfile\u001b[0m\u001b[0;34m.\u001b[0m\u001b[0mreadinto\u001b[0m\u001b[0;34m)\u001b[0m\u001b[0;34m\u001b[0m\u001b[0m\n\u001b[1;32m     18\u001b[0m     \u001b[0mreadline\u001b[0m \u001b[0;34m=\u001b[0m \u001b[0mproperty\u001b[0m\u001b[0;34m(\u001b[0m\u001b[0;32mlambda\u001b[0m \u001b[0mself\u001b[0m\u001b[0;34m:\u001b[0m \u001b[0mself\u001b[0m\u001b[0;34m.\u001b[0m\u001b[0mfile\u001b[0m\u001b[0;34m.\u001b[0m\u001b[0mreadline\u001b[0m\u001b[0;34m)\u001b[0m\u001b[0;34m\u001b[0m\u001b[0m\n",
      "\u001b[0;31mAttributeError\u001b[0m: 'File' object has no attribute 'read'"
     ]
    }
   ],
   "source": [
    "video._create_poster()"
   ]
  },
  {
   "cell_type": "markdown",
   "metadata": {},
   "source": [
    "# move images"
   ]
  },
  {
   "cell_type": "code",
   "execution_count": 7,
   "metadata": {},
   "outputs": [],
   "source": [
    "image = BlogImage.objects.all()[0]"
   ]
  },
  {
   "cell_type": "code",
   "execution_count": 8,
   "metadata": {},
   "outputs": [
    {
     "data": {
      "text/plain": [
       "<ImageFieldFile: blogs_images/originals/IMG_1773.JPG>"
      ]
     },
     "execution_count": 8,
     "metadata": {},
     "output_type": "execute_result"
    }
   ],
   "source": [
    "image.original"
   ]
  },
  {
   "cell_type": "code",
   "execution_count": 10,
   "metadata": {},
   "outputs": [],
   "source": [
    "image = Image.objects.all()[0]"
   ]
  },
  {
   "cell_type": "code",
   "execution_count": 11,
   "metadata": {},
   "outputs": [
    {
     "data": {
      "text/plain": [
       "<ImageFieldFile: blogs_images/originals/IMG_1773.JPG>"
      ]
     },
     "execution_count": 11,
     "metadata": {},
     "output_type": "execute_result"
    }
   ],
   "source": [
    "image.original"
   ]
  },
  {
   "cell_type": "code",
   "execution_count": 13,
   "metadata": {},
   "outputs": [],
   "source": [
    "image = Image.objects.get(pk=577)"
   ]
  },
  {
   "cell_type": "code",
   "execution_count": 14,
   "metadata": {},
   "outputs": [
    {
     "data": {
      "text/plain": [
       "<ImageFieldFile: cast_images/originals/iqHs41HGQsW2Ma1jN9iCag.jpg>"
      ]
     },
     "execution_count": 14,
     "metadata": {},
     "output_type": "execute_result"
    }
   ],
   "source": [
    "image.original"
   ]
  },
  {
   "cell_type": "markdown",
   "metadata": {},
   "source": [
    "# video poster"
   ]
  },
  {
   "cell_type": "code",
   "execution_count": 4,
   "metadata": {},
   "outputs": [],
   "source": [
    "import io\n",
    "import os\n",
    "import tempfile\n",
    "\n",
    "from django.core.files import File\n",
    "from subprocess import check_output"
   ]
  },
  {
   "cell_type": "code",
   "execution_count": 5,
   "metadata": {},
   "outputs": [
    {
     "name": "stdout",
     "output_type": "stream",
     "text": [
      "60\n"
     ]
    }
   ],
   "source": [
    "video = Video.objects.all().order_by(\"-created\")[0]\n",
    "print(video.pk)"
   ]
  },
  {
   "cell_type": "code",
   "execution_count": 6,
   "metadata": {},
   "outputs": [],
   "source": [
    "video._create_poster()"
   ]
  },
  {
   "cell_type": "code",
   "execution_count": 24,
   "metadata": {},
   "outputs": [
    {
     "name": "stdout",
     "output_type": "stream",
     "text": [
      "content:  File object (<_io.BufferedReader name='/var/folders/2l/7zccp5bs1234yz4ns62s796m0000gn/T/poster_fum4jsvc.jpg'>)\n"
     ]
    }
   ],
   "source": [
    "content = video._get_content()"
   ]
  },
  {
   "cell_type": "code",
   "execution_count": 26,
   "metadata": {},
   "outputs": [
    {
     "ename": "AttributeError",
     "evalue": "'File' object has no attribute 'file'",
     "output_type": "error",
     "traceback": [
      "\u001b[0;31m---------------------------------------------------------------------------\u001b[0m",
      "\u001b[0;31mAttributeError\u001b[0m                            Traceback (most recent call last)",
      "\u001b[0;32m<ipython-input-26-6b3984707a8c>\u001b[0m in \u001b[0;36m<module>\u001b[0;34m()\u001b[0m\n\u001b[0;32m----> 1\u001b[0;31m \u001b[0mcontent\u001b[0m\u001b[0;34m.\u001b[0m\u001b[0mfile\u001b[0m\u001b[0;34m\u001b[0m\u001b[0m\n\u001b[0m",
      "\u001b[0;31mAttributeError\u001b[0m: 'File' object has no attribute 'file'"
     ]
    }
   ],
   "source": [
    "content.file"
   ]
  },
  {
   "cell_type": "code",
   "execution_count": 28,
   "metadata": {},
   "outputs": [
    {
     "ename": "AttributeError",
     "evalue": "'File' object has no attribute 'size'",
     "output_type": "error",
     "traceback": [
      "\u001b[0;31m---------------------------------------------------------------------------\u001b[0m",
      "\u001b[0;31mAttributeError\u001b[0m                            Traceback (most recent call last)",
      "\u001b[0;32m<ipython-input-28-b2998cadcf16>\u001b[0m in \u001b[0;36m<module>\u001b[0;34m()\u001b[0m\n\u001b[0;32m----> 1\u001b[0;31m \u001b[0mcontent\u001b[0m\u001b[0;34m.\u001b[0m\u001b[0msize\u001b[0m\u001b[0;34m(\u001b[0m\u001b[0;34m)\u001b[0m\u001b[0;34m\u001b[0m\u001b[0m\n\u001b[0m",
      "\u001b[0;31mAttributeError\u001b[0m: 'File' object has no attribute 'size'"
     ]
    }
   ],
   "source": [
    "content.size()"
   ]
  },
  {
   "cell_type": "code",
   "execution_count": 9,
   "metadata": {},
   "outputs": [],
   "source": [
    "content.file = open('/var/folders/2l/7zccp5bs1234yz4ns62s796m0000gn/T/poster_lj52okma.jpg', \"rb\")"
   ]
  },
  {
   "cell_type": "code",
   "execution_count": 11,
   "metadata": {},
   "outputs": [],
   "source": [
    "name = \"poster_lj52okma.jpg\""
   ]
  },
  {
   "cell_type": "code",
   "execution_count": 10,
   "metadata": {},
   "outputs": [
    {
     "name": "stdout",
     "output_type": "stream",
     "text": [
      "File object (<_io.BufferedReader name='/var/folders/2l/7zccp5bs1234yz4ns62s796m0000gn/T/poster_lj52okma.jpg'>)\n"
     ]
    }
   ],
   "source": [
    "print(content)"
   ]
  },
  {
   "cell_type": "code",
   "execution_count": 9,
   "metadata": {},
   "outputs": [],
   "source": [
    "fp, tmp_path = tempfile.mkstemp(prefix='poster_', suffix='.jpg')"
   ]
  },
  {
   "cell_type": "code",
   "execution_count": 16,
   "metadata": {},
   "outputs": [
    {
     "name": "stdout",
     "output_type": "stream",
     "text": [
      "57\n"
     ]
    }
   ],
   "source": [
    "print(fp)"
   ]
  },
  {
   "cell_type": "code",
   "execution_count": 10,
   "metadata": {},
   "outputs": [
    {
     "name": "stdout",
     "output_type": "stream",
     "text": [
      "/media/blogs_videos/js7CDaxSx2sm0n3VanytQ_V4Sjx0r.MOV\n",
      "/Users/jochen/projects/homepage/homepage/media/blogs_videos/js7CDaxSx2sm0n3VanytQ_V4Sjx0r.MOV\n"
     ]
    }
   ],
   "source": [
    "print(video.original.url)\n",
    "print(video.original.path)\n",
    "video_url = video.original.path"
   ]
  },
  {
   "cell_type": "code",
   "execution_count": 11,
   "metadata": {},
   "outputs": [],
   "source": [
    "width, height = video._get_video_dimensions(video_url)"
   ]
  },
  {
   "cell_type": "code",
   "execution_count": 12,
   "metadata": {},
   "outputs": [],
   "source": [
    "poster_cmd = (\n",
    "    'ffmpeg -ss {seconds} -i \"{video_path}\" -vframes 1'\n",
    "    ' -y -f image2 -s {width}x{height} {poster_path}'\n",
    ").format(video_path=video_url, seconds=video.poster_seconds,\n",
    "         poster_path=tmp_path, width=width, height=height)"
   ]
  },
  {
   "cell_type": "code",
   "execution_count": 13,
   "metadata": {},
   "outputs": [
    {
     "data": {
      "text/plain": [
       "'ffmpeg -ss 1.0 -i \"/Users/jochen/projects/homepage/homepage/media/blogs_videos/js7CDaxSx2sm0n3VanytQ_V4Sjx0r.MOV\" -vframes 1 -y -f image2 -s 3840x2160 /var/folders/2l/7zccp5bs1234yz4ns62s796m0000gn/T/poster_67_qy0sc.jpg'"
      ]
     },
     "execution_count": 13,
     "metadata": {},
     "output_type": "execute_result"
    }
   ],
   "source": [
    "poster_cmd"
   ]
  },
  {
   "cell_type": "code",
   "execution_count": 14,
   "metadata": {},
   "outputs": [
    {
     "data": {
      "text/plain": [
       "b''"
      ]
     },
     "execution_count": 14,
     "metadata": {},
     "output_type": "execute_result"
    }
   ],
   "source": [
    "check_output(poster_cmd, shell=True)"
   ]
  },
  {
   "cell_type": "code",
   "execution_count": 17,
   "metadata": {},
   "outputs": [
    {
     "data": {
      "text/plain": [
       "'/var/folders/2l/7zccp5bs1234yz4ns62s796m0000gn/T/poster_67_qy0sc.jpg'"
      ]
     },
     "execution_count": 17,
     "metadata": {},
     "output_type": "execute_result"
    }
   ],
   "source": [
    "tmp_path"
   ]
  },
  {
   "cell_type": "code",
   "execution_count": 14,
   "metadata": {},
   "outputs": [
    {
     "name": "stdout",
     "output_type": "stream",
     "text": [
      "Help on method save in module django.db.models.fields.files:\n",
      "\n",
      "save(name, content, save=True) method of django.db.models.fields.files.ImageFieldFile instance\n",
      "\n"
     ]
    }
   ],
   "source": [
    "help(video.poster.save)"
   ]
  },
  {
   "cell_type": "code",
   "execution_count": 18,
   "metadata": {},
   "outputs": [
    {
     "name": "stdout",
     "output_type": "stream",
     "text": [
      "poster_67_qy0sc.jpg\n"
     ]
    }
   ],
   "source": [
    "name = os.path.basename(tmp_path)\n",
    "print(name)"
   ]
  },
  {
   "cell_type": "code",
   "execution_count": 19,
   "metadata": {},
   "outputs": [
    {
     "name": "stdout",
     "output_type": "stream",
     "text": [
      "content:  /var/folders/2l/7zccp5bs1234yz4ns62s796m0000gn/T/poster_67_qy0sc.jpg\n"
     ]
    }
   ],
   "source": [
    "content = File(open(tmp_path, 'rb'))\n",
    "print(\"content: \", content)"
   ]
  },
  {
   "cell_type": "code",
   "execution_count": 20,
   "metadata": {},
   "outputs": [
    {
     "name": "stdout",
     "output_type": "stream",
     "text": [
      "<_io.BufferedReader name='/var/folders/2l/7zccp5bs1234yz4ns62s796m0000gn/T/poster_67_qy0sc.jpg'>\n"
     ]
    }
   ],
   "source": [
    "fh = open(tmp_path, 'rb')\n",
    "print(fh)"
   ]
  },
  {
   "cell_type": "code",
   "execution_count": 22,
   "metadata": {},
   "outputs": [
    {
     "name": "stdout",
     "output_type": "stream",
     "text": [
      "/var/folders/2l/7zccp5bs1234yz4ns62s796m0000gn/T/poster_67_qy0sc.jpg\n"
     ]
    }
   ],
   "source": [
    "print(content)"
   ]
  },
  {
   "cell_type": "code",
   "execution_count": 23,
   "metadata": {},
   "outputs": [],
   "source": [
    "content = File(fh)"
   ]
  },
  {
   "cell_type": "code",
   "execution_count": 25,
   "metadata": {},
   "outputs": [
    {
     "name": "stdout",
     "output_type": "stream",
     "text": [
      "<File: /var/folders/2l/7zccp5bs1234yz4ns62s796m0000gn/T/poster_67_qy0sc.jpg>\n"
     ]
    }
   ],
   "source": [
    "print(repr(content))"
   ]
  },
  {
   "cell_type": "code",
   "execution_count": 26,
   "metadata": {},
   "outputs": [
    {
     "name": "stdout",
     "output_type": "stream",
     "text": [
      "<_io.BufferedReader name='/var/folders/2l/7zccp5bs1234yz4ns62s796m0000gn/T/poster_67_qy0sc.jpg'>\n"
     ]
    }
   ],
   "source": [
    "print(content.file)"
   ]
  },
  {
   "cell_type": "code",
   "execution_count": 19,
   "metadata": {},
   "outputs": [
    {
     "name": "stdout",
     "output_type": "stream",
     "text": [
      "Help on class File in module django.core.files.base:\n",
      "\n",
      "class File(django.core.files.utils.FileProxyMixin)\n",
      " |  File(file, name=None)\n",
      " |  \n",
      " |  A mixin class used to forward file methods to an underlaying file\n",
      " |  object.  The internal file object has to be called \"file\"::\n",
      " |  \n",
      " |      class FileProxy(FileProxyMixin):\n",
      " |          def __init__(self, file):\n",
      " |              self.file = file\n",
      " |  \n",
      " |  Method resolution order:\n",
      " |      File\n",
      " |      django.core.files.utils.FileProxyMixin\n",
      " |      builtins.object\n",
      " |  \n",
      " |  Methods defined here:\n",
      " |  \n",
      " |  __bool__(self)\n",
      " |  \n",
      " |  __enter__(self)\n",
      " |  \n",
      " |  __exit__(self, exc_type, exc_value, tb)\n",
      " |  \n",
      " |  __init__(self, file, name=None)\n",
      " |      Initialize self.  See help(type(self)) for accurate signature.\n",
      " |  \n",
      " |  __iter__(self)\n",
      " |  \n",
      " |  __len__(self)\n",
      " |  \n",
      " |  __repr__(self)\n",
      " |      Return repr(self).\n",
      " |  \n",
      " |  __str__(self)\n",
      " |      Return str(self).\n",
      " |  \n",
      " |  chunks(self, chunk_size=None)\n",
      " |      Read the file and yield chunks of ``chunk_size`` bytes (defaults to\n",
      " |      ``File.DEFAULT_CHUNK_SIZE``).\n",
      " |  \n",
      " |  close(self)\n",
      " |  \n",
      " |  multiple_chunks(self, chunk_size=None)\n",
      " |      Return ``True`` if you can expect multiple chunks.\n",
      " |      \n",
      " |      NB: If a particular file representation is in memory, subclasses should\n",
      " |      always return ``False`` -- there's no good reason to read from memory in\n",
      " |      chunks.\n",
      " |  \n",
      " |  open(self, mode=None)\n",
      " |  \n",
      " |  size = <django.utils.functional.cached_property object>\n",
      " |  ----------------------------------------------------------------------\n",
      " |  Data and other attributes defined here:\n",
      " |  \n",
      " |  DEFAULT_CHUNK_SIZE = 65536\n",
      " |  \n",
      " |  ----------------------------------------------------------------------\n",
      " |  Methods inherited from django.core.files.utils.FileProxyMixin:\n",
      " |  \n",
      " |  readable(self)\n",
      " |  \n",
      " |  seekable(self)\n",
      " |  \n",
      " |  writable(self)\n",
      " |  \n",
      " |  ----------------------------------------------------------------------\n",
      " |  Data descriptors inherited from django.core.files.utils.FileProxyMixin:\n",
      " |  \n",
      " |  __dict__\n",
      " |      dictionary for instance variables (if defined)\n",
      " |  \n",
      " |  __weakref__\n",
      " |      list of weak references to the object (if defined)\n",
      " |  \n",
      " |  closed\n",
      " |  \n",
      " |  encoding\n",
      " |  \n",
      " |  fileno\n",
      " |  \n",
      " |  flush\n",
      " |  \n",
      " |  isatty\n",
      " |  \n",
      " |  newlines\n",
      " |  \n",
      " |  read\n",
      " |  \n",
      " |  readinto\n",
      " |  \n",
      " |  readline\n",
      " |  \n",
      " |  readlines\n",
      " |  \n",
      " |  seek\n",
      " |  \n",
      " |  tell\n",
      " |  \n",
      " |  truncate\n",
      " |  \n",
      " |  write\n",
      " |  \n",
      " |  writelines\n",
      "\n"
     ]
    }
   ],
   "source": [
    "help(File)"
   ]
  },
  {
   "cell_type": "code",
   "execution_count": 7,
   "metadata": {},
   "outputs": [
    {
     "name": "stdout",
     "output_type": "stream",
     "text": [
      "Help on built-in function open in module io:\n",
      "\n",
      "open(file, mode='r', buffering=-1, encoding=None, errors=None, newline=None, closefd=True, opener=None)\n",
      "    Open file and return a stream.  Raise OSError upon failure.\n",
      "    \n",
      "    file is either a text or byte string giving the name (and the path\n",
      "    if the file isn't in the current working directory) of the file to\n",
      "    be opened or an integer file descriptor of the file to be\n",
      "    wrapped. (If a file descriptor is given, it is closed when the\n",
      "    returned I/O object is closed, unless closefd is set to False.)\n",
      "    \n",
      "    mode is an optional string that specifies the mode in which the file\n",
      "    is opened. It defaults to 'r' which means open for reading in text\n",
      "    mode.  Other common values are 'w' for writing (truncating the file if\n",
      "    it already exists), 'x' for creating and writing to a new file, and\n",
      "    'a' for appending (which on some Unix systems, means that all writes\n",
      "    append to the end of the file regardless of the current seek position).\n",
      "    In text mode, if encoding is not specified the encoding used is platform\n",
      "    dependent: locale.getpreferredencoding(False) is called to get the\n",
      "    current locale encoding. (For reading and writing raw bytes use binary\n",
      "    mode and leave encoding unspecified.) The available modes are:\n",
      "    \n",
      "    ========= ===============================================================\n",
      "    Character Meaning\n",
      "    --------- ---------------------------------------------------------------\n",
      "    'r'       open for reading (default)\n",
      "    'w'       open for writing, truncating the file first\n",
      "    'x'       create a new file and open it for writing\n",
      "    'a'       open for writing, appending to the end of the file if it exists\n",
      "    'b'       binary mode\n",
      "    't'       text mode (default)\n",
      "    '+'       open a disk file for updating (reading and writing)\n",
      "    'U'       universal newline mode (deprecated)\n",
      "    ========= ===============================================================\n",
      "    \n",
      "    The default mode is 'rt' (open for reading text). For binary random\n",
      "    access, the mode 'w+b' opens and truncates the file to 0 bytes, while\n",
      "    'r+b' opens the file without truncation. The 'x' mode implies 'w' and\n",
      "    raises an `FileExistsError` if the file already exists.\n",
      "    \n",
      "    Python distinguishes between files opened in binary and text modes,\n",
      "    even when the underlying operating system doesn't. Files opened in\n",
      "    binary mode (appending 'b' to the mode argument) return contents as\n",
      "    bytes objects without any decoding. In text mode (the default, or when\n",
      "    't' is appended to the mode argument), the contents of the file are\n",
      "    returned as strings, the bytes having been first decoded using a\n",
      "    platform-dependent encoding or using the specified encoding if given.\n",
      "    \n",
      "    'U' mode is deprecated and will raise an exception in future versions\n",
      "    of Python.  It has no effect in Python 3.  Use newline to control\n",
      "    universal newlines mode.\n",
      "    \n",
      "    buffering is an optional integer used to set the buffering policy.\n",
      "    Pass 0 to switch buffering off (only allowed in binary mode), 1 to select\n",
      "    line buffering (only usable in text mode), and an integer > 1 to indicate\n",
      "    the size of a fixed-size chunk buffer.  When no buffering argument is\n",
      "    given, the default buffering policy works as follows:\n",
      "    \n",
      "    * Binary files are buffered in fixed-size chunks; the size of the buffer\n",
      "      is chosen using a heuristic trying to determine the underlying device's\n",
      "      \"block size\" and falling back on `io.DEFAULT_BUFFER_SIZE`.\n",
      "      On many systems, the buffer will typically be 4096 or 8192 bytes long.\n",
      "    \n",
      "    * \"Interactive\" text files (files for which isatty() returns True)\n",
      "      use line buffering.  Other text files use the policy described above\n",
      "      for binary files.\n",
      "    \n",
      "    encoding is the name of the encoding used to decode or encode the\n",
      "    file. This should only be used in text mode. The default encoding is\n",
      "    platform dependent, but any encoding supported by Python can be\n",
      "    passed.  See the codecs module for the list of supported encodings.\n",
      "    \n",
      "    errors is an optional string that specifies how encoding errors are to\n",
      "    be handled---this argument should not be used in binary mode. Pass\n",
      "    'strict' to raise a ValueError exception if there is an encoding error\n",
      "    (the default of None has the same effect), or pass 'ignore' to ignore\n",
      "    errors. (Note that ignoring encoding errors can lead to data loss.)\n",
      "    See the documentation for codecs.register or run 'help(codecs.Codec)'\n",
      "    for a list of the permitted encoding error strings.\n",
      "    \n",
      "    newline controls how universal newlines works (it only applies to text\n",
      "    mode). It can be None, '', '\\n', '\\r', and '\\r\\n'.  It works as\n",
      "    follows:\n",
      "    \n",
      "    * On input, if newline is None, universal newlines mode is\n",
      "      enabled. Lines in the input can end in '\\n', '\\r', or '\\r\\n', and\n",
      "      these are translated into '\\n' before being returned to the\n",
      "      caller. If it is '', universal newline mode is enabled, but line\n",
      "      endings are returned to the caller untranslated. If it has any of\n",
      "      the other legal values, input lines are only terminated by the given\n",
      "      string, and the line ending is returned to the caller untranslated.\n",
      "    \n",
      "    * On output, if newline is None, any '\\n' characters written are\n",
      "      translated to the system default line separator, os.linesep. If\n",
      "      newline is '' or '\\n', no translation takes place. If newline is any\n",
      "      of the other legal values, any '\\n' characters written are translated\n",
      "      to the given string.\n",
      "    \n",
      "    If closefd is False, the underlying file descriptor will be kept open\n",
      "    when the file is closed. This does not work when a file name is given\n",
      "    and must be True in that case.\n",
      "    \n",
      "    A custom opener can be used by passing a callable as *opener*. The\n",
      "    underlying file descriptor for the file object is then obtained by\n",
      "    calling *opener* with (*file*, *flags*). *opener* must return an open\n",
      "    file descriptor (passing os.open as *opener* results in functionality\n",
      "    similar to passing None).\n",
      "    \n",
      "    open() returns a file object whose type depends on the mode, and\n",
      "    through which the standard file operations such as reading and writing\n",
      "    are performed. When open() is used to open a file in a text mode ('w',\n",
      "    'r', 'wt', 'rt', etc.), it returns a TextIOWrapper. When used to open\n",
      "    a file in a binary mode, the returned class varies: in read binary\n",
      "    mode, it returns a BufferedReader; in write binary and append binary\n",
      "    modes, it returns a BufferedWriter, and in read/write mode, it returns\n",
      "    a BufferedRandom.\n",
      "    \n",
      "    It is also possible to use a string or bytearray as a file for both\n",
      "    reading and writing. For strings StringIO can be used like a file\n",
      "    opened in a text mode, and for bytes a BytesIO can be used like a file\n",
      "    opened in a binary mode.\n",
      "\n"
     ]
    }
   ],
   "source": [
    "help(open)"
   ]
  },
  {
   "cell_type": "code",
   "execution_count": 12,
   "metadata": {},
   "outputs": [
    {
     "ename": "AttributeError",
     "evalue": "'File' object has no attribute 'read'",
     "output_type": "error",
     "traceback": [
      "\u001b[0;31m---------------------------------------------------------------------------\u001b[0m",
      "\u001b[0;31mAttributeError\u001b[0m                            Traceback (most recent call last)",
      "\u001b[0;32m<ipython-input-12-c334744140a8>\u001b[0m in \u001b[0;36m<module>\u001b[0;34m()\u001b[0m\n\u001b[0;32m----> 1\u001b[0;31m \u001b[0mvideo\u001b[0m\u001b[0;34m.\u001b[0m\u001b[0mposter\u001b[0m\u001b[0;34m.\u001b[0m\u001b[0msave\u001b[0m\u001b[0;34m(\u001b[0m\u001b[0mname\u001b[0m\u001b[0;34m,\u001b[0m \u001b[0mcontent\u001b[0m\u001b[0;34m,\u001b[0m \u001b[0msave\u001b[0m\u001b[0;34m=\u001b[0m\u001b[0;32mFalse\u001b[0m\u001b[0;34m)\u001b[0m\u001b[0;34m\u001b[0m\u001b[0m\n\u001b[0m",
      "\u001b[0;32m~/.virtualenvs/homepage/lib/python3.7/site-packages/django/db/models/fields/files.py\u001b[0m in \u001b[0;36msave\u001b[0;34m(self, name, content, save)\u001b[0m\n\u001b[1;32m     85\u001b[0m     \u001b[0;32mdef\u001b[0m \u001b[0msave\u001b[0m\u001b[0;34m(\u001b[0m\u001b[0mself\u001b[0m\u001b[0;34m,\u001b[0m \u001b[0mname\u001b[0m\u001b[0;34m,\u001b[0m \u001b[0mcontent\u001b[0m\u001b[0;34m,\u001b[0m \u001b[0msave\u001b[0m\u001b[0;34m=\u001b[0m\u001b[0;32mTrue\u001b[0m\u001b[0;34m)\u001b[0m\u001b[0;34m:\u001b[0m\u001b[0;34m\u001b[0m\u001b[0m\n\u001b[1;32m     86\u001b[0m         \u001b[0mname\u001b[0m \u001b[0;34m=\u001b[0m \u001b[0mself\u001b[0m\u001b[0;34m.\u001b[0m\u001b[0mfield\u001b[0m\u001b[0;34m.\u001b[0m\u001b[0mgenerate_filename\u001b[0m\u001b[0;34m(\u001b[0m\u001b[0mself\u001b[0m\u001b[0;34m.\u001b[0m\u001b[0minstance\u001b[0m\u001b[0;34m,\u001b[0m \u001b[0mname\u001b[0m\u001b[0;34m)\u001b[0m\u001b[0;34m\u001b[0m\u001b[0m\n\u001b[0;32m---> 87\u001b[0;31m         \u001b[0mself\u001b[0m\u001b[0;34m.\u001b[0m\u001b[0mname\u001b[0m \u001b[0;34m=\u001b[0m \u001b[0mself\u001b[0m\u001b[0;34m.\u001b[0m\u001b[0mstorage\u001b[0m\u001b[0;34m.\u001b[0m\u001b[0msave\u001b[0m\u001b[0;34m(\u001b[0m\u001b[0mname\u001b[0m\u001b[0;34m,\u001b[0m \u001b[0mcontent\u001b[0m\u001b[0;34m,\u001b[0m \u001b[0mmax_length\u001b[0m\u001b[0;34m=\u001b[0m\u001b[0mself\u001b[0m\u001b[0;34m.\u001b[0m\u001b[0mfield\u001b[0m\u001b[0;34m.\u001b[0m\u001b[0mmax_length\u001b[0m\u001b[0;34m)\u001b[0m\u001b[0;34m\u001b[0m\u001b[0m\n\u001b[0m\u001b[1;32m     88\u001b[0m         \u001b[0msetattr\u001b[0m\u001b[0;34m(\u001b[0m\u001b[0mself\u001b[0m\u001b[0;34m.\u001b[0m\u001b[0minstance\u001b[0m\u001b[0;34m,\u001b[0m \u001b[0mself\u001b[0m\u001b[0;34m.\u001b[0m\u001b[0mfield\u001b[0m\u001b[0;34m.\u001b[0m\u001b[0mname\u001b[0m\u001b[0;34m,\u001b[0m \u001b[0mself\u001b[0m\u001b[0;34m.\u001b[0m\u001b[0mname\u001b[0m\u001b[0;34m)\u001b[0m\u001b[0;34m\u001b[0m\u001b[0m\n\u001b[1;32m     89\u001b[0m         \u001b[0mself\u001b[0m\u001b[0;34m.\u001b[0m\u001b[0m_committed\u001b[0m \u001b[0;34m=\u001b[0m \u001b[0;32mTrue\u001b[0m\u001b[0;34m\u001b[0m\u001b[0m\n",
      "\u001b[0;32m~/.virtualenvs/homepage/lib/python3.7/site-packages/django/core/files/storage.py\u001b[0m in \u001b[0;36msave\u001b[0;34m(self, name, content, max_length)\u001b[0m\n\u001b[1;32m     47\u001b[0m \u001b[0;34m\u001b[0m\u001b[0m\n\u001b[1;32m     48\u001b[0m         \u001b[0mname\u001b[0m \u001b[0;34m=\u001b[0m \u001b[0mself\u001b[0m\u001b[0;34m.\u001b[0m\u001b[0mget_available_name\u001b[0m\u001b[0;34m(\u001b[0m\u001b[0mname\u001b[0m\u001b[0;34m,\u001b[0m \u001b[0mmax_length\u001b[0m\u001b[0;34m=\u001b[0m\u001b[0mmax_length\u001b[0m\u001b[0;34m)\u001b[0m\u001b[0;34m\u001b[0m\u001b[0m\n\u001b[0;32m---> 49\u001b[0;31m         \u001b[0;32mreturn\u001b[0m \u001b[0mself\u001b[0m\u001b[0;34m.\u001b[0m\u001b[0m_save\u001b[0m\u001b[0;34m(\u001b[0m\u001b[0mname\u001b[0m\u001b[0;34m,\u001b[0m \u001b[0mcontent\u001b[0m\u001b[0;34m)\u001b[0m\u001b[0;34m\u001b[0m\u001b[0m\n\u001b[0m\u001b[1;32m     50\u001b[0m \u001b[0;34m\u001b[0m\u001b[0m\n\u001b[1;32m     51\u001b[0m     \u001b[0;31m# These methods are part of the public API, with default implementations.\u001b[0m\u001b[0;34m\u001b[0m\u001b[0;34m\u001b[0m\u001b[0m\n",
      "\u001b[0;32m~/.virtualenvs/homepage/lib/python3.7/site-packages/django/core/files/storage.py\u001b[0m in \u001b[0;36m_save\u001b[0;34m(self, name, content)\u001b[0m\n\u001b[1;32m    266\u001b[0m                     \u001b[0;32mtry\u001b[0m\u001b[0;34m:\u001b[0m\u001b[0;34m\u001b[0m\u001b[0m\n\u001b[1;32m    267\u001b[0m                         \u001b[0mlocks\u001b[0m\u001b[0;34m.\u001b[0m\u001b[0mlock\u001b[0m\u001b[0;34m(\u001b[0m\u001b[0mfd\u001b[0m\u001b[0;34m,\u001b[0m \u001b[0mlocks\u001b[0m\u001b[0;34m.\u001b[0m\u001b[0mLOCK_EX\u001b[0m\u001b[0;34m)\u001b[0m\u001b[0;34m\u001b[0m\u001b[0m\n\u001b[0;32m--> 268\u001b[0;31m                         \u001b[0;32mfor\u001b[0m \u001b[0mchunk\u001b[0m \u001b[0;32min\u001b[0m \u001b[0mcontent\u001b[0m\u001b[0;34m.\u001b[0m\u001b[0mchunks\u001b[0m\u001b[0;34m(\u001b[0m\u001b[0;34m)\u001b[0m\u001b[0;34m:\u001b[0m\u001b[0;34m\u001b[0m\u001b[0m\n\u001b[0m\u001b[1;32m    269\u001b[0m                             \u001b[0;32mif\u001b[0m \u001b[0m_file\u001b[0m \u001b[0;32mis\u001b[0m \u001b[0;32mNone\u001b[0m\u001b[0;34m:\u001b[0m\u001b[0;34m\u001b[0m\u001b[0m\n\u001b[1;32m    270\u001b[0m                                 \u001b[0mmode\u001b[0m \u001b[0;34m=\u001b[0m \u001b[0;34m'wb'\u001b[0m \u001b[0;32mif\u001b[0m \u001b[0misinstance\u001b[0m\u001b[0;34m(\u001b[0m\u001b[0mchunk\u001b[0m\u001b[0;34m,\u001b[0m \u001b[0mbytes\u001b[0m\u001b[0;34m)\u001b[0m \u001b[0;32melse\u001b[0m \u001b[0;34m'wt'\u001b[0m\u001b[0;34m\u001b[0m\u001b[0m\n",
      "\u001b[0;32m~/.virtualenvs/homepage/lib/python3.7/site-packages/django/core/files/base.py\u001b[0m in \u001b[0;36mchunks\u001b[0;34m(self, chunk_size)\u001b[0m\n\u001b[1;32m     58\u001b[0m \u001b[0;34m\u001b[0m\u001b[0m\n\u001b[1;32m     59\u001b[0m         \u001b[0;32mwhile\u001b[0m \u001b[0;32mTrue\u001b[0m\u001b[0;34m:\u001b[0m\u001b[0;34m\u001b[0m\u001b[0m\n\u001b[0;32m---> 60\u001b[0;31m             \u001b[0mdata\u001b[0m \u001b[0;34m=\u001b[0m \u001b[0mself\u001b[0m\u001b[0;34m.\u001b[0m\u001b[0mread\u001b[0m\u001b[0;34m(\u001b[0m\u001b[0mchunk_size\u001b[0m\u001b[0;34m)\u001b[0m\u001b[0;34m\u001b[0m\u001b[0m\n\u001b[0m\u001b[1;32m     61\u001b[0m             \u001b[0;32mif\u001b[0m \u001b[0;32mnot\u001b[0m \u001b[0mdata\u001b[0m\u001b[0;34m:\u001b[0m\u001b[0;34m\u001b[0m\u001b[0m\n\u001b[1;32m     62\u001b[0m                 \u001b[0;32mbreak\u001b[0m\u001b[0;34m\u001b[0m\u001b[0m\n",
      "\u001b[0;32m~/.virtualenvs/homepage/lib/python3.7/site-packages/django/core/files/utils.py\u001b[0m in \u001b[0;36m<lambda>\u001b[0;34m(self)\u001b[0m\n\u001b[1;32m     14\u001b[0m     \u001b[0misatty\u001b[0m \u001b[0;34m=\u001b[0m \u001b[0mproperty\u001b[0m\u001b[0;34m(\u001b[0m\u001b[0;32mlambda\u001b[0m \u001b[0mself\u001b[0m\u001b[0;34m:\u001b[0m \u001b[0mself\u001b[0m\u001b[0;34m.\u001b[0m\u001b[0mfile\u001b[0m\u001b[0;34m.\u001b[0m\u001b[0misatty\u001b[0m\u001b[0;34m)\u001b[0m\u001b[0;34m\u001b[0m\u001b[0m\n\u001b[1;32m     15\u001b[0m     \u001b[0mnewlines\u001b[0m \u001b[0;34m=\u001b[0m \u001b[0mproperty\u001b[0m\u001b[0;34m(\u001b[0m\u001b[0;32mlambda\u001b[0m \u001b[0mself\u001b[0m\u001b[0;34m:\u001b[0m \u001b[0mself\u001b[0m\u001b[0;34m.\u001b[0m\u001b[0mfile\u001b[0m\u001b[0;34m.\u001b[0m\u001b[0mnewlines\u001b[0m\u001b[0;34m)\u001b[0m\u001b[0;34m\u001b[0m\u001b[0m\n\u001b[0;32m---> 16\u001b[0;31m     \u001b[0mread\u001b[0m \u001b[0;34m=\u001b[0m \u001b[0mproperty\u001b[0m\u001b[0;34m(\u001b[0m\u001b[0;32mlambda\u001b[0m \u001b[0mself\u001b[0m\u001b[0;34m:\u001b[0m \u001b[0mself\u001b[0m\u001b[0;34m.\u001b[0m\u001b[0mfile\u001b[0m\u001b[0;34m.\u001b[0m\u001b[0mread\u001b[0m\u001b[0;34m)\u001b[0m\u001b[0;34m\u001b[0m\u001b[0m\n\u001b[0m\u001b[1;32m     17\u001b[0m     \u001b[0mreadinto\u001b[0m \u001b[0;34m=\u001b[0m \u001b[0mproperty\u001b[0m\u001b[0;34m(\u001b[0m\u001b[0;32mlambda\u001b[0m \u001b[0mself\u001b[0m\u001b[0;34m:\u001b[0m \u001b[0mself\u001b[0m\u001b[0;34m.\u001b[0m\u001b[0mfile\u001b[0m\u001b[0;34m.\u001b[0m\u001b[0mreadinto\u001b[0m\u001b[0;34m)\u001b[0m\u001b[0;34m\u001b[0m\u001b[0m\n\u001b[1;32m     18\u001b[0m     \u001b[0mreadline\u001b[0m \u001b[0;34m=\u001b[0m \u001b[0mproperty\u001b[0m\u001b[0;34m(\u001b[0m\u001b[0;32mlambda\u001b[0m \u001b[0mself\u001b[0m\u001b[0;34m:\u001b[0m \u001b[0mself\u001b[0m\u001b[0;34m.\u001b[0m\u001b[0mfile\u001b[0m\u001b[0;34m.\u001b[0m\u001b[0mreadline\u001b[0m\u001b[0;34m)\u001b[0m\u001b[0;34m\u001b[0m\u001b[0m\n",
      "\u001b[0;31mAttributeError\u001b[0m: 'File' object has no attribute 'read'"
     ]
    }
   ],
   "source": [
    "video.poster.save(name, content, save=False)"
   ]
  },
  {
   "cell_type": "code",
   "execution_count": 19,
   "metadata": {},
   "outputs": [
    {
     "data": {
      "text/plain": [
       "100"
      ]
     },
     "execution_count": 19,
     "metadata": {},
     "output_type": "execute_result"
    }
   ],
   "source": [
    "video.poster.field.max_length"
   ]
  },
  {
   "cell_type": "code",
   "execution_count": 20,
   "metadata": {},
   "outputs": [
    {
     "ename": "AttributeError",
     "evalue": "'File' object has no attribute 'read'",
     "output_type": "error",
     "traceback": [
      "\u001b[0;31m---------------------------------------------------------------------------\u001b[0m",
      "\u001b[0;31mAttributeError\u001b[0m                            Traceback (most recent call last)",
      "\u001b[0;32m<ipython-input-20-ab880aa19322>\u001b[0m in \u001b[0;36m<module>\u001b[0;34m()\u001b[0m\n\u001b[0;32m----> 1\u001b[0;31m \u001b[0mvideo\u001b[0m\u001b[0;34m.\u001b[0m\u001b[0mposter\u001b[0m\u001b[0;34m.\u001b[0m\u001b[0mstorage\u001b[0m\u001b[0;34m.\u001b[0m\u001b[0msave\u001b[0m\u001b[0;34m(\u001b[0m\u001b[0mname\u001b[0m\u001b[0;34m,\u001b[0m \u001b[0mcontent\u001b[0m\u001b[0;34m,\u001b[0m \u001b[0mmax_length\u001b[0m\u001b[0;34m=\u001b[0m\u001b[0mvideo\u001b[0m\u001b[0;34m.\u001b[0m\u001b[0mposter\u001b[0m\u001b[0;34m.\u001b[0m\u001b[0mfield\u001b[0m\u001b[0;34m.\u001b[0m\u001b[0mmax_length\u001b[0m\u001b[0;34m)\u001b[0m\u001b[0;34m\u001b[0m\u001b[0m\n\u001b[0m",
      "\u001b[0;32m~/.virtualenvs/homepage/lib/python3.7/site-packages/django/core/files/storage.py\u001b[0m in \u001b[0;36msave\u001b[0;34m(self, name, content, max_length)\u001b[0m\n\u001b[1;32m     47\u001b[0m \u001b[0;34m\u001b[0m\u001b[0m\n\u001b[1;32m     48\u001b[0m         \u001b[0mname\u001b[0m \u001b[0;34m=\u001b[0m \u001b[0mself\u001b[0m\u001b[0;34m.\u001b[0m\u001b[0mget_available_name\u001b[0m\u001b[0;34m(\u001b[0m\u001b[0mname\u001b[0m\u001b[0;34m,\u001b[0m \u001b[0mmax_length\u001b[0m\u001b[0;34m=\u001b[0m\u001b[0mmax_length\u001b[0m\u001b[0;34m)\u001b[0m\u001b[0;34m\u001b[0m\u001b[0m\n\u001b[0;32m---> 49\u001b[0;31m         \u001b[0;32mreturn\u001b[0m \u001b[0mself\u001b[0m\u001b[0;34m.\u001b[0m\u001b[0m_save\u001b[0m\u001b[0;34m(\u001b[0m\u001b[0mname\u001b[0m\u001b[0;34m,\u001b[0m \u001b[0mcontent\u001b[0m\u001b[0;34m)\u001b[0m\u001b[0;34m\u001b[0m\u001b[0m\n\u001b[0m\u001b[1;32m     50\u001b[0m \u001b[0;34m\u001b[0m\u001b[0m\n\u001b[1;32m     51\u001b[0m     \u001b[0;31m# These methods are part of the public API, with default implementations.\u001b[0m\u001b[0;34m\u001b[0m\u001b[0;34m\u001b[0m\u001b[0m\n",
      "\u001b[0;32m~/.virtualenvs/homepage/lib/python3.7/site-packages/django/core/files/storage.py\u001b[0m in \u001b[0;36m_save\u001b[0;34m(self, name, content)\u001b[0m\n\u001b[1;32m    266\u001b[0m                     \u001b[0;32mtry\u001b[0m\u001b[0;34m:\u001b[0m\u001b[0;34m\u001b[0m\u001b[0m\n\u001b[1;32m    267\u001b[0m                         \u001b[0mlocks\u001b[0m\u001b[0;34m.\u001b[0m\u001b[0mlock\u001b[0m\u001b[0;34m(\u001b[0m\u001b[0mfd\u001b[0m\u001b[0;34m,\u001b[0m \u001b[0mlocks\u001b[0m\u001b[0;34m.\u001b[0m\u001b[0mLOCK_EX\u001b[0m\u001b[0;34m)\u001b[0m\u001b[0;34m\u001b[0m\u001b[0m\n\u001b[0;32m--> 268\u001b[0;31m                         \u001b[0;32mfor\u001b[0m \u001b[0mchunk\u001b[0m \u001b[0;32min\u001b[0m \u001b[0mcontent\u001b[0m\u001b[0;34m.\u001b[0m\u001b[0mchunks\u001b[0m\u001b[0;34m(\u001b[0m\u001b[0;34m)\u001b[0m\u001b[0;34m:\u001b[0m\u001b[0;34m\u001b[0m\u001b[0m\n\u001b[0m\u001b[1;32m    269\u001b[0m                             \u001b[0;32mif\u001b[0m \u001b[0m_file\u001b[0m \u001b[0;32mis\u001b[0m \u001b[0;32mNone\u001b[0m\u001b[0;34m:\u001b[0m\u001b[0;34m\u001b[0m\u001b[0m\n\u001b[1;32m    270\u001b[0m                                 \u001b[0mmode\u001b[0m \u001b[0;34m=\u001b[0m \u001b[0;34m'wb'\u001b[0m \u001b[0;32mif\u001b[0m \u001b[0misinstance\u001b[0m\u001b[0;34m(\u001b[0m\u001b[0mchunk\u001b[0m\u001b[0;34m,\u001b[0m \u001b[0mbytes\u001b[0m\u001b[0;34m)\u001b[0m \u001b[0;32melse\u001b[0m \u001b[0;34m'wt'\u001b[0m\u001b[0;34m\u001b[0m\u001b[0m\n",
      "\u001b[0;32m~/.virtualenvs/homepage/lib/python3.7/site-packages/django/core/files/base.py\u001b[0m in \u001b[0;36mchunks\u001b[0;34m(self, chunk_size)\u001b[0m\n\u001b[1;32m     58\u001b[0m \u001b[0;34m\u001b[0m\u001b[0m\n\u001b[1;32m     59\u001b[0m         \u001b[0;32mwhile\u001b[0m \u001b[0;32mTrue\u001b[0m\u001b[0;34m:\u001b[0m\u001b[0;34m\u001b[0m\u001b[0m\n\u001b[0;32m---> 60\u001b[0;31m             \u001b[0mdata\u001b[0m \u001b[0;34m=\u001b[0m \u001b[0mself\u001b[0m\u001b[0;34m.\u001b[0m\u001b[0mread\u001b[0m\u001b[0;34m(\u001b[0m\u001b[0mchunk_size\u001b[0m\u001b[0;34m)\u001b[0m\u001b[0;34m\u001b[0m\u001b[0m\n\u001b[0m\u001b[1;32m     61\u001b[0m             \u001b[0;32mif\u001b[0m \u001b[0;32mnot\u001b[0m \u001b[0mdata\u001b[0m\u001b[0;34m:\u001b[0m\u001b[0;34m\u001b[0m\u001b[0m\n\u001b[1;32m     62\u001b[0m                 \u001b[0;32mbreak\u001b[0m\u001b[0;34m\u001b[0m\u001b[0m\n",
      "\u001b[0;32m~/.virtualenvs/homepage/lib/python3.7/site-packages/django/core/files/utils.py\u001b[0m in \u001b[0;36m<lambda>\u001b[0;34m(self)\u001b[0m\n\u001b[1;32m     14\u001b[0m     \u001b[0misatty\u001b[0m \u001b[0;34m=\u001b[0m \u001b[0mproperty\u001b[0m\u001b[0;34m(\u001b[0m\u001b[0;32mlambda\u001b[0m \u001b[0mself\u001b[0m\u001b[0;34m:\u001b[0m \u001b[0mself\u001b[0m\u001b[0;34m.\u001b[0m\u001b[0mfile\u001b[0m\u001b[0;34m.\u001b[0m\u001b[0misatty\u001b[0m\u001b[0;34m)\u001b[0m\u001b[0;34m\u001b[0m\u001b[0m\n\u001b[1;32m     15\u001b[0m     \u001b[0mnewlines\u001b[0m \u001b[0;34m=\u001b[0m \u001b[0mproperty\u001b[0m\u001b[0;34m(\u001b[0m\u001b[0;32mlambda\u001b[0m \u001b[0mself\u001b[0m\u001b[0;34m:\u001b[0m \u001b[0mself\u001b[0m\u001b[0;34m.\u001b[0m\u001b[0mfile\u001b[0m\u001b[0;34m.\u001b[0m\u001b[0mnewlines\u001b[0m\u001b[0;34m)\u001b[0m\u001b[0;34m\u001b[0m\u001b[0m\n\u001b[0;32m---> 16\u001b[0;31m     \u001b[0mread\u001b[0m \u001b[0;34m=\u001b[0m \u001b[0mproperty\u001b[0m\u001b[0;34m(\u001b[0m\u001b[0;32mlambda\u001b[0m \u001b[0mself\u001b[0m\u001b[0;34m:\u001b[0m \u001b[0mself\u001b[0m\u001b[0;34m.\u001b[0m\u001b[0mfile\u001b[0m\u001b[0;34m.\u001b[0m\u001b[0mread\u001b[0m\u001b[0;34m)\u001b[0m\u001b[0;34m\u001b[0m\u001b[0m\n\u001b[0m\u001b[1;32m     17\u001b[0m     \u001b[0mreadinto\u001b[0m \u001b[0;34m=\u001b[0m \u001b[0mproperty\u001b[0m\u001b[0;34m(\u001b[0m\u001b[0;32mlambda\u001b[0m \u001b[0mself\u001b[0m\u001b[0;34m:\u001b[0m \u001b[0mself\u001b[0m\u001b[0;34m.\u001b[0m\u001b[0mfile\u001b[0m\u001b[0;34m.\u001b[0m\u001b[0mreadinto\u001b[0m\u001b[0;34m)\u001b[0m\u001b[0;34m\u001b[0m\u001b[0m\n\u001b[1;32m     18\u001b[0m     \u001b[0mreadline\u001b[0m \u001b[0;34m=\u001b[0m \u001b[0mproperty\u001b[0m\u001b[0;34m(\u001b[0m\u001b[0;32mlambda\u001b[0m \u001b[0mself\u001b[0m\u001b[0;34m:\u001b[0m \u001b[0mself\u001b[0m\u001b[0;34m.\u001b[0m\u001b[0mfile\u001b[0m\u001b[0;34m.\u001b[0m\u001b[0mreadline\u001b[0m\u001b[0;34m)\u001b[0m\u001b[0;34m\u001b[0m\u001b[0m\n",
      "\u001b[0;31mAttributeError\u001b[0m: 'File' object has no attribute 'read'"
     ]
    }
   ],
   "source": [
    "video.poster.storage.save(name, content, max_length=video.poster.field.max_length)"
   ]
  },
  {
   "cell_type": "code",
   "execution_count": 21,
   "metadata": {},
   "outputs": [
    {
     "ename": "AttributeError",
     "evalue": "'File' object has no attribute 'chunks'",
     "output_type": "error",
     "traceback": [
      "\u001b[0;31m---------------------------------------------------------------------------\u001b[0m",
      "\u001b[0;31mAttributeError\u001b[0m                            Traceback (most recent call last)",
      "\u001b[0;32m<ipython-input-21-d8be70621cec>\u001b[0m in \u001b[0;36m<module>\u001b[0;34m()\u001b[0m\n\u001b[0;32m----> 1\u001b[0;31m \u001b[0mvideo\u001b[0m\u001b[0;34m.\u001b[0m\u001b[0mposter\u001b[0m\u001b[0;34m.\u001b[0m\u001b[0mstorage\u001b[0m\u001b[0;34m.\u001b[0m\u001b[0m_save\u001b[0m\u001b[0;34m(\u001b[0m\u001b[0mname\u001b[0m\u001b[0;34m,\u001b[0m \u001b[0mcontent\u001b[0m\u001b[0;34m)\u001b[0m\u001b[0;34m\u001b[0m\u001b[0m\n\u001b[0m",
      "\u001b[0;32m~/.virtualenvs/homepage/lib/python3.7/site-packages/django/core/files/storage.py\u001b[0m in \u001b[0;36m_save\u001b[0;34m(self, name, content)\u001b[0m\n\u001b[1;32m    266\u001b[0m                     \u001b[0;32mtry\u001b[0m\u001b[0;34m:\u001b[0m\u001b[0;34m\u001b[0m\u001b[0m\n\u001b[1;32m    267\u001b[0m                         \u001b[0mlocks\u001b[0m\u001b[0;34m.\u001b[0m\u001b[0mlock\u001b[0m\u001b[0;34m(\u001b[0m\u001b[0mfd\u001b[0m\u001b[0;34m,\u001b[0m \u001b[0mlocks\u001b[0m\u001b[0;34m.\u001b[0m\u001b[0mLOCK_EX\u001b[0m\u001b[0;34m)\u001b[0m\u001b[0;34m\u001b[0m\u001b[0m\n\u001b[0;32m--> 268\u001b[0;31m                         \u001b[0;32mfor\u001b[0m \u001b[0mchunk\u001b[0m \u001b[0;32min\u001b[0m \u001b[0mcontent\u001b[0m\u001b[0;34m.\u001b[0m\u001b[0mchunks\u001b[0m\u001b[0;34m(\u001b[0m\u001b[0;34m)\u001b[0m\u001b[0;34m:\u001b[0m\u001b[0;34m\u001b[0m\u001b[0m\n\u001b[0m\u001b[1;32m    269\u001b[0m                             \u001b[0;32mif\u001b[0m \u001b[0m_file\u001b[0m \u001b[0;32mis\u001b[0m \u001b[0;32mNone\u001b[0m\u001b[0;34m:\u001b[0m\u001b[0;34m\u001b[0m\u001b[0m\n\u001b[1;32m    270\u001b[0m                                 \u001b[0mmode\u001b[0m \u001b[0;34m=\u001b[0m \u001b[0;34m'wb'\u001b[0m \u001b[0;32mif\u001b[0m \u001b[0misinstance\u001b[0m\u001b[0;34m(\u001b[0m\u001b[0mchunk\u001b[0m\u001b[0;34m,\u001b[0m \u001b[0mbytes\u001b[0m\u001b[0;34m)\u001b[0m \u001b[0;32melse\u001b[0m \u001b[0;34m'wt'\u001b[0m\u001b[0;34m\u001b[0m\u001b[0m\n",
      "\u001b[0;31mAttributeError\u001b[0m: 'File' object has no attribute 'chunks'"
     ]
    }
   ],
   "source": [
    "video.poster.storage._save(name, content)"
   ]
  },
  {
   "cell_type": "code",
   "execution_count": 23,
   "metadata": {},
   "outputs": [
    {
     "ename": "AttributeError",
     "evalue": "'File' object has no attribute 'chunks'",
     "output_type": "error",
     "traceback": [
      "\u001b[0;31m---------------------------------------------------------------------------\u001b[0m",
      "\u001b[0;31mAttributeError\u001b[0m                            Traceback (most recent call last)",
      "\u001b[0;32m<ipython-input-23-9af485418b76>\u001b[0m in \u001b[0;36m<module>\u001b[0;34m()\u001b[0m\n\u001b[0;32m----> 1\u001b[0;31m \u001b[0mcontent\u001b[0m\u001b[0;34m.\u001b[0m\u001b[0mchunks\u001b[0m\u001b[0;34m\u001b[0m\u001b[0m\n\u001b[0m",
      "\u001b[0;31mAttributeError\u001b[0m: 'File' object has no attribute 'chunks'"
     ]
    }
   ],
   "source": [
    "content.chunks"
   ]
  },
  {
   "cell_type": "code",
   "execution_count": 15,
   "metadata": {},
   "outputs": [
    {
     "data": {
      "text/plain": [
       "<function BufferedReader.read(size=-1, /)>"
      ]
     },
     "execution_count": 15,
     "metadata": {},
     "output_type": "execute_result"
    }
   ],
   "source": [
    "content.file.read"
   ]
  },
  {
   "cell_type": "code",
   "execution_count": 22,
   "metadata": {},
   "outputs": [
    {
     "data": {
      "text/plain": [
       "<ImageFieldFile: blogs_videos/poster/poster_j3ddhwqm.jpg>"
      ]
     },
     "execution_count": 22,
     "metadata": {},
     "output_type": "execute_result"
    }
   ],
   "source": [
    "video.poster"
   ]
  },
  {
   "cell_type": "code",
   "execution_count": 21,
   "metadata": {},
   "outputs": [],
   "source": [
    "video.save()"
   ]
  },
  {
   "cell_type": "code",
   "execution_count": 6,
   "metadata": {},
   "outputs": [
    {
     "name": "stdout",
     "output_type": "stream",
     "text": [
      "fh:  <_io.FileIO name='/var/folders/2l/7zccp5bs1234yz4ns62s796m0000gn/T/poster_fyr6w6c_.jpg' mode='rb' closefd=True>\n",
      "content:  File object (<_io.FileIO name='/var/folders/2l/7zccp5bs1234yz4ns62s796m0000gn/T/poster_fyr6w6c_.jpg' mode='rb' closefd=True>)\n"
     ]
    },
    {
     "ename": "AttributeError",
     "evalue": "'File' object has no attribute 'read'",
     "output_type": "error",
     "traceback": [
      "\u001b[0;31m---------------------------------------------------------------------------\u001b[0m",
      "\u001b[0;31mAttributeError\u001b[0m                            Traceback (most recent call last)",
      "\u001b[0;32m<ipython-input-6-9a46d2734f29>\u001b[0m in \u001b[0;36m<module>\u001b[0;34m()\u001b[0m\n\u001b[0;32m----> 1\u001b[0;31m \u001b[0mvideo\u001b[0m\u001b[0;34m.\u001b[0m\u001b[0m_create_poster\u001b[0m\u001b[0;34m(\u001b[0m\u001b[0;34m)\u001b[0m\u001b[0;34m\u001b[0m\u001b[0m\n\u001b[0m",
      "\u001b[0;32m~/projects/django-cast/cast/models.py\u001b[0m in \u001b[0;36m_create_poster\u001b[0;34m(self)\u001b[0m\n\u001b[1;32m    159\u001b[0m             \u001b[0mcontent\u001b[0m \u001b[0;34m=\u001b[0m \u001b[0mFile\u001b[0m\u001b[0;34m(\u001b[0m\u001b[0mfh\u001b[0m\u001b[0;34m)\u001b[0m\u001b[0;34m\u001b[0m\u001b[0m\n\u001b[1;32m    160\u001b[0m             \u001b[0mprint\u001b[0m\u001b[0;34m(\u001b[0m\u001b[0;34m\"content: \"\u001b[0m\u001b[0;34m,\u001b[0m \u001b[0mcontent\u001b[0m\u001b[0;34m)\u001b[0m\u001b[0;34m\u001b[0m\u001b[0m\n\u001b[0;32m--> 161\u001b[0;31m             \u001b[0mself\u001b[0m\u001b[0;34m.\u001b[0m\u001b[0mposter\u001b[0m\u001b[0;34m.\u001b[0m\u001b[0msave\u001b[0m\u001b[0;34m(\u001b[0m\u001b[0mname\u001b[0m\u001b[0;34m,\u001b[0m \u001b[0mcontent\u001b[0m\u001b[0;34m,\u001b[0m \u001b[0msave\u001b[0m\u001b[0;34m=\u001b[0m\u001b[0;32mFalse\u001b[0m\u001b[0;34m)\u001b[0m\u001b[0;34m\u001b[0m\u001b[0m\n\u001b[0m\u001b[1;32m    162\u001b[0m         \u001b[0mos\u001b[0m\u001b[0;34m.\u001b[0m\u001b[0munlink\u001b[0m\u001b[0;34m(\u001b[0m\u001b[0mtmp_path\u001b[0m\u001b[0;34m)\u001b[0m\u001b[0;34m\u001b[0m\u001b[0m\n\u001b[1;32m    163\u001b[0m         \u001b[0mlogger\u001b[0m\u001b[0;34m.\u001b[0m\u001b[0minfo\u001b[0m\u001b[0;34m(\u001b[0m\u001b[0mself\u001b[0m\u001b[0;34m.\u001b[0m\u001b[0mpk\u001b[0m\u001b[0;34m)\u001b[0m\u001b[0;34m\u001b[0m\u001b[0m\n",
      "\u001b[0;32m~/.virtualenvs/homepage/lib/python3.7/site-packages/django/db/models/fields/files.py\u001b[0m in \u001b[0;36msave\u001b[0;34m(self, name, content, save)\u001b[0m\n\u001b[1;32m     85\u001b[0m     \u001b[0;32mdef\u001b[0m \u001b[0msave\u001b[0m\u001b[0;34m(\u001b[0m\u001b[0mself\u001b[0m\u001b[0;34m,\u001b[0m \u001b[0mname\u001b[0m\u001b[0;34m,\u001b[0m \u001b[0mcontent\u001b[0m\u001b[0;34m,\u001b[0m \u001b[0msave\u001b[0m\u001b[0;34m=\u001b[0m\u001b[0;32mTrue\u001b[0m\u001b[0;34m)\u001b[0m\u001b[0;34m:\u001b[0m\u001b[0;34m\u001b[0m\u001b[0m\n\u001b[1;32m     86\u001b[0m         \u001b[0mname\u001b[0m \u001b[0;34m=\u001b[0m \u001b[0mself\u001b[0m\u001b[0;34m.\u001b[0m\u001b[0mfield\u001b[0m\u001b[0;34m.\u001b[0m\u001b[0mgenerate_filename\u001b[0m\u001b[0;34m(\u001b[0m\u001b[0mself\u001b[0m\u001b[0;34m.\u001b[0m\u001b[0minstance\u001b[0m\u001b[0;34m,\u001b[0m \u001b[0mname\u001b[0m\u001b[0;34m)\u001b[0m\u001b[0;34m\u001b[0m\u001b[0m\n\u001b[0;32m---> 87\u001b[0;31m         \u001b[0mself\u001b[0m\u001b[0;34m.\u001b[0m\u001b[0mname\u001b[0m \u001b[0;34m=\u001b[0m \u001b[0mself\u001b[0m\u001b[0;34m.\u001b[0m\u001b[0mstorage\u001b[0m\u001b[0;34m.\u001b[0m\u001b[0msave\u001b[0m\u001b[0;34m(\u001b[0m\u001b[0mname\u001b[0m\u001b[0;34m,\u001b[0m \u001b[0mcontent\u001b[0m\u001b[0;34m,\u001b[0m \u001b[0mmax_length\u001b[0m\u001b[0;34m=\u001b[0m\u001b[0mself\u001b[0m\u001b[0;34m.\u001b[0m\u001b[0mfield\u001b[0m\u001b[0;34m.\u001b[0m\u001b[0mmax_length\u001b[0m\u001b[0;34m)\u001b[0m\u001b[0;34m\u001b[0m\u001b[0m\n\u001b[0m\u001b[1;32m     88\u001b[0m         \u001b[0msetattr\u001b[0m\u001b[0;34m(\u001b[0m\u001b[0mself\u001b[0m\u001b[0;34m.\u001b[0m\u001b[0minstance\u001b[0m\u001b[0;34m,\u001b[0m \u001b[0mself\u001b[0m\u001b[0;34m.\u001b[0m\u001b[0mfield\u001b[0m\u001b[0;34m.\u001b[0m\u001b[0mname\u001b[0m\u001b[0;34m,\u001b[0m \u001b[0mself\u001b[0m\u001b[0;34m.\u001b[0m\u001b[0mname\u001b[0m\u001b[0;34m)\u001b[0m\u001b[0;34m\u001b[0m\u001b[0m\n\u001b[1;32m     89\u001b[0m         \u001b[0mself\u001b[0m\u001b[0;34m.\u001b[0m\u001b[0m_committed\u001b[0m \u001b[0;34m=\u001b[0m \u001b[0;32mTrue\u001b[0m\u001b[0;34m\u001b[0m\u001b[0m\n",
      "\u001b[0;32m~/.virtualenvs/homepage/lib/python3.7/site-packages/django/core/files/storage.py\u001b[0m in \u001b[0;36msave\u001b[0;34m(self, name, content, max_length)\u001b[0m\n\u001b[1;32m     47\u001b[0m \u001b[0;34m\u001b[0m\u001b[0m\n\u001b[1;32m     48\u001b[0m         \u001b[0mname\u001b[0m \u001b[0;34m=\u001b[0m \u001b[0mself\u001b[0m\u001b[0;34m.\u001b[0m\u001b[0mget_available_name\u001b[0m\u001b[0;34m(\u001b[0m\u001b[0mname\u001b[0m\u001b[0;34m,\u001b[0m \u001b[0mmax_length\u001b[0m\u001b[0;34m=\u001b[0m\u001b[0mmax_length\u001b[0m\u001b[0;34m)\u001b[0m\u001b[0;34m\u001b[0m\u001b[0m\n\u001b[0;32m---> 49\u001b[0;31m         \u001b[0;32mreturn\u001b[0m \u001b[0mself\u001b[0m\u001b[0;34m.\u001b[0m\u001b[0m_save\u001b[0m\u001b[0;34m(\u001b[0m\u001b[0mname\u001b[0m\u001b[0;34m,\u001b[0m \u001b[0mcontent\u001b[0m\u001b[0;34m)\u001b[0m\u001b[0;34m\u001b[0m\u001b[0m\n\u001b[0m\u001b[1;32m     50\u001b[0m \u001b[0;34m\u001b[0m\u001b[0m\n\u001b[1;32m     51\u001b[0m     \u001b[0;31m# These methods are part of the public API, with default implementations.\u001b[0m\u001b[0;34m\u001b[0m\u001b[0;34m\u001b[0m\u001b[0m\n",
      "\u001b[0;32m~/.virtualenvs/homepage/lib/python3.7/site-packages/django/core/files/storage.py\u001b[0m in \u001b[0;36m_save\u001b[0;34m(self, name, content)\u001b[0m\n\u001b[1;32m    266\u001b[0m                     \u001b[0;32mtry\u001b[0m\u001b[0;34m:\u001b[0m\u001b[0;34m\u001b[0m\u001b[0m\n\u001b[1;32m    267\u001b[0m                         \u001b[0mlocks\u001b[0m\u001b[0;34m.\u001b[0m\u001b[0mlock\u001b[0m\u001b[0;34m(\u001b[0m\u001b[0mfd\u001b[0m\u001b[0;34m,\u001b[0m \u001b[0mlocks\u001b[0m\u001b[0;34m.\u001b[0m\u001b[0mLOCK_EX\u001b[0m\u001b[0;34m)\u001b[0m\u001b[0;34m\u001b[0m\u001b[0m\n\u001b[0;32m--> 268\u001b[0;31m                         \u001b[0;32mfor\u001b[0m \u001b[0mchunk\u001b[0m \u001b[0;32min\u001b[0m \u001b[0mcontent\u001b[0m\u001b[0;34m.\u001b[0m\u001b[0mchunks\u001b[0m\u001b[0;34m(\u001b[0m\u001b[0;34m)\u001b[0m\u001b[0;34m:\u001b[0m\u001b[0;34m\u001b[0m\u001b[0m\n\u001b[0m\u001b[1;32m    269\u001b[0m                             \u001b[0;32mif\u001b[0m \u001b[0m_file\u001b[0m \u001b[0;32mis\u001b[0m \u001b[0;32mNone\u001b[0m\u001b[0;34m:\u001b[0m\u001b[0;34m\u001b[0m\u001b[0m\n\u001b[1;32m    270\u001b[0m                                 \u001b[0mmode\u001b[0m \u001b[0;34m=\u001b[0m \u001b[0;34m'wb'\u001b[0m \u001b[0;32mif\u001b[0m \u001b[0misinstance\u001b[0m\u001b[0;34m(\u001b[0m\u001b[0mchunk\u001b[0m\u001b[0;34m,\u001b[0m \u001b[0mbytes\u001b[0m\u001b[0;34m)\u001b[0m \u001b[0;32melse\u001b[0m \u001b[0;34m'wt'\u001b[0m\u001b[0;34m\u001b[0m\u001b[0m\n",
      "\u001b[0;32m~/.virtualenvs/homepage/lib/python3.7/site-packages/django/core/files/base.py\u001b[0m in \u001b[0;36mchunks\u001b[0;34m(self, chunk_size)\u001b[0m\n\u001b[1;32m     58\u001b[0m \u001b[0;34m\u001b[0m\u001b[0m\n\u001b[1;32m     59\u001b[0m         \u001b[0;32mwhile\u001b[0m \u001b[0;32mTrue\u001b[0m\u001b[0;34m:\u001b[0m\u001b[0;34m\u001b[0m\u001b[0m\n\u001b[0;32m---> 60\u001b[0;31m             \u001b[0mdata\u001b[0m \u001b[0;34m=\u001b[0m \u001b[0mself\u001b[0m\u001b[0;34m.\u001b[0m\u001b[0mread\u001b[0m\u001b[0;34m(\u001b[0m\u001b[0mchunk_size\u001b[0m\u001b[0;34m)\u001b[0m\u001b[0;34m\u001b[0m\u001b[0m\n\u001b[0m\u001b[1;32m     61\u001b[0m             \u001b[0;32mif\u001b[0m \u001b[0;32mnot\u001b[0m \u001b[0mdata\u001b[0m\u001b[0;34m:\u001b[0m\u001b[0;34m\u001b[0m\u001b[0m\n\u001b[1;32m     62\u001b[0m                 \u001b[0;32mbreak\u001b[0m\u001b[0;34m\u001b[0m\u001b[0m\n",
      "\u001b[0;32m~/.virtualenvs/homepage/lib/python3.7/site-packages/django/core/files/utils.py\u001b[0m in \u001b[0;36m<lambda>\u001b[0;34m(self)\u001b[0m\n\u001b[1;32m     14\u001b[0m     \u001b[0misatty\u001b[0m \u001b[0;34m=\u001b[0m \u001b[0mproperty\u001b[0m\u001b[0;34m(\u001b[0m\u001b[0;32mlambda\u001b[0m \u001b[0mself\u001b[0m\u001b[0;34m:\u001b[0m \u001b[0mself\u001b[0m\u001b[0;34m.\u001b[0m\u001b[0mfile\u001b[0m\u001b[0;34m.\u001b[0m\u001b[0misatty\u001b[0m\u001b[0;34m)\u001b[0m\u001b[0;34m\u001b[0m\u001b[0m\n\u001b[1;32m     15\u001b[0m     \u001b[0mnewlines\u001b[0m \u001b[0;34m=\u001b[0m \u001b[0mproperty\u001b[0m\u001b[0;34m(\u001b[0m\u001b[0;32mlambda\u001b[0m \u001b[0mself\u001b[0m\u001b[0;34m:\u001b[0m \u001b[0mself\u001b[0m\u001b[0;34m.\u001b[0m\u001b[0mfile\u001b[0m\u001b[0;34m.\u001b[0m\u001b[0mnewlines\u001b[0m\u001b[0;34m)\u001b[0m\u001b[0;34m\u001b[0m\u001b[0m\n\u001b[0;32m---> 16\u001b[0;31m     \u001b[0mread\u001b[0m \u001b[0;34m=\u001b[0m \u001b[0mproperty\u001b[0m\u001b[0;34m(\u001b[0m\u001b[0;32mlambda\u001b[0m \u001b[0mself\u001b[0m\u001b[0;34m:\u001b[0m \u001b[0mself\u001b[0m\u001b[0;34m.\u001b[0m\u001b[0mfile\u001b[0m\u001b[0;34m.\u001b[0m\u001b[0mread\u001b[0m\u001b[0;34m)\u001b[0m\u001b[0;34m\u001b[0m\u001b[0m\n\u001b[0m\u001b[1;32m     17\u001b[0m     \u001b[0mreadinto\u001b[0m \u001b[0;34m=\u001b[0m \u001b[0mproperty\u001b[0m\u001b[0;34m(\u001b[0m\u001b[0;32mlambda\u001b[0m \u001b[0mself\u001b[0m\u001b[0;34m:\u001b[0m \u001b[0mself\u001b[0m\u001b[0;34m.\u001b[0m\u001b[0mfile\u001b[0m\u001b[0;34m.\u001b[0m\u001b[0mreadinto\u001b[0m\u001b[0;34m)\u001b[0m\u001b[0;34m\u001b[0m\u001b[0m\n\u001b[1;32m     18\u001b[0m     \u001b[0mreadline\u001b[0m \u001b[0;34m=\u001b[0m \u001b[0mproperty\u001b[0m\u001b[0;34m(\u001b[0m\u001b[0;32mlambda\u001b[0m \u001b[0mself\u001b[0m\u001b[0;34m:\u001b[0m \u001b[0mself\u001b[0m\u001b[0;34m.\u001b[0m\u001b[0mfile\u001b[0m\u001b[0;34m.\u001b[0m\u001b[0mreadline\u001b[0m\u001b[0;34m)\u001b[0m\u001b[0;34m\u001b[0m\u001b[0m\n",
      "\u001b[0;31mAttributeError\u001b[0m: 'File' object has no attribute 'read'"
     ]
    }
   ],
   "source": [
    "video._create_poster()"
   ]
  },
  {
   "cell_type": "code",
   "execution_count": 11,
   "metadata": {},
   "outputs": [
    {
     "data": {
      "text/plain": [
       "<ImageFieldFile: blogs_videos/poster/poster_tq1kzqfv.jpg>"
      ]
     },
     "execution_count": 11,
     "metadata": {},
     "output_type": "execute_result"
    }
   ],
   "source": [
    "video.poster"
   ]
  },
  {
   "cell_type": "markdown",
   "metadata": {},
   "source": [
    "# resetting autoincrement"
   ]
  },
  {
   "cell_type": "code",
   "execution_count": 215,
   "metadata": {},
   "outputs": [],
   "source": [
    "from django.db import connection"
   ]
  },
  {
   "cell_type": "code",
   "execution_count": null,
   "metadata": {},
   "outputs": [],
   "source": [
    "with connection.cursor() as cursor:\n",
    "    cursor.execute(\"select max(id) from "
   ]
  },
  {
   "cell_type": "code",
   "execution_count": null,
   "metadata": {},
   "outputs": [],
   "source": []
  }
 ],
 "metadata": {
  "kernelspec": {
   "display_name": "Django Shell-Plus",
   "language": "python",
   "name": "django_extensions"
  },
  "language_info": {
   "codemirror_mode": {
    "name": "ipython",
    "version": 3
   },
   "file_extension": ".py",
   "mimetype": "text/x-python",
   "name": "python",
   "nbconvert_exporter": "python",
   "pygments_lexer": "ipython3",
   "version": "3.7.1"
  }
 },
 "nbformat": 4,
 "nbformat_minor": 2
}
