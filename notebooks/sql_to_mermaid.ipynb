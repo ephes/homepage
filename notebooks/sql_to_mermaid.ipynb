{
 "cells": [
  {
   "cell_type": "markdown",
   "id": "bd9c78b8-0c5b-4d66-b498-962fb81df630",
   "metadata": {
    "tags": []
   },
   "source": [
    "# Generate Mermaid Diagram from SQl\n",
    "\n",
    "As described in:\n",
    "\n",
    "[ER DIAGRAMS WITH SQL AND MERMAID](https://www.cybertec-postgresql.com/en/er-diagrams-with-sql-and-mermaid/)"
   ]
  },
  {
   "cell_type": "code",
   "execution_count": 8,
   "id": "64e471c0-e9e4-45f3-8642-ec9d87119711",
   "metadata": {
    "tags": []
   },
   "outputs": [],
   "source": [
    "from pathlib import Path\n",
    "\n",
    "from django.db import connection"
   ]
  },
  {
   "cell_type": "code",
   "execution_count": 2,
   "id": "16f170e1-8e08-41c0-ad8a-08f47beb57b1",
   "metadata": {
    "tags": []
   },
   "outputs": [],
   "source": [
    "stmt = \"\"\"\n",
    "select 'erDiagram'\n",
    "union all\n",
    "select\n",
    "    format(E'\\t%s{\\n%s\\n}', \n",
    "        c.relname, \n",
    "        string_agg(format(E'\\t\\t~%s~ %s', \n",
    "            format_type(t.oid, a.atttypmod), \n",
    "            a.attname\n",
    "        ), E'\\n'))\n",
    "from\n",
    "    pg_class c \n",
    "    join pg_namespace n on n.oid = c.relnamespace\n",
    "    left join pg_attribute a ON c.oid = a.attrelid and a.attnum > 0 and not a.attisdropped\n",
    "    left join pg_type t ON a.atttypid = t.oid\n",
    "where\n",
    "    c.relkind in ('r', 'p') \n",
    "    and not c.relispartition\n",
    "    and n.nspname !~ '^pg_' AND n.nspname <> 'information_schema'\n",
    "group by c.relname\n",
    "union all\n",
    "select\n",
    "    format('%s }|..|| %s : %s', c1.relname, c2.relname, c.conname)\n",
    "from\n",
    "    pg_constraint c\n",
    "    join pg_class c1 on c.conrelid = c1.oid and c.contype = 'f'\n",
    "    join pg_class c2 on c.confrelid = c2.oid\n",
    "where\n",
    "    not c1.relispartition and not c2.relispartition;\n",
    "\"\"\""
   ]
  },
  {
   "cell_type": "code",
   "execution_count": 16,
   "id": "9899da1e-834d-4f06-9a9c-bd4b25df9380",
   "metadata": {
    "tags": []
   },
   "outputs": [],
   "source": [
    "with connection.cursor() as cursor:\n",
    "    cursor.execute(stmt)\n",
    "    rows = [r for r, in cursor.fetchall()]\n",
    "mermaid_string = \"\\n\".join(rows)"
   ]
  },
  {
   "cell_type": "code",
   "execution_count": 18,
   "id": "74f7c5b2-7fe8-4659-8ed8-294345feeb00",
   "metadata": {
    "tags": []
   },
   "outputs": [],
   "source": [
    "with Path(\"mermaid.txt\").open(\"w\") as f:\n",
    "    f.write(mermaid_string)"
   ]
  },
  {
   "cell_type": "code",
   "execution_count": null,
   "id": "28809cd4-e524-47bb-af90-acde6fb1ff6d",
   "metadata": {},
   "outputs": [],
   "source": []
  }
 ],
 "metadata": {
  "kernelspec": {
   "display_name": "Django Kernel",
   "language": "python",
   "name": "django_extensions"
  },
  "language_info": {
   "codemirror_mode": {
    "name": "ipython",
    "version": 3
   },
   "file_extension": ".py",
   "mimetype": "text/x-python",
   "name": "python",
   "nbconvert_exporter": "python",
   "pygments_lexer": "ipython3",
   "version": "3.11.2"
  }
 },
 "nbformat": 4,
 "nbformat_minor": 5
}
