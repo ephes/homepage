{
 "cells": [
  {
   "cell_type": "code",
   "execution_count": 1,
   "id": "9c91b393-33cc-430d-a128-68b2be41e74e",
   "metadata": {
    "tags": []
   },
   "outputs": [],
   "source": [
    "from rich import print as rprint"
   ]
  },
  {
   "cell_type": "code",
   "execution_count": 7,
   "id": "b7a4382c-f8ef-4db9-8e34-d06ee877df6c",
   "metadata": {
    "tags": []
   },
   "outputs": [
    {
     "name": "stdout",
     "output_type": "stream",
     "text": [
      "Heiligabend in Siegburg\n"
     ]
    }
   ],
   "source": [
    "post = Post.objects.live().get(slug=\"heiligabend-in-siegburg\")\n",
    "print(post.title)"
   ]
  },
  {
   "cell_type": "code",
   "execution_count": 8,
   "id": "fb11165e-fa0e-4c20-b484-6e00779e6026",
   "metadata": {
    "tags": []
   },
   "outputs": [],
   "source": [
    "data = post.body.raw_data"
   ]
  },
  {
   "cell_type": "code",
   "execution_count": 10,
   "id": "219aa2fb-0e2b-4b86-b985-b82e1cd27594",
   "metadata": {
    "tags": []
   },
   "outputs": [
    {
     "name": "stdout",
     "output_type": "stream",
     "text": [
      "a73645bb-a091-49e4-b2ca-3405fcaca919\n",
      "33192ff6-6e84-4343-91a6-f3da6ab98def\n",
      "b96586d6-0fbf-469e-bd01-50f89a709ce7\n",
      "3a33f47b-221c-4ea5-a21b-72db15de2644\n",
      "2858d445-08c3-4d08-ab52-807f34a4fea9\n"
     ]
    }
   ],
   "source": [
    "for toplevel in data:\n",
    "    print(toplevel[\"id\"])\n",
    "    for block in toplevel[\"value\"]:\n",
    "        if block[\"type\"] == \"gallery\":\n",
    "            print(block[\"id\"])"
   ]
  },
  {
   "cell_type": "code",
   "execution_count": null,
   "id": "17d2be1d-96f7-40d5-a86f-6663fe982870",
   "metadata": {},
   "outputs": [],
   "source": []
  }
 ],
 "metadata": {
  "kernelspec": {
   "display_name": "Django Kernel",
   "language": "python",
   "name": "django_extensions"
  },
  "language_info": {
   "codemirror_mode": {
    "name": "ipython",
    "version": 3
   },
   "file_extension": ".py",
   "mimetype": "text/x-python",
   "name": "python",
   "nbconvert_exporter": "python",
   "pygments_lexer": "ipython3",
   "version": "3.12.1"
  }
 },
 "nbformat": 4,
 "nbformat_minor": 5
}
