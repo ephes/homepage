{
 "cells": [
  {
   "cell_type": "code",
   "execution_count": 1,
   "id": "268ff123-fcc1-492c-942a-77045e32b77a",
   "metadata": {
    "tags": []
   },
   "outputs": [],
   "source": [
    "from cast.filters import PostFilterset"
   ]
  },
  {
   "cell_type": "code",
   "execution_count": 2,
   "id": "921d5edc-e2cd-413c-8c2c-fd6f55201f71",
   "metadata": {
    "tags": []
   },
   "outputs": [],
   "source": [
    "blog = Blog.objects.get(slug=\"ephes_blog\")"
   ]
  },
  {
   "cell_type": "code",
   "execution_count": 3,
   "id": "7b64aabb-89b7-41af-aca0-5d512cadc142",
   "metadata": {
    "tags": []
   },
   "outputs": [
    {
     "data": {
      "text/plain": [
       "'/blogs/api/wagtail/pages/'"
      ]
     },
     "execution_count": 3,
     "metadata": {},
     "output_type": "execute_result"
    }
   ],
   "source": [
    "blog.wagtail_api_pages_url"
   ]
  },
  {
   "cell_type": "code",
   "execution_count": 12,
   "id": "cc7a848f-217e-42fa-a38a-b80367c66071",
   "metadata": {
    "tags": []
   },
   "outputs": [],
   "source": [
    "filterset = PostFilterset(None, blog.unfiltered_published_posts)"
   ]
  },
  {
   "cell_type": "code",
   "execution_count": 14,
   "id": "2167580b-3663-462b-b056-79212250d30e",
   "metadata": {
    "tags": []
   },
   "outputs": [],
   "source": [
    "# filterset.filters[\"date_facets\"].facet_counts"
   ]
  },
  {
   "cell_type": "code",
   "execution_count": 15,
   "id": "f82df2a4-3d1c-4659-bd0b-2103b553c69a",
   "metadata": {
    "tags": []
   },
   "outputs": [
    {
     "data": {
      "text/plain": [
       "{'weeknotes': ('WeekNotes', 105),\n",
       " 'cooking': ('Cooking', 1),\n",
       " 'TIL': ('Today I Learned', 1)}"
      ]
     },
     "execution_count": 15,
     "metadata": {},
     "output_type": "execute_result"
    }
   ],
   "source": [
    "filterset.filters[\"category_facets\"].facet_counts"
   ]
  },
  {
   "cell_type": "code",
   "execution_count": 16,
   "id": "1e8d0c6f-5908-44f8-a564-2a03bab8809a",
   "metadata": {
    "tags": []
   },
   "outputs": [
    {
     "data": {
      "text/plain": [
       "{'rust': ('rust', 1),\n",
       " 'django': ('django', 1),\n",
       " 'images': ('images', 1),\n",
       " 'freelancing': ('freelancing', 1)}"
      ]
     },
     "execution_count": 16,
     "metadata": {},
     "output_type": "execute_result"
    }
   ],
   "source": [
    "filterset.filters[\"tag_facets\"].facet_counts"
   ]
  },
  {
   "cell_type": "code",
   "execution_count": null,
   "id": "a9cd4d2f-c03e-405a-a85e-5103bfe7750b",
   "metadata": {},
   "outputs": [],
   "source": []
  }
 ],
 "metadata": {
  "kernelspec": {
   "display_name": "Django Kernel",
   "language": "python",
   "name": "django_extensions"
  },
  "language_info": {
   "codemirror_mode": {
    "name": "ipython",
    "version": 3
   },
   "file_extension": ".py",
   "mimetype": "text/x-python",
   "name": "python",
   "nbconvert_exporter": "python",
   "pygments_lexer": "ipython3",
   "version": "3.11.4"
  }
 },
 "nbformat": 4,
 "nbformat_minor": 5
}
