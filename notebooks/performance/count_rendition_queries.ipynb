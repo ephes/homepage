{
 "cells": [
  {
   "cell_type": "code",
   "execution_count": 1,
   "id": "504f220d-dc09-41f3-a6c5-65b92e18a801",
   "metadata": {
    "tags": []
   },
   "outputs": [],
   "source": [
    "import sqlparse\n",
    "\n",
    "from django.db import connection, reset_queries"
   ]
  },
  {
   "cell_type": "code",
   "execution_count": 2,
   "id": "9eae45ec-2062-45b5-9ded-b5328b890e70",
   "metadata": {
    "tags": []
   },
   "outputs": [],
   "source": [
    "post = Post.objects.get(slug=\"november-2023-11-13\")"
   ]
  },
  {
   "cell_type": "code",
   "execution_count": 3,
   "id": "cbb17792-f560-47a7-8819-51c1bff8c119",
   "metadata": {
    "tags": []
   },
   "outputs": [],
   "source": [
    "def count_queries(func):\n",
    "    reset_queries()\n",
    "    renditions = list(func())\n",
    "    return len(connection.queries)\n",
    "\n",
    "\n",
    "def show_queries(queries):\n",
    "    for query in queries:\n",
    "        formatted_sql = sqlparse.format(query['sql'], reindent=True, keyword_case='upper')\n",
    "        print(formatted_sql)    \n",
    "\n",
    "\n",
    "#count_queries(post.get_all_renditions)"
   ]
  },
  {
   "cell_type": "code",
   "execution_count": 4,
   "id": "ff0bfd4b-bbb1-406b-94f7-3ae54d0f2456",
   "metadata": {
    "tags": []
   },
   "outputs": [
    {
     "name": "stdout",
     "output_type": "stream",
     "text": [
      "CPU times: user 10 ms, sys: 2.71 ms, total: 12.7 ms\n",
      "Wall time: 18.8 ms\n"
     ]
    },
    {
     "data": {
      "text/plain": [
       "1"
      ]
     },
     "execution_count": 4,
     "metadata": {},
     "output_type": "execute_result"
    }
   ],
   "source": [
    "%%time\n",
    "reset_queries()\n",
    "renditions = list(post.get_all_renditions())\n",
    "len(connection.queries)"
   ]
  },
  {
   "cell_type": "code",
   "execution_count": 5,
   "id": "9ee59156-d053-40bd-9c80-c009f629fc03",
   "metadata": {
    "tags": []
   },
   "outputs": [],
   "source": [
    "a, b = renditions[0], renditions[1]"
   ]
  },
  {
   "cell_type": "code",
   "execution_count": 6,
   "id": "59faf635-1d9a-4127-9b0f-9f0946ce3665",
   "metadata": {
    "tags": []
   },
   "outputs": [
    {
     "data": {
      "text/plain": [
       "False"
      ]
     },
     "execution_count": 6,
     "metadata": {},
     "output_type": "execute_result"
    }
   ],
   "source": [
    "a == b"
   ]
  },
  {
   "cell_type": "code",
   "execution_count": 7,
   "id": "95c650ee-4c10-494d-98ef-69502c7bb23b",
   "metadata": {
    "tags": []
   },
   "outputs": [
    {
     "data": {
      "text/plain": [
       "<Rendition: Rendition object (30465)>"
      ]
     },
     "execution_count": 7,
     "metadata": {},
     "output_type": "execute_result"
    }
   ],
   "source": [
    "a"
   ]
  },
  {
   "cell_type": "code",
   "execution_count": 8,
   "id": "4afc9c47-7b12-4108-9fcd-1e5d0e34ecbf",
   "metadata": {
    "tags": []
   },
   "outputs": [
    {
     "data": {
      "text/plain": [
       "<Rendition: Rendition object (30466)>"
      ]
     },
     "execution_count": 8,
     "metadata": {},
     "output_type": "execute_result"
    }
   ],
   "source": [
    "b"
   ]
  },
  {
   "cell_type": "markdown",
   "id": "77bc2fb0-3293-4542-b990-4fc449f837c1",
   "metadata": {},
   "source": [
    "## Get all renditions for regular images in one query"
   ]
  },
  {
   "cell_type": "code",
   "execution_count": 32,
   "id": "3dcdeed4-f91d-43d5-84db-bc0a5b68e0fe",
   "metadata": {
    "tags": []
   },
   "outputs": [
    {
     "name": "stdout",
     "output_type": "stream",
     "text": [
      "<QuerySet [<Rendition: Rendition object (30465)>, <Rendition: Rendition object (30514)>, <Rendition: Rendition object (30515)>, <Rendition: Rendition object (30516)>, <Rendition: Rendition object (30517)>, <Rendition: Rendition object (30518)>]>\n"
     ]
    }
   ],
   "source": [
    "print(Rendition.objects.filter(image__in=post.images.all()))"
   ]
  },
  {
   "cell_type": "code",
   "execution_count": 44,
   "id": "903b2a30-27cf-403c-86ac-05f5587779f7",
   "metadata": {
    "tags": []
   },
   "outputs": [
    {
     "name": "stdout",
     "output_type": "stream",
     "text": [
      "1\n",
      "SELECT \"wagtailimages_rendition\".\"id\",\n",
      "       \"wagtailimages_rendition\".\"filter_spec\",\n",
      "       \"wagtailimages_rendition\".\"file\",\n",
      "       \"wagtailimages_rendition\".\"width\",\n",
      "       \"wagtailimages_rendition\".\"height\",\n",
      "       \"wagtailimages_rendition\".\"focal_point_key\",\n",
      "       \"wagtailimages_rendition\".\"image_id\"\n",
      "FROM \"wagtailimages_rendition\"\n",
      "WHERE \"wagtailimages_rendition\".\"image_id\" IN\n",
      "    (SELECT U0.\"id\"\n",
      "     FROM \"wagtailimages_image\" U0\n",
      "     INNER JOIN \"cast_post_images\" U1 ON (U0.\"id\" = U1.\"image_id\")\n",
      "     WHERE U1.\"post_id\" = 480)\n"
     ]
    }
   ],
   "source": [
    "reset_queries()\n",
    "renditions = list(Rendition.objects.filter(image__in=post.images.all()))\n",
    "print(len(connection.queries))\n",
    "show_queries(connection.queries)"
   ]
  },
  {
   "cell_type": "code",
   "execution_count": 45,
   "id": "5cb2d32b-b087-4f32-9553-976570272cad",
   "metadata": {
    "tags": []
   },
   "outputs": [
    {
     "data": {
      "text/plain": [
       "6"
      ]
     },
     "execution_count": 45,
     "metadata": {},
     "output_type": "execute_result"
    }
   ],
   "source": [
    "len(renditions)"
   ]
  },
  {
   "cell_type": "markdown",
   "id": "27f6ad37-2d04-420b-ae23-de168963dfa1",
   "metadata": {
    "tags": []
   },
   "source": [
    "## Get all renditions for gallery images in one query"
   ]
  },
  {
   "cell_type": "code",
   "execution_count": 36,
   "id": "176e9a10-09f8-4c3d-9a47-57a54c322002",
   "metadata": {
    "tags": []
   },
   "outputs": [],
   "source": [
    "gallery = Gallery.objects.first()"
   ]
  },
  {
   "cell_type": "code",
   "execution_count": 38,
   "id": "14915d63-98cc-4825-9322-ee6dfbb7ccbb",
   "metadata": {
    "tags": []
   },
   "outputs": [
    {
     "data": {
      "text/plain": [
       "<ImageQuerySet [<Image: Claas, Leander und Carl klettern immer noch auf der Kletterspinne>, <Image: Claas, Leander und Carl klettern auf einer Kletterspinne>, <Image: Nora Claas und das Neinhorn nochmal>, <Image: Nora und Claas und das Neinhorn>, <Image: Puppentheater am Staufenplatz>, <Image: Martinsfeier in der Schule>, <Image: Nora mit Laterne auf dem Schulhof>, <Image: Claas Klasse geht zur Martinsfeier in der Schule>, <Image: Nora mit Jasmin auf der Bank>, <Image: Der Kita-Martinsumzug geht jetzt wirklich gleich los>, <Image: Der Kita-Martinsumzug geht gleich los>, <Image: Nora mit Laterne im Kinderwagen>]>"
      ]
     },
     "execution_count": 38,
     "metadata": {},
     "output_type": "execute_result"
    }
   ],
   "source": [
    "Image.objects.filter(gallery__in=post.galleries.all())"
   ]
  },
  {
   "cell_type": "code",
   "execution_count": 39,
   "id": "44e9fe5b-af03-4307-9756-0c7d977b895d",
   "metadata": {
    "tags": []
   },
   "outputs": [
    {
     "name": "stdout",
     "output_type": "stream",
     "text": [
      "<QuerySet [<Rendition: Rendition object (30466)>, <Rendition: Rendition object (30467)>, <Rendition: Rendition object (30468)>, <Rendition: Rendition object (30469)>, <Rendition: Rendition object (30470)>, <Rendition: Rendition object (30471)>, <Rendition: Rendition object (30472)>, <Rendition: Rendition object (30473)>, <Rendition: Rendition object (30474)>, <Rendition: Rendition object (30475)>, <Rendition: Rendition object (30476)>, <Rendition: Rendition object (30477)>, <Rendition: Rendition object (30531)>, <Rendition: Rendition object (30532)>, <Rendition: Rendition object (30533)>, <Rendition: Rendition object (30534)>, <Rendition: Rendition object (30535)>, <Rendition: Rendition object (30536)>, <Rendition: Rendition object (30537)>, <Rendition: Rendition object (30538)>, '...(remaining elements truncated)...']>\n"
     ]
    }
   ],
   "source": [
    "print(Rendition.objects.filter(image__in=Image.objects.filter(gallery__in=post.galleries.all())))"
   ]
  },
  {
   "cell_type": "code",
   "execution_count": 40,
   "id": "3ea2c16f-1b59-4963-baaf-eeb805010af6",
   "metadata": {
    "tags": []
   },
   "outputs": [
    {
     "name": "stdout",
     "output_type": "stream",
     "text": [
      "1\n",
      "SELECT \"wagtailimages_rendition\".\"id\",\n",
      "       \"wagtailimages_rendition\".\"filter_spec\",\n",
      "       \"wagtailimages_rendition\".\"file\",\n",
      "       \"wagtailimages_rendition\".\"width\",\n",
      "       \"wagtailimages_rendition\".\"height\",\n",
      "       \"wagtailimages_rendition\".\"focal_point_key\",\n",
      "       \"wagtailimages_rendition\".\"image_id\"\n",
      "FROM \"wagtailimages_rendition\"\n",
      "WHERE \"wagtailimages_rendition\".\"image_id\" IN\n",
      "    (SELECT V0.\"id\"\n",
      "     FROM \"wagtailimages_image\" V0\n",
      "     INNER JOIN \"cast_gallery_images\" V1 ON (V0.\"id\" = V1.\"image_id\")\n",
      "     WHERE V1.\"gallery_id\" IN\n",
      "         (SELECT U0.\"id\"\n",
      "          FROM \"cast_gallery\" U0\n",
      "          INNER JOIN \"cast_post_galleries\" U1 ON (U0.\"id\" = U1.\"gallery_id\")\n",
      "          WHERE U1.\"post_id\" = 480))\n"
     ]
    }
   ],
   "source": [
    "reset_queries()\n",
    "renditions = list(Rendition.objects.filter(image__in=Image.objects.filter(gallery__in=post.galleries.all())))\n",
    "print(len(connection.queries))\n",
    "show_queries(connection.queries)"
   ]
  },
  {
   "cell_type": "code",
   "execution_count": 42,
   "id": "ca7e9aa5-f917-4e26-bb30-4185f605d778",
   "metadata": {
    "tags": []
   },
   "outputs": [
    {
     "data": {
      "text/plain": [
       "150"
      ]
     },
     "execution_count": 42,
     "metadata": {},
     "output_type": "execute_result"
    }
   ],
   "source": [
    "len(list(post.get_all_renditions()))"
   ]
  },
  {
   "cell_type": "code",
   "execution_count": 43,
   "id": "0e52fbab-793c-423d-9c2a-549d5ad11ee5",
   "metadata": {
    "tags": []
   },
   "outputs": [
    {
     "data": {
      "text/plain": [
       "144"
      ]
     },
     "execution_count": 43,
     "metadata": {},
     "output_type": "execute_result"
    }
   ],
   "source": [
    "len(renditions)"
   ]
  },
  {
   "cell_type": "code",
   "execution_count": 56,
   "id": "f75dfde1-e32a-4ade-b264-7f04a5905643",
   "metadata": {
    "tags": []
   },
   "outputs": [
    {
     "data": {
      "text/plain": [
       "<ImageQuerySet [2085]>"
      ]
     },
     "execution_count": 56,
     "metadata": {},
     "output_type": "execute_result"
    }
   ],
   "source": [
    "post.images.all().values_list(\"pk\", flat=True)"
   ]
  },
  {
   "cell_type": "code",
   "execution_count": 57,
   "id": "36781991-18ee-49dd-9d21-de5b351b00a3",
   "metadata": {
    "tags": []
   },
   "outputs": [
    {
     "data": {
      "text/plain": [
       "<ImageQuerySet [2089, 2083, 2079, 2085, 2078, 2084, 2080, 2086, 2082, 2077, 2088, 2087, 2081]>"
      ]
     },
     "execution_count": 57,
     "metadata": {},
     "output_type": "execute_result"
    }
   ],
   "source": [
    "Image.objects.filter(gallery__in=post.galleries.all()).union(post.images.all()).values_list(\"pk\", flat=True)"
   ]
  },
  {
   "cell_type": "markdown",
   "id": "77acb529-bb1c-40a5-9417-3122dcacebcc",
   "metadata": {},
   "source": [
    "## Get all renditions in one go!"
   ]
  },
  {
   "cell_type": "code",
   "execution_count": 61,
   "id": "e6188f5e-5f0c-4637-82bc-a859db263d29",
   "metadata": {
    "tags": []
   },
   "outputs": [
    {
     "data": {
      "text/plain": [
       "<QuerySet [<Rendition: Rendition object (30465)>, <Rendition: Rendition object (30466)>, <Rendition: Rendition object (30467)>, <Rendition: Rendition object (30468)>, <Rendition: Rendition object (30469)>, <Rendition: Rendition object (30470)>, <Rendition: Rendition object (30471)>, <Rendition: Rendition object (30472)>, <Rendition: Rendition object (30473)>, <Rendition: Rendition object (30474)>, <Rendition: Rendition object (30475)>, <Rendition: Rendition object (30476)>, <Rendition: Rendition object (30477)>, <Rendition: Rendition object (30478)>, <Rendition: Rendition object (30479)>, <Rendition: Rendition object (30480)>, <Rendition: Rendition object (30481)>, <Rendition: Rendition object (30482)>, <Rendition: Rendition object (30483)>, <Rendition: Rendition object (30484)>, '...(remaining elements truncated)...']>"
      ]
     },
     "execution_count": 61,
     "metadata": {},
     "output_type": "execute_result"
    }
   ],
   "source": [
    "Rendition.objects.filter(image__in=Image.objects.filter(gallery__in=post.galleries.all()).union(post.images.all()).values_list(\"pk\", flat=True))"
   ]
  },
  {
   "cell_type": "code",
   "execution_count": 63,
   "id": "59950af8-5f5c-4279-a1eb-c9bfd718e64e",
   "metadata": {
    "tags": []
   },
   "outputs": [
    {
     "name": "stdout",
     "output_type": "stream",
     "text": [
      "1\n",
      "SELECT \"wagtailimages_rendition\".\"id\",\n",
      "       \"wagtailimages_rendition\".\"filter_spec\",\n",
      "       \"wagtailimages_rendition\".\"file\",\n",
      "       \"wagtailimages_rendition\".\"width\",\n",
      "       \"wagtailimages_rendition\".\"height\",\n",
      "       \"wagtailimages_rendition\".\"focal_point_key\",\n",
      "       \"wagtailimages_rendition\".\"image_id\"\n",
      "FROM \"wagtailimages_rendition\"\n",
      "WHERE \"wagtailimages_rendition\".\"image_id\" IN (\n",
      "                                                 (SELECT V0.\"id\" AS \"col1\"\n",
      "                                                  FROM \"wagtailimages_image\" V0\n",
      "                                                  INNER JOIN \"cast_gallery_images\" V1 ON (V0.\"id\" = V1.\"image_id\")\n",
      "                                                  WHERE V1.\"gallery_id\" IN\n",
      "                                                      (SELECT U0.\"id\"\n",
      "                                                       FROM \"cast_gallery\" U0\n",
      "                                                       INNER JOIN \"cast_post_galleries\" U1 ON (U0.\"id\" = U1.\"gallery_id\")\n",
      "                                                       WHERE U1.\"post_id\" = 480))\n",
      "                                               UNION\n",
      "                                                 (SELECT U0.\"id\" AS \"col1\"\n",
      "                                                  FROM \"wagtailimages_image\" U0\n",
      "                                                  INNER JOIN \"cast_post_images\" U1 ON (U0.\"id\" = U1.\"image_id\")\n",
      "                                                  WHERE U1.\"post_id\" = 480))\n",
      "CPU times: user 14.1 ms, sys: 5.78 ms, total: 19.9 ms\n",
      "Wall time: 22.3 ms\n"
     ]
    }
   ],
   "source": [
    "%%time\n",
    "reset_queries()\n",
    "renditions = list(Rendition.objects.filter(image__in=Image.objects.filter(gallery__in=post.galleries.all()).union(post.images.all()).values_list(\"pk\", flat=True)))\n",
    "print(len(connection.queries))\n",
    "show_queries(connection.queries)"
   ]
  },
  {
   "cell_type": "markdown",
   "id": "267cc0c9-89ee-4652-8ed3-7f25047c4011",
   "metadata": {},
   "source": [
    "## Using wagtails prefetch_renditions\n",
    "\n",
    "Probably does not work..."
   ]
  },
  {
   "cell_type": "code",
   "execution_count": 67,
   "id": "f771246d-243f-4558-a0ad-1c6b1f4b95f0",
   "metadata": {
    "tags": []
   },
   "outputs": [
    {
     "data": {
      "text/plain": [
       "<ImageQuerySet [<Image: Nora beim Kinderarzt>]>"
      ]
     },
     "execution_count": 67,
     "metadata": {},
     "output_type": "execute_result"
    }
   ],
   "source": [
    "post.images.all().prefetch_renditions()"
   ]
  },
  {
   "cell_type": "code",
   "execution_count": 68,
   "id": "e04ddaec-57b2-4032-b1cc-5890e0cc5a8f",
   "metadata": {
    "tags": []
   },
   "outputs": [],
   "source": [
    "# Image.objects.filter(gallery__in=post.galleries.all()).union(post.images.all()).prefetch_renditions()"
   ]
  },
  {
   "cell_type": "code",
   "execution_count": null,
   "id": "ab7b6ee0-423a-4f1f-95cf-b6c82748618d",
   "metadata": {},
   "outputs": [],
   "source": []
  }
 ],
 "metadata": {
  "kernelspec": {
   "display_name": "Django Kernel",
   "language": "python",
   "name": "django_extensions"
  },
  "language_info": {
   "codemirror_mode": {
    "name": "ipython",
    "version": 3
   },
   "file_extension": ".py",
   "mimetype": "text/x-python",
   "name": "python",
   "nbconvert_exporter": "python",
   "pygments_lexer": "ipython3",
   "version": "3.12.1"
  }
 },
 "nbformat": 4,
 "nbformat_minor": 5
}
