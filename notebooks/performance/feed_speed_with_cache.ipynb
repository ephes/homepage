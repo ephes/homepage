{
 "cells": [
  {
   "cell_type": "code",
   "execution_count": 1,
   "id": "908cda3b-9bfd-4272-9e94-7fde2761eeaa",
   "metadata": {
    "tags": []
   },
   "outputs": [],
   "source": [
    "import sqlparse\n",
    "\n",
    "from django.test.client import RequestFactory\n",
    "from django.db import connection, reset_queries\n",
    "\n",
    "from django_htmx.middleware import HtmxDetails\n",
    "\n",
    "from cast.cache import PostData\n",
    "from cast.feeds import LatestEntriesFeed"
   ]
  },
  {
   "cell_type": "code",
   "execution_count": 2,
   "id": "09e9d396-e068-42e2-ba3a-dd3d1ac86b7a",
   "metadata": {
    "tags": []
   },
   "outputs": [],
   "source": [
    "def blocker(*args):\n",
    "    raise Exception(\"No database access allowed here.\")"
   ]
  },
  {
   "cell_type": "code",
   "execution_count": 3,
   "id": "ac596ae2-96f0-449d-9855-1e2c8d4430ff",
   "metadata": {
    "tags": []
   },
   "outputs": [],
   "source": [
    "request_factory = RequestFactory()\n",
    "request = request_factory.get(\"/\")\n",
    "request.htmx = HtmxDetails(request)"
   ]
  },
  {
   "cell_type": "code",
   "execution_count": 4,
   "id": "523f9e25-2494-4cb3-a98a-2034d6e81603",
   "metadata": {
    "tags": []
   },
   "outputs": [],
   "source": [
    "# blog_slug = \"ephes_blog\"\n",
    "blog_slug = \"das_claas_und_nora_blog\"\n",
    "# blog = Blog.objects.get(slug=blog_slug)"
   ]
  },
  {
   "cell_type": "code",
   "execution_count": 7,
   "id": "c684a544-a139-471e-8a6f-3fb60cad4d3b",
   "metadata": {
    "tags": []
   },
   "outputs": [
    {
     "name": "stdout",
     "output_type": "stream",
     "text": [
      "13\n",
      "CPU times: user 1.29 s, sys: 75.4 ms, total: 1.37 s\n",
      "Wall time: 1.39 s\n"
     ]
    }
   ],
   "source": [
    "%%time\n",
    "reset_queries()\n",
    "feed_view = LatestEntriesFeed()\n",
    "request_factory = RequestFactory()\n",
    "request = request_factory.get(f\"/blogs/{blog_slug}/feed/rss.xml\")\n",
    "# with connection.execute_wrapper(blocker):\n",
    "r = feed_view(request, slug=blog_slug)\n",
    "print(len(connection.queries))"
   ]
  },
  {
   "cell_type": "code",
   "execution_count": 8,
   "id": "f4ccd829-3f7e-457a-8fd5-5bd8e29c168f",
   "metadata": {
    "tags": []
   },
   "outputs": [
    {
     "data": {
      "text/plain": [
       "13"
      ]
     },
     "execution_count": 8,
     "metadata": {},
     "output_type": "execute_result"
    }
   ],
   "source": [
    "len(connection.queries)"
   ]
  },
  {
   "cell_type": "code",
   "execution_count": 13,
   "id": "282256bc-62f8-46de-9fee-398f9dc03263",
   "metadata": {},
   "outputs": [
    {
     "data": {
      "text/plain": [
       "[{'sql': 'SELECT \"wagtailcore_page\".\"id\", \"wagtailcore_page\".\"path\", \"wagtailcore_page\".\"depth\", \"wagtailcore_page\".\"numchild\", \"wagtailcore_page\".\"translation_key\", \"wagtailcore_page\".\"locale_id\", \"wagtailcore_page\".\"latest_revision_id\", \"wagtailcore_page\".\"live\", \"wagtailcore_page\".\"has_unpublished_changes\", \"wagtailcore_page\".\"first_published_at\", \"wagtailcore_page\".\"last_published_at\", \"wagtailcore_page\".\"live_revision_id\", \"wagtailcore_page\".\"go_live_at\", \"wagtailcore_page\".\"expire_at\", \"wagtailcore_page\".\"expired\", \"wagtailcore_page\".\"locked\", \"wagtailcore_page\".\"locked_at\", \"wagtailcore_page\".\"locked_by_id\", \"wagtailcore_page\".\"title\", \"wagtailcore_page\".\"draft_title\", \"wagtailcore_page\".\"slug\", \"wagtailcore_page\".\"content_type_id\", \"wagtailcore_page\".\"url_path\", \"wagtailcore_page\".\"owner_id\", \"wagtailcore_page\".\"seo_title\", \"wagtailcore_page\".\"show_in_menus\", \"wagtailcore_page\".\"search_description\", \"wagtailcore_page\".\"latest_revision_created_at\", \"wagtailcore_page\".\"alias_of_id\", \"cast_blog\".\"page_ptr_id\", \"cast_blog\".\"author\", \"cast_blog\".\"uuid\", \"cast_blog\".\"email\", \"cast_blog\".\"comments_enabled\", \"cast_blog\".\"noindex\", \"cast_blog\".\"template_base_dir\", \"cast_blog\".\"description\" FROM \"cast_blog\" INNER JOIN \"wagtailcore_page\" ON (\"cast_blog\".\"page_ptr_id\" = \"wagtailcore_page\".\"id\") WHERE \"wagtailcore_page\".\"slug\" = \\'das_claas_und_nora_blog\\' LIMIT 21',\n",
       "  'time': '0.002'},\n",
       " {'sql': 'SELECT \"wagtailcore_site\".\"id\", \"wagtailcore_site\".\"hostname\", \"wagtailcore_site\".\"port\", \"wagtailcore_site\".\"site_name\", \"wagtailcore_site\".\"root_page_id\", \"wagtailcore_site\".\"is_default_site\", CASE WHEN (\"wagtailcore_site\".\"hostname\" = \\'testserver\\' AND \"wagtailcore_site\".\"port\" = 80) THEN 0 WHEN (\"wagtailcore_site\".\"hostname\" = \\'testserver\\' AND \"wagtailcore_site\".\"is_default_site\") THEN 1 WHEN \"wagtailcore_site\".\"is_default_site\" THEN 2 ELSE 3 END AS \"match\", \"wagtailcore_page\".\"id\", \"wagtailcore_page\".\"path\", \"wagtailcore_page\".\"depth\", \"wagtailcore_page\".\"numchild\", \"wagtailcore_page\".\"translation_key\", \"wagtailcore_page\".\"locale_id\", \"wagtailcore_page\".\"latest_revision_id\", \"wagtailcore_page\".\"live\", \"wagtailcore_page\".\"has_unpublished_changes\", \"wagtailcore_page\".\"first_published_at\", \"wagtailcore_page\".\"last_published_at\", \"wagtailcore_page\".\"live_revision_id\", \"wagtailcore_page\".\"go_live_at\", \"wagtailcore_page\".\"expire_at\", \"wagtailcore_page\".\"expired\", \"wagtailcore_page\".\"locked\", \"wagtailcore_page\".\"locked_at\", \"wagtailcore_page\".\"locked_by_id\", \"wagtailcore_page\".\"title\", \"wagtailcore_page\".\"draft_title\", \"wagtailcore_page\".\"slug\", \"wagtailcore_page\".\"content_type_id\", \"wagtailcore_page\".\"url_path\", \"wagtailcore_page\".\"owner_id\", \"wagtailcore_page\".\"seo_title\", \"wagtailcore_page\".\"show_in_menus\", \"wagtailcore_page\".\"search_description\", \"wagtailcore_page\".\"latest_revision_created_at\", \"wagtailcore_page\".\"alias_of_id\" FROM \"wagtailcore_site\" INNER JOIN \"wagtailcore_page\" ON (\"wagtailcore_site\".\"root_page_id\" = \"wagtailcore_page\".\"id\") WHERE (\"wagtailcore_site\".\"hostname\" = \\'testserver\\' OR \"wagtailcore_site\".\"is_default_site\") ORDER BY 7 ASC',\n",
       "  'time': '0.001'},\n",
       " {'sql': 'SELECT \"wagtailcore_page\".\"id\", \"wagtailcore_page\".\"path\", \"wagtailcore_page\".\"depth\", \"wagtailcore_page\".\"numchild\", \"wagtailcore_page\".\"translation_key\", \"wagtailcore_page\".\"locale_id\", \"wagtailcore_page\".\"latest_revision_id\", \"wagtailcore_page\".\"live\", \"wagtailcore_page\".\"has_unpublished_changes\", \"wagtailcore_page\".\"first_published_at\", \"wagtailcore_page\".\"last_published_at\", \"wagtailcore_page\".\"live_revision_id\", \"wagtailcore_page\".\"go_live_at\", \"wagtailcore_page\".\"expire_at\", \"wagtailcore_page\".\"expired\", \"wagtailcore_page\".\"locked\", \"wagtailcore_page\".\"locked_at\", \"wagtailcore_page\".\"locked_by_id\", \"wagtailcore_page\".\"title\", \"wagtailcore_page\".\"draft_title\", \"wagtailcore_page\".\"slug\", \"wagtailcore_page\".\"content_type_id\", \"wagtailcore_page\".\"url_path\", \"wagtailcore_page\".\"owner_id\", \"wagtailcore_page\".\"seo_title\", \"wagtailcore_page\".\"show_in_menus\", \"wagtailcore_page\".\"search_description\", \"wagtailcore_page\".\"latest_revision_created_at\", \"wagtailcore_page\".\"alias_of_id\", \"cast_post\".\"page_ptr_id\", \"cast_post\".\"uuid\", \"cast_post\".\"visible_date\", \"cast_post\".\"comments_enabled\", \"cast_post\".\"body\" FROM \"cast_post\" INNER JOIN \"wagtailcore_page\" ON (\"cast_post\".\"page_ptr_id\" = \"wagtailcore_page\".\"id\") WHERE (\"wagtailcore_page\".\"live\" AND \"wagtailcore_page\".\"path\"::text LIKE \\'000100010001%\\' AND \"wagtailcore_page\".\"depth\" >= 3 AND NOT (\"cast_post\".\"page_ptr_id\" = 3)) ORDER BY \"cast_post\".\"visible_date\" DESC',\n",
       "  'time': '0.006'},\n",
       " {'sql': 'SELECT \"wagtailcore_page\".\"id\", \"wagtailcore_page\".\"path\", \"wagtailcore_page\".\"depth\", \"wagtailcore_page\".\"numchild\", \"wagtailcore_page\".\"translation_key\", \"wagtailcore_page\".\"locale_id\", \"wagtailcore_page\".\"latest_revision_id\", \"wagtailcore_page\".\"live\", \"wagtailcore_page\".\"has_unpublished_changes\", \"wagtailcore_page\".\"first_published_at\", \"wagtailcore_page\".\"last_published_at\", \"wagtailcore_page\".\"live_revision_id\", \"wagtailcore_page\".\"go_live_at\", \"wagtailcore_page\".\"expire_at\", \"wagtailcore_page\".\"expired\", \"wagtailcore_page\".\"locked\", \"wagtailcore_page\".\"locked_at\", \"wagtailcore_page\".\"locked_by_id\", \"wagtailcore_page\".\"title\", \"wagtailcore_page\".\"draft_title\", \"wagtailcore_page\".\"slug\", \"wagtailcore_page\".\"content_type_id\", \"wagtailcore_page\".\"url_path\", \"wagtailcore_page\".\"owner_id\", \"wagtailcore_page\".\"seo_title\", \"wagtailcore_page\".\"show_in_menus\", \"wagtailcore_page\".\"search_description\", \"wagtailcore_page\".\"latest_revision_created_at\", \"wagtailcore_page\".\"alias_of_id\", \"cast_post\".\"page_ptr_id\", \"cast_post\".\"uuid\", \"cast_post\".\"visible_date\", \"cast_post\".\"comments_enabled\", \"cast_post\".\"body\", \"users_user\".\"id\", \"users_user\".\"password\", \"users_user\".\"last_login\", \"users_user\".\"is_superuser\", \"users_user\".\"username\", \"users_user\".\"first_name\", \"users_user\".\"last_name\", \"users_user\".\"email\", \"users_user\".\"is_staff\", \"users_user\".\"is_active\", \"users_user\".\"date_joined\", \"users_user\".\"name\" FROM \"cast_post\" INNER JOIN \"wagtailcore_page\" ON (\"cast_post\".\"page_ptr_id\" = \"wagtailcore_page\".\"id\") LEFT OUTER JOIN \"users_user\" ON (\"wagtailcore_page\".\"owner_id\" = \"users_user\".\"id\") WHERE (\"wagtailcore_page\".\"live\" AND \"wagtailcore_page\".\"path\"::text LIKE \\'000100010001%\\' AND \"wagtailcore_page\".\"depth\" >= 3 AND NOT (\"cast_post\".\"page_ptr_id\" = 3)) ORDER BY \"cast_post\".\"visible_date\" DESC',\n",
       "  'time': '0.005'},\n",
       " {'sql': 'SELECT (\"cast_post_audios\".\"post_id\") AS \"_prefetch_related_val_post_id\", \"cast_audio\".\"id\", \"cast_audio\".\"created\", \"cast_audio\".\"modified\", \"cast_audio\".\"collection_id\", \"cast_audio\".\"user_id\", \"cast_audio\".\"duration\", \"cast_audio\".\"title\", \"cast_audio\".\"subtitle\", \"cast_audio\".\"m4a\", \"cast_audio\".\"mp3\", \"cast_audio\".\"oga\", \"cast_audio\".\"opus\", \"cast_audio\".\"data\" FROM \"cast_audio\" INNER JOIN \"cast_post_audios\" ON (\"cast_audio\".\"id\" = \"cast_post_audios\".\"audio_id\") WHERE \"cast_post_audios\".\"post_id\" IN (495, 500, 499, 491, 498, 496, 490, 486, 487, 485, 483, 497, 481, 480, 479, 473, 478, 464, 468, 467, 465, 463, 461, 460, 459, 458, 457, 456, 455, 454, 453, 452, 451, 449, 450, 448, 447, 443, 442, 441, 440, 431, 432, 430, 429, 426, 420, 421, 415, 409, 413, 412, 411, 410, 408, 407, 406, 405, 404, 403, 401, 399, 398, 397, 396, 394, 393, 386, 384, 379, 376, 374, 363, 346, 347, 339, 335, 329, 330, 328, 319, 229, 206, 207, 203, 196, 199, 195, 469, 439, 424, 423, 422, 417, 416, 414, 336, 334, 333, 243, 242, 240, 241, 239, 238, 237, 234, 233, 232, 236, 235, 202, 200, 198, 197, 220, 230, 228, 227, 221, 226, 225, 224, 217, 222, 223, 205, 219, 218, 216, 215, 214, 212, 211, 210, 209, 204, 166, 165, 193, 192, 191, 190, 189, 188, 187, 185, 186, 181, 177, 184, 183, 182, 180, 179, 178, 175, 176, 174, 173, 172, 171, 170, 169, 168, 167, 164, 162, 163, 159, 158, 157, 161, 160, 153, 133, 156, 154, 67, 132, 155, 131, 130, 152, 128, 118, 116, 117, 148, 129, 144, 147, 139, 143, 138, 137, 134, 136, 135, 127, 125, 126, 124, 123, 122, 121, 120, 119, 115, 113, 114, 110, 109, 108, 112, 107, 111, 106, 105, 104, 103, 102, 101, 100, 97, 99, 98, 92, 96, 95, 94, 93, 91, 90, 89, 87, 86, 84, 85, 82, 83, 81, 30, 11, 10, 33, 19, 9, 61, 28, 60, 27, 8, 7, 73, 6, 26, 42, 5, 25, 14, 59, 41, 72, 80, 40, 24, 18, 23, 16, 58, 39, 38, 22, 37, 76, 74, 45, 57, 21, 79, 70, 66, 13, 36, 69, 71, 68, 56, 47, 65, 31, 54, 55, 75, 53, 51, 32, 52, 29, 20)',\n",
       "  'time': '0.001'},\n",
       " {'sql': 'SELECT (\"cast_post_images\".\"post_id\") AS \"_prefetch_related_val_post_id\", \"wagtailimages_image\".\"id\", \"wagtailimages_image\".\"collection_id\", \"wagtailimages_image\".\"title\", \"wagtailimages_image\".\"file\", \"wagtailimages_image\".\"width\", \"wagtailimages_image\".\"height\", \"wagtailimages_image\".\"created_at\", \"wagtailimages_image\".\"uploaded_by_user_id\", \"wagtailimages_image\".\"focal_point_x\", \"wagtailimages_image\".\"focal_point_y\", \"wagtailimages_image\".\"focal_point_width\", \"wagtailimages_image\".\"focal_point_height\", \"wagtailimages_image\".\"file_size\", \"wagtailimages_image\".\"file_hash\" FROM \"wagtailimages_image\" INNER JOIN \"cast_post_images\" ON (\"wagtailimages_image\".\"id\" = \"cast_post_images\".\"image_id\") WHERE \"cast_post_images\".\"post_id\" IN (495, 500, 499, 491, 498, 496, 490, 486, 487, 485, 483, 497, 481, 480, 479, 473, 478, 464, 468, 467, 465, 463, 461, 460, 459, 458, 457, 456, 455, 454, 453, 452, 451, 449, 450, 448, 447, 443, 442, 441, 440, 431, 432, 430, 429, 426, 420, 421, 415, 409, 413, 412, 411, 410, 408, 407, 406, 405, 404, 403, 401, 399, 398, 397, 396, 394, 393, 386, 384, 379, 376, 374, 363, 346, 347, 339, 335, 329, 330, 328, 319, 229, 206, 207, 203, 196, 199, 195, 469, 439, 424, 423, 422, 417, 416, 414, 336, 334, 333, 243, 242, 240, 241, 239, 238, 237, 234, 233, 232, 236, 235, 202, 200, 198, 197, 220, 230, 228, 227, 221, 226, 225, 224, 217, 222, 223, 205, 219, 218, 216, 215, 214, 212, 211, 210, 209, 204, 166, 165, 193, 192, 191, 190, 189, 188, 187, 185, 186, 181, 177, 184, 183, 182, 180, 179, 178, 175, 176, 174, 173, 172, 171, 170, 169, 168, 167, 164, 162, 163, 159, 158, 157, 161, 160, 153, 133, 156, 154, 67, 132, 155, 131, 130, 152, 128, 118, 116, 117, 148, 129, 144, 147, 139, 143, 138, 137, 134, 136, 135, 127, 125, 126, 124, 123, 122, 121, 120, 119, 115, 113, 114, 110, 109, 108, 112, 107, 111, 106, 105, 104, 103, 102, 101, 100, 97, 99, 98, 92, 96, 95, 94, 93, 91, 90, 89, 87, 86, 84, 85, 82, 83, 81, 30, 11, 10, 33, 19, 9, 61, 28, 60, 27, 8, 7, 73, 6, 26, 42, 5, 25, 14, 59, 41, 72, 80, 40, 24, 18, 23, 16, 58, 39, 38, 22, 37, 76, 74, 45, 57, 21, 79, 70, 66, 13, 36, 69, 71, 68, 56, 47, 65, 31, 54, 55, 75, 53, 51, 32, 52, 29, 20)',\n",
       "  'time': '0.001'},\n",
       " {'sql': 'SELECT (\"cast_post_videos\".\"post_id\") AS \"_prefetch_related_val_post_id\", \"cast_video\".\"id\", \"cast_video\".\"created\", \"cast_video\".\"modified\", \"cast_video\".\"collection_id\", \"cast_video\".\"user_id\", \"cast_video\".\"title\", \"cast_video\".\"original\", \"cast_video\".\"poster\", \"cast_video\".\"poster_seconds\" FROM \"cast_video\" INNER JOIN \"cast_post_videos\" ON (\"cast_video\".\"id\" = \"cast_post_videos\".\"video_id\") WHERE \"cast_post_videos\".\"post_id\" IN (495, 500, 499, 491, 498, 496, 490, 486, 487, 485, 483, 497, 481, 480, 479, 473, 478, 464, 468, 467, 465, 463, 461, 460, 459, 458, 457, 456, 455, 454, 453, 452, 451, 449, 450, 448, 447, 443, 442, 441, 440, 431, 432, 430, 429, 426, 420, 421, 415, 409, 413, 412, 411, 410, 408, 407, 406, 405, 404, 403, 401, 399, 398, 397, 396, 394, 393, 386, 384, 379, 376, 374, 363, 346, 347, 339, 335, 329, 330, 328, 319, 229, 206, 207, 203, 196, 199, 195, 469, 439, 424, 423, 422, 417, 416, 414, 336, 334, 333, 243, 242, 240, 241, 239, 238, 237, 234, 233, 232, 236, 235, 202, 200, 198, 197, 220, 230, 228, 227, 221, 226, 225, 224, 217, 222, 223, 205, 219, 218, 216, 215, 214, 212, 211, 210, 209, 204, 166, 165, 193, 192, 191, 190, 189, 188, 187, 185, 186, 181, 177, 184, 183, 182, 180, 179, 178, 175, 176, 174, 173, 172, 171, 170, 169, 168, 167, 164, 162, 163, 159, 158, 157, 161, 160, 153, 133, 156, 154, 67, 132, 155, 131, 130, 152, 128, 118, 116, 117, 148, 129, 144, 147, 139, 143, 138, 137, 134, 136, 135, 127, 125, 126, 124, 123, 122, 121, 120, 119, 115, 113, 114, 110, 109, 108, 112, 107, 111, 106, 105, 104, 103, 102, 101, 100, 97, 99, 98, 92, 96, 95, 94, 93, 91, 90, 89, 87, 86, 84, 85, 82, 83, 81, 30, 11, 10, 33, 19, 9, 61, 28, 60, 27, 8, 7, 73, 6, 26, 42, 5, 25, 14, 59, 41, 72, 80, 40, 24, 18, 23, 16, 58, 39, 38, 22, 37, 76, 74, 45, 57, 21, 79, 70, 66, 13, 36, 69, 71, 68, 56, 47, 65, 31, 54, 55, 75, 53, 51, 32, 52, 29, 20)',\n",
       "  'time': '0.001'},\n",
       " {'sql': 'SELECT (\"cast_post_galleries\".\"post_id\") AS \"_prefetch_related_val_post_id\", \"cast_gallery\".\"id\", \"cast_gallery\".\"created\", \"cast_gallery\".\"modified\" FROM \"cast_gallery\" INNER JOIN \"cast_post_galleries\" ON (\"cast_gallery\".\"id\" = \"cast_post_galleries\".\"gallery_id\") WHERE \"cast_post_galleries\".\"post_id\" IN (495, 500, 499, 491, 498, 496, 490, 486, 487, 485, 483, 497, 481, 480, 479, 473, 478, 464, 468, 467, 465, 463, 461, 460, 459, 458, 457, 456, 455, 454, 453, 452, 451, 449, 450, 448, 447, 443, 442, 441, 440, 431, 432, 430, 429, 426, 420, 421, 415, 409, 413, 412, 411, 410, 408, 407, 406, 405, 404, 403, 401, 399, 398, 397, 396, 394, 393, 386, 384, 379, 376, 374, 363, 346, 347, 339, 335, 329, 330, 328, 319, 229, 206, 207, 203, 196, 199, 195, 469, 439, 424, 423, 422, 417, 416, 414, 336, 334, 333, 243, 242, 240, 241, 239, 238, 237, 234, 233, 232, 236, 235, 202, 200, 198, 197, 220, 230, 228, 227, 221, 226, 225, 224, 217, 222, 223, 205, 219, 218, 216, 215, 214, 212, 211, 210, 209, 204, 166, 165, 193, 192, 191, 190, 189, 188, 187, 185, 186, 181, 177, 184, 183, 182, 180, 179, 178, 175, 176, 174, 173, 172, 171, 170, 169, 168, 167, 164, 162, 163, 159, 158, 157, 161, 160, 153, 133, 156, 154, 67, 132, 155, 131, 130, 152, 128, 118, 116, 117, 148, 129, 144, 147, 139, 143, 138, 137, 134, 136, 135, 127, 125, 126, 124, 123, 122, 121, 120, 119, 115, 113, 114, 110, 109, 108, 112, 107, 111, 106, 105, 104, 103, 102, 101, 100, 97, 99, 98, 92, 96, 95, 94, 93, 91, 90, 89, 87, 86, 84, 85, 82, 83, 81, 30, 11, 10, 33, 19, 9, 61, 28, 60, 27, 8, 7, 73, 6, 26, 42, 5, 25, 14, 59, 41, 72, 80, 40, 24, 18, 23, 16, 58, 39, 38, 22, 37, 76, 74, 45, 57, 21, 79, 70, 66, 13, 36, 69, 71, 68, 56, 47, 65, 31, 54, 55, 75, 53, 51, 32, 52, 29, 20)',\n",
       "  'time': '0.001'},\n",
       " {'sql': 'SELECT (\"cast_gallery_images\".\"gallery_id\") AS \"_prefetch_related_val_gallery_id\", \"wagtailimages_image\".\"id\", \"wagtailimages_image\".\"collection_id\", \"wagtailimages_image\".\"title\", \"wagtailimages_image\".\"file\", \"wagtailimages_image\".\"width\", \"wagtailimages_image\".\"height\", \"wagtailimages_image\".\"created_at\", \"wagtailimages_image\".\"uploaded_by_user_id\", \"wagtailimages_image\".\"focal_point_x\", \"wagtailimages_image\".\"focal_point_y\", \"wagtailimages_image\".\"focal_point_width\", \"wagtailimages_image\".\"focal_point_height\", \"wagtailimages_image\".\"file_size\", \"wagtailimages_image\".\"file_hash\" FROM \"wagtailimages_image\" INNER JOIN \"cast_gallery_images\" ON (\"wagtailimages_image\".\"id\" = \"cast_gallery_images\".\"image_id\") WHERE \"cast_gallery_images\".\"gallery_id\" IN (26, 29, 32, 38, 39, 18, 19, 37, 14, 20, 25, 27, 34, 35, 24, 12, 16, 36, 4, 15, 13, 30, 21, 23, 40, 41, 42, 43, 44, 48, 46, 49, 57, 55, 50, 51, 54, 60, 59, 87, 88, 64, 62, 65, 66, 68, 69, 72, 70, 71, 73, 75, 81, 82, 89, 98, 76, 77, 83, 84, 85, 86, 97, 90, 91, 92, 93, 94, 95, 99, 100, 101, 121, 122, 103, 104, 111, 105, 106, 107, 108, 112, 113, 109, 110, 114, 115, 116, 117, 118, 119, 120, 123, 124, 143, 144, 128, 125, 126, 127, 129, 130, 133, 137, 134, 138, 139, 140, 141, 142, 146, 149, 150, 151, 152, 145, 153, 156, 157, 187, 188, 189, 190, 192, 193, 196, 197, 203, 205, 211, 212, 213, 217, 218, 219, 222, 223, 224, 226, 227, 229, 230, 231, 233, 234, 235, 236, 237, 238, 239, 240, 241, 242, 243, 244, 245, 246, 247, 248, 249, 250, 251, 252, 253, 254, 255, 256, 257, 258, 259, 260, 261, 262, 263, 264, 265, 266, 267, 268, 269, 271, 272, 273, 274, 275, 276, 277, 278, 279, 280, 281, 282, 283, 284, 285, 286, 287, 288, 290, 292, 293, 294, 295, 296, 297, 298, 302, 303, 304, 305, 306, 308, 309, 310, 311, 312, 313, 314, 315, 318, 319, 322, 324, 325, 326, 333, 335, 336, 337, 338, 339, 340, 341, 342, 343, 345, 346)',\n",
       "  'time': '0.002'},\n",
       " {'sql': 'SELECT \"wagtailimages_rendition\".\"id\", \"wagtailimages_rendition\".\"filter_spec\", \"wagtailimages_rendition\".\"file\", \"wagtailimages_rendition\".\"width\", \"wagtailimages_rendition\".\"height\", \"wagtailimages_rendition\".\"focal_point_key\", \"wagtailimages_rendition\".\"image_id\" FROM \"wagtailimages_rendition\" WHERE \"wagtailimages_rendition\".\"image_id\" IN (7, 8, 10, 11, 12, 13, 14, 6, 15, 111, 112, 68, 76, 77, 78, 79, 97, 121, 131, 133, 135, 144, 145, 151, 160, 163, 164, 167, 168, 182, 213, 215, 221, 223, 227, 228, 229, 230, 234, 235, 243, 248, 256, 257, 258, 259, 260, 261, 262, 264, 276, 281, 282, 283, 288, 290, 291, 299, 300, 310, 316, 317, 318, 319, 333, 338, 348, 356, 357, 362, 365, 369, 386, 402, 411, 412, 413, 414, 418, 437, 458, 462, 472, 489, 496, 497, 505, 510, 513, 522, 529, 533, 537, 566, 573, 580, 590, 591, 598, 599, 600, 601, 602, 604, 618, 621, 626, 629, 633, 648, 649, 655, 663, 689, 690, 713, 714, 718, 719, 735, 736, 742, 743, 744, 745, 747, 753, 754, 755, 760, 764, 765, 776, 777, 779, 782, 809, 834, 842, 843, 845, 850, 852, 854, 867, 899, 906, 907, 921, 922, 924, 929, 938, 941, 943, 944, 945, 955, 958, 972, 975, 991, 995, 998, 1000, 1003, 1004, 1005, 1006, 1014, 1020, 1037, 1041, 1042, 1047, 1054, 1055, 1056, 1057, 1063, 1068, 1069, 1070, 1077, 1080, 1081, 1082, 1084, 1086, 1087, 1093, 1098, 1102, 1103, 1109, 1110, 1114, 1, 2, 1290, 1314, 1311, 1334, 1364, 1360, 1351, 1406, 1401, 1448, 1474, 1496, 1480, 1479, 1516, 1517, 1497, 1515, 1537, 1571, 1586, 1589, 1603, 1605, 1604, 1661, 1672, 1698, 1717, 1726, 1742, 1745, 1776, 1782, 1783, 1804, 1819, 1833, 1851, 1882, 1893, 1895, 1898, 1914, 1910, 1929, 1936, 1940, 1950, 1956, 1972, 1977, 1990, 2000, 2057, 2074, 2085, 2096, 2095, 2099, 2131, 2130, 2133, 2172, 2165, 2154, 2173, 2178, 2220, 2219, 2257, 2248, 2247, 2246)',\n",
       "  'time': '0.002'},\n",
       " {'sql': 'SELECT \"wagtailimages_rendition\".\"id\", \"wagtailimages_rendition\".\"filter_spec\", \"wagtailimages_rendition\".\"file\", \"wagtailimages_rendition\".\"width\", \"wagtailimages_rendition\".\"height\", \"wagtailimages_rendition\".\"focal_point_key\", \"wagtailimages_rendition\".\"image_id\" FROM \"wagtailimages_rendition\" WHERE \"wagtailimages_rendition\".\"image_id\" IN (23, 24, 25, 26, 44, 45, 46, 47, 48, 49, 50, 51, 52, 53, 54, 55, 56, 57, 58, 59, 60, 61, 62, 63, 64, 65, 66, 67, 69, 70, 71, 72, 80, 81, 82, 83, 84, 85, 88, 89, 90, 91, 92, 93, 94, 95, 96, 97, 98, 99, 100, 101, 102, 103, 104, 105, 106, 107, 108, 109, 110, 117, 118, 116, 119, 120, 121, 122, 123, 124, 125, 126, 127, 128, 129, 114, 115, 113, 130, 132, 134, 136, 137, 138, 139, 140, 141, 142, 143, 144, 146, 147, 148, 149, 150, 152, 153, 154, 155, 156, 157, 158, 159, 161, 162, 165, 166, 169, 170, 171, 172, 173, 174, 175, 176, 177, 178, 179, 180, 183, 184, 185, 186, 187, 188, 189, 190, 191, 192, 193, 194, 195, 196, 197, 198, 199, 200, 201, 202, 203, 204, 205, 206, 207, 208, 209, 210, 211, 212, 216, 217, 218, 219, 220, 222, 224, 225, 226, 231, 232, 233, 235, 236, 237, 238, 239, 240, 241, 242, 244, 245, 246, 247, 249, 251, 252, 254, 255, 263, 265, 266, 267, 268, 269, 270, 271, 272, 273, 274, 275, 277, 278, 279, 280, 284, 285, 286, 287, 292, 293, 294, 295, 296, 297, 298, 301, 302, 303, 304, 305, 306, 307, 308, 309, 311, 312, 313, 314, 315, 319, 320, 321, 322, 323, 324, 325, 326, 327, 328, 329, 330, 331, 332, 334, 335, 336, 337, 339, 340, 341, 342, 343, 344, 345, 346, 347, 349, 350, 351, 352, 353, 354, 355, 358, 359, 360, 361, 363, 364, 366, 367, 368, 370, 371, 372, 373, 374, 375, 376, 377, 378, 379, 380, 381, 382, 383, 384, 385, 387, 388, 389, 390, 391, 392, 393, 394, 395, 396, 397, 398, 399, 400, 401, 403, 404, 405, 406, 407, 408, 409, 410, 415, 416, 417, 419, 420, 421, 422, 423, 424, 425, 426, 427, 428, 429, 430, 431, 432, 433, 434, 435, 436, 438, 439, 440, 441, 442, 443, 444, 445, 446, 447, 448, 449, 450, 451, 452, 453, 454, 455, 456, 457, 459, 460, 461, 463, 464, 465, 466, 467, 468, 469, 470, 471, 473, 474, 475, 476, 477, 478, 479, 480, 482, 483, 484, 485, 486, 492, 493, 494, 495, 481, 487, 488, 490, 491, 498, 499, 500, 501, 506, 507, 508, 512, 514, 515, 502, 503, 504, 509, 511, 516, 517, 518, 519, 520, 521, 523, 524, 525, 526, 527, 528, 530, 531, 532, 534, 535, 536, 537, 538, 539, 540, 541, 542, 543, 544, 545, 546, 547, 548, 549, 550, 551, 552, 553, 554, 555, 556, 557, 558, 559, 560, 561, 562, 563, 564, 565, 567, 568, 569, 570, 571, 574, 575, 576, 577, 578, 579, 581, 582, 583, 584, 585, 586, 587, 588, 589, 592, 593, 594, 595, 596, 597, 619, 606, 605, 617, 616, 615, 614, 613, 612, 611, 610, 609, 608, 607, 628, 627, 625, 624, 623, 642, 641, 640, 639, 638, 636, 635, 634, 632, 631, 630, 647, 646, 645, 644, 643, 653, 654, 652, 651, 650, 667, 666, 665, 664, 662, 661, 660, 659, 658, 657, 687, 686, 685, 684, 683, 682, 681, 680, 679, 678, 677, 676, 675, 674, 673, 672, 671, 670, 669, 668, 705, 704, 703, 702, 701, 700, 699, 698, 697, 696, 695, 694, 693, 692, 691, 688, 709, 708, 707, 706, 712, 711, 716, 715, 724, 720, 734, 732, 733, 730, 729, 728, 741, 740, 738, 739, 737, 752, 751, 750, 749, 748, 746, 763, 762, 761, 759, 758, 757, 756, 775, 774, 773, 772, 771, 770, 769, 768, 767, 766, 785, 784, 783, 781, 778, 809, 802, 801, 800, 799, 798, 797, 796, 794, 793, 792, 790, 791, 789, 788, 786, 787, 820, 819, 818, 817, 816, 815, 814, 813, 812, 811, 810, 808, 807, 806, 805, 804, 823, 822, 821, 836, 835, 833, 832, 831, 830, 829, 828, 827, 826, 825, 824, 841, 840, 839, 838, 837, 849, 848, 847, 846, 844, 862, 861, 860, 859, 855, 853, 858, 857, 856, 851, 868, 866, 865, 864, 871, 869, 887, 886, 885, 884, 883, 882, 881, 880, 879, 878, 877, 876, 875, 874, 873, 872, 870, 892, 891, 890, 889, 888, 905, 904, 903, 902, 901, 900, 897, 898, 896, 895, 894, 893, 920, 919, 918, 917, 915, 916, 914, 913, 911, 912, 910, 909, 908, 927, 926, 925, 923, 933, 932, 931, 930, 928, 953, 951, 950, 949, 948, 947, 946, 954, 952, 942, 940, 939, 973, 974, 971, 969, 970, 968, 967, 966, 965, 964, 963, 962, 961, 959, 957, 956, 976, 960, 999, 997, 996, 993, 994, 992, 990, 989, 988, 987, 985, 1002, 1001, 1034, 1017, 1015, 1013, 1036, 1033, 1032, 1031, 1030, 1023, 1016, 1012, 1011, 1010, 1009, 1008, 1035, 1029, 1028, 1027, 1026, 1025, 1024, 1022, 1021, 1019, 1018, 1061, 1060, 1062, 1059, 1058, 1065, 1064, 1067, 1066, 1076, 1075, 1074, 1073, 1079, 1078, 1046, 1045, 1044, 1043, 1053, 1052, 1050, 1049, 1048, 1040, 1039, 1038, 1089, 1088, 1092, 1091, 1090, 1101, 1100, 1099, 1097, 1096, 1095, 1094, 1085, 1083, 1106, 1105, 1104, 1108, 1107, 1113, 1112, 1111, 1296, 1297, 1298, 1299, 1300, 1291, 1304, 1305, 1306, 1307, 1308, 1301, 1302, 1303, 1312, 1313, 1315, 1316, 1317, 1318, 1319, 1320, 1335, 1336, 1337, 1338, 1339, 1340, 1341, 1328, 1329, 1330, 1331, 1332, 1333, 1362, 1363, 1365, 1352, 1353, 1355, 1356, 1357, 1358, 1359, 1361, 1408, 1409, 1410, 1403, 1404, 1405, 1407, 1394, 1395, 1396, 1397, 1398, 1399, 1400, 1402, 1449, 1446, 1447, 1444, 1445, 1472, 1473, 1454, 1456, 1459, 1461, 1455, 1450, 1451, 1452, 1453, 1471, 1457, 1462, 1463, 1464, 1465, 1466, 1467, 1468, 1469, 1470, 1489, 1490, 1492, 1482, 1488, 1491, 1493, 1494, 1495, 1481, 1483, 1484, 1485, 1486, 1487, 1504, 1505, 1506, 1507, 1508, 1509, 1510, 1511, 1512, 1513, 1514, 1498, 1499, 1500, 1501, 1502, 1503, 1520, 1521, 1518, 1519, 1536, 1535, 1545, 1546, 1547, 1548, 1539, 1540, 1541, 1542, 1543, 1544, 1570, 1572, 1573, 1574, 1575, 1576, 1577, 1568, 1569, 1563, 1564, 1565, 1566, 1567, 1584, 1585, 1578, 1579, 1580, 1581, 1582, 1583, 1587, 1588, 1590, 1591, 1592, 1600, 1601, 1602, 1596, 1597, 1598, 1599, 1593, 1594, 1595, 1648, 1649, 1647, 1650, 1651, 1652, 1653, 1654, 1655, 1656, 1657, 1658, 1659, 1660, 1663, 1664, 1665, 1666, 1667, 1668, 1669, 1662, 1670, 1671, 1673, 1674, 1675, 1676, 1677, 1678, 1679, 1680, 1681, 1682, 1683, 1684, 1685, 1686, 1688, 1689, 1690, 1687, 1696, 1697, 1699, 1700, 1691, 1692, 1693, 1694, 1695, 1701, 1702, 1703, 1704, 1705, 1706, 1707, 1708, 1709, 1710, 1711, 1712, 1713, 1714, 1715, 1716, 1728, 1729, 1730, 1731, 1732, 1733, 1734, 1735, 1718, 1719, 1720, 1721, 1722, 1723, 1724, 1725, 1727, 1736, 1737, 1738, 1739, 1740, 1741, 1743, 1744, 1746, 1747, 1748, 1752, 1749, 1750, 1751, 1760, 1761, 1762, 1763, 1764, 1753, 1754, 1755, 1756, 1757, 1758, 1759, 1765, 1766, 1767, 1768, 1769, 1770, 1771, 1772, 1773, 1774, 1775, 1780, 1781, 1777, 1778, 1779, 1784, 1785, 1786, 1787, 1788, 1789, 1811, 1812, 1813, 1814, 1815, 1816, 1817, 1818, 1805, 1806, 1807, 1808, 1809, 1810, 1792, 1793, 1794, 1795, 1796, 1797, 1798, 1799, 1800, 1801, 1802, 1803, 1790, 1791, 1826, 1827, 1828, 1829, 1830, 1831, 1824, 1825, 1820, 1821, 1822, 1823, 1836, 1837, 1838, 1839, 1840, 1841, 1842, 1832, 1834, 1835, 1843, 1844, 1845, 1846, 1848, 1849, 1850, 1847, 1861, 1874, 1875, 1876, 1877, 1878, 1852, 1853, 1854, 1857, 1864, 1868, 1869, 1870, 1871, 1872, 1858, 1859, 1860, 1862, 1863, 1865, 1866, 1867, 1855, 1888, 1889, 1890, 1892, 1894, 1880, 1891, 1879, 1881, 1883, 1884, 1885, 1886, 1887, 1896, 1897, 1899, 1901, 1902, 1903, 1904, 1905, 1906, 1907, 1908, 1920, 1909, 1913, 1915, 1916, 1917, 1918, 1919, 1912, 1911, 1928, 1930, 1927, 1921, 1922, 1923, 1924, 1925, 1926, 1932, 1933, 1934, 1935, 1937, 1938, 1939, 1941, 1976, 1973, 1974, 1975, 1964, 1965, 1966, 1967, 1968, 1969, 1971, 1959, 1960, 1961, 1962, 1963, 1970, 1952, 1953, 1954, 1955, 1957, 1958, 1951, 1984, 1985, 1986, 1987, 1988, 1978, 1980, 1981, 1982, 1983, 2001, 2002, 2003, 1989, 1995, 1996, 1997, 1998, 1999, 1991, 1992, 1993, 1994, 2004, 2034, 2040, 2041, 2043, 2044, 2045, 2035, 2036, 2037, 2038, 2039, 2018, 2019, 2020, 2021, 2022, 2023, 2024, 2025, 2026, 2027, 2028, 2029, 2030, 2031, 2032, 2033, 2042, 2050, 2051, 2052, 2053, 2054, 2055, 2056, 2058, 2059, 2060, 2061, 2062, 2048, 2049, 2063, 2064, 2046, 2047, 2065, 2066, 2067, 2068, 2069, 2070, 2071, 2072, 2073, 2075, 2076, 2088, 2089, 2086, 2087, 2082, 2083, 2084, 2080, 2081, 2077, 2078, 2079, 2090, 2091, 2092, 2093, 2094, 2097, 2098, 2100, 2101, 2102, 2103, 2104, 2105, 2106, 2107, 2108, 2109, 2110, 2111, 2112, 2113, 2114, 2115, 2116, 2117, 2118, 2119, 2120, 2121, 2122, 2123, 2124, 2125, 2126, 2127, 2128, 2129, 2136, 2134, 2135, 2167, 2168, 2169, 2170, 2171, 2153, 2158, 2159, 2160, 2161, 2162, 2163, 2164, 2166, 2155, 2156, 2157, 2148, 2149, 2150, 2151, 2152, 2176, 2190, 2192, 2194, 2195, 2199, 2200, 2201, 2179, 2181, 2182, 2183, 2184, 2186, 2187, 2174, 2175, 2177, 2180, 2185, 2188, 2191, 2193, 2196, 2197, 2198, 2216, 2217, 2218, 2215, 2210, 2211, 2213, 2204, 2205, 2206, 2209, 2214, 2208, 2212, 2202, 2203, 2207, 2236, 2237, 2238, 2239, 2225, 2226, 2227, 2228, 2229, 2230, 2231, 2232, 2233, 2234, 2235, 2224, 2221, 2222, 2223, 2249, 2250, 2251, 2252, 2253, 2254, 2255, 2256, 2240, 2241, 2242, 2243, 2244, 2245)',\n",
       "  'time': '0.012'},\n",
       " {'sql': 'SELECT \"wagtailcore_page\".\"id\", \"wagtailcore_page\".\"path\", \"wagtailcore_page\".\"depth\", \"wagtailcore_page\".\"numchild\", \"wagtailcore_page\".\"translation_key\", \"wagtailcore_page\".\"locale_id\", \"wagtailcore_page\".\"latest_revision_id\", \"wagtailcore_page\".\"live\", \"wagtailcore_page\".\"has_unpublished_changes\", \"wagtailcore_page\".\"first_published_at\", \"wagtailcore_page\".\"last_published_at\", \"wagtailcore_page\".\"live_revision_id\", \"wagtailcore_page\".\"go_live_at\", \"wagtailcore_page\".\"expire_at\", \"wagtailcore_page\".\"expired\", \"wagtailcore_page\".\"locked\", \"wagtailcore_page\".\"locked_at\", \"wagtailcore_page\".\"locked_by_id\", \"wagtailcore_page\".\"title\", \"wagtailcore_page\".\"draft_title\", \"wagtailcore_page\".\"slug\", \"wagtailcore_page\".\"content_type_id\", \"wagtailcore_page\".\"url_path\", \"wagtailcore_page\".\"owner_id\", \"wagtailcore_page\".\"seo_title\", \"wagtailcore_page\".\"show_in_menus\", \"wagtailcore_page\".\"search_description\", \"wagtailcore_page\".\"latest_revision_created_at\", \"wagtailcore_page\".\"alias_of_id\" FROM \"wagtailcore_page\" WHERE (\"wagtailcore_page\".\"depth\" = 3 AND \"wagtailcore_page\".\"path\" BETWEEN \\'000100010000\\' AND \\'00010001ZZZZ\\' AND \"wagtailcore_page\".\"live\") ORDER BY \"wagtailcore_page\".\"path\" ASC',\n",
       "  'time': '0.000'},\n",
       " {'sql': 'SELECT \"wagtailcore_page\".\"id\", \"wagtailcore_page\".\"path\", \"wagtailcore_page\".\"depth\", \"wagtailcore_page\".\"numchild\", \"wagtailcore_page\".\"translation_key\", \"wagtailcore_page\".\"locale_id\", \"wagtailcore_page\".\"latest_revision_id\", \"wagtailcore_page\".\"live\", \"wagtailcore_page\".\"has_unpublished_changes\", \"wagtailcore_page\".\"first_published_at\", \"wagtailcore_page\".\"last_published_at\", \"wagtailcore_page\".\"live_revision_id\", \"wagtailcore_page\".\"go_live_at\", \"wagtailcore_page\".\"expire_at\", \"wagtailcore_page\".\"expired\", \"wagtailcore_page\".\"locked\", \"wagtailcore_page\".\"locked_at\", \"wagtailcore_page\".\"locked_by_id\", \"wagtailcore_page\".\"title\", \"wagtailcore_page\".\"draft_title\", \"wagtailcore_page\".\"slug\", \"wagtailcore_page\".\"content_type_id\", \"wagtailcore_page\".\"url_path\", \"wagtailcore_page\".\"owner_id\", \"wagtailcore_page\".\"seo_title\", \"wagtailcore_page\".\"show_in_menus\", \"wagtailcore_page\".\"search_description\", \"wagtailcore_page\".\"latest_revision_created_at\", \"wagtailcore_page\".\"alias_of_id\", \"cast_post\".\"page_ptr_id\", \"cast_post\".\"uuid\", \"cast_post\".\"visible_date\", \"cast_post\".\"comments_enabled\", \"cast_post\".\"body\" FROM \"cast_post\" INNER JOIN \"wagtailcore_page\" ON (\"cast_post\".\"page_ptr_id\" = \"wagtailcore_page\".\"id\") WHERE (\"wagtailcore_page\".\"live\" AND \"wagtailcore_page\".\"path\"::text LIKE \\'000100010001%\\' AND \"wagtailcore_page\".\"depth\" >= 3 AND NOT (\"cast_post\".\"page_ptr_id\" = 3)) ORDER BY \"cast_post\".\"visible_date\" DESC',\n",
       "  'time': '0.003'}]"
      ]
     },
     "execution_count": 13,
     "metadata": {},
     "output_type": "execute_result"
    }
   ],
   "source": [
    "connection.queries"
   ]
  },
  {
   "cell_type": "code",
   "execution_count": null,
   "id": "ed78e045-d1ad-4a14-aa47-6a7e712480d9",
   "metadata": {},
   "outputs": [],
   "source": []
  }
 ],
 "metadata": {
  "kernelspec": {
   "display_name": "Django Kernel",
   "language": "python",
   "name": "django_extensions"
  },
  "language_info": {
   "codemirror_mode": {
    "name": "ipython",
    "version": 3
   },
   "file_extension": ".py",
   "mimetype": "text/x-python",
   "name": "python",
   "nbconvert_exporter": "python",
   "pygments_lexer": "ipython3",
   "version": "3.12.2"
  }
 },
 "nbformat": 4,
 "nbformat_minor": 5
}
