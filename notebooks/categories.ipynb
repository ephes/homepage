{
 "cells": [
  {
   "cell_type": "code",
   "execution_count": 4,
   "id": "d7ab798c-4e6b-42b1-93d6-d9bb1adbef24",
   "metadata": {
    "tags": []
   },
   "outputs": [],
   "source": [
    "from cast.filters import PostFilterset, get_facet_counts"
   ]
  },
  {
   "cell_type": "code",
   "execution_count": 5,
   "id": "c96c8809-c0f2-4691-ba5e-3dccb64221cf",
   "metadata": {
    "tags": []
   },
   "outputs": [],
   "source": [
    "blog = Blog.objects.get(slug=\"ephes_blog\")\n",
    "queryset = blog.unfiltered_published_posts"
   ]
  },
  {
   "cell_type": "code",
   "execution_count": 5,
   "id": "7985c7ce-97c9-4fd5-8598-b5854e5bf4c6",
   "metadata": {
    "tags": []
   },
   "outputs": [
    {
     "name": "stdout",
     "output_type": "stream",
     "text": [
      "filterset_data?  {'date_facets': ['2017-09']}\n",
      "category choices:  []\n",
      "date choices:  []\n",
      "category facet filter called with:  \n",
      "date facet filter called with:  ['2017-09']\n",
      "post_filter.qs count:  7\n"
     ]
    }
   ],
   "source": [
    "filterset = PostFilterset({\"date_facets\": [\"2017-09\"]}, queryset, fetch_facet_counts=True)"
   ]
  },
  {
   "cell_type": "code",
   "execution_count": 4,
   "id": "0fcfa953-416e-4b8b-87f5-947f6f35eb89",
   "metadata": {
    "tags": []
   },
   "outputs": [
    {
     "data": {
      "text/plain": [
       "{}"
      ]
     },
     "execution_count": 4,
     "metadata": {},
     "output_type": "execute_result"
    }
   ],
   "source": [
    "filterset.date_facet_counts"
   ]
  },
  {
   "cell_type": "code",
   "execution_count": 4,
   "id": "9d461955-b71f-4b51-9987-ca1c05e70dd1",
   "metadata": {
    "tags": []
   },
   "outputs": [
    {
     "name": "stdout",
     "output_type": "stream",
     "text": [
      "filterset_data?  {'category_facets': ['TIL']}\n",
      "category choices:  []\n",
      "date choices:  []\n",
      "date facet filter called with:  \n",
      "post_filter.qs count:  143\n"
     ]
    }
   ],
   "source": [
    "filterset = PostFilterset({\"category_facets\": [\"TIL\"]}, queryset, fetch_facet_counts=True)"
   ]
  },
  {
   "cell_type": "code",
   "execution_count": 10,
   "id": "e47befe5-c010-4465-8eed-820043376a5d",
   "metadata": {
    "tags": []
   },
   "outputs": [
    {
     "data": {
      "text/plain": [
       "<PageQuerySet [<Post: Added pagination>, <Post: Videos>, <Post: RSS Feeds>, <Post: Responsive images>, <Post: Caddy vs. nginx>, <Post: Getting images to work>, <Post: First post>]>"
      ]
     },
     "execution_count": 10,
     "metadata": {},
     "output_type": "execute_result"
    }
   ],
   "source": [
    "filterset.qs"
   ]
  },
  {
   "cell_type": "code",
   "execution_count": 29,
   "id": "8a49f89b-dae5-49f2-afa0-35b6980290ca",
   "metadata": {
    "tags": []
   },
   "outputs": [
    {
     "data": {
      "text/plain": [
       "<PageQuerySet [<Post: Weeknotes 2023-08-07>]>"
      ]
     },
     "execution_count": 29,
     "metadata": {},
     "output_type": "execute_result"
    }
   ],
   "source": [
    "category = PostCategory.objects.get(name=\"WeekNotes\")\n",
    "category.post_set.all()"
   ]
  },
  {
   "cell_type": "code",
   "execution_count": 5,
   "id": "7988286d-85e7-4e0c-93b3-2db7a23003c1",
   "metadata": {
    "tags": []
   },
   "outputs": [
    {
     "name": "stdout",
     "output_type": "stream",
     "text": [
      "PostFilterset.__init__:  {'date_facets': '2017-09', 'facet_counts': {'year_month': {datetime.datetime(2017, 9, 1, 0, 0): 1}}} <class 'wagtail.query.PageQuerySet'> {'year_month': {datetime.datetime(2017, 9, 1, 0, 0): 1}} False\n",
      "CPU times: user 10.9 ms, sys: 4.81 ms, total: 15.7 ms\n",
      "Wall time: 12.8 ms\n"
     ]
    },
    {
     "data": {
      "text/plain": [
       "{'year_month': {datetime.datetime(2017, 9, 1, 0, 0, tzinfo=zoneinfo.ZoneInfo(key='UTC')): 7}}"
      ]
     },
     "execution_count": 5,
     "metadata": {},
     "output_type": "execute_result"
    }
   ],
   "source": [
    "%%time\n",
    "get_date_facet_counts({\"date_facets\": \"2017-09\"}, queryset)"
   ]
  },
  {
   "cell_type": "code",
   "execution_count": 6,
   "id": "4b1bee81-0e5f-4eab-81bb-8c071033a8b4",
   "metadata": {
    "tags": []
   },
   "outputs": [
    {
     "name": "stdout",
     "output_type": "stream",
     "text": [
      "PostFilterset.__init__:  {'facet_counts': {}} <class 'wagtail.query.PageQuerySet'> {} False\n",
      "CPU times: user 5.09 ms, sys: 2.69 ms, total: 7.78 ms\n",
      "Wall time: 6.73 ms\n"
     ]
    },
    {
     "data": {
      "text/plain": [
       "{'year_month': {datetime.datetime(2023, 5, 1, 0, 0, tzinfo=zoneinfo.ZoneInfo(key='UTC')): 6,\n",
       "  datetime.datetime(2023, 8, 1, 0, 0, tzinfo=zoneinfo.ZoneInfo(key='UTC')): 1,\n",
       "  datetime.datetime(2022, 12, 1, 0, 0, tzinfo=zoneinfo.ZoneInfo(key='UTC')): 8,\n",
       "  datetime.datetime(2022, 11, 1, 0, 0, tzinfo=zoneinfo.ZoneInfo(key='UTC')): 6,\n",
       "  datetime.datetime(2017, 10, 1, 0, 0, tzinfo=zoneinfo.ZoneInfo(key='UTC')): 4,\n",
       "  datetime.datetime(2022, 2, 1, 0, 0, tzinfo=zoneinfo.ZoneInfo(key='UTC')): 4,\n",
       "  datetime.datetime(2022, 4, 1, 0, 0, tzinfo=zoneinfo.ZoneInfo(key='UTC')): 8,\n",
       "  datetime.datetime(2023, 1, 1, 0, 0, tzinfo=zoneinfo.ZoneInfo(key='UTC')): 10,\n",
       "  datetime.datetime(2022, 10, 1, 0, 0, tzinfo=zoneinfo.ZoneInfo(key='UTC')): 5,\n",
       "  datetime.datetime(2023, 7, 1, 0, 0, tzinfo=zoneinfo.ZoneInfo(key='UTC')): 5,\n",
       "  datetime.datetime(2023, 2, 1, 0, 0, tzinfo=zoneinfo.ZoneInfo(key='UTC')): 5,\n",
       "  datetime.datetime(2022, 3, 1, 0, 0, tzinfo=zoneinfo.ZoneInfo(key='UTC')): 4,\n",
       "  datetime.datetime(2022, 5, 1, 0, 0, tzinfo=zoneinfo.ZoneInfo(key='UTC')): 6,\n",
       "  datetime.datetime(2021, 9, 1, 0, 0, tzinfo=zoneinfo.ZoneInfo(key='UTC')): 3,\n",
       "  datetime.datetime(2023, 6, 1, 0, 0, tzinfo=zoneinfo.ZoneInfo(key='UTC')): 4,\n",
       "  datetime.datetime(2022, 9, 1, 0, 0, tzinfo=zoneinfo.ZoneInfo(key='UTC')): 4,\n",
       "  datetime.datetime(2023, 4, 1, 0, 0, tzinfo=zoneinfo.ZoneInfo(key='UTC')): 6,\n",
       "  datetime.datetime(2022, 6, 1, 0, 0, tzinfo=zoneinfo.ZoneInfo(key='UTC')): 4,\n",
       "  datetime.datetime(2022, 8, 1, 0, 0, tzinfo=zoneinfo.ZoneInfo(key='UTC')): 5,\n",
       "  datetime.datetime(2021, 7, 1, 0, 0, tzinfo=zoneinfo.ZoneInfo(key='UTC')): 4,\n",
       "  datetime.datetime(2017, 9, 1, 0, 0, tzinfo=zoneinfo.ZoneInfo(key='UTC')): 7,\n",
       "  datetime.datetime(2021, 6, 1, 0, 0, tzinfo=zoneinfo.ZoneInfo(key='UTC')): 3,\n",
       "  datetime.datetime(2020, 8, 1, 0, 0, tzinfo=zoneinfo.ZoneInfo(key='UTC')): 1,\n",
       "  datetime.datetime(2022, 1, 1, 0, 0, tzinfo=zoneinfo.ZoneInfo(key='UTC')): 6,\n",
       "  datetime.datetime(2023, 3, 1, 0, 0, tzinfo=zoneinfo.ZoneInfo(key='UTC')): 5,\n",
       "  datetime.datetime(2022, 7, 1, 0, 0, tzinfo=zoneinfo.ZoneInfo(key='UTC')): 5,\n",
       "  datetime.datetime(2017, 11, 1, 0, 0, tzinfo=zoneinfo.ZoneInfo(key='UTC')): 3,\n",
       "  datetime.datetime(2021, 8, 1, 0, 0, tzinfo=zoneinfo.ZoneInfo(key='UTC')): 5,\n",
       "  datetime.datetime(2021, 10, 1, 0, 0, tzinfo=zoneinfo.ZoneInfo(key='UTC')): 5,\n",
       "  datetime.datetime(2021, 11, 1, 0, 0, tzinfo=zoneinfo.ZoneInfo(key='UTC')): 1}}"
      ]
     },
     "execution_count": 6,
     "metadata": {},
     "output_type": "execute_result"
    }
   ],
   "source": [
    "%%time\n",
    "get_date_facet_counts({}, queryset)"
   ]
  },
  {
   "cell_type": "code",
   "execution_count": 10,
   "id": "1cd8ec86-4bea-4aae-98d9-f8a306d4bb04",
   "metadata": {
    "tags": []
   },
   "outputs": [
    {
     "data": {
      "text/plain": [
       "datetime.datetime(2017, 9, 1, 0, 0)"
      ]
     },
     "execution_count": 10,
     "metadata": {},
     "output_type": "execute_result"
    }
   ],
   "source": [
    "get_selected_facet({\"date_facets\": \"2017-09\"})"
   ]
  },
  {
   "cell_type": "code",
   "execution_count": 11,
   "id": "88ebcedc-026f-43af-ac67-cbd82973fbd8",
   "metadata": {
    "tags": []
   },
   "outputs": [
    {
     "ename": "TypeError",
     "evalue": "Blog.get_context() missing 1 required positional argument: 'request'",
     "output_type": "error",
     "traceback": [
      "\u001b[0;31m---------------------------------------------------------------------------\u001b[0m",
      "\u001b[0;31mTypeError\u001b[0m                                 Traceback (most recent call last)",
      "Cell \u001b[0;32mIn[11], line 1\u001b[0m\n\u001b[0;32m----> 1\u001b[0m bctx \u001b[38;5;241m=\u001b[39m \u001b[43mblog\u001b[49m\u001b[38;5;241;43m.\u001b[39;49m\u001b[43mget_context\u001b[49m\u001b[43m(\u001b[49m\u001b[43m)\u001b[49m\n",
      "\u001b[0;31mTypeError\u001b[0m: Blog.get_context() missing 1 required positional argument: 'request'"
     ]
    }
   ],
   "source": [
    "bctx = blog.get_context()"
   ]
  },
  {
   "cell_type": "markdown",
   "id": "c93cea88-3ce1-4c33-9833-d9efc21afa0b",
   "metadata": {},
   "source": [
    "# Just get the facet counts"
   ]
  },
  {
   "cell_type": "code",
   "execution_count": 24,
   "id": "5e0775a7-ccdc-4505-af2b-b8782d980c78",
   "metadata": {
    "tags": []
   },
   "outputs": [],
   "source": [
    "from django.db import models"
   ]
  },
  {
   "cell_type": "code",
   "execution_count": 25,
   "id": "728c5b52-1cac-4b12-aeda-229ab3f9102b",
   "metadata": {
    "tags": []
   },
   "outputs": [
    {
     "name": "stdout",
     "output_type": "stream",
     "text": [
      "PostFilterset.__init__:  {'search': 'htmx'} <class 'wagtail.query.PageQuerySet'> {} False\n"
     ]
    }
   ],
   "source": [
    "data = {\"search\": \"htmx\"}\n",
    "facet_counts = {}\n",
    "post_filter = PostFilterset(queryset=queryset, data=data, facet_counts=facet_counts)\n",
    "facet_queryset = (\n",
    "    post_filter.qs.order_by()\n",
    "    .annotate(month=models.functions.TruncMonth(\"visible_date\"))\n",
    "    .values(\"month\")\n",
    "    .annotate(n=models.Count(\"pk\"))\n",
    ")\n",
    "year_month_counts = {}\n",
    "for row in facet_queryset:\n",
    "    year_month_counts[row[\"month\"]] = row[\"n\"]"
   ]
  },
  {
   "cell_type": "code",
   "execution_count": 26,
   "id": "b6b33213-31c9-4413-8f76-bbfcd47c74e0",
   "metadata": {
    "tags": []
   },
   "outputs": [
    {
     "data": {
      "text/plain": [
       "<PageQuerySet [{'month': datetime.datetime(2021, 6, 1, 0, 0, tzinfo=zoneinfo.ZoneInfo(key='UTC')), 'n': 1}, {'month': datetime.datetime(2021, 7, 1, 0, 0, tzinfo=zoneinfo.ZoneInfo(key='UTC')), 'n': 1}, {'month': datetime.datetime(2022, 1, 1, 0, 0, tzinfo=zoneinfo.ZoneInfo(key='UTC')), 'n': 4}, {'month': datetime.datetime(2022, 2, 1, 0, 0, tzinfo=zoneinfo.ZoneInfo(key='UTC')), 'n': 3}, {'month': datetime.datetime(2022, 3, 1, 0, 0, tzinfo=zoneinfo.ZoneInfo(key='UTC')), 'n': 3}, {'month': datetime.datetime(2022, 5, 1, 0, 0, tzinfo=zoneinfo.ZoneInfo(key='UTC')), 'n': 1}, {'month': datetime.datetime(2022, 6, 1, 0, 0, tzinfo=zoneinfo.ZoneInfo(key='UTC')), 'n': 1}, {'month': datetime.datetime(2022, 7, 1, 0, 0, tzinfo=zoneinfo.ZoneInfo(key='UTC')), 'n': 2}, {'month': datetime.datetime(2022, 8, 1, 0, 0, tzinfo=zoneinfo.ZoneInfo(key='UTC')), 'n': 1}, {'month': datetime.datetime(2022, 9, 1, 0, 0, tzinfo=zoneinfo.ZoneInfo(key='UTC')), 'n': 1}, {'month': datetime.datetime(2022, 10, 1, 0, 0, tzinfo=zoneinfo.ZoneInfo(key='UTC')), 'n': 1}, {'month': datetime.datetime(2022, 11, 1, 0, 0, tzinfo=zoneinfo.ZoneInfo(key='UTC')), 'n': 3}, {'month': datetime.datetime(2023, 1, 1, 0, 0, tzinfo=zoneinfo.ZoneInfo(key='UTC')), 'n': 1}, {'month': datetime.datetime(2023, 2, 1, 0, 0, tzinfo=zoneinfo.ZoneInfo(key='UTC')), 'n': 1}, {'month': datetime.datetime(2023, 3, 1, 0, 0, tzinfo=zoneinfo.ZoneInfo(key='UTC')), 'n': 2}, {'month': datetime.datetime(2023, 4, 1, 0, 0, tzinfo=zoneinfo.ZoneInfo(key='UTC')), 'n': 1}, {'month': datetime.datetime(2023, 6, 1, 0, 0, tzinfo=zoneinfo.ZoneInfo(key='UTC')), 'n': 2}, {'month': datetime.datetime(2023, 7, 1, 0, 0, tzinfo=zoneinfo.ZoneInfo(key='UTC')), 'n': 2}]>"
      ]
     },
     "execution_count": 26,
     "metadata": {},
     "output_type": "execute_result"
    }
   ],
   "source": [
    "facet_queryset"
   ]
  },
  {
   "cell_type": "markdown",
   "id": "13e80785-435b-43bb-addf-eeac7d483a31",
   "metadata": {},
   "source": [
    "## Raw Query for Category Counts"
   ]
  },
  {
   "cell_type": "code",
   "execution_count": null,
   "id": "54f6aad3-a7af-4a27-a146-020d58c1203e",
   "metadata": {},
   "outputs": [],
   "source": [
    "data = {}\n",
    "facet_counts = {}\n",
    "post_filter = PostFilterset(queryset=queryset, data=data, facet_counts=facet_counts)\n",
    "facet_queryset = (\n",
    "    post_filter.qs.order_by()\n",
    "    .annotate(month=TruncMonth(\"visible_date\"))\n",
    "    .values(\"month\")\n",
    "    .annotate(n=models.Count(\"pk\"))\n",
    ")\n",
    "year_month_counts = {}\n",
    "for row in facet_queryset:\n",
    "    year_month_counts[row[\"month\"]] = row[\"n\"]"
   ]
  },
  {
   "cell_type": "code",
   "execution_count": 43,
   "id": "cc5fdcd2-3136-4da5-83a9-9ac05ed2dc83",
   "metadata": {
    "tags": []
   },
   "outputs": [
    {
     "name": "stdout",
     "output_type": "stream",
     "text": [
      "WeekNotes 2\n",
      "Today I Learned 0\n",
      "Video 0\n",
      "CPU times: user 5.62 ms, sys: 8.62 ms, total: 14.2 ms\n",
      "Wall time: 13.4 ms\n"
     ]
    }
   ],
   "source": [
    "%%time\n",
    "post_count_qs = PostCategory.objects.annotate(\n",
    "    num_posts=models.Count(\n",
    "        \"post\",\n",
    "        filter=models.Q(post__in=queryset)\n",
    "    )\n",
    ")\n",
    "for category in post_count_qs:\n",
    "    print(category.name, category.num_posts)"
   ]
  },
  {
   "cell_type": "code",
   "execution_count": 40,
   "id": "7729c7b1-21b6-4c17-ba31-3bb0e3553ba2",
   "metadata": {
    "tags": []
   },
   "outputs": [],
   "source": [
    "from django.http import QueryDict\n",
    "from django.utils.http import urlencode"
   ]
  },
  {
   "cell_type": "code",
   "execution_count": 41,
   "id": "79f7e39f-13cd-444b-ac0a-ec824c8fca61",
   "metadata": {
    "tags": []
   },
   "outputs": [],
   "source": [
    "qd = QueryDict(\"search=foobar baz\")"
   ]
  },
  {
   "cell_type": "code",
   "execution_count": 42,
   "id": "128959cd-84e9-4770-888e-532059b129b6",
   "metadata": {
    "tags": []
   },
   "outputs": [
    {
     "data": {
      "text/plain": [
       "<QueryDict: {'search': ['foobar baz']}>"
      ]
     },
     "execution_count": 42,
     "metadata": {},
     "output_type": "execute_result"
    }
   ],
   "source": [
    "qd"
   ]
  },
  {
   "cell_type": "code",
   "execution_count": 7,
   "id": "1cefd8a8-ebc2-4055-833b-087551b44eb4",
   "metadata": {
    "tags": []
   },
   "outputs": [
    {
     "name": "stdout",
     "output_type": "stream",
     "text": [
      "data filterset init:  {'date_facets': ['2023-345-23'], 'facet_counts': {}}\n",
      "filterset cleaned_data:  {'search': '', 'date': None, 'category_facets': '', 'o': None}\n",
      "filterset filters:  OrderedDict([('search', <django_filters.filters.CharFilter object at 0x111cc7410>), ('date', <django_filters.filters.DateFromToRangeFilter object at 0x10bd26cd0>), ('category_facets', <cast.filters.CategoryFacetFilter object at 0x111c928d0>), ('date_facets', <cast.filters.DateFacetFilter object at 0x10bd24f90>), ('o', <django_filters.filters.OrderingFilter object at 0x111cc1010>)])\n",
      "category facet filter called with:  \n"
     ]
    },
    {
     "data": {
      "text/plain": [
       "{'year_month': {datetime.datetime(2023, 5, 1, 0, 0, tzinfo=zoneinfo.ZoneInfo(key='UTC')): 6,\n",
       "  datetime.datetime(2023, 8, 1, 0, 0, tzinfo=zoneinfo.ZoneInfo(key='UTC')): 1,\n",
       "  datetime.datetime(2022, 12, 1, 0, 0, tzinfo=zoneinfo.ZoneInfo(key='UTC')): 8,\n",
       "  datetime.datetime(2022, 11, 1, 0, 0, tzinfo=zoneinfo.ZoneInfo(key='UTC')): 6,\n",
       "  datetime.datetime(2017, 10, 1, 0, 0, tzinfo=zoneinfo.ZoneInfo(key='UTC')): 4,\n",
       "  datetime.datetime(2022, 2, 1, 0, 0, tzinfo=zoneinfo.ZoneInfo(key='UTC')): 4,\n",
       "  datetime.datetime(2022, 4, 1, 0, 0, tzinfo=zoneinfo.ZoneInfo(key='UTC')): 8,\n",
       "  datetime.datetime(2023, 1, 1, 0, 0, tzinfo=zoneinfo.ZoneInfo(key='UTC')): 10,\n",
       "  datetime.datetime(2022, 10, 1, 0, 0, tzinfo=zoneinfo.ZoneInfo(key='UTC')): 5,\n",
       "  datetime.datetime(2023, 7, 1, 0, 0, tzinfo=zoneinfo.ZoneInfo(key='UTC')): 5,\n",
       "  datetime.datetime(2023, 2, 1, 0, 0, tzinfo=zoneinfo.ZoneInfo(key='UTC')): 5,\n",
       "  datetime.datetime(2022, 3, 1, 0, 0, tzinfo=zoneinfo.ZoneInfo(key='UTC')): 4,\n",
       "  datetime.datetime(2022, 5, 1, 0, 0, tzinfo=zoneinfo.ZoneInfo(key='UTC')): 6,\n",
       "  datetime.datetime(2021, 9, 1, 0, 0, tzinfo=zoneinfo.ZoneInfo(key='UTC')): 3,\n",
       "  datetime.datetime(2023, 6, 1, 0, 0, tzinfo=zoneinfo.ZoneInfo(key='UTC')): 4,\n",
       "  datetime.datetime(2022, 9, 1, 0, 0, tzinfo=zoneinfo.ZoneInfo(key='UTC')): 4,\n",
       "  datetime.datetime(2023, 4, 1, 0, 0, tzinfo=zoneinfo.ZoneInfo(key='UTC')): 6,\n",
       "  datetime.datetime(2022, 6, 1, 0, 0, tzinfo=zoneinfo.ZoneInfo(key='UTC')): 4,\n",
       "  datetime.datetime(2022, 8, 1, 0, 0, tzinfo=zoneinfo.ZoneInfo(key='UTC')): 5,\n",
       "  datetime.datetime(2021, 7, 1, 0, 0, tzinfo=zoneinfo.ZoneInfo(key='UTC')): 4,\n",
       "  datetime.datetime(2017, 9, 1, 0, 0, tzinfo=zoneinfo.ZoneInfo(key='UTC')): 7,\n",
       "  datetime.datetime(2021, 6, 1, 0, 0, tzinfo=zoneinfo.ZoneInfo(key='UTC')): 3,\n",
       "  datetime.datetime(2020, 8, 1, 0, 0, tzinfo=zoneinfo.ZoneInfo(key='UTC')): 1,\n",
       "  datetime.datetime(2022, 1, 1, 0, 0, tzinfo=zoneinfo.ZoneInfo(key='UTC')): 6,\n",
       "  datetime.datetime(2023, 3, 1, 0, 0, tzinfo=zoneinfo.ZoneInfo(key='UTC')): 5,\n",
       "  datetime.datetime(2022, 7, 1, 0, 0, tzinfo=zoneinfo.ZoneInfo(key='UTC')): 5,\n",
       "  datetime.datetime(2017, 11, 1, 0, 0, tzinfo=zoneinfo.ZoneInfo(key='UTC')): 3,\n",
       "  datetime.datetime(2021, 8, 1, 0, 0, tzinfo=zoneinfo.ZoneInfo(key='UTC')): 5,\n",
       "  datetime.datetime(2021, 10, 1, 0, 0, tzinfo=zoneinfo.ZoneInfo(key='UTC')): 5,\n",
       "  datetime.datetime(2021, 11, 1, 0, 0, tzinfo=zoneinfo.ZoneInfo(key='UTC')): 1},\n",
       " 'categories': {'weeknotes': 2, 'til': 1, 'video': 0}}"
      ]
     },
     "execution_count": 7,
     "metadata": {},
     "output_type": "execute_result"
    }
   ],
   "source": [
    "get_facet_counts({\"date_facets\": [\"2023-345-23\"]}, queryset)"
   ]
  },
  {
   "cell_type": "code",
   "execution_count": null,
   "id": "de6a1205-a995-4265-9cdc-7122f196007c",
   "metadata": {},
   "outputs": [],
   "source": []
  },
  {
   "cell_type": "code",
   "execution_count": null,
   "id": "1690ee47-587d-45cf-a6c9-72cda69851be",
   "metadata": {},
   "outputs": [],
   "source": []
  }
 ],
 "metadata": {
  "kernelspec": {
   "display_name": "Django Kernel",
   "language": "python",
   "name": "django_extensions"
  },
  "language_info": {
   "codemirror_mode": {
    "name": "ipython",
    "version": 3
   },
   "file_extension": ".py",
   "mimetype": "text/x-python",
   "name": "python",
   "nbconvert_exporter": "python",
   "pygments_lexer": "ipython3",
   "version": "3.11.4"
  }
 },
 "nbformat": 4,
 "nbformat_minor": 5
}
