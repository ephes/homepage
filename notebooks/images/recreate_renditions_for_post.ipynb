{
 "cells": [
  {
   "cell_type": "markdown",
   "id": "ce54c198-fdd5-433f-b64a-8600c863ade4",
   "metadata": {},
   "source": [
    "# Is it possible to just regenerate all Renditions for a post?\n",
    "\n",
    "Would be nice to be able to regenerate all renditions for two reasons:\n",
    "\n",
    "- Remove old renditions which are no longer needed\n",
    "- Create all thumbnail / modal renditions in different formats for picture element"
   ]
  },
  {
   "cell_type": "code",
   "execution_count": 4,
   "id": "f6a6abc2-a9e4-4e01-943c-afabf3ee1b13",
   "metadata": {
    "tags": []
   },
   "outputs": [],
   "source": [
    "def get_all_images_for_post(post):\n",
    "    for image in post.images.all():\n",
    "        yield image\n",
    "    for gallery in post.galleries.all():\n",
    "        for image in gallery.images.all():\n",
    "            yield image"
   ]
  },
  {
   "cell_type": "code",
   "execution_count": 7,
   "id": "c6f4d86e-8f3b-4ffc-afba-b535168c717c",
   "metadata": {
    "tags": []
   },
   "outputs": [],
   "source": [
    "post = Post.objects.get(slug=\"november-2023-11-13\")"
   ]
  },
  {
   "cell_type": "code",
   "execution_count": 12,
   "id": "d27de125-7b46-428d-9699-f0a3cd62973f",
   "metadata": {
    "tags": []
   },
   "outputs": [
    {
     "name": "stdout",
     "output_type": "stream",
     "text": [
      "2085 6\n",
      "2086 12\n",
      "2087 12\n",
      "2088 12\n",
      "2089 12\n",
      "2082 12\n",
      "2083 12\n",
      "2084 12\n",
      "2077 12\n",
      "2078 12\n",
      "2079 12\n",
      "2080 12\n",
      "2081 12\n"
     ]
    }
   ],
   "source": [
    "for image in get_all_images_for_post(post):\n",
    "    print(image.pk, image.renditions.count())"
   ]
  },
  {
   "cell_type": "code",
   "execution_count": 13,
   "id": "3984bef5-7b66-495d-b754-e937c48086dc",
   "metadata": {
    "tags": []
   },
   "outputs": [],
   "source": [
    "image = Image.objects.get(pk=2086)"
   ]
  },
  {
   "cell_type": "code",
   "execution_count": 16,
   "id": "417e7e3c-bedc-4a06-841d-3e564c27ba39",
   "metadata": {
    "tags": []
   },
   "outputs": [
    {
     "name": "stdout",
     "output_type": "stream",
     "text": [
      "https://d2b7dn9rofvhjd.cloudfront.net/images/Nora_mit_Jasmin_auf_der_Bank.width-107.format-jpeg.jpg\n",
      "https://d2b7dn9rofvhjd.cloudfront.net/images/Nora_mit_Jasmin_auf_der_Bank.width-214.format-jpeg.jpg\n",
      "https://d2b7dn9rofvhjd.cloudfront.net/images/Nora_mit_Jasmin_auf_der_Bank.width-321.format-jpeg.jpg\n",
      "https://d2b7dn9rofvhjd.cloudfront.net/images/Nora_mit_Jasmin_auf_der_Bank.width-107.format-avif.avif\n",
      "https://d2b7dn9rofvhjd.cloudfront.net/images/Nora_mit_Jasmin_auf_der_Bank.width-214.format-avif.avif\n",
      "https://d2b7dn9rofvhjd.cloudfront.net/images/Nora_mit_Jasmin_auf_der_Bank.width-321.format-avif.avif\n",
      "https://d2b7dn9rofvhjd.cloudfront.net/images/Nora_mit_Jasmin_auf_der_Bank.width-987.format-jpeg.jpg\n",
      "https://d2b7dn9rofvhjd.cloudfront.net/images/Nora_mit_Jasmin_auf_der_Bank.width-1974.format-jpeg.jpg\n",
      "https://d2b7dn9rofvhjd.cloudfront.net/images/Nora_mit_Jasmin_auf_der_Bank.width-2961.format-jpeg.jpg\n",
      "https://d2b7dn9rofvhjd.cloudfront.net/images/Nora_mit_Jasmin_auf_der_Bank.width-987.format-avif.avif\n",
      "https://d2b7dn9rofvhjd.cloudfront.net/images/Nora_mit_Jasmin_auf_der_Bank.width-1974.format-avif.avif\n",
      "https://d2b7dn9rofvhjd.cloudfront.net/images/Nora_mit_Jasmin_auf_der_Bank.width-2961.format-avif.avif\n"
     ]
    }
   ],
   "source": [
    "for rendition in image.renditions.all():\n",
    "    print(rendition.url)"
   ]
  },
  {
   "cell_type": "code",
   "execution_count": 31,
   "id": "588bc993-3d71-4b72-9b74-d2d7ddc55349",
   "metadata": {
    "tags": []
   },
   "outputs": [],
   "source": [
    "# for image in get_all_images_for_post(post):\n",
    "#     print(image.pk, image.renditions.count())\n",
    "#     for rendition in image.renditions.all():\n",
    "#         print(rendition.url)\n",
    "#         rendition.delete()"
   ]
  },
  {
   "cell_type": "code",
   "execution_count": 32,
   "id": "830087cb-a4e8-4a85-b47c-95a5b06a309a",
   "metadata": {
    "tags": []
   },
   "outputs": [],
   "source": [
    "for rendition in image.renditions.all():\n",
    "    print(rendition.pk, rendition.filter_spec)"
   ]
  },
  {
   "cell_type": "markdown",
   "id": "4dc83efa-d032-4c66-bb8b-ef67dfec6c23",
   "metadata": {},
   "source": [
    "## Just custom build rendition for image"
   ]
  },
  {
   "cell_type": "code",
   "execution_count": 33,
   "id": "8f01284c-1c33-4631-b3cf-6578dfe7d5f2",
   "metadata": {
    "tags": []
   },
   "outputs": [
    {
     "name": "stdout",
     "output_type": "stream",
     "text": [
      "self file name:  original_images/Nora_beim_Kinderarzt.jpeg\n",
      "input_filename:  Nora_beim_Kinderarzt.jpeg\n",
      "input_filename_without_extension:  Nora_beim_Kinderarzt\n",
      "output extension:  width-1110.format-avif.avif\n",
      "output_filename:  Nora_beim_Kinderarzt.width-1110.format-avif.avif\n",
      "https://d2b7dn9rofvhjd.cloudfront.net/images/Nora_beim_Kinderarzt.width-1110.format-avif.avif\n"
     ]
    }
   ],
   "source": [
    "post = Post.objects.get(slug=\"november-2023-11-13\")\n",
    "raw = post.body.raw_data\n",
    "image_block = [b for b in raw[0][\"value\"] if b[\"type\"] == \"image\"][0]\n",
    "image_pk = image_block[\"value\"]\n",
    "image = Image.objects.get(pk=image_pk)\n",
    "rendition = image.get_rendition(\"width-1110|format-avif\")\n",
    "print(rendition.url)"
   ]
  },
  {
   "cell_type": "code",
   "execution_count": 22,
   "id": "50e4f79b-30d1-49eb-b299-062e923d9ed2",
   "metadata": {
    "tags": []
   },
   "outputs": [
    {
     "data": {
      "text/plain": [
       "(1, {'wagtailimages.Rendition': 1})"
      ]
     },
     "execution_count": 22,
     "metadata": {},
     "output_type": "execute_result"
    }
   ],
   "source": [
    "rendition.delete()"
   ]
  }
 ],
 "metadata": {
  "kernelspec": {
   "display_name": "Django Kernel",
   "language": "python",
   "name": "django_extensions"
  },
  "language_info": {
   "codemirror_mode": {
    "name": "ipython",
    "version": 3
   },
   "file_extension": ".py",
   "mimetype": "text/x-python",
   "name": "python",
   "nbconvert_exporter": "python",
   "pygments_lexer": "ipython3",
   "version": "3.12.0"
  }
 },
 "nbformat": 4,
 "nbformat_minor": 5
}
