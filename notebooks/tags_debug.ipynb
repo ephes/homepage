{
 "cells": [
  {
   "cell_type": "code",
   "execution_count": 1,
   "id": "ce62e121-65fc-422e-afe5-4d3728c4beb1",
   "metadata": {
    "tags": []
   },
   "outputs": [],
   "source": [
    "from django.db import models\n",
    "from cast.filters import PostFilterset"
   ]
  },
  {
   "cell_type": "code",
   "execution_count": 2,
   "id": "761e1a24-f6ac-4856-8fcf-1a738c38d6b3",
   "metadata": {
    "tags": []
   },
   "outputs": [
    {
     "data": {
      "text/plain": [
       "<QuerySet [<PostTag: Weeknotes 2023-07-31 tagged with images>, <PostTag: Weeknotes 2023-08-21 tagged with django>, <PostTag: Weeknotes 2023-08-21 tagged with rust>, <PostTag: Claas im Monkeyspot tagged with video>, <PostTag: Full-Stack Team Now Open for Projects: A First-Time Announcement! 🚀 tagged with freelancing>]>"
      ]
     },
     "execution_count": 2,
     "metadata": {},
     "output_type": "execute_result"
    }
   ],
   "source": [
    "PostTag.objects.all()"
   ]
  },
  {
   "cell_type": "code",
   "execution_count": 3,
   "id": "678d94b8-86ca-4015-acd0-2e07715d2762",
   "metadata": {
    "tags": []
   },
   "outputs": [],
   "source": [
    "tag = PostTag.objects.first()"
   ]
  },
  {
   "cell_type": "code",
   "execution_count": 4,
   "id": "fa1cc5a6-05d1-4bb9-9414-da600f13c981",
   "metadata": {
    "tags": []
   },
   "outputs": [],
   "source": [
    "blog = Blog.objects.get(slug=\"ephes_blog\")"
   ]
  },
  {
   "cell_type": "code",
   "execution_count": 5,
   "id": "5f26588c-1163-4090-b502-c9597b1bee0e",
   "metadata": {
    "tags": []
   },
   "outputs": [
    {
     "data": {
      "text/plain": [
       "<PageQuerySet []>"
      ]
     },
     "execution_count": 5,
     "metadata": {},
     "output_type": "execute_result"
    }
   ],
   "source": [
    "blog.unfiltered_published_posts.filter(tags__name=\"foobar\")"
   ]
  },
  {
   "cell_type": "code",
   "execution_count": 48,
   "id": "f080e451-96e4-4be9-a30c-96270c4a1b8c",
   "metadata": {
    "tags": []
   },
   "outputs": [],
   "source": [
    "queryset = blog.unfiltered_published_posts.filter(pk__lt=100)\n",
    "queryset = blog.unfiltered_published_posts"
   ]
  },
  {
   "cell_type": "code",
   "execution_count": 22,
   "id": "9f89a543-6078-4182-8e75-633c26cc3948",
   "metadata": {
    "tags": []
   },
   "outputs": [
    {
     "name": "stdout",
     "output_type": "stream",
     "text": [
      "{'weeknotes': ('WeekNotes', 2), 'fotos': ('Fotos', 1), 'til': ('Today I Learned', 1), 'video': ('Video', 0)}\n"
     ]
    }
   ],
   "source": [
    "category_count_queryset = PostCategory.objects.annotate(\n",
    "    num_posts=models.Count(\"post\", filter=models.Q(post__in=queryset))\n",
    ")\n",
    "category_counts = {}\n",
    "for category in category_count_queryset:\n",
    "    category_counts[category.slug] = (category.name, category.num_posts)  # type: ignore\n",
    "print(category_counts)"
   ]
  },
  {
   "cell_type": "code",
   "execution_count": 24,
   "id": "5546f2e1-a479-42f4-abfa-9a240caca99c",
   "metadata": {
    "tags": []
   },
   "outputs": [
    {
     "name": "stdout",
     "output_type": "stream",
     "text": [
      "set tag counts:  {'claas': ('claas', 1), 'foobar': ('foobar', 1)}\n"
     ]
    }
   ],
   "source": [
    "tag_count_queryset = PostTag.objects.annotate(\n",
    "    num_posts=models.Count(\"content_object\", filter=models.Q(content_object__in=queryset))\n",
    ")\n",
    "tag_counts = {}\n",
    "for tag in tag_count_queryset:\n",
    "    tag_counts[tag.tag.slug] = (tag.tag.name, tag.num_posts)  # type: ignore\n",
    "print(\"set tag counts: \", tag_counts)"
   ]
  },
  {
   "cell_type": "code",
   "execution_count": 77,
   "id": "6380e28e-1fb4-4e9c-b146-b832f41dd38d",
   "metadata": {
    "tags": []
   },
   "outputs": [
    {
     "name": "stdout",
     "output_type": "stream",
     "text": [
      "slug:  foobar\n",
      "slug:  foobar\n",
      "slug:  foobar\n",
      "slug:  claas\n"
     ]
    }
   ],
   "source": [
    "tag_count_queryset = PostTag.objects.annotate(\n",
    "    num_posts=models.Count(\"tag__slug\")\n",
    ").annotate(slug=models.F(\"tag__slug\"))\n",
    "tag_counts = {}\n",
    "for tag in tag_count_queryset:\n",
    "    print(\"slug: \", tag.slug)\n",
    "#    tag_counts[tag.tag.slug] = (tag.tag.name, tag.num_posts)  # type: ignore\n",
    "# print(\"set tag counts: \", tag_counts)"
   ]
  },
  {
   "cell_type": "code",
   "execution_count": 84,
   "id": "8c895909-addf-47be-9a56-bcc570b5d4e4",
   "metadata": {
    "tags": []
   },
   "outputs": [
    {
     "ename": "TypeError",
     "evalue": "slug is not an aggregate expression",
     "output_type": "error",
     "traceback": [
      "\u001b[0;31m---------------------------------------------------------------------------\u001b[0m",
      "\u001b[0;31mTypeError\u001b[0m                                 Traceback (most recent call last)",
      "Cell \u001b[0;32mIn[84], line 1\u001b[0m\n\u001b[0;32m----> 1\u001b[0m \u001b[43mPostTag\u001b[49m\u001b[38;5;241;43m.\u001b[39;49m\u001b[43mobjects\u001b[49m\u001b[38;5;241;43m.\u001b[39;49m\u001b[43mannotate\u001b[49m\u001b[43m(\u001b[49m\u001b[43mnum_posts\u001b[49m\u001b[38;5;241;43m=\u001b[39;49m\u001b[43mmodels\u001b[49m\u001b[38;5;241;43m.\u001b[39;49m\u001b[43mCount\u001b[49m\u001b[43m(\u001b[49m\u001b[38;5;124;43m\"\u001b[39;49m\u001b[38;5;124;43mcontent_object\u001b[39;49m\u001b[38;5;124;43m\"\u001b[39;49m\u001b[43m)\u001b[49m\u001b[43m)\u001b[49m\u001b[38;5;241;43m.\u001b[39;49m\u001b[43maggregate\u001b[49m\u001b[43m(\u001b[49m\u001b[43mslug\u001b[49m\u001b[38;5;241;43m=\u001b[39;49m\u001b[43mmodels\u001b[49m\u001b[38;5;241;43m.\u001b[39;49m\u001b[43mF\u001b[49m\u001b[43m(\u001b[49m\u001b[38;5;124;43m\"\u001b[39;49m\u001b[38;5;124;43mtag__slug\u001b[39;49m\u001b[38;5;124;43m\"\u001b[39;49m\u001b[43m)\u001b[49m\u001b[43m)\u001b[49m\n",
      "File \u001b[0;32m~/.virtualenvs/homepage/lib/python3.11/site-packages/django/db/models/query.py:592\u001b[0m, in \u001b[0;36mQuerySet.aggregate\u001b[0;34m(self, *args, **kwargs)\u001b[0m\n\u001b[1;32m    589\u001b[0m         \u001b[38;5;28;01mraise\u001b[39;00m \u001b[38;5;167;01mTypeError\u001b[39;00m(\u001b[38;5;124m\"\u001b[39m\u001b[38;5;124mComplex aggregates require an alias\u001b[39m\u001b[38;5;124m\"\u001b[39m)\n\u001b[1;32m    590\u001b[0m     kwargs[arg\u001b[38;5;241m.\u001b[39mdefault_alias] \u001b[38;5;241m=\u001b[39m arg\n\u001b[0;32m--> 592\u001b[0m \u001b[38;5;28;01mreturn\u001b[39;00m \u001b[38;5;28;43mself\u001b[39;49m\u001b[38;5;241;43m.\u001b[39;49m\u001b[43mquery\u001b[49m\u001b[38;5;241;43m.\u001b[39;49m\u001b[43mchain\u001b[49m\u001b[43m(\u001b[49m\u001b[43m)\u001b[49m\u001b[38;5;241;43m.\u001b[39;49m\u001b[43mget_aggregation\u001b[49m\u001b[43m(\u001b[49m\u001b[38;5;28;43mself\u001b[39;49m\u001b[38;5;241;43m.\u001b[39;49m\u001b[43mdb\u001b[49m\u001b[43m,\u001b[49m\u001b[43m \u001b[49m\u001b[43mkwargs\u001b[49m\u001b[43m)\u001b[49m\n",
      "File \u001b[0;32m~/.virtualenvs/homepage/lib/python3.11/site-packages/django/db/models/sql/query.py:402\u001b[0m, in \u001b[0;36mQuery.get_aggregation\u001b[0;34m(self, using, aggregate_exprs)\u001b[0m\n\u001b[1;32m    398\u001b[0m aggregate \u001b[38;5;241m=\u001b[39m aggregate_expr\u001b[38;5;241m.\u001b[39mresolve_expression(\n\u001b[1;32m    399\u001b[0m     \u001b[38;5;28mself\u001b[39m, allow_joins\u001b[38;5;241m=\u001b[39m\u001b[38;5;28;01mTrue\u001b[39;00m, reuse\u001b[38;5;241m=\u001b[39m\u001b[38;5;28;01mNone\u001b[39;00m, summarize\u001b[38;5;241m=\u001b[39m\u001b[38;5;28;01mTrue\u001b[39;00m\n\u001b[1;32m    400\u001b[0m )\n\u001b[1;32m    401\u001b[0m \u001b[38;5;28;01mif\u001b[39;00m \u001b[38;5;129;01mnot\u001b[39;00m aggregate\u001b[38;5;241m.\u001b[39mcontains_aggregate:\n\u001b[0;32m--> 402\u001b[0m     \u001b[38;5;28;01mraise\u001b[39;00m \u001b[38;5;167;01mTypeError\u001b[39;00m(\u001b[38;5;124m\"\u001b[39m\u001b[38;5;132;01m%s\u001b[39;00m\u001b[38;5;124m is not an aggregate expression\u001b[39m\u001b[38;5;124m\"\u001b[39m \u001b[38;5;241m%\u001b[39m alias)\n\u001b[1;32m    403\u001b[0m \u001b[38;5;66;03m# Temporarily add aggregate to annotations to allow remaining\u001b[39;00m\n\u001b[1;32m    404\u001b[0m \u001b[38;5;66;03m# members of `aggregates` to resolve against each others.\u001b[39;00m\n\u001b[1;32m    405\u001b[0m \u001b[38;5;28mself\u001b[39m\u001b[38;5;241m.\u001b[39mappend_annotation_mask([alias])\n",
      "\u001b[0;31mTypeError\u001b[0m: slug is not an aggregate expression"
     ]
    }
   ],
   "source": [
    "PostTag.objects.annotate(num_posts=models.Count(\"content_object\")).aggregate(slug=models.F(\"tag__slug\"))"
   ]
  },
  {
   "cell_type": "code",
   "execution_count": 86,
   "id": "13af93f7-651f-406b-ac17-b3b590a0e9f2",
   "metadata": {
    "tags": []
   },
   "outputs": [
    {
     "name": "stdout",
     "output_type": "stream",
     "text": [
      "SELECT \"cast_posttag\".\"id\", \"cast_posttag\".\"tag_id\", \"cast_posttag\".\"content_object_id\", COUNT(DISTINCT \"cast_posttag\".\"content_object_id\") AS \"num_posts\" FROM \"cast_posttag\" GROUP BY \"cast_posttag\".\"id\"\n",
      "<QuerySet [{'id': 2, 'tag_id': 1, 'content_object_id': 392, 'num_posts': 1}, {'id': 3, 'tag_id': 109, 'content_object_id': 392, 'num_posts': 1}, {'id': 5, 'tag_id': 109, 'content_object_id': 400, 'num_posts': 1}, {'id': 6, 'tag_id': 109, 'content_object_id': 402, 'num_posts': 1}]>\n"
     ]
    }
   ],
   "source": [
    "pt_qs = PostTag.objects.annotate(\n",
    "    num_posts=models.Count(\"content_object\", distinct=True)\n",
    ")\n",
    "print(pt_qs.query)\n",
    "print(pt_qs.values())"
   ]
  },
  {
   "cell_type": "code",
   "execution_count": 71,
   "id": "cd20b66c-1588-4ff4-9261-40e0409a29fb",
   "metadata": {
    "tags": []
   },
   "outputs": [
    {
     "name": "stdout",
     "output_type": "stream",
     "text": [
      "set tag counts:  {'foobar': ('foobar', 3), 'claas': ('claas', 1)}\n",
      "CPU times: user 5.05 ms, sys: 2.16 ms, total: 7.21 ms\n",
      "Wall time: 6.94 ms\n"
     ]
    }
   ],
   "source": [
    "%%time\n",
    "tag_count_queryset = Tag.objects.annotate(\n",
    "    num_posts=Count(\"post\", filter=models.Q(post__in=queryset))\n",
    ").filter(num_posts__gt=0)\n",
    "tag_counts = {}\n",
    "for tag in tag_count_queryset:\n",
    "    tag_counts[tag.slug] = (tag.name, tag.num_posts)  # type: ignore\n",
    "print(\"set tag counts: \", tag_counts)"
   ]
  },
  {
   "cell_type": "code",
   "execution_count": 72,
   "id": "75e9d84c-0741-4dc6-bae2-65bab1ea903f",
   "metadata": {
    "tags": []
   },
   "outputs": [
    {
     "name": "stdout",
     "output_type": "stream",
     "text": [
      "CPU times: user 4.7 ms, sys: 2.14 ms, total: 6.84 ms\n",
      "Wall time: 6.82 ms\n"
     ]
    },
    {
     "data": {
      "text/plain": [
       "{'foobar': ('foobar', 3), 'claas': ('claas', 1)}"
      ]
     },
     "execution_count": 72,
     "metadata": {},
     "output_type": "execute_result"
    }
   ],
   "source": [
    "%%time\n",
    "{slug: (name, num_posts) for slug, name, num_posts in Tag.objects.annotate(\n",
    "    num_posts=Count(\"post\", filter=models.Q(post__in=queryset))\n",
    ").filter(num_posts__gt=0).values_list(\"slug\", \"name\", \"num_posts\")}"
   ]
  },
  {
   "cell_type": "code",
   "execution_count": 16,
   "id": "d4833198-5fc1-46ef-b5cb-4b530bd9ce78",
   "metadata": {
    "tags": []
   },
   "outputs": [],
   "source": [
    "tag = PostTag.objects.first()"
   ]
  },
  {
   "cell_type": "code",
   "execution_count": 30,
   "id": "f7e25cc6-5d53-4736-9ad0-429bdd7287e3",
   "metadata": {
    "tags": []
   },
   "outputs": [
    {
     "data": {
      "text/plain": [
       "<Tag: foobar>"
      ]
     },
     "execution_count": 30,
     "metadata": {},
     "output_type": "execute_result"
    }
   ],
   "source": [
    "tag.tag"
   ]
  },
  {
   "cell_type": "code",
   "execution_count": 21,
   "id": "f69a04be-46b9-4caf-ada9-65203a37076f",
   "metadata": {
    "tags": []
   },
   "outputs": [
    {
     "data": {
      "text/plain": [
       "<PageQuerySet []>"
      ]
     },
     "execution_count": 21,
     "metadata": {},
     "output_type": "execute_result"
    }
   ],
   "source": [
    "blog.unfiltered_published_posts.filter(tags__name__in=[\"foobar\"])"
   ]
  },
  {
   "cell_type": "code",
   "execution_count": 22,
   "id": "c371e59c-635b-4857-8ef7-903499f71f71",
   "metadata": {
    "tags": []
   },
   "outputs": [
    {
     "data": {
      "text/plain": [
       "<PageQuerySet []>"
      ]
     },
     "execution_count": 22,
     "metadata": {},
     "output_type": "execute_result"
    }
   ],
   "source": [
    "blog.unfiltered_published_posts.filter(tags__name=\"foobar\")"
   ]
  },
  {
   "cell_type": "code",
   "execution_count": 23,
   "id": "30f70782-2ac4-4a75-8a12-2650f4d270e3",
   "metadata": {
    "tags": []
   },
   "outputs": [],
   "source": [
    "post = Post.objects.get(pk=392)"
   ]
  },
  {
   "cell_type": "code",
   "execution_count": 32,
   "id": "d4b5fa7c-ab05-4abd-b5d9-58afc23f5c76",
   "metadata": {
    "tags": []
   },
   "outputs": [],
   "source": [
    "tag = post.tags.first()"
   ]
  },
  {
   "cell_type": "code",
   "execution_count": 34,
   "id": "906302fe-ebac-454e-855c-226e47438539",
   "metadata": {
    "tags": []
   },
   "outputs": [
    {
     "data": {
      "text/plain": [
       "<PageQuerySet []>"
      ]
     },
     "execution_count": 34,
     "metadata": {},
     "output_type": "execute_result"
    }
   ],
   "source": [
    "blog.unfiltered_published_posts.filter(tags__in=[tag])"
   ]
  },
  {
   "cell_type": "code",
   "execution_count": 33,
   "id": "b116c6cb-dbeb-4b2c-94b5-34c875395099",
   "metadata": {
    "tags": []
   },
   "outputs": [
    {
     "data": {
      "text/plain": [
       "<Tag: claas>"
      ]
     },
     "execution_count": 33,
     "metadata": {},
     "output_type": "execute_result"
    }
   ],
   "source": [
    "tag"
   ]
  },
  {
   "cell_type": "code",
   "execution_count": 35,
   "id": "13c2b3cc-5de8-444d-9824-4fae7cb01fe9",
   "metadata": {
    "tags": []
   },
   "outputs": [
    {
     "data": {
      "text/plain": [
       "<PageQuerySet [<Post: Weeknotes 2023-07-17>]>"
      ]
     },
     "execution_count": 35,
     "metadata": {},
     "output_type": "execute_result"
    }
   ],
   "source": [
    "Post.objects.filter(tags__in=[tag])"
   ]
  },
  {
   "cell_type": "code",
   "execution_count": 39,
   "id": "d841f494-f86a-42c0-a39c-e15f064cd6d3",
   "metadata": {
    "tags": []
   },
   "outputs": [
    {
     "data": {
      "text/plain": [
       "<PageQuerySet [<Post: Weeknotes 2023-07-17>]>"
      ]
     },
     "execution_count": 39,
     "metadata": {},
     "output_type": "execute_result"
    }
   ],
   "source": [
    "Post.objects.filter(tags__name=\"foobar\")"
   ]
  },
  {
   "cell_type": "code",
   "execution_count": 40,
   "id": "aeceb51e-adcb-4033-b211-694994c9ba42",
   "metadata": {
    "tags": []
   },
   "outputs": [
    {
     "data": {
      "text/plain": [
       "<PageQuerySet []>"
      ]
     },
     "execution_count": 40,
     "metadata": {},
     "output_type": "execute_result"
    }
   ],
   "source": [
    "blog.unfiltered_published_posts.filter(tags__name=\"foobar\")"
   ]
  },
  {
   "cell_type": "code",
   "execution_count": 37,
   "id": "153c31e3-9c78-4901-92e1-284ecd40afc2",
   "metadata": {
    "tags": []
   },
   "outputs": [
    {
     "data": {
      "text/plain": [
       "<PageQuerySet [<Post: Zu ersten Mal etwas Möhrenbrei>, <Post: Zu Besuch bei den Grosseltern>, <Post: Tapas mit Heike und Chrissie>, <Post: Martin und Marcus kommen zu Besuch>, <Post: Kaffeetrinken in der Spoerl-Fabrik>, <Post: In alten Möbeln>, <Post: Die U5 ist überstanden>, <Post: Spieldecke>, <Post: Schnullerversuch>, <Post: Ein Wochenende in Abentheuer>, <Post: Sofagebrabbel>, <Post: Claas zieht sich zum ersten Mal am Sofa hoch>, <Post: Zum ersten Mal Draussen>, <Post: Kinderwagen ist ok>, <Post: Erste Stehversuche>, <Post: Kurzbesuch bei Uroma Thea>, <Post: Zu Besuch in Meersen bei Onkel Jo>, <Post: Weihnachten 2017>, <Post: Mit Katharina bei Sulis>, <Post: Claas hält sich zum ersten Mal alleine am Tisch fest>, '...(remaining elements truncated)...']>"
      ]
     },
     "execution_count": 37,
     "metadata": {},
     "output_type": "execute_result"
    }
   ],
   "source": [
    "Post.objects.all()"
   ]
  },
  {
   "cell_type": "code",
   "execution_count": 42,
   "id": "6a355960-905c-4aba-9244-1e4723547781",
   "metadata": {
    "tags": []
   },
   "outputs": [
    {
     "data": {
      "text/plain": [
       "<PageQuerySet [<Post: Weeknotes 2023-07-17>]>"
      ]
     },
     "execution_count": 42,
     "metadata": {},
     "output_type": "execute_result"
    }
   ],
   "source": [
    "Post.objects.live().filter(tags__name=\"foobar\")"
   ]
  },
  {
   "cell_type": "code",
   "execution_count": 43,
   "id": "86eb1135-c148-476d-b511-b250d145fee4",
   "metadata": {
    "tags": []
   },
   "outputs": [
    {
     "data": {
      "text/plain": [
       "<Blog: Claas und Nora sagen Hallo>"
      ]
     },
     "execution_count": 43,
     "metadata": {},
     "output_type": "execute_result"
    }
   ],
   "source": [
    "blog"
   ]
  },
  {
   "cell_type": "code",
   "execution_count": 44,
   "id": "e7ec0159-bc88-4ba9-af89-85c4e3e8789c",
   "metadata": {
    "tags": []
   },
   "outputs": [
    {
     "data": {
      "text/plain": [
       "<QuerySet [<PostTag: Weeknotes 2023-07-17 tagged with claas>, <PostTag: Weeknotes 2023-07-17 tagged with foobar>]>"
      ]
     },
     "execution_count": 44,
     "metadata": {},
     "output_type": "execute_result"
    }
   ],
   "source": [
    "PostTag.objects.all()"
   ]
  },
  {
   "cell_type": "code",
   "execution_count": 46,
   "id": "fe040e29-01d2-4904-b317-d41f0fa9063a",
   "metadata": {
    "tags": []
   },
   "outputs": [],
   "source": [
    "tag = PostTag.objects.first()"
   ]
  },
  {
   "cell_type": "code",
   "execution_count": 49,
   "id": "e408c193-a493-4c1a-9823-0db1f02dad86",
   "metadata": {
    "tags": []
   },
   "outputs": [
    {
     "ename": "AttributeError",
     "evalue": "'PostTag' object has no attribute 'tagged_items'",
     "output_type": "error",
     "traceback": [
      "\u001b[0;31m---------------------------------------------------------------------------\u001b[0m",
      "\u001b[0;31mAttributeError\u001b[0m                            Traceback (most recent call last)",
      "Cell \u001b[0;32mIn[49], line 1\u001b[0m\n\u001b[0;32m----> 1\u001b[0m \u001b[43mtag\u001b[49m\u001b[38;5;241;43m.\u001b[39;49m\u001b[43mtagged_items\u001b[49m()\n",
      "\u001b[0;31mAttributeError\u001b[0m: 'PostTag' object has no attribute 'tagged_items'"
     ]
    }
   ],
   "source": [
    "tag.tagged_items()"
   ]
  },
  {
   "cell_type": "code",
   "execution_count": null,
   "id": "cf231ae1-ecce-49cf-b7ea-5c48316fa378",
   "metadata": {},
   "outputs": [],
   "source": []
  },
  {
   "cell_type": "code",
   "execution_count": 9,
   "id": "18218446-92dc-433c-a998-a6e9386de9d6",
   "metadata": {
    "tags": []
   },
   "outputs": [],
   "source": [
    "tag_count_queryset = PostTag.objects.annotate(\n",
    "    num_posts=models.Count(\n",
    "        \"content_object\",\n",
    "        filter=models.Q(content_object__in=blog.unfiltered_published_posts)\n",
    "    )\n",
    ")"
   ]
  },
  {
   "cell_type": "code",
   "execution_count": 10,
   "id": "690b9052-b30b-4b83-8789-f678d5b34e66",
   "metadata": {
    "tags": []
   },
   "outputs": [
    {
     "data": {
      "text/plain": [
       "<QuerySet [<PostTag: Weeknotes 2023-07-17 tagged with claas>, <PostTag: Weeknotes 2023-07-17 tagged with foobar>]>"
      ]
     },
     "execution_count": 10,
     "metadata": {},
     "output_type": "execute_result"
    }
   ],
   "source": [
    "tag_count_queryset"
   ]
  },
  {
   "cell_type": "code",
   "execution_count": 12,
   "id": "ff8d2bda-ed0d-41c9-816b-9c0d8deaa6dd",
   "metadata": {
    "tags": []
   },
   "outputs": [],
   "source": [
    "tag_counts = {}\n",
    "for tag in tag_count_queryset:\n",
    "    tag_counts[tag.tag.name] = tag.num_posts  # type: ignore"
   ]
  },
  {
   "cell_type": "code",
   "execution_count": 13,
   "id": "8e09ff59-ce3c-44c8-9e04-89f8304d2032",
   "metadata": {
    "tags": []
   },
   "outputs": [
    {
     "data": {
      "text/plain": [
       "{'claas': 1, 'foobar': 1}"
      ]
     },
     "execution_count": 13,
     "metadata": {},
     "output_type": "execute_result"
    }
   ],
   "source": [
    "tag_counts"
   ]
  },
  {
   "cell_type": "code",
   "execution_count": 14,
   "id": "662dba69-263f-4e1d-835c-dca3a881f768",
   "metadata": {
    "tags": []
   },
   "outputs": [
    {
     "data": {
      "text/plain": [
       "{'claas', 'foobar'}"
      ]
     },
     "execution_count": 14,
     "metadata": {},
     "output_type": "execute_result"
    }
   ],
   "source": [
    "set(PostTag.objects.values_list(\"tag__name\", flat=True))"
   ]
  },
  {
   "cell_type": "code",
   "execution_count": 6,
   "id": "a89098b1-1986-40be-973f-1430edfc768f",
   "metadata": {
    "tags": []
   },
   "outputs": [],
   "source": [
    "post_tag = PostTag.objects.first()"
   ]
  },
  {
   "cell_type": "code",
   "execution_count": 8,
   "id": "5c3ba9fe-dfa1-42d0-a021-d4dee05d916a",
   "metadata": {
    "tags": []
   },
   "outputs": [
    {
     "data": {
      "text/plain": [
       "'claas'"
      ]
     },
     "execution_count": 8,
     "metadata": {},
     "output_type": "execute_result"
    }
   ],
   "source": [
    "post_tag.tag.slug"
   ]
  },
  {
   "cell_type": "code",
   "execution_count": 3,
   "id": "8d95128a-2923-443c-adec-7f76b0c60db0",
   "metadata": {},
   "outputs": [
    {
     "data": {
      "text/plain": [
       "{'fotos', 'til', 'video', 'weeknotes'}"
      ]
     },
     "execution_count": 3,
     "metadata": {},
     "output_type": "execute_result"
    }
   ],
   "source": [
    "set(PostCategory.objects.values_list(\"slug\", flat=True))"
   ]
  },
  {
   "cell_type": "markdown",
   "id": "2e20bf4f-1863-4787-9d12-6b04b0548a2a",
   "metadata": {},
   "source": [
    "# Facet Counts are wrong (categories instead of tags)"
   ]
  },
  {
   "cell_type": "code",
   "execution_count": 1,
   "id": "dbaf6c22-840d-4143-ba75-56256164bba6",
   "metadata": {
    "tags": []
   },
   "outputs": [],
   "source": [
    "from django.db import models\n",
    "from cast.filters import PostFilterset"
   ]
  },
  {
   "cell_type": "code",
   "execution_count": 2,
   "id": "5d6d8fe8-8ed1-4187-8b0f-8525136e24bb",
   "metadata": {
    "tags": []
   },
   "outputs": [],
   "source": [
    "blog = Blog.objects.get(slug=\"ephes_blog\")\n",
    "queryset = blog.unfiltered_published_posts"
   ]
  },
  {
   "cell_type": "code",
   "execution_count": 3,
   "id": "9ec4d20a-f8df-40e6-a232-c1cd9434933d",
   "metadata": {
    "tags": []
   },
   "outputs": [
    {
     "name": "stdout",
     "output_type": "stream",
     "text": [
      "facet count choices:  []\n",
      "has facets with posts in field:  False\n",
      "facet count choices:  []\n",
      "has facets with posts in field:  False\n",
      "facet count choices:  [('fotos', 'Fotos (1)'), ('til', 'Today I Learned (1)'), ('weeknotes', 'WeekNotes (2)')]\n",
      "has facets with posts in field:  True\n",
      "set tag counts:  {'claas': ('claas', 1), 'foobar': ('foobar', 1)}\n",
      "facet count choices:  [('claas', 'claas (1)'), ('foobar', 'foobar (1)')]\n",
      "has facets with posts in field:  True\n",
      "facet counts:  {'claas': ('claas', 1), 'foobar': ('foobar', 1)}\n"
     ]
    }
   ],
   "source": [
    "filterset = PostFilterset({}, queryset, fetch_facet_counts=True)"
   ]
  },
  {
   "cell_type": "code",
   "execution_count": 4,
   "id": "af51b477-0b9a-4d42-b4d3-5b5179b8922e",
   "metadata": {
    "tags": []
   },
   "outputs": [
    {
     "data": {
      "text/plain": [
       "{'claas': ('claas', 1), 'foobar': ('foobar', 1)}"
      ]
     },
     "execution_count": 4,
     "metadata": {},
     "output_type": "execute_result"
    }
   ],
   "source": [
    "filterset.filters[\"tag_facets\"].facet_counts"
   ]
  },
  {
   "cell_type": "code",
   "execution_count": 5,
   "id": "9e9bdc14-f410-4cbb-809d-b5595536ae03",
   "metadata": {
    "tags": []
   },
   "outputs": [],
   "source": [
    "tags_field = filterset.form.fields[\"tag_facets\"]"
   ]
  },
  {
   "cell_type": "code",
   "execution_count": 6,
   "id": "5960a46c-c95a-4915-b4c8-399ae1c839f3",
   "metadata": {
    "tags": []
   },
   "outputs": [
    {
     "data": {
      "text/plain": [
       "[('', '---------'), ('claas', 'claas (1)'), ('foobar', 'foobar (1)')]"
      ]
     },
     "execution_count": 6,
     "metadata": {},
     "output_type": "execute_result"
    }
   ],
   "source": [
    "list(tags_field.choices)"
   ]
  },
  {
   "cell_type": "code",
   "execution_count": 7,
   "id": "ffad287a-2802-41d2-86a2-b37758035225",
   "metadata": {
    "tags": []
   },
   "outputs": [],
   "source": [
    "categories_field = filterset.form.fields[\"category_facets\"]"
   ]
  },
  {
   "cell_type": "code",
   "execution_count": 8,
   "id": "427aa968-8654-4522-9a91-6ee709e4eff9",
   "metadata": {
    "tags": []
   },
   "outputs": [
    {
     "data": {
      "text/plain": [
       "[('', '---------'),\n",
       " ('fotos', 'Fotos (1)'),\n",
       " ('til', 'Today I Learned (1)'),\n",
       " ('weeknotes', 'WeekNotes (2)')]"
      ]
     },
     "execution_count": 8,
     "metadata": {},
     "output_type": "execute_result"
    }
   ],
   "source": [
    "list(categories_field.choices)"
   ]
  },
  {
   "cell_type": "code",
   "execution_count": 9,
   "id": "a64e2309-7900-4930-901c-919d478a6ee8",
   "metadata": {
    "tags": []
   },
   "outputs": [
    {
     "data": {
      "text/plain": [
       "['search', 'date', 'date_facets', 'category_facets', 'tag_facets']"
      ]
     },
     "execution_count": 9,
     "metadata": {},
     "output_type": "execute_result"
    }
   ],
   "source": [
    "filterset._meta.fields"
   ]
  },
  {
   "cell_type": "code",
   "execution_count": 10,
   "id": "87c00a8f-da41-4486-93fe-0141ec4b58ab",
   "metadata": {
    "tags": []
   },
   "outputs": [
    {
     "data": {
      "text/plain": [
       "OrderedDict([('search', <django_filters.filters.CharFilter at 0x10e1c7250>),\n",
       "             ('date',\n",
       "              <django_filters.filters.DateFromToRangeFilter at 0x10e1ba1d0>),\n",
       "             ('category_facets',\n",
       "              <cast.filters.CategoryFacetFilter at 0x107d02c10>),\n",
       "             ('tag_facets', <cast.filters.TagFacetFilter at 0x10de6b350>),\n",
       "             ('date_facets', <cast.filters.DateFacetFilter at 0x10e1b0cd0>)])"
      ]
     },
     "execution_count": 10,
     "metadata": {},
     "output_type": "execute_result"
    }
   ],
   "source": [
    "filterset.filters"
   ]
  },
  {
   "cell_type": "code",
   "execution_count": 18,
   "id": "c175d9b6-6084-4995-a443-6473201e4119",
   "metadata": {},
   "outputs": [
    {
     "data": {
      "text/plain": [
       "<PostFiltersetForm bound=True, valid=True, fields=(search;date;category_facets;tag_facets;date_facets)>"
      ]
     },
     "execution_count": 18,
     "metadata": {},
     "output_type": "execute_result"
    }
   ],
   "source": [
    "filterset._form"
   ]
  },
  {
   "cell_type": "code",
   "execution_count": 9,
   "id": "2bbb923e-860e-4098-9ef6-6ac115a1ae27",
   "metadata": {
    "tags": []
   },
   "outputs": [
    {
     "data": {
      "text/plain": [
       "[('', '---------'), ('claas', 'claas (1)'), ('foobar', 'foobar (1)')]"
      ]
     },
     "execution_count": 9,
     "metadata": {},
     "output_type": "execute_result"
    }
   ],
   "source": [
    "form = filterset.form\n",
    "list(form.fields[\"tag_facets\"].choices)"
   ]
  },
  {
   "cell_type": "code",
   "execution_count": 10,
   "id": "31bad76b-0ccb-4e65-92d2-4105d2f64bcc",
   "metadata": {
    "tags": []
   },
   "outputs": [
    {
     "data": {
      "text/plain": [
       "<django.forms.boundfield.BoundField at 0x10c83a6d0>"
      ]
     },
     "execution_count": 10,
     "metadata": {},
     "output_type": "execute_result"
    }
   ],
   "source": [
    "form[\"tag_facets\"]"
   ]
  },
  {
   "cell_type": "code",
   "execution_count": 50,
   "id": "bb99b154-613e-4286-865d-c948c1ccf6e5",
   "metadata": {
    "tags": []
   },
   "outputs": [],
   "source": [
    "bound = dict(form._bound_items())\n",
    "tag_bound = bound[\"tag_facets\"]"
   ]
  },
  {
   "cell_type": "code",
   "execution_count": 58,
   "id": "81a6ea11-4efa-4b4c-9b4f-53aa4c869c97",
   "metadata": {
    "tags": []
   },
   "outputs": [
    {
     "data": {
      "text/plain": [
       "<cast.filters.SlugChoicesField at 0x1192e2b10>"
      ]
     },
     "execution_count": 58,
     "metadata": {},
     "output_type": "execute_result"
    }
   ],
   "source": [
    "tag_bound.field"
   ]
  },
  {
   "cell_type": "code",
   "execution_count": 61,
   "id": "d0554f35-eab6-4b1f-bd4e-cffde53bbf3c",
   "metadata": {
    "tags": []
   },
   "outputs": [
    {
     "data": {
      "text/plain": [
       "['__bool__',\n",
       " '__class__',\n",
       " '__delattr__',\n",
       " '__dict__',\n",
       " '__dir__',\n",
       " '__doc__',\n",
       " '__eq__',\n",
       " '__format__',\n",
       " '__ge__',\n",
       " '__getattribute__',\n",
       " '__getitem__',\n",
       " '__getstate__',\n",
       " '__gt__',\n",
       " '__hash__',\n",
       " '__html__',\n",
       " '__init__',\n",
       " '__init_subclass__',\n",
       " '__iter__',\n",
       " '__le__',\n",
       " '__len__',\n",
       " '__lt__',\n",
       " '__module__',\n",
       " '__ne__',\n",
       " '__new__',\n",
       " '__reduce__',\n",
       " '__reduce_ex__',\n",
       " '__repr__',\n",
       " '__setattr__',\n",
       " '__sizeof__',\n",
       " '__str__',\n",
       " '__subclasshook__',\n",
       " '__weakref__',\n",
       " '_has_changed',\n",
       " 'as_hidden',\n",
       " 'as_text',\n",
       " 'as_textarea',\n",
       " 'as_widget',\n",
       " 'auto_id',\n",
       " 'build_widget_attrs',\n",
       " 'css_classes',\n",
       " 'data',\n",
       " 'errors',\n",
       " 'field',\n",
       " 'form',\n",
       " 'help_text',\n",
       " 'html_initial_id',\n",
       " 'html_initial_name',\n",
       " 'html_name',\n",
       " 'id_for_label',\n",
       " 'initial',\n",
       " 'is_hidden',\n",
       " 'label',\n",
       " 'label_tag',\n",
       " 'legend_tag',\n",
       " 'name',\n",
       " 'subwidgets',\n",
       " 'use_fieldset',\n",
       " 'value',\n",
       " 'widget_type']"
      ]
     },
     "execution_count": 61,
     "metadata": {},
     "output_type": "execute_result"
    }
   ],
   "source": [
    "dir(tag_bound)"
   ]
  },
  {
   "cell_type": "code",
   "execution_count": 69,
   "id": "721662a4-83e2-44bd-bef6-ce4ec3220c26",
   "metadata": {
    "tags": []
   },
   "outputs": [],
   "source": [
    "tag_bound.initial"
   ]
  },
  {
   "cell_type": "code",
   "execution_count": 52,
   "id": "128eaf5b-186d-467b-97cd-d1ccf9dacbef",
   "metadata": {
    "tags": []
   },
   "outputs": [
    {
     "data": {
      "text/plain": [
       "'<div class=\"cast-date-facet-container\" id=\"id_tag_facets\">\\n<div class=\"cast-date-facet-item\"><a class=\"selected\" href=\"?tag_facets=\">All</a><input type=\"hidden\" name=\"tag_facets\" value=\"\"></div>\\n</div>'"
      ]
     },
     "execution_count": 52,
     "metadata": {},
     "output_type": "execute_result"
    }
   ],
   "source": [
    "str(tag_bound)"
   ]
  },
  {
   "cell_type": "code",
   "execution_count": 39,
   "id": "71ffb287-ab67-4824-81ba-c238bc06688a",
   "metadata": {
    "tags": []
   },
   "outputs": [
    {
     "name": "stdout",
     "output_type": "stream",
     "text": [
      "<input type=\"text\" name=\"search\" id=\"id_search\">\n",
      "<input type=\"date\" name=\"date_after\" placeholder=\"YYYY/MM/DD\" id=\"id_date_0\">\n",
      "\n",
      "-<input type=\"date\" name=\"date_before\" placeholder=\"YYYY/MM/DD\" id=\"id_date_1\">\n",
      "<div class=\"cast-date-facet-container\" id=\"id_category_facets\">\n",
      "<div class=\"cast-date-facet-item\"><a class=\"selected\" href=\"?category_facets=\">All</a><input type=\"hidden\" name=\"category_facets\" value=\"\"></div>\n",
      "</div>\n",
      "<div class=\"cast-date-facet-container\" id=\"id_tag_facets\">\n",
      "<div class=\"cast-date-facet-item\"><a class=\"selected\" href=\"?tag_facets=\">All</a><input type=\"hidden\" name=\"tag_facets\" value=\"\"></div>\n",
      "</div>\n",
      "<div class=\"cast-date-facet-container\" id=\"id_date_facets\">\n",
      "<div class=\"cast-date-facet-item\"><a class=\"selected\" href=\"?date_facets=\">All</a><input type=\"hidden\" name=\"date_facets\" value=\"\"></div>\n",
      "</div>\n"
     ]
    }
   ],
   "source": [
    "for field, _ in form.get_context()[\"fields\"]:\n",
    "    print(field)"
   ]
  },
  {
   "cell_type": "code",
   "execution_count": 24,
   "id": "a2002af5-238c-4475-9bd3-c74e299ad9aa",
   "metadata": {
    "tags": []
   },
   "outputs": [
    {
     "name": "stderr",
     "output_type": "stream",
     "text": [
      "/var/folders/35/mhty_0hd42ddfvyk3_09f1hc0000gn/T/ipykernel_91043/307509643.py:1: RemovedInDjango50Warning: The \"default.html\" templates for forms and formsets will be removed. These were proxies to the equivalent \"table.html\" templates, but the new \"div.html\" templates will be the default from Django 5.0. Transitional renderers are provided to allow you to opt-in to the new output style now. See https://docs.djangoproject.com/en/4.2/releases/4.1/ for more details\n",
      "  form.render()\n"
     ]
    },
    {
     "data": {
      "text/plain": [
       "'<tr>\\n    <th><label for=\"id_search\">Search:</label></th>\\n    <td>\\n      \\n      <input type=\"text\" name=\"search\" id=\"id_search\">\\n      \\n      \\n    </td>\\n  </tr>\\n\\n  <tr>\\n    <th><label>Date:</label></th>\\n    <td>\\n      \\n      <input type=\"date\" name=\"date_after\" placeholder=\"YYYY/MM/DD\" id=\"id_date_0\">\\n\\n-<input type=\"date\" name=\"date_before\" placeholder=\"YYYY/MM/DD\" id=\"id_date_1\">\\n      \\n      \\n    </td>\\n  </tr>\\n\\n  <tr>\\n    <th><label for=\"id_category_facets\">Categories:</label></th>\\n    <td>\\n      \\n      <div class=\"cast-date-facet-container\" id=\"id_category_facets\">\\n<div class=\"cast-date-facet-item\"><a class=\"selected\" href=\"?category_facets=\">All</a><input type=\"hidden\" name=\"category_facets\" value=\"\"></div>\\n</div>\\n      \\n      \\n    </td>\\n  </tr>\\n\\n  <tr>\\n    <th><label for=\"id_tag_facets\">Tags:</label></th>\\n    <td>\\n      \\n      <div class=\"cast-date-facet-container\" id=\"id_tag_facets\">\\n<div class=\"cast-date-facet-item\"><a class=\"selected\" href=\"?tag_facets=\">All</a><input type=\"hidden\" name=\"tag_facets\" value=\"\"></div>\\n</div>\\n      \\n      \\n    </td>\\n  </tr>\\n\\n  <tr>\\n    <th><label for=\"id_date_facets\">Date Facets:</label></th>\\n    <td>\\n      \\n      <div class=\"cast-date-facet-container\" id=\"id_date_facets\">\\n<div class=\"cast-date-facet-item\"><a class=\"selected\" href=\"?date_facets=\">All</a><input type=\"hidden\" name=\"date_facets\" value=\"\"></div>\\n</div>\\n      \\n      \\n        \\n      \\n    </td>\\n  </tr>'"
      ]
     },
     "execution_count": 24,
     "metadata": {},
     "output_type": "execute_result"
    }
   ],
   "source": [
    "form.render()"
   ]
  },
  {
   "cell_type": "code",
   "execution_count": 13,
   "id": "547c60ef-0b4a-419e-a1dd-a0218c6730ee",
   "metadata": {
    "tags": []
   },
   "outputs": [
    {
     "name": "stdout",
     "output_type": "stream",
     "text": [
      "facet count choices:  [('fotos', 'Fotos (1)'), ('til', 'Today I Learned (1)'), ('weeknotes', 'WeekNotes (2)')]\n",
      "has facets with posts in field:  True\n",
      "facet count choices:  [('claas', 'claas (1)'), ('foobar', 'foobar (1)')]\n",
      "has facets with posts in field:  True\n"
     ]
    }
   ],
   "source": [
    "Form = filterset.get_form_class()"
   ]
  },
  {
   "cell_type": "code",
   "execution_count": 14,
   "id": "7dda4c68-cfb2-4477-90d9-bb2c6f8e7bf6",
   "metadata": {
    "tags": []
   },
   "outputs": [],
   "source": [
    "form = Form({})"
   ]
  },
  {
   "cell_type": "code",
   "execution_count": 15,
   "id": "a00cfd19-040e-49f5-be0b-5f66d2d8999a",
   "metadata": {
    "tags": []
   },
   "outputs": [
    {
     "data": {
      "text/plain": [
       "[('', '---------'), ('claas', 'claas (1)'), ('foobar', 'foobar (1)')]"
      ]
     },
     "execution_count": 15,
     "metadata": {},
     "output_type": "execute_result"
    }
   ],
   "source": [
    "list(form.fields[\"tag_facets\"].choices)"
   ]
  },
  {
   "cell_type": "code",
   "execution_count": 16,
   "id": "15c20eba-cf69-4ce3-b94b-e253ba357b78",
   "metadata": {
    "tags": []
   },
   "outputs": [
    {
     "data": {
      "text/plain": [
       "<cast.filters.AllDateChoicesField at 0x10e1bd850>"
      ]
     },
     "execution_count": 16,
     "metadata": {},
     "output_type": "execute_result"
    }
   ],
   "source": [
    "form.fields[\"date_facets\"]"
   ]
  },
  {
   "cell_type": "code",
   "execution_count": 17,
   "id": "bbdc14cb-66a8-405d-90d5-44848d1ee4e8",
   "metadata": {
    "tags": []
   },
   "outputs": [
    {
     "data": {
      "text/plain": [
       "<cast.filters.SlugChoicesField at 0x10e1bad90>"
      ]
     },
     "execution_count": 17,
     "metadata": {},
     "output_type": "execute_result"
    }
   ],
   "source": [
    "form.fields[\"tag_facets\"]"
   ]
  },
  {
   "cell_type": "code",
   "execution_count": 9,
   "id": "8d6059cc-7034-4327-bbf6-99e9c426cb23",
   "metadata": {
    "tags": []
   },
   "outputs": [
    {
     "ename": "NameError",
     "evalue": "name 'form' is not defined",
     "output_type": "error",
     "traceback": [
      "\u001b[0;31m---------------------------------------------------------------------------\u001b[0m",
      "\u001b[0;31mNameError\u001b[0m                                 Traceback (most recent call last)",
      "Cell \u001b[0;32mIn[9], line 1\u001b[0m\n\u001b[0;32m----> 1\u001b[0m \u001b[38;5;28mdir\u001b[39m(\u001b[43mform\u001b[49m)\n",
      "\u001b[0;31mNameError\u001b[0m: name 'form' is not defined"
     ]
    }
   ],
   "source": [
    "dir(form)"
   ]
  },
  {
   "cell_type": "code",
   "execution_count": null,
   "id": "87d7e7a2-39d1-4379-80c6-ad6c02b3fd70",
   "metadata": {},
   "outputs": [],
   "source": []
  }
 ],
 "metadata": {
  "kernelspec": {
   "display_name": "Django Kernel",
   "language": "python",
   "name": "django_extensions"
  },
  "language_info": {
   "codemirror_mode": {
    "name": "ipython",
    "version": 3
   },
   "file_extension": ".py",
   "mimetype": "text/x-python",
   "name": "python",
   "nbconvert_exporter": "python",
   "pygments_lexer": "ipython3",
   "version": "3.11.5"
  }
 },
 "nbformat": 4,
 "nbformat_minor": 5
}
