{
 "cells": [
  {
   "cell_type": "code",
   "execution_count": 1,
   "id": "061bf0d7-3dce-4e8c-97e9-21e1c4697a80",
   "metadata": {
    "tags": []
   },
   "outputs": [],
   "source": [
    "from django.http import QueryDict\n",
    "\n",
    "from cast.filters import PostFilterset"
   ]
  },
  {
   "cell_type": "code",
   "execution_count": 2,
   "id": "18488587-44de-4851-be90-25be59ba5b86",
   "metadata": {
    "tags": []
   },
   "outputs": [],
   "source": [
    "blog = Blog.objects.get(slug=\"ephes_blog\")"
   ]
  },
  {
   "cell_type": "code",
   "execution_count": 3,
   "id": "8dda8d4a-c9c5-47a2-9712-bb44416de397",
   "metadata": {
    "tags": []
   },
   "outputs": [],
   "source": [
    "qs = blog.unfiltered_published_posts"
   ]
  },
  {
   "cell_type": "code",
   "execution_count": 4,
   "id": "f43c7871-6951-4a38-9f7a-ab4d0fc6166e",
   "metadata": {
    "tags": []
   },
   "outputs": [],
   "source": [
    "# data = {\"tag_facets\": [\"TIL\"], \"category_facets\": [\"TIL\"]}\n",
    "data = {}\n",
    "fs = PostFilterset(data, qs)"
   ]
  },
  {
   "cell_type": "code",
   "execution_count": 5,
   "id": "c533397b-6969-4f6c-9a0d-20a6517701f8",
   "metadata": {
    "tags": []
   },
   "outputs": [
    {
     "data": {
      "text/plain": [
       "149"
      ]
     },
     "execution_count": 5,
     "metadata": {},
     "output_type": "execute_result"
    }
   ],
   "source": [
    "fs.qs.count()"
   ]
  },
  {
   "cell_type": "code",
   "execution_count": 6,
   "id": "b3fbb9b8-57e0-40a1-8d3f-1e9636c8b95e",
   "metadata": {
    "tags": []
   },
   "outputs": [
    {
     "data": {
      "text/plain": [
       "{'weeknotes': ('WeekNotes', 1),\n",
       " 'rust': ('rust', 1),\n",
       " 'django': ('django', 1),\n",
       " 'images': ('images', 1),\n",
       " 'TIL': ('Today I Learned', 1),\n",
       " 'freelancing': ('freelancing', 1)}"
      ]
     },
     "execution_count": 6,
     "metadata": {},
     "output_type": "execute_result"
    }
   ],
   "source": [
    "fs.filters[\"tag_facets\"].facet_counts"
   ]
  },
  {
   "cell_type": "code",
   "execution_count": 9,
   "id": "5312b56a-fc7f-4e0b-8074-d17f73cc6025",
   "metadata": {
    "tags": []
   },
   "outputs": [],
   "source": [
    "querydict = QueryDict(\"tag_facets=TIL\")\n",
    "fs = PostFilterset(querydict, qs)"
   ]
  },
  {
   "cell_type": "code",
   "execution_count": 10,
   "id": "36057de0-30fe-4ea0-b1db-704ba3f76d2d",
   "metadata": {
    "tags": []
   },
   "outputs": [
    {
     "data": {
      "text/plain": [
       "1"
      ]
     },
     "execution_count": 10,
     "metadata": {},
     "output_type": "execute_result"
    }
   ],
   "source": [
    "fs.qs.count()"
   ]
  },
  {
   "cell_type": "code",
   "execution_count": 30,
   "id": "a0734b91-1bd5-47eb-aed6-67300e9599b0",
   "metadata": {
    "tags": []
   },
   "outputs": [],
   "source": [
    "post = Post.objects.last()"
   ]
  },
  {
   "cell_type": "code",
   "execution_count": 31,
   "id": "68e2a7d2-294a-43cd-a272-f01da1f50818",
   "metadata": {
    "tags": []
   },
   "outputs": [
    {
     "data": {
      "text/plain": [
       "<Post: How to Pass a Request Object from Wagtail API to a Page>"
      ]
     },
     "execution_count": 31,
     "metadata": {},
     "output_type": "execute_result"
    }
   ],
   "source": [
    "post"
   ]
  },
  {
   "cell_type": "code",
   "execution_count": 32,
   "id": "7ef25244-4aca-4714-b56b-4ca873a95d4c",
   "metadata": {
    "tags": []
   },
   "outputs": [],
   "source": [
    "[tag] = post.tags.all()"
   ]
  },
  {
   "cell_type": "code",
   "execution_count": 33,
   "id": "fdb18486-5974-45a0-8734-e3a19e57b565",
   "metadata": {
    "tags": []
   },
   "outputs": [
    {
     "data": {
      "text/plain": [
       "'TIL'"
      ]
     },
     "execution_count": 33,
     "metadata": {},
     "output_type": "execute_result"
    }
   ],
   "source": [
    "tag.slug"
   ]
  },
  {
   "cell_type": "code",
   "execution_count": null,
   "id": "7e466162-265d-4147-ad6b-e161ce3c13aa",
   "metadata": {},
   "outputs": [],
   "source": []
  }
 ],
 "metadata": {
  "kernelspec": {
   "display_name": "Django Kernel",
   "language": "python",
   "name": "django_extensions"
  },
  "language_info": {
   "codemirror_mode": {
    "name": "ipython",
    "version": 3
   },
   "file_extension": ".py",
   "mimetype": "text/x-python",
   "name": "python",
   "nbconvert_exporter": "python",
   "pygments_lexer": "ipython3",
   "version": "3.11.5"
  }
 },
 "nbformat": 4,
 "nbformat_minor": 5
}
