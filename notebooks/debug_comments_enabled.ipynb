{
 "cells": [
  {
   "cell_type": "code",
   "execution_count": 1,
   "id": "d8b2b744-de5b-464b-b902-3baa05a28c60",
   "metadata": {
    "tags": []
   },
   "outputs": [],
   "source": [
    "post = Post.objects.get(pk=379)"
   ]
  },
  {
   "cell_type": "code",
   "execution_count": 2,
   "id": "8e1c6c24-3c6f-4479-a362-2b046a896e1e",
   "metadata": {
    "tags": []
   },
   "outputs": [
    {
     "data": {
      "text/plain": [
       "<Post: Ein ganz normaler Donnerstag>"
      ]
     },
     "execution_count": 2,
     "metadata": {},
     "output_type": "execute_result"
    }
   ],
   "source": [
    "post"
   ]
  },
  {
   "cell_type": "code",
   "execution_count": 4,
   "id": "eb716987-86a3-4968-9e6b-869d7f4176c8",
   "metadata": {
    "tags": []
   },
   "outputs": [],
   "source": [
    "post.comments_enabled = False"
   ]
  },
  {
   "cell_type": "code",
   "execution_count": 5,
   "id": "9d6b0184-266f-49eb-a889-4b0e247f8668",
   "metadata": {
    "tags": []
   },
   "outputs": [],
   "source": [
    "post.save()"
   ]
  },
  {
   "cell_type": "code",
   "execution_count": null,
   "id": "3518eec8-fb1c-4ae9-8b02-84ee3354cf84",
   "metadata": {},
   "outputs": [],
   "source": []
  }
 ],
 "metadata": {
  "kernelspec": {
   "display_name": "Django Kernel",
   "language": "python",
   "name": "django_extensions"
  },
  "language_info": {
   "codemirror_mode": {
    "name": "ipython",
    "version": 3
   },
   "file_extension": ".py",
   "mimetype": "text/x-python",
   "name": "python",
   "nbconvert_exporter": "python",
   "pygments_lexer": "ipython3",
   "version": "3.11.3"
  }
 },
 "nbformat": 4,
 "nbformat_minor": 5
}
