{
 "cells": [
  {
   "cell_type": "code",
   "execution_count": null,
   "id": "d0205861-b15c-4f2c-98d6-29e91a8fda3c",
   "metadata": {
    "tags": []
   },
   "outputs": [],
   "source": [
    "from django.core.files.storage import storages"
   ]
  },
  {
   "cell_type": "code",
   "execution_count": null,
   "id": "b072e7ce-dc30-436b-a59e-13d567ac0b7f",
   "metadata": {
    "tags": []
   },
   "outputs": [],
   "source": [
    "storages[\"s3\"]"
   ]
  },
  {
   "cell_type": "code",
   "execution_count": null,
   "id": "b73abcb5-bb11-42dc-beda-94d2b426825f",
   "metadata": {},
   "outputs": [],
   "source": []
  }
 ],
 "metadata": {
  "kernelspec": {
   "display_name": "Django Kernel",
   "language": "python",
   "name": "django_extensions"
  },
  "language_info": {
   "codemirror_mode": {
    "name": "ipython",
    "version": 3
   },
   "file_extension": ".py",
   "mimetype": "text/x-python",
   "name": "python",
   "nbconvert_exporter": "python",
   "pygments_lexer": "ipython3",
   "version": "3.11.4"
  }
 },
 "nbformat": 4,
 "nbformat_minor": 5
}
