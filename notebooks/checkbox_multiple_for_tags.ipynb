{
 "cells": [
  {
   "cell_type": "code",
   "execution_count": 11,
   "id": "524d6060-04ad-42bf-a9ee-17cca8721fec",
   "metadata": {
    "tags": []
   },
   "outputs": [],
   "source": [
    "from django import forms\n",
    "from wagtail.admin.panels import FieldPanel, MultiFieldPanel, get_form_for_model\n",
    "from cast.models.snippets import PostCategory\n",
    "from cast.models.pages import TheFieldPanel"
   ]
  },
  {
   "cell_type": "code",
   "execution_count": 22,
   "id": "6bfd6c6e-6a8c-471d-a18f-6edb0041593f",
   "metadata": {
    "tags": []
   },
   "outputs": [],
   "source": [
    "post = Post.objects.last()"
   ]
  },
  {
   "cell_type": "code",
   "execution_count": 23,
   "id": "a1faa67b-569b-47a1-974c-ae5b917c2d01",
   "metadata": {
    "tags": []
   },
   "outputs": [
    {
     "data": {
      "text/plain": [
       "[<Tag: ['bar']>]"
      ]
     },
     "execution_count": 23,
     "metadata": {},
     "output_type": "execute_result"
    }
   ],
   "source": [
    "post.tags.all()"
   ]
  },
  {
   "cell_type": "markdown",
   "id": "993f08c5-7010-49c1-a863-175190dc63c3",
   "metadata": {},
   "source": [
    "# just the form for categories"
   ]
  },
  {
   "cell_type": "code",
   "execution_count": 12,
   "id": "fa31622a-a7f3-4d12-906b-52da6ed0ab09",
   "metadata": {
    "tags": []
   },
   "outputs": [
    {
     "name": "stdout",
     "output_type": "stream",
     "text": [
      "[(<django.forms.models.ModelChoiceIteratorValue object at 0x10bc0c350>, 'Cooking'), (<django.forms.models.ModelChoiceIteratorValue object at 0x10bc0c210>, 'Today I Learned'), (<django.forms.models.ModelChoiceIteratorValue object at 0x10c29c810>, 'WeekNotes')]\n"
     ]
    }
   ],
   "source": [
    "PostForm = get_form_for_model(\n",
    "    Post, fields=[\"categories\"], widgets={'categories': forms.CheckboxSelectMultiple}\n",
    ")\n",
    "form = PostForm({})\n",
    "form.is_valid()\n",
    "print(list(form.fields[\"categories\"].choices))"
   ]
  },
  {
   "cell_type": "code",
   "execution_count": 13,
   "id": "f3b674d8-6bcc-458d-8466-ae7e749de107",
   "metadata": {
    "tags": []
   },
   "outputs": [
    {
     "data": {
      "text/plain": [
       "<django.forms.models.ModelMultipleChoiceField at 0x10c2a9110>"
      ]
     },
     "execution_count": 13,
     "metadata": {},
     "output_type": "execute_result"
    }
   ],
   "source": [
    "form.fields[\"categories\"]"
   ]
  },
  {
   "cell_type": "markdown",
   "id": "005784bd-5d16-4f30-91da-d7583674bd8a",
   "metadata": {},
   "source": [
    "# just the form for tags"
   ]
  },
  {
   "cell_type": "code",
   "execution_count": 3,
   "id": "5ae2be5a-be80-4dad-a3dd-762d247a7c14",
   "metadata": {
    "tags": []
   },
   "outputs": [
    {
     "data": {
      "text/plain": [
       "True"
      ]
     },
     "execution_count": 3,
     "metadata": {},
     "output_type": "execute_result"
    }
   ],
   "source": [
    "PostForm = get_form_for_model(\n",
    "    Post, fields=[\"tags\"], widgets={'tags': forms.CheckboxSelectMultiple}\n",
    ")\n",
    "form = PostForm({})\n",
    "form.is_valid()\n",
    "#print(list(form.fields[\"tags\"].choices))"
   ]
  },
  {
   "cell_type": "code",
   "execution_count": 10,
   "id": "f902a3e6-590f-47c6-b86a-1365f63fb398",
   "metadata": {
    "tags": []
   },
   "outputs": [
    {
     "data": {
      "text/plain": [
       "<wagtail.admin.forms.tags.TagField at 0x10c237bd0>"
      ]
     },
     "execution_count": 10,
     "metadata": {},
     "output_type": "execute_result"
    }
   ],
   "source": [
    "form.fields[\"tags\"]"
   ]
  },
  {
   "cell_type": "code",
   "execution_count": null,
   "id": "9c299b74-db0a-4bd0-90f0-6c20afcc27a0",
   "metadata": {},
   "outputs": [],
   "source": []
  },
  {
   "cell_type": "markdown",
   "id": "061f1212-b42a-41d7-8354-451d04644a8c",
   "metadata": {},
   "source": [
    "## try to add choices"
   ]
  },
  {
   "cell_type": "code",
   "execution_count": 14,
   "id": "7f6f706e-59a1-4215-a619-ba6520922dc5",
   "metadata": {
    "tags": []
   },
   "outputs": [],
   "source": [
    "PostForm = get_form_for_model(\n",
    "    Post, fields=[\"tags\"], widgets={'tags': forms.CheckboxSelectMultiple}\n",
    ")\n",
    "form = PostForm({})\n",
    "form.is_valid()\n",
    "form.fields[\"tags\"] = forms.MultipleChoiceField(widget=forms.CheckboxSelectMultiple)\n",
    "form.fields[\"tags\"].choices = ((\"foo\", \"foo\"), (\"bar\", \"bar\"))"
   ]
  },
  {
   "cell_type": "markdown",
   "id": "c018b1c2-22ec-4e6c-8abf-2222dc10c509",
   "metadata": {},
   "source": [
    "# stuff"
   ]
  },
  {
   "cell_type": "code",
   "execution_count": 6,
   "id": "afa66b86-bd70-4845-b6e4-caa3c287a689",
   "metadata": {
    "tags": []
   },
   "outputs": [
    {
     "name": "stdout",
     "output_type": "stream",
     "text": [
      "on_model_bound:  <class 'cast.models.pages.Post'>\n",
      "get bound panel:  <class 'django.forms.widgets.PostForm'>\n"
     ]
    },
    {
     "ename": "KeyError",
     "evalue": "'tags'",
     "output_type": "error",
     "traceback": [
      "\u001b[0;31m---------------------------------------------------------------------------\u001b[0m",
      "\u001b[0;31mKeyError\u001b[0m                                  Traceback (most recent call last)",
      "Cell \u001b[0;32mIn[6], line 5\u001b[0m\n\u001b[1;32m      3\u001b[0m Form \u001b[38;5;241m=\u001b[39m fp\u001b[38;5;241m.\u001b[39mget_form_class()\n\u001b[1;32m      4\u001b[0m form \u001b[38;5;241m=\u001b[39m Form({})\n\u001b[0;32m----> 5\u001b[0m bfp \u001b[38;5;241m=\u001b[39m \u001b[43mfp\u001b[49m\u001b[38;5;241;43m.\u001b[39;49m\u001b[43mget_bound_panel\u001b[49m\u001b[43m(\u001b[49m\u001b[43mform\u001b[49m\u001b[38;5;241;43m=\u001b[39;49m\u001b[43mform\u001b[49m\u001b[43m)\u001b[49m\n\u001b[1;32m      6\u001b[0m bfp\u001b[38;5;241m.\u001b[39mrender_form_content()\n",
      "File \u001b[0;32m~/.virtualenvs/homepage/lib/python3.11/site-packages/cast/models/pages.py:103\u001b[0m, in \u001b[0;36mTheFieldPanel.get_bound_panel\u001b[0;34m(self, instance, request, form, prefix)\u001b[0m\n\u001b[1;32m    101\u001b[0m \u001b[38;5;28;01mdef\u001b[39;00m \u001b[38;5;21mget_bound_panel\u001b[39m(\u001b[38;5;28mself\u001b[39m, instance\u001b[38;5;241m=\u001b[39m\u001b[38;5;28;01mNone\u001b[39;00m, request\u001b[38;5;241m=\u001b[39m\u001b[38;5;28;01mNone\u001b[39;00m, form\u001b[38;5;241m=\u001b[39m\u001b[38;5;28;01mNone\u001b[39;00m, prefix\u001b[38;5;241m=\u001b[39m\u001b[38;5;124m\"\u001b[39m\u001b[38;5;124mpanel\u001b[39m\u001b[38;5;124m\"\u001b[39m):\n\u001b[1;32m    102\u001b[0m     \u001b[38;5;28mprint\u001b[39m(\u001b[38;5;124m\"\u001b[39m\u001b[38;5;124mget bound panel: \u001b[39m\u001b[38;5;124m\"\u001b[39m, \u001b[38;5;28mtype\u001b[39m(form))\n\u001b[0;32m--> 103\u001b[0m     \u001b[38;5;28mprint\u001b[39m(\u001b[38;5;124m\"\u001b[39m\u001b[38;5;124mchoices? \u001b[39m\u001b[38;5;124m\"\u001b[39m, \u001b[38;5;28mprint\u001b[39m(\u001b[38;5;28mlist\u001b[39m(\u001b[43mform\u001b[49m\u001b[38;5;241;43m.\u001b[39;49m\u001b[43mfields\u001b[49m\u001b[43m[\u001b[49m\u001b[38;5;124;43m\"\u001b[39;49m\u001b[38;5;124;43mtags\u001b[39;49m\u001b[38;5;124;43m\"\u001b[39;49m\u001b[43m]\u001b[49m\u001b[38;5;241m.\u001b[39mchoices)))\n\u001b[1;32m    104\u001b[0m     \u001b[38;5;28;01mreturn\u001b[39;00m \u001b[38;5;28msuper\u001b[39m()\u001b[38;5;241m.\u001b[39mget_bound_panel(instance\u001b[38;5;241m=\u001b[39minstance, request\u001b[38;5;241m=\u001b[39mrequest, form\u001b[38;5;241m=\u001b[39mform, prefix\u001b[38;5;241m=\u001b[39mprefix)\n",
      "\u001b[0;31mKeyError\u001b[0m: 'tags'"
     ]
    }
   ],
   "source": [
    "fp = TheFieldPanel(\"categories\", widget=forms.CheckboxSelectMultiple)\n",
    "fp = fp.bind_to_model(Post)\n",
    "Form = fp.get_form_class()\n",
    "form = Form({})\n",
    "bfp = fp.get_bound_panel(form=form)\n",
    "bfp.render_form_content()"
   ]
  },
  {
   "cell_type": "code",
   "execution_count": 59,
   "id": "c69d8c22-72ae-4cb3-a333-084c10c1579e",
   "metadata": {
    "tags": []
   },
   "outputs": [
    {
     "name": "stdout",
     "output_type": "stream",
     "text": [
      "[(<django.forms.models.ModelChoiceIteratorValue object at 0x126faa010>, 'Cooking'), (<django.forms.models.ModelChoiceIteratorValue object at 0x126fa95d0>, 'Today I Learned'), (<django.forms.models.ModelChoiceIteratorValue object at 0x126faa5d0>, 'WeekNotes')]\n"
     ]
    }
   ],
   "source": [
    "print(list(form.fields[\"categories\"].choices))"
   ]
  },
  {
   "cell_type": "code",
   "execution_count": 15,
   "id": "41f08a7d-5a6d-4c92-8de4-bb1ad43b2582",
   "metadata": {},
   "outputs": [
    {
     "name": "stdout",
     "output_type": "stream",
     "text": [
      "on_model_bound:  <class 'cast.models.pages.Post'>\n",
      "get bound panel:  <class 'django.forms.widgets.PostForm'>\n",
      "[('foo', 'foo'), ('bar', 'bar')]\n",
      "choices?  None\n"
     ]
    },
    {
     "data": {
      "text/plain": [
       "'\\n\\n\\n\\n\\n\\n\\n<div class=\"w-field__wrapper \" data-field-wrapper>\\n\\n    \\n    \\n\\n    \\n    \\n    <div class=\"w-field w-field--choice_field w-field--select w-field--error w-field--commentable\" data-field data-contentpath=\"tags\">\\n\\n        \\n        <div class=\"w-field__errors\" data-field-errors id=\"panel-errors\">\\n            \\n            \\n                <svg class=\"icon icon-warning w-field__errors-icon\" aria-hidden=\"true\"><use href=\"#icon-warning\"></use></svg>\\n                <p class=\"error-message\">\\n                    This field is required. \\n                </p>\\n            \\n        </div>\\n\\n        <div class=\"w-field__help\" id=\"panel-helptext\" data-field-help>\\n            \\n            \\n        </div>\\n\\n        \\n        <div class=\"w-field__input\" data-field-input>\\n            \\n\\n            \\n                \\n                    <select name=\"tags\" aria-invalid=\"true\" aria-describedby=\"panel-errors\" id=\"id_tags\">\\n  <option value=\"foo\">foo</option>\\n\\n  <option value=\"bar\">bar</option>\\n\\n</select>\\n                \\n            \\n\\n            \\n                <button class=\"w-field__comment-button w-field__comment-button--add\" type=\"button\" data-component=\"add-comment-button\" data-comment-add aria-label=\"Add comment\" aria-describedby=\"id_tags-label\">\\n                    <svg class=\"icon icon-comment-add icon\" aria-hidden=\"true\"><use href=\"#icon-comment-add\"></use></svg>\\n                    <svg class=\"icon icon-comment-add-reversed icon\" aria-hidden=\"true\"><use href=\"#icon-comment-add-reversed\"></use></svg>\\n                </button>\\n            \\n        </div>\\n    </div>\\n</div>\\n\\n'"
      ]
     },
     "execution_count": 15,
     "metadata": {},
     "output_type": "execute_result"
    }
   ],
   "source": [
    "fp = TheFieldPanel(\"tags\", widget=forms.CheckboxSelectMultiple)\n",
    "fp = fp.bind_to_model(Post)\n",
    "Form = fp.get_form_class()\n",
    "form = Form({})\n",
    "form.fields[\"tags\"] = forms.MultipleChoiceField(widget=forms.CheckboxSelectMultiple)\n",
    "form.fields[\"tags\"].choices = ((\"foo\", \"foo\"), (\"bar\", \"bar\"))\n",
    "bfp = fp.get_bound_panel(form=form)\n",
    "bfp.render_form_content()"
   ]
  },
  {
   "cell_type": "code",
   "execution_count": 54,
   "id": "f35d5887-3b81-48b2-bd3c-93944f95b030",
   "metadata": {
    "tags": []
   },
   "outputs": [
    {
     "ename": "AttributeError",
     "evalue": "'TagField' object has no attribute 'choices'",
     "output_type": "error",
     "traceback": [
      "\u001b[0;31m---------------------------------------------------------------------------\u001b[0m",
      "\u001b[0;31mAttributeError\u001b[0m                            Traceback (most recent call last)",
      "Cell \u001b[0;32mIn[54], line 1\u001b[0m\n\u001b[0;32m----> 1\u001b[0m \u001b[43mform\u001b[49m\u001b[38;5;241;43m.\u001b[39;49m\u001b[43mfields\u001b[49m\u001b[43m[\u001b[49m\u001b[38;5;124;43m\"\u001b[39;49m\u001b[38;5;124;43mtags\u001b[39;49m\u001b[38;5;124;43m\"\u001b[39;49m\u001b[43m]\u001b[49m\u001b[38;5;241;43m.\u001b[39;49m\u001b[43mchoices\u001b[49m\n",
      "\u001b[0;31mAttributeError\u001b[0m: 'TagField' object has no attribute 'choices'"
     ]
    }
   ],
   "source": [
    "form.fields[\"tags\"].choices"
   ]
  },
  {
   "cell_type": "code",
   "execution_count": 25,
   "id": "17ca6227-e4a2-4223-8fe3-e362fb343e57",
   "metadata": {
    "tags": []
   },
   "outputs": [
    {
     "data": {
      "text/plain": [
       "5"
      ]
     },
     "execution_count": 25,
     "metadata": {},
     "output_type": "execute_result"
    }
   ],
   "source": [
    "Tag.objects.all().filter(slug__in=PostTag.objects.all().values_list(\"tag__slug\", flat=True)).count()"
   ]
  },
  {
   "cell_type": "code",
   "execution_count": 27,
   "id": "7e43e083-97de-4c86-baa3-dff60a6aa3a6",
   "metadata": {
    "tags": []
   },
   "outputs": [
    {
     "data": {
      "text/plain": [
       "(1, {'taggit.Tag': 1})"
      ]
     },
     "execution_count": 27,
     "metadata": {},
     "output_type": "execute_result"
    }
   ],
   "source": [
    "Tag.objects.all().get(slug=\"asdf\").delete()"
   ]
  },
  {
   "cell_type": "code",
   "execution_count": null,
   "id": "8b34ffb2-1a82-4b33-b638-a33726e218f8",
   "metadata": {},
   "outputs": [],
   "source": []
  }
 ],
 "metadata": {
  "kernelspec": {
   "display_name": "Django Kernel",
   "language": "python",
   "name": "django_extensions"
  },
  "language_info": {
   "codemirror_mode": {
    "name": "ipython",
    "version": 3
   },
   "file_extension": ".py",
   "mimetype": "text/x-python",
   "name": "python",
   "nbconvert_exporter": "python",
   "pygments_lexer": "ipython3",
   "version": "3.11.4"
  }
 },
 "nbformat": 4,
 "nbformat_minor": 5
}
