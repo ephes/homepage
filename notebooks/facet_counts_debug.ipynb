{
 "cells": [
  {
   "cell_type": "code",
   "execution_count": 2,
   "id": "5c627c73-1169-44a2-b917-941ecb82a500",
   "metadata": {
    "tags": []
   },
   "outputs": [],
   "source": [
    "blog = Blog.objects.get(pk=4)"
   ]
  },
  {
   "cell_type": "code",
   "execution_count": 7,
   "id": "2e682047-4921-4cf8-a1a6-86bd18f2f271",
   "metadata": {
    "tags": []
   },
   "outputs": [],
   "source": [
    "filterset = blog.get_filterset({\"search\": \"htmx\"})"
   ]
  },
  {
   "cell_type": "code",
   "execution_count": 8,
   "id": "097084a8-d266-4221-80ce-5f82297f0952",
   "metadata": {
    "tags": []
   },
   "outputs": [
    {
     "data": {
      "text/plain": [
       "{'year_month': {datetime.datetime(2021, 6, 1, 0, 0, tzinfo=zoneinfo.ZoneInfo(key='UTC')): 1,\n",
       "  datetime.datetime(2021, 7, 1, 0, 0, tzinfo=zoneinfo.ZoneInfo(key='UTC')): 1,\n",
       "  datetime.datetime(2022, 1, 1, 0, 0, tzinfo=zoneinfo.ZoneInfo(key='UTC')): 4,\n",
       "  datetime.datetime(2022, 2, 1, 0, 0, tzinfo=zoneinfo.ZoneInfo(key='UTC')): 3,\n",
       "  datetime.datetime(2022, 3, 1, 0, 0, tzinfo=zoneinfo.ZoneInfo(key='UTC')): 3,\n",
       "  datetime.datetime(2022, 5, 1, 0, 0, tzinfo=zoneinfo.ZoneInfo(key='UTC')): 1,\n",
       "  datetime.datetime(2022, 6, 1, 0, 0, tzinfo=zoneinfo.ZoneInfo(key='UTC')): 1,\n",
       "  datetime.datetime(2022, 7, 1, 0, 0, tzinfo=zoneinfo.ZoneInfo(key='UTC')): 2,\n",
       "  datetime.datetime(2022, 8, 1, 0, 0, tzinfo=zoneinfo.ZoneInfo(key='UTC')): 1,\n",
       "  datetime.datetime(2022, 9, 1, 0, 0, tzinfo=zoneinfo.ZoneInfo(key='UTC')): 1,\n",
       "  datetime.datetime(2022, 10, 1, 0, 0, tzinfo=zoneinfo.ZoneInfo(key='UTC')): 1,\n",
       "  datetime.datetime(2022, 11, 1, 0, 0, tzinfo=zoneinfo.ZoneInfo(key='UTC')): 3,\n",
       "  datetime.datetime(2023, 1, 1, 0, 0, tzinfo=zoneinfo.ZoneInfo(key='UTC')): 1,\n",
       "  datetime.datetime(2023, 2, 1, 0, 0, tzinfo=zoneinfo.ZoneInfo(key='UTC')): 1,\n",
       "  datetime.datetime(2023, 3, 1, 0, 0, tzinfo=zoneinfo.ZoneInfo(key='UTC')): 2,\n",
       "  datetime.datetime(2023, 4, 1, 0, 0, tzinfo=zoneinfo.ZoneInfo(key='UTC')): 1}}"
      ]
     },
     "execution_count": 8,
     "metadata": {},
     "output_type": "execute_result"
    }
   ],
   "source": [
    "filterset.facet_counts"
   ]
  },
  {
   "cell_type": "code",
   "execution_count": 9,
   "id": "2bd2df0b-6a2e-4261-8a93-5d952b7d3c99",
   "metadata": {
    "tags": []
   },
   "outputs": [
    {
     "data": {
      "text/plain": [
       "'/blogs/api/facet_counts/'"
      ]
     },
     "execution_count": 9,
     "metadata": {},
     "output_type": "execute_result"
    }
   ],
   "source": [
    "reverse(\"cast:api:facet-counts-list\")"
   ]
  },
  {
   "cell_type": "code",
   "execution_count": null,
   "id": "34be8baa-9472-4884-a330-6bff2b940229",
   "metadata": {},
   "outputs": [],
   "source": []
  }
 ],
 "metadata": {
  "kernelspec": {
   "display_name": "Django Kernel",
   "language": "python",
   "name": "django_extensions"
  },
  "language_info": {
   "codemirror_mode": {
    "name": "ipython",
    "version": 3
   },
   "file_extension": ".py",
   "mimetype": "text/x-python",
   "name": "python",
   "nbconvert_exporter": "python",
   "pygments_lexer": "ipython3",
   "version": "3.11.4"
  }
 },
 "nbformat": 4,
 "nbformat_minor": 5
}
