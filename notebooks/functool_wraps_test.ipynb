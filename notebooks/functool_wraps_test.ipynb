{
 "cells": [
  {
   "cell_type": "code",
   "execution_count": 2,
   "id": "fd41ffcd-e349-4628-ab6c-9c83e3b34aad",
   "metadata": {},
   "outputs": [],
   "source": [
    "from functools import wraps"
   ]
  },
  {
   "cell_type": "code",
   "execution_count": 4,
   "id": "b5a645ae-14d9-4978-8e62-9c749b901054",
   "metadata": {},
   "outputs": [],
   "source": [
    "def heading(f):\n",
    "    @wraps(f)\n",
    "    def wrapper(*args, **kwds):\n",
    "        to_decorate = f()\n",
    "        return f\"<h1>{to_decorate}</h1>\"\n",
    "    return wrapper\n",
    "\n",
    "\n",
    "@heading\n",
    "def decorated_hello():\n",
    "    return \"Hello World!\""
   ]
  },
  {
   "cell_type": "code",
   "execution_count": 5,
   "id": "60d6bbcb-03af-4055-9fe2-5d39c28533da",
   "metadata": {},
   "outputs": [
    {
     "data": {
      "text/plain": [
       "'<h1>Hello World!</h1>'"
      ]
     },
     "execution_count": 5,
     "metadata": {},
     "output_type": "execute_result"
    }
   ],
   "source": [
    "decorated_hello()"
   ]
  },
  {
   "cell_type": "code",
   "execution_count": 6,
   "id": "848d5be1-ec78-4a92-8928-4451efb169d3",
   "metadata": {},
   "outputs": [
    {
     "data": {
      "text/plain": [
       "'Hello World!'"
      ]
     },
     "execution_count": 6,
     "metadata": {},
     "output_type": "execute_result"
    }
   ],
   "source": [
    "decorated_hello.__wrapped__()"
   ]
  },
  {
   "cell_type": "code",
   "execution_count": null,
   "id": "c841cffe-2f1f-444e-9087-b549b0e52f9a",
   "metadata": {},
   "outputs": [],
   "source": []
  }
 ],
 "metadata": {
  "kernelspec": {
   "display_name": "Python 3 (ipykernel)",
   "language": "python",
   "name": "python3"
  },
  "language_info": {
   "codemirror_mode": {
    "name": "ipython",
    "version": 3
   },
   "file_extension": ".py",
   "mimetype": "text/x-python",
   "name": "python",
   "nbconvert_exporter": "python",
   "pygments_lexer": "ipython3",
   "version": "3.12.4"
  }
 },
 "nbformat": 4,
 "nbformat_minor": 5
}
