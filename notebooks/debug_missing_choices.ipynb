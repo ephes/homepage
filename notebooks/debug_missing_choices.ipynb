{
 "cells": [
  {
   "cell_type": "code",
   "execution_count": 1,
   "id": "b182bc12-fb25-4024-9129-25da3e77e502",
   "metadata": {
    "tags": []
   },
   "outputs": [],
   "source": [
    "from django.db import models\n",
    "from cast.filters import PostFilterset"
   ]
  },
  {
   "cell_type": "code",
   "execution_count": 2,
   "id": "3573dd6b-50bb-4d12-ba1e-28f332d3049a",
   "metadata": {
    "tags": []
   },
   "outputs": [
    {
     "name": "stdout",
     "output_type": "stream",
     "text": [
      "facet count choices:  []\n",
      "has facets with posts in field:  False\n",
      "facet count choices:  []\n",
      "has facets with posts in field:  False\n",
      "facet count choices:  [('fotos', 'Fotos (1)'), ('til', 'Today I Learned (1)'), ('weeknotes', 'WeekNotes (2)')]\n",
      "has facets with posts in field:  True\n",
      "set tag counts:  {'foobar': ('foobar', 3), 'claas': ('claas', 1)}\n",
      "facet count choices:  [('claas', 'claas (1)'), ('foobar', 'foobar (3)')]\n",
      "has facets with posts in field:  True\n",
      "set date facet counts:  {datetime.datetime(2023, 5, 1, 0, 0, tzinfo=zoneinfo.ZoneInfo(key='UTC')): 6, datetime.datetime(2023, 8, 1, 0, 0, tzinfo=zoneinfo.ZoneInfo(key='UTC')): 1, datetime.datetime(2022, 12, 1, 0, 0, tzinfo=zoneinfo.ZoneInfo(key='UTC')): 8, datetime.datetime(2022, 11, 1, 0, 0, tzinfo=zoneinfo.ZoneInfo(key='UTC')): 6, datetime.datetime(2017, 10, 1, 0, 0, tzinfo=zoneinfo.ZoneInfo(key='UTC')): 4, datetime.datetime(2022, 2, 1, 0, 0, tzinfo=zoneinfo.ZoneInfo(key='UTC')): 4, datetime.datetime(2022, 4, 1, 0, 0, tzinfo=zoneinfo.ZoneInfo(key='UTC')): 8, datetime.datetime(2023, 1, 1, 0, 0, tzinfo=zoneinfo.ZoneInfo(key='UTC')): 10, datetime.datetime(2022, 10, 1, 0, 0, tzinfo=zoneinfo.ZoneInfo(key='UTC')): 5, datetime.datetime(2023, 7, 1, 0, 0, tzinfo=zoneinfo.ZoneInfo(key='UTC')): 5, datetime.datetime(2023, 2, 1, 0, 0, tzinfo=zoneinfo.ZoneInfo(key='UTC')): 5, datetime.datetime(2022, 3, 1, 0, 0, tzinfo=zoneinfo.ZoneInfo(key='UTC')): 4, datetime.datetime(2022, 5, 1, 0, 0, tzinfo=zoneinfo.ZoneInfo(key='UTC')): 6, datetime.datetime(2021, 9, 1, 0, 0, tzinfo=zoneinfo.ZoneInfo(key='UTC')): 3, datetime.datetime(2023, 6, 1, 0, 0, tzinfo=zoneinfo.ZoneInfo(key='UTC')): 4, datetime.datetime(2022, 9, 1, 0, 0, tzinfo=zoneinfo.ZoneInfo(key='UTC')): 4, datetime.datetime(2023, 4, 1, 0, 0, tzinfo=zoneinfo.ZoneInfo(key='UTC')): 6, datetime.datetime(2022, 6, 1, 0, 0, tzinfo=zoneinfo.ZoneInfo(key='UTC')): 4, datetime.datetime(2022, 8, 1, 0, 0, tzinfo=zoneinfo.ZoneInfo(key='UTC')): 5, datetime.datetime(2021, 7, 1, 0, 0, tzinfo=zoneinfo.ZoneInfo(key='UTC')): 4, datetime.datetime(2017, 9, 1, 0, 0, tzinfo=zoneinfo.ZoneInfo(key='UTC')): 7, datetime.datetime(2021, 6, 1, 0, 0, tzinfo=zoneinfo.ZoneInfo(key='UTC')): 3, datetime.datetime(2020, 8, 1, 0, 0, tzinfo=zoneinfo.ZoneInfo(key='UTC')): 1, datetime.datetime(2022, 1, 1, 0, 0, tzinfo=zoneinfo.ZoneInfo(key='UTC')): 6, datetime.datetime(2023, 3, 1, 0, 0, tzinfo=zoneinfo.ZoneInfo(key='UTC')): 5, datetime.datetime(2022, 7, 1, 0, 0, tzinfo=zoneinfo.ZoneInfo(key='UTC')): 5, datetime.datetime(2017, 11, 1, 0, 0, tzinfo=zoneinfo.ZoneInfo(key='UTC')): 3, datetime.datetime(2021, 8, 1, 0, 0, tzinfo=zoneinfo.ZoneInfo(key='UTC')): 5, datetime.datetime(2021, 10, 1, 0, 0, tzinfo=zoneinfo.ZoneInfo(key='UTC')): 5, datetime.datetime(2021, 11, 1, 0, 0, tzinfo=zoneinfo.ZoneInfo(key='UTC')): 1}\n",
      "facet count choices:  [('fotos', 'Fotos (1)'), ('til', 'Today I Learned (1)'), ('weeknotes', 'WeekNotes (2)')]\n",
      "has facets with posts in field:  True\n",
      "facet count choices:  [('claas', 'claas (1)'), ('foobar', 'foobar (3)')]\n",
      "has facets with posts in field:  True\n",
      "facet counts:  {'foobar': ('foobar', 3), 'claas': ('claas', 1)}\n"
     ]
    }
   ],
   "source": [
    "blog = Blog.objects.get(slug=\"ephes_blog\")\n",
    "queryset = blog.unfiltered_published_posts\n",
    "filterset = PostFilterset({}, queryset, fetch_facet_counts=True)"
   ]
  },
  {
   "cell_type": "code",
   "execution_count": 3,
   "id": "64304e22-3210-40f8-99bd-e252c5d405b3",
   "metadata": {
    "tags": []
   },
   "outputs": [
    {
     "name": "stdout",
     "output_type": "stream",
     "text": [
      "{'foobar': ('foobar', 3), 'claas': ('claas', 1)}\n"
     ]
    }
   ],
   "source": [
    "tag_filter = filterset.filters[\"tag_facets\"]\n",
    "print(tag_filter.facet_counts)"
   ]
  },
  {
   "cell_type": "code",
   "execution_count": 4,
   "id": "5b8022e3-7f6d-4310-86e6-1fb4dbe9be58",
   "metadata": {
    "tags": []
   },
   "outputs": [
    {
     "name": "stdout",
     "output_type": "stream",
     "text": [
      "[('', '---------'), ('claas', 'claas (1)'), ('foobar', 'foobar (3)')]\n",
      "[('', '---------'), ('claas', 'claas (1)'), ('foobar', 'foobar (3)')]\n"
     ]
    }
   ],
   "source": [
    "tags_field = filterset.form.fields[\"tag_facets\"]\n",
    "print(list(tags_field.choices))\n",
    "print(list(tags_field.widget.choices))"
   ]
  },
  {
   "cell_type": "code",
   "execution_count": 5,
   "id": "3014687b-034a-4d2a-8031-bf6cfe3c9340",
   "metadata": {
    "tags": []
   },
   "outputs": [
    {
     "name": "stdout",
     "output_type": "stream",
     "text": [
      "<div class=\"cast-date-facet-container\" id=\"id_tag_facets\">\n",
      "<div class=\"cast-date-facet-item\"><a class=\"selected\" href=\"?tag_facets=\">All</a><input type=\"hidden\" name=\"tag_facets\" value=\"\"></div>\n",
      "<div class=\"cast-date-facet-item\"><a href=\"?tag_facets=claas\">claas (1)</a></div>\n",
      "<div class=\"cast-date-facet-item\"><a href=\"?tag_facets=foobar\">foobar (3)</a></div>\n",
      "</div>\n",
      "[('', '---------'), ('claas', 'claas (1)'), ('foobar', 'foobar (3)')]\n"
     ]
    }
   ],
   "source": [
    "tags_bf = filterset.form[\"tag_facets\"]\n",
    "print(str(tags_bf))\n",
    "print(list(tags_bf.field.choices))"
   ]
  },
  {
   "cell_type": "code",
   "execution_count": 6,
   "id": "86e64d46-a17e-41b2-a8b8-83db2b391d58",
   "metadata": {
    "tags": []
   },
   "outputs": [],
   "source": [
    "new_bf = tags_field.get_bound_field(filterset.form, \"tag_facets\")"
   ]
  },
  {
   "cell_type": "code",
   "execution_count": 7,
   "id": "2e718577-0d31-4b5d-87e9-93b5ad2f15e7",
   "metadata": {
    "tags": []
   },
   "outputs": [
    {
     "data": {
      "text/plain": [
       "'<div class=\"cast-date-facet-container\" id=\"id_tag_facets\">\\n<div class=\"cast-date-facet-item\"><a class=\"selected\" href=\"?tag_facets=\">All</a><input type=\"hidden\" name=\"tag_facets\" value=\"\"></div>\\n<div class=\"cast-date-facet-item\"><a href=\"?tag_facets=claas\">claas (1)</a></div>\\n<div class=\"cast-date-facet-item\"><a href=\"?tag_facets=foobar\">foobar (3)</a></div>\\n</div>'"
      ]
     },
     "execution_count": 7,
     "metadata": {},
     "output_type": "execute_result"
    }
   ],
   "source": [
    "str(new_bf)"
   ]
  },
  {
   "cell_type": "code",
   "execution_count": 8,
   "id": "2ad7ec23-9d54-4e48-8c1e-37f1c7d6eac0",
   "metadata": {
    "tags": []
   },
   "outputs": [
    {
     "data": {
      "text/plain": [
       "'<div class=\"cast-date-facet-container\" id=\"id_tag_facets\">\\n<div class=\"cast-date-facet-item\"><a class=\"selected\" href=\"?tag_facets=\">All</a><input type=\"hidden\" name=\"tag_facets\" value=\"\"></div>\\n<div class=\"cast-date-facet-item\"><a href=\"?tag_facets=claas\">claas (1)</a></div>\\n<div class=\"cast-date-facet-item\"><a href=\"?tag_facets=foobar\">foobar (3)</a></div>\\n</div>'"
      ]
     },
     "execution_count": 8,
     "metadata": {},
     "output_type": "execute_result"
    }
   ],
   "source": [
    "str(filterset._form[\"tag_facets\"])"
   ]
  },
  {
   "cell_type": "code",
   "execution_count": 9,
   "id": "23bbc9f2-b06d-4160-a250-7c86d9d51ee2",
   "metadata": {
    "tags": []
   },
   "outputs": [
    {
     "name": "stdout",
     "output_type": "stream",
     "text": [
      "facet count choices:  [('fotos', 'Fotos (1)'), ('til', 'Today I Learned (1)'), ('weeknotes', 'WeekNotes (2)')]\n",
      "has facets with posts in field:  True\n",
      "facet count choices:  [('claas', 'claas (1)'), ('foobar', 'foobar (3)')]\n",
      "has facets with posts in field:  True\n"
     ]
    }
   ],
   "source": [
    "Form = filterset.get_form_class()\n",
    "filterset._form = Form(filterset.data, prefix=filterset.form_prefix)"
   ]
  },
  {
   "cell_type": "code",
   "execution_count": 11,
   "id": "d7df888c-4dcd-471a-aa63-b593ac64fc5f",
   "metadata": {
    "tags": []
   },
   "outputs": [
    {
     "name": "stdout",
     "output_type": "stream",
     "text": [
      "<div class=\"cast-date-facet-container\" id=\"id_tag_facets\">\n",
      "<div class=\"cast-date-facet-item\"><a class=\"selected\" href=\"?tag_facets=\">All</a><input type=\"hidden\" name=\"tag_facets\" value=\"\"></div>\n",
      "<div class=\"cast-date-facet-item\"><a href=\"?tag_facets=claas\">claas (1)</a></div>\n",
      "<div class=\"cast-date-facet-item\"><a href=\"?tag_facets=foobar\">foobar (3)</a></div>\n",
      "</div>\n",
      "[('', '---------'), ('claas', 'claas (1)'), ('foobar', 'foobar (3)')]\n"
     ]
    }
   ],
   "source": [
    "tags_bf = filterset.form[\"tag_facets\"]\n",
    "print(str(tags_bf))\n",
    "print(list(tags_bf.field.choices))"
   ]
  },
  {
   "cell_type": "code",
   "execution_count": 12,
   "id": "f546bff0-7371-432e-9f5f-065fd1582551",
   "metadata": {
    "tags": []
   },
   "outputs": [
    {
     "data": {
      "text/plain": [
       "{datetime.datetime(2023, 5, 1, 0, 0, tzinfo=zoneinfo.ZoneInfo(key='UTC')): 6,\n",
       " datetime.datetime(2023, 8, 1, 0, 0, tzinfo=zoneinfo.ZoneInfo(key='UTC')): 1,\n",
       " datetime.datetime(2022, 12, 1, 0, 0, tzinfo=zoneinfo.ZoneInfo(key='UTC')): 8,\n",
       " datetime.datetime(2022, 11, 1, 0, 0, tzinfo=zoneinfo.ZoneInfo(key='UTC')): 6,\n",
       " datetime.datetime(2017, 10, 1, 0, 0, tzinfo=zoneinfo.ZoneInfo(key='UTC')): 4,\n",
       " datetime.datetime(2022, 2, 1, 0, 0, tzinfo=zoneinfo.ZoneInfo(key='UTC')): 4,\n",
       " datetime.datetime(2022, 4, 1, 0, 0, tzinfo=zoneinfo.ZoneInfo(key='UTC')): 8,\n",
       " datetime.datetime(2023, 1, 1, 0, 0, tzinfo=zoneinfo.ZoneInfo(key='UTC')): 10,\n",
       " datetime.datetime(2022, 10, 1, 0, 0, tzinfo=zoneinfo.ZoneInfo(key='UTC')): 5,\n",
       " datetime.datetime(2023, 7, 1, 0, 0, tzinfo=zoneinfo.ZoneInfo(key='UTC')): 5,\n",
       " datetime.datetime(2023, 2, 1, 0, 0, tzinfo=zoneinfo.ZoneInfo(key='UTC')): 5,\n",
       " datetime.datetime(2022, 3, 1, 0, 0, tzinfo=zoneinfo.ZoneInfo(key='UTC')): 4,\n",
       " datetime.datetime(2022, 5, 1, 0, 0, tzinfo=zoneinfo.ZoneInfo(key='UTC')): 6,\n",
       " datetime.datetime(2021, 9, 1, 0, 0, tzinfo=zoneinfo.ZoneInfo(key='UTC')): 3,\n",
       " datetime.datetime(2023, 6, 1, 0, 0, tzinfo=zoneinfo.ZoneInfo(key='UTC')): 4,\n",
       " datetime.datetime(2022, 9, 1, 0, 0, tzinfo=zoneinfo.ZoneInfo(key='UTC')): 4,\n",
       " datetime.datetime(2023, 4, 1, 0, 0, tzinfo=zoneinfo.ZoneInfo(key='UTC')): 6,\n",
       " datetime.datetime(2022, 6, 1, 0, 0, tzinfo=zoneinfo.ZoneInfo(key='UTC')): 4,\n",
       " datetime.datetime(2022, 8, 1, 0, 0, tzinfo=zoneinfo.ZoneInfo(key='UTC')): 5,\n",
       " datetime.datetime(2021, 7, 1, 0, 0, tzinfo=zoneinfo.ZoneInfo(key='UTC')): 4,\n",
       " datetime.datetime(2017, 9, 1, 0, 0, tzinfo=zoneinfo.ZoneInfo(key='UTC')): 7,\n",
       " datetime.datetime(2021, 6, 1, 0, 0, tzinfo=zoneinfo.ZoneInfo(key='UTC')): 3,\n",
       " datetime.datetime(2020, 8, 1, 0, 0, tzinfo=zoneinfo.ZoneInfo(key='UTC')): 1,\n",
       " datetime.datetime(2022, 1, 1, 0, 0, tzinfo=zoneinfo.ZoneInfo(key='UTC')): 6,\n",
       " datetime.datetime(2023, 3, 1, 0, 0, tzinfo=zoneinfo.ZoneInfo(key='UTC')): 5,\n",
       " datetime.datetime(2022, 7, 1, 0, 0, tzinfo=zoneinfo.ZoneInfo(key='UTC')): 5,\n",
       " datetime.datetime(2017, 11, 1, 0, 0, tzinfo=zoneinfo.ZoneInfo(key='UTC')): 3,\n",
       " datetime.datetime(2021, 8, 1, 0, 0, tzinfo=zoneinfo.ZoneInfo(key='UTC')): 5,\n",
       " datetime.datetime(2021, 10, 1, 0, 0, tzinfo=zoneinfo.ZoneInfo(key='UTC')): 5,\n",
       " datetime.datetime(2021, 11, 1, 0, 0, tzinfo=zoneinfo.ZoneInfo(key='UTC')): 1}"
      ]
     },
     "execution_count": 12,
     "metadata": {},
     "output_type": "execute_result"
    }
   ],
   "source": [
    "filterset.filters[\"date_facets\"].facet_counts"
   ]
  },
  {
   "cell_type": "code",
   "execution_count": 13,
   "id": "0215bb56-9e68-4c7c-ab7d-d59c065d979b",
   "metadata": {
    "tags": []
   },
   "outputs": [
    {
     "data": {
      "text/plain": [
       "[('', '---------'),\n",
       " ('2017-09', '2017-09 (7)'),\n",
       " ('2017-10', '2017-10 (4)'),\n",
       " ('2017-11', '2017-11 (3)'),\n",
       " ('2020-08', '2020-08 (1)'),\n",
       " ('2021-06', '2021-06 (3)'),\n",
       " ('2021-07', '2021-07 (4)'),\n",
       " ('2021-08', '2021-08 (5)'),\n",
       " ('2021-09', '2021-09 (3)'),\n",
       " ('2021-10', '2021-10 (5)'),\n",
       " ('2021-11', '2021-11 (1)'),\n",
       " ('2022-01', '2022-01 (6)'),\n",
       " ('2022-02', '2022-02 (4)'),\n",
       " ('2022-03', '2022-03 (4)'),\n",
       " ('2022-04', '2022-04 (8)'),\n",
       " ('2022-05', '2022-05 (6)'),\n",
       " ('2022-06', '2022-06 (4)'),\n",
       " ('2022-07', '2022-07 (5)'),\n",
       " ('2022-08', '2022-08 (5)'),\n",
       " ('2022-09', '2022-09 (4)'),\n",
       " ('2022-10', '2022-10 (5)'),\n",
       " ('2022-11', '2022-11 (6)'),\n",
       " ('2022-12', '2022-12 (8)'),\n",
       " ('2023-01', '2023-01 (10)'),\n",
       " ('2023-02', '2023-02 (5)'),\n",
       " ('2023-03', '2023-03 (5)'),\n",
       " ('2023-04', '2023-04 (6)'),\n",
       " ('2023-05', '2023-05 (6)'),\n",
       " ('2023-06', '2023-06 (4)'),\n",
       " ('2023-07', '2023-07 (5)'),\n",
       " ('2023-08', '2023-08 (1)')]"
      ]
     },
     "execution_count": 13,
     "metadata": {},
     "output_type": "execute_result"
    }
   ],
   "source": [
    "list(filterset.form.fields[\"date_facets\"].choices)"
   ]
  },
  {
   "cell_type": "code",
   "execution_count": 15,
   "id": "4e3aab60-53a5-4e76-9b4d-0659ff5715eb",
   "metadata": {
    "tags": []
   },
   "outputs": [
    {
     "data": {
      "text/plain": [
       "[('', '---------'),\n",
       " ('2017-09', '2017-09 (7)'),\n",
       " ('2017-10', '2017-10 (4)'),\n",
       " ('2017-11', '2017-11 (3)'),\n",
       " ('2020-08', '2020-08 (1)'),\n",
       " ('2021-06', '2021-06 (3)'),\n",
       " ('2021-07', '2021-07 (4)'),\n",
       " ('2021-08', '2021-08 (5)'),\n",
       " ('2021-09', '2021-09 (3)'),\n",
       " ('2021-10', '2021-10 (5)'),\n",
       " ('2021-11', '2021-11 (1)'),\n",
       " ('2022-01', '2022-01 (6)'),\n",
       " ('2022-02', '2022-02 (4)'),\n",
       " ('2022-03', '2022-03 (4)'),\n",
       " ('2022-04', '2022-04 (8)'),\n",
       " ('2022-05', '2022-05 (6)'),\n",
       " ('2022-06', '2022-06 (4)'),\n",
       " ('2022-07', '2022-07 (5)'),\n",
       " ('2022-08', '2022-08 (5)'),\n",
       " ('2022-09', '2022-09 (4)'),\n",
       " ('2022-10', '2022-10 (5)'),\n",
       " ('2022-11', '2022-11 (6)'),\n",
       " ('2022-12', '2022-12 (8)'),\n",
       " ('2023-01', '2023-01 (10)'),\n",
       " ('2023-02', '2023-02 (5)'),\n",
       " ('2023-03', '2023-03 (5)'),\n",
       " ('2023-04', '2023-04 (6)'),\n",
       " ('2023-05', '2023-05 (6)'),\n",
       " ('2023-06', '2023-06 (4)'),\n",
       " ('2023-07', '2023-07 (5)'),\n",
       " ('2023-08', '2023-08 (1)')]"
      ]
     },
     "execution_count": 15,
     "metadata": {},
     "output_type": "execute_result"
    }
   ],
   "source": [
    "list(filterset.form[\"date_facets\"].field.choices)"
   ]
  },
  {
   "cell_type": "code",
   "execution_count": null,
   "id": "d5ee3cd8-ff71-479c-a40e-a08bfbe96feb",
   "metadata": {},
   "outputs": [],
   "source": []
  }
 ],
 "metadata": {
  "kernelspec": {
   "display_name": "Django Kernel",
   "language": "python",
   "name": "django_extensions"
  },
  "language_info": {
   "codemirror_mode": {
    "name": "ipython",
    "version": 3
   },
   "file_extension": ".py",
   "mimetype": "text/x-python",
   "name": "python",
   "nbconvert_exporter": "python",
   "pygments_lexer": "ipython3",
   "version": "3.11.4"
  }
 },
 "nbformat": 4,
 "nbformat_minor": 5
}
