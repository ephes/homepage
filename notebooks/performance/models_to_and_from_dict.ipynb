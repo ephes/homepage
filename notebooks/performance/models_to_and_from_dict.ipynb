{
 "cells": [
  {
   "cell_type": "code",
   "execution_count": 8,
   "id": "0389f47a-a20c-4d3d-aab7-da38d106c8ef",
   "metadata": {
    "tags": []
   },
   "outputs": [],
   "source": [
    "import json\n",
    "\n",
    "from cast import cache"
   ]
  },
  {
   "cell_type": "code",
   "execution_count": 2,
   "id": "0275e723-3a08-4e7a-be8f-2412b811c9df",
   "metadata": {
    "tags": []
   },
   "outputs": [],
   "source": [
    "post = Post.objects.first()"
   ]
  },
  {
   "cell_type": "code",
   "execution_count": 24,
   "id": "1ac68b5a-7e16-4f76-a15a-0e47c3e98ba7",
   "metadata": {
    "tags": []
   },
   "outputs": [
    {
     "data": {
      "text/plain": [
       "<StreamValue [<block overview: <StreamValue [<block image: 144>, <block gallery: StructValue({'gallery': <ListValue: [<Image: >, <Image: >, <Image: >]>, 'layout': 'default'})>, <block paragraph: <wagtail.rich_text.RichText object at 0x111c10770>>]>>]>"
      ]
     },
     "execution_count": 24,
     "metadata": {},
     "output_type": "execute_result"
    }
   ],
   "source": [
    "post.body"
   ]
  },
  {
   "cell_type": "code",
   "execution_count": 6,
   "id": "c8bdc743-0934-42ef-abed-92069bb0ac0e",
   "metadata": {
    "tags": []
   },
   "outputs": [],
   "source": [
    "post_data = cache.post_to_dict(post)"
   ]
  },
  {
   "cell_type": "code",
   "execution_count": 20,
   "id": "73b67ec6-7294-4437-b515-0faf9452c670",
   "metadata": {
    "tags": []
   },
   "outputs": [],
   "source": [
    "post_data[\"body\"] = json.dumps(list(post_data[\"body\"]))"
   ]
  },
  {
   "cell_type": "code",
   "execution_count": 18,
   "id": "ca6d2bc4-48d2-466f-a81e-76a63aae8cf3",
   "metadata": {
    "tags": []
   },
   "outputs": [
    {
     "data": {
      "text/plain": [
       "'[{\"id\": \"02a32ea1-d14a-4937-b5db-0aa0b6530fd6\", \"type\": \"overview\", \"value\": [{\"id\": \"bc7b1b50-12c6-4803-8865-09a1bc6e1705\", \"type\": \"image\", \"value\": 144}, {\"id\": \"c58e0b16-c040-4e82-83e2-ce28350065ea\", \"type\": \"gallery\", \"value\": {\"layout\": \"default\", \"gallery\": [{\"id\": \"0aa4de6f-62a4-43de-b66f-c543fe97ab23\", \"type\": \"item\", \"value\": 142}, {\"id\": \"e5b36368-7667-4a43-b853-f742a544b938\", \"type\": \"item\", \"value\": 143}, {\"id\": \"65d9f170-c374-4346-9528-a95cabf00420\", \"type\": \"item\", \"value\": 144}]}}, {\"id\": \"d38361f6-7c42-411a-ae5d-d133d329e694\", \"type\": \"paragraph\", \"value\": \"<p data-block-key=\\\\\"3nefc\\\\\">Inzwischen haben wir Ganzk\\\\u00f6rperl\\\\u00e4tzchen angeschafft.</p>\"}]}]'"
      ]
     },
     "execution_count": 18,
     "metadata": {},
     "output_type": "execute_result"
    }
   ],
   "source": [
    "json.dumps(list(post.body.raw_data))"
   ]
  },
  {
   "cell_type": "code",
   "execution_count": 22,
   "id": "138be395-e7a8-43da-b0a5-cec46dbf28ca",
   "metadata": {
    "tags": []
   },
   "outputs": [
    {
     "data": {
      "text/plain": [
       "<StreamValue [<block overview: <StreamValue [<block image: 144>, <block gallery: StructValue({'gallery': <ListValue: [<Image: >, <Image: >, <Image: >]>, 'layout': 'default'})>, <block paragraph: <wagtail.rich_text.RichText object at 0x1270414f0>>]>>]>"
      ]
     },
     "execution_count": 22,
     "metadata": {},
     "output_type": "execute_result"
    }
   ],
   "source": [
    "Post(**post_data).body"
   ]
  },
  {
   "cell_type": "code",
   "execution_count": 4,
   "id": "a6ee46ab-df33-452b-a271-1f3e9caa5e2a",
   "metadata": {
    "tags": []
   },
   "outputs": [
    {
     "data": {
      "text/plain": [
       "True"
      ]
     },
     "execution_count": 4,
     "metadata": {},
     "output_type": "execute_result"
    }
   ],
   "source": [
    "Audio(**audio.to_dict()).to_dict() == audio.to_dict()"
   ]
  },
  {
   "cell_type": "code",
   "execution_count": 5,
   "id": "0826587d-29b4-4d45-9fa9-75c31de82bb0",
   "metadata": {
    "tags": []
   },
   "outputs": [
    {
     "data": {
      "text/plain": [
       "{'pk': 1,\n",
       " 'duration': None,\n",
       " 'title': 'Claas erzählt von Hornzacke',\n",
       " 'subtitle': 'Aufgenommen im Kinderzimmer',\n",
       " 'data': {},\n",
       " 'm4a': '',\n",
       " 'mp3': 'cast_audio/2023-03-04_claas_erzaehlt_von_hornzacke.mp3',\n",
       " 'oga': '',\n",
       " 'opus': ''}"
      ]
     },
     "execution_count": 5,
     "metadata": {},
     "output_type": "execute_result"
    }
   ],
   "source": [
    "audio.to_dict()"
   ]
  },
  {
   "cell_type": "code",
   "execution_count": 25,
   "id": "e965f391-b687-47e0-9975-98c9a3bc069f",
   "metadata": {
    "tags": []
   },
   "outputs": [
    {
     "data": {
      "text/plain": [
       "['BlockNameLookup',\n",
       " 'RawDataView',\n",
       " 'StreamChild',\n",
       " '__abstractmethods__',\n",
       " '__annotations__',\n",
       " '__class__',\n",
       " '__class_getitem__',\n",
       " '__contains__',\n",
       " '__delattr__',\n",
       " '__delitem__',\n",
       " '__dict__',\n",
       " '__dir__',\n",
       " '__doc__',\n",
       " '__eq__',\n",
       " '__format__',\n",
       " '__ge__',\n",
       " '__getattribute__',\n",
       " '__getitem__',\n",
       " '__getstate__',\n",
       " '__gt__',\n",
       " '__hash__',\n",
       " '__html__',\n",
       " '__iadd__',\n",
       " '__init__',\n",
       " '__init_subclass__',\n",
       " '__iter__',\n",
       " '__le__',\n",
       " '__len__',\n",
       " '__lt__',\n",
       " '__module__',\n",
       " '__ne__',\n",
       " '__new__',\n",
       " '__reduce__',\n",
       " '__reduce_ex__',\n",
       " '__repr__',\n",
       " '__reversed__',\n",
       " '__setattr__',\n",
       " '__setitem__',\n",
       " '__sizeof__',\n",
       " '__slots__',\n",
       " '__str__',\n",
       " '__subclasshook__',\n",
       " '__weakref__',\n",
       " '_abc_impl',\n",
       " '_bound_blocks',\n",
       " '_construct_stream_child',\n",
       " '_deserialize_pickle_value',\n",
       " '_prefetch_blocks',\n",
       " '_raw_data',\n",
       " '_stream_field',\n",
       " 'append',\n",
       " 'blocks_by_name',\n",
       " 'clear',\n",
       " 'count',\n",
       " 'extend',\n",
       " 'first_block_by_name',\n",
       " 'get_prep_value',\n",
       " 'index',\n",
       " 'insert',\n",
       " 'is_lazy',\n",
       " 'pop',\n",
       " 'raw_data',\n",
       " 'raw_text',\n",
       " 'remove',\n",
       " 'render_as_block',\n",
       " 'reverse',\n",
       " 'stream_block']"
      ]
     },
     "execution_count": 25,
     "metadata": {},
     "output_type": "execute_result"
    }
   ],
   "source": [
    "dir(post.body)"
   ]
  },
  {
   "cell_type": "code",
   "execution_count": 27,
   "id": "4e44cbe5-84fc-4dcc-a7f3-a3bdc0e95267",
   "metadata": {
    "tags": []
   },
   "outputs": [
    {
     "data": {
      "text/plain": [
       "{'baz', 'foo'}"
      ]
     },
     "execution_count": 27,
     "metadata": {},
     "output_type": "execute_result"
    }
   ],
   "source": [
    "set({\"foo\": \"bar\", \"baz\": \"blub\"})"
   ]
  },
  {
   "cell_type": "code",
   "execution_count": null,
   "id": "64bcdc4c-9f73-4d6f-8275-c3985580392d",
   "metadata": {},
   "outputs": [],
   "source": []
  }
 ],
 "metadata": {
  "kernelspec": {
   "display_name": "Django Kernel",
   "language": "python",
   "name": "django_extensions"
  },
  "language_info": {
   "codemirror_mode": {
    "name": "ipython",
    "version": 3
   },
   "file_extension": ".py",
   "mimetype": "text/x-python",
   "name": "python",
   "nbconvert_exporter": "python",
   "pygments_lexer": "ipython3",
   "version": "3.12.2"
  }
 },
 "nbformat": 4,
 "nbformat_minor": 5
}
