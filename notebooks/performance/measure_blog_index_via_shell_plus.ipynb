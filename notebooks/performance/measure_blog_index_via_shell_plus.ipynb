{
 "cells": [
  {
   "cell_type": "code",
   "execution_count": 16,
   "id": "8b06ea55-a3b3-4364-a7c9-8fdf30218da9",
   "metadata": {
    "tags": []
   },
   "outputs": [],
   "source": [
    "from time import time\n",
    "from django.test.client import RequestFactory\n",
    "from cast.cache import PagedPostData\n",
    "\n",
    "\n",
    "def render_blog_index():\n",
    "    blog_slug = \"das_claas_und_nora_blog\"\n",
    "    blog = Blog.objects.get(slug=blog_slug)\n",
    "    request_factory = RequestFactory()\n",
    "    request = request_factory.get(blog.get_url())\n",
    "    request.htmx = False\n",
    "    start = time()\n",
    "    cachable_data = PagedPostData.data_for_blog_index_cachable(request=request, blog=blog)\n",
    "    paged_post_data = PagedPostData.create_from_cachable_data(data=cachable_data)\n",
    "    response = blog.serve(request, post_data=paged_post_data).render()\n",
    "    stop = time()\n",
    "    print(\"len content: \", len(response.content))\n",
    "    print(\"time: \", stop - start)\n",
    "    "
   ]
  },
  {
   "cell_type": "code",
   "execution_count": 17,
   "id": "6af79002-621a-47a1-9840-2b6a4ed25a38",
   "metadata": {
    "tags": []
   },
   "outputs": [],
   "source": [
    "from time import time\n",
    "from django.test.client import RequestFactory\n",
    "from cast.cache import PagedPostData\n",
    "\n",
    "\n",
    "def render_blog_index():\n",
    "    blog_slug = \"das_claas_und_nora_blog\"\n",
    "    blog = Blog.objects.get(slug=blog_slug)\n",
    "    request_factory = RequestFactory()\n",
    "    request = request_factory.get(blog.get_url())\n",
    "    request.htmx = False\n",
    "    start = time()\n",
    "    response = blog.serve(request).render()\n",
    "    stop = time()\n",
    "    print(\"len content: \", len(response.content))\n",
    "    print(\"time: \", stop - start)\n"
   ]
  },
  {
   "cell_type": "code",
   "execution_count": 15,
   "id": "a0aea421-f24c-41bd-b4c9-667e15ba5e90",
   "metadata": {
    "tags": []
   },
   "outputs": [],
   "source": [
    "from time import time\n",
    "\n",
    "from django.test.client import RequestFactory\n",
    "\n",
    "from cast.cache import PagedPostData"
   ]
  },
  {
   "cell_type": "code",
   "execution_count": 8,
   "id": "5bd27be4-072c-4756-b03d-62cc1505a171",
   "metadata": {
    "tags": []
   },
   "outputs": [],
   "source": [
    "def render_blog_index(request, blog):\n",
    "    start = time()\n",
    "    cachable_data = PagedPostData.data_for_blog_index_cachable(request=request, blog=blog)\n",
    "    paged_post_data = PagedPostData.create_from_cachable_data(data=cachable_data)\n",
    "    response = blog.serve(request, post_data=paged_post_data).render()\n",
    "    stop = time()\n",
    "    print(\"len content: \", len(response.content))\n",
    "    print(\"time: \", stop - start)"
   ]
  },
  {
   "cell_type": "code",
   "execution_count": 9,
   "id": "f3fe05b2-d891-4bf9-8252-44bf7923c822",
   "metadata": {
    "tags": []
   },
   "outputs": [],
   "source": [
    "blog_slug = \"das_claas_und_nora_blog\"\n",
    "blog = Blog.objects.get(slug=blog_slug)\n",
    "request_factory = RequestFactory()"
   ]
  },
  {
   "cell_type": "code",
   "execution_count": 10,
   "id": "2295fa15-3971-45a2-932d-3e8864de7043",
   "metadata": {
    "tags": []
   },
   "outputs": [
    {
     "name": "stdout",
     "output_type": "stream",
     "text": [
      "len content:  110214\n",
      "time:  0.2321488857269287\n"
     ]
    }
   ],
   "source": [
    "request = request_factory.get(blog.get_url())\n",
    "request.htmx = False\n",
    "render_blog_index(request, blog)"
   ]
  },
  {
   "cell_type": "code",
   "execution_count": 14,
   "id": "f24805ae-c290-4271-b6b5-6712899cd9ba",
   "metadata": {
    "tags": []
   },
   "outputs": [
    {
     "data": {
      "text/plain": [
       "'http://testserver/blogs/das_claas_und_nora_blog/'"
      ]
     },
     "execution_count": 14,
     "metadata": {},
     "output_type": "execute_result"
    }
   ],
   "source": [
    "request.build_absolute_uri()"
   ]
  },
  {
   "cell_type": "code",
   "execution_count": null,
   "id": "71940d0d-2a90-4b83-b974-9edbaec14d52",
   "metadata": {},
   "outputs": [],
   "source": []
  }
 ],
 "metadata": {
  "kernelspec": {
   "display_name": "Django Kernel",
   "language": "python",
   "name": "django_extensions"
  },
  "language_info": {
   "codemirror_mode": {
    "name": "ipython",
    "version": 3
   },
   "file_extension": ".py",
   "mimetype": "text/x-python",
   "name": "python",
   "nbconvert_exporter": "python",
   "pygments_lexer": "ipython3",
   "version": "3.12.2"
  }
 },
 "nbformat": 4,
 "nbformat_minor": 5
}
