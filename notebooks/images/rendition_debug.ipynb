{
 "cells": [
  {
   "cell_type": "code",
   "execution_count": 1,
   "id": "8a664f80-6b3d-44a7-b11c-7eaced8b39a6",
   "metadata": {
    "tags": []
   },
   "outputs": [],
   "source": [
    "import sqlparse\n",
    "\n",
    "from django.db import connection, reset_queries\n",
    "\n",
    "from wagtail.images.models import Image\n",
    "\n",
    "from cast import appsettings as settings\n",
    "from cast.renditions import Rectangle, Width, Height, RenditionFilters"
   ]
  },
  {
   "cell_type": "code",
   "execution_count": 2,
   "id": "0c1d8e23-7f21-4580-aee8-fc3df989d2dd",
   "metadata": {
    "tags": []
   },
   "outputs": [],
   "source": [
    "post = Post.objects.get(slug=\"november-2023-11-13\")"
   ]
  },
  {
   "cell_type": "code",
   "execution_count": 3,
   "id": "c9a75416-8705-4ad3-8be6-94e758065ea1",
   "metadata": {
    "tags": []
   },
   "outputs": [],
   "source": [
    "rendition = post.get_all_renditions().first()"
   ]
  },
  {
   "cell_type": "code",
   "execution_count": 4,
   "id": "c0ac33a8-96af-478b-91e6-07c3a33283a5",
   "metadata": {
    "tags": []
   },
   "outputs": [
    {
     "data": {
      "text/plain": [
       "'width-1110|format-avif'"
      ]
     },
     "execution_count": 4,
     "metadata": {},
     "output_type": "execute_result"
    }
   ],
   "source": [
    "rendition.filter_spec"
   ]
  },
  {
   "cell_type": "code",
   "execution_count": 5,
   "id": "64d774c5-8d96-4e24-ae4b-aafc4199817d",
   "metadata": {
    "tags": []
   },
   "outputs": [],
   "source": [
    "renditions = post.get_all_renditions()"
   ]
  },
  {
   "cell_type": "code",
   "execution_count": 6,
   "id": "619ba78c-3926-4ae8-b54d-ad696c3a45db",
   "metadata": {
    "tags": []
   },
   "outputs": [
    {
     "data": {
      "text/plain": [
       "238"
      ]
     },
     "execution_count": 6,
     "metadata": {},
     "output_type": "execute_result"
    }
   ],
   "source": [
    "renditions.count()"
   ]
  },
  {
   "cell_type": "code",
   "execution_count": 7,
   "id": "9f1a83a5-4f09-4eff-a6cb-9e29f9e9cbfa",
   "metadata": {
    "tags": []
   },
   "outputs": [
    {
     "data": {
      "text/plain": [
       "[('image', <Image: Nora beim Kinderarzt>),\n",
       " ('gallery', <Image: Nora mit Laterne im Kinderwagen>),\n",
       " ('gallery', <Image: Der Kita-Martinsumzug geht gleich los>),\n",
       " ('gallery', <Image: Der Kita-Martinsumzug geht jetzt wirklich gleich los>),\n",
       " ('gallery', <Image: Nora mit Jasmin auf der Bank>),\n",
       " ('gallery', <Image: Claas Klasse geht zur Martinsfeier in der Schule>),\n",
       " ('gallery', <Image: Nora mit Laterne auf dem Schulhof>),\n",
       " ('gallery', <Image: Martinsfeier in der Schule>),\n",
       " ('gallery', <Image: Puppentheater am Staufenplatz>),\n",
       " ('gallery', <Image: Nora und Claas und das Neinhorn>),\n",
       " ('gallery', <Image: Nora Claas und das Neinhorn nochmal>),\n",
       " ('gallery',\n",
       "  <Image: Claas, Leander und Carl klettern auf einer Kletterspinne>),\n",
       " ('gallery',\n",
       "  <Image: Claas, Leander und Carl klettern immer noch auf der Kletterspinne>)]"
      ]
     },
     "execution_count": 7,
     "metadata": {},
     "output_type": "execute_result"
    }
   ],
   "source": [
    "Post.objects.get_images_for_posts(Post.objects.filter(slug=\"november-2023-11-13\"))"
   ]
  },
  {
   "cell_type": "code",
   "execution_count": 8,
   "id": "57aaf950-3f22-4cf0-a9c5-19820b7b530e",
   "metadata": {
    "tags": []
   },
   "outputs": [],
   "source": [
    "images = Post.objects.get_images_for_posts(Post.objects.all())"
   ]
  },
  {
   "cell_type": "code",
   "execution_count": 9,
   "id": "96ba2f9c-6596-4cf7-b794-a38df6adf457",
   "metadata": {
    "tags": []
   },
   "outputs": [
    {
     "data": {
      "text/plain": [
       "2006"
      ]
     },
     "execution_count": 9,
     "metadata": {},
     "output_type": "execute_result"
    }
   ],
   "source": [
    "len(images)"
   ]
  },
  {
   "cell_type": "markdown",
   "id": "92423d62-25a8-458c-a077-af7f17bc1ec1",
   "metadata": {},
   "source": [
    "# Get all filter strings for images"
   ]
  },
  {
   "cell_type": "code",
   "execution_count": 3,
   "id": "ae9c1c44-370b-4254-82ec-2f8f87d5da3b",
   "metadata": {
    "tags": []
   },
   "outputs": [],
   "source": [
    "def count_queries(func):\n",
    "    reset_queries()\n",
    "    renditions = list(func())\n",
    "    return len(connection.queries)\n",
    "\n",
    "\n",
    "def show_queries(queries):\n",
    "    for query in queries:\n",
    "        formatted_sql = sqlparse.format(query['sql'], reindent=True, keyword_case='upper')\n",
    "        print(formatted_sql)    \n"
   ]
  },
  {
   "cell_type": "code",
   "execution_count": 4,
   "id": "3c4c5f94-ed7e-41a9-a39c-830a13f8018a",
   "metadata": {
    "tags": []
   },
   "outputs": [
    {
     "name": "stdout",
     "output_type": "stream",
     "text": [
      "4\n",
      "CPU times: user 85.3 ms, sys: 8.21 ms, total: 93.5 ms\n",
      "Wall time: 111 ms\n"
     ]
    }
   ],
   "source": [
    "%%time\n",
    "reset_queries()\n",
    "posts_queryset = Post.objects.prefetch_related(\"images\", \"galleries__images\")\n",
    "images = []\n",
    "for post in posts_queryset:\n",
    "    for image_type, image in post.get_all_images():\n",
    "        images.append((image_type, image))\n",
    "print(len(connection.queries))\n",
    "#show_queries(connection.queries)"
   ]
  },
  {
   "cell_type": "code",
   "execution_count": 5,
   "id": "5d38a26d-c8c2-4498-908a-b3003d9b91b7",
   "metadata": {
    "tags": []
   },
   "outputs": [
    {
     "name": "stdout",
     "output_type": "stream",
     "text": [
      "4\n",
      "CPU times: user 122 ms, sys: 16.3 ms, total: 139 ms\n",
      "Wall time: 155 ms\n"
     ]
    }
   ],
   "source": [
    "%%time\n",
    "reset_queries()\n",
    "images = Post.objects.get_images_for_posts(Post.objects.all())\n",
    "print(len(connection.queries))\n",
    "# show_queries(connection.queries)"
   ]
  },
  {
   "cell_type": "code",
   "execution_count": 13,
   "id": "ec84ac96-1259-4967-9aa8-b61b4a18ab12",
   "metadata": {
    "tags": []
   },
   "outputs": [],
   "source": [
    "[slot] = [Rectangle(Width(w), Height(h)) for w, h in settings.CAST_REGULAR_IMAGE_SLOT_DIMENSIONS]\n",
    "image_formats = settings.CAST_IMAGE_FORMATS\n",
    "all_filters = []\n",
    "for image in post.images.all():\n",
    "    rendition_filters = RenditionFilters.from_wagtail_image(image=image, slots=[slot], image_formats=image_formats)\n",
    "    all_filters.extend(rendition_filters.filter_strings)"
   ]
  },
  {
   "cell_type": "code",
   "execution_count": 14,
   "id": "27b517fc-4c7d-4aed-bf3c-39950ceeea43",
   "metadata": {
    "tags": []
   },
   "outputs": [
    {
     "ename": "NameError",
     "evalue": "name 'rendition_filter_strings' is not defined",
     "output_type": "error",
     "traceback": [
      "\u001b[0;31m---------------------------------------------------------------------------\u001b[0m",
      "\u001b[0;31mNameError\u001b[0m                                 Traceback (most recent call last)",
      "Cell \u001b[0;32mIn[14], line 1\u001b[0m\n\u001b[0;32m----> 1\u001b[0m \u001b[43mrendition_filter_strings\u001b[49m\n",
      "\u001b[0;31mNameError\u001b[0m: name 'rendition_filter_strings' is not defined"
     ]
    }
   ],
   "source": [
    "rendition_filter_strings"
   ]
  },
  {
   "cell_type": "code",
   "execution_count": 35,
   "id": "df75af82-bd74-4470-bfe7-ad012c405522",
   "metadata": {
    "tags": []
   },
   "outputs": [
    {
     "data": {
      "text/plain": [
       "1"
      ]
     },
     "execution_count": 35,
     "metadata": {},
     "output_type": "execute_result"
    }
   ],
   "source": [
    "post.images.count()"
   ]
  },
  {
   "cell_type": "code",
   "execution_count": 36,
   "id": "2caec1d5-9e3a-4fe7-a450-6945cd984688",
   "metadata": {
    "tags": []
   },
   "outputs": [
    {
     "data": {
      "text/plain": [
       "2033"
      ]
     },
     "execution_count": 36,
     "metadata": {},
     "output_type": "execute_result"
    }
   ],
   "source": [
    "Image.objects.count()"
   ]
  },
  {
   "cell_type": "code",
   "execution_count": 37,
   "id": "56779220-c5a0-49a8-a53a-a05c723c5160",
   "metadata": {
    "tags": []
   },
   "outputs": [
    {
     "data": {
      "text/plain": [
       "<QuerySet [<Rendition: Rendition object (30465)>, <Rendition: Rendition object (30466)>, <Rendition: Rendition object (30467)>, <Rendition: Rendition object (30468)>, <Rendition: Rendition object (30469)>, <Rendition: Rendition object (30470)>, <Rendition: Rendition object (30471)>, <Rendition: Rendition object (30472)>, <Rendition: Rendition object (30473)>, <Rendition: Rendition object (30474)>, <Rendition: Rendition object (30475)>, <Rendition: Rendition object (30476)>, <Rendition: Rendition object (30477)>, <Rendition: Rendition object (30478)>, <Rendition: Rendition object (30479)>, <Rendition: Rendition object (30480)>, <Rendition: Rendition object (30481)>, <Rendition: Rendition object (30482)>, <Rendition: Rendition object (30483)>, <Rendition: Rendition object (30484)>, '...(remaining elements truncated)...']>"
      ]
     },
     "execution_count": 37,
     "metadata": {},
     "output_type": "execute_result"
    }
   ],
   "source": [
    "Rendition.objects.filter(image__in=Image.objects.filter(gallery__in=post.galleries.all()).union(post.images.all()).values_list(\"pk\", flat=True))"
   ]
  },
  {
   "cell_type": "code",
   "execution_count": 38,
   "id": "58a658ba-25ec-42d0-86aa-1eb37bb03d99",
   "metadata": {
    "tags": []
   },
   "outputs": [],
   "source": [
    "images = []\n",
    "qs = post.galleries.all().prefetch_related(\"images\")\n",
    "for gallery in qs:\n",
    "    for image in gallery.images.all():\n",
    "        images.append(image)"
   ]
  },
  {
   "cell_type": "code",
   "execution_count": 39,
   "id": "f2f4ed16-fd65-4002-b223-c74b43ae22a0",
   "metadata": {
    "tags": []
   },
   "outputs": [
    {
     "data": {
      "text/plain": [
       "12"
      ]
     },
     "execution_count": 39,
     "metadata": {},
     "output_type": "execute_result"
    }
   ],
   "source": [
    "len(images)"
   ]
  },
  {
   "cell_type": "code",
   "execution_count": 40,
   "id": "a7f702b9-545b-4bda-b398-7237cb0680d8",
   "metadata": {
    "tags": []
   },
   "outputs": [
    {
     "name": "stdout",
     "output_type": "stream",
     "text": [
      "2\n",
      "SELECT \"cast_gallery\".\"id\",\n",
      "       \"cast_gallery\".\"created\",\n",
      "       \"cast_gallery\".\"modified\"\n",
      "FROM \"cast_gallery\"\n",
      "INNER JOIN \"cast_post_galleries\" ON (\"cast_gallery\".\"id\" = \"cast_post_galleries\".\"gallery_id\")\n",
      "WHERE \"cast_post_galleries\".\"post_id\" = 480\n",
      "SELECT (\"cast_gallery_images\".\"gallery_id\") AS \"_prefetch_related_val_gallery_id\",\n",
      "       \"wagtailimages_image\".\"id\",\n",
      "       \"wagtailimages_image\".\"collection_id\",\n",
      "       \"wagtailimages_image\".\"title\",\n",
      "       \"wagtailimages_image\".\"file\",\n",
      "       \"wagtailimages_image\".\"width\",\n",
      "       \"wagtailimages_image\".\"height\",\n",
      "       \"wagtailimages_image\".\"created_at\",\n",
      "       \"wagtailimages_image\".\"uploaded_by_user_id\",\n",
      "       \"wagtailimages_image\".\"focal_point_x\",\n",
      "       \"wagtailimages_image\".\"focal_point_y\",\n",
      "       \"wagtailimages_image\".\"focal_point_width\",\n",
      "       \"wagtailimages_image\".\"focal_point_height\",\n",
      "       \"wagtailimages_image\".\"file_size\",\n",
      "       \"wagtailimages_image\".\"file_hash\"\n",
      "FROM \"wagtailimages_image\"\n",
      "INNER JOIN \"cast_gallery_images\" ON (\"wagtailimages_image\".\"id\" = \"cast_gallery_images\".\"image_id\")\n",
      "WHERE \"cast_gallery_images\".\"gallery_id\" IN (311,\n",
      "                                             312,\n",
      "                                             313)\n"
     ]
    }
   ],
   "source": [
    "reset_queries()\n",
    "images = []\n",
    "qs = post.galleries.all().prefetch_related(\"images\")\n",
    "for gallery in qs:\n",
    "    for image in gallery.images.all():\n",
    "        images.append(image)\n",
    "print(len(connection.queries))\n",
    "show_queries(connection.queries)"
   ]
  },
  {
   "cell_type": "markdown",
   "id": "3adaaf0e-aa53-46e6-8585-be3cdc275b94",
   "metadata": {},
   "source": [
    "# Prefetch?"
   ]
  },
  {
   "cell_type": "code",
   "execution_count": 41,
   "id": "a3c6e503-bca2-4fed-9764-4e81cf0886a2",
   "metadata": {
    "tags": []
   },
   "outputs": [
    {
     "data": {
      "text/plain": [
       "480"
      ]
     },
     "execution_count": 41,
     "metadata": {},
     "output_type": "execute_result"
    }
   ],
   "source": [
    "post.pk"
   ]
  },
  {
   "cell_type": "code",
   "execution_count": 42,
   "id": "7a1a8f6b-851e-459c-8e44-137a6343dbd8",
   "metadata": {
    "tags": []
   },
   "outputs": [],
   "source": [
    "from django.db.models import Prefetch"
   ]
  },
  {
   "cell_type": "code",
   "execution_count": 19,
   "id": "f207f726-e81d-46f6-9beb-1ee950521ca7",
   "metadata": {
    "tags": []
   },
   "outputs": [],
   "source": [
    "prefetch_direct_images = Prefetch(\"images\", queryset=Image.objects.all())\n",
    "prefetch_gallery_images = Prefetch(\"galleries__images\", queryset=Image.objects.all())\n",
    "posts = Post.objects.all().prefetch_related(prefetch_direct_images, prefetch_gallery_images)"
   ]
  },
  {
   "cell_type": "code",
   "execution_count": 20,
   "id": "0b9f3c6b-aea5-4373-bffb-f17b975fa7ae",
   "metadata": {
    "tags": []
   },
   "outputs": [],
   "source": [
    "def get_images_from_posts(posts):\n",
    "    images = []\n",
    "    for post in posts:\n",
    "        for image in post.images.all():\n",
    "            images.append((\"image\", image))\n",
    "        for gallery in post.galleries.all():\n",
    "            for image in gallery.images.all():\n",
    "                images.append((\"gallery\", image))\n",
    "    return images"
   ]
  },
  {
   "cell_type": "code",
   "execution_count": 21,
   "id": "9c340baf-d655-48ba-b10d-b0ad85ed5deb",
   "metadata": {
    "tags": []
   },
   "outputs": [
    {
     "name": "stdout",
     "output_type": "stream",
     "text": [
      "4\n",
      "CPU times: user 86.6 ms, sys: 5.82 ms, total: 92.4 ms\n",
      "Wall time: 108 ms\n"
     ]
    }
   ],
   "source": [
    "%%time\n",
    "reset_queries()\n",
    "images = get_images_from_posts(posts)\n",
    "print(len(connection.queries))\n",
    "#show_queries(connection.queries)"
   ]
  },
  {
   "cell_type": "markdown",
   "id": "137a1506-aa0d-4022-a5bf-3d3f0c85cb7a",
   "metadata": {},
   "source": [
    "# Improved version"
   ]
  },
  {
   "cell_type": "code",
   "execution_count": 25,
   "id": "2f337f94-8005-46b5-a819-da5db69ff1e0",
   "metadata": {
    "tags": []
   },
   "outputs": [],
   "source": [
    "prefetch_direct_images = Prefetch(\"images\", queryset=Image.objects.all())\n",
    "prefetch_gallery_images = Prefetch(\"galleries__images\", queryset=Image.objects.all(), to_attr='gallery_images')\n",
    "posts = Post.objects.all().prefetch_related(prefetch_direct_images, prefetch_gallery_images)\n",
    "\n",
    "def get_images_from_posts(posts):\n",
    "    images = []\n",
    "    for post in posts:\n",
    "        # Direct images\n",
    "        for image in post.images.all():\n",
    "            images.append((\"image\", image))\n",
    "\n",
    "        # Gallery images (using to_attr)\n",
    "        for gallery in post.galleries.all():\n",
    "            for image in getattr(gallery, 'gallery_images', []):\n",
    "                images.append((\"gallery\", image))\n",
    "\n",
    "    return images"
   ]
  },
  {
   "cell_type": "code",
   "execution_count": 26,
   "id": "573d4fa9-cc77-4fb6-ac8f-b928465506d0",
   "metadata": {
    "tags": []
   },
   "outputs": [
    {
     "name": "stdout",
     "output_type": "stream",
     "text": [
      "4\n",
      "CPU times: user 66.6 ms, sys: 2.49 ms, total: 69.1 ms\n",
      "Wall time: 79.9 ms\n"
     ]
    }
   ],
   "source": [
    "%%time\n",
    "reset_queries()\n",
    "images = get_images_from_posts(posts)\n",
    "print(len(connection.queries))\n",
    "#show_queries(connection.queries)"
   ]
  },
  {
   "cell_type": "markdown",
   "id": "3705fa97-2f8a-4636-b22e-7e08fa447a7b",
   "metadata": {},
   "source": [
    "# Much simpler"
   ]
  },
  {
   "cell_type": "code",
   "execution_count": 28,
   "id": "281b188a-39c8-43c8-944c-74e44d79067d",
   "metadata": {
    "tags": []
   },
   "outputs": [],
   "source": [
    "def get_images_from_posts(posts):\n",
    "    images = []\n",
    "    for post in posts:\n",
    "        for image in post.images.all():\n",
    "            images.append((\"image\", image))\n",
    "        for gallery in post.galleries.all():\n",
    "            for image in gallery.images.all():\n",
    "                images.append((\"gallery\", image))\n",
    "    return images"
   ]
  },
  {
   "cell_type": "code",
   "execution_count": 29,
   "id": "5d2427df-2d9e-4fe4-b637-06c9a54620b5",
   "metadata": {
    "tags": []
   },
   "outputs": [],
   "source": [
    "posts = Post.objects.all().prefetch_related(\"galleries__images\", \"images\")"
   ]
  },
  {
   "cell_type": "code",
   "execution_count": 30,
   "id": "f911ac59-f9db-4d80-9223-bfe0dc2d60e2",
   "metadata": {
    "tags": []
   },
   "outputs": [
    {
     "name": "stdout",
     "output_type": "stream",
     "text": [
      "4\n",
      "CPU times: user 151 ms, sys: 4.45 ms, total: 156 ms\n",
      "Wall time: 173 ms\n"
     ]
    }
   ],
   "source": [
    "%%time\n",
    "reset_queries()\n",
    "images = get_images_from_posts(posts)\n",
    "print(len(connection.queries))\n",
    "#show_queries(connection.queries)"
   ]
  },
  {
   "cell_type": "code",
   "execution_count": null,
   "id": "46a08f1c-5fb2-4bcc-92bd-df768add885d",
   "metadata": {},
   "outputs": [],
   "source": []
  }
 ],
 "metadata": {
  "kernelspec": {
   "display_name": "Django Kernel",
   "language": "python",
   "name": "django_extensions"
  },
  "language_info": {
   "codemirror_mode": {
    "name": "ipython",
    "version": 3
   },
   "file_extension": ".py",
   "mimetype": "text/x-python",
   "name": "python",
   "nbconvert_exporter": "python",
   "pygments_lexer": "ipython3",
   "version": "3.12.0"
  }
 },
 "nbformat": 4,
 "nbformat_minor": 5
}
