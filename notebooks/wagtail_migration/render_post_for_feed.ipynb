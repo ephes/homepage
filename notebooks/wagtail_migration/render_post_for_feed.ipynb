{
 "cells": [
  {
   "cell_type": "code",
   "execution_count": 10,
   "id": "cffc16a1-2196-4ea3-8f82-df5596b211ed",
   "metadata": {},
   "outputs": [],
   "source": [
    "from django.test import RequestFactory"
   ]
  },
  {
   "cell_type": "code",
   "execution_count": 1,
   "id": "5ec48a60-842b-4a92-827a-406630f75714",
   "metadata": {},
   "outputs": [],
   "source": [
    "POST_BODY_TEMPLATE = \"cast/post_body.html\""
   ]
  },
  {
   "cell_type": "code",
   "execution_count": 3,
   "id": "38270212-2ea9-4da7-8af2-385b50a7593a",
   "metadata": {},
   "outputs": [],
   "source": [
    "blog = Blog.objects.get(slug=\"ephes_blog\")"
   ]
  },
  {
   "cell_type": "code",
   "execution_count": 4,
   "id": "c8ca3313-8183-48e7-b25e-1cfb668f2294",
   "metadata": {},
   "outputs": [
    {
     "data": {
      "text/plain": [
       "'http://localhost/blogs/ephes_blog/'"
      ]
     },
     "execution_count": 4,
     "metadata": {},
     "output_type": "execute_result"
    }
   ],
   "source": [
    "blog.get_full_url()"
   ]
  },
  {
   "cell_type": "code",
   "execution_count": 5,
   "id": "48cec856-05b5-448a-ac12-373d47241709",
   "metadata": {},
   "outputs": [],
   "source": [
    "post = Post.objects.last()"
   ]
  },
  {
   "cell_type": "code",
   "execution_count": 6,
   "id": "fa3dca69-68c7-463a-8e4a-2130e2f7b7b6",
   "metadata": {},
   "outputs": [
    {
     "data": {
      "text/plain": [
       "'cast/post.html'"
      ]
     },
     "execution_count": 6,
     "metadata": {},
     "output_type": "execute_result"
    }
   ],
   "source": [
    "post.template"
   ]
  },
  {
   "cell_type": "code",
   "execution_count": 7,
   "id": "705bbfaf-3417-45f9-8f2e-7ea5ca973966",
   "metadata": {},
   "outputs": [],
   "source": [
    "post.template = POST_BODY_TEMPLATE"
   ]
  },
  {
   "cell_type": "code",
   "execution_count": 11,
   "id": "af68def3-bc23-47a5-9150-a15d132c892b",
   "metadata": {},
   "outputs": [],
   "source": [
    "factory = RequestFactory()\n",
    "request = factory.get(\"/blogs/ephes_blog/feed/rss.xml\")"
   ]
  },
  {
   "cell_type": "code",
   "execution_count": 21,
   "id": "3c7f117f-b3d2-4b1a-a796-ae3c1f31eb5c",
   "metadata": {},
   "outputs": [],
   "source": [
    "tr = post.serve(request, render_detail=True)"
   ]
  },
  {
   "cell_type": "code",
   "execution_count": 27,
   "id": "2e74bda0-4e12-475a-928d-67560c2919c6",
   "metadata": {},
   "outputs": [
    {
     "name": "stdout",
     "output_type": "stream",
     "text": [
      "'\\n\\n<article>\\n  <header>\\n    <h2>Weeknotes 2022-05-16</h2>\\n    <a href=\"/blogs/ephes_blog/weeknotes-2022-05-16/\">\\n      <time date-time=\"2022-05-16T00:00:00+00:00\">May 16, 2022</time>\\n    </a>\\n    <span class=\"author\">Jochen</span>\\n  </header>\\n  \\n    \\n      <section class=\"block-overview\">\\n        <div class=\"block-paragraph\"><p>Trying to export a HDR video from my phone led to unexpected results. The colors were really washed out and the video was slightly overexposured. Using&nbsp;<a href=\"https://handbrake.fr/\">HandBrake</a>&nbsp;I finally got a good looking mp4, but then someone uploaded this file to dropbox, and it looked bad for people downloading it from there. Strange.<br />\\r\\n<br />\\r\\nDocker Desktop on Mac just broke during update and I couldn&#39;t restart it. Had to re-download it. Wow, this is some next level brokenness.<br />\\r\\n<br />\\r\\nMy&nbsp;<a href=\"https://github.com/jupyterlab/jupyterlab/pull/12543\">PR to fix a bug in jupyterlab</a>&nbsp;was merged. I couldn&#39;t find a solution to the &quot;you cant mock a function which you call from another function in the same module&quot; problem. Instead&nbsp;<a href=\"https://github.com/fcollonval\">Fr&eacute;d&eacute;ric Collonval</a>&nbsp;circumvented the&nbsp;issue by using a&nbsp;<a href=\"https://github.com/jupyterlab/jupyterlab/blob/5c04fa6e8f8996608fa8d36be071d8d17a85a061/testutils/src/common.ts#L363\">test helper</a>&nbsp;that dismisses the openen dialog instead of trying to mock it, thanks a lot.</p>\\r\\n\\r\\n<h3>Articles</h3>\\r\\n\\r\\n<ul>\\r\\n\\t<li><a href=\"https://shezi.de/weeklogs/log-2022-05-08.html\">Johannes Weeklog</a></li>\\r\\n\\t<li><a href=\"https://ciechanow.ski/mechanical-watch/\">Mechanical Watch</a>&nbsp;| Really impressive animations</li>\\r\\n</ul>\\r\\n\\r\\n<h3>Twitter</h3>\\r\\n\\r\\n<ul>\\r\\n\\t<li><a href=\"https://twitter.com/jackbouroudjian/status/1523614645072044034?s=12&amp;t=SLzrUEFg_1eEoPoSMyKpTQ\">An entire generation of traders and investors have never experienced what we are about to see over the next few weeks. Buckle up buttercup!</a>&nbsp;| Yeah, well..</li>\\r\\n\\t<li><a href=\"https://twitter.com/lrvick/status/1523774962909298690?s=12&amp;t=xLO3SwvUpmcbgh14alznBg\">1. Buy expired NPM maintainer email domains -&gt; 2. ? -&gt; 3. Profit</a></li>\\r\\n\\t<li><a href=\"https://twitter.com/nedbat/status/1524008099375427584?s=12&amp;t=0gx6_w588EUyU6Rh6HmUkw\">Multiple loops can sometimes be replaced by one itertools.product() from the #python stdlib</a></li>\\r\\n\\t<li><a href=\"https://twitter.com/nedbat/status/1525476718160527362?s=12&amp;t=j-bI9RtMegV7O58flHyMiw\">Iterable unpacking (star in a #python list) makes a list from multiple iterables</a>&nbsp;| Those tutorial tweets from&nbsp;<a href=\"https://twitter.com/nedbat\" role=\"link\">Ned Batchelder</a>&nbsp;are really great</li>\\r\\n\\t<li><a href=\"https://twitter.com/carloswalross/status/1524513565490692099?s=12&amp;t=JhIT-NfGJ8dg2kopjwhZVQ\">Pictures of the public pension fund building CNPS (1967) in Yaound&eacute;</a></li>\\r\\n\\t<li><a href=\"https://twitter.com/fchollet/status/1524806024405733376\">Fran&ccedil;ois Chollet on the excessive math notation for simple concepts often used in ML</a>&nbsp;| Math notation is just another abstraction.&nbsp;For programming problems, actual programming languages might be a better fit. But people tent to view math notation as being closer to the real thing. Puzzles me.</li>\\r\\n\\t<li><a href=\"https://twitter.com/xkcd/status/1524497524391825409?s=12&amp;t=oxNm9hzs48oH17d_NwvbOg\">Raise your hand if you are familiar with selection bias</a>&nbsp;| 😏</li>\\r\\n\\t<li><a href=\"https://twitter.com/cherdarchuk/status/1525160488589414403?s=12&amp;t=EOv0L369g4CvPv35q8eUiw\">What is #dataviz animation good for? A thread with examples</a></li>\\r\\n\\t<li><a href=\"https://twitter.com/5t3ph/status/1525666700728868864?s=12&amp;t=5KFs2M1U-dh7e4j08A38Mg\">Twitter thread about an angled section</a></li>\\r\\n</ul>\\r\\n\\r\\n<h3>YouTube</h3>\\r\\n\\r\\n<ul>\\r\\n\\t<li><a href=\"https://youtube.com/playlist?list=PLHd2BPBhxqRKqmjd_L-CziP-Ui5gBvegF\">Videos for the PyCon DE &amp; PyData Berlin 2022 conference are up 🤩</a></li>\\r\\n\\t<li><a href=\"https://www.youtube.com/playlist?list=PL8ZzmQWppBBuMNlNqncVrNQgbWHPvfvkI\">Videos for beyond tellerrand - D&uuml;sseldorf 2022 are up, too 🥳</a></li>\\r\\n</ul>\\r\\n\\r\\n<h3>Software</h3>\\r\\n\\r\\n<ul>\\r\\n\\t<li><a href=\"https://fly.io/blog/all-in-on-sqlite-litestream/\">I&#39;m All-In on Server-Side SQLite</a>&nbsp;| Via Claudio</li>\\r\\n\\t<li><a href=\"https://edofic.com/posts/2022-01-28-low-js/\">How I fell in love with low-js</a>&nbsp;| Via Claudio</li>\\r\\n\\t<li><a href=\"https://www.b-list.org/weblog/2022/may/13/boring-python-dependencies/\">Boring Python: dependency management</a>&nbsp;| Pretty solid advise. I also use poetry, which unfortunately is not boring at all. And for packages I use flit instead of setup.py.&nbsp;</li>\\r\\n</ul>\\r\\n\\r\\n<h3>Papers</h3>\\r\\n\\r\\n<ul>\\r\\n\\t<li><a href=\"https://dl.acm.org/doi/pdf/10.5555/974938\">Note on Distributed Computing</a>&nbsp;| Someone posted this on a twitter thread discussing why <a href=\"https://htmx.org/essays/hateoas/\">HATEOAS</a> is a newer and more innovative concept than all this &quot;modern&quot; SPA solution being basically good old client/server/RPC&nbsp;architecture which attempted to compete with the web several times (CORBA, SOAP,&nbsp;etc), but failed each time.</li>\\r\\n</ul>\\r\\n\\r\\n<h3>Podcasts</h3>\\r\\n\\r\\n<ul>\\r\\n\\t<li><a href=\"https://lexfridman.com/david-buss/\">#282 &ndash; David Buss: Sex, Dating, Relationships, and Sex Differences</a>&nbsp;(<a href=\"https://lexfridman.com/podcast/\">Lex Fridman Podcast</a>) | Some nice anecdotes</li>\\r\\n\\t<li><a href=\"https://www.wasdenkstdudenn.de/2022/05/06/episode-127-ueben-ueben-ueben-ueber-koennen-nichtkoennen-und-den-weg-dazwischen/\">&Uuml;ber K&ouml;nnen, Nichtk&ouml;nnen und den Weg dazwischen</a>&nbsp;(<a href=\"https://www.wasdenkstdudenn.de\">Was denkst du denn?</a>)</li>\\r\\n\\t<li><a href=\"https://workingdraft.de/529/\">Revision 529: Richtig sch&auml;tzen</a>&nbsp;(<a href=\"https://workingdraft.de/\">Working Draft</a>) | Hmm, there are quite some areas where I would respectfully disagree. For example: This notion of avoiding to spend&nbsp;too much time on optimizing your code. In reviews I rarely see code that is &quot;too optimal&quot; or has &quot;too few bugs&quot;. In my experience people often say things like that when they mean&nbsp;to say: Optimizing this&nbsp;code is&nbsp;just not worth the effort. Which is a&nbsp;business&nbsp;decision. And if programmers make those decisions without telling a soul they make it impossible for the business to adapt (yes, this is bad). The same problem arises if you optimize for being correct on your estimations (good for you) by just doing small or simple stuff (bad for business).&nbsp; Of course, when your customer is never ever talking to you -&nbsp;maybe because it&#39;s&nbsp;a pharao resting peacefully in a pyramid - it might pay off to cut some corners 😉.</li>\\r\\n\\t<li><a href=\"https://www.programmier.bar/podcast/deep-dive-105-warum-java-fuer-die-cloud-so-gut-ist-mit-adam-bien\">Warum Java f&uuml;r die Cloud so gut ist, mit Adam Bien</a>&nbsp;(<a href=\"https://www.programmier.bar\">programmier.bar</a>) | Rather funny episode starting with the question: Why is Java so popular? Making a really long lived entity like a programming language (if successful) depend on a rather ephemeral entity like a company never resonated with me. Even before oracle hit the fan. But good marketing can do wonders. And I never got this whole serverless thing. The best explanation I saw&nbsp;is: serverless means pay by usage. Which might appeal&nbsp;to the needs of people coming from the host world, because hosts are so fucking expensive you have to be able to assign the blame. But there&#39;s a reason why hosts are dead. Personally I would prefer to make a service cheap enough you dont have to care instead of paying magnitudes more to be able to write more detailed bills. And there&#39;s always on premise, which I like&nbsp;too. But kubernetes and rancher being &quot;perfect for on premise&quot;? Wow, I think there&#39;s another marketing wonder in progress.</li>\\r\\n\\t<li><a href=\"https://wrint.de/2022/05/12/wr1362-ernergiespeicher-schwarze-loecher-und-sex/\">WR1362 Ernergiespeicher, Schwarze L&ouml;cher und Sex</a>&nbsp;(<a href=\"https://wrint.de/category/wissenschaft/\">WRINT Wissenschaf</a>)</li>\\r\\n\\t<li><a href=\"https://anchor.fm/sad-python-girls-club/episodes/Episode-1---Origin-Story-e1hlkmd\">Episode 1 - Origin Story</a>&nbsp;(<a href=\"https://anchor.fm/sad-python-girls-club\">Sad Python Girls Club</a>) | New Python Podcast 🤩, lets see how it goes..</li>\\r\\n</ul></div>\\n      </section>\\n    \\n  \\n</article>\\n'\n"
     ]
    }
   ],
   "source": [
    "print(repr(tr.rendered_content))"
   ]
  },
  {
   "cell_type": "code",
   "execution_count": 22,
   "id": "689de172-aee2-4b89-aa49-b71e0036dc13",
   "metadata": {},
   "outputs": [
    {
     "data": {
      "text/plain": [
       "['__bytes__',\n",
       " '__class__',\n",
       " '__contains__',\n",
       " '__delattr__',\n",
       " '__delitem__',\n",
       " '__dict__',\n",
       " '__dir__',\n",
       " '__doc__',\n",
       " '__eq__',\n",
       " '__format__',\n",
       " '__ge__',\n",
       " '__getattribute__',\n",
       " '__getitem__',\n",
       " '__getstate__',\n",
       " '__gt__',\n",
       " '__hash__',\n",
       " '__init__',\n",
       " '__init_subclass__',\n",
       " '__iter__',\n",
       " '__le__',\n",
       " '__lt__',\n",
       " '__module__',\n",
       " '__ne__',\n",
       " '__new__',\n",
       " '__reduce__',\n",
       " '__reduce_ex__',\n",
       " '__repr__',\n",
       " '__setattr__',\n",
       " '__setitem__',\n",
       " '__sizeof__',\n",
       " '__str__',\n",
       " '__subclasshook__',\n",
       " '__weakref__',\n",
       " '_charset',\n",
       " '_container',\n",
       " '_content_type_for_repr',\n",
       " '_handler_class',\n",
       " '_is_rendered',\n",
       " '_post_render_callbacks',\n",
       " '_reason_phrase',\n",
       " '_request',\n",
       " '_resource_closers',\n",
       " 'add_post_render_callback',\n",
       " 'charset',\n",
       " 'close',\n",
       " 'closed',\n",
       " 'content',\n",
       " 'context_data',\n",
       " 'cookies',\n",
       " 'delete_cookie',\n",
       " 'flush',\n",
       " 'get',\n",
       " 'getvalue',\n",
       " 'has_header',\n",
       " 'headers',\n",
       " 'is_rendered',\n",
       " 'items',\n",
       " 'make_bytes',\n",
       " 'readable',\n",
       " 'reason_phrase',\n",
       " 'render',\n",
       " 'rendered_content',\n",
       " 'rendering_attrs',\n",
       " 'resolve_context',\n",
       " 'resolve_template',\n",
       " 'seekable',\n",
       " 'serialize',\n",
       " 'serialize_headers',\n",
       " 'set_cookie',\n",
       " 'set_signed_cookie',\n",
       " 'setdefault',\n",
       " 'status_code',\n",
       " 'streaming',\n",
       " 'tell',\n",
       " 'template_name',\n",
       " 'using',\n",
       " 'writable',\n",
       " 'write',\n",
       " 'writelines']"
      ]
     },
     "execution_count": 22,
     "metadata": {},
     "output_type": "execute_result"
    }
   ],
   "source": [
    "dir(tr)"
   ]
  },
  {
   "cell_type": "code",
   "execution_count": 13,
   "id": "b649a64b-2b97-4063-bbd6-ac896e0f29ca",
   "metadata": {},
   "outputs": [
    {
     "data": {
      "text/plain": [
       "'\\n\\n<article>\\n  <header>\\n    <h2>Weeknotes 2022-05-16</h2>\\n    <a href=\"/blogs/ephes_blog/weeknotes-2022-05-16/\">\\n      <time date-time=\"2022-05-16T00:00:00+00:00\">May 16, 2022</time>\\n    </a>\\n    <span class=\"author\">Jochen</span>\\n  </header>\\n  \\n    \\n      <section class=\"block-overview\">\\n        <div class=\"block-paragraph\"><p>Trying to export a HDR video from my phone led to unexpected results. The colors were really washed out and the video was slightly overexposured. Using&nbsp;<a href=\"https://handbrake.fr/\">HandBrake</a>&nbsp;I finally got a good looking mp4, but then someone uploaded this file to dropbox, and it looked bad for people downloading it from there. Strange.<br />\\r\\n<br />\\r\\nDocker Desktop on Mac just broke during update and I couldn&#39;t restart it. Had to re-download it. Wow, this is some next level brokenness.<br />\\r\\n<br />\\r\\nMy&nbsp;<a href=\"https://github.com/jupyterlab/jupyterlab/pull/12543\">PR to fix a bug in jupyterlab</a>&nbsp;was merged. I couldn&#39;t find a solution to the &quot;you cant mock a function which you call from another function in the same module&quot; problem. Instead&nbsp;<a href=\"https://github.com/fcollonval\">Fr&eacute;d&eacute;ric Collonval</a>&nbsp;circumvented the&nbsp;issue by using a&nbsp;<a href=\"https://github.com/jupyterlab/jupyterlab/blob/5c04fa6e8f8996608fa8d36be071d8d17a85a061/testutils/src/common.ts#L363\">test helper</a>&nbsp;that dismisses the openen dialog instead of trying to mock it, thanks a lot.</p>\\r\\n\\r\\n<h3>Articles</h3>\\r\\n\\r\\n<ul>\\r\\n\\t<li><a href=\"https://shezi.de/weeklogs/log-2022-05-08.html\">Johannes Weeklog</a></li>\\r\\n\\t<li><a href=\"https://ciechanow.ski/mechanical-watch/\">Mechanical Watch</a>&nbsp;| Really impressive animations</li>\\r\\n</ul>\\r\\n\\r\\n<h3>Twitter</h3>\\r\\n\\r\\n<ul>\\r\\n\\t<li><a href=\"https://twitter.com/jackbouroudjian/status/1523614645072044034?s=12&amp;t=SLzrUEFg_1eEoPoSMyKpTQ\">An entire generation of traders and investors have never experienced what we are about to see over the next few weeks. Buckle up buttercup!</a>&nbsp;| Yeah, well..</li>\\r\\n\\t<li><a href=\"https://twitter.com/lrvick/status/1523774962909298690?s=12&amp;t=xLO3SwvUpmcbgh14alznBg\">1. Buy expired NPM maintainer email domains -&gt; 2. ? -&gt; 3. Profit</a></li>\\r\\n\\t<li><a href=\"https://twitter.com/nedbat/status/1524008099375427584?s=12&amp;t=0gx6_w588EUyU6Rh6HmUkw\">Multiple loops can sometimes be replaced by one itertools.product() from the #python stdlib</a></li>\\r\\n\\t<li><a href=\"https://twitter.com/nedbat/status/1525476718160527362?s=12&amp;t=j-bI9RtMegV7O58flHyMiw\">Iterable unpacking (star in a #python list) makes a list from multiple iterables</a>&nbsp;| Those tutorial tweets from&nbsp;<a href=\"https://twitter.com/nedbat\" role=\"link\">Ned Batchelder</a>&nbsp;are really great</li>\\r\\n\\t<li><a href=\"https://twitter.com/carloswalross/status/1524513565490692099?s=12&amp;t=JhIT-NfGJ8dg2kopjwhZVQ\">Pictures of the public pension fund building CNPS (1967) in Yaound&eacute;</a></li>\\r\\n\\t<li><a href=\"https://twitter.com/fchollet/status/1524806024405733376\">Fran&ccedil;ois Chollet on the excessive math notation for simple concepts often used in ML</a>&nbsp;| Math notation is just another abstraction.&nbsp;For programming problems, actual programming languages might be a better fit. But people tent to view math notation as being closer to the real thing. Puzzles me.</li>\\r\\n\\t<li><a href=\"https://twitter.com/xkcd/status/1524497524391825409?s=12&amp;t=oxNm9hzs48oH17d_NwvbOg\">Raise your hand if you are familiar with selection bias</a>&nbsp;| 😏</li>\\r\\n\\t<li><a href=\"https://twitter.com/cherdarchuk/status/1525160488589414403?s=12&amp;t=EOv0L369g4CvPv35q8eUiw\">What is #dataviz animation good for? A thread with examples</a></li>\\r\\n\\t<li><a href=\"https://twitter.com/5t3ph/status/1525666700728868864?s=12&amp;t=5KFs2M1U-dh7e4j08A38Mg\">Twitter thread about an angled section</a></li>\\r\\n</ul>\\r\\n\\r\\n<h3>YouTube</h3>\\r\\n\\r\\n<ul>\\r\\n\\t<li><a href=\"https://youtube.com/playlist?list=PLHd2BPBhxqRKqmjd_L-CziP-Ui5gBvegF\">Videos for the PyCon DE &amp; PyData Berlin 2022 conference are up 🤩</a></li>\\r\\n\\t<li><a href=\"https://www.youtube.com/playlist?list=PL8ZzmQWppBBuMNlNqncVrNQgbWHPvfvkI\">Videos for beyond tellerrand - D&uuml;sseldorf 2022 are up, too 🥳</a></li>\\r\\n</ul>\\r\\n\\r\\n<h3>Software</h3>\\r\\n\\r\\n<ul>\\r\\n\\t<li><a href=\"https://fly.io/blog/all-in-on-sqlite-litestream/\">I&#39;m All-In on Server-Side SQLite</a>&nbsp;| Via Claudio</li>\\r\\n\\t<li><a href=\"https://edofic.com/posts/2022-01-28-low-js/\">How I fell in love with low-js</a>&nbsp;| Via Claudio</li>\\r\\n\\t<li><a href=\"https://www.b-list.org/weblog/2022/may/13/boring-python-dependencies/\">Boring Python: dependency management</a>&nbsp;| Pretty solid advise. I also use poetry, which unfortunately is not boring at all. And for packages I use flit instead of setup.py.&nbsp;</li>\\r\\n</ul>\\r\\n\\r\\n<h3>Papers</h3>\\r\\n\\r\\n<ul>\\r\\n\\t<li><a href=\"https://dl.acm.org/doi/pdf/10.5555/974938\">Note on Distributed Computing</a>&nbsp;| Someone posted this on a twitter thread discussing why <a href=\"https://htmx.org/essays/hateoas/\">HATEOAS</a> is a newer and more innovative concept than all this &quot;modern&quot; SPA solution being basically good old client/server/RPC&nbsp;architecture which attempted to compete with the web several times (CORBA, SOAP,&nbsp;etc), but failed each time.</li>\\r\\n</ul>\\r\\n\\r\\n<h3>Podcasts</h3>\\r\\n\\r\\n<ul>\\r\\n\\t<li><a href=\"https://lexfridman.com/david-buss/\">#282 &ndash; David Buss: Sex, Dating, Relationships, and Sex Differences</a>&nbsp;(<a href=\"https://lexfridman.com/podcast/\">Lex Fridman Podcast</a>) | Some nice anecdotes</li>\\r\\n\\t<li><a href=\"https://www.wasdenkstdudenn.de/2022/05/06/episode-127-ueben-ueben-ueben-ueber-koennen-nichtkoennen-und-den-weg-dazwischen/\">&Uuml;ber K&ouml;nnen, Nichtk&ouml;nnen und den Weg dazwischen</a>&nbsp;(<a href=\"https://www.wasdenkstdudenn.de\">Was denkst du denn?</a>)</li>\\r\\n\\t<li><a href=\"https://workingdraft.de/529/\">Revision 529: Richtig sch&auml;tzen</a>&nbsp;(<a href=\"https://workingdraft.de/\">Working Draft</a>) | Hmm, there are quite some areas where I would respectfully disagree. For example: This notion of avoiding to spend&nbsp;too much time on optimizing your code. In reviews I rarely see code that is &quot;too optimal&quot; or has &quot;too few bugs&quot;. In my experience people often say things like that when they mean&nbsp;to say: Optimizing this&nbsp;code is&nbsp;just not worth the effort. Which is a&nbsp;business&nbsp;decision. And if programmers make those decisions without telling a soul they make it impossible for the business to adapt (yes, this is bad). The same problem arises if you optimize for being correct on your estimations (good for you) by just doing small or simple stuff (bad for business).&nbsp; Of course, when your customer is never ever talking to you -&nbsp;maybe because it&#39;s&nbsp;a pharao resting peacefully in a pyramid - it might pay off to cut some corners 😉.</li>\\r\\n\\t<li><a href=\"https://www.programmier.bar/podcast/deep-dive-105-warum-java-fuer-die-cloud-so-gut-ist-mit-adam-bien\">Warum Java f&uuml;r die Cloud so gut ist, mit Adam Bien</a>&nbsp;(<a href=\"https://www.programmier.bar\">programmier.bar</a>) | Rather funny episode starting with the question: Why is Java so popular? Making a really long lived entity like a programming language (if successful) depend on a rather ephemeral entity like a company never resonated with me. Even before oracle hit the fan. But good marketing can do wonders. And I never got this whole serverless thing. The best explanation I saw&nbsp;is: serverless means pay by usage. Which might appeal&nbsp;to the needs of people coming from the host world, because hosts are so fucking expensive you have to be able to assign the blame. But there&#39;s a reason why hosts are dead. Personally I would prefer to make a service cheap enough you dont have to care instead of paying magnitudes more to be able to write more detailed bills. And there&#39;s always on premise, which I like&nbsp;too. But kubernetes and rancher being &quot;perfect for on premise&quot;? Wow, I think there&#39;s another marketing wonder in progress.</li>\\r\\n\\t<li><a href=\"https://wrint.de/2022/05/12/wr1362-ernergiespeicher-schwarze-loecher-und-sex/\">WR1362 Ernergiespeicher, Schwarze L&ouml;cher und Sex</a>&nbsp;(<a href=\"https://wrint.de/category/wissenschaft/\">WRINT Wissenschaf</a>)</li>\\r\\n\\t<li><a href=\"https://anchor.fm/sad-python-girls-club/episodes/Episode-1---Origin-Story-e1hlkmd\">Episode 1 - Origin Story</a>&nbsp;(<a href=\"https://anchor.fm/sad-python-girls-club\">Sad Python Girls Club</a>) | New Python Podcast 🤩, lets see how it goes..</li>\\r\\n</ul></div>\\n      </section>\\n    \\n  \\n</article>\\n'"
      ]
     },
     "execution_count": 13,
     "metadata": {},
     "output_type": "execute_result"
    }
   ],
   "source": [
    "post.serve(request, render_detail=True).render().content.decode(\"utf-8\")"
   ]
  },
  {
   "cell_type": "code",
   "execution_count": 30,
   "id": "54d16573-4270-4b0d-beac-5b0e1cb2e3ca",
   "metadata": {},
   "outputs": [
    {
     "data": {
      "text/plain": [
       "'Miscellaneous things. Not sure what to put here, yet.'"
      ]
     },
     "execution_count": 30,
     "metadata": {},
     "output_type": "execute_result"
    }
   ],
   "source": [
    "blog.description"
   ]
  },
  {
   "cell_type": "code",
   "execution_count": 32,
   "id": "1edbb187-d70e-4ff0-aac7-2d9d67611063",
   "metadata": {},
   "outputs": [],
   "source": [
    "site = Site.objects.first()"
   ]
  },
  {
   "cell_type": "code",
   "execution_count": 33,
   "id": "adfa37da-2903-46c1-af2c-60ef6ef2760c",
   "metadata": {},
   "outputs": [
    {
     "data": {
      "text/plain": [
       "['DoesNotExist',\n",
       " 'MultipleObjectsReturned',\n",
       " '__class__',\n",
       " '__delattr__',\n",
       " '__dict__',\n",
       " '__dir__',\n",
       " '__doc__',\n",
       " '__eq__',\n",
       " '__format__',\n",
       " '__ge__',\n",
       " '__getattribute__',\n",
       " '__getstate__',\n",
       " '__gt__',\n",
       " '__hash__',\n",
       " '__init__',\n",
       " '__init_subclass__',\n",
       " '__le__',\n",
       " '__lt__',\n",
       " '__module__',\n",
       " '__ne__',\n",
       " '__new__',\n",
       " '__reduce__',\n",
       " '__reduce_ex__',\n",
       " '__repr__',\n",
       " '__setattr__',\n",
       " '__setstate__',\n",
       " '__sizeof__',\n",
       " '__str__',\n",
       " '__subclasshook__',\n",
       " '__weakref__',\n",
       " '_check_column_name_clashes',\n",
       " '_check_constraints',\n",
       " '_check_default_pk',\n",
       " '_check_field_name_clashes',\n",
       " '_check_fields',\n",
       " '_check_id_field',\n",
       " '_check_index_together',\n",
       " '_check_indexes',\n",
       " '_check_local_fields',\n",
       " '_check_long_column_names',\n",
       " '_check_m2m_through_same_relationship',\n",
       " '_check_managers',\n",
       " '_check_model',\n",
       " '_check_model_name_db_lookup_clashes',\n",
       " '_check_ordering',\n",
       " '_check_property_name_related_field_accessor_clashes',\n",
       " '_check_single_primary_key',\n",
       " '_check_swappable',\n",
       " '_check_unique_together',\n",
       " '_do_insert',\n",
       " '_do_update',\n",
       " '_find_for_request',\n",
       " '_get_FIELD_display',\n",
       " '_get_expr_references',\n",
       " '_get_field_value_map',\n",
       " '_get_next_or_previous_by_FIELD',\n",
       " '_get_next_or_previous_in_order',\n",
       " '_get_pk_val',\n",
       " '_get_unique_checks',\n",
       " '_meta',\n",
       " '_perform_date_checks',\n",
       " '_perform_unique_checks',\n",
       " '_prepare_related_fields_for_save',\n",
       " '_save_parents',\n",
       " '_save_table',\n",
       " '_set_pk_val',\n",
       " '_state',\n",
       " 'check',\n",
       " 'clean',\n",
       " 'clean_fields',\n",
       " 'date_error_message',\n",
       " 'delete',\n",
       " 'find_for_request',\n",
       " 'from_db',\n",
       " 'full_clean',\n",
       " 'get_constraints',\n",
       " 'get_deferred_fields',\n",
       " 'get_site_root_paths',\n",
       " 'hostname',\n",
       " 'id',\n",
       " 'is_default_site',\n",
       " 'natural_key',\n",
       " 'objects',\n",
       " 'pk',\n",
       " 'port',\n",
       " 'prepare_database_save',\n",
       " 'redirects',\n",
       " 'refresh_from_db',\n",
       " 'root_page',\n",
       " 'root_page_id',\n",
       " 'root_url',\n",
       " 'save',\n",
       " 'save_base',\n",
       " 'serializable_value',\n",
       " 'site_name',\n",
       " 'unique_error_message',\n",
       " 'validate_constraints',\n",
       " 'validate_unique']"
      ]
     },
     "execution_count": 33,
     "metadata": {},
     "output_type": "execute_result"
    }
   ],
   "source": [
    "dir(site)"
   ]
  },
  {
   "cell_type": "code",
   "execution_count": 34,
   "id": "7237b974-66ce-4563-88ef-e8ee4042940c",
   "metadata": {},
   "outputs": [
    {
     "data": {
      "text/plain": [
       "'localhost'"
      ]
     },
     "execution_count": 34,
     "metadata": {},
     "output_type": "execute_result"
    }
   ],
   "source": [
    "site.hostname"
   ]
  },
  {
   "cell_type": "code",
   "execution_count": 35,
   "id": "29c64aed-5989-478c-befd-f16a8d733a8c",
   "metadata": {},
   "outputs": [
    {
     "data": {
      "text/plain": [
       "'http://localhost'"
      ]
     },
     "execution_count": 35,
     "metadata": {},
     "output_type": "execute_result"
    }
   ],
   "source": [
    "site.root_url"
   ]
  },
  {
   "cell_type": "code",
   "execution_count": 36,
   "id": "efd1296c-2ff8-438e-927b-fb2be94ee3d3",
   "metadata": {},
   "outputs": [
    {
     "data": {
      "text/plain": [
       "''"
      ]
     },
     "execution_count": 36,
     "metadata": {},
     "output_type": "execute_result"
    }
   ],
   "source": [
    "site.site_name"
   ]
  },
  {
   "cell_type": "code",
   "execution_count": 43,
   "id": "47b29a26-c9d0-4346-9148-751689f87c73",
   "metadata": {},
   "outputs": [
    {
     "data": {
      "text/plain": [
       "('localhost', 80)"
      ]
     },
     "execution_count": 43,
     "metadata": {},
     "output_type": "execute_result"
    }
   ],
   "source": [
    "site.natural_key()"
   ]
  },
  {
   "cell_type": "code",
   "execution_count": 39,
   "id": "6f3d2e4a-7438-4628-9a75-f596a9d10442",
   "metadata": {},
   "outputs": [
    {
     "data": {
      "text/plain": [
       "1"
      ]
     },
     "execution_count": 39,
     "metadata": {},
     "output_type": "execute_result"
    }
   ],
   "source": [
    "site.pk"
   ]
  },
  {
   "cell_type": "code",
   "execution_count": 40,
   "id": "8b8b6250-f275-499c-98c9-a7d57a8e3071",
   "metadata": {},
   "outputs": [
    {
     "data": {
      "text/plain": [
       "1"
      ]
     },
     "execution_count": 40,
     "metadata": {},
     "output_type": "execute_result"
    }
   ],
   "source": [
    "Site.objects.count()"
   ]
  },
  {
   "cell_type": "code",
   "execution_count": null,
   "id": "b4c2a5b6-fe54-4c33-b269-9ac30960897a",
   "metadata": {},
   "outputs": [],
   "source": []
  }
 ],
 "metadata": {
  "kernelspec": {
   "display_name": "Django Kernel",
   "language": "python",
   "name": "django_extensions"
  },
  "language_info": {
   "codemirror_mode": {
    "name": "ipython",
    "version": 3
   },
   "file_extension": ".py",
   "mimetype": "text/x-python",
   "name": "python",
   "nbconvert_exporter": "python",
   "pygments_lexer": "ipython3",
   "version": "3.12.0"
  }
 },
 "nbformat": 4,
 "nbformat_minor": 5
}
