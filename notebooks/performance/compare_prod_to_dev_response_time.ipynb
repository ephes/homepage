{
 "cells": [
  {
   "cell_type": "code",
   "execution_count": 1,
   "id": "4546675b-1c3a-451f-a4a9-ba8c5c05d956",
   "metadata": {
    "tags": []
   },
   "outputs": [
    {
     "name": "stdout",
     "output_type": "stream",
     "text": [
      "Requirement already satisfied: httpx in /Users/jochen/.virtualenvs/homepage/lib/python3.12/site-packages (0.27.0)\n",
      "Requirement already satisfied: anyio in /Users/jochen/.virtualenvs/homepage/lib/python3.12/site-packages (from httpx) (3.7.1)\n",
      "Requirement already satisfied: certifi in /Users/jochen/.virtualenvs/homepage/lib/python3.12/site-packages (from httpx) (2024.2.2)\n",
      "Requirement already satisfied: httpcore==1.* in /Users/jochen/.virtualenvs/homepage/lib/python3.12/site-packages (from httpx) (1.0.5)\n",
      "Requirement already satisfied: idna in /Users/jochen/.virtualenvs/homepage/lib/python3.12/site-packages (from httpx) (3.6)\n",
      "Requirement already satisfied: sniffio in /Users/jochen/.virtualenvs/homepage/lib/python3.12/site-packages (from httpx) (1.3.1)\n",
      "Requirement already satisfied: h11<0.15,>=0.13 in /Users/jochen/.virtualenvs/homepage/lib/python3.12/site-packages (from httpcore==1.*->httpx) (0.14.0)\n",
      "Note: you may need to restart the kernel to use updated packages.\n"
     ]
    }
   ],
   "source": [
    "%pip install httpx"
   ]
  },
  {
   "cell_type": "code",
   "execution_count": 2,
   "id": "fdd1c5e7-035e-4cd4-8d62-b1cd1f875f15",
   "metadata": {
    "tags": []
   },
   "outputs": [],
   "source": [
    "import httpx\n",
    "\n",
    "from pathlib import Path"
   ]
  },
  {
   "cell_type": "markdown",
   "id": "23bf08ed-145c-4776-9491-fcfde5733388",
   "metadata": {},
   "source": [
    "# Comparing prod and dev\n",
    "\n",
    "Ok, not much difference here."
   ]
  },
  {
   "cell_type": "code",
   "execution_count": 3,
   "id": "f8efc4ff-27e3-45cb-b4cd-241782ad8eea",
   "metadata": {
    "tags": []
   },
   "outputs": [],
   "source": [
    "prod = \"https://wersdoerfer.de\"\n",
    "staging = \"https://homepage.staging.django-cast.com\"\n",
    "dev = \"http://localhost:8000\""
   ]
  },
  {
   "cell_type": "markdown",
   "id": "4536160f-b75f-4bb9-8abc-68064f9a69c6",
   "metadata": {},
   "source": [
    "# For About"
   ]
  },
  {
   "cell_type": "code",
   "execution_count": 4,
   "id": "698000b3-bbca-4523-8d5a-f41619ddf037",
   "metadata": {
    "tags": []
   },
   "outputs": [
    {
     "name": "stdout",
     "output_type": "stream",
     "text": [
      "2765\n",
      "CPU times: user 9.85 ms, sys: 3.19 ms, total: 13 ms\n",
      "Wall time: 120 ms\n"
     ]
    }
   ],
   "source": [
    "%%time\n",
    "r = httpx.get(f\"{prod}/about/\")\n",
    "r.raise_for_status()\n",
    "content = r.text\n",
    "print(len(content))"
   ]
  },
  {
   "cell_type": "code",
   "execution_count": 5,
   "id": "e3210708-54d0-4ac2-9ad8-d3eb31edbfe8",
   "metadata": {
    "tags": []
   },
   "outputs": [
    {
     "name": "stdout",
     "output_type": "stream",
     "text": [
      "2765\n",
      "CPU times: user 13.1 ms, sys: 2.26 ms, total: 15.3 ms\n",
      "Wall time: 113 ms\n"
     ]
    }
   ],
   "source": [
    "%%time\n",
    "r = httpx.get(f\"{staging}/about/\")\n",
    "r.raise_for_status()\n",
    "content = r.text\n",
    "print(len(content))"
   ]
  },
  {
   "cell_type": "code",
   "execution_count": 6,
   "id": "d8a32449-9fa1-429f-9c5c-4e0be20a397f",
   "metadata": {
    "tags": []
   },
   "outputs": [
    {
     "name": "stdout",
     "output_type": "stream",
     "text": [
      "12480\n",
      "CPU times: user 14.5 ms, sys: 2.65 ms, total: 17.1 ms\n",
      "Wall time: 467 ms\n"
     ]
    }
   ],
   "source": [
    "%%time\n",
    "r = httpx.get(f\"{dev}/about/\")\n",
    "r.raise_for_status()\n",
    "content = r.text\n",
    "print(len(content))"
   ]
  },
  {
   "cell_type": "code",
   "execution_count": 7,
   "id": "6353d9f9-3ae4-4cc8-a281-f0cc51dd88b0",
   "metadata": {
    "tags": []
   },
   "outputs": [
    {
     "data": {
      "text/plain": [
       "'/about/'"
      ]
     },
     "execution_count": 7,
     "metadata": {},
     "output_type": "execute_result"
    }
   ],
   "source": [
    "reverse(\"about\")"
   ]
  },
  {
   "cell_type": "markdown",
   "id": "4838932c-7de0-48f5-aa04-01c3ed01563c",
   "metadata": {},
   "source": [
    "# For a Blog Index Page"
   ]
  },
  {
   "cell_type": "code",
   "execution_count": 8,
   "id": "0388a9cd-8f2f-4113-8139-abbba83042b6",
   "metadata": {
    "tags": []
   },
   "outputs": [],
   "source": [
    "# blog_slug = \"ephes_blog\"\n",
    "blog_slug = \"das_claas_und_nora_blog\""
   ]
  },
  {
   "cell_type": "code",
   "execution_count": 9,
   "id": "1874c6f6-3bb8-44e6-bf15-a3da908f2e42",
   "metadata": {
    "tags": []
   },
   "outputs": [
    {
     "name": "stdout",
     "output_type": "stream",
     "text": [
      "120631\n",
      "CPU times: user 11.2 ms, sys: 2.02 ms, total: 13.2 ms\n",
      "Wall time: 6.36 s\n"
     ]
    }
   ],
   "source": [
    "%%time\n",
    "r = httpx.get(f\"{prod}/blogs/{blog_slug}/\", timeout=60)\n",
    "r.raise_for_status()\n",
    "content = r.text\n",
    "print(len(content))"
   ]
  },
  {
   "cell_type": "code",
   "execution_count": 10,
   "id": "356fc438-f05b-4520-8782-3a443e61d011",
   "metadata": {
    "tags": []
   },
   "outputs": [],
   "source": [
    "with Path(\"/tmp/production.html\").open(\"w\") as f:\n",
    "    f.write(content)"
   ]
  },
  {
   "cell_type": "code",
   "execution_count": 11,
   "id": "02a9d93d-acfd-4d68-beea-005e3f77de82",
   "metadata": {
    "tags": []
   },
   "outputs": [
    {
     "name": "stdout",
     "output_type": "stream",
     "text": [
      "112766\n",
      "CPU times: user 21.3 ms, sys: 3.42 ms, total: 24.7 ms\n",
      "Wall time: 285 ms\n"
     ]
    }
   ],
   "source": [
    "%%time\n",
    "r = httpx.get(f\"{staging}/blogs/{blog_slug}/\", timeout=60)\n",
    "r.raise_for_status()\n",
    "content = r.text\n",
    "print(len(content))"
   ]
  },
  {
   "cell_type": "code",
   "execution_count": 12,
   "id": "7aeacc7f-6508-40ec-a793-f10a1f45f6c2",
   "metadata": {
    "tags": []
   },
   "outputs": [],
   "source": [
    "with Path(\"/tmp/staging.html\").open(\"w\") as f:\n",
    "    f.write(content)"
   ]
  },
  {
   "cell_type": "code",
   "execution_count": 13,
   "id": "8795aa0e-28a1-454f-b17c-e9269dc4b132",
   "metadata": {
    "tags": []
   },
   "outputs": [
    {
     "name": "stdout",
     "output_type": "stream",
     "text": [
      "122566\n",
      "CPU times: user 14.6 ms, sys: 2.74 ms, total: 17.4 ms\n",
      "Wall time: 431 ms\n"
     ]
    }
   ],
   "source": [
    "%%time\n",
    "r = httpx.get(f\"{dev}/blogs/{blog_slug}/\")\n",
    "r.raise_for_status()\n",
    "content = r.text\n",
    "print(len(content))"
   ]
  },
  {
   "cell_type": "code",
   "execution_count": 14,
   "id": "3ce5260c-6b37-4df0-888a-da4108eaaa0e",
   "metadata": {
    "tags": []
   },
   "outputs": [
    {
     "name": "stdout",
     "output_type": "stream",
     "text": [
      "0\n",
      "CPU times: user 5.62 ms, sys: 1.08 ms, total: 6.7 ms\n",
      "Wall time: 354 ms\n"
     ]
    }
   ],
   "source": [
    "%%time\n",
    "r = httpx.head(f\"{dev}/blogs/{blog_slug}/\")\n",
    "r.raise_for_status()\n",
    "content = r.text\n",
    "print(len(content))"
   ]
  },
  {
   "cell_type": "code",
   "execution_count": 15,
   "id": "549e6c35-9fe0-40c1-abac-177fc03f5b82",
   "metadata": {
    "tags": []
   },
   "outputs": [
    {
     "name": "stdout",
     "output_type": "stream",
     "text": [
      "http://localhost:8000/blogs/das_claas_und_nora_blog/\n"
     ]
    }
   ],
   "source": [
    "print(f\"{dev}/blogs/{blog_slug}/\")"
   ]
  },
  {
   "cell_type": "markdown",
   "id": "1e13cc20-6c22-4a7d-af84-7e813e9483ac",
   "metadata": {},
   "source": [
    "# What About the Feed?"
   ]
  },
  {
   "cell_type": "code",
   "execution_count": 16,
   "id": "0a926d2d-d922-4439-ab7f-e76d1a28eb31",
   "metadata": {
    "tags": []
   },
   "outputs": [
    {
     "name": "stdout",
     "output_type": "stream",
     "text": [
      "Production!\n",
      "5293024\n",
      "CPU times: user 31.4 ms, sys: 15.1 ms, total: 46.6 ms\n",
      "Wall time: 3.79 s\n"
     ]
    }
   ],
   "source": [
    "%%time\n",
    "print(\"Production!\")\n",
    "r = httpx.get(f\"{prod}/blogs/{blog_slug}/feed/rss.xml\")\n",
    "r.raise_for_status()\n",
    "content = r.text\n",
    "print(len(content))"
   ]
  },
  {
   "cell_type": "code",
   "execution_count": 17,
   "id": "d6e45f9e-4f8b-46cb-918b-ac53599b81e3",
   "metadata": {
    "tags": []
   },
   "outputs": [
    {
     "name": "stdout",
     "output_type": "stream",
     "text": [
      "Staging!\n",
      "5293024\n",
      "CPU times: user 32 ms, sys: 7.73 ms, total: 39.7 ms\n",
      "Wall time: 3.16 s\n"
     ]
    }
   ],
   "source": [
    "%%time\n",
    "print(\"Staging!\")\n",
    "r = httpx.get(f\"{staging}/blogs/{blog_slug}/feed/rss.xml\", timeout=600)\n",
    "r.raise_for_status()\n",
    "content = r.text\n",
    "print(len(content))"
   ]
  },
  {
   "cell_type": "code",
   "execution_count": 18,
   "id": "42534ba7-ebae-4de6-b3ea-271e14f59c29",
   "metadata": {
    "tags": []
   },
   "outputs": [
    {
     "name": "stdout",
     "output_type": "stream",
     "text": [
      "Development!\n",
      "5293023\n",
      "CPU times: user 15.3 ms, sys: 7.33 ms, total: 22.6 ms\n",
      "Wall time: 7.7 s\n"
     ]
    }
   ],
   "source": [
    "%%time\n",
    "print(\"Development!\")\n",
    "r = httpx.get(f\"{dev}/blogs/{blog_slug}/feed/rss.xml\", timeout=60)\n",
    "r.raise_for_status()\n",
    "content = r.text\n",
    "print(len(content))"
   ]
  },
  {
   "cell_type": "code",
   "execution_count": 19,
   "id": "a46d3c86-8503-45cd-8c98-df3129e8fc38",
   "metadata": {
    "tags": []
   },
   "outputs": [
    {
     "name": "stdout",
     "output_type": "stream",
     "text": [
      "das_claas_und_nora_blog\n"
     ]
    }
   ],
   "source": [
    "print(blog_slug)"
   ]
  },
  {
   "cell_type": "markdown",
   "id": "39f0b5e0-2624-4d33-91bd-683329618cf2",
   "metadata": {},
   "source": [
    "## Claas Blog"
   ]
  },
  {
   "cell_type": "code",
   "execution_count": 20,
   "id": "0587357f-2086-48c4-b8e7-df1aa7b58a43",
   "metadata": {
    "tags": []
   },
   "outputs": [],
   "source": [
    "blog_slug = \"das_claas_und_nora_blog\""
   ]
  },
  {
   "cell_type": "code",
   "execution_count": 21,
   "id": "049967e4-e532-496d-9663-5b5761ee2aae",
   "metadata": {
    "tags": []
   },
   "outputs": [
    {
     "name": "stdout",
     "output_type": "stream",
     "text": [
      "Development!\n",
      "5293023\n",
      "CPU times: user 12.8 ms, sys: 6.49 ms, total: 19.3 ms\n",
      "Wall time: 40.5 ms\n"
     ]
    }
   ],
   "source": [
    "%%time\n",
    "print(\"Development!\")\n",
    "r = httpx.get(f\"{dev}/blogs/{blog_slug}/feed/rss.xml\", timeout=60)\n",
    "r.raise_for_status()\n",
    "content = r.text\n",
    "print(len(content))"
   ]
  },
  {
   "cell_type": "code",
   "execution_count": 22,
   "id": "748d7cf9-fa15-4943-a7f9-4c841e15abdf",
   "metadata": {
    "tags": []
   },
   "outputs": [
    {
     "name": "stdout",
     "output_type": "stream",
     "text": [
      "Staging!\n",
      "5293024\n",
      "CPU times: user 24.8 ms, sys: 7.91 ms, total: 32.7 ms\n",
      "Wall time: 197 ms\n"
     ]
    }
   ],
   "source": [
    "%%time\n",
    "print(\"Staging!\")\n",
    "r = httpx.get(f\"{staging}/blogs/{blog_slug}/feed/rss.xml\", timeout=600)\n",
    "r.raise_for_status()\n",
    "content = r.text\n",
    "print(len(content))"
   ]
  },
  {
   "cell_type": "code",
   "execution_count": 23,
   "id": "01525464-f207-4179-b97d-eaffd3971469",
   "metadata": {
    "tags": []
   },
   "outputs": [
    {
     "name": "stdout",
     "output_type": "stream",
     "text": [
      "Production!\n",
      "5293024\n",
      "CPU times: user 37.5 ms, sys: 9.4 ms, total: 46.9 ms\n",
      "Wall time: 201 ms\n"
     ]
    }
   ],
   "source": [
    "%%time\n",
    "print(\"Production!\")\n",
    "r = httpx.get(f\"{prod}/blogs/{blog_slug}/feed/rss.xml\", timeout=600)\n",
    "r.raise_for_status()\n",
    "content = r.text\n",
    "print(len(content))"
   ]
  },
  {
   "cell_type": "markdown",
   "id": "61dfab65-c53d-4ab2-b398-6786aff7036a",
   "metadata": {},
   "source": [
    "## What about the feed call?"
   ]
  },
  {
   "cell_type": "code",
   "execution_count": 24,
   "id": "e7e1de94-eb29-4149-af62-45ef0e4e7f54",
   "metadata": {
    "tags": []
   },
   "outputs": [],
   "source": [
    "from django.test.client import RequestFactory\n",
    "from cast.feeds import LatestEntriesFeed"
   ]
  },
  {
   "cell_type": "code",
   "execution_count": 25,
   "id": "87e155ce-03a3-465b-b148-dc696b7989d3",
   "metadata": {
    "tags": []
   },
   "outputs": [
    {
     "name": "stdout",
     "output_type": "stream",
     "text": [
      "CPU times: user 1.62 s, sys: 89.4 ms, total: 1.71 s\n",
      "Wall time: 1.76 s\n"
     ]
    }
   ],
   "source": [
    "%%time\n",
    "feed_view = LatestEntriesFeed()\n",
    "request_factory = RequestFactory()\n",
    "request = request_factory.get(f\"/blogs/{blog_slug}/feed/rss.xml\")\n",
    "r = feed_view(request, slug=blog_slug)"
   ]
  },
  {
   "cell_type": "code",
   "execution_count": 26,
   "id": "0005e743-891e-4963-b6b2-abb2c1a39c50",
   "metadata": {
    "tags": []
   },
   "outputs": [
    {
     "name": "stdout",
     "output_type": "stream",
     "text": [
      "5294223\n"
     ]
    }
   ],
   "source": [
    "print(len(r.content))"
   ]
  },
  {
   "cell_type": "markdown",
   "id": "dcd68ecd-2a0f-4b93-aa56-06a395eb2d93",
   "metadata": {},
   "source": [
    "# How long does the serve call take?"
   ]
  },
  {
   "cell_type": "code",
   "execution_count": 27,
   "id": "49b79b42-aa90-41fa-ab50-59e095f102ea",
   "metadata": {
    "tags": []
   },
   "outputs": [],
   "source": [
    "from django.test.client import RequestFactory\n",
    "from django_htmx.middleware import HtmxDetails"
   ]
  },
  {
   "cell_type": "code",
   "execution_count": 28,
   "id": "f01ff56c-6063-4012-87f8-524c168c9191",
   "metadata": {
    "tags": []
   },
   "outputs": [],
   "source": [
    "request_factory = RequestFactory()\n",
    "request = request_factory.get(\"/\")\n",
    "request.htmx = HtmxDetails(request)"
   ]
  },
  {
   "cell_type": "code",
   "execution_count": 29,
   "id": "4daac98f-a69e-4284-acd5-ddb51d95943d",
   "metadata": {
    "tags": []
   },
   "outputs": [],
   "source": [
    "blog = Blog.objects.get(slug=blog_slug)"
   ]
  },
  {
   "cell_type": "code",
   "execution_count": 30,
   "id": "536c7c64-f84d-4b4b-86b1-4d2f1817ffa9",
   "metadata": {
    "tags": []
   },
   "outputs": [
    {
     "name": "stdout",
     "output_type": "stream",
     "text": [
      "kwargs['post_data'] <cast.cache.PagedPostData object at 0x11ef38a10>\n",
      "112847\n",
      "CPU times: user 70.5 ms, sys: 9.44 ms, total: 80 ms\n",
      "Wall time: 91.3 ms\n"
     ]
    }
   ],
   "source": [
    "%%time\n",
    "response = blog.serve(request).render()\n",
    "print(len(response.content))"
   ]
  },
  {
   "cell_type": "code",
   "execution_count": 31,
   "id": "a8d41382-9705-48e7-8f9b-20d2a3eb42c5",
   "metadata": {
    "tags": []
   },
   "outputs": [
    {
     "data": {
      "text/plain": [
       "['das_claas_und_nora_blog', 'ephes_blog']"
      ]
     },
     "execution_count": 31,
     "metadata": {},
     "output_type": "execute_result"
    }
   ],
   "source": [
    "[b.slug for b in Blog.objects.all()]"
   ]
  },
  {
   "cell_type": "code",
   "execution_count": 32,
   "id": "ca7a28e3-9529-42f5-8dce-6463b7fac45b",
   "metadata": {
    "tags": []
   },
   "outputs": [],
   "source": [
    "#Rendition.objects.all().delete()"
   ]
  },
  {
   "cell_type": "code",
   "execution_count": 33,
   "id": "f4fb15ba-6779-42c5-a07e-2ab38840cc44",
   "metadata": {
    "tags": []
   },
   "outputs": [],
   "source": [
    "slug = \"weeknotes-2023-07-24\"\n",
    "post = Post.objects.get(slug=slug)"
   ]
  },
  {
   "cell_type": "code",
   "execution_count": 34,
   "id": "e0e12e50-1ece-4cf3-91b8-492f40e0e316",
   "metadata": {
    "tags": []
   },
   "outputs": [],
   "source": [
    "post.sync_media_ids()"
   ]
  },
  {
   "cell_type": "code",
   "execution_count": 35,
   "id": "756bab9c-c03a-4e20-90d1-e8e43282406c",
   "metadata": {
    "tags": []
   },
   "outputs": [
    {
     "data": {
      "text/plain": [
       "{'image': set(), 'video': set(), 'gallery': {228}, 'audio': set()}"
      ]
     },
     "execution_count": 35,
     "metadata": {},
     "output_type": "execute_result"
    }
   ],
   "source": [
    "post.media_ids_from_db"
   ]
  },
  {
   "cell_type": "code",
   "execution_count": 36,
   "id": "ff611144-f629-4fa0-ac3c-364206b1260d",
   "metadata": {
    "tags": []
   },
   "outputs": [
    {
     "data": {
      "text/plain": [
       "{'gallery': {228}}"
      ]
     },
     "execution_count": 36,
     "metadata": {},
     "output_type": "execute_result"
    }
   ],
   "source": [
    "post.media_ids_from_body"
   ]
  },
  {
   "cell_type": "code",
   "execution_count": 37,
   "id": "613c5fdf-17c1-49a8-82f5-8d903a7605ef",
   "metadata": {
    "tags": []
   },
   "outputs": [],
   "source": [
    "[gallery] = post.galleries.all()"
   ]
  },
  {
   "cell_type": "code",
   "execution_count": 38,
   "id": "48f7fd8c-3297-44b9-8a3f-b70cd94ea0ab",
   "metadata": {
    "tags": []
   },
   "outputs": [
    {
     "data": {
      "text/plain": [
       "<Gallery: Gallery object (228)>"
      ]
     },
     "execution_count": 38,
     "metadata": {},
     "output_type": "execute_result"
    }
   ],
   "source": [
    "gallery\n"
   ]
  },
  {
   "cell_type": "code",
   "execution_count": 39,
   "id": "8ed0dcb3-66a3-4e0d-a750-a4f95065e69e",
   "metadata": {
    "tags": []
   },
   "outputs": [
    {
     "data": {
      "text/plain": [
       "<ImageQuerySet [<Image: Marktplatz in Vannes>, <Image: Fachwerkhäuser in Vannes>, <Image: Fensterspiegelung>, <Image: Sonnenstern an der Saline>, <Image: Fernglas zum Beobachten der Vögel an der Saline>, <Image: Salz in der Saline>, <Image: Windrad neben der Saline>, <Image: Ein paar Blumen am Wegesrand>, <Image: Atlantikküste vor Quiberon>, <Image: Steilküste vor Quiberon>, <Image: Strand in Quiberon>, <Image: Am Strand von Mousterian>, <Image: Frau am Strand von Mousterian>]>"
      ]
     },
     "execution_count": 39,
     "metadata": {},
     "output_type": "execute_result"
    }
   ],
   "source": [
    "gallery.images.all()"
   ]
  },
  {
   "cell_type": "code",
   "execution_count": 40,
   "id": "d8939a2b-15ec-4c12-bf72-1a6d69ecc400",
   "metadata": {
    "tags": []
   },
   "outputs": [
    {
     "data": {
      "text/plain": [
       "<ImageQuerySet []>"
      ]
     },
     "execution_count": 40,
     "metadata": {},
     "output_type": "execute_result"
    }
   ],
   "source": [
    "post.images.all()"
   ]
  },
  {
   "cell_type": "code",
   "execution_count": 41,
   "id": "13fc906a-416a-46eb-9efc-1094f4818cfe",
   "metadata": {
    "tags": []
   },
   "outputs": [
    {
     "data": {
      "text/plain": [
       "2369"
      ]
     },
     "execution_count": 41,
     "metadata": {},
     "output_type": "execute_result"
    }
   ],
   "source": [
    "Image.objects.count()"
   ]
  },
  {
   "cell_type": "markdown",
   "id": "03f8dd1b-f0e3-4402-b460-c6f5eb66c406",
   "metadata": {},
   "source": [
    "## Count Queries"
   ]
  },
  {
   "cell_type": "code",
   "execution_count": 42,
   "id": "e3222ba5-94ca-4a63-a423-0611892ded83",
   "metadata": {
    "tags": []
   },
   "outputs": [],
   "source": [
    "import sqlparse\n",
    "\n",
    "from django.db import connection, reset_queries"
   ]
  },
  {
   "cell_type": "code",
   "execution_count": 43,
   "id": "a5c91804-437e-48f0-8040-4a1b8d182b27",
   "metadata": {
    "tags": []
   },
   "outputs": [],
   "source": [
    "def count_queries(func):\n",
    "    reset_queries()\n",
    "    response = func()\n",
    "    print(len(response.content))\n",
    "    return len(connection.queries)\n",
    "\n",
    "\n",
    "def show_queries(queries):\n",
    "    for query in queries:\n",
    "        formatted_sql = sqlparse.format(query['sql'], reindent=True, keyword_case='upper')\n",
    "        print(formatted_sql)    "
   ]
  },
  {
   "cell_type": "code",
   "execution_count": 44,
   "id": "8c5ae38e-c90a-4ef5-8f2c-b26337726243",
   "metadata": {
    "tags": []
   },
   "outputs": [
    {
     "name": "stdout",
     "output_type": "stream",
     "text": [
      "5294223\n"
     ]
    },
    {
     "data": {
      "text/plain": [
       "305"
      ]
     },
     "execution_count": 44,
     "metadata": {},
     "output_type": "execute_result"
    }
   ],
   "source": [
    "feed_view = LatestEntriesFeed()\n",
    "request_factory = RequestFactory()\n",
    "request = request_factory.get(f\"/blogs/{blog_slug}/feed/rss.xml\")\n",
    "func = lambda: feed_view(request, slug=blog_slug)\n",
    "count_queries(func)"
   ]
  },
  {
   "cell_type": "code",
   "execution_count": 45,
   "id": "8399cac6-52ce-4a58-bc5f-dfa00dfbc710",
   "metadata": {
    "tags": []
   },
   "outputs": [
    {
     "ename": "NameError",
     "evalue": "name 'htmx' is not defined",
     "output_type": "error",
     "traceback": [
      "\u001b[0;31m---------------------------------------------------------------------------\u001b[0m",
      "\u001b[0;31mNameError\u001b[0m                                 Traceback (most recent call last)",
      "Cell \u001b[0;32mIn[45], line 3\u001b[0m\n\u001b[1;32m      1\u001b[0m request_factory \u001b[38;5;241m=\u001b[39m RequestFactory()\n\u001b[1;32m      2\u001b[0m request \u001b[38;5;241m=\u001b[39m request_factory\u001b[38;5;241m.\u001b[39mget(\u001b[38;5;124m\"\u001b[39m\u001b[38;5;124m/\u001b[39m\u001b[38;5;124m\"\u001b[39m)\n\u001b[0;32m----> 3\u001b[0m \u001b[43mhtmx\u001b[49m\n",
      "\u001b[0;31mNameError\u001b[0m: name 'htmx' is not defined"
     ]
    }
   ],
   "source": [
    "request_factory = RequestFactory()\n",
    "request = request_factory.get(\"/\")\n",
    "htmx\n"
   ]
  },
  {
   "cell_type": "code",
   "execution_count": null,
   "id": "62bc9c75-95b9-41bf-addf-681196f2ada4",
   "metadata": {
    "tags": []
   },
   "outputs": [],
   "source": [
    "blog = Blog.objects.get(slug=blog_slug)"
   ]
  },
  {
   "cell_type": "code",
   "execution_count": null,
   "id": "1d7ad4ad-76d4-4a78-aa29-068f750b4d84",
   "metadata": {
    "tags": []
   },
   "outputs": [],
   "source": [
    "%%time\n",
    "num_queries = count_queries(blog.serve(request).render)\n",
    "print(num_queries)"
   ]
  },
  {
   "cell_type": "code",
   "execution_count": null,
   "id": "0d9ef63f-4733-422e-a68d-6b045b62de34",
   "metadata": {
    "tags": []
   },
   "outputs": [],
   "source": [
    "# show_queries(connection.queries)"
   ]
  },
  {
   "cell_type": "code",
   "execution_count": null,
   "id": "da023467-a871-44af-9ea3-bea512e920b3",
   "metadata": {},
   "outputs": [],
   "source": []
  }
 ],
 "metadata": {
  "kernelspec": {
   "display_name": "Django Kernel",
   "language": "python",
   "name": "django_extensions"
  },
  "language_info": {
   "codemirror_mode": {
    "name": "ipython",
    "version": 3
   },
   "file_extension": ".py",
   "mimetype": "text/x-python",
   "name": "python",
   "nbconvert_exporter": "python",
   "pygments_lexer": "ipython3",
   "version": "3.12.2"
  }
 },
 "nbformat": 4,
 "nbformat_minor": 5
}
