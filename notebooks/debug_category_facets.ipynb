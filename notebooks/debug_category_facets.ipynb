{
 "cells": [
  {
   "cell_type": "code",
   "execution_count": 1,
   "id": "27e749c3-7fe2-4347-b1af-a5c9c335073d",
   "metadata": {
    "tags": []
   },
   "outputs": [],
   "source": [
    "from django.http import QueryDict\n",
    "\n",
    "from cast.filters import PostFilterset, get_facet_counts"
   ]
  },
  {
   "cell_type": "code",
   "execution_count": 2,
   "id": "0c7cf9f6-6a9d-4021-8200-9a56409b5854",
   "metadata": {
    "tags": []
   },
   "outputs": [],
   "source": [
    "blog = Blog.objects.get(slug=\"ephes_blog\")\n",
    "queryset = blog.unfiltered_published_posts"
   ]
  },
  {
   "cell_type": "code",
   "execution_count": 3,
   "id": "18611b6e-f0c9-4e8f-a9d3-33236e6bfea2",
   "metadata": {
    "tags": []
   },
   "outputs": [
    {
     "name": "stdout",
     "output_type": "stream",
     "text": [
      "data filterset init:  <QueryDict: {'category_facets': ['til']}>\n",
      "data filterset init:  {'category_facets': 'til', 'facet_counts': {}}\n",
      "date choices:  []\n",
      "valid value?  til\n",
      "choices:  [('', '---------')]\n",
      "filterset cleaned_data:  {'search': '', 'date': None, 'category_facets': 'til', 'date_facets': '', 'o': None}\n",
      "filterset filters:  OrderedDict([('search', <django_filters.filters.CharFilter object at 0x10dd01a10>), ('date', <django_filters.filters.DateFromToRangeFilter object at 0x10dd18650>), ('category_facets', <cast.filters.CategoryFacetFilter object at 0x10dd029d0>), ('date_facets', <cast.filters.DateFacetFilter object at 0x10dd40e50>), ('o', <django_filters.filters.OrderingFilter object at 0x10c83b690>)])\n",
      "category facet filter called with:  til\n",
      "date facet filter called with:  \n",
      "post_filter.qs count:  1\n"
     ]
    }
   ],
   "source": [
    "querydict = QueryDict(f\"category_facets=til\")\n",
    "# querydict = {\"category_facets\": [\"til\"]}\n",
    "filterset = PostFilterset(querydict, queryset, fetch_facet_counts=True)"
   ]
  },
  {
   "cell_type": "code",
   "execution_count": 10,
   "id": "80127714-6d04-4286-8f9c-705e4166d054",
   "metadata": {
    "tags": []
   },
   "outputs": [
    {
     "name": "stdout",
     "output_type": "stream",
     "text": [
      "category choices:  [('til', 'til (1)'), ('weeknotes', 'weeknotes (2)')]\n",
      "date choices:  [('2017-09', '2017-09 (7)'), ('2017-10', '2017-10 (4)'), ('2017-11', '2017-11 (3)'), ('2020-08', '2020-08 (1)'), ('2021-06', '2021-06 (3)'), ('2021-07', '2021-07 (4)'), ('2021-08', '2021-08 (5)'), ('2021-09', '2021-09 (3)'), ('2021-10', '2021-10 (5)'), ('2021-11', '2021-11 (1)'), ('2022-01', '2022-01 (6)'), ('2022-02', '2022-02 (4)'), ('2022-03', '2022-03 (4)'), ('2022-04', '2022-04 (8)'), ('2022-05', '2022-05 (6)'), ('2022-06', '2022-06 (4)'), ('2022-07', '2022-07 (5)'), ('2022-08', '2022-08 (5)'), ('2022-09', '2022-09 (4)'), ('2022-10', '2022-10 (5)'), ('2022-11', '2022-11 (6)'), ('2022-12', '2022-12 (8)'), ('2023-01', '2023-01 (10)'), ('2023-02', '2023-02 (5)'), ('2023-03', '2023-03 (5)'), ('2023-04', '2023-04 (6)'), ('2023-05', '2023-05 (6)'), ('2023-06', '2023-06 (4)'), ('2023-07', '2023-07 (5)'), ('2023-08', '2023-08 (1)')]\n",
      "filterset cleaned_data:  {'search': '', 'date': None, 'category_facets': 'til', 'date_facets': '', 'o': None}\n",
      "filterset filters:  OrderedDict([('search', <django_filters.filters.CharFilter object at 0x12445ffd0>), ('date', <django_filters.filters.DateFromToRangeFilter object at 0x124478050>), ('category_facets', <cast.filters.CategoryFacetFilter object at 0x12440b710>), ('date_facets', <cast.filters.DateFacetFilter object at 0x12445df90>), ('o', <django_filters.filters.OrderingFilter object at 0x124440a90>)])\n",
      "category facet filter called with:  til\n",
      "date facet filter called with:  \n"
     ]
    },
    {
     "data": {
      "text/plain": [
       "1"
      ]
     },
     "execution_count": 10,
     "metadata": {},
     "output_type": "execute_result"
    }
   ],
   "source": [
    "filterset.qs.count()"
   ]
  },
  {
   "cell_type": "code",
   "execution_count": 3,
   "id": "0ceb9d1d-5659-4b59-8275-b8485d4cd5e8",
   "metadata": {
    "tags": []
   },
   "outputs": [
    {
     "name": "stdout",
     "output_type": "stream",
     "text": [
      "data filterset init:  {'date_facets': ['2023-08']}\n"
     ]
    }
   ],
   "source": [
    "# querydict = QueryDict(f\"date_facets=2023-08\")\n",
    "querydict = {\"date_facets\": [\"2023-08\"]}\n",
    "filterset = PostFilterset(querydict, queryset, fetch_facet_counts=False)"
   ]
  },
  {
   "cell_type": "code",
   "execution_count": 4,
   "id": "7a55c86d-da0f-4520-b4d8-c3e811283c5e",
   "metadata": {
    "tags": []
   },
   "outputs": [
    {
     "name": "stdout",
     "output_type": "stream",
     "text": [
      "category choices:  []\n",
      "date choices:  []\n",
      "filterset cleaned_data:  {'search': '', 'date': None, 'category_facets': '', 'date_facets': \"['2023-08']\", 'o': None}\n",
      "filterset filters:  OrderedDict([('search', <django_filters.filters.CharFilter object at 0x10aac2950>), ('date', <django_filters.filters.DateFromToRangeFilter object at 0x10a098b50>), ('category_facets', <cast.filters.CategoryFacetFilter object at 0x109f8c050>), ('date_facets', <cast.filters.DateFacetFilter object at 0x10e2e30d0>), ('o', <django_filters.filters.OrderingFilter object at 0x10e2e2450>)])\n",
      "category facet filter called with:  \n",
      "date facet filter called with:  ['2023-08']\n",
      "1\n"
     ]
    }
   ],
   "source": [
    "print(filterset.qs.count())"
   ]
  },
  {
   "cell_type": "markdown",
   "id": "76f8739e-cbc1-44e9-9a61-d66654c58ff7",
   "metadata": {},
   "source": [
    "# Reproduce not valid"
   ]
  },
  {
   "cell_type": "code",
   "execution_count": 1,
   "id": "c489c5d5-42f0-416c-8a91-449a631aa2fe",
   "metadata": {
    "tags": []
   },
   "outputs": [],
   "source": [
    "from django.http import QueryDict\n",
    "\n",
    "from cast.filters import PostFilterset\n",
    "\n",
    "blog = Blog.objects.get(slug=\"ephes_blog\")\n",
    "queryset = blog.unfiltered_published_posts"
   ]
  },
  {
   "cell_type": "code",
   "execution_count": 2,
   "id": "f6fe3f15-ec9d-4a14-b4df-520e81c5e834",
   "metadata": {
    "tags": []
   },
   "outputs": [
    {
     "name": "stdout",
     "output_type": "stream",
     "text": [
      "data filterset init:  <QueryDict: {'category_facets': ['til']}>\n"
     ]
    }
   ],
   "source": [
    "querydict = QueryDict(f\"category_facets=til\")\n",
    "# querydict = {\"category_facets\": [\"til\"]}\n",
    "filterset = PostFilterset(querydict, queryset, fetch_facet_counts=False)"
   ]
  },
  {
   "cell_type": "code",
   "execution_count": 3,
   "id": "85119742-f507-409f-8e41-ac35bba3b7a0",
   "metadata": {
    "tags": []
   },
   "outputs": [
    {
     "name": "stdout",
     "output_type": "stream",
     "text": [
      "date choices:  []\n"
     ]
    }
   ],
   "source": [
    "FormClass = filterset.get_form_class()"
   ]
  },
  {
   "cell_type": "code",
   "execution_count": 4,
   "id": "fc825935-6b88-4367-977c-9f78cdb5270c",
   "metadata": {
    "tags": []
   },
   "outputs": [],
   "source": [
    "# form = FormClass({\"category_facets\": \"til\"})"
   ]
  },
  {
   "cell_type": "code",
   "execution_count": 4,
   "id": "22f881d8-aced-4e79-9070-46bfcf9c08ba",
   "metadata": {
    "tags": []
   },
   "outputs": [],
   "source": [
    "# form = FormClass({\"category_facets\": \"asdf\"})"
   ]
  },
  {
   "cell_type": "code",
   "execution_count": 5,
   "id": "39f6f2e2-1f56-4178-b156-acc85bf84bfc",
   "metadata": {
    "tags": []
   },
   "outputs": [],
   "source": [
    "form = FormClass(querydict)"
   ]
  },
  {
   "cell_type": "code",
   "execution_count": 6,
   "id": "ecf798d0-6a1c-44da-bf4b-78a943fa6725",
   "metadata": {
    "tags": []
   },
   "outputs": [
    {
     "name": "stdout",
     "output_type": "stream",
     "text": [
      "valid value?  til\n",
      "choices:  [('', '---------')]\n",
      "category choices?  {'weeknotes', 'video', 'til'}\n"
     ]
    },
    {
     "data": {
      "text/plain": [
       "True"
      ]
     },
     "execution_count": 6,
     "metadata": {},
     "output_type": "execute_result"
    }
   ],
   "source": [
    "form.is_valid()"
   ]
  },
  {
   "cell_type": "code",
   "execution_count": 11,
   "id": "ffe1d71e-0ee7-4740-9b0b-730fdd6faea1",
   "metadata": {
    "tags": []
   },
   "outputs": [
    {
     "data": {
      "text/plain": [
       "{'til', 'video', 'weeknotes'}"
      ]
     },
     "execution_count": 11,
     "metadata": {},
     "output_type": "execute_result"
    }
   ],
   "source": [
    "set(PostCategory.objects.values_list(\"slug\", flat=True))"
   ]
  },
  {
   "cell_type": "code",
   "execution_count": 7,
   "id": "9ad2e8fe-f838-44ff-896f-d734a8b5bcdf",
   "metadata": {
    "tags": []
   },
   "outputs": [
    {
     "name": "stdout",
     "output_type": "stream",
     "text": [
      "date choices:  []\n",
      "valid value?  til\n",
      "choices:  [('', '---------')]\n",
      "category choices?  {'weeknotes', 'video', 'til'}\n",
      "filterset cleaned_data:  {'search': '', 'date': None, 'category_facets': 'til', 'date_facets': '', 'o': None}\n",
      "filterset filters:  OrderedDict([('search', <django_filters.filters.CharFilter object at 0x10bfb6390>), ('date', <django_filters.filters.DateFromToRangeFilter object at 0x10bfcd490>), ('category_facets', <cast.filters.CategoryFacetFilter object at 0x10bfc0710>), ('date_facets', <cast.filters.DateFacetFilter object at 0x10b08f690>), ('o', <django_filters.filters.OrderingFilter object at 0x11218e5d0>)])\n",
      "category facet filter called with:  til\n",
      "date facet filter called with:  \n"
     ]
    },
    {
     "data": {
      "text/plain": [
       "1"
      ]
     },
     "execution_count": 7,
     "metadata": {},
     "output_type": "execute_result"
    }
   ],
   "source": [
    "filterset.qs.count()"
   ]
  },
  {
   "cell_type": "code",
   "execution_count": 9,
   "id": "a99c6d90-3aea-4360-86a9-51a0db8da91f",
   "metadata": {
    "tags": []
   },
   "outputs": [],
   "source": [
    "import string"
   ]
  },
  {
   "cell_type": "code",
   "execution_count": 10,
   "id": "069e09ef-9e05-4301-b90b-2277fe8a0bdb",
   "metadata": {
    "tags": []
   },
   "outputs": [
    {
     "data": {
      "text/plain": [
       "['Formatter',\n",
       " 'Template',\n",
       " '_ChainMap',\n",
       " '__all__',\n",
       " '__builtins__',\n",
       " '__cached__',\n",
       " '__doc__',\n",
       " '__file__',\n",
       " '__loader__',\n",
       " '__name__',\n",
       " '__package__',\n",
       " '__spec__',\n",
       " '_re',\n",
       " '_sentinel_dict',\n",
       " '_string',\n",
       " 'ascii_letters',\n",
       " 'ascii_lowercase',\n",
       " 'ascii_uppercase',\n",
       " 'capwords',\n",
       " 'digits',\n",
       " 'hexdigits',\n",
       " 'octdigits',\n",
       " 'printable',\n",
       " 'punctuation',\n",
       " 'whitespace']"
      ]
     },
     "execution_count": 10,
     "metadata": {},
     "output_type": "execute_result"
    }
   ],
   "source": [
    "dir(string)"
   ]
  },
  {
   "cell_type": "code",
   "execution_count": 12,
   "id": "3540e5b1-0aff-4995-877b-d73162a3dcd2",
   "metadata": {
    "tags": []
   },
   "outputs": [
    {
     "data": {
      "text/plain": [
       "'0123456789'"
      ]
     },
     "execution_count": 12,
     "metadata": {},
     "output_type": "execute_result"
    }
   ],
   "source": [
    "string.digits"
   ]
  },
  {
   "cell_type": "code",
   "execution_count": 14,
   "id": "ce0e9559-573f-4f77-a3ef-5153d9637119",
   "metadata": {
    "tags": []
   },
   "outputs": [
    {
     "ename": "AttributeError",
     "evalue": "module 'string' has no attribute 'letter'",
     "output_type": "error",
     "traceback": [
      "\u001b[0;31m---------------------------------------------------------------------------\u001b[0m",
      "\u001b[0;31mAttributeError\u001b[0m                            Traceback (most recent call last)",
      "Cell \u001b[0;32mIn[14], line 1\u001b[0m\n\u001b[0;32m----> 1\u001b[0m \u001b[43mstring\u001b[49m\u001b[38;5;241;43m.\u001b[39;49m\u001b[43mletter\u001b[49m\n",
      "\u001b[0;31mAttributeError\u001b[0m: module 'string' has no attribute 'letter'"
     ]
    }
   ],
   "source": [
    "string.letter"
   ]
  },
  {
   "cell_type": "code",
   "execution_count": 15,
   "id": "a2f7e99e-53a6-4c01-9e85-b9b174deec58",
   "metadata": {
    "tags": []
   },
   "outputs": [],
   "source": [
    "from django.core import validators"
   ]
  },
  {
   "cell_type": "code",
   "execution_count": 19,
   "id": "f01d98f1-f069-46d1-88cf-06550e116db6",
   "metadata": {
    "tags": []
   },
   "outputs": [
    {
     "name": "stdout",
     "output_type": "stream",
     "text": [
      "None\n"
     ]
    }
   ],
   "source": [
    "print(validators.validate_slug(\"asdf\"))"
   ]
  },
  {
   "cell_type": "code",
   "execution_count": 20,
   "id": "2e1d9079-64b0-41fa-b8d0-3fdce818db2e",
   "metadata": {
    "tags": []
   },
   "outputs": [
    {
     "ename": "ValidationError",
     "evalue": "['Enter a valid “slug” consisting of letters, numbers, underscores or hyphens.']",
     "output_type": "error",
     "traceback": [
      "\u001b[0;31m---------------------------------------------------------------------------\u001b[0m",
      "\u001b[0;31mValidationError\u001b[0m                           Traceback (most recent call last)",
      "Cell \u001b[0;32mIn[20], line 1\u001b[0m\n\u001b[0;32m----> 1\u001b[0m \u001b[43mvalidators\u001b[49m\u001b[38;5;241;43m.\u001b[39;49m\u001b[43mvalidate_slug\u001b[49m\u001b[43m(\u001b[49m\u001b[38;5;124;43m\"\u001b[39;49m\u001b[38;5;124;43masdf blub bla\u001b[39;49m\u001b[38;5;124;43m\"\u001b[39;49m\u001b[43m)\u001b[49m\n",
      "File \u001b[0;32m~/.virtualenvs/homepage/lib/python3.11/site-packages/django/core/validators.py:55\u001b[0m, in \u001b[0;36mRegexValidator.__call__\u001b[0;34m(self, value)\u001b[0m\n\u001b[1;32m     53\u001b[0m invalid_input \u001b[38;5;241m=\u001b[39m regex_matches \u001b[38;5;28;01mif\u001b[39;00m \u001b[38;5;28mself\u001b[39m\u001b[38;5;241m.\u001b[39minverse_match \u001b[38;5;28;01melse\u001b[39;00m \u001b[38;5;129;01mnot\u001b[39;00m regex_matches\n\u001b[1;32m     54\u001b[0m \u001b[38;5;28;01mif\u001b[39;00m invalid_input:\n\u001b[0;32m---> 55\u001b[0m     \u001b[38;5;28;01mraise\u001b[39;00m ValidationError(\u001b[38;5;28mself\u001b[39m\u001b[38;5;241m.\u001b[39mmessage, code\u001b[38;5;241m=\u001b[39m\u001b[38;5;28mself\u001b[39m\u001b[38;5;241m.\u001b[39mcode, params\u001b[38;5;241m=\u001b[39m{\u001b[38;5;124m\"\u001b[39m\u001b[38;5;124mvalue\u001b[39m\u001b[38;5;124m\"\u001b[39m: value})\n",
      "\u001b[0;31mValidationError\u001b[0m: ['Enter a valid “slug” consisting of letters, numbers, underscores or hyphens.']"
     ]
    }
   ],
   "source": [
    "validators.validate_slug(\"asdf blub bla\")"
   ]
  },
  {
   "cell_type": "code",
   "execution_count": 21,
   "id": "c735da76-edf3-4383-a558-b641bda9aa00",
   "metadata": {
    "tags": []
   },
   "outputs": [
    {
     "ename": "NameError",
     "evalue": "name 'get_facet_counts' is not defined",
     "output_type": "error",
     "traceback": [
      "\u001b[0;31m---------------------------------------------------------------------------\u001b[0m",
      "\u001b[0;31mNameError\u001b[0m                                 Traceback (most recent call last)",
      "Cell \u001b[0;32mIn[21], line 1\u001b[0m\n\u001b[0;32m----> 1\u001b[0m \u001b[43mget_facet_counts\u001b[49m\n",
      "\u001b[0;31mNameError\u001b[0m: name 'get_facet_counts' is not defined"
     ]
    }
   ],
   "source": [
    "get_facet_counts"
   ]
  },
  {
   "cell_type": "code",
   "execution_count": null,
   "id": "863aa4a5-96b7-4bc7-bccd-6c5fbc43966b",
   "metadata": {},
   "outputs": [],
   "source": []
  }
 ],
 "metadata": {
  "kernelspec": {
   "display_name": "Django Kernel",
   "language": "python",
   "name": "django_extensions"
  },
  "language_info": {
   "codemirror_mode": {
    "name": "ipython",
    "version": 3
   },
   "file_extension": ".py",
   "mimetype": "text/x-python",
   "name": "python",
   "nbconvert_exporter": "python",
   "pygments_lexer": "ipython3",
   "version": "3.11.4"
  }
 },
 "nbformat": 4,
 "nbformat_minor": 5
}
