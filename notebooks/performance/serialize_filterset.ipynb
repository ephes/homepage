{
 "cells": [
  {
   "cell_type": "code",
   "execution_count": 17,
   "id": "bca5c848-cdad-4b3c-9aaf-60e64410f69e",
   "metadata": {
    "tags": []
   },
   "outputs": [],
   "source": [
    "from cast.filters import PostFilterset\n",
    "from django.test.client import RequestFactory\n",
    "from django.db import connection, reset_queries\n",
    "\n",
    "\n",
    "def show_queries(queries):\n",
    "    for query in queries:\n",
    "        formatted_sql = sqlparse.format(query['sql'], reindent=True, keyword_case='upper')\n",
    "        print(\"------------------------------------------------\")\n",
    "        print(formatted_sql)\n",
    "\n",
    "\n",
    "request_factory = RequestFactory()"
   ]
  },
  {
   "cell_type": "code",
   "execution_count": 18,
   "id": "828fca4e-62c3-4afd-9aef-b9de65d24a10",
   "metadata": {
    "tags": []
   },
   "outputs": [],
   "source": [
    "slug = \"ephes_blog\"\n",
    "blog = Blog.objects.get(slug=slug)"
   ]
  },
  {
   "cell_type": "code",
   "execution_count": 19,
   "id": "7d7ebe0a-adb9-431e-a613-638e9ff2999f",
   "metadata": {
    "tags": []
   },
   "outputs": [],
   "source": [
    "request = request_factory.get(blog.get_url())\n",
    "get_params = request.GET.copy()"
   ]
  },
  {
   "cell_type": "code",
   "execution_count": 20,
   "id": "6d11ec13-b22f-420a-a664-fe14b195915a",
   "metadata": {
    "tags": []
   },
   "outputs": [
    {
     "name": "stdout",
     "output_type": "stream",
     "text": [
      "4\n"
     ]
    }
   ],
   "source": [
    "reset_queries()\n",
    "filterset = PostFilterset(data=get_params, queryset=blog.unfiltered_published_posts)\n",
    "print(len(connection.queries))"
   ]
  },
  {
   "cell_type": "code",
   "execution_count": 21,
   "id": "13bd9bb9-406c-4eaf-bb89-87482a8991e8",
   "metadata": {
    "tags": []
   },
   "outputs": [
    {
     "data": {
      "text/plain": [
       "<cast.filters.PostFilterset at 0x128045fd0>"
      ]
     },
     "execution_count": 21,
     "metadata": {},
     "output_type": "execute_result"
    }
   ],
   "source": [
    "filterset"
   ]
  },
  {
   "cell_type": "code",
   "execution_count": 22,
   "id": "88d03d3b-e4ee-4ab5-a6e1-efb5dfbbb0bd",
   "metadata": {
    "tags": []
   },
   "outputs": [],
   "source": [
    "form = filterset.form"
   ]
  },
  {
   "cell_type": "markdown",
   "id": "5abd114e-d868-49ff-b3b3-d2e6c6cecf76",
   "metadata": {
    "tags": []
   },
   "source": [
    "# Serialize Field by Field\n",
    "\n",
    "Working:\n",
    "\n",
    "- search\n",
    "- date_facets\n",
    "\n",
    "Todo:\n",
    "- date\n",
    "- categories\n",
    "- tags"
   ]
  },
  {
   "cell_type": "code",
   "execution_count": 27,
   "id": "2e735836-07ba-4c89-a65e-9909bf26d0b8",
   "metadata": {
    "tags": []
   },
   "outputs": [
    {
     "data": {
      "text/plain": [
       "{'search': <django.forms.fields.CharField at 0x129590320>,\n",
       " 'date': <django_filters.fields.DateRangeField at 0x1295bd9a0>,\n",
       " 'category_facets': <cast.filters.SlugChoicesField at 0x128e71760>,\n",
       " 'tag_facets': <cast.filters.SlugChoicesField at 0x1295bdca0>,\n",
       " 'date_facets': <cast.filters.AllDateChoicesField at 0x1295bdc40>,\n",
       " 'o': <django_filters.filters.BaseCSVFilter.__init__.<locals>.ConcreteCSVField at 0x1295bff20>}"
      ]
     },
     "execution_count": 27,
     "metadata": {},
     "output_type": "execute_result"
    }
   ],
   "source": [
    "form.fields"
   ]
  },
  {
   "cell_type": "code",
   "execution_count": 24,
   "id": "3195ccba-4330-48e9-97d8-feb614b25495",
   "metadata": {
    "tags": []
   },
   "outputs": [],
   "source": [
    "category_facets = form.fields[\"category_facets\"]"
   ]
  },
  {
   "cell_type": "code",
   "execution_count": 26,
   "id": "14a4f0fb-bba8-4aca-b95d-7447c2d2cf9a",
   "metadata": {
    "tags": []
   },
   "outputs": [
    {
     "data": {
      "text/plain": [
       "[('', '---------'),\n",
       " ('TIL', 'Today I Learned (3)'),\n",
       " ('cooking', 'Cooking (1)'),\n",
       " ('weeknotes', 'WeekNotes (107)')]"
      ]
     },
     "execution_count": 26,
     "metadata": {},
     "output_type": "execute_result"
    }
   ],
   "source": [
    "list(category_facets.choices)"
   ]
  },
  {
   "cell_type": "markdown",
   "id": "2d543b4c-a605-45e9-acf4-991503b237f1",
   "metadata": {},
   "source": [
    "# Reconstruct Form"
   ]
  },
  {
   "cell_type": "code",
   "execution_count": null,
   "id": "a1a3ed83-e95e-41f1-a7b4-c43666df828d",
   "metadata": {
    "tags": []
   },
   "outputs": [],
   "source": [
    "reset_queries()\n",
    "filterset = PostFilterset()\n",
    "filter\n",
    "print(len(connection.queries))"
   ]
  },
  {
   "cell_type": "code",
   "execution_count": null,
   "id": "fb348a98-0828-4c52-8bd9-3142147f6331",
   "metadata": {
    "tags": []
   },
   "outputs": [],
   "source": [
    "adcf = filterset.form.fields[\"date_facets\"]"
   ]
  },
  {
   "cell_type": "code",
   "execution_count": null,
   "id": "a3133a93-bd15-4e5f-aacc-a6e672a2f1c8",
   "metadata": {
    "tags": []
   },
   "outputs": [],
   "source": [
    "filterset.filters[\"date_facets\"].set_field_choices(list(date_facets.choices))\n",
    "delattr(filterset, \"_form\")"
   ]
  },
  {
   "cell_type": "code",
   "execution_count": null,
   "id": "7263342c-a0ae-4579-8970-2db9eb2f7d75",
   "metadata": {
    "tags": []
   },
   "outputs": [],
   "source": [
    "print(filterset.form)"
   ]
  },
  {
   "cell_type": "code",
   "execution_count": 14,
   "id": "767f8a65-732b-477e-acd3-d0e35c6e0c42",
   "metadata": {
    "tags": []
   },
   "outputs": [
    {
     "name": "stdout",
     "output_type": "stream",
     "text": [
      "0\n"
     ]
    }
   ],
   "source": [
    "reset_queries()\n",
    "Post.objects.none().exists()\n",
    "print(len(connection.queries))"
   ]
  },
  {
   "cell_type": "code",
   "execution_count": 15,
   "id": "0b72e805-5652-4eb7-a38b-fb7ce00eb0f3",
   "metadata": {
    "tags": []
   },
   "outputs": [
    {
     "data": {
      "text/plain": [
       "False"
      ]
     },
     "execution_count": 15,
     "metadata": {},
     "output_type": "execute_result"
    }
   ],
   "source": [
    "Post.objects.none() is Post.objects.none()"
   ]
  },
  {
   "cell_type": "code",
   "execution_count": 16,
   "id": "da595ec4-0d0f-4174-8cae-66ebcbf9a222",
   "metadata": {
    "tags": []
   },
   "outputs": [],
   "source": [
    "filterset = PostFilterset({\"search\": \"karlsruhe\"}, Post.objects.none())"
   ]
  },
  {
   "cell_type": "code",
   "execution_count": null,
   "id": "b47d027e-9bb8-4d2e-a012-230b78586009",
   "metadata": {},
   "outputs": [],
   "source": []
  }
 ],
 "metadata": {
  "kernelspec": {
   "display_name": "Django Kernel",
   "language": "python",
   "name": "django_extensions"
  },
  "language_info": {
   "codemirror_mode": {
    "name": "ipython",
    "version": 3
   },
   "file_extension": ".py",
   "mimetype": "text/x-python",
   "name": "python",
   "nbconvert_exporter": "python",
   "pygments_lexer": "ipython3",
   "version": "3.12.3"
  }
 },
 "nbformat": 4,
 "nbformat_minor": 5
}
