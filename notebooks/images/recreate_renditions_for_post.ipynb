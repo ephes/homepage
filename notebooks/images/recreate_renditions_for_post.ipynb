{
 "cells": [
  {
   "cell_type": "markdown",
   "id": "ce54c198-fdd5-433f-b64a-8600c863ade4",
   "metadata": {},
   "source": [
    "# Is it possible to just regenerate all Renditions for a post?\n",
    "\n",
    "Would be nice to be able to regenerate all renditions for two reasons:\n",
    "\n",
    "- Remove old renditions which are no longer needed\n",
    "- Create all thumbnail / modal renditions in different formats for picture element"
   ]
  },
  {
   "cell_type": "code",
   "execution_count": 5,
   "id": "f6a6abc2-a9e4-4e01-943c-afabf3ee1b13",
   "metadata": {
    "tags": []
   },
   "outputs": [],
   "source": [
    "from cast import appsettings\n",
    "from cast.blocks import Thumbnail\n",
    "\n",
    "\n",
    "def get_all_regular_images_for_post(post):\n",
    "    for image in post.images.all():\n",
    "        yield image\n",
    "\n",
    "        \n",
    "def get_all_gallery_images_for_post(post):\n",
    "    for gallery in post.galleries.all():\n",
    "        for image in gallery.images.all():\n",
    "            yield image\n",
    "            \n",
    "\n",
    "def get_all_images_for_post(post):\n",
    "    for image in get_all_regular_images_for_post(post):\n",
    "        yield image\n",
    "    for image in get_all_gallery_images_for_post(post):\n",
    "        yield image\n",
    "            \n",
    "\n",
    "def get_all_renditions(post):\n",
    "    for image in get_all_images_for_post(post):\n",
    "        for rendition in image.renditions.all():\n",
    "            yield rendition\n",
    "\n",
    "def get_all_required_image_renditions(post):\n",
    "    image_slot_width, image_slot_height = appsettings.CAST_IMAGE_SLOT_DIMENSIONS\n",
    "    \n",
    "    for image in get_all_regular_images_for_post(post):\n",
    "        display = Thumbnail(image, image_slot_width, image_slot_height)\n",
    "        for image_format, renditions in display.renditions.items():\n",
    "            for rendition in renditions:\n",
    "                yield rendition\n",
    "\n",
    "\n",
    "def get_all_required_gallery_renditions(post):\n",
    "    image_slot_width, image_slot_height = appsettings.CAST_IMAGE_SLOT_DIMENSIONS\n",
    "    thumbnail_slot_width, thumbnail_slot_height = appsettings.CAST_THUMBNAIL_SLOT_DIMENSIONS\n",
    "    \n",
    "    for image in get_all_gallery_images_for_post(post):\n",
    "        thumbnail = Thumbnail(image, thumbnail_slot_width, thumbnail_slot_height)\n",
    "        display = Thumbnail(image, image_slot_width, image_slot_height)\n",
    "        for image_format, renditions in thumbnail.renditions.items():\n",
    "            for rendition in renditions:\n",
    "                yield rendition\n",
    "        for image_format, renditions in display.renditions.items():\n",
    "            for rendition in renditions:\n",
    "                yield rendition                \n",
    "\n",
    "\n",
    "def get_all_required_renditions(post):\n",
    "    created_image_renditions = set(get_all_required_image_renditions(post))\n",
    "    created_gallery_renditions = set(get_all_required_gallery_renditions(post))\n",
    "    return created_image_renditions.union(created_gallery_renditions)\n",
    "\n",
    "\n",
    "def delete_renditions(renditions):\n",
    "    for rendition in renditions:\n",
    "        rendition.delete()\n",
    "\n",
    "\n",
    "def clean_up_renditions(post):\n",
    "\n",
    "    existing_renditions = set(get_all_renditions(post))\n",
    "    required_renditions = get_all_required_renditions(post)\n",
    "    obsolete_renditions = existing_renditions - required_renditions\n",
    "    \n",
    "    # delete_renditions(obsolete_renditions)\n",
    "    print(obsolete_renditions)"
   ]
  },
  {
   "cell_type": "code",
   "execution_count": 8,
   "id": "28037892-3a76-4e50-b8e2-a74b946dfc91",
   "metadata": {
    "tags": []
   },
   "outputs": [
    {
     "name": "stdout",
     "output_type": "stream",
     "text": [
      "set()\n"
     ]
    }
   ],
   "source": [
    "post = Post.objects.get(slug=\"november-2023-11-13\")\n",
    "clean_up_renditions(post)"
   ]
  },
  {
   "cell_type": "code",
   "execution_count": 9,
   "id": "48c272fe-febd-4399-a005-437ac76b544a",
   "metadata": {
    "tags": []
   },
   "outputs": [],
   "source": [
    "existing_renditions = set(get_all_renditions(post))"
   ]
  },
  {
   "cell_type": "code",
   "execution_count": 11,
   "id": "013f7f75-b0a0-4e03-9a9c-d28eddc63fc2",
   "metadata": {
    "tags": []
   },
   "outputs": [],
   "source": [
    "rendition = list(existing_renditions)[0]"
   ]
  },
  {
   "cell_type": "code",
   "execution_count": 13,
   "id": "b6ab366b-639e-4d98-a783-69a340a97258",
   "metadata": {
    "tags": []
   },
   "outputs": [
    {
     "data": {
      "text/plain": [
       "'https://d2b7dn9rofvhjd.cloudfront.net/images/Nora_beim_Kinderarzt.width-1110.format-avif.avif'"
      ]
     },
     "execution_count": 13,
     "metadata": {},
     "output_type": "execute_result"
    }
   ],
   "source": [
    "rendition.url"
   ]
  },
  {
   "cell_type": "code",
   "execution_count": 1,
   "id": "d26a1b00-294a-4835-a1c2-3e72799ec1d2",
   "metadata": {
    "tags": []
   },
   "outputs": [],
   "source": [
    "# dir(rendition)"
   ]
  },
  {
   "cell_type": "code",
   "execution_count": 15,
   "id": "c96cbbf7-def3-4bd9-844c-f752067d13ea",
   "metadata": {
    "tags": []
   },
   "outputs": [
    {
     "data": {
      "text/plain": [
       "'width-1110|format-avif'"
      ]
     },
     "execution_count": 15,
     "metadata": {},
     "output_type": "execute_result"
    }
   ],
   "source": [
    "rendition.filter_spec"
   ]
  },
  {
   "cell_type": "markdown",
   "id": "a49e3169-6505-48b4-b35c-fd9b8ba5d690",
   "metadata": {},
   "source": [
    "# Ok, I have a plan!"
   ]
  },
  {
   "cell_type": "code",
   "execution_count": 1,
   "id": "32c2057c-04de-4170-9ad6-7b46fa3339b8",
   "metadata": {
    "tags": []
   },
   "outputs": [],
   "source": [
    "from cast import appsettings as settings\n",
    "from cast.renditions import Rectangle, Width, Height, RenditionFilters\n",
    "\n",
    "def get_all_images_from_queryset(posts):\n",
    "    for post in posts:\n",
    "        for image_type, image in post.get_all_images():\n",
    "            yield image_type, image"
   ]
  },
  {
   "cell_type": "code",
   "execution_count": 2,
   "id": "62fcbe58-9142-4ef8-8e51-2263d01ed83d",
   "metadata": {
    "tags": []
   },
   "outputs": [],
   "source": [
    "posts_queryset = Post.objects.filter(slug=\"november-2023-11-13\").prefetch_related(\"images\", \"galleries__images\")"
   ]
  },
  {
   "cell_type": "code",
   "execution_count": 3,
   "id": "7d542b7a-2776-4e69-bf77-45986bfabdef",
   "metadata": {
    "tags": []
   },
   "outputs": [
    {
     "name": "stdout",
     "output_type": "stream",
     "text": [
      "CPU times: user 112 ms, sys: 7.27 ms, total: 119 ms\n",
      "Wall time: 139 ms\n"
     ]
    }
   ],
   "source": [
    "%%time\n",
    "posts_queryset = Post.objects.all().prefetch_related(\"images\", \"galleries__images\")\n",
    "image_ids_with_filter_strings = set()\n",
    "for image_type, image in get_all_images_from_queryset(posts_queryset):\n",
    "    rfs = RenditionFilters.from_wagtail_image_with_type(image, image_type)\n",
    "    image_pk = image.pk\n",
    "    for filter_string in rfs.filter_strings:\n",
    "        image_ids_with_filter_strings.add((image_pk, filter_string))"
   ]
  },
  {
   "cell_type": "code",
   "execution_count": 4,
   "id": "543f9676-cdbe-475e-aa21-ed6c7a4968a5",
   "metadata": {
    "tags": []
   },
   "outputs": [
    {
     "data": {
      "text/plain": [
       "21922"
      ]
     },
     "execution_count": 4,
     "metadata": {},
     "output_type": "execute_result"
    }
   ],
   "source": [
    "len(image_ids_with_filter_strings)"
   ]
  },
  {
   "cell_type": "code",
   "execution_count": 5,
   "id": "61d2d3f9-eeff-4a68-aebb-8aa36e4adfa6",
   "metadata": {
    "tags": []
   },
   "outputs": [
    {
     "name": "stdout",
     "output_type": "stream",
     "text": [
      "CPU times: user 14.5 ms, sys: 3.39 ms, total: 17.9 ms\n",
      "Wall time: 20.2 ms\n"
     ]
    }
   ],
   "source": [
    "%%time\n",
    "existing_renditions = set(Rendition.objects.all().values_list(\"image_id\", \"filter_spec\"))\n",
    "obsolete_renditions = existing_renditions - image_ids_with_filter_strings\n",
    "missing_renditions = image_ids_with_filter_strings - existing_renditions"
   ]
  },
  {
   "cell_type": "code",
   "execution_count": 13,
   "id": "0b6388a1-1ca2-420a-87b3-7602ed1892c7",
   "metadata": {
    "tags": []
   },
   "outputs": [],
   "source": [
    "obsolete_by_image_id = {}\n",
    "for image_id, filter_spec in obsolete_renditions:\n",
    "    obsolete_by_image_id.setdefault(image_id, []).append(filter_spec)\n",
    "missing_by_image_id = {}\n",
    "for image_id, filter_spec in missing_renditions:\n",
    "    missing_by_image_id.setdefault(image_id, []).append(filter_spec)"
   ]
  },
  {
   "cell_type": "code",
   "execution_count": 8,
   "id": "14227396-f57f-4534-91c7-85891bb14c82",
   "metadata": {
    "tags": []
   },
   "outputs": [
    {
     "data": {
      "text/plain": [
       "870"
      ]
     },
     "execution_count": 8,
     "metadata": {},
     "output_type": "execute_result"
    }
   ],
   "source": [
    "list(obsolete_by_image_id.keys())[0]"
   ]
  },
  {
   "cell_type": "code",
   "execution_count": 9,
   "id": "2954d62c-fad7-4169-a01b-e73c8759dded",
   "metadata": {
    "tags": []
   },
   "outputs": [],
   "source": [
    "image = Image.objects.get(pk=870)"
   ]
  },
  {
   "cell_type": "code",
   "execution_count": 11,
   "id": "e170095b-9f9e-4918-9f0c-5f9b38cd8a6a",
   "metadata": {
    "tags": []
   },
   "outputs": [
    {
     "data": {
      "text/plain": [
       "'cast_images/originals/Xn6b8sfMS8efd3vSX8ltw.jpg'"
      ]
     },
     "execution_count": 11,
     "metadata": {},
     "output_type": "execute_result"
    }
   ],
   "source": [
    "image.file.name"
   ]
  },
  {
   "cell_type": "code",
   "execution_count": 12,
   "id": "2ebad9f6-0cd1-4345-890b-46af89d64818",
   "metadata": {
    "tags": []
   },
   "outputs": [
    {
     "data": {
      "text/plain": [
       "['width-300',\n",
       " 'width-768',\n",
       " 'width-500',\n",
       " 'max-120x80',\n",
       " 'width-2200',\n",
       " 'width-1100']"
      ]
     },
     "execution_count": 12,
     "metadata": {},
     "output_type": "execute_result"
    }
   ],
   "source": [
    "obsolete_by_image_id[870]"
   ]
  },
  {
   "cell_type": "code",
   "execution_count": 14,
   "id": "69306c0b-858b-4dab-98f6-1d1cd287a0bd",
   "metadata": {
    "tags": []
   },
   "outputs": [
    {
     "data": {
      "text/plain": [
       "['width-214|format-avif',\n",
       " 'width-107',\n",
       " 'width-321',\n",
       " 'width-107|format-avif',\n",
       " 'width-1974',\n",
       " 'width-1974|format-avif',\n",
       " 'width-214',\n",
       " 'width-987',\n",
       " 'width-321|format-avif',\n",
       " 'width-987|format-avif',\n",
       " 'width-2961',\n",
       " 'width-2961|format-avif']"
      ]
     },
     "execution_count": 14,
     "metadata": {},
     "output_type": "execute_result"
    }
   ],
   "source": [
    "missing_by_image_id[870]"
   ]
  },
  {
   "cell_type": "code",
   "execution_count": 28,
   "id": "9428a722-3917-486a-a017-63cfd56a7460",
   "metadata": {
    "tags": []
   },
   "outputs": [],
   "source": [
    "image = Image.objects.get(pk=1426)"
   ]
  },
  {
   "cell_type": "code",
   "execution_count": 29,
   "id": "bd2688dd-18df-497d-9fae-40d27b034d1b",
   "metadata": {
    "tags": []
   },
   "outputs": [
    {
     "data": {
      "text/plain": [
       "'original_images/pytest_knolling.png'"
      ]
     },
     "execution_count": 29,
     "metadata": {},
     "output_type": "execute_result"
    }
   ],
   "source": [
    "image.file.name"
   ]
  },
  {
   "cell_type": "code",
   "execution_count": 5,
   "id": "17ed297c-f990-47eb-8e40-c28fa49270c3",
   "metadata": {
    "tags": []
   },
   "outputs": [
    {
     "data": {
      "text/plain": [
       "'https://d2b7dn9rofvhjd.cloudfront.net/images/Katharina_liest_Carl_Nora_und_Elli_den_Gruff.max-800x600.jpg'"
      ]
     },
     "execution_count": 5,
     "metadata": {},
     "output_type": "execute_result"
    }
   ],
   "source": [
    "rendition.url"
   ]
  },
  {
   "cell_type": "code",
   "execution_count": 7,
   "id": "6dfaef6a-5b60-49f1-82e7-9feaa9b5fe28",
   "metadata": {
    "tags": []
   },
   "outputs": [
    {
     "data": {
      "text/plain": [
       "(1, {'wagtailimages.Rendition': 1})"
      ]
     },
     "execution_count": 7,
     "metadata": {},
     "output_type": "execute_result"
    }
   ],
   "source": [
    "rendition.delete()"
   ]
  },
  {
   "cell_type": "code",
   "execution_count": 10,
   "id": "9342e2d6-db29-4888-a196-26eac64aeb6b",
   "metadata": {
    "tags": []
   },
   "outputs": [],
   "source": [
    "rendition = Rendition.objects.get(image_id=2091, filter_spec=\"max-800x600\")"
   ]
  },
  {
   "cell_type": "code",
   "execution_count": 11,
   "id": "b08fa213-61bb-473b-ba38-cd08639d422a",
   "metadata": {
    "tags": []
   },
   "outputs": [
    {
     "data": {
      "text/plain": [
       "<Rendition: Rendition object (30869)>"
      ]
     },
     "execution_count": 11,
     "metadata": {},
     "output_type": "execute_result"
    }
   ],
   "source": [
    "rendition"
   ]
  },
  {
   "cell_type": "code",
   "execution_count": 17,
   "id": "9450689e-2db8-44bc-b30d-7bbb77ac4dde",
   "metadata": {
    "tags": []
   },
   "outputs": [],
   "source": [
    "existing_rendition_to_id = {(image_id, filter_spec): pk for pk, image_id, filter_spec in Rendition.objects.all().values_list(\"pk\", \"image_id\", \"filter_spec\")}"
   ]
  },
  {
   "cell_type": "code",
   "execution_count": 19,
   "id": "adcd509b-bc35-401e-9f35-056d729cc1cb",
   "metadata": {
    "tags": []
   },
   "outputs": [],
   "source": [
    "#set(existing_rendition_to_id.keys())"
   ]
  },
  {
   "cell_type": "code",
   "execution_count": 20,
   "id": "d3041f75-7123-4294-8b03-57897f37a608",
   "metadata": {
    "tags": []
   },
   "outputs": [],
   "source": [
    "rendition = Rendition.objects.get(pk=30621)"
   ]
  },
  {
   "cell_type": "code",
   "execution_count": 24,
   "id": "a2c8fc41-0ff4-4d13-b668-5259103975ab",
   "metadata": {
    "tags": []
   },
   "outputs": [
    {
     "data": {
      "text/plain": [
       "'images/Katharina_liest_Carl_Nora_und_Elli.width-987.format-jpeg_cXjFYrW.jpg'"
      ]
     },
     "execution_count": 24,
     "metadata": {},
     "output_type": "execute_result"
    }
   ],
   "source": [
    "rendition.file.name"
   ]
  },
  {
   "cell_type": "code",
   "execution_count": 25,
   "id": "9a8ac5d3-867c-4584-acd5-4de1a94aa4af",
   "metadata": {
    "tags": []
   },
   "outputs": [
    {
     "data": {
      "text/plain": [
       "'width-987|format-jpeg'"
      ]
     },
     "execution_count": 25,
     "metadata": {},
     "output_type": "execute_result"
    }
   ],
   "source": [
    "rendition.filter_spec"
   ]
  },
  {
   "cell_type": "code",
   "execution_count": null,
   "id": "ed08e9f3-7db8-4ae3-be68-bde7f025c14a",
   "metadata": {},
   "outputs": [],
   "source": []
  }
 ],
 "metadata": {
  "kernelspec": {
   "display_name": "Django Kernel",
   "language": "python",
   "name": "django_extensions"
  },
  "language_info": {
   "codemirror_mode": {
    "name": "ipython",
    "version": 3
   },
   "file_extension": ".py",
   "mimetype": "text/x-python",
   "name": "python",
   "nbconvert_exporter": "python",
   "pygments_lexer": "ipython3",
   "version": "3.12.0"
  }
 },
 "nbformat": 4,
 "nbformat_minor": 5
}
