{
 "cells": [
  {
   "cell_type": "code",
   "execution_count": 9,
   "id": "91e5b9fb-4fd9-40b5-a0c1-3900ea0d4720",
   "metadata": {},
   "outputs": [],
   "source": [
    "import requests"
   ]
  },
  {
   "cell_type": "code",
   "execution_count": 2,
   "id": "41432d67-6d31-43cf-94d1-1f26380ac6a9",
   "metadata": {},
   "outputs": [],
   "source": [
    "url = \"https://wersdoerfer.de/blogs/api/update_theme/\""
   ]
  },
  {
   "cell_type": "code",
   "execution_count": 26,
   "id": "c658e8e5-7ad7-4bc3-a6a3-92b94cc499d8",
   "metadata": {},
   "outputs": [],
   "source": [
    "#headers = {'Content-type': 'application/json', 'Accept': 'text/plain'}\n",
    "r = requests.post(url, json=1)"
   ]
  },
  {
   "cell_type": "code",
   "execution_count": 27,
   "id": "4fafadc2-bddc-4348-9d9b-8a85b9cfdf65",
   "metadata": {},
   "outputs": [
    {
     "data": {
      "text/plain": [
       "500"
      ]
     },
     "execution_count": 27,
     "metadata": {},
     "output_type": "execute_result"
    }
   ],
   "source": [
    "r.status_code"
   ]
  },
  {
   "cell_type": "code",
   "execution_count": 28,
   "id": "0b532f80-9760-4058-8ad1-b8d325f2e746",
   "metadata": {},
   "outputs": [
    {
     "data": {
      "text/plain": [
       "b'\\n\\n<!DOCTYPE html>\\n<html lang=\"en\">\\n  <head>\\n    <title>Server Error</title>\\n    \\n      <meta charset=\"utf-8\">\\n      <meta http-equiv=\"x-ua-compatible\" content=\"ie=edge\">\\n      <meta name=\"viewport\" content=\"width=device-width, initial-scale=1.0\">\\n      <meta name=\"description\" content=\"\">\\n      <meta name=\"author\" content=\"\">\\n    \\n    \\n      <link rel=\"stylesheet\" href=\"/static/cast_bootstrap5/css/bootstrap5/bootstrap.min.c0b25d828ff2.css\">\\n      <link href=\"/static/cast_bootstrap5/css/bootstrap5/cast.f7c91e71d562.css\" rel=\"stylesheet\">\\n    \\n    \\n    \\n  </head>\\n\\n  <body hx-headers=\\'{\"X-CSRFToken\": \"\"}\\'>\\n    \\n  <a href=\"https://fedi.wersdoerfer.de/@jochen\" rel=\"me\"></a>\\n\\n    \\n  <nav class=\"navbar navbar-expand-lg bg-light\">\\n    <div class=\"container-fluid\">\\n      <a class=\"navbar-brand\" href=\"/\">Home</a>\\n      <button class=\"navbar-toggler\" type=\"button\" data-bs-toggle=\"collapse\" data-bs-target=\"#navbarSupportedContent\" aria-controls=\"navbarSupportedContent\" aria-expanded=\"false\" aria-label=\"Toggle navigation\">\\n        <span class=\"navbar-toggler-icon\"></span>\\n      </button>\\n      <div class=\"collapse navbar-collapse\" id=\"navbarSupportedContent\">\\n        <ul class=\"navbar-nav me-auto mb-2 mb-lg-0\">\\n          <li class=\"nav-item\">\\n            <a class=\"nav-link\" href=\"/blogs/ephes_blog/\">Jochens Blog</a>\\n          </li>\\n          <li class=\"nav-item\">\\n            <a class=\"nav-link\" href=\"/about/\">About</a>\\n          </li>\\n          <li class=\"nav-item\">\\n            <a class=\"nav-link\" href=\"/jochen/\">Jochen</a>\\n          </li>\\n          <li class=\"nav-item\">\\n            <a class=\"nav-link\" href=\"/katharina/\">Katharina</a>\\n          </li>\\n          \\n            <!--\\n              <li class=\"nav-item\">\\n                \\n                <a id=\"sign-up-link\" class=\"nav-link\" href=\"/accounts/signup/\">Sign Up</a>\\n              -->\\n            </li>\\n            <li class=\"nav-item\">\\n              \\n              <a id=\"log-in-link\" class=\"nav-link\" href=\"/accounts/login/\">Sign In</a>\\n            </li>\\n          \\n          \\n        </ul>\\n      </div>\\n    </div>\\n  </nav>\\n\\n    <div class=\"container\">\\n      \\n        \\n      \\n\\n      \\n  <h1>Ooops!!! 500</h1>\\n\\n  <h3>Looks like something went wrong!</h3>\\n\\n  <p>We track these errors automatically, but if the problem persists feel free to contact us. In the meantime, try refreshing.</p>\\n\\n    </div>\\n    \\n    <div class=\"additional_javascript\">\\n      \\n  \\n        <script defer src=\"/static/cast_bootstrap5/js/bootstrap5/bootstrap.bundle.min.47c9a532f47b.js\"></script>\\n        <script defer src=\"/static/cast_bootstrap5/js/htmx.min.ca07526d94aa.js\"></script>\\n\\n        <!-- place project specific Javascript in this file -->\\n        \\n      \\n  <script async data-domain=\"wersdoerfer.de\" src=\"https://plausible.io/js/script.js\"></script>\\n\\n    </div>\\n  </body>\\n</html>\\n'"
      ]
     },
     "execution_count": 28,
     "metadata": {},
     "output_type": "execute_result"
    }
   ],
   "source": [
    "r.content"
   ]
  },
  {
   "cell_type": "code",
   "execution_count": null,
   "id": "89d2967c-23d0-4368-826f-da1e02cf02e2",
   "metadata": {},
   "outputs": [],
   "source": []
  }
 ],
 "metadata": {
  "kernelspec": {
   "display_name": "Python 3 (ipykernel)",
   "language": "python",
   "name": "python3"
  },
  "language_info": {
   "codemirror_mode": {
    "name": "ipython",
    "version": 3
   },
   "file_extension": ".py",
   "mimetype": "text/x-python",
   "name": "python",
   "nbconvert_exporter": "python",
   "pygments_lexer": "ipython3",
   "version": "3.12.4"
  }
 },
 "nbformat": 4,
 "nbformat_minor": 5
}
