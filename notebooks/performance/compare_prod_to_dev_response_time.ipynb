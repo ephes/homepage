{
 "cells": [
  {
   "cell_type": "code",
   "execution_count": 1,
   "id": "fdd1c5e7-035e-4cd4-8d62-b1cd1f875f15",
   "metadata": {
    "tags": []
   },
   "outputs": [],
   "source": [
    "import httpx"
   ]
  },
  {
   "cell_type": "markdown",
   "id": "23bf08ed-145c-4776-9491-fcfde5733388",
   "metadata": {},
   "source": [
    "# Comparing prod and dev\n",
    "\n",
    "Ok, not much difference here."
   ]
  },
  {
   "cell_type": "code",
   "execution_count": 2,
   "id": "f8efc4ff-27e3-45cb-b4cd-241782ad8eea",
   "metadata": {
    "tags": []
   },
   "outputs": [],
   "source": [
    "prod = \"https://wersdoerfer.de\"\n",
    "staging = \"https://homepage.staging.django-cast.com\"\n",
    "dev = \"http://localhost:8000\"\n",
    "blog_slug = \"ephes_blog\"\n",
    "# blog_slug = \"das_claas_und_nora_blog\""
   ]
  },
  {
   "cell_type": "code",
   "execution_count": 3,
   "id": "1874c6f6-3bb8-44e6-bf15-a3da908f2e42",
   "metadata": {
    "tags": []
   },
   "outputs": [
    {
     "name": "stdout",
     "output_type": "stream",
     "text": [
      "59186\n",
      "CPU times: user 18.8 ms, sys: 4.46 ms, total: 23.3 ms\n",
      "Wall time: 206 ms\n"
     ]
    }
   ],
   "source": [
    "%%time\n",
    "r = httpx.get(f\"{prod}/blogs/{blog_slug}/\")\n",
    "r.raise_for_status()\n",
    "content = r.text\n",
    "print(len(content))"
   ]
  },
  {
   "cell_type": "code",
   "execution_count": 4,
   "id": "02a9d93d-acfd-4d68-beea-005e3f77de82",
   "metadata": {
    "tags": []
   },
   "outputs": [
    {
     "name": "stdout",
     "output_type": "stream",
     "text": [
      "81601\n",
      "CPU times: user 21.6 ms, sys: 5.03 ms, total: 26.7 ms\n",
      "Wall time: 191 ms\n"
     ]
    }
   ],
   "source": [
    "%%time\n",
    "r = httpx.get(f\"{staging}/blogs/{blog_slug}/\")\n",
    "r.raise_for_status()\n",
    "content = r.text\n",
    "print(len(content))"
   ]
  },
  {
   "cell_type": "code",
   "execution_count": 5,
   "id": "7f198dd8-d80f-4bbd-a6ca-01859c0241cc",
   "metadata": {
    "tags": []
   },
   "outputs": [
    {
     "name": "stdout",
     "output_type": "stream",
     "text": [
      "68942\n",
      "CPU times: user 14.3 ms, sys: 2.92 ms, total: 17.2 ms\n",
      "Wall time: 390 ms\n"
     ]
    }
   ],
   "source": [
    "%%time\n",
    "r = httpx.get(f\"{dev}/blogs/{blog_slug}/\")\n",
    "r.raise_for_status()\n",
    "content = r.text\n",
    "print(len(content))"
   ]
  },
  {
   "cell_type": "code",
   "execution_count": 6,
   "id": "8795aa0e-28a1-454f-b17c-e9269dc4b132",
   "metadata": {
    "tags": []
   },
   "outputs": [
    {
     "name": "stdout",
     "output_type": "stream",
     "text": [
      "68942\n",
      "CPU times: user 13.8 ms, sys: 2.88 ms, total: 16.7 ms\n",
      "Wall time: 460 ms\n"
     ]
    }
   ],
   "source": [
    "%%time\n",
    "r = httpx.get(f\"{dev}/blogs/{blog_slug}/\")\n",
    "r.raise_for_status()\n",
    "content = r.text\n",
    "print(len(content))"
   ]
  },
  {
   "cell_type": "markdown",
   "id": "dcd68ecd-2a0f-4b93-aa56-06a395eb2d93",
   "metadata": {},
   "source": [
    "# How long does the serve call take?"
   ]
  },
  {
   "cell_type": "code",
   "execution_count": 9,
   "id": "49b79b42-aa90-41fa-ab50-59e095f102ea",
   "metadata": {
    "tags": []
   },
   "outputs": [],
   "source": [
    "from django.test.client import RequestFactory\n",
    "from django_htmx.middleware import HtmxDetails"
   ]
  },
  {
   "cell_type": "code",
   "execution_count": 10,
   "id": "f01ff56c-6063-4012-87f8-524c168c9191",
   "metadata": {
    "tags": []
   },
   "outputs": [],
   "source": [
    "request_factory = RequestFactory()\n",
    "request = request_factory.get(\"/\")\n",
    "request.htmx = HtmxDetails(request)"
   ]
  },
  {
   "cell_type": "code",
   "execution_count": 11,
   "id": "4daac98f-a69e-4284-acd5-ddb51d95943d",
   "metadata": {
    "tags": []
   },
   "outputs": [],
   "source": [
    "blog = Blog.objects.get(slug=blog_slug)"
   ]
  },
  {
   "cell_type": "code",
   "execution_count": 12,
   "id": "536c7c64-f84d-4b4b-86b1-4d2f1817ffa9",
   "metadata": {
    "tags": []
   },
   "outputs": [
    {
     "name": "stdout",
     "output_type": "stream",
     "text": [
      "59238\n",
      "CPU times: user 265 ms, sys: 58.4 ms, total: 324 ms\n",
      "Wall time: 389 ms\n"
     ]
    },
    {
     "name": "stderr",
     "output_type": "stream",
     "text": [
      "/Users/jochen/.virtualenvs/homepage/lib/python3.12/site-packages/wagtail/blocks/base.py:233: RemovedInWagtail60Warning: GalleryBlock.get_template should accept a 'value' argument as first argument\n",
      "  warnings.warn(\n"
     ]
    }
   ],
   "source": [
    "%%time\n",
    "response = blog.serve(request).render()\n",
    "print(len(response.content))"
   ]
  },
  {
   "cell_type": "code",
   "execution_count": 10,
   "id": "a8d41382-9705-48e7-8f9b-20d2a3eb42c5",
   "metadata": {
    "tags": []
   },
   "outputs": [
    {
     "data": {
      "text/plain": [
       "['das_claas_und_nora_blog', 'ephes_blog']"
      ]
     },
     "execution_count": 10,
     "metadata": {},
     "output_type": "execute_result"
    }
   ],
   "source": [
    "[b.slug for b in Blog.objects.all()]"
   ]
  },
  {
   "cell_type": "code",
   "execution_count": 11,
   "id": "ca7a28e3-9529-42f5-8dce-6463b7fac45b",
   "metadata": {
    "tags": []
   },
   "outputs": [],
   "source": [
    "#Rendition.objects.all().delete()"
   ]
  },
  {
   "cell_type": "code",
   "execution_count": 45,
   "id": "f4fb15ba-6779-42c5-a07e-2ab38840cc44",
   "metadata": {
    "tags": []
   },
   "outputs": [],
   "source": [
    "slug = \"weeknotes-2023-07-24\"\n",
    "post = Post.objects.get(slug=slug)"
   ]
  },
  {
   "cell_type": "code",
   "execution_count": 46,
   "id": "e0e12e50-1ece-4cf3-91b8-492f40e0e316",
   "metadata": {
    "tags": []
   },
   "outputs": [],
   "source": [
    "post.sync_media_ids()"
   ]
  },
  {
   "cell_type": "code",
   "execution_count": 47,
   "id": "756bab9c-c03a-4e20-90d1-e8e43282406c",
   "metadata": {
    "tags": []
   },
   "outputs": [
    {
     "data": {
      "text/plain": [
       "{'image': set(), 'video': set(), 'gallery': {228}, 'audio': set()}"
      ]
     },
     "execution_count": 47,
     "metadata": {},
     "output_type": "execute_result"
    }
   ],
   "source": [
    "post.media_ids_from_db"
   ]
  },
  {
   "cell_type": "code",
   "execution_count": 48,
   "id": "ff611144-f629-4fa0-ac3c-364206b1260d",
   "metadata": {
    "tags": []
   },
   "outputs": [
    {
     "data": {
      "text/plain": [
       "{'gallery': {228}}"
      ]
     },
     "execution_count": 48,
     "metadata": {},
     "output_type": "execute_result"
    }
   ],
   "source": [
    "post.media_ids_from_body"
   ]
  },
  {
   "cell_type": "code",
   "execution_count": 50,
   "id": "613c5fdf-17c1-49a8-82f5-8d903a7605ef",
   "metadata": {
    "tags": []
   },
   "outputs": [],
   "source": [
    "[gallery] = post.galleries.all()"
   ]
  },
  {
   "cell_type": "code",
   "execution_count": 51,
   "id": "48f7fd8c-3297-44b9-8a3f-b70cd94ea0ab",
   "metadata": {
    "tags": []
   },
   "outputs": [
    {
     "data": {
      "text/plain": [
       "<Gallery: Gallery object (228)>"
      ]
     },
     "execution_count": 51,
     "metadata": {},
     "output_type": "execute_result"
    }
   ],
   "source": [
    "gallery\n"
   ]
  },
  {
   "cell_type": "code",
   "execution_count": 52,
   "id": "8ed0dcb3-66a3-4e0d-a750-a4f95065e69e",
   "metadata": {
    "tags": []
   },
   "outputs": [
    {
     "data": {
      "text/plain": [
       "<ImageQuerySet [<Image: Marktplatz in Vannes>, <Image: Fachwerkhäuser in Vannes>, <Image: Fensterspiegelung>, <Image: Sonnenstern an der Saline>, <Image: Fernglas zum Beobachten der Vögel an der Saline>, <Image: Salz in der Saline>, <Image: Windrad neben der Saline>, <Image: Ein paar Blumen am Wegesrand>, <Image: Atlantikküste vor Quiberon>, <Image: Steilküste vor Quiberon>, <Image: Strand in Quiberon>, <Image: Am Strand von Mousterian>, <Image: Frau am Strand von Mousterian>]>"
      ]
     },
     "execution_count": 52,
     "metadata": {},
     "output_type": "execute_result"
    }
   ],
   "source": [
    "gallery.images.all()"
   ]
  },
  {
   "cell_type": "code",
   "execution_count": 53,
   "id": "d8939a2b-15ec-4c12-bf72-1a6d69ecc400",
   "metadata": {
    "tags": []
   },
   "outputs": [
    {
     "data": {
      "text/plain": [
       "<ImageQuerySet []>"
      ]
     },
     "execution_count": 53,
     "metadata": {},
     "output_type": "execute_result"
    }
   ],
   "source": [
    "post.images.all()"
   ]
  },
  {
   "cell_type": "code",
   "execution_count": 55,
   "id": "13fc906a-416a-46eb-9efc-1094f4818cfe",
   "metadata": {
    "tags": []
   },
   "outputs": [
    {
     "data": {
      "text/plain": [
       "1734"
      ]
     },
     "execution_count": 55,
     "metadata": {},
     "output_type": "execute_result"
    }
   ],
   "source": [
    "Image.objects.count()"
   ]
  },
  {
   "cell_type": "markdown",
   "id": "03f8dd1b-f0e3-4402-b460-c6f5eb66c406",
   "metadata": {},
   "source": [
    "## Count Queries"
   ]
  },
  {
   "cell_type": "code",
   "execution_count": 13,
   "id": "e3222ba5-94ca-4a63-a423-0611892ded83",
   "metadata": {
    "tags": []
   },
   "outputs": [],
   "source": [
    "import sqlparse\n",
    "\n",
    "from django.db import connection, reset_queries"
   ]
  },
  {
   "cell_type": "code",
   "execution_count": 14,
   "id": "a5c91804-437e-48f0-8040-4a1b8d182b27",
   "metadata": {
    "tags": []
   },
   "outputs": [],
   "source": [
    "def count_queries(func):\n",
    "    reset_queries()\n",
    "    response = func()\n",
    "    print(len(response.content))\n",
    "    return len(connection.queries)\n",
    "\n",
    "\n",
    "def show_queries(queries):\n",
    "    for query in queries:\n",
    "        formatted_sql = sqlparse.format(query['sql'], reindent=True, keyword_case='upper')\n",
    "        print(formatted_sql)    "
   ]
  },
  {
   "cell_type": "code",
   "execution_count": 15,
   "id": "8399cac6-52ce-4a58-bc5f-dfa00dfbc710",
   "metadata": {
    "tags": []
   },
   "outputs": [],
   "source": [
    "request_factory = RequestFactory()\n",
    "request = request_factory.get(\"/\")\n",
    "request.htmx = HtmxDetails(request)"
   ]
  },
  {
   "cell_type": "code",
   "execution_count": 16,
   "id": "62bc9c75-95b9-41bf-addf-681196f2ada4",
   "metadata": {
    "tags": []
   },
   "outputs": [],
   "source": [
    "blog = Blog.objects.get(slug=blog_slug)"
   ]
  },
  {
   "cell_type": "code",
   "execution_count": 17,
   "id": "1d7ad4ad-76d4-4a78-aa29-068f750b4d84",
   "metadata": {
    "tags": []
   },
   "outputs": [
    {
     "name": "stdout",
     "output_type": "stream",
     "text": [
      "5\n",
      "CPU times: user 174 ms, sys: 22.5 ms, total: 196 ms\n",
      "Wall time: 209 ms\n"
     ]
    }
   ],
   "source": [
    "%%time\n",
    "num_queries = count_queries(blog.serve(request).render)\n",
    "print(num_queries)"
   ]
  },
  {
   "cell_type": "code",
   "execution_count": 18,
   "id": "0d9ef63f-4733-422e-a68d-6b045b62de34",
   "metadata": {
    "tags": []
   },
   "outputs": [
    {
     "name": "stdout",
     "output_type": "stream",
     "text": [
      "SELECT \"wagtailcore_site\".\"id\",\n",
      "       \"wagtailcore_site\".\"hostname\",\n",
      "       \"wagtailcore_site\".\"port\",\n",
      "       \"wagtailcore_site\".\"site_name\",\n",
      "       \"wagtailcore_site\".\"root_page_id\",\n",
      "       \"wagtailcore_site\".\"is_default_site\",\n",
      "       CASE\n",
      "           WHEN (\"wagtailcore_site\".\"hostname\" = 'testserver'\n",
      "                 AND \"wagtailcore_site\".\"port\" = 80) THEN 0\n",
      "           WHEN (\"wagtailcore_site\".\"hostname\" = 'testserver'\n",
      "                 AND \"wagtailcore_site\".\"is_default_site\") THEN 1\n",
      "           WHEN \"wagtailcore_site\".\"is_default_site\" THEN 2\n",
      "           ELSE 3\n",
      "       END AS \"match\",\n",
      "       \"wagtailcore_page\".\"id\",\n",
      "       \"wagtailcore_page\".\"path\",\n",
      "       \"wagtailcore_page\".\"depth\",\n",
      "       \"wagtailcore_page\".\"numchild\",\n",
      "       \"wagtailcore_page\".\"translation_key\",\n",
      "       \"wagtailcore_page\".\"locale_id\",\n",
      "       \"wagtailcore_page\".\"latest_revision_id\",\n",
      "       \"wagtailcore_page\".\"live\",\n",
      "       \"wagtailcore_page\".\"has_unpublished_changes\",\n",
      "       \"wagtailcore_page\".\"first_published_at\",\n",
      "       \"wagtailcore_page\".\"last_published_at\",\n",
      "       \"wagtailcore_page\".\"live_revision_id\",\n",
      "       \"wagtailcore_page\".\"go_live_at\",\n",
      "       \"wagtailcore_page\".\"expire_at\",\n",
      "       \"wagtailcore_page\".\"expired\",\n",
      "       \"wagtailcore_page\".\"locked\",\n",
      "       \"wagtailcore_page\".\"locked_at\",\n",
      "       \"wagtailcore_page\".\"locked_by_id\",\n",
      "       \"wagtailcore_page\".\"title\",\n",
      "       \"wagtailcore_page\".\"draft_title\",\n",
      "       \"wagtailcore_page\".\"slug\",\n",
      "       \"wagtailcore_page\".\"content_type_id\",\n",
      "       \"wagtailcore_page\".\"url_path\",\n",
      "       \"wagtailcore_page\".\"owner_id\",\n",
      "       \"wagtailcore_page\".\"seo_title\",\n",
      "       \"wagtailcore_page\".\"show_in_menus\",\n",
      "       \"wagtailcore_page\".\"search_description\",\n",
      "       \"wagtailcore_page\".\"latest_revision_created_at\",\n",
      "       \"wagtailcore_page\".\"alias_of_id\"\n",
      "FROM \"wagtailcore_site\"\n",
      "INNER JOIN \"wagtailcore_page\" ON (\"wagtailcore_site\".\"root_page_id\" = \"wagtailcore_page\".\"id\")\n",
      "WHERE (\"wagtailcore_site\".\"hostname\" = 'testserver'\n",
      "       OR \"wagtailcore_site\".\"is_default_site\")\n",
      "ORDER BY 7 ASC\n",
      "SELECT \"cast_templatebasedirectory\".\"id\",\n",
      "       \"cast_templatebasedirectory\".\"site_id\",\n",
      "       \"cast_templatebasedirectory\".\"name\"\n",
      "FROM \"cast_templatebasedirectory\"\n",
      "WHERE \"cast_templatebasedirectory\".\"site_id\" = 1\n",
      "LIMIT 21\n",
      "SELECT \"wagtailcore_page\".\"id\",\n",
      "       \"wagtailcore_page\".\"path\",\n",
      "       \"wagtailcore_page\".\"depth\",\n",
      "       \"wagtailcore_page\".\"numchild\",\n",
      "       \"wagtailcore_page\".\"translation_key\",\n",
      "       \"wagtailcore_page\".\"locale_id\",\n",
      "       \"wagtailcore_page\".\"latest_revision_id\",\n",
      "       \"wagtailcore_page\".\"live\",\n",
      "       \"wagtailcore_page\".\"has_unpublished_changes\",\n",
      "       \"wagtailcore_page\".\"first_published_at\",\n",
      "       \"wagtailcore_page\".\"last_published_at\",\n",
      "       \"wagtailcore_page\".\"live_revision_id\",\n",
      "       \"wagtailcore_page\".\"go_live_at\",\n",
      "       \"wagtailcore_page\".\"expire_at\",\n",
      "       \"wagtailcore_page\".\"expired\",\n",
      "       \"wagtailcore_page\".\"locked\",\n",
      "       \"wagtailcore_page\".\"locked_at\",\n",
      "       \"wagtailcore_page\".\"locked_by_id\",\n",
      "       \"wagtailcore_page\".\"title\",\n",
      "       \"wagtailcore_page\".\"draft_title\",\n",
      "       \"wagtailcore_page\".\"slug\",\n",
      "       \"wagtailcore_page\".\"content_type_id\",\n",
      "       \"wagtailcore_page\".\"url_path\",\n",
      "       \"wagtailcore_page\".\"owner_id\",\n",
      "       \"wagtailcore_page\".\"seo_title\",\n",
      "       \"wagtailcore_page\".\"show_in_menus\",\n",
      "       \"wagtailcore_page\".\"search_description\",\n",
      "       \"wagtailcore_page\".\"latest_revision_created_at\",\n",
      "       \"wagtailcore_page\".\"alias_of_id\"\n",
      "FROM \"wagtailcore_page\"\n",
      "WHERE (\"wagtailcore_page\".\"path\"::text LIKE '00010001%'\n",
      "       AND \"wagtailcore_page\".\"depth\" >= 2\n",
      "       AND \"wagtailcore_page\".\"slug\" = 'ephes_blog')\n",
      "ORDER BY \"wagtailcore_page\".\"path\" ASC\n",
      "LIMIT 1\n",
      "SELECT \"wagtailimages_rendition\".\"id\",\n",
      "       \"wagtailimages_rendition\".\"filter_spec\",\n",
      "       \"wagtailimages_rendition\".\"file\",\n",
      "       \"wagtailimages_rendition\".\"width\",\n",
      "       \"wagtailimages_rendition\".\"height\",\n",
      "       \"wagtailimages_rendition\".\"focal_point_key\",\n",
      "       \"wagtailimages_rendition\".\"image_id\"\n",
      "FROM \"wagtailimages_rendition\"\n",
      "WHERE (\"wagtailimages_rendition\".\"image_id\" = 2132\n",
      "       AND \"wagtailimages_rendition\".\"filter_spec\" = 'format-jpeg'\n",
      "       AND \"wagtailimages_rendition\".\"focal_point_key\" = '')\n",
      "SELECT \"wagtailimages_rendition\".\"id\",\n",
      "       \"wagtailimages_rendition\".\"filter_spec\",\n",
      "       \"wagtailimages_rendition\".\"file\",\n",
      "       \"wagtailimages_rendition\".\"width\",\n",
      "       \"wagtailimages_rendition\".\"height\",\n",
      "       \"wagtailimages_rendition\".\"focal_point_key\",\n",
      "       \"wagtailimages_rendition\".\"image_id\"\n",
      "FROM \"wagtailimages_rendition\"\n",
      "WHERE (\"wagtailimages_rendition\".\"image_id\" = 2132\n",
      "       AND \"wagtailimages_rendition\".\"filter_spec\" = 'format-avif'\n",
      "       AND \"wagtailimages_rendition\".\"focal_point_key\" = '')\n"
     ]
    }
   ],
   "source": [
    "show_queries(connection.queries)"
   ]
  },
  {
   "cell_type": "code",
   "execution_count": null,
   "id": "da023467-a871-44af-9ea3-bea512e920b3",
   "metadata": {},
   "outputs": [],
   "source": []
  }
 ],
 "metadata": {
  "kernelspec": {
   "display_name": "Django Kernel",
   "language": "python",
   "name": "django_extensions"
  },
  "language_info": {
   "codemirror_mode": {
    "name": "ipython",
    "version": 3
   },
   "file_extension": ".py",
   "mimetype": "text/x-python",
   "name": "python",
   "nbconvert_exporter": "python",
   "pygments_lexer": "ipython3",
   "version": "3.12.1"
  }
 },
 "nbformat": 4,
 "nbformat_minor": 5
}
