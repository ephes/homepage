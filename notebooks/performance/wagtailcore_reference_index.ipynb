{
 "cells": [
  {
   "cell_type": "code",
   "execution_count": 1,
   "id": "1b2187bc-132e-4b6a-9e44-994d62d41122",
   "metadata": {
    "tags": []
   },
   "outputs": [],
   "source": [
    "gallery = Gallery.objects.last()"
   ]
  },
  {
   "cell_type": "code",
   "execution_count": 2,
   "id": "ebbe7f95-d8e2-4364-97d1-ee2cf49b2a3d",
   "metadata": {
    "tags": []
   },
   "outputs": [
    {
     "data": {
      "text/plain": [
       "<Gallery: Gallery object (394)>"
      ]
     },
     "execution_count": 2,
     "metadata": {},
     "output_type": "execute_result"
    }
   ],
   "source": [
    "gallery"
   ]
  },
  {
   "cell_type": "code",
   "execution_count": 5,
   "id": "4cb8662a-f3f6-4fe1-835f-b88b164b1752",
   "metadata": {
    "tags": []
   },
   "outputs": [],
   "source": [
    "post = Post.objects.get(pk=533)"
   ]
  },
  {
   "cell_type": "code",
   "execution_count": 7,
   "id": "a7862e76-48b2-43de-8f47-429ada307aec",
   "metadata": {
    "tags": []
   },
   "outputs": [],
   "source": [
    "from rich import print as rprint"
   ]
  },
  {
   "cell_type": "code",
   "execution_count": 8,
   "id": "781df457-44cb-453e-a30d-7ba324cda237",
   "metadata": {
    "tags": []
   },
   "outputs": [
    {
     "data": {
      "text/html": [
       "<pre style=\"white-space:pre;overflow-x:auto;line-height:normal;font-family:Menlo,'DejaVu Sans Mono',consolas,'Courier New',monospace\"><span style=\"font-weight: bold\">[{</span><span style=\"color: #008000; text-decoration-color: #008000\">'id'</span>: <span style=\"color: #008000; text-decoration-color: #008000\">'96178f8f-80b4-41ce-9c60-a490a9e94a50'</span>, <span style=\"color: #008000; text-decoration-color: #008000\">'type'</span>: <span style=\"color: #008000; text-decoration-color: #008000\">'overview'</span>, <span style=\"color: #008000; text-decoration-color: #008000\">'value'</span>: <span style=\"font-weight: bold\">[{</span><span style=\"color: #008000; text-decoration-color: #008000\">'id'</span>: \n",
       "<span style=\"color: #008000; text-decoration-color: #008000\">'2f8cbeeb-ae39-42b3-8a2a-f7be30ffcc4f'</span>, <span style=\"color: #008000; text-decoration-color: #008000\">'type'</span>: <span style=\"color: #008000; text-decoration-color: #008000\">'paragraph'</span>, <span style=\"color: #008000; text-decoration-color: #008000\">'value'</span>: <span style=\"color: #008000; text-decoration-color: #008000\">'&lt;p data-block-key=\"imfj8\"&gt;Anfang der Woche </span>\n",
       "<span style=\"color: #008000; text-decoration-color: #008000\">starten Schule und Kindergarten wieder nach den Ferien. Wir haben natürlich prompt ein bisschen verschlafen. Hat </span>\n",
       "<span style=\"color: #008000; text-decoration-color: #008000\">trotzdem alles halbwegs funktioniert - Claas geht jetzt eigentlich immer alleine in die Schule. Habe das Bild für </span>\n",
       "<span style=\"color: #008000; text-decoration-color: #008000\">das Schlafzimmer rahmen lassen, bin mal gespannt, wie gut das funktioniert. Diese Woche waren wir auch zum erstem </span>\n",
       "<span style=\"color: #008000; text-decoration-color: #008000\">Mal seit langem wieder in der Kletterhalle.&lt;/p&gt;&lt;p data-block-key=\"b412e\"&gt;&lt;/p&gt;&lt;p data-block-key=\"445cj\"&gt;Am </span>\n",
       "<span style=\"color: #008000; text-decoration-color: #008000\">Wochenende kam die andere Katharina mit Marlon und Ronald vorbei und wir haben noch ein bisschen gefrühstückt. </span>\n",
       "<span style=\"color: #008000; text-decoration-color: #008000\">Danach wollten wir zur Dino-Show nach Eller, aber Ronald hat sich auf dem Klo eingeschlossen. Nach ein bisschen </span>\n",
       "<span style=\"color: #008000; text-decoration-color: #008000\">Drama ging es dann aber endlich los.&lt;/p&gt;'</span><span style=\"font-weight: bold\">}</span>, <span style=\"font-weight: bold\">{</span><span style=\"color: #008000; text-decoration-color: #008000\">'id'</span>: <span style=\"color: #008000; text-decoration-color: #008000\">'f170f3ee-0b52-4baf-8806-1d70d9b2aa4d'</span>, <span style=\"color: #008000; text-decoration-color: #008000\">'type'</span>: <span style=\"color: #008000; text-decoration-color: #008000\">'video'</span>, \n",
       "<span style=\"color: #008000; text-decoration-color: #008000\">'value'</span>: <span style=\"color: #008080; text-decoration-color: #008080; font-weight: bold\">193</span><span style=\"font-weight: bold\">}</span>, <span style=\"font-weight: bold\">{</span><span style=\"color: #008000; text-decoration-color: #008000\">'id'</span>: <span style=\"color: #008000; text-decoration-color: #008000\">'fe673256-92cb-4dd1-abcf-bdd4ffcec8f0'</span>, <span style=\"color: #008000; text-decoration-color: #008000\">'type'</span>: <span style=\"color: #008000; text-decoration-color: #008000\">'gallery'</span>, <span style=\"color: #008000; text-decoration-color: #008000\">'value'</span>: <span style=\"font-weight: bold\">{</span><span style=\"color: #008000; text-decoration-color: #008000\">'layout'</span>: <span style=\"color: #008000; text-decoration-color: #008000\">'default'</span>, \n",
       "<span style=\"color: #008000; text-decoration-color: #008000\">'gallery'</span>: <span style=\"font-weight: bold\">[{</span><span style=\"color: #008000; text-decoration-color: #008000\">'id'</span>: <span style=\"color: #008000; text-decoration-color: #008000\">'5ae9fe9c-a60e-43e6-a2ea-165b931df5d2'</span>, <span style=\"color: #008000; text-decoration-color: #008000\">'type'</span>: <span style=\"color: #008000; text-decoration-color: #008000\">'item'</span>, <span style=\"color: #008000; text-decoration-color: #008000\">'value'</span>: <span style=\"color: #008080; text-decoration-color: #008080; font-weight: bold\">2501</span><span style=\"font-weight: bold\">}</span>, <span style=\"font-weight: bold\">{</span><span style=\"color: #008000; text-decoration-color: #008000\">'id'</span>: \n",
       "<span style=\"color: #008000; text-decoration-color: #008000\">'626da97f-2b4b-499f-afe2-7371faca881a'</span>, <span style=\"color: #008000; text-decoration-color: #008000\">'type'</span>: <span style=\"color: #008000; text-decoration-color: #008000\">'item'</span>, <span style=\"color: #008000; text-decoration-color: #008000\">'value'</span>: <span style=\"color: #008080; text-decoration-color: #008080; font-weight: bold\">2500</span><span style=\"font-weight: bold\">}</span>, <span style=\"font-weight: bold\">{</span><span style=\"color: #008000; text-decoration-color: #008000\">'id'</span>: \n",
       "<span style=\"color: #008000; text-decoration-color: #008000\">'74540cce-586c-4bf3-8e60-09319e26d697'</span>, <span style=\"color: #008000; text-decoration-color: #008000\">'type'</span>: <span style=\"color: #008000; text-decoration-color: #008000\">'item'</span>, <span style=\"color: #008000; text-decoration-color: #008000\">'value'</span>: <span style=\"color: #008080; text-decoration-color: #008080; font-weight: bold\">2499</span><span style=\"font-weight: bold\">}</span>, <span style=\"font-weight: bold\">{</span><span style=\"color: #008000; text-decoration-color: #008000\">'id'</span>: \n",
       "<span style=\"color: #008000; text-decoration-color: #008000\">'d50e5f96-1458-4e44-8d47-7b71f942ad03'</span>, <span style=\"color: #008000; text-decoration-color: #008000\">'type'</span>: <span style=\"color: #008000; text-decoration-color: #008000\">'item'</span>, <span style=\"color: #008000; text-decoration-color: #008000\">'value'</span>: <span style=\"color: #008080; text-decoration-color: #008080; font-weight: bold\">2498</span><span style=\"font-weight: bold\">}</span>, <span style=\"font-weight: bold\">{</span><span style=\"color: #008000; text-decoration-color: #008000\">'id'</span>: \n",
       "<span style=\"color: #008000; text-decoration-color: #008000\">'d636a743-117e-4b88-8c2e-f39538184967'</span>, <span style=\"color: #008000; text-decoration-color: #008000\">'type'</span>: <span style=\"color: #008000; text-decoration-color: #008000\">'item'</span>, <span style=\"color: #008000; text-decoration-color: #008000\">'value'</span>: <span style=\"color: #008080; text-decoration-color: #008080; font-weight: bold\">2497</span><span style=\"font-weight: bold\">}]}}]}]</span>\n",
       "</pre>\n"
      ],
      "text/plain": [
       "\u001b[1m[\u001b[0m\u001b[1m{\u001b[0m\u001b[32m'id'\u001b[0m: \u001b[32m'96178f8f-80b4-41ce-9c60-a490a9e94a50'\u001b[0m, \u001b[32m'type'\u001b[0m: \u001b[32m'overview'\u001b[0m, \u001b[32m'value'\u001b[0m: \u001b[1m[\u001b[0m\u001b[1m{\u001b[0m\u001b[32m'id'\u001b[0m: \n",
       "\u001b[32m'2f8cbeeb-ae39-42b3-8a2a-f7be30ffcc4f'\u001b[0m, \u001b[32m'type'\u001b[0m: \u001b[32m'paragraph'\u001b[0m, \u001b[32m'value'\u001b[0m: \u001b[32m'\u001b[0m\u001b[32m<\u001b[0m\u001b[32mp\u001b[0m\u001b[32m data-block-\u001b[0m\u001b[32mkey\u001b[0m\u001b[32m=\u001b[0m\u001b[32m\"imfj8\"\u001b[0m\u001b[32m>Anfang der Woche \u001b[0m\n",
       "\u001b[32mstarten Schule und Kindergarten wieder nach den Ferien. Wir haben natürlich prompt ein bisschen verschlafen. Hat \u001b[0m\n",
       "\u001b[32mtrotzdem alles halbwegs funktioniert - Claas geht jetzt eigentlich immer alleine in die Schule. Habe das Bild für \u001b[0m\n",
       "\u001b[32mdas Schlafzimmer rahmen lassen, bin mal gespannt, wie gut das funktioniert. Diese Woche waren wir auch zum erstem \u001b[0m\n",
       "\u001b[32mMal seit langem wieder in der Kletterhalle.</p><p data-block-\u001b[0m\u001b[32mkey\u001b[0m\u001b[32m=\u001b[0m\u001b[32m\"b412e\"\u001b[0m\u001b[32m></p><p data-block-\u001b[0m\u001b[32mkey\u001b[0m\u001b[32m=\u001b[0m\u001b[32m\"445cj\"\u001b[0m\u001b[32m>Am \u001b[0m\n",
       "\u001b[32mWochenende kam die andere Katharina mit Marlon und Ronald vorbei und wir haben noch ein bisschen gefrühstückt. \u001b[0m\n",
       "\u001b[32mDanach wollten wir zur Dino-Show nach Eller, aber Ronald hat sich auf dem Klo eingeschlossen. Nach ein bisschen \u001b[0m\n",
       "\u001b[32mDrama ging es dann aber endlich los.</p\u001b[0m\u001b[32m>\u001b[0m\u001b[32m'\u001b[0m\u001b[1m}\u001b[0m, \u001b[1m{\u001b[0m\u001b[32m'id'\u001b[0m: \u001b[32m'f170f3ee-0b52-4baf-8806-1d70d9b2aa4d'\u001b[0m, \u001b[32m'type'\u001b[0m: \u001b[32m'video'\u001b[0m, \n",
       "\u001b[32m'value'\u001b[0m: \u001b[1;36m193\u001b[0m\u001b[1m}\u001b[0m, \u001b[1m{\u001b[0m\u001b[32m'id'\u001b[0m: \u001b[32m'fe673256-92cb-4dd1-abcf-bdd4ffcec8f0'\u001b[0m, \u001b[32m'type'\u001b[0m: \u001b[32m'gallery'\u001b[0m, \u001b[32m'value'\u001b[0m: \u001b[1m{\u001b[0m\u001b[32m'layout'\u001b[0m: \u001b[32m'default'\u001b[0m, \n",
       "\u001b[32m'gallery'\u001b[0m: \u001b[1m[\u001b[0m\u001b[1m{\u001b[0m\u001b[32m'id'\u001b[0m: \u001b[32m'5ae9fe9c-a60e-43e6-a2ea-165b931df5d2'\u001b[0m, \u001b[32m'type'\u001b[0m: \u001b[32m'item'\u001b[0m, \u001b[32m'value'\u001b[0m: \u001b[1;36m2501\u001b[0m\u001b[1m}\u001b[0m, \u001b[1m{\u001b[0m\u001b[32m'id'\u001b[0m: \n",
       "\u001b[32m'626da97f-2b4b-499f-afe2-7371faca881a'\u001b[0m, \u001b[32m'type'\u001b[0m: \u001b[32m'item'\u001b[0m, \u001b[32m'value'\u001b[0m: \u001b[1;36m2500\u001b[0m\u001b[1m}\u001b[0m, \u001b[1m{\u001b[0m\u001b[32m'id'\u001b[0m: \n",
       "\u001b[32m'74540cce-586c-4bf3-8e60-09319e26d697'\u001b[0m, \u001b[32m'type'\u001b[0m: \u001b[32m'item'\u001b[0m, \u001b[32m'value'\u001b[0m: \u001b[1;36m2499\u001b[0m\u001b[1m}\u001b[0m, \u001b[1m{\u001b[0m\u001b[32m'id'\u001b[0m: \n",
       "\u001b[32m'd50e5f96-1458-4e44-8d47-7b71f942ad03'\u001b[0m, \u001b[32m'type'\u001b[0m: \u001b[32m'item'\u001b[0m, \u001b[32m'value'\u001b[0m: \u001b[1;36m2498\u001b[0m\u001b[1m}\u001b[0m, \u001b[1m{\u001b[0m\u001b[32m'id'\u001b[0m: \n",
       "\u001b[32m'd636a743-117e-4b88-8c2e-f39538184967'\u001b[0m, \u001b[32m'type'\u001b[0m: \u001b[32m'item'\u001b[0m, \u001b[32m'value'\u001b[0m: \u001b[1;36m2497\u001b[0m\u001b[1m}\u001b[0m\u001b[1m]\u001b[0m\u001b[1m}\u001b[0m\u001b[1m}\u001b[0m\u001b[1m]\u001b[0m\u001b[1m}\u001b[0m\u001b[1m]\u001b[0m\n"
      ]
     },
     "metadata": {},
     "output_type": "display_data"
    }
   ],
   "source": [
    "rprint(post.body.raw_data)"
   ]
  },
  {
   "cell_type": "code",
   "execution_count": 11,
   "id": "0a56484f-63d9-4566-96fb-9fcc97f8fa0d",
   "metadata": {
    "tags": []
   },
   "outputs": [
    {
     "name": "stdout",
     "output_type": "stream",
     "text": [
      "387 Gallery object (387)\n"
     ]
    }
   ],
   "source": [
    "for gallery in post.galleries.all():\n",
    "    print(gallery.pk, gallery)"
   ]
  },
  {
   "cell_type": "code",
   "execution_count": 15,
   "id": "654e766d-00f7-4270-8d9e-419d9cceba68",
   "metadata": {
    "tags": []
   },
   "outputs": [
    {
     "data": {
      "text/plain": [
       "'IMG_1111.mp4'"
      ]
     },
     "execution_count": 15,
     "metadata": {},
     "output_type": "execute_result"
    }
   ],
   "source": [
    "Video.objects.get(pk=127).title"
   ]
  },
  {
   "cell_type": "code",
   "execution_count": null,
   "id": "87c5f12d-e65b-4aa5-97cc-d80513b05c77",
   "metadata": {},
   "outputs": [],
   "source": [
    "b40b1263-e929-57f2-a7f8-9dbce56b887b"
   ]
  }
 ],
 "metadata": {
  "kernelspec": {
   "display_name": "Django Kernel",
   "language": "python",
   "name": "django_extensions"
  },
  "language_info": {
   "codemirror_mode": {
    "name": "ipython",
    "version": 3
   },
   "file_extension": ".py",
   "mimetype": "text/x-python",
   "name": "python",
   "nbconvert_exporter": "python",
   "pygments_lexer": "ipython3",
   "version": "3.12.3"
  }
 },
 "nbformat": 4,
 "nbformat_minor": 5
}
