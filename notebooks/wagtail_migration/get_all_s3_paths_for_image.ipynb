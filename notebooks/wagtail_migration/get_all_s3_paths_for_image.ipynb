{
 "cells": [
  {
   "cell_type": "code",
   "execution_count": 3,
   "id": "ddff5b38-796c-4a4d-bc58-5b7ca437199d",
   "metadata": {
    "tags": []
   },
   "outputs": [],
   "source": [
    "image = Image.objects.first()"
   ]
  },
  {
   "cell_type": "code",
   "execution_count": 5,
   "id": "ee50437e-e7ad-458c-bee1-d068bd2800bb",
   "metadata": {
    "tags": []
   },
   "outputs": [
    {
     "data": {
      "text/plain": [
       "<QuerySet [<Rendition: Rendition object (7488)>, <Rendition: Rendition object (7489)>, <Rendition: Rendition object (7490)>, <Rendition: Rendition object (7491)>, <Rendition: Rendition object (7492)>, <Rendition: Rendition object (7493)>, <Rendition: Rendition object (7494)>]>"
      ]
     },
     "execution_count": 5,
     "metadata": {},
     "output_type": "execute_result"
    }
   ],
   "source": [
    "image.renditions.all()"
   ]
  },
  {
   "cell_type": "code",
   "execution_count": 6,
   "id": "b8252119-9ed1-4da0-b850-b1235877b961",
   "metadata": {
    "tags": []
   },
   "outputs": [
    {
     "name": "stdout",
     "output_type": "stream",
     "text": [
      "images/IMG_1983.max-165x165.jpg\n",
      "images/IMG_1983.width-600.jpg\n",
      "images/IMG_1983.width-2200.jpg\n",
      "images/IMG_1983.width-1100.jpg\n",
      "images/IMG_1983.width-768.jpg\n",
      "images/IMG_1983.width-500.jpg\n",
      "images/IMG_1983.width-300.jpg\n"
     ]
    }
   ],
   "source": [
    "for rendition in image.renditions.all():\n",
    "    print(rendition.file.name)"
   ]
  },
  {
   "cell_type": "code",
   "execution_count": 7,
   "id": "f28f3522-6fe2-4bd9-bcd9-aead0e4a83df",
   "metadata": {
    "tags": []
   },
   "outputs": [
    {
     "data": {
      "text/plain": [
       "'original_images/IMG_1983.jpeg'"
      ]
     },
     "execution_count": 7,
     "metadata": {},
     "output_type": "execute_result"
    }
   ],
   "source": [
    "image.file.name"
   ]
  },
  {
   "cell_type": "code",
   "execution_count": null,
   "id": "1f0138b7-b24c-4564-a2ce-4373f0d64383",
   "metadata": {},
   "outputs": [],
   "source": []
  }
 ],
 "metadata": {
  "kernelspec": {
   "display_name": "Django Kernel",
   "language": "python",
   "name": "django_extensions"
  },
  "language_info": {
   "codemirror_mode": {
    "name": "ipython",
    "version": 3
   },
   "file_extension": ".py",
   "mimetype": "text/x-python",
   "name": "python",
   "nbconvert_exporter": "python",
   "pygments_lexer": "ipython3",
   "version": "3.11.3"
  }
 },
 "nbformat": 4,
 "nbformat_minor": 5
}
