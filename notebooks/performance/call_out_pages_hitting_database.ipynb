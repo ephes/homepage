{
 "cells": [
  {
   "cell_type": "code",
   "execution_count": 6,
   "id": "2a9ff8cb-43ad-4642-bbe6-d3ab43e0a3d9",
   "metadata": {
    "tags": []
   },
   "outputs": [],
   "source": [
    "import sqlparse\n",
    "\n",
    "from cast.cache import PostData\n",
    "\n",
    "from django.test.client import RequestFactory\n",
    "from django.db import connection, reset_queries"
   ]
  },
  {
   "cell_type": "code",
   "execution_count": 7,
   "id": "083d2c3a-c97f-4337-bc1f-c43b1fb61a79",
   "metadata": {
    "tags": []
   },
   "outputs": [],
   "source": [
    "def show_queries(queries):\n",
    "    for query in queries:\n",
    "        formatted_sql = sqlparse.format(query['sql'], reindent=True, keyword_case='upper')\n",
    "        print(formatted_sql)\n",
    "        \n",
    "\n",
    "def blocker(*args):\n",
    "    raise Exception(\"No database access allowed here.\")"
   ]
  },
  {
   "cell_type": "code",
   "execution_count": 8,
   "id": "43b5fdd0-0289-4c24-97d1-beba8a8e7901",
   "metadata": {
    "tags": []
   },
   "outputs": [],
   "source": [
    "# blog_slug = \"ephes_blog\"\n",
    "blog_slug = \"das_claas_und_nora_blog\"\n",
    "blog = Blog.objects.get(slug=blog_slug)"
   ]
  },
  {
   "cell_type": "code",
   "execution_count": 9,
   "id": "c3219fd5-4e3c-47dc-9181-7b9ec501d98f",
   "metadata": {
    "tags": []
   },
   "outputs": [
    {
     "name": "stdout",
     "output_type": "stream",
     "text": [
      "CPU times: user 399 ms, sys: 44.2 ms, total: 444 ms\n",
      "Wall time: 468 ms\n"
     ]
    }
   ],
   "source": [
    "%%time\n",
    "reset_queries()\n",
    "post_queryset = Post.objects.live().descendant_of(blog).order_by(\"-visible_date\")\n",
    "request_factory = RequestFactory()\n",
    "post_data = PostData.create_from_post_queryset(\n",
    "    request=request_factory.get(\"/\"),\n",
    "    blog=blog,\n",
    "    post_queryset=post_queryset,\n",
    "    template_base_dir=\"bootstrap4\",\n",
    ")"
   ]
  },
  {
   "cell_type": "code",
   "execution_count": 15,
   "id": "b45ea88c-a5ff-44cc-a933-b0e4f32fe98f",
   "metadata": {
    "tags": []
   },
   "outputs": [
    {
     "name": "stdout",
     "output_type": "stream",
     "text": [
      "CPU times: user 868 ms, sys: 66.8 ms, total: 935 ms\n",
      "Wall time: 938 ms\n"
     ]
    }
   ],
   "source": [
    "%%time\n",
    "request = request_factory.get(\"/foobar/\")\n",
    "posts = list(post_queryset)\n",
    "reset_queries()\n",
    "# request = request_factory.get(post_data.page_url_by_id[post.pk])\n",
    "for post in posts:\n",
    "    # print(\"post pk: \", post.pk)\n",
    "    with connection.execute_wrapper(blocker):\n",
    "        post._local_template_name = \"post_body.html\"\n",
    "        rendered_content = post.serve(\n",
    "            request, template_base_dir=\"bootstrap4\", post_data=post_data\n",
    "        ).rendered_content\n",
    "    # rendered_content = post.serve(\n",
    "    #     request, template_base_dir=\"bootstrap4\"\n",
    "    # ).rendered_content        \n",
    "    # response = post.serve(request, post_data=post_data).render()\n",
    "    # description = post.get_description(\n",
    "    #     request=request, escape_html=False, remove_newlines=False,\n",
    "    #     render_detail=True, post_data=post_data\n",
    "    # )"
   ]
  },
  {
   "cell_type": "code",
   "execution_count": 14,
   "id": "66f9c757-b2ce-4817-8f89-ded8b0206c1b",
   "metadata": {
    "tags": []
   },
   "outputs": [
    {
     "name": "stdout",
     "output_type": "stream",
     "text": [
      "3558\n"
     ]
    }
   ],
   "source": [
    "print(len(connection.queries))"
   ]
  },
  {
   "cell_type": "code",
   "execution_count": 12,
   "id": "7e6f21b5-65bd-4f39-8807-328ccf1e0ffe",
   "metadata": {
    "tags": []
   },
   "outputs": [
    {
     "data": {
      "text/plain": [
       "[]"
      ]
     },
     "execution_count": 12,
     "metadata": {},
     "output_type": "execute_result"
    }
   ],
   "source": [
    "connection.queries"
   ]
  },
  {
   "cell_type": "markdown",
   "id": "d3b0e3d1-2f66-49d8-9a9d-e6d06b413a04",
   "metadata": {},
   "source": [
    "# Make Sure the Feed Works Without Database"
   ]
  },
  {
   "cell_type": "code",
   "execution_count": 13,
   "id": "8b236e1f-21c1-422a-b78b-51a9d2f41489",
   "metadata": {
    "tags": []
   },
   "outputs": [],
   "source": [
    "from cast.feeds import LatestEntriesFeed"
   ]
  },
  {
   "cell_type": "code",
   "execution_count": 17,
   "id": "e3a7d73a-f263-4c79-8a9a-6fea786e5228",
   "metadata": {
    "tags": []
   },
   "outputs": [],
   "source": [
    "feed = LatestEntriesFeed()\n",
    "feed.post_data = post_data"
   ]
  },
  {
   "cell_type": "code",
   "execution_count": 16,
   "id": "d1109402-8964-4747-a89f-a95e8dc7d2f8",
   "metadata": {
    "tags": []
   },
   "outputs": [
    {
     "data": {
      "text/plain": [
       "PostData(renditions_for_posts=1810, template_base_dir=bootstrap4)"
      ]
     },
     "execution_count": 16,
     "metadata": {},
     "output_type": "execute_result"
    }
   ],
   "source": []
  },
  {
   "cell_type": "code",
   "execution_count": null,
   "id": "61e0d674-70ef-4042-a7a3-e02526b0634d",
   "metadata": {},
   "outputs": [],
   "source": []
  }
 ],
 "metadata": {
  "kernelspec": {
   "display_name": "Django Kernel",
   "language": "python",
   "name": "django_extensions"
  },
  "language_info": {
   "codemirror_mode": {
    "name": "ipython",
    "version": 3
   },
   "file_extension": ".py",
   "mimetype": "text/x-python",
   "name": "python",
   "nbconvert_exporter": "python",
   "pygments_lexer": "ipython3",
   "version": "3.12.2"
  }
 },
 "nbformat": 4,
 "nbformat_minor": 5
}
