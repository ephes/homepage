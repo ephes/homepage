{
 "cells": [
  {
   "cell_type": "code",
   "execution_count": 1,
   "id": "3b3c8bcd-207a-405b-a1fd-efc5072aedbc",
   "metadata": {
    "tags": []
   },
   "outputs": [],
   "source": [
    "def calculate_thumbnail_width(original_width, original_height, rect_width, rect_height):\n",
    "    # Calculate aspect ratios\n",
    "    original_aspect_ratio = original_width / original_height\n",
    "    rect_aspect_ratio = rect_width / rect_height\n",
    "\n",
    "    # Determine if the image needs to be scaled based on width or height\n",
    "    if original_aspect_ratio > rect_aspect_ratio:\n",
    "        # Scale based on width\n",
    "        thumbnail_width = rect_width\n",
    "    else:\n",
    "        # Scale based on height (maintain aspect ratio)\n",
    "        thumbnail_width = rect_height * original_aspect_ratio\n",
    "\n",
    "    return thumbnail_width"
   ]
  },
  {
   "cell_type": "code",
   "execution_count": 2,
   "id": "a8ae9619-2caf-4976-9edd-db102ff6021e",
   "metadata": {
    "tags": []
   },
   "outputs": [
    {
     "data": {
      "text/plain": [
       "120.0"
      ]
     },
     "execution_count": 2,
     "metadata": {},
     "output_type": "execute_result"
    }
   ],
   "source": [
    "calculate_thumbnail_width(6000, 4000, 120, 80)"
   ]
  },
  {
   "cell_type": "code",
   "execution_count": 5,
   "id": "8e56455b-0b64-48d5-8858-0dd17e18c243",
   "metadata": {
    "tags": []
   },
   "outputs": [
    {
     "data": {
      "text/plain": [
       "53"
      ]
     },
     "execution_count": 5,
     "metadata": {},
     "output_type": "execute_result"
    }
   ],
   "source": [
    "round(calculate_thumbnail_width(4000, 6000, 120, 80))"
   ]
  },
  {
   "cell_type": "code",
   "execution_count": 4,
   "id": "857b518f-f5d3-4619-8e2f-af20dfd4dbdf",
   "metadata": {
    "tags": []
   },
   "outputs": [
    {
     "data": {
      "text/plain": [
       "80.0"
      ]
     },
     "execution_count": 4,
     "metadata": {},
     "output_type": "execute_result"
    }
   ],
   "source": [
    "calculate_thumbnail_width(4000, 4000, 120, 80)"
   ]
  },
  {
   "cell_type": "code",
   "execution_count": 6,
   "id": "7e8f3f8e-09f7-4497-9a4a-9af46796dfd4",
   "metadata": {
    "tags": []
   },
   "outputs": [
    {
     "data": {
      "text/plain": [
       "[1, 2]"
      ]
     },
     "execution_count": 6,
     "metadata": {},
     "output_type": "execute_result"
    }
   ],
   "source": [
    "list(range(1, 3))"
   ]
  },
  {
   "cell_type": "code",
   "execution_count": null,
   "id": "7797f346-33ea-4d3d-84dc-8d61ee574572",
   "metadata": {},
   "outputs": [],
   "source": []
  }
 ],
 "metadata": {
  "kernelspec": {
   "display_name": "Django Kernel",
   "language": "python",
   "name": "django_extensions"
  },
  "language_info": {
   "codemirror_mode": {
    "name": "ipython",
    "version": 3
   },
   "file_extension": ".py",
   "mimetype": "text/x-python",
   "name": "python",
   "nbconvert_exporter": "python",
   "pygments_lexer": "ipython3",
   "version": "3.12.0"
  }
 },
 "nbformat": 4,
 "nbformat_minor": 5
}
