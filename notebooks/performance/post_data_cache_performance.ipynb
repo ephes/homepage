{
 "cells": [
  {
   "cell_type": "code",
   "execution_count": 1,
   "id": "c6d24a72-cad5-4549-95f8-987f4e988ef5",
   "metadata": {
    "tags": []
   },
   "outputs": [],
   "source": [
    "import sqlparse\n",
    "\n",
    "from cast.cache import PostData\n",
    "\n",
    "from django.test.client import RequestFactory\n",
    "from django.db import connection, reset_queries"
   ]
  },
  {
   "cell_type": "markdown",
   "id": "10d5941c-ce1c-4260-aad2-716f9c7928f0",
   "metadata": {},
   "source": [
    "# Measure PostData Cache Performance\n",
    "\n",
    "Find out which pages generate queries."
   ]
  },
  {
   "cell_type": "code",
   "execution_count": 2,
   "id": "bec9da9d-03d1-4e99-af4c-eae45bba6450",
   "metadata": {
    "tags": []
   },
   "outputs": [],
   "source": [
    "def show_queries(queries):\n",
    "    for query in queries:\n",
    "        formatted_sql = sqlparse.format(query['sql'], reindent=True, keyword_case='upper')\n",
    "        print(formatted_sql)\n",
    "        \n",
    "\n",
    "def blocker(*args):\n",
    "    raise Exception(\"No database access allowed here.\")"
   ]
  },
  {
   "cell_type": "code",
   "execution_count": 3,
   "id": "5ec39e23-01dd-4fbf-834c-ba0f07e5aebd",
   "metadata": {
    "tags": []
   },
   "outputs": [],
   "source": [
    "# blog_slug = \"ephes_blog\"\n",
    "blog_slug = \"das_claas_und_nora_blog\"\n",
    "blog = Blog.objects.get(slug=blog_slug)\n",
    "request_factory = RequestFactory()"
   ]
  },
  {
   "cell_type": "markdown",
   "id": "e75a6200-4532-43bc-b0fa-78679959f57e",
   "metadata": {},
   "source": [
    "# Just measure for a list of Posts"
   ]
  },
  {
   "cell_type": "code",
   "execution_count": 4,
   "id": "01e168b6-acec-4b76-ab2e-774e284aac60",
   "metadata": {
    "tags": []
   },
   "outputs": [
    {
     "name": "stdout",
     "output_type": "stream",
     "text": [
      "305\n",
      "CPU times: user 667 ms, sys: 27 ms, total: 694 ms\n",
      "Wall time: 755 ms\n"
     ]
    }
   ],
   "source": [
    "%%time\n",
    "reset_queries()\n",
    "post_queryset = Post.objects.live().descendant_of(blog).order_by(\"-visible_date\")\n",
    "post_data = PostData.create_from_post_queryset(\n",
    "    request=request_factory.get(\"/\"),\n",
    "    blog=blog,\n",
    "    post_queryset=post_queryset,\n",
    "    template_base_dir=\"bootstrap4\",\n",
    ")\n",
    "print(len(connection.queries))"
   ]
  },
  {
   "cell_type": "code",
   "execution_count": 5,
   "id": "8dff0dc8-974b-438c-9dba-ad1476a0d57b",
   "metadata": {
    "tags": []
   },
   "outputs": [],
   "source": [
    "post = Post.objects.get(pk=501)"
   ]
  },
  {
   "cell_type": "code",
   "execution_count": 6,
   "id": "7bb1b50d-bc59-414a-9a7b-4e768f96cae9",
   "metadata": {
    "tags": []
   },
   "outputs": [
    {
     "name": "stdout",
     "output_type": "stream",
     "text": [
      "CPU times: user 975 ms, sys: 85.8 ms, total: 1.06 s\n",
      "Wall time: 1.07 s\n"
     ]
    }
   ],
   "source": [
    "%%time\n",
    "request = request_factory.get(\"/foobar/\")\n",
    "posts = list(post_queryset)\n",
    "reset_queries()\n",
    "# request = request_factory.get(post_data.page_url_by_id[post.pk])\n",
    "for post in posts:\n",
    "    # print(\"post pk: \", post.pk)\n",
    "    with connection.execute_wrapper(blocker):\n",
    "        post._local_template_name = \"post_body.html\"\n",
    "        response = post.serve(request, post_data=post_data).render()"
   ]
  },
  {
   "cell_type": "code",
   "execution_count": 7,
   "id": "62d9be43-8aeb-4065-8686-9249592ae8fc",
   "metadata": {
    "tags": []
   },
   "outputs": [
    {
     "name": "stdout",
     "output_type": "stream",
     "text": [
      "312\n"
     ]
    }
   ],
   "source": [
    "print(len(posts))"
   ]
  },
  {
   "cell_type": "code",
   "execution_count": 8,
   "id": "aac93139-c034-4b0a-a982-114d4bc9f0f4",
   "metadata": {
    "tags": []
   },
   "outputs": [
    {
     "name": "stdout",
     "output_type": "stream",
     "text": [
      "0\n"
     ]
    }
   ],
   "source": [
    "print(len(connection.queries))"
   ]
  },
  {
   "cell_type": "code",
   "execution_count": 9,
   "id": "be9a68a0-3725-40bf-95a3-c1bd7d7787a0",
   "metadata": {
    "tags": []
   },
   "outputs": [],
   "source": [
    "show_queries(connection.queries)"
   ]
  },
  {
   "cell_type": "markdown",
   "id": "bf316f69-d86b-4f72-9024-efa2577d9cb8",
   "metadata": {},
   "source": [
    "# Feed Performance"
   ]
  },
  {
   "cell_type": "code",
   "execution_count": 10,
   "id": "79752525-b553-453b-8df8-bff58adc3bfe",
   "metadata": {
    "tags": []
   },
   "outputs": [],
   "source": [
    "from cast.feeds import LatestEntriesFeed"
   ]
  },
  {
   "cell_type": "code",
   "execution_count": 11,
   "id": "3023e2af-83a9-4b72-a3e7-1a53bb2766f8",
   "metadata": {},
   "outputs": [
    {
     "name": "stdout",
     "output_type": "stream",
     "text": [
      "11\n",
      "CPU times: user 480 ms, sys: 10.8 ms, total: 491 ms\n",
      "Wall time: 532 ms\n"
     ]
    }
   ],
   "source": [
    "%%time\n",
    "reset_queries()\n",
    "post_queryset = Post.objects.live().descendant_of(blog).order_by(\"-visible_date\")\n",
    "post_data = PostData.create_from_post_queryset(\n",
    "    request=request_factory.get(\"/\"),\n",
    "    blog=blog,\n",
    "    post_queryset=post_queryset,\n",
    "    template_base_dir=\"bootstrap4\",\n",
    ")\n",
    "print(len(connection.queries))"
   ]
  },
  {
   "cell_type": "code",
   "execution_count": 12,
   "id": "d7f14c0a-19fe-41b6-941f-b30665f604a2",
   "metadata": {
    "tags": []
   },
   "outputs": [],
   "source": [
    "# call this cell once without blocker to populate SITE_CACHE\n",
    "response = LatestEntriesFeed(post_data=post_data)(request, slug=blog_slug)"
   ]
  },
  {
   "cell_type": "code",
   "execution_count": 13,
   "id": "d7e2b82d-e628-410c-a8e3-52fc73e49d79",
   "metadata": {
    "tags": []
   },
   "outputs": [
    {
     "name": "stdout",
     "output_type": "stream",
     "text": [
      "CPU times: user 1.01 s, sys: 85.9 ms, total: 1.1 s\n",
      "Wall time: 1.11 s\n"
     ]
    }
   ],
   "source": [
    "%%time\n",
    "request = request_factory.get(\"/foobar/\")\n",
    "reset_queries()\n",
    "\n",
    "with connection.execute_wrapper(blocker):\n",
    "    response = LatestEntriesFeed(post_data=post_data)(request, slug=blog_slug)"
   ]
  },
  {
   "cell_type": "code",
   "execution_count": 14,
   "id": "5f33166a-1077-410b-b17e-ffb797b8b4bb",
   "metadata": {
    "tags": []
   },
   "outputs": [
    {
     "name": "stdout",
     "output_type": "stream",
     "text": [
      "0\n"
     ]
    }
   ],
   "source": [
    "print(len(connection.queries))"
   ]
  },
  {
   "cell_type": "code",
   "execution_count": 15,
   "id": "66927eb7-a45a-437b-bdd2-92308e0d36de",
   "metadata": {
    "tags": []
   },
   "outputs": [],
   "source": [
    "show_queries(connection.queries)"
   ]
  },
  {
   "cell_type": "markdown",
   "id": "9e1626c5-f023-4f84-8cfe-8fc4025507b2",
   "metadata": {},
   "source": [
    "# Render A Blog Index Page"
   ]
  },
  {
   "cell_type": "code",
   "execution_count": 16,
   "id": "8610e2b9-1d0d-414d-a431-78e926625c69",
   "metadata": {
    "tags": []
   },
   "outputs": [],
   "source": [
    "from cast.models import Blog"
   ]
  },
  {
   "cell_type": "code",
   "execution_count": 17,
   "id": "44b2c977-661a-46fd-abc4-a2f80b27f63c",
   "metadata": {
    "tags": []
   },
   "outputs": [
    {
     "name": "stdout",
     "output_type": "stream",
     "text": [
      "11\n",
      "CPU times: user 456 ms, sys: 7.97 ms, total: 464 ms\n",
      "Wall time: 480 ms\n"
     ]
    }
   ],
   "source": [
    "%%time\n",
    "reset_queries()\n",
    "post_queryset = blog.unfiltered_published_posts\n",
    "post_data = PostData.create_from_post_queryset(\n",
    "    request=request_factory.get(\"/\"),\n",
    "    blog=blog,\n",
    "    post_queryset=post_queryset,\n",
    "    template_base_dir=\"bootstrap4\",\n",
    ")\n",
    "print(len(connection.queries))"
   ]
  },
  {
   "cell_type": "code",
   "execution_count": 27,
   "id": "40cb01fa-351c-485c-8a60-e87e76d7490d",
   "metadata": {
    "tags": []
   },
   "outputs": [
    {
     "name": "stdout",
     "output_type": "stream",
     "text": [
      "12\n",
      "CPU times: user 33.7 ms, sys: 10.7 ms, total: 44.4 ms\n",
      "Wall time: 50.5 ms\n"
     ]
    }
   ],
   "source": [
    "%%time\n",
    "# just like in page.py::Blog but externally\n",
    "reset_queries()\n",
    "request = request_factory.get(\"/foobar/\")\n",
    "get_params = request.GET.copy()\n",
    "context = {\n",
    "    \"page\": blog,\n",
    "    \"blog\": blog,\n",
    "    \"request\": request,\n",
    "}\n",
    "context[\"filterset\"] = filterset = blog.get_filterset(get_params)\n",
    "context[\"parameters\"] = blog.get_other_get_params(get_params)\n",
    "context = blog.paginate_queryset(context, blog.get_published_posts(filterset.qs), get_params)\n",
    "context[\"posts\"] = context[\"object_list\"]\n",
    "context[\"has_selectable_themes\"] = True\n",
    "context[\"template_base_dir\"] = blog.get_template_base_dir(request)\n",
    "context[\"use_audio_player\"] = any([post.has_audio for post in context[\"posts\"]])\n",
    "context[\"theme_form\"] = blog.get_theme_form(request)\n",
    "print(len(connection.queries))"
   ]
  },
  {
   "cell_type": "code",
   "execution_count": 29,
   "id": "6fdd55c3-fd2b-49f8-9698-8ff092fcf9ab",
   "metadata": {
    "tags": []
   },
   "outputs": [
    {
     "data": {
      "text/plain": [
       "'/blogs/das_claas_und_nora_blog/'"
      ]
     },
     "execution_count": 29,
     "metadata": {},
     "output_type": "execute_result"
    }
   ],
   "source": [
    "blog.get_url()"
   ]
  },
  {
   "cell_type": "code",
   "execution_count": 28,
   "id": "91810dff-2e61-4ee2-891e-854735c5fa50",
   "metadata": {
    "tags": []
   },
   "outputs": [
    {
     "name": "stdout",
     "output_type": "stream",
     "text": [
      "{'page': <Blog: Claas und Nora sagen Hallo>, 'blog': <Blog: Claas und Nora sagen Hallo>, 'request': <WSGIRequest: GET '/foobar/'>, 'filterset': <cast.filters.PostFilterset object at 0x14081bda0>, 'parameters': '', 'paginator': <django.core.paginator.Paginator object at 0x1405c8680>, 'page_obj': <Page 1 of 63>, 'is_paginated': True, 'object_list': [<Post: März 2024-03-11>, <Post: März 2024-03-04>, <Post: Februar 2024-02-26>, <Post: Februar 2024-02-19>, <Post: Februar 2024-02-12>], 'renditions_for_posts': {2397: [<Rendition: Rendition object (80971)>, <Rendition: Rendition object (80975)>, <Rendition: Rendition object (80976)>, <Rendition: Rendition object (80983)>, <Rendition: Rendition object (80984)>, <Rendition: Rendition object (80985)>, <Rendition: Rendition object (80986)>, <Rendition: Rendition object (80987)>, <Rendition: Rendition object (80988)>, <Rendition: Rendition object (80989)>, <Rendition: Rendition object (80990)>, <Rendition: Rendition object (80991)>, <Rendition: Rendition object (80992)>, <Rendition: Rendition object (80993)>, <Rendition: Rendition object (80994)>], 2396: [<Rendition: Rendition object (80972)>, <Rendition: Rendition object (80977)>, <Rendition: Rendition object (80978)>, <Rendition: Rendition object (80995)>, <Rendition: Rendition object (80996)>, <Rendition: Rendition object (80997)>, <Rendition: Rendition object (80998)>, <Rendition: Rendition object (80999)>, <Rendition: Rendition object (81000)>, <Rendition: Rendition object (81001)>, <Rendition: Rendition object (81002)>, <Rendition: Rendition object (81003)>, <Rendition: Rendition object (81004)>, <Rendition: Rendition object (81005)>, <Rendition: Rendition object (81006)>], 2395: [<Rendition: Rendition object (80973)>, <Rendition: Rendition object (80979)>, <Rendition: Rendition object (80980)>, <Rendition: Rendition object (81007)>, <Rendition: Rendition object (81008)>, <Rendition: Rendition object (81009)>, <Rendition: Rendition object (81010)>, <Rendition: Rendition object (81011)>, <Rendition: Rendition object (81012)>, <Rendition: Rendition object (81013)>, <Rendition: Rendition object (81014)>, <Rendition: Rendition object (81015)>, <Rendition: Rendition object (81016)>, <Rendition: Rendition object (81017)>, <Rendition: Rendition object (81018)>], 2394: [<Rendition: Rendition object (80974)>, <Rendition: Rendition object (80981)>, <Rendition: Rendition object (80982)>, <Rendition: Rendition object (81019)>, <Rendition: Rendition object (81020)>, <Rendition: Rendition object (81021)>, <Rendition: Rendition object (81022)>, <Rendition: Rendition object (81023)>, <Rendition: Rendition object (81024)>, <Rendition: Rendition object (81025)>, <Rendition: Rendition object (81026)>, <Rendition: Rendition object (81027)>, <Rendition: Rendition object (81028)>, <Rendition: Rendition object (81029)>, <Rendition: Rendition object (81030)>], 2393: [<Rendition: Rendition object (80966)>, <Rendition: Rendition object (80967)>, <Rendition: Rendition object (80968)>, <Rendition: Rendition object (80969)>, <Rendition: Rendition object (80970)>, <Rendition: Rendition object (81046)>], 2390: [<Rendition: Rendition object (80915)>, <Rendition: Rendition object (80918)>, <Rendition: Rendition object (80919)>, <Rendition: Rendition object (80924)>, <Rendition: Rendition object (80925)>, <Rendition: Rendition object (80926)>, <Rendition: Rendition object (80927)>, <Rendition: Rendition object (80928)>, <Rendition: Rendition object (80929)>, <Rendition: Rendition object (80930)>, <Rendition: Rendition object (80931)>, <Rendition: Rendition object (80932)>, <Rendition: Rendition object (80933)>, <Rendition: Rendition object (80934)>, <Rendition: Rendition object (80935)>], 2389: [<Rendition: Rendition object (80916)>, <Rendition: Rendition object (80920)>, <Rendition: Rendition object (80921)>, <Rendition: Rendition object (80936)>, <Rendition: Rendition object (80937)>, <Rendition: Rendition object (80938)>, <Rendition: Rendition object (80939)>, <Rendition: Rendition object (80940)>, <Rendition: Rendition object (80941)>, <Rendition: Rendition object (80942)>, <Rendition: Rendition object (80943)>, <Rendition: Rendition object (80944)>, <Rendition: Rendition object (80945)>, <Rendition: Rendition object (80946)>, <Rendition: Rendition object (80947)>], 2388: [<Rendition: Rendition object (80917)>, <Rendition: Rendition object (80922)>, <Rendition: Rendition object (80923)>, <Rendition: Rendition object (80948)>, <Rendition: Rendition object (80949)>, <Rendition: Rendition object (80950)>, <Rendition: Rendition object (80951)>, <Rendition: Rendition object (80952)>, <Rendition: Rendition object (80953)>, <Rendition: Rendition object (80954)>, <Rendition: Rendition object (80955)>, <Rendition: Rendition object (80956)>, <Rendition: Rendition object (80957)>, <Rendition: Rendition object (80958)>, <Rendition: Rendition object (80959)>], 2365: [<Rendition: Rendition object (80532)>, <Rendition: Rendition object (80552)>, <Rendition: Rendition object (80553)>, <Rendition: Rendition object (80564)>, <Rendition: Rendition object (80565)>, <Rendition: Rendition object (80566)>, <Rendition: Rendition object (80567)>, <Rendition: Rendition object (80568)>, <Rendition: Rendition object (80569)>], 2342: [<Rendition: Rendition object (80231)>, <Rendition: Rendition object (80235)>, <Rendition: Rendition object (80236)>, <Rendition: Rendition object (80279)>, <Rendition: Rendition object (80280)>, <Rendition: Rendition object (80281)>, <Rendition: Rendition object (80282)>, <Rendition: Rendition object (80283)>, <Rendition: Rendition object (80284)>, <Rendition: Rendition object (80285)>, <Rendition: Rendition object (80286)>, <Rendition: Rendition object (80287)>, <Rendition: Rendition object (80288)>, <Rendition: Rendition object (80289)>, <Rendition: Rendition object (80290)>], 2344: [<Rendition: Rendition object (80229)>, <Rendition: Rendition object (80239)>, <Rendition: Rendition object (80240)>, <Rendition: Rendition object (80267)>, <Rendition: Rendition object (80268)>, <Rendition: Rendition object (80269)>, <Rendition: Rendition object (80270)>, <Rendition: Rendition object (80271)>, <Rendition: Rendition object (80272)>, <Rendition: Rendition object (80273)>, <Rendition: Rendition object (80274)>, <Rendition: Rendition object (80275)>, <Rendition: Rendition object (80276)>, <Rendition: Rendition object (80277)>, <Rendition: Rendition object (80278)>], 2343: [<Rendition: Rendition object (80230)>, <Rendition: Rendition object (80241)>, <Rendition: Rendition object (80242)>, <Rendition: Rendition object (80255)>, <Rendition: Rendition object (80256)>, <Rendition: Rendition object (80257)>, <Rendition: Rendition object (80258)>, <Rendition: Rendition object (80259)>, <Rendition: Rendition object (80260)>, <Rendition: Rendition object (80261)>, <Rendition: Rendition object (80262)>, <Rendition: Rendition object (80263)>, <Rendition: Rendition object (80264)>, <Rendition: Rendition object (80265)>, <Rendition: Rendition object (80266)>], 2341: [<Rendition: Rendition object (80232)>, <Rendition: Rendition object (80233)>, <Rendition: Rendition object (80234)>, <Rendition: Rendition object (80291)>, <Rendition: Rendition object (80292)>, <Rendition: Rendition object (80293)>, <Rendition: Rendition object (80294)>, <Rendition: Rendition object (80295)>, <Rendition: Rendition object (80296)>, <Rendition: Rendition object (80297)>, <Rendition: Rendition object (80298)>, <Rendition: Rendition object (80299)>, <Rendition: Rendition object (80300)>, <Rendition: Rendition object (80301)>, <Rendition: Rendition object (80302)>], 2345: [<Rendition: Rendition object (80228)>, <Rendition: Rendition object (80237)>, <Rendition: Rendition object (80238)>, <Rendition: Rendition object (80243)>, <Rendition: Rendition object (80244)>, <Rendition: Rendition object (80245)>, <Rendition: Rendition object (80246)>, <Rendition: Rendition object (80247)>, <Rendition: Rendition object (80248)>, <Rendition: Rendition object (80249)>, <Rendition: Rendition object (80250)>, <Rendition: Rendition object (80251)>, <Rendition: Rendition object (80252)>, <Rendition: Rendition object (80253)>, <Rendition: Rendition object (80254)>], 2347: [<Rendition: Rendition object (80321)>, <Rendition: Rendition object (80322)>, <Rendition: Rendition object (80323)>, <Rendition: Rendition object (80324)>, <Rendition: Rendition object (80325)>, <Rendition: Rendition object (80326)>, <Rendition: Rendition object (80327)>, <Rendition: Rendition object (80328)>, <Rendition: Rendition object (80329)>, <Rendition: Rendition object (80330)>, <Rendition: Rendition object (80331)>, <Rendition: Rendition object (80332)>, <Rendition: Rendition object (80304)>, <Rendition: Rendition object (80305)>, <Rendition: Rendition object (80306)>], 2346: [<Rendition: Rendition object (80307)>, <Rendition: Rendition object (80308)>, <Rendition: Rendition object (80309)>, <Rendition: Rendition object (80310)>, <Rendition: Rendition object (80311)>, <Rendition: Rendition object (80312)>, <Rendition: Rendition object (80313)>, <Rendition: Rendition object (80314)>, <Rendition: Rendition object (80315)>, <Rendition: Rendition object (80316)>, <Rendition: Rendition object (80317)>, <Rendition: Rendition object (80318)>, <Rendition: Rendition object (80319)>, <Rendition: Rendition object (80320)>, <Rendition: Rendition object (80303)>], 2357: [<Rendition: Rendition object (80333)>, <Rendition: Rendition object (80343)>, <Rendition: Rendition object (80344)>, <Rendition: Rendition object (80459)>, <Rendition: Rendition object (80460)>, <Rendition: Rendition object (80461)>, <Rendition: Rendition object (80462)>, <Rendition: Rendition object (80463)>, <Rendition: Rendition object (80464)>, <Rendition: Rendition object (80465)>, <Rendition: Rendition object (80466)>, <Rendition: Rendition object (80467)>, <Rendition: Rendition object (80468)>, <Rendition: Rendition object (80469)>, <Rendition: Rendition object (80470)>], 2356: [<Rendition: Rendition object (80334)>, <Rendition: Rendition object (80345)>, <Rendition: Rendition object (80346)>, <Rendition: Rendition object (80471)>, <Rendition: Rendition object (80472)>, <Rendition: Rendition object (80473)>, <Rendition: Rendition object (80474)>, <Rendition: Rendition object (80475)>, <Rendition: Rendition object (80476)>, <Rendition: Rendition object (80477)>, <Rendition: Rendition object (80478)>, <Rendition: Rendition object (80479)>, <Rendition: Rendition object (80480)>, <Rendition: Rendition object (80481)>, <Rendition: Rendition object (80482)>], 2355: [<Rendition: Rendition object (80335)>, <Rendition: Rendition object (80347)>, <Rendition: Rendition object (80348)>, <Rendition: Rendition object (80447)>, <Rendition: Rendition object (80448)>, <Rendition: Rendition object (80449)>, <Rendition: Rendition object (80450)>, <Rendition: Rendition object (80451)>, <Rendition: Rendition object (80452)>, <Rendition: Rendition object (80453)>, <Rendition: Rendition object (80454)>, <Rendition: Rendition object (80455)>, <Rendition: Rendition object (80456)>, <Rendition: Rendition object (80457)>, <Rendition: Rendition object (80458)>], 2354: [<Rendition: Rendition object (80336)>, <Rendition: Rendition object (80349)>, <Rendition: Rendition object (80350)>, <Rendition: Rendition object (80399)>, <Rendition: Rendition object (80400)>, <Rendition: Rendition object (80401)>, <Rendition: Rendition object (80402)>, <Rendition: Rendition object (80403)>, <Rendition: Rendition object (80404)>, <Rendition: Rendition object (80405)>, <Rendition: Rendition object (80406)>, <Rendition: Rendition object (80407)>, <Rendition: Rendition object (80408)>, <Rendition: Rendition object (80409)>, <Rendition: Rendition object (80410)>], 2353: [<Rendition: Rendition object (80337)>, <Rendition: Rendition object (80351)>, <Rendition: Rendition object (80352)>, <Rendition: Rendition object (80423)>, <Rendition: Rendition object (80424)>, <Rendition: Rendition object (80425)>, <Rendition: Rendition object (80426)>, <Rendition: Rendition object (80427)>, <Rendition: Rendition object (80428)>, <Rendition: Rendition object (80429)>, <Rendition: Rendition object (80430)>, <Rendition: Rendition object (80431)>, <Rendition: Rendition object (80432)>, <Rendition: Rendition object (80433)>, <Rendition: Rendition object (80434)>], 2352: [<Rendition: Rendition object (80338)>, <Rendition: Rendition object (80353)>, <Rendition: Rendition object (80354)>, <Rendition: Rendition object (80375)>, <Rendition: Rendition object (80376)>, <Rendition: Rendition object (80377)>, <Rendition: Rendition object (80378)>, <Rendition: Rendition object (80379)>, <Rendition: Rendition object (80380)>, <Rendition: Rendition object (80381)>, <Rendition: Rendition object (80382)>, <Rendition: Rendition object (80383)>, <Rendition: Rendition object (80384)>, <Rendition: Rendition object (80385)>, <Rendition: Rendition object (80386)>], 2351: [<Rendition: Rendition object (80339)>, <Rendition: Rendition object (80355)>, <Rendition: Rendition object (80356)>, <Rendition: Rendition object (80435)>, <Rendition: Rendition object (80436)>, <Rendition: Rendition object (80437)>, <Rendition: Rendition object (80438)>, <Rendition: Rendition object (80439)>, <Rendition: Rendition object (80440)>, <Rendition: Rendition object (80441)>, <Rendition: Rendition object (80442)>, <Rendition: Rendition object (80443)>, <Rendition: Rendition object (80444)>, <Rendition: Rendition object (80445)>, <Rendition: Rendition object (80446)>], 2350: [<Rendition: Rendition object (80340)>, <Rendition: Rendition object (80357)>, <Rendition: Rendition object (80358)>, <Rendition: Rendition object (80387)>, <Rendition: Rendition object (80388)>, <Rendition: Rendition object (80389)>, <Rendition: Rendition object (80390)>, <Rendition: Rendition object (80391)>, <Rendition: Rendition object (80392)>, <Rendition: Rendition object (80393)>, <Rendition: Rendition object (80394)>, <Rendition: Rendition object (80395)>, <Rendition: Rendition object (80396)>, <Rendition: Rendition object (80397)>, <Rendition: Rendition object (80398)>], 2349: [<Rendition: Rendition object (80341)>, <Rendition: Rendition object (80359)>, <Rendition: Rendition object (80360)>, <Rendition: Rendition object (80411)>, <Rendition: Rendition object (80412)>, <Rendition: Rendition object (80413)>, <Rendition: Rendition object (80414)>, <Rendition: Rendition object (80415)>, <Rendition: Rendition object (80416)>, <Rendition: Rendition object (80417)>, <Rendition: Rendition object (80418)>, <Rendition: Rendition object (80419)>, <Rendition: Rendition object (80420)>, <Rendition: Rendition object (80421)>, <Rendition: Rendition object (80422)>], 2348: [<Rendition: Rendition object (80342)>, <Rendition: Rendition object (80361)>, <Rendition: Rendition object (80362)>, <Rendition: Rendition object (80363)>, <Rendition: Rendition object (80364)>, <Rendition: Rendition object (80365)>, <Rendition: Rendition object (80366)>, <Rendition: Rendition object (80367)>, <Rendition: Rendition object (80368)>, <Rendition: Rendition object (80369)>, <Rendition: Rendition object (80370)>, <Rendition: Rendition object (80371)>, <Rendition: Rendition object (80372)>, <Rendition: Rendition object (80373)>, <Rendition: Rendition object (80374)>], 2359: [<Rendition: Rendition object (80496)>, <Rendition: Rendition object (80497)>, <Rendition: Rendition object (80498)>, <Rendition: Rendition object (80513)>, <Rendition: Rendition object (80514)>, <Rendition: Rendition object (80515)>, <Rendition: Rendition object (80516)>, <Rendition: Rendition object (80517)>, <Rendition: Rendition object (80518)>, <Rendition: Rendition object (80519)>, <Rendition: Rendition object (80520)>, <Rendition: Rendition object (80521)>, <Rendition: Rendition object (80522)>, <Rendition: Rendition object (80523)>, <Rendition: Rendition object (80524)>], 2358: [<Rendition: Rendition object (80495)>, <Rendition: Rendition object (80499)>, <Rendition: Rendition object (80500)>, <Rendition: Rendition object (80501)>, <Rendition: Rendition object (80502)>, <Rendition: Rendition object (80503)>, <Rendition: Rendition object (80504)>, <Rendition: Rendition object (80505)>, <Rendition: Rendition object (80506)>, <Rendition: Rendition object (80507)>, <Rendition: Rendition object (80508)>, <Rendition: Rendition object (80509)>, <Rendition: Rendition object (80510)>, <Rendition: Rendition object (80511)>, <Rendition: Rendition object (80512)>], 2372: [<Rendition: Rendition object (80525)>, <Rendition: Rendition object (80538)>, <Rendition: Rendition object (80539)>, <Rendition: Rendition object (80606)>, <Rendition: Rendition object (80607)>, <Rendition: Rendition object (80608)>, <Rendition: Rendition object (80609)>, <Rendition: Rendition object (80610)>, <Rendition: Rendition object (80611)>, <Rendition: Rendition object (80612)>, <Rendition: Rendition object (80613)>, <Rendition: Rendition object (80614)>, <Rendition: Rendition object (80615)>, <Rendition: Rendition object (80616)>, <Rendition: Rendition object (80617)>], 2370: [<Rendition: Rendition object (80527)>, <Rendition: Rendition object (80542)>, <Rendition: Rendition object (80543)>, <Rendition: Rendition object (80642)>, <Rendition: Rendition object (80643)>, <Rendition: Rendition object (80644)>, <Rendition: Rendition object (80645)>, <Rendition: Rendition object (80646)>, <Rendition: Rendition object (80647)>, <Rendition: Rendition object (80648)>, <Rendition: Rendition object (80649)>, <Rendition: Rendition object (80650)>, <Rendition: Rendition object (80651)>, <Rendition: Rendition object (80652)>, <Rendition: Rendition object (80653)>], 2369: [<Rendition: Rendition object (80528)>, <Rendition: Rendition object (80544)>, <Rendition: Rendition object (80545)>, <Rendition: Rendition object (80570)>, <Rendition: Rendition object (80571)>, <Rendition: Rendition object (80572)>, <Rendition: Rendition object (80573)>, <Rendition: Rendition object (80574)>, <Rendition: Rendition object (80575)>, <Rendition: Rendition object (80576)>, <Rendition: Rendition object (80577)>, <Rendition: Rendition object (80578)>, <Rendition: Rendition object (80579)>, <Rendition: Rendition object (80580)>, <Rendition: Rendition object (80581)>], 2368: [<Rendition: Rendition object (80529)>, <Rendition: Rendition object (80546)>, <Rendition: Rendition object (80547)>, <Rendition: Rendition object (80582)>, <Rendition: Rendition object (80583)>, <Rendition: Rendition object (80584)>, <Rendition: Rendition object (80585)>, <Rendition: Rendition object (80586)>, <Rendition: Rendition object (80587)>, <Rendition: Rendition object (80588)>, <Rendition: Rendition object (80589)>, <Rendition: Rendition object (80590)>, <Rendition: Rendition object (80591)>, <Rendition: Rendition object (80592)>, <Rendition: Rendition object (80593)>], 2367: [<Rendition: Rendition object (80530)>, <Rendition: Rendition object (80548)>, <Rendition: Rendition object (80549)>, <Rendition: Rendition object (80630)>, <Rendition: Rendition object (80631)>, <Rendition: Rendition object (80632)>, <Rendition: Rendition object (80633)>, <Rendition: Rendition object (80634)>, <Rendition: Rendition object (80635)>, <Rendition: Rendition object (80636)>, <Rendition: Rendition object (80637)>, <Rendition: Rendition object (80638)>, <Rendition: Rendition object (80639)>, <Rendition: Rendition object (80640)>, <Rendition: Rendition object (80641)>], 2366: [<Rendition: Rendition object (80531)>, <Rendition: Rendition object (80550)>, <Rendition: Rendition object (80551)>, <Rendition: Rendition object (80618)>, <Rendition: Rendition object (80619)>, <Rendition: Rendition object (80620)>, <Rendition: Rendition object (80621)>, <Rendition: Rendition object (80622)>, <Rendition: Rendition object (80623)>, <Rendition: Rendition object (80624)>, <Rendition: Rendition object (80625)>, <Rendition: Rendition object (80626)>, <Rendition: Rendition object (80627)>, <Rendition: Rendition object (80628)>, <Rendition: Rendition object (80629)>], 2364: [<Rendition: Rendition object (80533)>, <Rendition: Rendition object (80554)>, <Rendition: Rendition object (80555)>, <Rendition: Rendition object (80594)>, <Rendition: Rendition object (80595)>, <Rendition: Rendition object (80596)>, <Rendition: Rendition object (80597)>, <Rendition: Rendition object (80598)>, <Rendition: Rendition object (80599)>, <Rendition: Rendition object (80600)>, <Rendition: Rendition object (80601)>, <Rendition: Rendition object (80602)>, <Rendition: Rendition object (80603)>, <Rendition: Rendition object (80604)>, <Rendition: Rendition object (80605)>], 2363: [<Rendition: Rendition object (80534)>, <Rendition: Rendition object (80556)>, <Rendition: Rendition object (80557)>, <Rendition: Rendition object (80654)>, <Rendition: Rendition object (80655)>, <Rendition: Rendition object (80656)>, <Rendition: Rendition object (80657)>, <Rendition: Rendition object (80658)>, <Rendition: Rendition object (80659)>, <Rendition: Rendition object (80660)>, <Rendition: Rendition object (80661)>, <Rendition: Rendition object (80662)>, <Rendition: Rendition object (80663)>, <Rendition: Rendition object (80664)>, <Rendition: Rendition object (80665)>], 2362: [<Rendition: Rendition object (80535)>, <Rendition: Rendition object (80558)>, <Rendition: Rendition object (80559)>, <Rendition: Rendition object (80666)>, <Rendition: Rendition object (80667)>, <Rendition: Rendition object (80668)>, <Rendition: Rendition object (80669)>, <Rendition: Rendition object (80670)>, <Rendition: Rendition object (80671)>, <Rendition: Rendition object (80672)>, <Rendition: Rendition object (80673)>, <Rendition: Rendition object (80674)>, <Rendition: Rendition object (80675)>, <Rendition: Rendition object (80676)>, <Rendition: Rendition object (80677)>], 2360: [<Rendition: Rendition object (80537)>, <Rendition: Rendition object (80562)>, <Rendition: Rendition object (80563)>, <Rendition: Rendition object (80678)>, <Rendition: Rendition object (80679)>, <Rendition: Rendition object (80680)>, <Rendition: Rendition object (80681)>, <Rendition: Rendition object (80682)>, <Rendition: Rendition object (80683)>, <Rendition: Rendition object (80684)>, <Rendition: Rendition object (80685)>, <Rendition: Rendition object (80686)>, <Rendition: Rendition object (80687)>, <Rendition: Rendition object (80688)>, <Rendition: Rendition object (80689)>]}, 'page_range': <generator object Paginator.get_elided_page_range at 0x112b25d50>, 'posts': [<Post: März 2024-03-11>, <Post: März 2024-03-04>, <Post: Februar 2024-02-26>, <Post: Februar 2024-02-19>, <Post: Februar 2024-02-12>], 'has_selectable_themes': True, 'template_base_dir': 'bootstrap5', 'use_audio_player': False, 'theme_form': <SelectThemeForm bound=False, valid=Unknown, fields=(template_base_dir;next)>}\n"
     ]
    }
   ],
   "source": [
    "print(context)"
   ]
  },
  {
   "cell_type": "code",
   "execution_count": 19,
   "id": "3370cfff-514b-4720-9fa5-644a715145dd",
   "metadata": {
    "tags": []
   },
   "outputs": [
    {
     "name": "stdout",
     "output_type": "stream",
     "text": [
      "get_params:  <QueryDict: {}>\n",
      "context:  {'page': <Blog: Claas und Nora sagen Hallo>, 'self': <Blog: Claas und Nora sagen Hallo>, 'request': <WSGIRequest: GET '/foobar'>}\n",
      "CPU times: user 40.7 ms, sys: 10.9 ms, total: 51.6 ms\n",
      "Wall time: 60.1 ms\n"
     ]
    }
   ],
   "source": [
    "%%time\n",
    "request = request_factory.get(\"/foobar\")\n",
    "request.htmx = False\n",
    "reset_queries()\n",
    "\n",
    "# with connection.execute_wrapper(blocker):\n",
    "response = blog.serve(request)"
   ]
  },
  {
   "cell_type": "code",
   "execution_count": 53,
   "id": "4b4a8abd-cc31-43a1-931b-88d6d12b6941",
   "metadata": {
    "tags": []
   },
   "outputs": [
    {
     "name": "stdout",
     "output_type": "stream",
     "text": [
      "12\n"
     ]
    }
   ],
   "source": [
    "print(len(connection.queries))"
   ]
  },
  {
   "cell_type": "code",
   "execution_count": 52,
   "id": "a2f94989-ec47-4a27-9950-9618637ae6bb",
   "metadata": {
    "tags": []
   },
   "outputs": [
    {
     "name": "stdout",
     "output_type": "stream",
     "text": [
      "SELECT \"cast_postcategory\".\"slug\",\n",
      "       \"cast_postcategory\".\"name\",\n",
      "       COUNT(\"cast_post_categories\".\"post_id\") FILTER (\n",
      "                                                       WHERE \"cast_post_categories\".\"post_id\" IN\n",
      "                                                           (SELECT U0.\"page_ptr_id\"\n",
      "                                                            FROM \"cast_post\" U0\n",
      "                                                            INNER JOIN \"wagtailcore_page\" U1 ON (U0.\"page_ptr_id\" = U1.\"id\")\n",
      "                                                            WHERE (U1.\"live\"\n",
      "                                                                   AND U1.\"path\"::text LIKE '000100010001%'\n",
      "                                                                   AND U1.\"depth\" >= 3\n",
      "                                                                   AND NOT (U0.\"page_ptr_id\" = 3)))) AS \"num_posts\"\n",
      "FROM \"cast_postcategory\"\n",
      "LEFT OUTER JOIN \"cast_post_categories\" ON (\"cast_postcategory\".\"id\" = \"cast_post_categories\".\"postcategory_id\")\n",
      "GROUP BY \"cast_postcategory\".\"id\"\n",
      "HAVING COUNT(\"cast_post_categories\".\"post_id\") FILTER (\n",
      "                                                       WHERE (\"cast_post_categories\".\"post_id\" IN\n",
      "                                                                (SELECT U0.\"page_ptr_id\"\n",
      "                                                                 FROM \"cast_post\" U0\n",
      "                                                                 INNER JOIN \"wagtailcore_page\" U1 ON (U0.\"page_ptr_id\" = U1.\"id\")\n",
      "                                                                 WHERE (U1.\"live\"\n",
      "                                                                        AND U1.\"path\"::text LIKE '000100010001%'\n",
      "                                                                        AND U1.\"depth\" >= 3\n",
      "                                                                        AND NOT (U0.\"page_ptr_id\" = 3))))) > 0\n",
      "SELECT \"taggit_tag\".\"slug\",\n",
      "       \"taggit_tag\".\"name\",\n",
      "       COUNT(\"cast_posttag\".\"content_object_id\") FILTER (\n",
      "                                                         WHERE \"cast_posttag\".\"content_object_id\" IN\n",
      "                                                             (SELECT U0.\"page_ptr_id\"\n",
      "                                                              FROM \"cast_post\" U0\n",
      "                                                              INNER JOIN \"wagtailcore_page\" U1 ON (U0.\"page_ptr_id\" = U1.\"id\")\n",
      "                                                              WHERE (U1.\"live\"\n",
      "                                                                     AND U1.\"path\"::text LIKE '000100010001%'\n",
      "                                                                     AND U1.\"depth\" >= 3\n",
      "                                                                     AND NOT (U0.\"page_ptr_id\" = 3)))) AS \"num_posts\"\n",
      "FROM \"taggit_tag\"\n",
      "LEFT OUTER JOIN \"cast_posttag\" ON (\"taggit_tag\".\"id\" = \"cast_posttag\".\"tag_id\")\n",
      "GROUP BY \"taggit_tag\".\"id\"\n",
      "HAVING COUNT(\"cast_posttag\".\"content_object_id\") FILTER (\n",
      "                                                         WHERE (\"cast_posttag\".\"content_object_id\" IN\n",
      "                                                                  (SELECT U0.\"page_ptr_id\"\n",
      "                                                                   FROM \"cast_post\" U0\n",
      "                                                                   INNER JOIN \"wagtailcore_page\" U1 ON (U0.\"page_ptr_id\" = U1.\"id\")\n",
      "                                                                   WHERE (U1.\"live\"\n",
      "                                                                          AND U1.\"path\"::text LIKE '000100010001%'\n",
      "                                                                          AND U1.\"depth\" >= 3\n",
      "                                                                          AND NOT (U0.\"page_ptr_id\" = 3))))) > 0\n",
      "SELECT DATE_TRUNC('month', \"cast_post\".\"visible_date\" AT TIME ZONE 'UTC') AS \"month\",\n",
      "       COUNT(\"cast_post\".\"page_ptr_id\") AS \"num_posts\"\n",
      "FROM \"cast_post\"\n",
      "INNER JOIN \"wagtailcore_page\" ON (\"cast_post\".\"page_ptr_id\" = \"wagtailcore_page\".\"id\")\n",
      "WHERE (\"wagtailcore_page\".\"live\"\n",
      "       AND \"wagtailcore_page\".\"path\"::text LIKE '000100010001%'\n",
      "       AND \"wagtailcore_page\".\"depth\" >= 3\n",
      "       AND NOT (\"cast_post\".\"page_ptr_id\" = 3))\n",
      "GROUP BY 1\n",
      "SELECT COUNT(*) AS \"__count\"\n",
      "FROM \"cast_post\"\n",
      "INNER JOIN \"wagtailcore_page\" ON (\"cast_post\".\"page_ptr_id\" = \"wagtailcore_page\".\"id\")\n",
      "WHERE (\"wagtailcore_page\".\"live\"\n",
      "       AND \"wagtailcore_page\".\"path\"::text LIKE '000100010001%'\n",
      "       AND \"wagtailcore_page\".\"depth\" >= 3\n",
      "       AND NOT (\"cast_post\".\"page_ptr_id\" = 3))\n",
      "SELECT \"wagtailcore_page\".\"id\",\n",
      "       \"wagtailcore_page\".\"path\",\n",
      "       \"wagtailcore_page\".\"depth\",\n",
      "       \"wagtailcore_page\".\"numchild\",\n",
      "       \"wagtailcore_page\".\"translation_key\",\n",
      "       \"wagtailcore_page\".\"locale_id\",\n",
      "       \"wagtailcore_page\".\"latest_revision_id\",\n",
      "       \"wagtailcore_page\".\"live\",\n",
      "       \"wagtailcore_page\".\"has_unpublished_changes\",\n",
      "       \"wagtailcore_page\".\"first_published_at\",\n",
      "       \"wagtailcore_page\".\"last_published_at\",\n",
      "       \"wagtailcore_page\".\"live_revision_id\",\n",
      "       \"wagtailcore_page\".\"go_live_at\",\n",
      "       \"wagtailcore_page\".\"expire_at\",\n",
      "       \"wagtailcore_page\".\"expired\",\n",
      "       \"wagtailcore_page\".\"locked\",\n",
      "       \"wagtailcore_page\".\"locked_at\",\n",
      "       \"wagtailcore_page\".\"locked_by_id\",\n",
      "       \"wagtailcore_page\".\"title\",\n",
      "       \"wagtailcore_page\".\"draft_title\",\n",
      "       \"wagtailcore_page\".\"slug\",\n",
      "       \"wagtailcore_page\".\"content_type_id\",\n",
      "       \"wagtailcore_page\".\"url_path\",\n",
      "       \"wagtailcore_page\".\"owner_id\",\n",
      "       \"wagtailcore_page\".\"seo_title\",\n",
      "       \"wagtailcore_page\".\"show_in_menus\",\n",
      "       \"wagtailcore_page\".\"search_description\",\n",
      "       \"wagtailcore_page\".\"latest_revision_created_at\",\n",
      "       \"wagtailcore_page\".\"alias_of_id\",\n",
      "       \"cast_post\".\"page_ptr_id\",\n",
      "       \"cast_post\".\"uuid\",\n",
      "       \"cast_post\".\"visible_date\",\n",
      "       \"cast_post\".\"comments_enabled\",\n",
      "       \"cast_post\".\"body\",\n",
      "       \"users_user\".\"id\",\n",
      "       \"users_user\".\"password\",\n",
      "       \"users_user\".\"last_login\",\n",
      "       \"users_user\".\"is_superuser\",\n",
      "       \"users_user\".\"username\",\n",
      "       \"users_user\".\"first_name\",\n",
      "       \"users_user\".\"last_name\",\n",
      "       \"users_user\".\"email\",\n",
      "       \"users_user\".\"is_staff\",\n",
      "       \"users_user\".\"is_active\",\n",
      "       \"users_user\".\"date_joined\",\n",
      "       \"users_user\".\"name\"\n",
      "FROM \"cast_post\"\n",
      "INNER JOIN \"wagtailcore_page\" ON (\"cast_post\".\"page_ptr_id\" = \"wagtailcore_page\".\"id\")\n",
      "LEFT OUTER JOIN \"users_user\" ON (\"wagtailcore_page\".\"owner_id\" = \"users_user\".\"id\")\n",
      "WHERE (\"wagtailcore_page\".\"live\"\n",
      "       AND \"wagtailcore_page\".\"path\"::text LIKE '000100010001%'\n",
      "       AND \"wagtailcore_page\".\"depth\" >= 3\n",
      "       AND NOT (\"cast_post\".\"page_ptr_id\" = 3))\n",
      "ORDER BY \"cast_post\".\"visible_date\" DESC\n",
      "LIMIT 5\n",
      "SELECT (\"cast_post_audios\".\"post_id\") AS \"_prefetch_related_val_post_id\",\n",
      "       \"cast_audio\".\"id\",\n",
      "       \"cast_audio\".\"created\",\n",
      "       \"cast_audio\".\"modified\",\n",
      "       \"cast_audio\".\"collection_id\",\n",
      "       \"cast_audio\".\"user_id\",\n",
      "       \"cast_audio\".\"duration\",\n",
      "       \"cast_audio\".\"title\",\n",
      "       \"cast_audio\".\"subtitle\",\n",
      "       \"cast_audio\".\"m4a\",\n",
      "       \"cast_audio\".\"mp3\",\n",
      "       \"cast_audio\".\"oga\",\n",
      "       \"cast_audio\".\"opus\",\n",
      "       \"cast_audio\".\"data\"\n",
      "FROM \"cast_audio\"\n",
      "INNER JOIN \"cast_post_audios\" ON (\"cast_audio\".\"id\" = \"cast_post_audios\".\"audio_id\")\n",
      "WHERE \"cast_post_audios\".\"post_id\" IN (522,\n",
      "                                       521,\n",
      "                                       517,\n",
      "                                       516,\n",
      "                                       513)\n",
      "SELECT (\"cast_post_images\".\"post_id\") AS \"_prefetch_related_val_post_id\",\n",
      "       \"wagtailimages_image\".\"id\",\n",
      "       \"wagtailimages_image\".\"collection_id\",\n",
      "       \"wagtailimages_image\".\"title\",\n",
      "       \"wagtailimages_image\".\"file\",\n",
      "       \"wagtailimages_image\".\"width\",\n",
      "       \"wagtailimages_image\".\"height\",\n",
      "       \"wagtailimages_image\".\"created_at\",\n",
      "       \"wagtailimages_image\".\"uploaded_by_user_id\",\n",
      "       \"wagtailimages_image\".\"focal_point_x\",\n",
      "       \"wagtailimages_image\".\"focal_point_y\",\n",
      "       \"wagtailimages_image\".\"focal_point_width\",\n",
      "       \"wagtailimages_image\".\"focal_point_height\",\n",
      "       \"wagtailimages_image\".\"file_size\",\n",
      "       \"wagtailimages_image\".\"file_hash\"\n",
      "FROM \"wagtailimages_image\"\n",
      "INNER JOIN \"cast_post_images\" ON (\"wagtailimages_image\".\"id\" = \"cast_post_images\".\"image_id\")\n",
      "WHERE \"cast_post_images\".\"post_id\" IN (522,\n",
      "                                       521,\n",
      "                                       517,\n",
      "                                       516,\n",
      "                                       513)\n",
      "SELECT (\"cast_post_videos\".\"post_id\") AS \"_prefetch_related_val_post_id\",\n",
      "       \"cast_video\".\"id\",\n",
      "       \"cast_video\".\"created\",\n",
      "       \"cast_video\".\"modified\",\n",
      "       \"cast_video\".\"collection_id\",\n",
      "       \"cast_video\".\"user_id\",\n",
      "       \"cast_video\".\"title\",\n",
      "       \"cast_video\".\"original\",\n",
      "       \"cast_video\".\"poster\",\n",
      "       \"cast_video\".\"poster_seconds\"\n",
      "FROM \"cast_video\"\n",
      "INNER JOIN \"cast_post_videos\" ON (\"cast_video\".\"id\" = \"cast_post_videos\".\"video_id\")\n",
      "WHERE \"cast_post_videos\".\"post_id\" IN (522,\n",
      "                                       521,\n",
      "                                       517,\n",
      "                                       516,\n",
      "                                       513)\n",
      "SELECT (\"cast_post_galleries\".\"post_id\") AS \"_prefetch_related_val_post_id\",\n",
      "       \"cast_gallery\".\"id\",\n",
      "       \"cast_gallery\".\"created\",\n",
      "       \"cast_gallery\".\"modified\"\n",
      "FROM \"cast_gallery\"\n",
      "INNER JOIN \"cast_post_galleries\" ON (\"cast_gallery\".\"id\" = \"cast_post_galleries\".\"gallery_id\")\n",
      "WHERE \"cast_post_galleries\".\"post_id\" IN (522,\n",
      "                                          521,\n",
      "                                          517,\n",
      "                                          516,\n",
      "                                          513)\n",
      "SELECT (\"cast_gallery_images\".\"gallery_id\") AS \"_prefetch_related_val_gallery_id\",\n",
      "       \"wagtailimages_image\".\"id\",\n",
      "       \"wagtailimages_image\".\"collection_id\",\n",
      "       \"wagtailimages_image\".\"title\",\n",
      "       \"wagtailimages_image\".\"file\",\n",
      "       \"wagtailimages_image\".\"width\",\n",
      "       \"wagtailimages_image\".\"height\",\n",
      "       \"wagtailimages_image\".\"created_at\",\n",
      "       \"wagtailimages_image\".\"uploaded_by_user_id\",\n",
      "       \"wagtailimages_image\".\"focal_point_x\",\n",
      "       \"wagtailimages_image\".\"focal_point_y\",\n",
      "       \"wagtailimages_image\".\"focal_point_width\",\n",
      "       \"wagtailimages_image\".\"focal_point_height\",\n",
      "       \"wagtailimages_image\".\"file_size\",\n",
      "       \"wagtailimages_image\".\"file_hash\"\n",
      "FROM \"wagtailimages_image\"\n",
      "INNER JOIN \"cast_gallery_images\" ON (\"wagtailimages_image\".\"id\" = \"cast_gallery_images\".\"image_id\")\n",
      "WHERE \"cast_gallery_images\".\"gallery_id\" IN (363,\n",
      "                                             364,\n",
      "                                             365,\n",
      "                                             366,\n",
      "                                             367,\n",
      "                                             369,\n",
      "                                             370)\n",
      "SELECT \"wagtailimages_rendition\".\"id\",\n",
      "       \"wagtailimages_rendition\".\"filter_spec\",\n",
      "       \"wagtailimages_rendition\".\"file\",\n",
      "       \"wagtailimages_rendition\".\"width\",\n",
      "       \"wagtailimages_rendition\".\"height\",\n",
      "       \"wagtailimages_rendition\".\"focal_point_key\",\n",
      "       \"wagtailimages_rendition\".\"image_id\"\n",
      "FROM \"wagtailimages_rendition\"\n",
      "WHERE \"wagtailimages_rendition\".\"image_id\" IN (2365,\n",
      "                                               2393)\n",
      "SELECT \"wagtailimages_rendition\".\"id\",\n",
      "       \"wagtailimages_rendition\".\"filter_spec\",\n",
      "       \"wagtailimages_rendition\".\"file\",\n",
      "       \"wagtailimages_rendition\".\"width\",\n",
      "       \"wagtailimages_rendition\".\"height\",\n",
      "       \"wagtailimages_rendition\".\"focal_point_key\",\n",
      "       \"wagtailimages_rendition\".\"image_id\"\n",
      "FROM \"wagtailimages_rendition\"\n",
      "WHERE \"wagtailimages_rendition\".\"image_id\" IN (2342,\n",
      "                                               2344,\n",
      "                                               2343,\n",
      "                                               2341,\n",
      "                                               2345,\n",
      "                                               2347,\n",
      "                                               2346,\n",
      "                                               2357,\n",
      "                                               2356,\n",
      "                                               2355,\n",
      "                                               2354,\n",
      "                                               2353,\n",
      "                                               2352,\n",
      "                                               2351,\n",
      "                                               2350,\n",
      "                                               2349,\n",
      "                                               2348,\n",
      "                                               2359,\n",
      "                                               2358,\n",
      "                                               2372,\n",
      "                                               2370,\n",
      "                                               2369,\n",
      "                                               2368,\n",
      "                                               2367,\n",
      "                                               2366,\n",
      "                                               2364,\n",
      "                                               2363,\n",
      "                                               2362,\n",
      "                                               2360,\n",
      "                                               2390,\n",
      "                                               2389,\n",
      "                                               2388,\n",
      "                                               2397,\n",
      "                                               2396,\n",
      "                                               2395,\n",
      "                                               2394)\n"
     ]
    }
   ],
   "source": [
    "show_queries(connection.queries)"
   ]
  },
  {
   "cell_type": "code",
   "execution_count": null,
   "id": "71881d70-bc5e-4f43-9cbb-75548eb95fae",
   "metadata": {},
   "outputs": [],
   "source": []
  }
 ],
 "metadata": {
  "kernelspec": {
   "display_name": "Django Kernel",
   "language": "python",
   "name": "django_extensions"
  },
  "language_info": {
   "codemirror_mode": {
    "name": "ipython",
    "version": 3
   },
   "file_extension": ".py",
   "mimetype": "text/x-python",
   "name": "python",
   "nbconvert_exporter": "python",
   "pygments_lexer": "ipython3",
   "version": "3.12.2"
  }
 },
 "nbformat": 4,
 "nbformat_minor": 5
}
