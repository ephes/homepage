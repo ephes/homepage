{
 "cells": [
  {
   "cell_type": "code",
   "execution_count": 1,
   "id": "8b0c9f00-8821-4ff2-9f0b-ab11765d9332",
   "metadata": {},
   "outputs": [
    {
     "data": {
      "text/html": [
       "<pre style=\"white-space:pre;overflow-x:auto;line-height:normal;font-family:Menlo,'DejaVu Sans Mono',consolas,'Courier New',monospace\">The .env file has been loaded. See base.py for more information\n",
       "</pre>\n"
      ],
      "text/plain": [
       "The .env file has been loaded. See base.py for more information\n"
      ]
     },
     "metadata": {},
     "output_type": "display_data"
    },
    {
     "data": {
      "application/vnd.jupyter.widget-view+json": {
       "model_id": "",
       "version_major": 2,
       "version_minor": 0
      },
      "text/plain": [
       "Output()"
      ]
     },
     "metadata": {},
     "output_type": "display_data"
    },
    {
     "data": {
      "text/html": [
       "<pre style=\"white-space:pre;overflow-x:auto;line-height:normal;font-family:Menlo,'DejaVu Sans Mono',consolas,'Courier New',monospace\"></pre>\n"
      ],
      "text/plain": []
     },
     "metadata": {},
     "output_type": "display_data"
    }
   ],
   "source": [
    "from dj_notebook import activate\n",
    "plus = activate()"
   ]
  },
  {
   "cell_type": "code",
   "execution_count": 2,
   "id": "c5da71e7-de6a-486a-9c8a-2a38d7449b7d",
   "metadata": {},
   "outputs": [
    {
     "data": {
      "text/plain": [
       "'/cms/media/video/chooser/'"
      ]
     },
     "execution_count": 2,
     "metadata": {},
     "output_type": "execute_result"
    }
   ],
   "source": [
    "plus.reverse(\"castvideo:chooser\")"
   ]
  },
  {
   "cell_type": "code",
   "execution_count": 3,
   "id": "1210b9b3-a4a9-4a35-a995-b177d40f9a30",
   "metadata": {},
   "outputs": [
    {
     "data": {
      "text/plain": [
       "'/cms/images/chooser/'"
      ]
     },
     "execution_count": 3,
     "metadata": {},
     "output_type": "execute_result"
    }
   ],
   "source": [
    "plus.reverse(\"wagtailimages_chooser:choose\")"
   ]
  },
  {
   "cell_type": "code",
   "execution_count": null,
   "id": "97933336-e5f5-4454-a968-fcc6c97098d1",
   "metadata": {},
   "outputs": [],
   "source": []
  },
  {
   "cell_type": "code",
   "execution_count": null,
   "id": "d528b258-2305-46be-ae01-1d47e10398aa",
   "metadata": {},
   "outputs": [],
   "source": []
  }
 ],
 "metadata": {
  "kernelspec": {
   "display_name": "Python 3 (ipykernel)",
   "language": "python",
   "name": "python3"
  },
  "language_info": {
   "codemirror_mode": {
    "name": "ipython",
    "version": 3
   },
   "file_extension": ".py",
   "mimetype": "text/x-python",
   "name": "python",
   "nbconvert_exporter": "python",
   "pygments_lexer": "ipython3",
   "version": "3.12.3"
  }
 },
 "nbformat": 4,
 "nbformat_minor": 5
}
