{
 "cells": [
  {
   "cell_type": "code",
   "execution_count": 1,
   "metadata": {},
   "outputs": [],
   "source": [
    "import subprocess"
   ]
  },
  {
   "cell_type": "code",
   "execution_count": 2,
   "metadata": {},
   "outputs": [],
   "source": [
    "video = list(Video.objects.all().order_by(\"-created\"))[0]"
   ]
  },
  {
   "cell_type": "code",
   "execution_count": 3,
   "metadata": {},
   "outputs": [
    {
     "data": {
      "text/plain": [
       "<FieldFile: cast_videos/EUMDY6qETWmpJcL2oGcNzw.MOV>"
      ]
     },
     "execution_count": 3,
     "metadata": {},
     "output_type": "execute_result"
    }
   ],
   "source": [
    "video.original"
   ]
  },
  {
   "cell_type": "code",
   "execution_count": 5,
   "metadata": {},
   "outputs": [
    {
     "data": {
      "text/plain": [
       "<ImageFieldFile: None>"
      ]
     },
     "execution_count": 5,
     "metadata": {},
     "output_type": "execute_result"
    }
   ],
   "source": [
    "video.poster"
   ]
  },
  {
   "cell_type": "code",
   "execution_count": 8,
   "metadata": {},
   "outputs": [
    {
     "data": {
      "text/plain": [
       "(None, None)"
      ]
     },
     "execution_count": 8,
     "metadata": {},
     "output_type": "execute_result"
    }
   ],
   "source": [
    "video_url = video.original.path\n",
    "video._get_video_dimensions(video_url)"
   ]
  },
  {
   "cell_type": "code",
   "execution_count": 22,
   "metadata": {},
   "outputs": [],
   "source": [
    "def get_video_dimensions(video_url):\n",
    "    def get_width_height(video_type, line):\n",
    "        dim_col = line.split(\", \")[3]\n",
    "        if video_type != \"h264\":\n",
    "            dim_col = dim_col.split(\" \")[0]\n",
    "        return map(int, dim_col.split(\"x\"))\n",
    "    \n",
    "    ffprobe_cmd = 'ffprobe -i \"{}\"'.format(video_url)\n",
    "    result = subprocess.check_output(\n",
    "        ffprobe_cmd, shell=True, stderr=subprocess.STDOUT\n",
    "    )\n",
    "    lines = result.decode(\"utf8\").split(\"\\n\")\n",
    "    width, height = None, None\n",
    "    video_types = (\"SAR\", \"hevc\", \"h264\")\n",
    "    for line in lines:\n",
    "        for video_type in video_types:\n",
    "            if video_type in line:\n",
    "                width, height = get_width_height(video_type, line)\n",
    "                break\n",
    "    portrait = False\n",
    "    for line in lines:\n",
    "        if \"rotation of\" in line:\n",
    "            portrait = True\n",
    "    if portrait:\n",
    "        width, height = height, width\n",
    "    return width, height"
   ]
  },
  {
   "cell_type": "code",
   "execution_count": 23,
   "metadata": {},
   "outputs": [
    {
     "data": {
      "text/plain": [
       "(360, 480)"
      ]
     },
     "execution_count": 23,
     "metadata": {},
     "output_type": "execute_result"
    }
   ],
   "source": [
    "get_video_dimensions(video_url)"
   ]
  },
  {
   "cell_type": "code",
   "execution_count": 24,
   "metadata": {},
   "outputs": [],
   "source": [
    "ffmpeg_output = \"\"\"\n",
    "ffmpeg version 4.1.1 Copyright (c) 2000-2019 the FFmpeg developers\n",
    "  built with Apple LLVM version 10.0.0 (clang-1000.11.45.5)\n",
    "  configuration: --prefix=/usr/local/Cellar/ffmpeg/4.1.1 --enable-shared --enable-pthreads --enable-version3 --enable-hardcoded-tables --enable-avresample --cc=clang --host-cflags='-I/Library/Java/JavaVirtualMachines/openjdk-11.0.2.jdk/Contents/Home/include -I/Library/Java/JavaVirtualMachines/openjdk-11.0.2.jdk/Contents/Home/include/darwin' --host-ldflags= --enable-ffplay --enable-gnutls --enable-gpl --enable-libaom --enable-libbluray --enable-libmp3lame --enable-libopus --enable-librubberband --enable-libsnappy --enable-libtesseract --enable-libtheora --enable-libvorbis --enable-libvpx --enable-libx264 --enable-libx265 --enable-libxvid --enable-lzma --enable-libfontconfig --enable-libfreetype --enable-frei0r --enable-libass --enable-libopencore-amrnb --enable-libopencore-amrwb --enable-libopenjpeg --enable-librtmp --enable-libspeex --enable-videotoolbox --disable-libjack --disable-indev=jack --enable-libaom --enable-libsoxr\n",
    "  libavutil      56. 22.100 / 56. 22.100\n",
    "  libavcodec     58. 35.100 / 58. 35.100\n",
    "  libavformat    58. 20.100 / 58. 20.100\n",
    "  libavdevice    58.  5.100 / 58.  5.100\n",
    "  libavfilter     7. 40.101 /  7. 40.101\n",
    "  libavresample   4.  0.  0 /  4.  0.  0\n",
    "  libswscale      5.  3.100 /  5.  3.100\n",
    "  libswresample   3.  3.100 /  3.  3.100\n",
    "  libpostproc    55.  3.100 / 55.  3.100\n",
    "Input #0, mov,mp4,m4a,3gp,3g2,mj2, from '/Users/jochen/projects/homepage/homepage/media/cast_videos/VID_20190228_144156.mp4':\n",
    "  Metadata:\n",
    "    major_brand     : mp42\n",
    "    minor_version   : 0\n",
    "    compatible_brands: isommp42\n",
    "    creation_time   : 2019-02-28T13:41:56.000000Z\n",
    "    location        : +51.2380+006.7902/\n",
    "    location-eng    : +51.2380+006.7902/\n",
    "    com.android.version: 9\n",
    "  Duration: 00:00:04.06, start: 0.000000, bitrate: 21343 kb/s\n",
    "    Stream #0:0(eng): Audio: aac (LC) (mp4a / 0x6134706D), 44100 Hz, stereo, fltp, 190 kb/s (default)\n",
    "    Metadata:\n",
    "      creation_time   : 2019-02-28T13:41:56.000000Z\n",
    "      handler_name    : SoundHandle\n",
    "    Stream #0:1(eng): Video: h264 (High) (avc1 / 0x31637661), yuvj420p(pc, bt470bg/bt470bg/smpte170m), 1920x1080, 21917 kb/s, SAR 1:1 DAR 16:9, 29.88 fps, 30.13 tbr, 90k tbn, 180k tbc (default)\n",
    "    Metadata:\n",
    "      rotate          : 270\n",
    "      creation_time   : 2019-02-28T13:41:56.000000Z\n",
    "      handler_name    : VideoHandle\n",
    "    Side data:\n",
    "      displaymatrix: rotation of 90.00 degrees\n",
    "Stream mapping:\n",
    "  Stream #0:1 -> #0:0 (h264 (native) -> mjpeg (native))\n",
    "Press [q] to stop, [?] for help\n",
    "Output #0, image2, to '/var/folders/yq/lq6vnk9s693bp4xr5wktm1vh0000gn/T/poster_22_kvc0v.jpg':\n",
    "  Metadata:\n",
    "    major_brand     : mp42\n",
    "    minor_version   : 0\n",
    "    compatible_brands: isommp42\n",
    "    com.android.version: 9\n",
    "    location        : +51.2380+006.7902/\n",
    "    location-eng    : +51.2380+006.7902/\n",
    "    encoder         : Lavf58.20.100\n",
    "    Stream #0:0(eng): Video: mjpeg, yuvj420p(pc), 1080x1920 [SAR 1:1 DAR 9:16], q=2-31, 200 kb/s, 30.13 fps, 30.13 tbn, 30.13 tbc (default)\n",
    "    Metadata:\n",
    "      encoder         : Lavc58.35.100 mjpeg\n",
    "      creation_time   : 2019-02-28T13:41:56.000000Z\n",
    "      handler_name    : VideoHandle\n",
    "    Side data:\n",
    "      cpb: bitrate max/min/avg: 0/0/200000 buffer size: 0 vbv_delay: -1\n",
    "      displaymatrix: rotation of -0.00 degrees\n",
    "frame=    1 fps=0.0 q=6.4 Lsize=N/A time=00:00:00.03 bitrate=N/A speed=0.263x\n",
    "video:97kB audio:0kB subtitle:0kB other streams:0kB global headers:0kB muxing overhead: unknown\n",
    "\"\"\""
   ]
  },
  {
   "cell_type": "code",
   "execution_count": 31,
   "metadata": {},
   "outputs": [],
   "source": [
    "ffmpeg_output = \"\"\"\n",
    "ffmpeg version 4.1.1 Copyright (c) 2000-2019 the FFmpeg developers\n",
    "  built with Apple LLVM version 10.0.0 (clang-1000.11.45.5)\n",
    "  configuration: --prefix=/usr/local/Cellar/ffmpeg/4.1.1 --enable-shared --enable-pthreads --enable-version3 --enable-hardcoded-tables --enable-avresample --cc=clang --host-cflags='-I/Library/Java/JavaVirtualMachines/openjdk-11.0.2.jdk/Contents/Home/include -I/Library/Java/JavaVirtualMachines/openjdk-11.0.2.jdk/Contents/Home/include/darwin' --host-ldflags= --enable-ffplay --enable-gnutls --enable-gpl --enable-libaom --enable-libbluray --enable-libmp3lame --enable-libopus --enable-librubberband --enable-libsnappy --enable-libtesseract --enable-libtheora --enable-libvorbis --enable-libvpx --enable-libx264 --enable-libx265 --enable-libxvid --enable-lzma --enable-libfontconfig --enable-libfreetype --enable-frei0r --enable-libass --enable-libopencore-amrnb --enable-libopencore-amrwb --enable-libopenjpeg --enable-librtmp --enable-libspeex --enable-videotoolbox --disable-libjack --disable-indev=jack --enable-libaom --enable-libsoxr\n",
    "  libavutil      56. 22.100 / 56. 22.100\n",
    "  libavcodec     58. 35.100 / 58. 35.100\n",
    "  libavformat    58. 20.100 / 58. 20.100\n",
    "  libavdevice    58.  5.100 / 58.  5.100\n",
    "  libavfilter     7. 40.101 /  7. 40.101\n",
    "  libavresample   4.  0.  0 /  4.  0.  0\n",
    "  libswscale      5.  3.100 /  5.  3.100\n",
    "  libswresample   3.  3.100 /  3.  3.100\n",
    "  libpostproc    55.  3.100 / 55.  3.100\n",
    "Input #0, mov,mp4,m4a,3gp,3g2,mj2, from '/Users/jochen/projects/homepage/homepage/media/cast_videos/E6B2E327-98BB-4348-8606-1E531D121BB3.MOV':\n",
    "  Metadata:\n",
    "    major_brand     : qt\n",
    "    minor_version   : 0\n",
    "    compatible_brands: qt\n",
    "    creation_time   : 2019-02-28T13:55:07.000000Z\n",
    "    com.apple.quicktime.location.ISO6709: +51.2382+006.7899+036.689/\n",
    "    com.apple.quicktime.make: Apple\n",
    "    com.apple.quicktime.model: iPhone XS\n",
    "    com.apple.quicktime.software: 12.1.4\n",
    "    com.apple.quicktime.creationdate: 2019-02-28T14:55:06+0100\n",
    "  Duration: 00:00:03.57, start: 0.000000, bitrate: 28918 kb/s\n",
    "    Stream #0:0(und): Video: hevc (Main) (hvc1 / 0x31637668), yuv420p(tv, bt709), 3840x2160, 28726 kb/s, 29.97 fps, 29.97 tbr, 600 tbn, 600 tbc (default)\n",
    "    Metadata:\n",
    "      rotate          : 90\n",
    "      creation_time   : 2019-02-28T13:55:07.000000Z\n",
    "      handler_name    : Core Media Video\n",
    "      encoder         : HEVC\n",
    "    Side data:\n",
    "      displaymatrix: rotation of -90.00 degrees\n",
    "    Stream #0:1(und): Audio: aac (LC) (mp4a / 0x6134706D), 44100 Hz, stereo, fltp, 168 kb/s (default)\n",
    "    Metadata:\n",
    "      creation_time   : 2019-02-28T13:55:07.000000Z\n",
    "      handler_name    : Core Media Audio\n",
    "    Stream #0:2(und): Data: none (mebx / 0x7862656D), 0 kb/s (default)\n",
    "    Metadata:\n",
    "      creation_time   : 2019-02-28T13:55:07.000000Z\n",
    "      handler_name    : Core Media Metadata\n",
    "    Stream #0:3(und): Data: none (mebx / 0x7862656D), 0 kb/s (default)\n",
    "    Metadata:\n",
    "      creation_time   : 2019-02-28T13:55:07.000000Z\n",
    "      handler_name    : Core Media Metadata\n",
    "Stream mapping:\n",
    "  Stream #0:0 -> #0:0 (hevc (native) -> mjpeg (native))\n",
    "Press [q] to stop, [?] for help\n",
    "[swscaler @ 0x7fdc29801000] deprecated pixel format used, make sure you did set range correctly\n",
    "Output #0, image2, to '/var/folders/yq/lq6vnk9s693bp4xr5wktm1vh0000gn/T/poster_3w_mupml.jpg':\n",
    "  Metadata:\n",
    "    major_brand     : qt\n",
    "    minor_version   : 0\n",
    "    compatible_brands: qt\n",
    "    com.apple.quicktime.creationdate: 2019-02-28T14:55:06+0100\n",
    "    com.apple.quicktime.location.ISO6709: +51.2382+006.7899+036.689/\n",
    "    com.apple.quicktime.make: Apple\n",
    "    com.apple.quicktime.model: iPhone XS\n",
    "    com.apple.quicktime.software: 12.1.4\n",
    "    encoder         : Lavf58.20.100\n",
    "    Stream #0:0(und): Video: mjpeg, yuvj420p(pc), 2160x3840, q=2-31, 200 kb/s, 29.97 fps, 29.97 tbn, 29.97 tbc (default)\n",
    "    Metadata:\n",
    "      encoder         : Lavc58.35.100 mjpeg\n",
    "      creation_time   : 2019-02-28T13:55:07.000000Z\n",
    "      handler_name    : Core Media Video\n",
    "    Side data:\n",
    "      cpb: bitrate max/min/avg: 0/0/200000 buffer size: 0 vbv_delay: -1\n",
    "      displaymatrix: rotation of -0.00 degrees\n",
    "frame=    1 fps=0.0 q=8.8 Lsize=N/A time=00:00:00.03 bitrate=N/A speed=0.0517x\n",
    "video:211kB audio:0kB subtitle:0kB other streams:0kB global headers:0kB muxing overhead: unknown\n",
    "\"\"\""
   ]
  },
  {
   "cell_type": "code",
   "execution_count": 34,
   "metadata": {},
   "outputs": [],
   "source": [
    "def get_video_dimensions(lines):\n",
    "    def get_width_height(video_type, line):\n",
    "        print(video_type, line)\n",
    "        dim_col = line.split(\", \")[3]\n",
    "        if video_type != \"h264\":\n",
    "            dim_col = dim_col.split(\" \")[0]\n",
    "        return map(int, dim_col.split(\"x\"))\n",
    "\n",
    "    width, height = None, None\n",
    "    video_types = (\"SAR\", \"hevc\", \"h264\")\n",
    "    for line in lines:\n",
    "        for video_type in video_types:\n",
    "            if video_type in line:\n",
    "                width, height = get_width_height(video_type, line)\n",
    "                break\n",
    "        else:\n",
    "            # necessary to break out of nested loop\n",
    "            continue\n",
    "        break\n",
    "    portrait = False\n",
    "    for line in lines:\n",
    "        if \"rotation of\" in line:\n",
    "            portrait = True\n",
    "    if portrait:\n",
    "        width, height = height, width\n",
    "    return width, height"
   ]
  },
  {
   "cell_type": "code",
   "execution_count": 35,
   "metadata": {},
   "outputs": [
    {
     "name": "stdout",
     "output_type": "stream",
     "text": [
      "hevc     Stream #0:0(und): Video: hevc (Main) (hvc1 / 0x31637668), yuv420p(tv, bt709), 3840x2160, 28726 kb/s, 29.97 fps, 29.97 tbr, 600 tbn, 600 tbc (default)\n"
     ]
    },
    {
     "data": {
      "text/plain": [
       "(2160, 3840)"
      ]
     },
     "execution_count": 35,
     "metadata": {},
     "output_type": "execute_result"
    }
   ],
   "source": [
    "get_video_dimensions(ffmpeg_output.split(\"\\n\"))"
   ]
  }
 ],
 "metadata": {
  "kernelspec": {
   "display_name": "Django Shell-Plus",
   "language": "python",
   "name": "django_extensions"
  },
  "language_info": {
   "codemirror_mode": {
    "name": "ipython",
    "version": 3
   },
   "file_extension": ".py",
   "mimetype": "text/x-python",
   "name": "python",
   "nbconvert_exporter": "python",
   "pygments_lexer": "ipython3",
   "version": "3.7.3"
  }
 },
 "nbformat": 4,
 "nbformat_minor": 2
}
