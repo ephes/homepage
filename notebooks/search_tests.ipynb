{
 "cells": [
  {
   "cell_type": "code",
   "execution_count": 1,
   "metadata": {},
   "outputs": [],
   "source": [
    "from watson import search as watson"
   ]
  },
  {
   "cell_type": "code",
   "execution_count": 2,
   "metadata": {},
   "outputs": [
    {
     "name": "stdout",
     "output_type": "stream",
     "text": [
      "Claas rollt herum und setzt sich alleine hin /blogs/das_claas_blog/Claas-rollt-herum-und-setzt-sich-alleine-hin/ {}\n",
      "Claas erste Demo /blogs/das_claas_blog/Claas-erste-Demo/ {}\n",
      "Claas zieht sich zum ersten Mal am Sofa hoch /blogs/das_claas_blog/Claas-zieht-sich-zum-ersten-Mal-am-Sofa-hoch/ {}\n",
      "Claas im Kinderkaffee /blogs/das_claas_blog/Claas-im-Kinderkaffee/ {}\n",
      "Claas erster Geburtstag /blogs/das_claas_blog/claas-erster-geburtstag/ {}\n",
      "Claas hält sich zum ersten Mal alleine am Tisch fest /blogs/das_claas_blog/claas-alleine-tisch/ {}\n",
      "Claas hat eine neue Fortbewegungsmethode entdeckt /blogs/das_claas_blog/Claas-hat-eine-neue-Fortbewegungsmethode-entdeckt/ {}\n",
      "Claas mit Opa Ingo /blogs/das_claas_blog/claas-opa-ingo/ {}\n",
      "Claas dreht sich /blogs/das_claas_blog/claas-dreht-sich/ {}\n",
      "Claas sitzt zum ersten Mal alleine /blogs/das_claas_blog/Claas-sitzt-zum-ersten-Mal-alleine/ {}\n",
      "Claas Uroma Thea /blogs/das_claas_blog/claas_uroma_thea/ {}\n",
      "Wie ist Claas da bloß raufgekommen? /blogs/das_claas_blog/Wie-ist-Claas-da-bloss-raufgekommen/ {}\n",
      "Besuch im Aquazoo und Nordpark /blogs/das_claas_blog/Besuch-im-Aquazoo-und-Nordpark/ {}\n",
      "Picknick vor Hochofen 5 /blogs/das_claas_blog/Picknick-vor-dem-Hochofen-5/ {}\n",
      "Besuch auf Schloß Dyck /blogs/das_claas_blog/Besuch-auf-Schloss-Dyck/ {}\n",
      "Museumsinsel Hombroich /blogs/das_claas_blog/Museumsinsel-Hombroich/ {}\n",
      "Geräusche auf dem Wickeltisch /blogs/das_claas_blog/claas-wickeltisch-geraeusche/ {}\n",
      "Ein neues Abentheuer /blogs/das_claas_blog/ein-neues-abentheuer/ {}\n",
      "Ballaballa /blogs/das_claas_blog/Ballaballa/ {}\n",
      "Luftrollenspielzeug /blogs/das_claas_blog/Luftrollenspielzeug/ {}\n",
      "Die U5 ist überstanden /blogs/das_claas_blog/u5/ {}\n",
      "Spieldecke /blogs/das_claas_blog/Spieldecke/ {}\n",
      "Zum ersten Mal Draussen /blogs/das_claas_blog/Zum-ersten-Mal-Draussen/ {}\n",
      "Kinderwagen ist ok /blogs/das_claas_blog/kinderwagen-ok/ {}\n",
      "Fuchsmütze /blogs/das_claas_blog/Fuchsmutze/ {}\n",
      "Party /blogs/das_claas_blog/30_party/ {}\n",
      "Lohmart /blogs/das_claas_blog/lohmart/ {}\n",
      "Onkel Karl /blogs/das_claas_blog/onkel-karl/ {}\n",
      "Wickeltisch /blogs/das_claas_blog/wickeltisch/ {}\n",
      "Kaffeetrinken in der Spoerl-Fabrik /blogs/das_claas_blog/Kaffeetrinken-in-der-Spoerl-Fabrik/ {}\n",
      "Wintergarten wieder ohne Kissen /blogs/das_claas_blog/wintergarten_ohne_kissen/ {}\n",
      "Zum ersten Mal beim Krabbeln gefilmt /blogs/das_claas_blog/Zum-ersten-Mal-beim-Krabbeln-gefilmt/ {}\n",
      "Alleine Einschlafen /blogs/das_claas_blog/Alleine-Einschlafen/ {}\n",
      "Milchbinge /blogs/das_claas_blog/Milchbinge/ {}\n",
      "Klettern /blogs/das_claas_blog/Klettern/ {}\n",
      "Oh nein, die Türen /blogs/das_claas_blog/tueren/ {}\n",
      "CPU times: user 16.4 ms, sys: 5.27 ms, total: 21.6 ms\n",
      "Wall time: 68.9 ms\n"
     ]
    }
   ],
   "source": [
    "%%time\n",
    "search_results = watson.search(\"claas\")\n",
    "\n",
    "for result in search_results:\n",
    "    print(result.title, result.url, result.meta)"
   ]
  },
  {
   "cell_type": "code",
   "execution_count": 3,
   "metadata": {},
   "outputs": [
    {
     "data": {
      "text/plain": [
       "143"
      ]
     },
     "execution_count": 3,
     "metadata": {},
     "output_type": "execute_result"
    }
   ],
   "source": [
    "Post.objects.count()"
   ]
  },
  {
   "cell_type": "code",
   "execution_count": 4,
   "metadata": {},
   "outputs": [
    {
     "name": "stdout",
     "output_type": "stream",
     "text": [
      "Claas rollt herum und setzt sich alleine hin 76\n",
      "Claas erste Demo 121\n",
      "Claas zieht sich zum ersten Mal am Sofa hoch 74\n",
      "Claas im Kinderkaffee 93\n",
      "Claas erster Geburtstag 151\n",
      "Claas hält sich zum ersten Mal alleine am Tisch fest 70\n",
      "Claas hat eine neue Fortbewegungsmethode entdeckt 117\n",
      "Claas mit Opa Ingo 47\n",
      "Claas dreht sich 29\n",
      "Claas sitzt zum ersten Mal alleine 72\n",
      "Claas Uroma Thea 12\n",
      "Wie ist Claas da bloß raufgekommen? 136\n",
      "Besuch im Aquazoo und Nordpark 115\n",
      "Picknick vor Hochofen 5 124\n",
      "Besuch auf Schloß Dyck 119\n",
      "Museumsinsel Hombroich 116\n",
      "Geräusche auf dem Wickeltisch 30\n",
      "Ein neues Abentheuer 140\n",
      "Ballaballa 143\n",
      "Luftrollenspielzeug 82\n",
      "Die U5 ist überstanden 78\n",
      "Spieldecke 33\n",
      "Zum ersten Mal Draussen 3\n",
      "Kinderwagen ist ok 36\n",
      "Fuchsmütze 60\n",
      "Party 22\n",
      "Lohmart 34\n",
      "Onkel Karl 46\n",
      "Wickeltisch 35\n",
      "Kaffeetrinken in der Spoerl-Fabrik 75\n",
      "Wintergarten wieder ohne Kissen 85\n",
      "Zum ersten Mal beim Krabbeln gefilmt 87\n",
      "Alleine Einschlafen 146\n",
      "Milchbinge 92\n",
      "Klettern 131\n",
      "Oh nein, die Türen 139\n",
      "CPU times: user 4.36 ms, sys: 1.82 ms, total: 6.18 ms\n",
      "Wall time: 5.81 ms\n"
     ]
    }
   ],
   "source": [
    "%%time\n",
    "for post in watson.filter(Post, \"claas\"):\n",
    "    print(post.title, post.pk)"
   ]
  },
  {
   "cell_type": "code",
   "execution_count": 37,
   "metadata": {},
   "outputs": [],
   "source": [
    "from django.db import models\n",
    "from django.db.models.functions import TruncYear\n",
    "from django.db.models.functions import TruncMonth"
   ]
  },
  {
   "cell_type": "code",
   "execution_count": 19,
   "metadata": {},
   "outputs": [
    {
     "name": "stdout",
     "output_type": "stream",
     "text": [
      "{'year': datetime.datetime(2017, 1, 1, 0, 0, tzinfo=<UTC>), 'n': 10, 'month': datetime.datetime(2017, 12, 1, 0, 0, tzinfo=<UTC>)}\n",
      "{'year': datetime.datetime(2019, 1, 1, 0, 0, tzinfo=<UTC>), 'n': 1, 'month': datetime.datetime(2019, 1, 1, 0, 0, tzinfo=<UTC>)}\n",
      "{'year': datetime.datetime(2017, 1, 1, 0, 0, tzinfo=<UTC>), 'n': 18, 'month': datetime.datetime(2017, 9, 1, 0, 0, tzinfo=<UTC>)}\n",
      "{'year': datetime.datetime(2019, 1, 1, 0, 0, tzinfo=<UTC>), 'n': 2, 'month': datetime.datetime(2019, 3, 1, 0, 0, tzinfo=<UTC>)}\n",
      "{'year': datetime.datetime(2018, 1, 1, 0, 0, tzinfo=<UTC>), 'n': 10, 'month': datetime.datetime(2018, 3, 1, 0, 0, tzinfo=<UTC>)}\n",
      "{'year': datetime.datetime(2018, 1, 1, 0, 0, tzinfo=<UTC>), 'n': 9, 'month': datetime.datetime(2018, 7, 1, 0, 0, tzinfo=<UTC>)}\n",
      "{'year': datetime.datetime(2018, 1, 1, 0, 0, tzinfo=<UTC>), 'n': 12, 'month': datetime.datetime(2018, 8, 1, 0, 0, tzinfo=<UTC>)}\n",
      "{'year': datetime.datetime(2018, 1, 1, 0, 0, tzinfo=<UTC>), 'n': 6, 'month': datetime.datetime(2018, 2, 1, 0, 0, tzinfo=<UTC>)}\n",
      "{'year': datetime.datetime(2017, 1, 1, 0, 0, tzinfo=<UTC>), 'n': 15, 'month': datetime.datetime(2017, 11, 1, 0, 0, tzinfo=<UTC>)}\n",
      "{'year': datetime.datetime(2017, 1, 1, 0, 0, tzinfo=<UTC>), 'n': 15, 'month': datetime.datetime(2017, 10, 1, 0, 0, tzinfo=<UTC>)}\n",
      "{'year': datetime.datetime(2018, 1, 1, 0, 0, tzinfo=<UTC>), 'n': 10, 'month': datetime.datetime(2018, 5, 1, 0, 0, tzinfo=<UTC>)}\n",
      "{'year': datetime.datetime(2018, 1, 1, 0, 0, tzinfo=<UTC>), 'n': 1, 'month': datetime.datetime(2018, 10, 1, 0, 0, tzinfo=<UTC>)}\n",
      "{'year': datetime.datetime(2018, 1, 1, 0, 0, tzinfo=<UTC>), 'n': 1, 'month': datetime.datetime(2018, 11, 1, 0, 0, tzinfo=<UTC>)}\n",
      "{'year': datetime.datetime(2018, 1, 1, 0, 0, tzinfo=<UTC>), 'n': 8, 'month': datetime.datetime(2018, 1, 1, 0, 0, tzinfo=<UTC>)}\n",
      "{'year': datetime.datetime(2018, 1, 1, 0, 0, tzinfo=<UTC>), 'n': 14, 'month': datetime.datetime(2018, 4, 1, 0, 0, tzinfo=<UTC>)}\n",
      "{'year': datetime.datetime(2018, 1, 1, 0, 0, tzinfo=<UTC>), 'n': 9, 'month': datetime.datetime(2018, 6, 1, 0, 0, tzinfo=<UTC>)}\n",
      "{'year': datetime.datetime(2019, 1, 1, 0, 0, tzinfo=<UTC>), 'n': 2, 'month': datetime.datetime(2019, 4, 1, 0, 0, tzinfo=<UTC>)}\n"
     ]
    }
   ],
   "source": [
    "#queryset = watson.filter(Post, \"claas\")\n",
    "queryset = Post.objects.all()\n",
    "fc_queryset = (queryset.order_by()\n",
    "                       .annotate(year=TruncYear(\"visible_date\"))\n",
    "                       .values(\"year\").annotate(n=models.Count(\"pk\"))\n",
    "                       .annotate(month=TruncMonth(\"visible_date\")))\n",
    "                       #.values(\"month\").annotate(n=models.Count(\"pk\")))\n",
    "\n",
    "year_counts = {}\n",
    "for row in fc_queryset:\n",
    "    print(row)\n",
    "    #year_counts[row['year']] = year_counts.get(\n",
    "    #    row['year'], 0\n",
    "    #) + row['n']"
   ]
  },
  {
   "cell_type": "code",
   "execution_count": 22,
   "metadata": {},
   "outputs": [
    {
     "name": "stdout",
     "output_type": "stream",
     "text": [
      "{'month': datetime.datetime(2018, 6, 1, 0, 0, tzinfo=<UTC>), 'n': 9}\n",
      "{'month': datetime.datetime(2017, 10, 1, 0, 0, tzinfo=<UTC>), 'n': 15}\n",
      "{'month': datetime.datetime(2019, 3, 1, 0, 0, tzinfo=<UTC>), 'n': 2}\n",
      "{'month': datetime.datetime(2018, 11, 1, 0, 0, tzinfo=<UTC>), 'n': 1}\n",
      "{'month': datetime.datetime(2018, 10, 1, 0, 0, tzinfo=<UTC>), 'n': 1}\n",
      "{'month': datetime.datetime(2018, 8, 1, 0, 0, tzinfo=<UTC>), 'n': 12}\n",
      "{'month': datetime.datetime(2018, 5, 1, 0, 0, tzinfo=<UTC>), 'n': 10}\n",
      "{'month': datetime.datetime(2018, 7, 1, 0, 0, tzinfo=<UTC>), 'n': 9}\n",
      "{'month': datetime.datetime(2017, 9, 1, 0, 0, tzinfo=<UTC>), 'n': 18}\n",
      "{'month': datetime.datetime(2018, 1, 1, 0, 0, tzinfo=<UTC>), 'n': 8}\n",
      "{'month': datetime.datetime(2019, 4, 1, 0, 0, tzinfo=<UTC>), 'n': 2}\n",
      "{'month': datetime.datetime(2018, 2, 1, 0, 0, tzinfo=<UTC>), 'n': 6}\n",
      "{'month': datetime.datetime(2018, 4, 1, 0, 0, tzinfo=<UTC>), 'n': 14}\n",
      "{'month': datetime.datetime(2019, 1, 1, 0, 0, tzinfo=<UTC>), 'n': 1}\n",
      "{'month': datetime.datetime(2017, 11, 1, 0, 0, tzinfo=<UTC>), 'n': 15}\n",
      "{'month': datetime.datetime(2017, 12, 1, 0, 0, tzinfo=<UTC>), 'n': 10}\n",
      "{'month': datetime.datetime(2018, 3, 1, 0, 0, tzinfo=<UTC>), 'n': 10}\n"
     ]
    }
   ],
   "source": [
    "#queryset = watson.filter(Post, \"claas\")\n",
    "queryset = Post.objects.all()\n",
    "fc_queryset = (queryset.order_by()\n",
    "                       .annotate(month=TruncMonth(\"visible_date\"))\n",
    "                       .values(\"month\").annotate(n=models.Count(\"pk\")))\n",
    "\n",
    "year_month_counts = {}\n",
    "for row in fc_queryset:\n",
    "    print(row)\n",
    "    year_month_counts[row[\"month\"]] = row[\"n\"]\n",
    "    #year_counts[row['year']] = year_counts.get(\n",
    "    #    row['year'], 0\n",
    "    #) + row['n']"
   ]
  },
  {
   "cell_type": "code",
   "execution_count": 10,
   "metadata": {},
   "outputs": [
    {
     "data": {
      "text/plain": [
       "{datetime.datetime(2019, 1, 1, 0, 0, tzinfo=<UTC>): 3,\n",
       " datetime.datetime(2017, 1, 1, 0, 0, tzinfo=<UTC>): 12,\n",
       " datetime.datetime(2018, 1, 1, 0, 0, tzinfo=<UTC>): 21}"
      ]
     },
     "execution_count": 10,
     "metadata": {},
     "output_type": "execute_result"
    }
   ],
   "source": [
    "year_counts"
   ]
  },
  {
   "cell_type": "code",
   "execution_count": 15,
   "metadata": {},
   "outputs": [
    {
     "data": {
      "text/plain": [
       "{datetime.datetime(2019, 1, 1, 0, 0, tzinfo=<UTC>): 3,\n",
       " datetime.datetime(2017, 1, 1, 0, 0, tzinfo=<UTC>): 12,\n",
       " datetime.datetime(2018, 1, 1, 0, 0, tzinfo=<UTC>): 21}"
      ]
     },
     "execution_count": 15,
     "metadata": {},
     "output_type": "execute_result"
    }
   ],
   "source": [
    "year_counts"
   ]
  },
  {
   "cell_type": "code",
   "execution_count": 25,
   "metadata": {},
   "outputs": [
    {
     "name": "stdout",
     "output_type": "stream",
     "text": [
      "2017-09 : 18\n",
      "2017-10 : 15\n",
      "2017-11 : 15\n",
      "2017-12 : 10\n",
      "2018-01 : 8\n",
      "2018-02 : 6\n",
      "2018-03 : 10\n",
      "2018-04 : 14\n",
      "2018-05 : 10\n",
      "2018-06 : 9\n",
      "2018-07 : 9\n",
      "2018-08 : 12\n",
      "2018-10 : 1\n",
      "2018-11 : 1\n",
      "2019-01 : 1\n",
      "2019-03 : 2\n",
      "2019-04 : 2\n"
     ]
    }
   ],
   "source": [
    "for ym, count in sorted(year_month_counts.items()):\n",
    "    print(ym.strftime(\"%Y-%m\"), \":\", count)"
   ]
  },
  {
   "cell_type": "markdown",
   "metadata": {},
   "source": [
    "# Test actual filter"
   ]
  },
  {
   "cell_type": "code",
   "execution_count": 33,
   "metadata": {},
   "outputs": [
    {
     "name": "stdout",
     "output_type": "stream",
     "text": [
      "1 ephes_blog\n",
      "2 das_claas_blog\n"
     ]
    }
   ],
   "source": [
    "for blog in Blog.objects.all():\n",
    "    print(blog.pk, blog.slug)"
   ]
  },
  {
   "cell_type": "code",
   "execution_count": 14,
   "metadata": {},
   "outputs": [],
   "source": [
    "from cast.views import PostsListView"
   ]
  },
  {
   "cell_type": "code",
   "execution_count": 13,
   "metadata": {},
   "outputs": [],
   "source": [
    "from cast.filters import PostFilter\n",
    "from django_filters.filterset import filterset_factory"
   ]
  },
  {
   "cell_type": "code",
   "execution_count": 23,
   "metadata": {},
   "outputs": [],
   "source": [
    "class DummyRequest:\n",
    "    def __init__(self, get={}):\n",
    "        self.GET = get"
   ]
  },
  {
   "cell_type": "code",
   "execution_count": 27,
   "metadata": {},
   "outputs": [],
   "source": [
    "pl = PostsListView()\n",
    "pl.kwargs = {\"slug\": \"das_claas_blog\"}\n",
    "pl.request = DummyRequest()"
   ]
  },
  {
   "cell_type": "code",
   "execution_count": 30,
   "metadata": {},
   "outputs": [],
   "source": [
    "kwargs = pl.get_filterset_kwargs(PostFilter)\n",
    "f = PostFilter(**kwargs)"
   ]
  },
  {
   "cell_type": "code",
   "execution_count": 31,
   "metadata": {},
   "outputs": [
    {
     "data": {
      "text/plain": [
       "<QuerySet [<Post: Wie ist Claas da bloß raufgekommen?>, <Post: Claas erster Geburtstag>, <Post: Alle zusammen in Lohmar>, <Post: Alles Ba!>, <Post: Mit Sophie und Dirk zu Besuch bei Huan und Volker>, <Post: Trockenheit>, <Post: Ein langes Brillenvideo>, <Post: Der böse Staubsauger...>, <Post: Ein neues Abentheuer>, <Post: Klettern>, <Post: Ja, es ist sehr warm>, <Post: Abend mit Heike und Chrissie>, <Post: Picknick vor Hochofen 5>, <Post: Mit Sina auf der Kirmes>, <Post: Kinderflohmarkt>, <Post: Nein, es ist noch nicht besser geworden...>, <Post: Claas erste Demo>, <Post: Im Pool>, <Post: Flashback Frühling>, <Post: Besuch auf Schloß Dyck>, '...(remaining elements truncated)...']>"
      ]
     },
     "execution_count": 31,
     "metadata": {},
     "output_type": "execute_result"
    }
   ],
   "source": [
    "f.qs"
   ]
  },
  {
   "cell_type": "code",
   "execution_count": 34,
   "metadata": {},
   "outputs": [],
   "source": [
    "f = PostFilter(blog=Blog.objects.get(pk=2))"
   ]
  },
  {
   "cell_type": "code",
   "execution_count": 35,
   "metadata": {},
   "outputs": [
    {
     "data": {
      "text/plain": [
       "<QuerySet [<Post: Wie ist Claas da bloß raufgekommen?>, <Post: Claas erster Geburtstag>, <Post: Alle zusammen in Lohmar>, <Post: Alles Ba!>, <Post: Mit Sophie und Dirk zu Besuch bei Huan und Volker>, <Post: Trockenheit>, <Post: Ein langes Brillenvideo>, <Post: Der böse Staubsauger...>, <Post: Ein neues Abentheuer>, <Post: Klettern>, <Post: Ja, es ist sehr warm>, <Post: Abend mit Heike und Chrissie>, <Post: Picknick vor Hochofen 5>, <Post: Mit Sina auf der Kirmes>, <Post: Kinderflohmarkt>, <Post: Nein, es ist noch nicht besser geworden...>, <Post: Claas erste Demo>, <Post: Im Pool>, <Post: Flashback Frühling>, <Post: Besuch auf Schloß Dyck>, '...(remaining elements truncated)...']>"
      ]
     },
     "execution_count": 35,
     "metadata": {},
     "output_type": "execute_result"
    }
   ],
   "source": [
    "f.qs"
   ]
  },
  {
   "cell_type": "code",
   "execution_count": 38,
   "metadata": {},
   "outputs": [
    {
     "name": "stdout",
     "output_type": "stream",
     "text": [
      "{'month': datetime.datetime(2018, 6, 1, 0, 0, tzinfo=<UTC>), 'n': 9}\n",
      "{'month': datetime.datetime(2018, 7, 1, 0, 0, tzinfo=<UTC>), 'n': 9}\n",
      "{'month': datetime.datetime(2017, 10, 1, 0, 0, tzinfo=<UTC>), 'n': 11}\n",
      "{'month': datetime.datetime(2017, 9, 1, 0, 0, tzinfo=<UTC>), 'n': 10}\n",
      "{'month': datetime.datetime(2018, 1, 1, 0, 0, tzinfo=<UTC>), 'n': 8}\n",
      "{'month': datetime.datetime(2018, 2, 1, 0, 0, tzinfo=<UTC>), 'n': 6}\n",
      "{'month': datetime.datetime(2018, 4, 1, 0, 0, tzinfo=<UTC>), 'n': 14}\n",
      "{'month': datetime.datetime(2017, 11, 1, 0, 0, tzinfo=<UTC>), 'n': 11}\n",
      "{'month': datetime.datetime(2017, 12, 1, 0, 0, tzinfo=<UTC>), 'n': 10}\n",
      "{'month': datetime.datetime(2018, 3, 1, 0, 0, tzinfo=<UTC>), 'n': 10}\n",
      "{'month': datetime.datetime(2018, 8, 1, 0, 0, tzinfo=<UTC>), 'n': 9}\n",
      "{'month': datetime.datetime(2018, 5, 1, 0, 0, tzinfo=<UTC>), 'n': 10}\n"
     ]
    }
   ],
   "source": [
    "queryset = f.qs\n",
    "fc_queryset = (queryset.order_by()\n",
    "                       .annotate(month=TruncMonth(\"visible_date\"))\n",
    "                       .values(\"month\").annotate(n=models.Count(\"pk\")))\n",
    "\n",
    "year_month_counts = {}\n",
    "for row in fc_queryset:\n",
    "    print(row)\n",
    "    year_month_counts[row[\"month\"]] = row[\"n\"]"
   ]
  },
  {
   "cell_type": "code",
   "execution_count": 39,
   "metadata": {},
   "outputs": [
    {
     "name": "stdout",
     "output_type": "stream",
     "text": [
      "2017-09 : 10\n",
      "2017-10 : 11\n",
      "2017-11 : 11\n",
      "2017-12 : 10\n",
      "2018-01 : 8\n",
      "2018-02 : 6\n",
      "2018-03 : 10\n",
      "2018-04 : 14\n",
      "2018-05 : 10\n",
      "2018-06 : 9\n",
      "2018-07 : 9\n",
      "2018-08 : 9\n"
     ]
    }
   ],
   "source": [
    "for ym, count in sorted(year_month_counts.items()):\n",
    "    print(ym.strftime(\"%Y-%m\"), \":\", count)"
   ]
  },
  {
   "cell_type": "code",
   "execution_count": 40,
   "metadata": {},
   "outputs": [],
   "source": [
    "from datetime import datetime"
   ]
  },
  {
   "cell_type": "code",
   "execution_count": 41,
   "metadata": {},
   "outputs": [],
   "source": [
    "year_month = datetime.strptime(\"2019-01\", \"%Y-%m\")"
   ]
  },
  {
   "cell_type": "code",
   "execution_count": 42,
   "metadata": {},
   "outputs": [
    {
     "data": {
      "text/plain": [
       "datetime.datetime(2019, 1, 1, 0, 0)"
      ]
     },
     "execution_count": 42,
     "metadata": {},
     "output_type": "execute_result"
    }
   ],
   "source": [
    "year_month"
   ]
  },
  {
   "cell_type": "code",
   "execution_count": 43,
   "metadata": {},
   "outputs": [
    {
     "data": {
      "text/plain": [
       "2019"
      ]
     },
     "execution_count": 43,
     "metadata": {},
     "output_type": "execute_result"
    }
   ],
   "source": [
    "year_month.year"
   ]
  },
  {
   "cell_type": "code",
   "execution_count": 44,
   "metadata": {},
   "outputs": [
    {
     "data": {
      "text/plain": [
       "1"
      ]
     },
     "execution_count": 44,
     "metadata": {},
     "output_type": "execute_result"
    }
   ],
   "source": [
    "year_month.month"
   ]
  },
  {
   "cell_type": "code",
   "execution_count": 45,
   "metadata": {},
   "outputs": [
    {
     "data": {
      "text/plain": [
       "<Blog: Claas sagt Hallo>"
      ]
     },
     "execution_count": 45,
     "metadata": {},
     "output_type": "execute_result"
    }
   ],
   "source": [
    "blog"
   ]
  },
  {
   "cell_type": "code",
   "execution_count": 50,
   "metadata": {},
   "outputs": [],
   "source": [
    "qs = (Post.objects.filter(blog=blog)\n",
    "          .filter(visible_date__year=2018, visible_date__month=2))"
   ]
  },
  {
   "cell_type": "code",
   "execution_count": 51,
   "metadata": {},
   "outputs": [
    {
     "data": {
      "text/plain": [
       "6"
      ]
     },
     "execution_count": 51,
     "metadata": {},
     "output_type": "execute_result"
    }
   ],
   "source": [
    "qs.count()"
   ]
  },
  {
   "cell_type": "code",
   "execution_count": 52,
   "metadata": {},
   "outputs": [
    {
     "name": "stdout",
     "output_type": "stream",
     "text": [
      "Kaffeetrinken in der Spoerl-Fabrik\n",
      "Claas zieht sich zum ersten Mal am Sofa hoch\n",
      "Letzte Woche im Wildpark Grafenberger Wald\n",
      "Claas rollt herum und setzt sich alleine hin\n",
      "Claas sitzt zum ersten Mal alleine\n",
      "Besuch bei Jo in Maastricht\n"
     ]
    }
   ],
   "source": [
    "for row in qs:\n",
    "    print(row)"
   ]
  },
  {
   "cell_type": "code",
   "execution_count": null,
   "metadata": {},
   "outputs": [],
   "source": []
  }
 ],
 "metadata": {
  "kernelspec": {
   "display_name": "Django Shell-Plus",
   "language": "python",
   "name": "django_extensions"
  },
  "language_info": {
   "codemirror_mode": {
    "name": "ipython",
    "version": 3
   },
   "file_extension": ".py",
   "mimetype": "text/x-python",
   "name": "python",
   "nbconvert_exporter": "python",
   "pygments_lexer": "ipython3",
   "version": "3.7.3"
  }
 },
 "nbformat": 4,
 "nbformat_minor": 2
}
