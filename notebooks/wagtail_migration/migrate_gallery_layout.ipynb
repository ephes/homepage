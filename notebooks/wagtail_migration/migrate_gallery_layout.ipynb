{
 "cells": [
  {
   "cell_type": "code",
   "execution_count": 1,
   "id": "a4392e76",
   "metadata": {
    "tags": []
   },
   "outputs": [],
   "source": [
    "import json\n",
    "from rich import print as rprint"
   ]
  },
  {
   "cell_type": "code",
   "execution_count": 2,
   "id": "40bf5ffe",
   "metadata": {
    "tags": []
   },
   "outputs": [
    {
     "name": "stdout",
     "output_type": "stream",
     "text": [
      "Weeknotes 2023-12-25\n"
     ]
    }
   ],
   "source": [
    "post = Post.objects.last()\n",
    "print(post.title)"
   ]
  },
  {
   "cell_type": "code",
   "execution_count": 3,
   "id": "57d85112",
   "metadata": {
    "tags": []
   },
   "outputs": [],
   "source": [
    "data = post.body.raw_data"
   ]
  },
  {
   "cell_type": "code",
   "execution_count": 4,
   "id": "7e693754-816b-499c-bf42-808dec88a86e",
   "metadata": {
    "tags": []
   },
   "outputs": [],
   "source": [
    "gallery = data[0][\"value\"][-1]"
   ]
  },
  {
   "cell_type": "code",
   "execution_count": 5,
   "id": "92834a34-f804-4903-a568-6565a2a4c4f6",
   "metadata": {
    "tags": []
   },
   "outputs": [
    {
     "data": {
      "text/html": [
       "<pre style=\"white-space:pre;overflow-x:auto;line-height:normal;font-family:Menlo,'DejaVu Sans Mono',consolas,'Courier New',monospace\"><span style=\"font-weight: bold\">{</span>\n",
       "    <span style=\"color: #008000; text-decoration-color: #008000\">'id'</span>: <span style=\"color: #008000; text-decoration-color: #008000\">'9e73b5e3-f6e8-4943-af87-f9beaf34e3a1'</span>,\n",
       "    <span style=\"color: #008000; text-decoration-color: #008000\">'type'</span>: <span style=\"color: #008000; text-decoration-color: #008000\">'gallery'</span>,\n",
       "    <span style=\"color: #008000; text-decoration-color: #008000\">'value'</span>: <span style=\"font-weight: bold\">{</span>\n",
       "        <span style=\"color: #008000; text-decoration-color: #008000\">'layout'</span>: <span style=\"color: #008000; text-decoration-color: #008000\">'default'</span>,\n",
       "        <span style=\"color: #008000; text-decoration-color: #008000\">'gallery'</span>: <span style=\"font-weight: bold\">[{</span><span style=\"color: #008000; text-decoration-color: #008000\">'id'</span>: <span style=\"color: #008000; text-decoration-color: #008000\">'9c199723-758b-425c-a661-1f74a204000a'</span>, <span style=\"color: #008000; text-decoration-color: #008000\">'type'</span>: <span style=\"color: #008000; text-decoration-color: #008000\">'item'</span>, <span style=\"color: #008000; text-decoration-color: #008000\">'value'</span>: <span style=\"color: #008080; text-decoration-color: #008080; font-weight: bold\">2133</span><span style=\"font-weight: bold\">}]</span>\n",
       "    <span style=\"font-weight: bold\">}</span>\n",
       "<span style=\"font-weight: bold\">}</span>\n",
       "</pre>\n"
      ],
      "text/plain": [
       "\u001b[1m{\u001b[0m\n",
       "    \u001b[32m'id'\u001b[0m: \u001b[32m'9e73b5e3-f6e8-4943-af87-f9beaf34e3a1'\u001b[0m,\n",
       "    \u001b[32m'type'\u001b[0m: \u001b[32m'gallery'\u001b[0m,\n",
       "    \u001b[32m'value'\u001b[0m: \u001b[1m{\u001b[0m\n",
       "        \u001b[32m'layout'\u001b[0m: \u001b[32m'default'\u001b[0m,\n",
       "        \u001b[32m'gallery'\u001b[0m: \u001b[1m[\u001b[0m\u001b[1m{\u001b[0m\u001b[32m'id'\u001b[0m: \u001b[32m'9c199723-758b-425c-a661-1f74a204000a'\u001b[0m, \u001b[32m'type'\u001b[0m: \u001b[32m'item'\u001b[0m, \u001b[32m'value'\u001b[0m: \u001b[1;36m2133\u001b[0m\u001b[1m}\u001b[0m\u001b[1m]\u001b[0m\n",
       "    \u001b[1m}\u001b[0m\n",
       "\u001b[1m}\u001b[0m\n"
      ]
     },
     "metadata": {},
     "output_type": "display_data"
    }
   ],
   "source": [
    "rprint(gallery)"
   ]
  },
  {
   "cell_type": "code",
   "execution_count": 16,
   "id": "ac7c076c-8db4-4daa-a913-0db280fa8650",
   "metadata": {
    "tags": []
   },
   "outputs": [
    {
     "data": {
      "text/plain": [
       "\u001b[0;31mSignature:\u001b[0m \u001b[0misinstance\u001b[0m\u001b[0;34m(\u001b[0m\u001b[0mobj\u001b[0m\u001b[0;34m,\u001b[0m \u001b[0mclass_or_tuple\u001b[0m\u001b[0;34m,\u001b[0m \u001b[0;34m/\u001b[0m\u001b[0;34m)\u001b[0m\u001b[0;34m\u001b[0m\u001b[0;34m\u001b[0m\u001b[0m\n",
       "\u001b[0;31mDocstring:\u001b[0m\n",
       "Return whether an object is an instance of a class or of a subclass thereof.\n",
       "\n",
       "A tuple, as in ``isinstance(x, (A, B, ...))``, may be given as the target to\n",
       "check against. This is equivalent to ``isinstance(x, A) or isinstance(x, B)\n",
       "or ...`` etc.\n",
       "\u001b[0;31mType:\u001b[0m      builtin_function_or_method"
      ]
     },
     "metadata": {},
     "output_type": "display_data"
    }
   ],
   "source": [
    "isinstance?"
   ]
  },
  {
   "cell_type": "code",
   "execution_count": 43,
   "id": "80ec909f-9bb2-4096-b85c-5f8ba396586e",
   "metadata": {
    "tags": []
   },
   "outputs": [],
   "source": [
    "def migrate_value_block(block):\n",
    "    # rprint(\"migrate block: \", block)\n",
    "    return {\n",
    "        \"layout\": \"default\",\n",
    "        \"gallery\": block,\n",
    "    }\n",
    "\n",
    "\n",
    "\n",
    "def migrate_post_to_gallery_with_layout(post):\n",
    "    data = post.body.raw_data\n",
    "    for toplevel in data:\n",
    "        for block in toplevel[\"value\"]:\n",
    "            if block[\"type\"] == \"gallery\":\n",
    "                if isinstance(block[\"value\"], list):\n",
    "                    block[\"value\"] = migrate_value_block(block[\"value\"])\n",
    "#                 else:\n",
    "#                     rprint(\"dont migrate this: \", block[\"value\"])\n",
    "    return list(data)"
   ]
  },
  {
   "cell_type": "code",
   "execution_count": 39,
   "id": "cc210793-8ca5-4c87-a027-22f0cb2a6169",
   "metadata": {
    "tags": []
   },
   "outputs": [
    {
     "name": "stdout",
     "output_type": "stream",
     "text": [
      "Weeknotes 2023-12-04\n"
     ]
    }
   ],
   "source": [
    "post = Post.objects.get(slug=\"weeknotes-2023-12-04\")\n",
    "# post = Post.objects.last()\n",
    "print(post.title)"
   ]
  },
  {
   "cell_type": "code",
   "execution_count": 40,
   "id": "7bfc51f8-7f36-41cd-9c28-eed7d6660562",
   "metadata": {
    "tags": []
   },
   "outputs": [
    {
     "data": {
      "text/html": [
       "<pre style=\"white-space:pre;overflow-x:auto;line-height:normal;font-family:Menlo,'DejaVu Sans Mono',consolas,'Courier New',monospace\">migrate block: \n",
       "<span style=\"font-weight: bold\">[</span>\n",
       "    <span style=\"font-weight: bold\">{</span><span style=\"color: #008000; text-decoration-color: #008000\">'id'</span>: <span style=\"color: #008000; text-decoration-color: #008000\">'9ca8588d-fefc-43f1-9640-025d072a9063'</span>, <span style=\"color: #008000; text-decoration-color: #008000\">'type'</span>: <span style=\"color: #008000; text-decoration-color: #008000\">'item'</span>, <span style=\"color: #008000; text-decoration-color: #008000\">'value'</span>: <span style=\"color: #008080; text-decoration-color: #008080; font-weight: bold\">2107</span><span style=\"font-weight: bold\">}</span>,\n",
       "    <span style=\"font-weight: bold\">{</span><span style=\"color: #008000; text-decoration-color: #008000\">'id'</span>: <span style=\"color: #008000; text-decoration-color: #008000\">'c9b97a98-c2fd-492b-9112-641c0c09c067'</span>, <span style=\"color: #008000; text-decoration-color: #008000\">'type'</span>: <span style=\"color: #008000; text-decoration-color: #008000\">'item'</span>, <span style=\"color: #008000; text-decoration-color: #008000\">'value'</span>: <span style=\"color: #008080; text-decoration-color: #008080; font-weight: bold\">2104</span><span style=\"font-weight: bold\">}</span>,\n",
       "    <span style=\"font-weight: bold\">{</span><span style=\"color: #008000; text-decoration-color: #008000\">'id'</span>: <span style=\"color: #008000; text-decoration-color: #008000\">'f77b2137-d670-458c-877f-0f87f505b4bd'</span>, <span style=\"color: #008000; text-decoration-color: #008000\">'type'</span>: <span style=\"color: #008000; text-decoration-color: #008000\">'item'</span>, <span style=\"color: #008000; text-decoration-color: #008000\">'value'</span>: <span style=\"color: #008080; text-decoration-color: #008080; font-weight: bold\">2101</span><span style=\"font-weight: bold\">}</span>,\n",
       "    <span style=\"font-weight: bold\">{</span><span style=\"color: #008000; text-decoration-color: #008000\">'id'</span>: <span style=\"color: #008000; text-decoration-color: #008000\">'5f0d76e5-00dd-4fb2-a1ad-76f4e9e79901'</span>, <span style=\"color: #008000; text-decoration-color: #008000\">'type'</span>: <span style=\"color: #008000; text-decoration-color: #008000\">'item'</span>, <span style=\"color: #008000; text-decoration-color: #008000\">'value'</span>: <span style=\"color: #008080; text-decoration-color: #008080; font-weight: bold\">2099</span><span style=\"font-weight: bold\">}</span>,\n",
       "    <span style=\"font-weight: bold\">{</span><span style=\"color: #008000; text-decoration-color: #008000\">'id'</span>: <span style=\"color: #008000; text-decoration-color: #008000\">'5b2601e4-89a3-4c04-8f27-470cebc240ab'</span>, <span style=\"color: #008000; text-decoration-color: #008000\">'type'</span>: <span style=\"color: #008000; text-decoration-color: #008000\">'item'</span>, <span style=\"color: #008000; text-decoration-color: #008000\">'value'</span>: <span style=\"color: #008080; text-decoration-color: #008080; font-weight: bold\">2097</span><span style=\"font-weight: bold\">}</span>\n",
       "<span style=\"font-weight: bold\">]</span>\n",
       "</pre>\n"
      ],
      "text/plain": [
       "migrate block: \n",
       "\u001b[1m[\u001b[0m\n",
       "    \u001b[1m{\u001b[0m\u001b[32m'id'\u001b[0m: \u001b[32m'9ca8588d-fefc-43f1-9640-025d072a9063'\u001b[0m, \u001b[32m'type'\u001b[0m: \u001b[32m'item'\u001b[0m, \u001b[32m'value'\u001b[0m: \u001b[1;36m2107\u001b[0m\u001b[1m}\u001b[0m,\n",
       "    \u001b[1m{\u001b[0m\u001b[32m'id'\u001b[0m: \u001b[32m'c9b97a98-c2fd-492b-9112-641c0c09c067'\u001b[0m, \u001b[32m'type'\u001b[0m: \u001b[32m'item'\u001b[0m, \u001b[32m'value'\u001b[0m: \u001b[1;36m2104\u001b[0m\u001b[1m}\u001b[0m,\n",
       "    \u001b[1m{\u001b[0m\u001b[32m'id'\u001b[0m: \u001b[32m'f77b2137-d670-458c-877f-0f87f505b4bd'\u001b[0m, \u001b[32m'type'\u001b[0m: \u001b[32m'item'\u001b[0m, \u001b[32m'value'\u001b[0m: \u001b[1;36m2101\u001b[0m\u001b[1m}\u001b[0m,\n",
       "    \u001b[1m{\u001b[0m\u001b[32m'id'\u001b[0m: \u001b[32m'5f0d76e5-00dd-4fb2-a1ad-76f4e9e79901'\u001b[0m, \u001b[32m'type'\u001b[0m: \u001b[32m'item'\u001b[0m, \u001b[32m'value'\u001b[0m: \u001b[1;36m2099\u001b[0m\u001b[1m}\u001b[0m,\n",
       "    \u001b[1m{\u001b[0m\u001b[32m'id'\u001b[0m: \u001b[32m'5b2601e4-89a3-4c04-8f27-470cebc240ab'\u001b[0m, \u001b[32m'type'\u001b[0m: \u001b[32m'item'\u001b[0m, \u001b[32m'value'\u001b[0m: \u001b[1;36m2097\u001b[0m\u001b[1m}\u001b[0m\n",
       "\u001b[1m]\u001b[0m\n"
      ]
     },
     "metadata": {},
     "output_type": "display_data"
    }
   ],
   "source": [
    "body_data = migrate_post_to_gallery_with_layout(post)"
   ]
  },
  {
   "cell_type": "code",
   "execution_count": 34,
   "id": "3e46c0ad-4c81-4132-82bf-73967716cde2",
   "metadata": {
    "tags": []
   },
   "outputs": [
    {
     "data": {
      "text/html": [
       "<pre style=\"white-space:pre;overflow-x:auto;line-height:normal;font-family:Menlo,'DejaVu Sans Mono',consolas,'Courier New',monospace\">dont migrate this: \n",
       "<span style=\"font-weight: bold\">{</span><span style=\"color: #008000; text-decoration-color: #008000\">'layout'</span>: <span style=\"color: #008000; text-decoration-color: #008000\">'default'</span>, <span style=\"color: #008000; text-decoration-color: #008000\">'gallery'</span>: <span style=\"font-weight: bold\">[{</span><span style=\"color: #008000; text-decoration-color: #008000\">'id'</span>: <span style=\"color: #008000; text-decoration-color: #008000\">'9c199723-758b-425c-a661-1f74a204000a'</span>, <span style=\"color: #008000; text-decoration-color: #008000\">'type'</span>: <span style=\"color: #008000; text-decoration-color: #008000\">'item'</span>, <span style=\"color: #008000; text-decoration-color: #008000\">'value'</span>: <span style=\"color: #008080; text-decoration-color: #008080; font-weight: bold\">2133</span><span style=\"font-weight: bold\">}]}</span>\n",
       "</pre>\n"
      ],
      "text/plain": [
       "dont migrate this: \n",
       "\u001b[1m{\u001b[0m\u001b[32m'layout'\u001b[0m: \u001b[32m'default'\u001b[0m, \u001b[32m'gallery'\u001b[0m: \u001b[1m[\u001b[0m\u001b[1m{\u001b[0m\u001b[32m'id'\u001b[0m: \u001b[32m'9c199723-758b-425c-a661-1f74a204000a'\u001b[0m, \u001b[32m'type'\u001b[0m: \u001b[32m'item'\u001b[0m, \u001b[32m'value'\u001b[0m: \u001b[1;36m2133\u001b[0m\u001b[1m}\u001b[0m\u001b[1m]\u001b[0m\u001b[1m}\u001b[0m\n"
      ]
     },
     "metadata": {},
     "output_type": "display_data"
    }
   ],
   "source": [
    "body_data = migrate_post_to_gallery_with_layout(post)"
   ]
  },
  {
   "cell_type": "code",
   "execution_count": 41,
   "id": "4f651f79-acc6-4c75-b9fd-fe3af56fcd38",
   "metadata": {
    "tags": []
   },
   "outputs": [],
   "source": [
    "post.body = json.dumps(body_data)\n",
    "post.save()"
   ]
  },
  {
   "cell_type": "code",
   "execution_count": 44,
   "id": "9349d95c-85a0-44dd-b042-1e06dadb7d8b",
   "metadata": {
    "tags": []
   },
   "outputs": [],
   "source": [
    "for post in Post.objects.all():\n",
    "    body_data = migrate_post_to_gallery_with_layout(post)\n",
    "    post.body = json.dumps(body_data)\n",
    "    post.save()"
   ]
  }
 ],
 "metadata": {
  "kernelspec": {
   "display_name": "Django Kernel",
   "language": "python",
   "name": "django_extensions"
  },
  "language_info": {
   "codemirror_mode": {
    "name": "ipython",
    "version": 3
   },
   "file_extension": ".py",
   "mimetype": "text/x-python",
   "name": "python",
   "nbconvert_exporter": "python",
   "pygments_lexer": "ipython3",
   "version": "3.12.1"
  }
 },
 "nbformat": 4,
 "nbformat_minor": 5
}
