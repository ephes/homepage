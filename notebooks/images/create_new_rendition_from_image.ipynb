{
 "cells": [
  {
   "cell_type": "markdown",
   "id": "55c0d02c-eb1b-40f5-934d-b3865655efef",
   "metadata": {},
   "source": [
    "## Just custom build rendition for image"
   ]
  },
  {
   "cell_type": "code",
   "execution_count": 1,
   "id": "8f3528b6-454b-4cc4-a821-34815a954842",
   "metadata": {
    "tags": []
   },
   "outputs": [
    {
     "name": "stdout",
     "output_type": "stream",
     "text": [
      "https://d2b7dn9rofvhjd.cloudfront.net/images/Nora_beim_Kinderarzt.width-1110.format-avif.avif\n"
     ]
    }
   ],
   "source": [
    "post = Post.objects.get(slug=\"november-2023-11-13\")\n",
    "raw = post.body.raw_data\n",
    "image_block = [b for b in raw[0][\"value\"] if b[\"type\"] == \"image\"][0]\n",
    "image_pk = image_block[\"value\"]\n",
    "image = Image.objects.get(pk=image_pk)\n",
    "rendition = image.get_rendition(\"width-1110|format-avif\")\n",
    "print(rendition.url)"
   ]
  }
 ],
 "metadata": {
  "kernelspec": {
   "display_name": "Django Kernel",
   "language": "python",
   "name": "django_extensions"
  },
  "language_info": {
   "codemirror_mode": {
    "name": "ipython",
    "version": 3
   },
   "file_extension": ".py",
   "mimetype": "text/x-python",
   "name": "python",
   "nbconvert_exporter": "python",
   "pygments_lexer": "ipython3",
   "version": "3.12.0"
  }
 },
 "nbformat": 4,
 "nbformat_minor": 5
}
