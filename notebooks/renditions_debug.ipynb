{
 "cells": [
  {
   "cell_type": "markdown",
   "id": "046e625e-242f-40fc-9a25-5377e734d1e2",
   "metadata": {},
   "source": [
    "## Post with Gallery"
   ]
  },
  {
   "cell_type": "code",
   "execution_count": 1,
   "id": "241d5bb1-d6d9-4736-87db-2900344639ee",
   "metadata": {
    "tags": []
   },
   "outputs": [],
   "source": [
    "post = Post.objects.get(slug=\"weeknotes-2023-07-31\")\n",
    "blog = post.blog"
   ]
  },
  {
   "cell_type": "code",
   "execution_count": 2,
   "id": "6f64e896-a4df-4d09-8ea2-9cb4094b178c",
   "metadata": {
    "tags": []
   },
   "outputs": [],
   "source": [
    "[gallery] = post.galleries.all()"
   ]
  },
  {
   "cell_type": "code",
   "execution_count": 3,
   "id": "f04a30d9-a56f-4f49-bd5c-319dc8f56841",
   "metadata": {
    "tags": []
   },
   "outputs": [],
   "source": [
    "image = gallery.images.all()[0]"
   ]
  },
  {
   "cell_type": "code",
   "execution_count": 5,
   "id": "4a60f9eb-94f8-4108-bca7-04bcdd40af6a",
   "metadata": {
    "tags": []
   },
   "outputs": [
    {
     "data": {
      "text/plain": [
       "'https://d2b7dn9rofvhjd.cloudfront.net/original_images/NZ6_0162.jpeg'"
      ]
     },
     "execution_count": 5,
     "metadata": {},
     "output_type": "execute_result"
    }
   ],
   "source": [
    "image.file.url"
   ]
  },
  {
   "cell_type": "code",
   "execution_count": 18,
   "id": "b36c4159-3dda-499b-a423-fa3b6d6f7925",
   "metadata": {
    "tags": []
   },
   "outputs": [
    {
     "name": "stdout",
     "output_type": "stream",
     "text": [
      "old rendition:  https://d2b7dn9rofvhjd.cloudfront.net/images/NZ6_0162.max-800x600.jpg\n"
     ]
    }
   ],
   "source": [
    "old_rendition = image.renditions.all()[0]\n",
    "print(\"old rendition: \", rendition.url)"
   ]
  },
  {
   "cell_type": "code",
   "execution_count": 19,
   "id": "d83c1f01-55ae-4487-b323-37db65337867",
   "metadata": {
    "tags": []
   },
   "outputs": [],
   "source": [
    "rendition_filter = old_rendition.filter\n",
    "rendition_image = old_rendition.image"
   ]
  },
  {
   "cell_type": "code",
   "execution_count": 20,
   "id": "75812135-4639-4da7-b34c-2652cb24c96b",
   "metadata": {
    "tags": []
   },
   "outputs": [
    {
     "data": {
      "text/plain": [
       "(1, {'wagtailimages.Rendition': 1})"
      ]
     },
     "execution_count": 20,
     "metadata": {},
     "output_type": "execute_result"
    }
   ],
   "source": [
    "old_rendition.delete()"
   ]
  },
  {
   "cell_type": "code",
   "execution_count": 21,
   "id": "33e6b2ea-be8d-43a9-97cd-7d742557cbe2",
   "metadata": {
    "tags": []
   },
   "outputs": [],
   "source": [
    "rendition = rendition_image.get_rendition(rendition_filter)"
   ]
  },
  {
   "cell_type": "code",
   "execution_count": 23,
   "id": "90550287-5d5a-4c1b-9a25-648876dc281d",
   "metadata": {
    "tags": []
   },
   "outputs": [
    {
     "name": "stdout",
     "output_type": "stream",
     "text": [
      "new rendition:  https://d2b7dn9rofvhjd.cloudfront.net/images/NZ6_0162.max-800x600.jpg\n"
     ]
    }
   ],
   "source": [
    "print(\"new rendition: \", rendition.url)"
   ]
  },
  {
   "cell_type": "code",
   "execution_count": 18,
   "id": "966c1ddc-d158-44e0-b743-30e88500974f",
   "metadata": {
    "tags": []
   },
   "outputs": [
    {
     "data": {
      "text/plain": [
       "'https://d2b7dn9rofvhjd.cloudfront.net/original_images/NZ6_0162.jpeg'"
      ]
     },
     "execution_count": 18,
     "metadata": {},
     "output_type": "execute_result"
    }
   ],
   "source": [
    "image.file.url"
   ]
  },
  {
   "cell_type": "code",
   "execution_count": 19,
   "id": "a320cc61-1f94-4de2-9987-792d4cb13a6d",
   "metadata": {
    "tags": []
   },
   "outputs": [],
   "source": [
    "working_s3_url = \"https://s3.eu-central-1.amazonaws.com/wersdoerfer.de/images/06952528-0E05-4411-9FD9-E578AA59E8B7.width-1100.jpg\""
   ]
  },
  {
   "cell_type": "code",
   "execution_count": 20,
   "id": "8d718f4c-fc29-45d6-b2e5-8ad1afa74f1c",
   "metadata": {
    "tags": []
   },
   "outputs": [],
   "source": [
    "cloudfront_url= \"https://d2b7dn9rofvhjd.cloudfront.net/images/06952528-0E05-4411-9FD9-E578AA59E8B7.width-1100.jpg\""
   ]
  },
  {
   "cell_type": "code",
   "execution_count": null,
   "id": "7e7180cf-6737-4831-83b9-4126315b8335",
   "metadata": {},
   "outputs": [],
   "source": [
    "non_existing = \"https://d2b7dn9rofvhjd.cloudfront.net/images/asdfasdfasdfasdfasdffooobar.jpg\""
   ]
  },
  {
   "cell_type": "markdown",
   "id": "3b202e09-c1ee-4fb2-bdc2-161b755b8737",
   "metadata": {},
   "source": [
    "# Rendition Management"
   ]
  },
  {
   "cell_type": "code",
   "execution_count": 1,
   "id": "828dbc13-2184-40a7-a7ab-3e27e63105fe",
   "metadata": {
    "tags": []
   },
   "outputs": [],
   "source": [
    "from wagtail.images import get_image_model"
   ]
  },
  {
   "cell_type": "code",
   "execution_count": 7,
   "id": "7ee9c8ad-ede4-4b06-bef9-8c71636496a3",
   "metadata": {
    "tags": []
   },
   "outputs": [],
   "source": [
    "Rendition = get_image_model().get_rendition_model()\n",
    "renditions = Rendition.objects.all()\n",
    "rendition_ids = list(renditions.values_list(\"id\", flat=True))\n",
    "num_renditions = len(rendition_ids)"
   ]
  },
  {
   "cell_type": "code",
   "execution_count": 8,
   "id": "cfa7a13a-3d71-4f7c-84bd-5db631099238",
   "metadata": {
    "tags": []
   },
   "outputs": [
    {
     "data": {
      "text/plain": [
       "11558"
      ]
     },
     "execution_count": 8,
     "metadata": {},
     "output_type": "execute_result"
    }
   ],
   "source": [
    "num_renditions"
   ]
  },
  {
   "cell_type": "code",
   "execution_count": 9,
   "id": "fea7536e-1bda-4073-8d50-53182b6f08be",
   "metadata": {
    "tags": []
   },
   "outputs": [],
   "source": [
    "Image = get_image_model()"
   ]
  },
  {
   "cell_type": "code",
   "execution_count": 10,
   "id": "7cdc414f-1750-460c-b73e-28d2a922e93d",
   "metadata": {
    "tags": []
   },
   "outputs": [
    {
     "data": {
      "text/plain": [
       "1733"
      ]
     },
     "execution_count": 10,
     "metadata": {},
     "output_type": "execute_result"
    }
   ],
   "source": [
    "Image.objects.count()"
   ]
  },
  {
   "cell_type": "code",
   "execution_count": null,
   "id": "cad592ac-d051-4e47-953f-89dff80aa33a",
   "metadata": {},
   "outputs": [],
   "source": []
  }
 ],
 "metadata": {
  "kernelspec": {
   "display_name": "Django Kernel",
   "language": "python",
   "name": "django_extensions"
  },
  "language_info": {
   "codemirror_mode": {
    "name": "ipython",
    "version": 3
   },
   "file_extension": ".py",
   "mimetype": "text/x-python",
   "name": "python",
   "nbconvert_exporter": "python",
   "pygments_lexer": "ipython3",
   "version": "3.11.5"
  }
 },
 "nbformat": 4,
 "nbformat_minor": 5
}
