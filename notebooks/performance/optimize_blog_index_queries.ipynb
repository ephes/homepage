{
 "cells": [
  {
   "cell_type": "code",
   "execution_count": 1,
   "id": "54f41702-3deb-44a6-9020-d5911f1b6d2e",
   "metadata": {
    "tags": []
   },
   "outputs": [],
   "source": [
    "import sqlparse\n",
    "\n",
    "from django.test import RequestFactory\n",
    "from django.db import connection, reset_queries\n",
    "\n",
    "from cast.models.repository import BlogIndexRepository"
   ]
  },
  {
   "cell_type": "code",
   "execution_count": 2,
   "id": "dbbf37a6-85c3-411f-821f-3210dd6d299f",
   "metadata": {
    "tags": []
   },
   "outputs": [],
   "source": [
    "def count_queries(func):\n",
    "    reset_queries()\n",
    "    renditions = list(func())\n",
    "    return len(connection.queries)\n",
    "\n",
    "\n",
    "def show_queries(queries):\n",
    "    for query in queries:\n",
    "        formatted_sql = sqlparse.format(query['sql'], reindent=True, keyword_case='upper')\n",
    "        print(formatted_sql)\n",
    "        \n",
    "\n",
    "def blocker(*_args):\n",
    "    \"\"\"Get a traceback when a query is executed.\"\"\"\n",
    "    raise Exception(\"No database access allowed here.\")"
   ]
  },
  {
   "cell_type": "code",
   "execution_count": 3,
   "id": "5b6c6426-5507-4f43-8b19-adb8b72fa7fb",
   "metadata": {
    "tags": []
   },
   "outputs": [],
   "source": [
    "blog = Blog.objects.get(slug=\"ephes_blog\")"
   ]
  },
  {
   "cell_type": "code",
   "execution_count": 4,
   "id": "1c0697b0-7c53-40bf-ac67-9781e4ef0ed5",
   "metadata": {
    "tags": []
   },
   "outputs": [],
   "source": [
    "rf = RequestFactory()\n",
    "request = rf.get(blog.get_url())\n",
    "request.htmx = False"
   ]
  },
  {
   "cell_type": "code",
   "execution_count": 5,
   "id": "f2b7fcb1-b1f8-4e22-a454-9e7aeda69480",
   "metadata": {
    "tags": []
   },
   "outputs": [
    {
     "name": "stdout",
     "output_type": "stream",
     "text": [
      "CPU times: user 41 ms, sys: 3.54 ms, total: 44.6 ms\n",
      "Wall time: 57.7 ms\n"
     ]
    }
   ],
   "source": [
    "%%time\n",
    "reset_queries()\n",
    "cachable_data = BlogIndexRepository.data_for_blog_index_cachable(request=request, blog=blog)"
   ]
  },
  {
   "cell_type": "code",
   "execution_count": 6,
   "id": "d130cd50-9786-4469-82c7-3b63e49463eb",
   "metadata": {
    "tags": []
   },
   "outputs": [
    {
     "name": "stdout",
     "output_type": "stream",
     "text": [
      "CPU times: user 8.81 ms, sys: 1.4 ms, total: 10.2 ms\n",
      "Wall time: 8.95 ms\n"
     ]
    }
   ],
   "source": [
    "%%time\n",
    "repository = BlogIndexRepository.create_from_cachable_data(data=cachable_data)"
   ]
  },
  {
   "cell_type": "code",
   "execution_count": 7,
   "id": "6c81a187-dfea-4410-8b55-06c1099e25fe",
   "metadata": {
    "tags": []
   },
   "outputs": [
    {
     "data": {
      "text/plain": [
       "17"
      ]
     },
     "execution_count": 7,
     "metadata": {},
     "output_type": "execute_result"
    }
   ],
   "source": [
    "len(connection.queries)"
   ]
  },
  {
   "cell_type": "code",
   "execution_count": 8,
   "id": "a38603a9-9b49-4b68-b54f-9d3163167cfd",
   "metadata": {
    "tags": []
   },
   "outputs": [],
   "source": [
    "# repository.template_base_dir = \"bootstrap4\""
   ]
  },
  {
   "cell_type": "code",
   "execution_count": 9,
   "id": "f0305d7d-f5fb-44a8-bd7b-9b21e7eb4db4",
   "metadata": {
    "tags": []
   },
   "outputs": [
    {
     "name": "stdout",
     "output_type": "stream",
     "text": [
      "1\n",
      "CPU times: user 64.2 ms, sys: 24.1 ms, total: 88.3 ms\n",
      "Wall time: 88.2 ms\n"
     ]
    }
   ],
   "source": [
    "%%time\n",
    "reset_queries()\n",
    "# with connection.execute_wrapper(blocker):\n",
    "response = blog.serve(request, repository=repository).render()\n",
    "print(len(connection.queries))"
   ]
  },
  {
   "cell_type": "code",
   "execution_count": 10,
   "id": "6bfe1eca-030b-4132-a3fe-fa3db3346bf3",
   "metadata": {
    "tags": []
   },
   "outputs": [
    {
     "name": "stdout",
     "output_type": "stream",
     "text": [
      "SELECT \"cast_templatebasedirectory\".\"id\",\n",
      "       \"cast_templatebasedirectory\".\"site_id\",\n",
      "       \"cast_templatebasedirectory\".\"name\"\n",
      "FROM \"cast_templatebasedirectory\"\n",
      "WHERE \"cast_templatebasedirectory\".\"site_id\" = 1\n",
      "LIMIT 21\n"
     ]
    }
   ],
   "source": [
    "show_queries(connection.queries)"
   ]
  },
  {
   "cell_type": "code",
   "execution_count": 11,
   "id": "a1748e60-76c0-4d53-a613-24da8a402cb4",
   "metadata": {
    "tags": []
   },
   "outputs": [
    {
     "data": {
      "text/plain": [
       "{'page': <Blog: Ephes Blog>,\n",
       " 'self': <Blog: Ephes Blog>,\n",
       " 'request': <WSGIRequest: GET '/blogs/ephes_blog/'>,\n",
       " 'repository': <cast.models.repository.BlogIndexRepository at 0x1101b1c10>,\n",
       " 'ellipsis': '…',\n",
       " 'page_number': 1,\n",
       " 'page_range': [1, 2, 3, '…', 38],\n",
       " 'is_paginated': True,\n",
       " 'has_previous': False,\n",
       " 'previous_page_number': None,\n",
       " 'has_next': True,\n",
       " 'next_page_number': 2,\n",
       " 'object_list': [<Post: Weeknotes 2024-04-22>,\n",
       "  <Post: Weeknotes 2024-04-15>,\n",
       "  <Post: Weeknotes 2024-04-08>,\n",
       "  <Post: Weeknotes 2024-04-01>,\n",
       "  <Post: Weeknotes 2024-03-25>],\n",
       " 'filterset': <cast.filters.PostFilterset at 0x1101b11c0>,\n",
       " 'template_base_dir': 'bootstrap5',\n",
       " 'use_audio_player': False,\n",
       " 'root_nav_links': [('/blogs/das_claas_und_nora_blog/',\n",
       "   'Claas und Nora sagen Hallo'),\n",
       "  ('/blogs/ephes_blog/', 'Ephes Blog')],\n",
       " 'posts': [<Post: Weeknotes 2024-04-22>,\n",
       "  <Post: Weeknotes 2024-04-15>,\n",
       "  <Post: Weeknotes 2024-04-08>,\n",
       "  <Post: Weeknotes 2024-04-01>,\n",
       "  <Post: Weeknotes 2024-03-25>],\n",
       " 'blog': <Blog: Ephes Blog>,\n",
       " 'has_selectable_themes': True,\n",
       " 'parameters': '',\n",
       " 'theme_form': <SelectThemeForm bound=False, valid=Unknown, fields=(template_base_dir;next)>}"
      ]
     },
     "execution_count": 11,
     "metadata": {},
     "output_type": "execute_result"
    }
   ],
   "source": [
    "response.context_data"
   ]
  },
  {
   "cell_type": "code",
   "execution_count": null,
   "id": "ea6f844e-8a72-45d8-813e-053fa8ecab60",
   "metadata": {},
   "outputs": [],
   "source": []
  },
  {
   "cell_type": "code",
   "execution_count": null,
   "id": "3647b8a8-ef13-4619-a859-7a9648e6028a",
   "metadata": {},
   "outputs": [],
   "source": []
  }
 ],
 "metadata": {
  "kernelspec": {
   "display_name": "Django Kernel",
   "language": "python",
   "name": "django_extensions"
  },
  "language_info": {
   "codemirror_mode": {
    "name": "ipython",
    "version": 3
   },
   "file_extension": ".py",
   "mimetype": "text/x-python",
   "name": "python",
   "nbconvert_exporter": "python",
   "pygments_lexer": "ipython3",
   "version": "3.12.3"
  }
 },
 "nbformat": 4,
 "nbformat_minor": 5
}
