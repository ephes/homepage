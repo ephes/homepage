{
 "cells": [
  {
   "cell_type": "code",
   "execution_count": 14,
   "id": "90894888-51c5-4c81-ab16-df84e10ea855",
   "metadata": {
    "tags": []
   },
   "outputs": [],
   "source": [
    "from django.db import connection, reset_queries\n",
    "from django.contrib.auth import get_user_model\n",
    "\n",
    "from wagtail.models import Page"
   ]
  },
  {
   "cell_type": "code",
   "execution_count": 3,
   "id": "92ae587f-ddab-4dee-8d5e-fa48f6df3a37",
   "metadata": {
    "tags": []
   },
   "outputs": [],
   "source": [
    "def blocker(*args):\n",
    "    raise Exception(\"No database access allowed here.\")"
   ]
  },
  {
   "cell_type": "code",
   "execution_count": 4,
   "id": "f58d05e6-e40f-4013-b186-52033d248935",
   "metadata": {
    "tags": []
   },
   "outputs": [],
   "source": [
    "with connection.execute_wrapper(blocker):\n",
    "    post = Post(id=1)"
   ]
  },
  {
   "cell_type": "code",
   "execution_count": 5,
   "id": "29e2f16f-2381-4700-ace2-bce583c3a3a2",
   "metadata": {
    "tags": []
   },
   "outputs": [],
   "source": [
    "with connection.execute_wrapper(blocker):\n",
    "    page = Page(id=1)"
   ]
  },
  {
   "cell_type": "code",
   "execution_count": 6,
   "id": "c173195b-e36a-4edb-b387-3e1e9c186a8b",
   "metadata": {
    "tags": []
   },
   "outputs": [
    {
     "name": "stdout",
     "output_type": "stream",
     "text": [
      "CPU times: user 6.59 ms, sys: 9.82 ms, total: 16.4 ms\n",
      "Wall time: 24.2 ms\n"
     ]
    }
   ],
   "source": [
    "%%time\n",
    "page = Page()"
   ]
  },
  {
   "cell_type": "code",
   "execution_count": 7,
   "id": "143adb02-894e-49dc-86d7-ef73a2ded806",
   "metadata": {
    "tags": []
   },
   "outputs": [
    {
     "name": "stdout",
     "output_type": "stream",
     "text": [
      "CPU times: user 377 µs, sys: 120 µs, total: 497 µs\n",
      "Wall time: 458 µs\n"
     ]
    }
   ],
   "source": [
    "%%time\n",
    "page = Page(id=1)"
   ]
  },
  {
   "cell_type": "code",
   "execution_count": 8,
   "id": "2e91e733-2655-4bf2-a41c-3e79dac921df",
   "metadata": {
    "tags": []
   },
   "outputs": [],
   "source": [
    "post = Post.objects.first()"
   ]
  },
  {
   "cell_type": "code",
   "execution_count": 9,
   "id": "db5ddb19-ef14-4fbb-9496-e31434ba3f92",
   "metadata": {
    "tags": []
   },
   "outputs": [
    {
     "data": {
      "text/plain": [
       "[{'id': '02a32ea1-d14a-4937-b5db-0aa0b6530fd6', 'type': 'overview', 'value': [{'id': 'bc7b1b50-12c6-4803-8865-09a1bc6e1705', 'type': 'image', 'value': 144}, {'id': 'c58e0b16-c040-4e82-83e2-ce28350065ea', 'type': 'gallery', 'value': {'layout': 'default', 'gallery': [{'id': '0aa4de6f-62a4-43de-b66f-c543fe97ab23', 'type': 'item', 'value': 142}, {'id': 'e5b36368-7667-4a43-b853-f742a544b938', 'type': 'item', 'value': 143}, {'id': '65d9f170-c374-4346-9528-a95cabf00420', 'type': 'item', 'value': 144}]}}, {'id': 'd38361f6-7c42-411a-ae5d-d133d329e694', 'type': 'paragraph', 'value': '<p data-block-key=\"3nefc\">Inzwischen haben wir Ganzkörperlätzchen angeschafft.</p>'}]}]"
      ]
     },
     "execution_count": 9,
     "metadata": {},
     "output_type": "execute_result"
    }
   ],
   "source": [
    "post.body.raw_data"
   ]
  },
  {
   "cell_type": "code",
   "execution_count": 10,
   "id": "207ba0e8-0c5d-4afb-846e-fab87986c872",
   "metadata": {
    "tags": []
   },
   "outputs": [],
   "source": [
    "from wagtail.blocks import StreamValue"
   ]
  },
  {
   "cell_type": "code",
   "execution_count": 11,
   "id": "56776ebe-5a9b-4939-99ae-57fb1bd5e1a8",
   "metadata": {
    "tags": []
   },
   "outputs": [],
   "source": [
    "with connection.execute_wrapper(blocker):\n",
    "    field = Post._meta.get_field(\"body\")\n",
    "    body = StreamValue(field.stream_block, [])"
   ]
  },
  {
   "cell_type": "markdown",
   "id": "e9cb8a8f-39a7-46fd-bc02-32d03b7111c5",
   "metadata": {},
   "source": [
    "## Audio without DB"
   ]
  },
  {
   "cell_type": "code",
   "execution_count": 21,
   "id": "1147ddde-89a1-461d-8f9d-10f706840e35",
   "metadata": {
    "tags": []
   },
   "outputs": [],
   "source": [
    "with connection.execute_wrapper(blocker):\n",
    "    user_model = get_user_model()\n",
    "    user = user_model(id=1, username=\"foobar\")"
   ]
  },
  {
   "cell_type": "code",
   "execution_count": 25,
   "id": "572a5428-fc34-48b3-b6b1-79bfd4aed766",
   "metadata": {},
   "outputs": [],
   "source": [
    "with connection.execute_wrapper(blocker):\n",
    "    audio = Audio(collection=None)\n",
    "    # audio = Audio(id=1, collection=None)"
   ]
  },
  {
   "cell_type": "code",
   "execution_count": null,
   "id": "a813bd04-0881-489b-8342-f5e5ec20a5f3",
   "metadata": {},
   "outputs": [],
   "source": []
  }
 ],
 "metadata": {
  "kernelspec": {
   "display_name": "Django Kernel",
   "language": "python",
   "name": "django_extensions"
  },
  "language_info": {
   "codemirror_mode": {
    "name": "ipython",
    "version": 3
   },
   "file_extension": ".py",
   "mimetype": "text/x-python",
   "name": "python",
   "nbconvert_exporter": "python",
   "pygments_lexer": "ipython3",
   "version": "3.12.3"
  }
 },
 "nbformat": 4,
 "nbformat_minor": 5
}
