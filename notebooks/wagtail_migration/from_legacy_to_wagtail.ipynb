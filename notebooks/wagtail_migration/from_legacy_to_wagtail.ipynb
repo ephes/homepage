{
 "cells": [
  {
   "cell_type": "code",
   "execution_count": 1,
   "id": "d2e1da81-ab44-438a-8c91-079080fca6d7",
   "metadata": {},
   "outputs": [],
   "source": [
    "%load_ext lab_black"
   ]
  },
  {
   "cell_type": "code",
   "execution_count": 2,
   "id": "13f8110b-0ec8-4c54-bd80-0cea82533bc4",
   "metadata": {},
   "outputs": [],
   "source": [
    "import re\n",
    "import json\n",
    "\n",
    "from uuid import uuid4\n",
    "\n",
    "from django.db import connections\n",
    "\n",
    "from rich import print"
   ]
  },
  {
   "cell_type": "markdown",
   "id": "28ac2bf1-661e-47c6-8b8f-e21b6bcac29c",
   "metadata": {},
   "source": [
    "# Manual Stuff\n",
    "\n",
    "* Set DELETE_WAGTAIL_IMAGES=False to deactivate post_delete_file_cleanup, to avoid deleting original 🥶\n",
    "* Start only postgres and then: dropdb homepage && createdb homepage && python manage.py migrate\n",
    "* Sometimes after convert: python manage.py fixtree\n",
    "* Sometimes, you have to run: python manage.py sqlsequencereset cast + execute via pgcli"
   ]
  },
  {
   "cell_type": "markdown",
   "id": "67af7169-5f1d-4d0c-871b-0c024f9ab453",
   "metadata": {},
   "source": [
    "# Create New Empty DB"
   ]
  },
  {
   "cell_type": "code",
   "execution_count": 3,
   "id": "8a77f139-caa5-4a35-9a0a-5ea15165adab",
   "metadata": {},
   "outputs": [],
   "source": [
    "import os\n",
    "\n",
    "from django.conf import settings\n",
    "from django.core.management import call_command\n",
    "\n",
    "from pathlib import Path"
   ]
  },
  {
   "cell_type": "code",
   "execution_count": 4,
   "id": "cb92856a-dce9-4bf4-a645-635eec7716ca",
   "metadata": {},
   "outputs": [
    {
     "name": "stdout",
     "output_type": "stream",
     "text": [
      "Operations to perform:\n",
      "  Apply all migrations: account, admin, auth, authtoken, cast, contenttypes, django_comments, filepond, fluent_comments, indieweb, sessions, sites, socialaccount, taggit, threadedcomments, users, wagtailadmin, wagtailcore, wagtaildocs, wagtailembeds, wagtailforms, wagtailimages, wagtailredirects, wagtailsearch, wagtailusers, watson\n",
      "Running migrations:\n",
      "  Applying contenttypes.0001_initial... OK\n",
      "  Applying contenttypes.0002_remove_content_type_name... OK\n",
      "  Applying auth.0001_initial... OK\n",
      "  Applying auth.0002_alter_permission_name_max_length... OK\n",
      "  Applying auth.0003_alter_user_email_max_length... OK\n",
      "  Applying auth.0004_alter_user_username_opts... OK\n",
      "  Applying auth.0005_alter_user_last_login_null... OK\n",
      "  Applying auth.0006_require_contenttypes_0002... OK\n",
      "  Applying auth.0007_alter_validators_add_error_messages... OK\n",
      "  Applying auth.0008_alter_user_username_max_length... OK\n",
      "  Applying users.0001_initial... OK\n",
      "  Applying account.0001_initial... OK\n",
      "  Applying account.0002_email_max_length... OK\n",
      "  Applying admin.0001_initial... OK\n",
      "  Applying admin.0002_logentry_remove_auto_add... OK\n",
      "  Applying admin.0003_logentry_add_action_flag_choices... OK\n",
      "  Applying auth.0009_alter_user_last_name_max_length... OK\n",
      "  Applying auth.0010_alter_group_name_max_length... OK\n",
      "  Applying auth.0011_update_proxy_permissions... OK\n",
      "  Applying auth.0012_alter_user_first_name_max_length... OK\n",
      "  Applying authtoken.0001_initial... OK\n",
      "  Applying authtoken.0002_auto_20160226_1747... OK\n",
      "  Applying authtoken.0003_tokenproxy... OK\n",
      "  Applying wagtailcore.0001_squashed_0016_change_page_url_path_to_text_field... OK\n",
      "  Applying wagtailcore.0017_change_edit_page_permission_description... OK\n",
      "  Applying wagtailcore.0018_pagerevision_submitted_for_moderation_index... OK\n",
      "  Applying wagtailcore.0019_verbose_names_cleanup... OK\n",
      "  Applying wagtailcore.0020_add_index_on_page_first_published_at... OK\n",
      "  Applying wagtailcore.0021_capitalizeverbose... OK\n",
      "  Applying wagtailcore.0022_add_site_name... OK\n",
      "  Applying wagtailcore.0023_alter_page_revision_on_delete_behaviour... OK\n",
      "  Applying wagtailcore.0024_collection... OK\n",
      "  Applying wagtailcore.0025_collection_initial_data... OK\n",
      "  Applying wagtailcore.0026_group_collection_permission... OK\n",
      "  Applying wagtailcore.0027_fix_collection_path_collation... OK\n",
      "  Applying wagtailcore.0024_alter_page_content_type_on_delete_behaviour... OK\n",
      "  Applying wagtailcore.0028_merge... OK\n",
      "  Applying wagtailcore.0029_unicode_slugfield_dj19... OK\n",
      "  Applying wagtailcore.0030_index_on_pagerevision_created_at... OK\n",
      "  Applying wagtailcore.0031_add_page_view_restriction_types... OK\n",
      "  Applying wagtailcore.0032_add_bulk_delete_page_permission... OK\n",
      "  Applying wagtailcore.0033_remove_golive_expiry_help_text... OK\n",
      "  Applying wagtailcore.0034_page_live_revision... OK\n",
      "  Applying wagtailcore.0035_page_last_published_at... OK\n",
      "  Applying wagtailcore.0036_populate_page_last_published_at... OK\n",
      "  Applying wagtailcore.0037_set_page_owner_editable... OK\n",
      "  Applying wagtailcore.0038_make_first_published_at_editable... OK\n",
      "  Applying wagtailcore.0039_collectionviewrestriction... OK\n",
      "  Applying wagtailcore.0040_page_draft_title... OK\n",
      "  Applying wagtailcore.0041_group_collection_permissions_verbose_name_plural... OK\n",
      "  Applying wagtailcore.0042_index_on_pagerevision_approved_go_live_at... OK\n",
      "  Applying wagtailcore.0043_lock_fields... OK\n",
      "  Applying wagtailcore.0044_add_unlock_grouppagepermission... OK\n",
      "  Applying wagtailcore.0045_assign_unlock_grouppagepermission... OK\n",
      "  Applying wagtailcore.0046_site_name_remove_null... OK\n",
      "  Applying wagtailcore.0047_add_workflow_models... OK\n",
      "  Applying wagtailcore.0048_add_default_workflows... OK\n",
      "  Applying wagtailcore.0049_taskstate_finished_by... OK\n",
      "  Applying wagtailcore.0050_workflow_rejected_to_needs_changes... OK\n",
      "  Applying wagtailcore.0051_taskstate_comment... OK\n",
      "  Applying wagtailcore.0052_pagelogentry... OK\n",
      "  Applying wagtailcore.0053_locale_model... OK\n",
      "  Applying wagtailcore.0054_initial_locale... OK\n",
      "  Applying wagtailcore.0055_page_locale_fields... OK\n",
      "  Applying wagtailcore.0056_page_locale_fields_populate... OK\n",
      "  Applying wagtailcore.0057_page_locale_fields_notnull... OK\n",
      "  Applying wagtailcore.0058_page_alias_of... OK\n",
      "  Applying wagtailcore.0059_apply_collection_ordering... OK\n",
      "  Applying wagtailcore.0060_fix_workflow_unique_constraint... OK\n",
      "  Applying wagtailcore.0061_change_promote_tab_helpt_text_and_verbose_names... OK\n",
      "  Applying wagtailcore.0062_comment_models_and_pagesubscription... OK\n",
      "  Applying taggit.0001_initial... OK\n",
      "  Applying taggit.0002_auto_20150616_2121... OK\n",
      "  Applying taggit.0003_taggeditem_add_unique_index... OK\n",
      "  Applying wagtailredirects.0001_initial... OK\n",
      "  Applying wagtailredirects.0002_add_verbose_names... OK\n",
      "  Applying wagtailredirects.0003_make_site_field_editable... OK\n",
      "  Applying wagtailredirects.0004_set_unique_on_path_and_site... OK\n",
      "  Applying wagtailredirects.0005_capitalizeverbose... OK\n",
      "  Applying wagtailredirects.0006_redirect_increase_max_length... OK\n",
      "  Applying wagtailforms.0001_initial... OK\n",
      "  Applying wagtailforms.0002_add_verbose_names... OK\n",
      "  Applying wagtailforms.0003_capitalizeverbose... OK\n",
      "  Applying wagtailforms.0004_add_verbose_name_plural... OK\n",
      "  Applying wagtailimages.0001_squashed_0021... OK\n",
      "  Applying wagtailimages.0022_uploadedimage... OK\n",
      "  Applying wagtailimages.0023_add_choose_permissions... OK\n",
      "  Applying cast.0001_initial... OK\n",
      "  Applying cast.0002_remove_blog_description... OK\n",
      "  Applying cast.0003_remove_post_parent_blog... OK\n",
      "  Applying cast.0004_homepage_alias_for_page... OK\n",
      "  Applying cast.0005_auto_20201024_0613... OK\n",
      "  Applying cast.0006_auto_20210628_1628... OK\n",
      "  Applying cast.0007_alter_post_body... OK\n",
      "  Applying cast.0008_auto_20210712_0919... OK\n",
      "  Applying cast.0009_alter_post_body... OK\n",
      "  Applying cast.0010_rename_intro_blog_description... OK\n",
      "  Applying cast.0011_alter_post_body... OK\n",
      "  Applying cast.0012_alter_post_images... OK\n",
      "  Applying cast.0013_alter_gallery_images... OK\n",
      "  Applying cast.0014_remove_gallery_user... OK\n",
      "  Applying cast.0015_delete_blogindexpage... OK\n",
      "  Applying cast.0016_auto_20210830_0422... OK\n",
      "  Applying cast.0017_alter_post_body... OK\n",
      "  Applying cast.0018_alter_chaptermark_start... OK\n",
      "  Applying cast.0019_alter_chaptermark_start... OK\n",
      "  Applying cast.0020_auto_20210926_1556... OK\n",
      "  Applying cast.0021_spamfilter... OK\n",
      "  Applying cast.0022_alter_spamfilter_model... OK\n",
      "  Applying cast.0023_alter_spamfilter_model... OK\n",
      "  Applying sites.0001_initial... OK\n",
      "  Applying django_comments.0001_initial... OK\n",
      "  Applying django_comments.0002_update_user_email_field_length... OK\n",
      "  Applying django_comments.0003_add_submit_date_index... OK\n",
      "  Applying django_comments.0004_add_object_pk_is_removed_index... OK\n",
      "  Applying filepond.0001_initial... OK\n",
      "  Applying filepond.0002_auto_20181127_0925... OK\n",
      "  Applying filepond.0003_auto_20181127_0938... OK\n",
      "  Applying fluent_comments.0001_initial... OK\n",
      "  Applying indieweb.0001_initial... OK\n",
      "  Applying indieweb.0002_auto_20190512_0612... OK\n",
      "  Applying indieweb.0003_auto_20190518_0207... OK\n",
      "  Applying sessions.0001_initial... OK\n",
      "  Applying sites.0002_alter_domain_unique... OK\n",
      "  Applying sites.0003_set_site_domain_and_name... OK\n",
      "  Applying socialaccount.0001_initial... OK\n",
      "  Applying socialaccount.0002_token_max_lengths... OK\n",
      "  Applying socialaccount.0003_extra_data_default_dict... OK\n",
      "  Applying taggit.0004_alter_taggeditem_content_type_alter_taggeditem_tag... OK\n",
      "  Applying taggit.0005_auto_20220424_2025... OK\n",
      "  Applying threadedcomments.0001_initial... OK\n",
      "  Applying threadedcomments.0002_auto_20150521_2011... OK\n",
      "  Applying threadedcomments.0003_threadedcomment_newest_activity... OK\n",
      "  Applying users.0002_auto_20180528_0634... OK\n",
      "  Applying wagtailadmin.0001_create_admin_access_permissions... OK\n",
      "  Applying wagtailadmin.0002_admin... OK\n",
      "  Applying wagtailadmin.0003_admin_managed... OK\n",
      "  Applying wagtailcore.0063_modellogentry... OK\n",
      "  Applying wagtailcore.0064_log_timestamp_indexes... OK\n",
      "  Applying wagtailcore.0065_log_entry_uuid... OK\n",
      "  Applying wagtailcore.0066_collection_management_permissions... OK\n",
      "  Applying wagtailcore.0067_alter_pagerevision_content_json... OK\n",
      "  Applying wagtailcore.0068_log_entry_empty_object... OK\n",
      "  Applying wagtailcore.0069_log_entry_jsonfield... OK\n",
      "  Applying wagtailcore.0070_rename_pagerevision_revision... OK\n",
      "  Applying wagtailcore.0071_populate_revision_content_type... OK\n",
      "  Applying wagtailcore.0072_alter_revision_content_type_notnull... OK\n",
      "  Applying wagtailcore.0073_page_latest_revision... OK\n",
      "  Applying wagtailcore.0074_revision_object_str... OK\n",
      "  Applying wagtailcore.0075_populate_latest_revision_and_revision_object_str... OK\n",
      "  Applying wagtailcore.0076_modellogentry_revision... OK\n",
      "  Applying wagtailcore.0077_alter_revision_user... OK\n",
      "  Applying wagtailcore.0078_referenceindex... OK\n",
      "  Applying wagtaildocs.0001_initial... OK\n",
      "  Applying wagtaildocs.0002_initial_data... OK\n",
      "  Applying wagtaildocs.0003_add_verbose_names... OK\n",
      "  Applying wagtaildocs.0004_capitalizeverbose... OK\n",
      "  Applying wagtaildocs.0005_document_collection... OK\n",
      "  Applying wagtaildocs.0006_copy_document_permissions_to_collections... OK\n",
      "  Applying wagtaildocs.0005_alter_uploaded_by_user_on_delete_action... OK\n",
      "  Applying wagtaildocs.0007_merge... OK\n",
      "  Applying wagtaildocs.0008_document_file_size... OK\n",
      "  Applying wagtaildocs.0009_document_verbose_name_plural... OK\n",
      "  Applying wagtaildocs.0010_document_file_hash... OK\n",
      "  Applying wagtaildocs.0011_add_choose_permissions... OK\n",
      "  Applying wagtaildocs.0012_uploadeddocument... OK\n",
      "  Applying wagtailembeds.0001_initial... OK\n",
      "  Applying wagtailembeds.0002_add_verbose_names... OK\n",
      "  Applying wagtailembeds.0003_capitalizeverbose... OK\n",
      "  Applying wagtailembeds.0004_embed_verbose_name_plural... OK\n",
      "  Applying wagtailembeds.0005_specify_thumbnail_url_max_length... OK\n",
      "  Applying wagtailembeds.0006_add_embed_hash... OK\n",
      "  Applying wagtailembeds.0007_populate_hash... OK\n",
      "  Applying wagtailembeds.0008_allow_long_urls... OK\n",
      "  Applying wagtailembeds.0009_embed_cache_until... OK\n",
      "  Applying wagtailforms.0005_alter_formsubmission_form_data... OK\n",
      "  Applying wagtailimages.0024_index_image_file_hash... OK\n",
      "  Applying wagtailredirects.0007_add_autocreate_fields... OK\n",
      "  Applying wagtailredirects.0008_add_verbose_name_plural... OK\n",
      "  Applying wagtailsearch.0001_initial... OK\n",
      "  Applying wagtailsearch.0002_add_verbose_names... OK\n",
      "  Applying wagtailsearch.0003_remove_editors_pick... OK\n",
      "  Applying wagtailsearch.0004_querydailyhits_verbose_name_plural... OK\n",
      "  Applying wagtailsearch.0005_create_indexentry... OK\n",
      "  Applying wagtailsearch.0006_customise_indexentry... OK\n",
      "  Applying wagtailsearch.0007_delete_editorspick... OK\n",
      "  Applying wagtailusers.0001_initial... OK\n",
      "  Applying wagtailusers.0002_add_verbose_name_on_userprofile... OK\n",
      "  Applying wagtailusers.0003_add_verbose_names... OK\n",
      "  Applying wagtailusers.0004_capitalizeverbose... OK\n",
      "  Applying wagtailusers.0005_make_related_name_wagtail_specific... OK\n",
      "  Applying wagtailusers.0006_userprofile_prefered_language... OK\n",
      "  Applying wagtailusers.0007_userprofile_current_time_zone... OK\n",
      "  Applying wagtailusers.0008_userprofile_avatar... OK\n",
      "  Applying wagtailusers.0009_userprofile_verbose_name_plural... OK\n",
      "  Applying wagtailusers.0010_userprofile_updated_comments_notifications... OK\n",
      "  Applying wagtailusers.0011_userprofile_dismissibles... OK\n",
      "  Applying watson.0001_initial... OK\n"
     ]
    }
   ],
   "source": [
    "current_working_dir = Path.cwd()\n",
    "os.chdir(settings.ROOT_DIR)\n",
    "!dropdb homepage && createdb homepage\n",
    "call_command(\"migrate\")\n",
    "os.chdir(current_working_dir)"
   ]
  },
  {
   "cell_type": "markdown",
   "id": "c43e1b1c-d939-4858-97aa-b2885576bb3b",
   "metadata": {},
   "source": [
    "# Fetch Legacy Data from Database Restore"
   ]
  },
  {
   "cell_type": "code",
   "execution_count": 5,
   "id": "35611ccd-3682-402c-8c16-6f9196b8a2f9",
   "metadata": {},
   "outputs": [],
   "source": [
    "def dictfetchall(cursor):\n",
    "    \"Return all rows from a cursor as a dict\"\n",
    "    columns = [col[0] for col in cursor.description]\n",
    "    return [dict(zip(columns, row)) for row in cursor.fetchall()]\n",
    "\n",
    "\n",
    "class Legacy:\n",
    "    def __init__(self, db_name=\"legacy\"):\n",
    "        self.db_name = db_name\n",
    "        self.users = self.fetch_rows(\"select * from users_user\")\n",
    "        self.blogs = self.fetch_rows(\"select * from cast_blog\")\n",
    "        self.posts = self.fetch_rows(\"select * from cast_post\")\n",
    "        self.images = self.fetch_rows(\"select * from cast_image\")\n",
    "        self.galleries = self.fetch_rows(\"select * from cast_gallery\")\n",
    "        self.gallery_images = self.fetch_rows(\"select * from cast_gallery_images\")\n",
    "        self.videos = self.fetch_rows(\"select * from cast_video\")\n",
    "        self.audios = self.fetch_rows(\"select * from cast_audio\")\n",
    "\n",
    "    def fetch_rows(self, stmt):\n",
    "        with connections[self.db_name].cursor() as cursor:\n",
    "            cursor.execute(stmt)\n",
    "            rows = dictfetchall(cursor)\n",
    "        return rows\n",
    "\n",
    "\n",
    "class Converter:\n",
    "    def __init__(self, legacy):\n",
    "        self.legacy = legacy\n",
    "        self.blog_content_type = ContentType.objects.get(app_label=\"cast\", model=\"blog\")\n",
    "\n",
    "    def users(self):\n",
    "        for l_user in self.legacy.users:\n",
    "            user = User(**l_user)\n",
    "            user.save()\n",
    "        return {user.pk: user for user in User.objects.all()}\n",
    "\n",
    "    def blogs(self):\n",
    "        blog_legacy_to_wagtail = {}\n",
    "        root = Page.objects.get(title=\"Welcome to your new Wagtail site!\")\n",
    "        for l_blog in self.legacy.blogs:\n",
    "            kwargs = l_blog.copy()\n",
    "            del kwargs[\"user_id\"]\n",
    "            del kwargs[\"id\"]\n",
    "            kwargs[\"owner\"] = self.user_lookup[l_blog[\"user_id\"]]\n",
    "            l_blog[\"content_type\"] = self.blog_content_type\n",
    "            blog = Blog(**kwargs)\n",
    "            blog = root.add_child(instance=blog)\n",
    "            blog_legacy_to_wagtail[l_blog[\"id\"]] = blog.pk\n",
    "        return blog_legacy_to_wagtail\n",
    "\n",
    "    def images(self):\n",
    "        for num, l_image in enumerate(self.legacy.images):\n",
    "            image = Image(\n",
    "                pk=l_image[\"id\"],\n",
    "                file=l_image[\"original\"],\n",
    "                uploaded_by_user=self.user_lookup[l_image[\"user_id\"]],\n",
    "                created_at=l_image[\"created\"],\n",
    "                width=l_image[\"original_width\"],\n",
    "                height=l_image[\"original_height\"],\n",
    "            )\n",
    "            image.save()\n",
    "            if num % 300 == 0:\n",
    "                print(num)\n",
    "\n",
    "    def galleries(self):\n",
    "        for l_gallery in self.legacy.galleries:\n",
    "            kwargs = {k: v for k, v in l_gallery.items() if k != \"user_id\"}\n",
    "            gallery = Gallery(**kwargs)\n",
    "            gallery.save()\n",
    "\n",
    "    def gallery_image_links(self):\n",
    "        links = [\n",
    "            (gi[\"id\"], gi[\"gallery_id\"], gi[\"image_id\"])\n",
    "            for gi in self.legacy.gallery_images\n",
    "        ]\n",
    "        stmt = \"insert into cast_gallery_images (id, gallery_id, image_id) values (%s, %s, %s)\"\n",
    "        with connections[\"default\"].cursor() as cursor:\n",
    "            cursor.executemany(stmt, links)\n",
    "\n",
    "    def videos(self):\n",
    "        for num, video in enumerate(self.legacy.videos):\n",
    "            upload_user = self.user_lookup[video[\"user_id\"]]\n",
    "            # poster = Image(file=video[\"poster\"], uploaded_by_user=upload_user)\n",
    "            # poster.save()\n",
    "            video = Video(\n",
    "                pk=video[\"id\"],\n",
    "                title=Path(video[\"original\"]).name,\n",
    "                user=upload_user,\n",
    "                poster=video[\"poster\"],\n",
    "                poster_seconds=video[\"poster_seconds\"],\n",
    "                original=video[\"original\"],\n",
    "                created=video[\"created\"],\n",
    "                modified=video[\"modified\"],\n",
    "            )\n",
    "            video.save(poster=False)\n",
    "            if num % 10 == 0:\n",
    "                print(num)\n",
    "\n",
    "    def convert(self):\n",
    "        self.user_lookup = self.users()\n",
    "        self.blog_lookup = self.blogs()\n",
    "        # self.images()\n",
    "        # self.galleries()\n",
    "        # self.gallery_image_links()\n",
    "        self.videos()"
   ]
  },
  {
   "cell_type": "code",
   "execution_count": 6,
   "id": "17166087-09d4-41a0-8d3e-d080c109e417",
   "metadata": {},
   "outputs": [],
   "source": [
    "converter = Converter(Legacy())"
   ]
  },
  {
   "cell_type": "code",
   "execution_count": 7,
   "id": "7674db95-3a25-4a3d-b256-00a4b8f28bb4",
   "metadata": {},
   "outputs": [
    {
     "data": {
      "text/plain": [
       "128"
      ]
     },
     "execution_count": 7,
     "metadata": {},
     "output_type": "execute_result"
    }
   ],
   "source": [
    "len(converter.legacy.videos)"
   ]
  },
  {
   "cell_type": "code",
   "execution_count": 8,
   "id": "2f09f5d8-3340-4f0d-959b-6d15bd80b1cf",
   "metadata": {},
   "outputs": [
    {
     "data": {
      "text/html": [
       "<pre style=\"white-space:pre;overflow-x:auto;line-height:normal;font-family:Menlo,'DejaVu Sans Mono',consolas,'Courier New',monospace\"><span style=\"color: #008080; text-decoration-color: #008080; font-weight: bold\">0</span>\n",
       "</pre>\n"
      ],
      "text/plain": [
       "\u001b[1;36m0\u001b[0m\n"
      ]
     },
     "metadata": {},
     "output_type": "display_data"
    },
    {
     "data": {
      "text/html": [
       "<pre style=\"white-space:pre;overflow-x:auto;line-height:normal;font-family:Menlo,'DejaVu Sans Mono',consolas,'Courier New',monospace\"><span style=\"color: #008080; text-decoration-color: #008080; font-weight: bold\">10</span>\n",
       "</pre>\n"
      ],
      "text/plain": [
       "\u001b[1;36m10\u001b[0m\n"
      ]
     },
     "metadata": {},
     "output_type": "display_data"
    },
    {
     "data": {
      "text/html": [
       "<pre style=\"white-space:pre;overflow-x:auto;line-height:normal;font-family:Menlo,'DejaVu Sans Mono',consolas,'Courier New',monospace\"><span style=\"color: #008080; text-decoration-color: #008080; font-weight: bold\">20</span>\n",
       "</pre>\n"
      ],
      "text/plain": [
       "\u001b[1;36m20\u001b[0m\n"
      ]
     },
     "metadata": {},
     "output_type": "display_data"
    },
    {
     "data": {
      "text/html": [
       "<pre style=\"white-space:pre;overflow-x:auto;line-height:normal;font-family:Menlo,'DejaVu Sans Mono',consolas,'Courier New',monospace\"><span style=\"color: #008080; text-decoration-color: #008080; font-weight: bold\">30</span>\n",
       "</pre>\n"
      ],
      "text/plain": [
       "\u001b[1;36m30\u001b[0m\n"
      ]
     },
     "metadata": {},
     "output_type": "display_data"
    },
    {
     "data": {
      "text/html": [
       "<pre style=\"white-space:pre;overflow-x:auto;line-height:normal;font-family:Menlo,'DejaVu Sans Mono',consolas,'Courier New',monospace\"><span style=\"color: #008080; text-decoration-color: #008080; font-weight: bold\">40</span>\n",
       "</pre>\n"
      ],
      "text/plain": [
       "\u001b[1;36m40\u001b[0m\n"
      ]
     },
     "metadata": {},
     "output_type": "display_data"
    },
    {
     "data": {
      "text/html": [
       "<pre style=\"white-space:pre;overflow-x:auto;line-height:normal;font-family:Menlo,'DejaVu Sans Mono',consolas,'Courier New',monospace\"><span style=\"color: #008080; text-decoration-color: #008080; font-weight: bold\">50</span>\n",
       "</pre>\n"
      ],
      "text/plain": [
       "\u001b[1;36m50\u001b[0m\n"
      ]
     },
     "metadata": {},
     "output_type": "display_data"
    },
    {
     "data": {
      "text/html": [
       "<pre style=\"white-space:pre;overflow-x:auto;line-height:normal;font-family:Menlo,'DejaVu Sans Mono',consolas,'Courier New',monospace\"><span style=\"color: #008080; text-decoration-color: #008080; font-weight: bold\">60</span>\n",
       "</pre>\n"
      ],
      "text/plain": [
       "\u001b[1;36m60\u001b[0m\n"
      ]
     },
     "metadata": {},
     "output_type": "display_data"
    },
    {
     "data": {
      "text/html": [
       "<pre style=\"white-space:pre;overflow-x:auto;line-height:normal;font-family:Menlo,'DejaVu Sans Mono',consolas,'Courier New',monospace\"><span style=\"color: #008080; text-decoration-color: #008080; font-weight: bold\">70</span>\n",
       "</pre>\n"
      ],
      "text/plain": [
       "\u001b[1;36m70\u001b[0m\n"
      ]
     },
     "metadata": {},
     "output_type": "display_data"
    },
    {
     "data": {
      "text/html": [
       "<pre style=\"white-space:pre;overflow-x:auto;line-height:normal;font-family:Menlo,'DejaVu Sans Mono',consolas,'Courier New',monospace\"><span style=\"color: #008080; text-decoration-color: #008080; font-weight: bold\">80</span>\n",
       "</pre>\n"
      ],
      "text/plain": [
       "\u001b[1;36m80\u001b[0m\n"
      ]
     },
     "metadata": {},
     "output_type": "display_data"
    },
    {
     "data": {
      "text/html": [
       "<pre style=\"white-space:pre;overflow-x:auto;line-height:normal;font-family:Menlo,'DejaVu Sans Mono',consolas,'Courier New',monospace\"><span style=\"color: #008080; text-decoration-color: #008080; font-weight: bold\">90</span>\n",
       "</pre>\n"
      ],
      "text/plain": [
       "\u001b[1;36m90\u001b[0m\n"
      ]
     },
     "metadata": {},
     "output_type": "display_data"
    },
    {
     "data": {
      "text/html": [
       "<pre style=\"white-space:pre;overflow-x:auto;line-height:normal;font-family:Menlo,'DejaVu Sans Mono',consolas,'Courier New',monospace\"><span style=\"color: #008080; text-decoration-color: #008080; font-weight: bold\">100</span>\n",
       "</pre>\n"
      ],
      "text/plain": [
       "\u001b[1;36m100\u001b[0m\n"
      ]
     },
     "metadata": {},
     "output_type": "display_data"
    },
    {
     "data": {
      "text/html": [
       "<pre style=\"white-space:pre;overflow-x:auto;line-height:normal;font-family:Menlo,'DejaVu Sans Mono',consolas,'Courier New',monospace\"><span style=\"color: #008080; text-decoration-color: #008080; font-weight: bold\">110</span>\n",
       "</pre>\n"
      ],
      "text/plain": [
       "\u001b[1;36m110\u001b[0m\n"
      ]
     },
     "metadata": {},
     "output_type": "display_data"
    },
    {
     "data": {
      "text/html": [
       "<pre style=\"white-space:pre;overflow-x:auto;line-height:normal;font-family:Menlo,'DejaVu Sans Mono',consolas,'Courier New',monospace\"><span style=\"color: #008080; text-decoration-color: #008080; font-weight: bold\">120</span>\n",
       "</pre>\n"
      ],
      "text/plain": [
       "\u001b[1;36m120\u001b[0m\n"
      ]
     },
     "metadata": {},
     "output_type": "display_data"
    },
    {
     "name": "stdout",
     "output_type": "stream",
     "text": [
      "CPU times: user 1.45 s, sys: 1.16 s, total: 2.61 s\n",
      "Wall time: 828 ms\n"
     ]
    }
   ],
   "source": [
    "%%time\n",
    "converter.convert()"
   ]
  },
  {
   "cell_type": "code",
   "execution_count": 10,
   "id": "41530354-78cd-4763-9e14-5217b2b35e0c",
   "metadata": {},
   "outputs": [
    {
     "data": {
      "text/plain": [
       "'https://d2b7dn9rofvhjd.cloudfront.net/blogs_videos/testvideo.mp4'"
      ]
     },
     "execution_count": 10,
     "metadata": {},
     "output_type": "execute_result"
    }
   ],
   "source": [
    "video = Video.objects.get(pk=1)\n",
    "video.original.url"
   ]
  },
  {
   "cell_type": "code",
   "execution_count": 18,
   "id": "1c37f71b-5ed3-4bbe-8637-3b687edf6966",
   "metadata": {},
   "outputs": [
    {
     "data": {
      "text/plain": [
       "'https://d2b7dn9rofvhjd.cloudfront.net/blogs_videos/poster/poster_6wrvgvwm.jpg'"
      ]
     },
     "execution_count": 18,
     "metadata": {},
     "output_type": "execute_result"
    }
   ],
   "source": [
    "video.poster.url"
   ]
  },
  {
   "cell_type": "code",
   "execution_count": 34,
   "id": "7ef2e381-887f-4e15-8cfa-15589a46fc13",
   "metadata": {},
   "outputs": [
    {
     "data": {
      "text/html": [
       "<pre style=\"white-space:pre;overflow-x:auto;line-height:normal;font-family:Menlo,'DejaVu Sans Mono',consolas,'Courier New',monospace\"><span style=\"font-weight: bold\">[</span>\n",
       "    <span style=\"font-weight: bold\">{</span>\n",
       "        <span style=\"color: #008000; text-decoration-color: #008000\">'type'</span>: <span style=\"color: #008000; text-decoration-color: #008000\">'overview'</span>,\n",
       "        <span style=\"color: #008000; text-decoration-color: #008000\">'value'</span>: <span style=\"font-weight: bold\">[</span>\n",
       "            <span style=\"font-weight: bold\">{</span><span style=\"color: #008000; text-decoration-color: #008000\">'type'</span>: <span style=\"color: #008000; text-decoration-color: #008000\">'heading'</span>, <span style=\"color: #008000; text-decoration-color: #008000\">'value'</span>: <span style=\"color: #008000; text-decoration-color: #008000\">'Eine Überschrift'</span>, <span style=\"color: #008000; text-decoration-color: #008000\">'id'</span>: <span style=\"color: #008000; text-decoration-color: #008000\">'58378935-196d-4396-a23e-2bc1c9cbc0f3'</span><span style=\"font-weight: bold\">}</span>,\n",
       "            <span style=\"font-weight: bold\">{</span>\n",
       "                <span style=\"color: #008000; text-decoration-color: #008000\">'type'</span>: <span style=\"color: #008000; text-decoration-color: #008000\">'paragraph'</span>,\n",
       "                <span style=\"color: #008000; text-decoration-color: #008000\">'value'</span>: <span style=\"color: #008000; text-decoration-color: #008000\">'&lt;p data-block-key=\"anlsf\"&gt;Ein bisschen Text. Angeblich geht hier auch RichText. Hmm, wäre</span>\n",
       "<span style=\"color: #008000; text-decoration-color: #008000\">das dann eine Überschrift?&lt;/p&gt;&lt;p data-block-key=\"r0vs\"&gt;&lt;/p&gt;&lt;p data-block-key=\"7pj4l\"&gt;&lt;a </span>\n",
       "<span style=\"color: #008000; text-decoration-color: #008000\">href=\"http://wersdoerfer.de\"&gt;wersdoerfer&lt;/a&gt;Aha!&lt;/p&gt;&lt;p data-block-key=\"bivd5\"&gt;&lt;/p&gt;&lt;h2 </span>\n",
       "<span style=\"color: #008000; text-decoration-color: #008000\">data-block-key=\"6vmjl\"&gt;Heading 2&lt;/h2&gt;'</span>,\n",
       "                <span style=\"color: #008000; text-decoration-color: #008000\">'id'</span>: <span style=\"color: #008000; text-decoration-color: #008000\">'9279543d-88aa-4be3-a12c-952ebe6966c0'</span>\n",
       "            <span style=\"font-weight: bold\">}</span>\n",
       "        <span style=\"font-weight: bold\">]</span>,\n",
       "        <span style=\"color: #008000; text-decoration-color: #008000\">'id'</span>: <span style=\"color: #008000; text-decoration-color: #008000\">'bdab0f1c-c164-417b-879d-d4c6583c4c6c'</span>\n",
       "    <span style=\"font-weight: bold\">}</span>,\n",
       "    <span style=\"font-weight: bold\">{</span>\n",
       "        <span style=\"color: #008000; text-decoration-color: #008000\">'type'</span>: <span style=\"color: #008000; text-decoration-color: #008000\">'detail'</span>,\n",
       "        <span style=\"color: #008000; text-decoration-color: #008000\">'value'</span>: <span style=\"font-weight: bold\">[</span>\n",
       "            <span style=\"font-weight: bold\">{</span><span style=\"color: #008000; text-decoration-color: #008000\">'type'</span>: <span style=\"color: #008000; text-decoration-color: #008000\">'heading'</span>, <span style=\"color: #008000; text-decoration-color: #008000\">'value'</span>: <span style=\"color: #008000; text-decoration-color: #008000\">'Detail Überschrift'</span>, <span style=\"color: #008000; text-decoration-color: #008000\">'id'</span>: <span style=\"color: #008000; text-decoration-color: #008000\">'d7cbf386-58af-4ba6-bf7b-091e2304578a'</span><span style=\"font-weight: bold\">}</span>,\n",
       "            <span style=\"font-weight: bold\">{</span>\n",
       "                <span style=\"color: #008000; text-decoration-color: #008000\">'type'</span>: <span style=\"color: #008000; text-decoration-color: #008000\">'paragraph'</span>,\n",
       "                <span style=\"color: #008000; text-decoration-color: #008000\">'value'</span>: <span style=\"color: #008000; text-decoration-color: #008000\">'&lt;p data-block-key=\"g3l0n\"&gt;Noch ein bisschen Text :)&lt;/p&gt;'</span>,\n",
       "                <span style=\"color: #008000; text-decoration-color: #008000\">'id'</span>: <span style=\"color: #008000; text-decoration-color: #008000\">'f43fc4f3-f34f-4506-9a23-1ef4564de0e7'</span>\n",
       "            <span style=\"font-weight: bold\">}</span>,\n",
       "            <span style=\"font-weight: bold\">{</span><span style=\"color: #008000; text-decoration-color: #008000\">'type'</span>: <span style=\"color: #008000; text-decoration-color: #008000\">'image'</span>, <span style=\"color: #008000; text-decoration-color: #008000\">'value'</span>: <span style=\"color: #008080; text-decoration-color: #008080; font-weight: bold\">4</span>, <span style=\"color: #008000; text-decoration-color: #008000\">'id'</span>: <span style=\"color: #008000; text-decoration-color: #008000\">'45993490-7907-4d11-ac90-35bbe87f81ee'</span><span style=\"font-weight: bold\">}</span>\n",
       "        <span style=\"font-weight: bold\">]</span>,\n",
       "        <span style=\"color: #008000; text-decoration-color: #008000\">'id'</span>: <span style=\"color: #008000; text-decoration-color: #008000\">'6e18b320-7cfa-4255-9226-35b52b93aaac'</span>\n",
       "    <span style=\"font-weight: bold\">}</span>\n",
       "<span style=\"font-weight: bold\">]</span>\n",
       "</pre>\n"
      ],
      "text/plain": [
       "\u001b[1m[\u001b[0m\n",
       "    \u001b[1m{\u001b[0m\n",
       "        \u001b[32m'type'\u001b[0m: \u001b[32m'overview'\u001b[0m,\n",
       "        \u001b[32m'value'\u001b[0m: \u001b[1m[\u001b[0m\n",
       "            \u001b[1m{\u001b[0m\u001b[32m'type'\u001b[0m: \u001b[32m'heading'\u001b[0m, \u001b[32m'value'\u001b[0m: \u001b[32m'Eine Überschrift'\u001b[0m, \u001b[32m'id'\u001b[0m: \u001b[32m'58378935-196d-4396-a23e-2bc1c9cbc0f3'\u001b[0m\u001b[1m}\u001b[0m,\n",
       "            \u001b[1m{\u001b[0m\n",
       "                \u001b[32m'type'\u001b[0m: \u001b[32m'paragraph'\u001b[0m,\n",
       "                \u001b[32m'value'\u001b[0m: \u001b[32m'\u001b[0m\u001b[32m<\u001b[0m\u001b[32mp\u001b[0m\u001b[32m data-block-\u001b[0m\u001b[32mkey\u001b[0m\u001b[32m=\u001b[0m\u001b[32m\"anlsf\"\u001b[0m\u001b[32m>\u001b[0m\u001b[32mEin bisschen Text. Angeblich geht hier auch RichText. Hmm, wäre\u001b[0m\n",
       "\u001b[32mdas dann eine Überschrift?\u001b[0m\u001b[32m<\u001b[0m\u001b[32m/p\u001b[0m\u001b[32m>\u001b[0m\u001b[32m<\u001b[0m\u001b[32mp\u001b[0m\u001b[32m data-block-\u001b[0m\u001b[32mkey\u001b[0m\u001b[32m=\u001b[0m\u001b[32m\"r0vs\"\u001b[0m\u001b[32m>\u001b[0m\u001b[32m<\u001b[0m\u001b[32m/p\u001b[0m\u001b[32m>\u001b[0m\u001b[32m<\u001b[0m\u001b[32mp\u001b[0m\u001b[32m data-block-\u001b[0m\u001b[32mkey\u001b[0m\u001b[32m=\u001b[0m\u001b[32m\"7pj4l\"\u001b[0m\u001b[32m>\u001b[0m\u001b[32m<\u001b[0m\u001b[32ma\u001b[0m\u001b[32m \u001b[0m\n",
       "\u001b[32mhref\u001b[0m\u001b[32m=\u001b[0m\u001b[32m\"http\u001b[0m\u001b[32m://wersdoerfer.de\"\u001b[0m\u001b[32m>\u001b[0m\u001b[32mwersdoerfer\u001b[0m\u001b[32m<\u001b[0m\u001b[32m/a\u001b[0m\u001b[32m>\u001b[0m\u001b[32mAha!\u001b[0m\u001b[32m<\u001b[0m\u001b[32m/p\u001b[0m\u001b[32m>\u001b[0m\u001b[32m<\u001b[0m\u001b[32mp\u001b[0m\u001b[32m data-block-\u001b[0m\u001b[32mkey\u001b[0m\u001b[32m=\u001b[0m\u001b[32m\"bivd5\"\u001b[0m\u001b[32m>\u001b[0m\u001b[32m<\u001b[0m\u001b[32m/p\u001b[0m\u001b[32m>\u001b[0m\u001b[32m<\u001b[0m\u001b[32mh2\u001b[0m\u001b[32m \u001b[0m\n",
       "\u001b[32mdata-block-\u001b[0m\u001b[32mkey\u001b[0m\u001b[32m=\u001b[0m\u001b[32m\"6vmjl\"\u001b[0m\u001b[32m>\u001b[0m\u001b[32mHeading 2\u001b[0m\u001b[32m<\u001b[0m\u001b[32m/h2\u001b[0m\u001b[32m>\u001b[0m\u001b[32m'\u001b[0m,\n",
       "                \u001b[32m'id'\u001b[0m: \u001b[32m'9279543d-88aa-4be3-a12c-952ebe6966c0'\u001b[0m\n",
       "            \u001b[1m}\u001b[0m\n",
       "        \u001b[1m]\u001b[0m,\n",
       "        \u001b[32m'id'\u001b[0m: \u001b[32m'bdab0f1c-c164-417b-879d-d4c6583c4c6c'\u001b[0m\n",
       "    \u001b[1m}\u001b[0m,\n",
       "    \u001b[1m{\u001b[0m\n",
       "        \u001b[32m'type'\u001b[0m: \u001b[32m'detail'\u001b[0m,\n",
       "        \u001b[32m'value'\u001b[0m: \u001b[1m[\u001b[0m\n",
       "            \u001b[1m{\u001b[0m\u001b[32m'type'\u001b[0m: \u001b[32m'heading'\u001b[0m, \u001b[32m'value'\u001b[0m: \u001b[32m'Detail Überschrift'\u001b[0m, \u001b[32m'id'\u001b[0m: \u001b[32m'd7cbf386-58af-4ba6-bf7b-091e2304578a'\u001b[0m\u001b[1m}\u001b[0m,\n",
       "            \u001b[1m{\u001b[0m\n",
       "                \u001b[32m'type'\u001b[0m: \u001b[32m'paragraph'\u001b[0m,\n",
       "                \u001b[32m'value'\u001b[0m: \u001b[32m'\u001b[0m\u001b[32m<\u001b[0m\u001b[32mp\u001b[0m\u001b[32m data-block-\u001b[0m\u001b[32mkey\u001b[0m\u001b[32m=\u001b[0m\u001b[32m\"g3l0n\"\u001b[0m\u001b[32m>\u001b[0m\u001b[32mNoch ein bisschen Text :\u001b[0m\u001b[32m)\u001b[0m\u001b[32m<\u001b[0m\u001b[32m/p\u001b[0m\u001b[32m>\u001b[0m\u001b[32m'\u001b[0m,\n",
       "                \u001b[32m'id'\u001b[0m: \u001b[32m'f43fc4f3-f34f-4506-9a23-1ef4564de0e7'\u001b[0m\n",
       "            \u001b[1m}\u001b[0m,\n",
       "            \u001b[1m{\u001b[0m\u001b[32m'type'\u001b[0m: \u001b[32m'image'\u001b[0m, \u001b[32m'value'\u001b[0m: \u001b[1;36m4\u001b[0m, \u001b[32m'id'\u001b[0m: \u001b[32m'45993490-7907-4d11-ac90-35bbe87f81ee'\u001b[0m\u001b[1m}\u001b[0m\n",
       "        \u001b[1m]\u001b[0m,\n",
       "        \u001b[32m'id'\u001b[0m: \u001b[32m'6e18b320-7cfa-4255-9226-35b52b93aaac'\u001b[0m\n",
       "    \u001b[1m}\u001b[0m\n",
       "\u001b[1m]\u001b[0m\n"
      ]
     },
     "metadata": {},
     "output_type": "display_data"
    }
   ],
   "source": [
    "#post = Post.objects.first()\n",
    "#print(post.body._raw_data)"
   ]
  },
  {
   "cell_type": "markdown",
   "id": "1514db1a-bbd1-4e07-a4ab-0630544b157b",
   "metadata": {},
   "source": [
    "# Migrate Posts"
   ]
  },
  {
   "cell_type": "code",
   "execution_count": 13,
   "id": "00c6afc7-71dc-45f6-b796-87e4ca967a91",
   "metadata": {},
   "outputs": [],
   "source": [
    "def is_tag(text):\n",
    "    return text.startswith(\"{%\") and text.endswith(\"%}\")\n",
    "\n",
    "\n",
    "def tag_to_block(tag):\n",
    "    tag_name, tag_id = tag.strip(\"{%\").strip(\"%}\").split()\n",
    "    tag_id = int(tag_id)\n",
    "    if tag_name == \"gallery\":\n",
    "        image_blocks = []\n",
    "        for image in Gallery.objects.get(pk=tag_id).images.all():\n",
    "            image_blocks.append({\"type\": \"item\", \"value\": image.pk, \"id\": str(uuid4())})\n",
    "        return {\"type\": tag_name, \"value\": image_blocks}\n",
    "    return {\"type\": tag_name, \"value\": tag_id}\n",
    "\n",
    "\n",
    "def content_to_streamfield(content):\n",
    "    blocks = overview = []\n",
    "    just_tag = re.compile(r\"({% \\w+ \\d+ %})\")\n",
    "    for part in just_tag.split(content):\n",
    "        if len(part) == 0:\n",
    "            continue\n",
    "        if is_tag(part):\n",
    "            blocks.append(tag_to_block(part))\n",
    "        else:\n",
    "            blocks.append({\"type\": \"paragraph\", \"value\": part})\n",
    "    return [{\"type\": \"overview\", \"value\": overview}]\n",
    "\n",
    "\n",
    "def build_post_from_legacy(legacy):\n",
    "    # post = Post(title=legacy[\"title\"], visible_date=legacy[\"visible_date\"])\n",
    "    kwargs = {\n",
    "        k: v\n",
    "        for k, v in legacy.items()\n",
    "        if k not in [\"content\", \"author_id\", \"blog_id\", \"id\"]\n",
    "    }\n",
    "    kwargs[\"content_type\"] = ContentType.objects.get(app_label=\"cast\", model=\"post\")\n",
    "    # print(kwargs)\n",
    "    post = Post(**kwargs)\n",
    "    raw_body = content_to_streamfield(legacy[\"content\"])\n",
    "    post.body = json.dumps(raw_body)\n",
    "    return post"
   ]
  },
  {
   "cell_type": "code",
   "execution_count": 9,
   "id": "c0a95386-3ce4-4cda-a898-c04f5622eac6",
   "metadata": {},
   "outputs": [],
   "source": [
    "legacy_post_lookup = {p[\"id\"]: p for p in converter.legacy.posts}"
   ]
  },
  {
   "cell_type": "code",
   "execution_count": 13,
   "id": "205a246d-19ee-4622-bb61-bd9277ed98b6",
   "metadata": {},
   "outputs": [],
   "source": [
    "# for lpost in legacy_post_lookup.values():\n",
    "#     if \"video\" in lpost[\"content\"] and lpost[\"blog_id\"] == 1:\n",
    "#         print(lpost)"
   ]
  },
  {
   "cell_type": "code",
   "execution_count": 14,
   "id": "78771733-cb57-4de6-8064-7e681e7ffaf2",
   "metadata": {},
   "outputs": [],
   "source": [
    "blog = Page.objects.get(slug=\"ephes_blog\")\n",
    "legacy_post_lookup = {p[\"id\"]: p for p in converter.legacy.posts}\n",
    "# for p_id in (332, 333):\n",
    "for p_id in (9,):\n",
    "    l_post = legacy_post_lookup[p_id]\n",
    "    post = build_post_from_legacy(l_post)\n",
    "    post = blog.add_child(instance=post)"
   ]
  },
  {
   "cell_type": "code",
   "execution_count": 18,
   "id": "eac5e9bb-c21e-4069-9faf-b8c8c111db7a",
   "metadata": {},
   "outputs": [],
   "source": [
    "[l_post] = [p for p in converter.legacy.posts if p[\"id\"] == 333]"
   ]
  },
  {
   "cell_type": "code",
   "execution_count": 19,
   "id": "1f431750-de6a-4be2-bc4d-f7a168561c98",
   "metadata": {},
   "outputs": [
    {
     "data": {
      "text/html": [
       "<pre style=\"white-space:pre;overflow-x:auto;line-height:normal;font-family:Menlo,'DejaVu Sans Mono',consolas,'Courier New',monospace\"><span style=\"font-weight: bold\">{</span>\n",
       "    <span style=\"color: #008000; text-decoration-color: #008000\">'created'</span>: <span style=\"color: #800080; text-decoration-color: #800080; font-weight: bold\">datetime.datetime</span><span style=\"font-weight: bold\">(</span><span style=\"color: #008080; text-decoration-color: #008080; font-weight: bold\">2022</span>, <span style=\"color: #008080; text-decoration-color: #008080; font-weight: bold\">11</span>, <span style=\"color: #008080; text-decoration-color: #008080; font-weight: bold\">2</span>, <span style=\"color: #008080; text-decoration-color: #008080; font-weight: bold\">5</span>, <span style=\"color: #008080; text-decoration-color: #008080; font-weight: bold\">32</span>, <span style=\"color: #008080; text-decoration-color: #008080; font-weight: bold\">58</span>, <span style=\"color: #008080; text-decoration-color: #008080; font-weight: bold\">340726</span>, <span style=\"color: #808000; text-decoration-color: #808000\">tzinfo</span>=<span style=\"color: #800080; text-decoration-color: #800080\">datetime</span>.timezone.utc<span style=\"font-weight: bold\">)</span>,\n",
       "    <span style=\"color: #008000; text-decoration-color: #008000\">'modified'</span>: <span style=\"color: #800080; text-decoration-color: #800080; font-weight: bold\">datetime.datetime</span><span style=\"font-weight: bold\">(</span><span style=\"color: #008080; text-decoration-color: #008080; font-weight: bold\">2022</span>, <span style=\"color: #008080; text-decoration-color: #008080; font-weight: bold\">11</span>, <span style=\"color: #008080; text-decoration-color: #008080; font-weight: bold\">7</span>, <span style=\"color: #008080; text-decoration-color: #008080; font-weight: bold\">13</span>, <span style=\"color: #008080; text-decoration-color: #008080; font-weight: bold\">4</span>, <span style=\"color: #008080; text-decoration-color: #008080; font-weight: bold\">8</span>, <span style=\"color: #008080; text-decoration-color: #008080; font-weight: bold\">395874</span>, <span style=\"color: #808000; text-decoration-color: #808000\">tzinfo</span>=<span style=\"color: #800080; text-decoration-color: #800080\">datetime</span>.timezone.utc<span style=\"font-weight: bold\">)</span>,\n",
       "    <span style=\"color: #008000; text-decoration-color: #008000\">'title'</span>: <span style=\"color: #008000; text-decoration-color: #008000\">'Weeknotes 2022-11-07'</span>,\n",
       "    <span style=\"color: #008000; text-decoration-color: #008000\">'pub_date'</span>: <span style=\"color: #800080; text-decoration-color: #800080; font-weight: bold\">datetime.datetime</span><span style=\"font-weight: bold\">(</span><span style=\"color: #008080; text-decoration-color: #008080; font-weight: bold\">2022</span>, <span style=\"color: #008080; text-decoration-color: #008080; font-weight: bold\">11</span>, <span style=\"color: #008080; text-decoration-color: #008080; font-weight: bold\">7</span>, <span style=\"color: #008080; text-decoration-color: #008080; font-weight: bold\">13</span>, <span style=\"color: #008080; text-decoration-color: #008080; font-weight: bold\">4</span>, <span style=\"color: #008080; text-decoration-color: #008080; font-weight: bold\">8</span>, <span style=\"color: #008080; text-decoration-color: #008080; font-weight: bold\">393468</span>, <span style=\"color: #808000; text-decoration-color: #808000\">tzinfo</span>=<span style=\"color: #800080; text-decoration-color: #800080\">datetime</span>.timezone.utc<span style=\"font-weight: bold\">)</span>,\n",
       "    <span style=\"color: #008000; text-decoration-color: #008000\">'visible_date'</span>: <span style=\"color: #800080; text-decoration-color: #800080; font-weight: bold\">datetime.datetime</span><span style=\"font-weight: bold\">(</span><span style=\"color: #008080; text-decoration-color: #008080; font-weight: bold\">2022</span>, <span style=\"color: #008080; text-decoration-color: #008080; font-weight: bold\">11</span>, <span style=\"color: #008080; text-decoration-color: #008080; font-weight: bold\">7</span>, <span style=\"color: #008080; text-decoration-color: #008080; font-weight: bold\">0</span>, <span style=\"color: #008080; text-decoration-color: #008080; font-weight: bold\">0</span>, <span style=\"color: #808000; text-decoration-color: #808000\">tzinfo</span>=<span style=\"color: #800080; text-decoration-color: #800080\">datetime</span>.timezone.utc<span style=\"font-weight: bold\">)</span>,\n",
       "    <span style=\"color: #008000; text-decoration-color: #008000\">'slug'</span>: <span style=\"color: #008000; text-decoration-color: #008000\">'weeknotes-2022-11-07'</span>,\n",
       "    <span style=\"color: #008000; text-decoration-color: #008000\">'podcast_audio_id'</span>: <span style=\"color: #800080; text-decoration-color: #800080; font-style: italic\">None</span>,\n",
       "    <span style=\"color: #008000; text-decoration-color: #008000\">'uuid'</span>: <span style=\"color: #800080; text-decoration-color: #800080; font-weight: bold\">UUID</span><span style=\"font-weight: bold\">(</span><span style=\"color: #008000; text-decoration-color: #008000\">'d402a42d-a599-4dad-b212-2f56b15b1ab5'</span><span style=\"font-weight: bold\">)</span>,\n",
       "    <span style=\"color: #008000; text-decoration-color: #008000\">'keywords'</span>: <span style=\"color: #008000; text-decoration-color: #008000\">''</span>,\n",
       "    <span style=\"color: #008000; text-decoration-color: #008000\">'explicit'</span>: <span style=\"color: #008080; text-decoration-color: #008080; font-weight: bold\">1</span>,\n",
       "    <span style=\"color: #008000; text-decoration-color: #008000\">'block'</span>: <span style=\"color: #ff0000; text-decoration-color: #ff0000; font-style: italic\">False</span>,\n",
       "    <span style=\"color: #008000; text-decoration-color: #008000\">'comments_enabled'</span>: <span style=\"color: #00ff00; text-decoration-color: #00ff00; font-style: italic\">True</span>,\n",
       "    <span style=\"color: #008000; text-decoration-color: #008000\">'content_type'</span>: <span style=\"font-weight: bold\">&lt;</span><span style=\"color: #ff00ff; text-decoration-color: #ff00ff; font-weight: bold\">ContentType:</span><span style=\"color: #000000; text-decoration-color: #000000\"> cast | post</span><span style=\"font-weight: bold\">&gt;</span>\n",
       "<span style=\"font-weight: bold\">}</span>\n",
       "</pre>\n"
      ],
      "text/plain": [
       "\u001b[1m{\u001b[0m\n",
       "    \u001b[32m'created'\u001b[0m: \u001b[1;35mdatetime.datetime\u001b[0m\u001b[1m(\u001b[0m\u001b[1;36m2022\u001b[0m, \u001b[1;36m11\u001b[0m, \u001b[1;36m2\u001b[0m, \u001b[1;36m5\u001b[0m, \u001b[1;36m32\u001b[0m, \u001b[1;36m58\u001b[0m, \u001b[1;36m340726\u001b[0m, \u001b[33mtzinfo\u001b[0m=\u001b[35mdatetime\u001b[0m.timezone.utc\u001b[1m)\u001b[0m,\n",
       "    \u001b[32m'modified'\u001b[0m: \u001b[1;35mdatetime.datetime\u001b[0m\u001b[1m(\u001b[0m\u001b[1;36m2022\u001b[0m, \u001b[1;36m11\u001b[0m, \u001b[1;36m7\u001b[0m, \u001b[1;36m13\u001b[0m, \u001b[1;36m4\u001b[0m, \u001b[1;36m8\u001b[0m, \u001b[1;36m395874\u001b[0m, \u001b[33mtzinfo\u001b[0m=\u001b[35mdatetime\u001b[0m.timezone.utc\u001b[1m)\u001b[0m,\n",
       "    \u001b[32m'title'\u001b[0m: \u001b[32m'Weeknotes 2022-11-07'\u001b[0m,\n",
       "    \u001b[32m'pub_date'\u001b[0m: \u001b[1;35mdatetime.datetime\u001b[0m\u001b[1m(\u001b[0m\u001b[1;36m2022\u001b[0m, \u001b[1;36m11\u001b[0m, \u001b[1;36m7\u001b[0m, \u001b[1;36m13\u001b[0m, \u001b[1;36m4\u001b[0m, \u001b[1;36m8\u001b[0m, \u001b[1;36m393468\u001b[0m, \u001b[33mtzinfo\u001b[0m=\u001b[35mdatetime\u001b[0m.timezone.utc\u001b[1m)\u001b[0m,\n",
       "    \u001b[32m'visible_date'\u001b[0m: \u001b[1;35mdatetime.datetime\u001b[0m\u001b[1m(\u001b[0m\u001b[1;36m2022\u001b[0m, \u001b[1;36m11\u001b[0m, \u001b[1;36m7\u001b[0m, \u001b[1;36m0\u001b[0m, \u001b[1;36m0\u001b[0m, \u001b[33mtzinfo\u001b[0m=\u001b[35mdatetime\u001b[0m.timezone.utc\u001b[1m)\u001b[0m,\n",
       "    \u001b[32m'slug'\u001b[0m: \u001b[32m'weeknotes-2022-11-07'\u001b[0m,\n",
       "    \u001b[32m'podcast_audio_id'\u001b[0m: \u001b[3;35mNone\u001b[0m,\n",
       "    \u001b[32m'uuid'\u001b[0m: \u001b[1;35mUUID\u001b[0m\u001b[1m(\u001b[0m\u001b[32m'd402a42d-a599-4dad-b212-2f56b15b1ab5'\u001b[0m\u001b[1m)\u001b[0m,\n",
       "    \u001b[32m'keywords'\u001b[0m: \u001b[32m''\u001b[0m,\n",
       "    \u001b[32m'explicit'\u001b[0m: \u001b[1;36m1\u001b[0m,\n",
       "    \u001b[32m'block'\u001b[0m: \u001b[3;91mFalse\u001b[0m,\n",
       "    \u001b[32m'comments_enabled'\u001b[0m: \u001b[3;92mTrue\u001b[0m,\n",
       "    \u001b[32m'content_type'\u001b[0m: \u001b[1m<\u001b[0m\u001b[1;95mContentType:\u001b[0m\u001b[39m cast | post\u001b[0m\u001b[1m>\u001b[0m\n",
       "\u001b[1m}\u001b[0m\n"
      ]
     },
     "metadata": {},
     "output_type": "display_data"
    }
   ],
   "source": [
    "post = build_post_from_legacy(l_post)"
   ]
  },
  {
   "cell_type": "code",
   "execution_count": 20,
   "id": "152f3aa1-b8fd-4e5a-ab8d-8787729e8d2f",
   "metadata": {},
   "outputs": [
    {
     "data": {
      "text/html": [
       "<pre style=\"white-space:pre;overflow-x:auto;line-height:normal;font-family:Menlo,'DejaVu Sans Mono',consolas,'Courier New',monospace\"><span style=\"font-weight: bold\">[{</span><span style=\"color: #008000; text-decoration-color: #008000\">'type'</span>: <span style=\"color: #008000; text-decoration-color: #008000\">'overview'</span>, <span style=\"color: #008000; text-decoration-color: #008000\">'value'</span>: <span style=\"font-weight: bold\">[{</span><span style=\"color: #008000; text-decoration-color: #008000\">'type'</span>: <span style=\"color: #008000; text-decoration-color: #008000\">'paragraph'</span>, <span style=\"color: #008000; text-decoration-color: #008000\">'value'</span>: <span style=\"color: #008000; text-decoration-color: #008000\">'&lt;p&gt;Short work week. Gave me time to indulge in </span>\n",
       "<span style=\"color: #008000; text-decoration-color: #008000\">heavy yak shaving. At first, I tried to just make&amp;nbsp;&lt;a </span>\n",
       "<span style=\"color: #008000; text-decoration-color: #008000\">href=\"https://github.com/ephes/django-cast\"&gt;django-cast&lt;/a&gt;&amp;nbsp;(the develop branch) work for newer &lt;a </span>\n",
       "<span style=\"color: #008000; text-decoration-color: #008000\">href=\"https://www.djangoproject.com/\"&gt;Django&lt;/a&gt; and &lt;a href=\"https://wagtail.org/\"&gt;Wagtail&lt;/a&gt; versions. Then I </span>\n",
       "<span style=\"color: #008000; text-decoration-color: #008000\">realized I had to fix&amp;nbsp;&lt;a href=\"http://github.com/ephes/wagtail_srcset/issues/2\"&gt;wagtail-srcset&lt;/a&gt;&amp;nbsp;first </span>\n",
       "<span style=\"color: #008000; text-decoration-color: #008000\">and replaced&amp;nbsp;&lt;a href=\"https://python-poetry.org/\"&gt;poetry&lt;/a&gt;&amp;nbsp;with&amp;nbsp;&lt;a </span>\n",
       "<span style=\"color: #008000; text-decoration-color: #008000\">href=\"https://flit.pypa.io/en/stable/\"&gt;flit&lt;/a&gt;&amp;nbsp;while I&amp;#39;m at it. Then I got lost fixing some stuff </span>\n",
       "<span style=\"color: #008000; text-decoration-color: #008000\">in&amp;nbsp;&lt;a href=\"https://github.com/ephes/kptncook/issues/18\"&gt;kptncook&lt;/a&gt;&amp;nbsp;before I remembered that I have to </span>\n",
       "<span style=\"color: #008000; text-decoration-color: #008000\">also update&amp;nbsp;&lt;a href=\"https://github.com/ephes/django-indieweb\"&gt;django-indieweb&lt;/a&gt;&amp;nbsp;and&amp;nbsp;&lt;a </span>\n",
       "<span style=\"color: #008000; text-decoration-color: #008000\">href=\"https://github.com/ephes/django_fileresponse/tree/main/\"&gt;django-fileresponse&lt;/a&gt;&amp;nbsp;to be able to finally </span>\n",
       "<span style=\"color: #008000; text-decoration-color: #008000\">fix&amp;nbsp;&lt;a href=\"https://github.com/ephes/django-cast\"&gt;django-cast&lt;/a&gt;&amp;nbsp;and make it deployable on my staging </span>\n",
       "<span style=\"color: #008000; text-decoration-color: #008000\">system using the latest and greatest Django and Wagtail versions. Oh and then I fixed some bootstrap stuff in the </span>\n",
       "<span style=\"color: #008000; text-decoration-color: #008000\">commands.py of my &lt;a href=\"https://github.com/ephes/django-template/issues/7\"&gt;Django startproject template&lt;/a&gt;. </span>\n",
       "<span style=\"color: #008000; text-decoration-color: #008000\">Maybe I&amp;#39;ll manage to merge the develop branch of &lt;a </span>\n",
       "<span style=\"color: #008000; text-decoration-color: #008000\">href=\"https://github.com/ephes/django-cast\"&gt;django-cast&lt;/a&gt;&amp;nbsp;back into main soon after develop started to </span>\n",
       "<span style=\"color: #008000; text-decoration-color: #008000\">diverge back in 2019 iirc&amp;nbsp;because I wanted to use Wagtail as a CMS. Looking forward to meet some hairy yaks on</span>\n",
       "<span style=\"color: #008000; text-decoration-color: #008000\">the way.&amp;nbsp;&lt;br /&gt;\\r\\n&amp;nbsp;&lt;/p&gt;\\r\\n\\r\\n&lt;h3&gt;Articles&lt;/h3&gt;\\r\\n\\r\\n&lt;ul&gt;\\r\\n\\t&lt;li&gt;&lt;a </span>\n",
       "<span style=\"color: #008000; text-decoration-color: #008000\">href=\"https://github.com/simonw/simonwillisonblog/issues/290\"&gt;Get a Mastodon instance running #290&lt;/a&gt;&amp;nbsp;| This </span>\n",
       "<span style=\"color: #008000; text-decoration-color: #008000\">yak is looking especially attractive atm&lt;/li&gt;\\r\\n\\t&lt;li&gt;&lt;a </span>\n",
       "<span style=\"color: #008000; text-decoration-color: #008000\">href=\"https://aeracode.org/2022/11/03/static-dynamic-in-memory-sqlite/\"&gt;Static-Dynamic Content With In-Memory </span>\n",
       "<span style=\"color: #008000; text-decoration-color: #008000\">SQLite&lt;/a&gt;&amp;nbsp;| Hmm, cool - but I need to shave my postgres 15 yak first, sorry&lt;/li&gt;\\r\\n\\t&lt;li&gt;&lt;a </span>\n",
       "<span style=\"color: #008000; text-decoration-color: #008000\">href=\"https://fasterthanli.me/articles/becoming-fasterthanlime-full-time\"&gt;Becoming fasterthanlime </span>\n",
       "<span style=\"color: #008000; text-decoration-color: #008000\">full-time&lt;/a&gt;&lt;/li&gt;\\r\\n&lt;/ul&gt;\\r\\n\\r\\n&lt;h3&gt;&lt;br /&gt;\\r\\nTwitter&lt;/h3&gt;\\r\\n\\r\\n&lt;ul&gt;\\r\\n\\t&lt;li&gt;No twitter this week, just </span>\n",
       "<span style=\"color: #008000; text-decoration-color: #008000\">yaks&lt;/li&gt;\\r\\n&lt;/ul&gt;\\r\\n&amp;nbsp;\\r\\n\\r\\n&lt;h3&gt;Weeknotes&lt;/h3&gt;\\r\\n\\r\\n&lt;ul&gt;\\r\\n\\t&lt;li&gt;&lt;a </span>\n",
       "<span style=\"color: #008000; text-decoration-color: #008000\">href=\"https://luisnatera.com/posts/2022/10/2022-10-31-review/\"&gt;Week in Review 2022-10-31&lt;/a&gt;&amp;nbsp;| </span>\n",
       "<span style=\"color: #008000; text-decoration-color: #008000\">Luis&lt;/li&gt;\\r\\n\\t&lt;li&gt;&lt;a href=\"https://shezi.de/weeklogs/log-2022-10-30.html\"&gt;Weeklog for Week 43: October 24 to </span>\n",
       "<span style=\"color: #008000; text-decoration-color: #008000\">October 30&lt;/a&gt;&amp;nbsp;| Johannes&lt;/li&gt;\\r\\n&lt;/ul&gt;\\r\\n&amp;nbsp;\\r\\n\\r\\n&lt;h3&gt;Software&lt;/h3&gt;\\r\\n\\r\\n&lt;ul&gt;\\r\\n\\t&lt;li&gt;&lt;a </span>\n",
       "<span style=\"color: #008000; text-decoration-color: #008000\">href=\"https://github.com/bigskysoftware/htmx/releases/tag/v1.8.4\"&gt;htmx v1.8.4 release&lt;/a&gt;&lt;/li&gt;\\r\\n\\t&lt;li&gt;&lt;a </span>\n",
       "<span style=\"color: #008000; text-decoration-color: #008000\">href=\"https://docs.djangoproject.com/en/4.1/releases/4.1.3/\"&gt;Django 4.1.3 release&lt;/a&gt;&amp;nbsp;| Support for Python </span>\n",
       "<span style=\"color: #008000; text-decoration-color: #008000\">3.11 + some bugfixes&lt;/li&gt;\\r\\n\\t&lt;li&gt;&lt;a </span>\n",
       "<span style=\"color: #008000; text-decoration-color: #008000\">href=\"https://adamj.eu/tech/2022/10/26/django-upgrade-mega-release/\"&gt;django-upgrade Mega Release </span>\n",
       "<span style=\"color: #008000; text-decoration-color: #008000\">1.11.0&lt;/a&gt;&lt;/li&gt;\\r\\n\\t&lt;li&gt;&lt;a href=\"https://web.dev/patterns/components/\"&gt;Component patterns A collection of cross </span>\n",
       "<span style=\"color: #008000; text-decoration-color: #008000\">browser UI components for use in accelerating or inspiring your own design </span>\n",
       "<span style=\"color: #008000; text-decoration-color: #008000\">systems.&lt;/a&gt;&lt;/li&gt;\\r\\n&lt;/ul&gt;\\r\\n\\r\\n&lt;h3&gt;&lt;br /&gt;\\r\\nPodcasts&lt;/h3&gt;\\r\\n\\r\\n&lt;ul&gt;\\r\\n\\t&lt;li&gt;&lt;a </span>\n",
       "<span style=\"color: #008000; text-decoration-color: #008000\">href=\"https://www1.wdr.de/mediathek/audio/wdr5/wdr5-das-philosophische-radio/audio-was-sollte-ihrer-meinung-nach-de</span>\n",
       "<span style=\"color: #008000; text-decoration-color: #008000\">n-kapitalismus-abloesen-100.html\"&gt;Was sollte Ihrer Meinung nach den Kapitalismus abl&amp;ouml;sen?&lt;/a&gt;&amp;nbsp;(&lt;a </span>\n",
       "<span style=\"color: #008000; text-decoration-color: #008000\">href=\"https://www1.wdr.de/radio/wdr5/sendungen/philosophisches-radio/index.html\"&gt;Das philosophische </span>\n",
       "<span style=\"color: #008000; text-decoration-color: #008000\">Radio&lt;/a&gt;)&lt;/li&gt;\\r\\n\\t&lt;li&gt;&lt;a </span>\n",
       "<span style=\"color: #008000; text-decoration-color: #008000\">href=\"https://capitalisnt.simplecast.com/episodes/a-different-story-of-inflation-with-john-cochrane\"&gt;A Different </span>\n",
       "<span style=\"color: #008000; text-decoration-color: #008000\">Story Of Inflation With John Cochrane&lt;/a&gt;&amp;nbsp;(&lt;a href=\"https://capitalisnt.simplecast.com\"&gt;Capitalisn&amp;#39;t&lt;/a&gt;) </span>\n",
       "<span style=\"color: #008000; text-decoration-color: #008000\">| Doh - bonds and cash aren&amp;#39;t the same?&lt;/li&gt;\\r\\n\\t&lt;li&gt;&lt;a </span>\n",
       "<span style=\"color: #008000; text-decoration-color: #008000\">href=\"https://www.datascience.salon/project/episode-27-probabilistic-thinking-with-james-jd-long/\"&gt;Probabilistic </span>\n",
       "<span style=\"color: #008000; text-decoration-color: #008000\">thinking with James &amp;ldquo;JD&amp;rdquo; Long&lt;/a&gt;&amp;nbsp;(&lt;a href=\"https://www.datascience.salon/podcast/\"&gt;Data Science </span>\n",
       "<span style=\"color: #008000; text-decoration-color: #008000\">Salon&lt;/a&gt;) | Very familiar vibes here -&amp;nbsp;I also wonder why people get away that often with publishing just an </span>\n",
       "<span style=\"color: #008000; text-decoration-color: #008000\">accuracy number which is meanlingless in most contexts. On the other hand, I don&amp;#39;t buy the economic arguments </span>\n",
       "<span style=\"color: #008000; text-decoration-color: #008000\">in favor of the cloud: You just have to pay for what you use. Use also have to pay for being able to use the cloud </span>\n",
       "<span style=\"color: #008000; text-decoration-color: #008000\">efficently, you pay for stuff you forgot to turn off and last but not least you pay for not having a competent IT </span>\n",
       "<span style=\"color: #008000; text-decoration-color: #008000\">people and living with grossly inefficient cloud solutions.&lt;/li&gt;\\r\\n\\t&lt;li&gt;&lt;a </span>\n",
       "<span style=\"color: #008000; text-decoration-color: #008000\">href=\"https://djangochat.com/episodes/horserecords-andy-ide\"&gt;HorseRecords - Andy Ide&lt;/a&gt;&amp;nbsp;(&lt;a </span>\n",
       "<span style=\"color: #008000; text-decoration-color: #008000\">href=\"https://djangochat.com\"&gt;Django Chat&lt;/a&gt;) | Hmm, maybe need to take a closer look at&amp;nbsp;&lt;a </span>\n",
       "<span style=\"color: #008000; text-decoration-color: #008000\">href=\"https://www.django-unicorn.com/\"&gt;django-unicorn&lt;/a&gt;&lt;/li&gt;\\r\\n\\t&lt;li&gt;&lt;a </span>\n",
       "<span style=\"color: #008000; text-decoration-color: #008000\">href=\"https://realpython.com/podcasts/rpp/130/\"&gt;Episode 130: Fostering an Internal Python Community &amp;amp; Managing </span>\n",
       "<span style=\"color: #008000; text-decoration-color: #008000\">the 3.11 Release&lt;/a&gt;&amp;nbsp;(&lt;a href=\"https://realpython.com/podcasts/rpp/\"&gt;The Real Python Podcast&lt;/a&gt;) | </span>\n",
       "<span style=\"color: #008000; text-decoration-color: #008000\">&amp;quot;Sometimes you have to break a few eggs to make an omelette.. and some dishes, and the restaurant&amp;quot; </span>\n",
       "<span style=\"color: #008000; text-decoration-color: #008000\">😃&lt;/li&gt;\\r\\n&lt;/ul&gt;\\r\\n\\r\\n&lt;h3&gt;&amp;nbsp; &amp;nbsp;&lt;br /&gt;\\r\\nOut of Context Images&lt;/h3&gt;\\r\\n'</span><span style=\"font-weight: bold\">}</span>, <span style=\"font-weight: bold\">{</span><span style=\"color: #008000; text-decoration-color: #008000\">'type'</span>: <span style=\"color: #008000; text-decoration-color: #008000\">'image'</span>, <span style=\"color: #008000; text-decoration-color: #008000\">'value'</span>: \n",
       "<span style=\"color: #008080; text-decoration-color: #008080; font-weight: bold\">1281</span><span style=\"font-weight: bold\">}]}]</span>\n",
       "</pre>\n"
      ],
      "text/plain": [
       "\u001b[1m[\u001b[0m\u001b[1m{\u001b[0m\u001b[32m'type'\u001b[0m: \u001b[32m'overview'\u001b[0m, \u001b[32m'value'\u001b[0m: \u001b[1m[\u001b[0m\u001b[1m{\u001b[0m\u001b[32m'type'\u001b[0m: \u001b[32m'paragraph'\u001b[0m, \u001b[32m'value'\u001b[0m: \u001b[32m'\u001b[0m\u001b[32m<\u001b[0m\u001b[32mp\u001b[0m\u001b[32m>\u001b[0m\u001b[32mShort work week. Gave me time to indulge in \u001b[0m\n",
       "\u001b[32mheavy yak shaving. At first, I tried to just make&nbsp;\u001b[0m\u001b[32m<\u001b[0m\u001b[32ma\u001b[0m\u001b[32m \u001b[0m\n",
       "\u001b[32mhref\u001b[0m\u001b[32m=\u001b[0m\u001b[32m\"https\u001b[0m\u001b[32m://github.com/ephes/django-cast\"\u001b[0m\u001b[32m>\u001b[0m\u001b[32mdjango-cast\u001b[0m\u001b[32m<\u001b[0m\u001b[32m/a\u001b[0m\u001b[32m>\u001b[0m\u001b[32m&nbsp;\u001b[0m\u001b[32m(\u001b[0m\u001b[32mthe develop branch\u001b[0m\u001b[32m)\u001b[0m\u001b[32m work for newer \u001b[0m\u001b[32m<\u001b[0m\u001b[32ma\u001b[0m\u001b[32m \u001b[0m\n",
       "\u001b[32mhref\u001b[0m\u001b[32m=\u001b[0m\u001b[32m\"https\u001b[0m\u001b[32m://www.djangoproject.com/\"\u001b[0m\u001b[32m>\u001b[0m\u001b[32mDjango\u001b[0m\u001b[32m<\u001b[0m\u001b[32m/a\u001b[0m\u001b[32m>\u001b[0m\u001b[32m and \u001b[0m\u001b[32m<\u001b[0m\u001b[32ma\u001b[0m\u001b[32m \u001b[0m\u001b[32mhref\u001b[0m\u001b[32m=\u001b[0m\u001b[32m\"https\u001b[0m\u001b[32m://wagtail.org/\"\u001b[0m\u001b[32m>\u001b[0m\u001b[32mWagtail\u001b[0m\u001b[32m<\u001b[0m\u001b[32m/a\u001b[0m\u001b[32m>\u001b[0m\u001b[32m versions. Then I \u001b[0m\n",
       "\u001b[32mrealized I had to fix&nbsp;\u001b[0m\u001b[32m<\u001b[0m\u001b[32ma\u001b[0m\u001b[32m \u001b[0m\u001b[32mhref\u001b[0m\u001b[32m=\u001b[0m\u001b[32m\"http\u001b[0m\u001b[32m://github.com/ephes/wagtail_srcset/issues/2\"\u001b[0m\u001b[32m>\u001b[0m\u001b[32mwagtail-srcset\u001b[0m\u001b[32m<\u001b[0m\u001b[32m/a\u001b[0m\u001b[32m>\u001b[0m\u001b[32m&nbsp;first \u001b[0m\n",
       "\u001b[32mand replaced&nbsp;\u001b[0m\u001b[32m<\u001b[0m\u001b[32ma\u001b[0m\u001b[32m \u001b[0m\u001b[32mhref\u001b[0m\u001b[32m=\u001b[0m\u001b[32m\"https\u001b[0m\u001b[32m://python-poetry.org/\"\u001b[0m\u001b[32m>\u001b[0m\u001b[32mpoetry\u001b[0m\u001b[32m<\u001b[0m\u001b[32m/a\u001b[0m\u001b[32m>\u001b[0m\u001b[32m&nbsp;with&nbsp;\u001b[0m\u001b[32m<\u001b[0m\u001b[32ma\u001b[0m\u001b[32m \u001b[0m\n",
       "\u001b[32mhref\u001b[0m\u001b[32m=\u001b[0m\u001b[32m\"https\u001b[0m\u001b[32m://flit.pypa.io/en/stable/\"\u001b[0m\u001b[32m>\u001b[0m\u001b[32mflit\u001b[0m\u001b[32m<\u001b[0m\u001b[32m/a\u001b[0m\u001b[32m>\u001b[0m\u001b[32m&nbsp;while I&#39;m at it. Then I got lost fixing some stuff \u001b[0m\n",
       "\u001b[32min&nbsp;\u001b[0m\u001b[32m<\u001b[0m\u001b[32ma\u001b[0m\u001b[32m \u001b[0m\u001b[32mhref\u001b[0m\u001b[32m=\u001b[0m\u001b[32m\"https\u001b[0m\u001b[32m://github.com/ephes/kptncook/issues/18\"\u001b[0m\u001b[32m>\u001b[0m\u001b[32mkptncook\u001b[0m\u001b[32m<\u001b[0m\u001b[32m/a\u001b[0m\u001b[32m>\u001b[0m\u001b[32m&nbsp;before I remembered that I have to \u001b[0m\n",
       "\u001b[32malso update&nbsp;\u001b[0m\u001b[32m<\u001b[0m\u001b[32ma\u001b[0m\u001b[32m \u001b[0m\u001b[32mhref\u001b[0m\u001b[32m=\u001b[0m\u001b[32m\"https\u001b[0m\u001b[32m://github.com/ephes/django-indieweb\"\u001b[0m\u001b[32m>\u001b[0m\u001b[32mdjango-indieweb\u001b[0m\u001b[32m<\u001b[0m\u001b[32m/a\u001b[0m\u001b[32m>\u001b[0m\u001b[32m&nbsp;and&nbsp;\u001b[0m\u001b[32m<\u001b[0m\u001b[32ma\u001b[0m\u001b[32m \u001b[0m\n",
       "\u001b[32mhref\u001b[0m\u001b[32m=\u001b[0m\u001b[32m\"https\u001b[0m\u001b[32m://github.com/ephes/django_fileresponse/tree/main/\"\u001b[0m\u001b[32m>\u001b[0m\u001b[32mdjango-fileresponse\u001b[0m\u001b[32m<\u001b[0m\u001b[32m/a\u001b[0m\u001b[32m>\u001b[0m\u001b[32m&nbsp;to be able to finally \u001b[0m\n",
       "\u001b[32mfix&nbsp;\u001b[0m\u001b[32m<\u001b[0m\u001b[32ma\u001b[0m\u001b[32m \u001b[0m\u001b[32mhref\u001b[0m\u001b[32m=\u001b[0m\u001b[32m\"https\u001b[0m\u001b[32m://github.com/ephes/django-cast\"\u001b[0m\u001b[32m>\u001b[0m\u001b[32mdjango-cast\u001b[0m\u001b[32m<\u001b[0m\u001b[32m/a\u001b[0m\u001b[32m>\u001b[0m\u001b[32m&nbsp;and make it deployable on my staging \u001b[0m\n",
       "\u001b[32msystem using the latest and greatest Django and Wagtail versions. Oh and then I fixed some bootstrap stuff in the \u001b[0m\n",
       "\u001b[32mcommands.py of my \u001b[0m\u001b[32m<\u001b[0m\u001b[32ma\u001b[0m\u001b[32m \u001b[0m\u001b[32mhref\u001b[0m\u001b[32m=\u001b[0m\u001b[32m\"https\u001b[0m\u001b[32m://github.com/ephes/django-template/issues/7\"\u001b[0m\u001b[32m>\u001b[0m\u001b[32mDjango startproject template\u001b[0m\u001b[32m<\u001b[0m\u001b[32m/a\u001b[0m\u001b[32m>\u001b[0m\u001b[32m. \u001b[0m\n",
       "\u001b[32mMaybe I&#39;ll manage to merge the develop branch of \u001b[0m\u001b[32m<\u001b[0m\u001b[32ma\u001b[0m\u001b[32m \u001b[0m\n",
       "\u001b[32mhref\u001b[0m\u001b[32m=\u001b[0m\u001b[32m\"https\u001b[0m\u001b[32m://github.com/ephes/django-cast\"\u001b[0m\u001b[32m>\u001b[0m\u001b[32mdjango-cast\u001b[0m\u001b[32m<\u001b[0m\u001b[32m/a\u001b[0m\u001b[32m>\u001b[0m\u001b[32m&nbsp;back into main soon after develop started to \u001b[0m\n",
       "\u001b[32mdiverge back in 2019 iirc&nbsp;because I wanted to use Wagtail as a CMS. Looking forward to meet some hairy yaks on\u001b[0m\n",
       "\u001b[32mthe way.&nbsp;\u001b[0m\u001b[32m<\u001b[0m\u001b[32mbr\u001b[0m\u001b[32m /\u001b[0m\u001b[32m>\u001b[0m\u001b[32m\\r\\n&nbsp;\u001b[0m\u001b[32m<\u001b[0m\u001b[32m/p\u001b[0m\u001b[32m>\u001b[0m\u001b[32m\\r\\n\\r\\n\u001b[0m\u001b[32m<\u001b[0m\u001b[32mh3\u001b[0m\u001b[32m>\u001b[0m\u001b[32mArticles\u001b[0m\u001b[32m<\u001b[0m\u001b[32m/h3\u001b[0m\u001b[32m>\u001b[0m\u001b[32m\\r\\n\\r\\n\u001b[0m\u001b[32m<\u001b[0m\u001b[32mul\u001b[0m\u001b[32m>\u001b[0m\u001b[32m\\r\\n\\t\u001b[0m\u001b[32m<\u001b[0m\u001b[32mli\u001b[0m\u001b[32m>\u001b[0m\u001b[32m<\u001b[0m\u001b[32ma\u001b[0m\u001b[32m \u001b[0m\n",
       "\u001b[32mhref\u001b[0m\u001b[32m=\u001b[0m\u001b[32m\"https\u001b[0m\u001b[32m://github.com/simonw/simonwillisonblog/issues/290\"\u001b[0m\u001b[32m>\u001b[0m\u001b[32mGet a Mastodon instance running #290\u001b[0m\u001b[32m<\u001b[0m\u001b[32m/a\u001b[0m\u001b[32m>\u001b[0m\u001b[32m&nbsp;| This \u001b[0m\n",
       "\u001b[32myak is looking especially attractive atm\u001b[0m\u001b[32m<\u001b[0m\u001b[32m/li\u001b[0m\u001b[32m>\u001b[0m\u001b[32m\\r\\n\\t\u001b[0m\u001b[32m<\u001b[0m\u001b[32mli\u001b[0m\u001b[32m>\u001b[0m\u001b[32m<\u001b[0m\u001b[32ma\u001b[0m\u001b[32m \u001b[0m\n",
       "\u001b[32mhref\u001b[0m\u001b[32m=\u001b[0m\u001b[32m\"https\u001b[0m\u001b[32m://aeracode.org/2022/11/03/static-dynamic-in-memory-sqlite/\"\u001b[0m\u001b[32m>\u001b[0m\u001b[32mStatic-Dynamic Content With In-Memory \u001b[0m\n",
       "\u001b[32mSQLite\u001b[0m\u001b[32m<\u001b[0m\u001b[32m/a\u001b[0m\u001b[32m>\u001b[0m\u001b[32m&nbsp;| Hmm, cool - but I need to shave my postgres 15 yak first, sorry\u001b[0m\u001b[32m<\u001b[0m\u001b[32m/li\u001b[0m\u001b[32m>\u001b[0m\u001b[32m\\r\\n\\t\u001b[0m\u001b[32m<\u001b[0m\u001b[32mli\u001b[0m\u001b[32m>\u001b[0m\u001b[32m<\u001b[0m\u001b[32ma\u001b[0m\u001b[32m \u001b[0m\n",
       "\u001b[32mhref\u001b[0m\u001b[32m=\u001b[0m\u001b[32m\"https\u001b[0m\u001b[32m://fasterthanli.me/articles/becoming-fasterthanlime-full-time\"\u001b[0m\u001b[32m>\u001b[0m\u001b[32mBecoming fasterthanlime \u001b[0m\n",
       "\u001b[32mfull-time\u001b[0m\u001b[32m<\u001b[0m\u001b[32m/a\u001b[0m\u001b[32m>\u001b[0m\u001b[32m<\u001b[0m\u001b[32m/li\u001b[0m\u001b[32m>\u001b[0m\u001b[32m\\r\\n\u001b[0m\u001b[32m<\u001b[0m\u001b[32m/ul\u001b[0m\u001b[32m>\u001b[0m\u001b[32m\\r\\n\\r\\n\u001b[0m\u001b[32m<\u001b[0m\u001b[32mh3\u001b[0m\u001b[32m>\u001b[0m\u001b[32m<\u001b[0m\u001b[32mbr\u001b[0m\u001b[32m /\u001b[0m\u001b[32m>\u001b[0m\u001b[32m\\r\\nTwitter\u001b[0m\u001b[32m<\u001b[0m\u001b[32m/h3\u001b[0m\u001b[32m>\u001b[0m\u001b[32m\\r\\n\\r\\n\u001b[0m\u001b[32m<\u001b[0m\u001b[32mul\u001b[0m\u001b[32m>\u001b[0m\u001b[32m\\r\\n\\t\u001b[0m\u001b[32m<\u001b[0m\u001b[32mli\u001b[0m\u001b[32m>\u001b[0m\u001b[32mNo twitter this week, just \u001b[0m\n",
       "\u001b[32myaks\u001b[0m\u001b[32m<\u001b[0m\u001b[32m/li\u001b[0m\u001b[32m>\u001b[0m\u001b[32m\\r\\n\u001b[0m\u001b[32m<\u001b[0m\u001b[32m/ul\u001b[0m\u001b[32m>\u001b[0m\u001b[32m\\r\\n&nbsp;\\r\\n\\r\\n\u001b[0m\u001b[32m<\u001b[0m\u001b[32mh3\u001b[0m\u001b[32m>\u001b[0m\u001b[32mWeeknotes\u001b[0m\u001b[32m<\u001b[0m\u001b[32m/h3\u001b[0m\u001b[32m>\u001b[0m\u001b[32m\\r\\n\\r\\n\u001b[0m\u001b[32m<\u001b[0m\u001b[32mul\u001b[0m\u001b[32m>\u001b[0m\u001b[32m\\r\\n\\t\u001b[0m\u001b[32m<\u001b[0m\u001b[32mli\u001b[0m\u001b[32m>\u001b[0m\u001b[32m<\u001b[0m\u001b[32ma\u001b[0m\u001b[32m \u001b[0m\n",
       "\u001b[32mhref\u001b[0m\u001b[32m=\u001b[0m\u001b[32m\"https\u001b[0m\u001b[32m://luisnatera.com/posts/2022/10/2022-10-31-review/\"\u001b[0m\u001b[32m>\u001b[0m\u001b[32mWeek in Review 2022-10-31\u001b[0m\u001b[32m<\u001b[0m\u001b[32m/a\u001b[0m\u001b[32m>\u001b[0m\u001b[32m&nbsp;| \u001b[0m\n",
       "\u001b[32mLuis\u001b[0m\u001b[32m<\u001b[0m\u001b[32m/li\u001b[0m\u001b[32m>\u001b[0m\u001b[32m\\r\\n\\t\u001b[0m\u001b[32m<\u001b[0m\u001b[32mli\u001b[0m\u001b[32m>\u001b[0m\u001b[32m<\u001b[0m\u001b[32ma\u001b[0m\u001b[32m \u001b[0m\u001b[32mhref\u001b[0m\u001b[32m=\u001b[0m\u001b[32m\"https\u001b[0m\u001b[32m://shezi.de/weeklogs/log-2022-10-30.html\"\u001b[0m\u001b[32m>\u001b[0m\u001b[32mWeeklog for Week 43: October 24 to \u001b[0m\n",
       "\u001b[32mOctober 30\u001b[0m\u001b[32m<\u001b[0m\u001b[32m/a\u001b[0m\u001b[32m>\u001b[0m\u001b[32m&nbsp;| Johannes\u001b[0m\u001b[32m<\u001b[0m\u001b[32m/li\u001b[0m\u001b[32m>\u001b[0m\u001b[32m\\r\\n\u001b[0m\u001b[32m<\u001b[0m\u001b[32m/ul\u001b[0m\u001b[32m>\u001b[0m\u001b[32m\\r\\n&nbsp;\\r\\n\\r\\n\u001b[0m\u001b[32m<\u001b[0m\u001b[32mh3\u001b[0m\u001b[32m>\u001b[0m\u001b[32mSoftware\u001b[0m\u001b[32m<\u001b[0m\u001b[32m/h3\u001b[0m\u001b[32m>\u001b[0m\u001b[32m\\r\\n\\r\\n\u001b[0m\u001b[32m<\u001b[0m\u001b[32mul\u001b[0m\u001b[32m>\u001b[0m\u001b[32m\\r\\n\\t\u001b[0m\u001b[32m<\u001b[0m\u001b[32mli\u001b[0m\u001b[32m>\u001b[0m\u001b[32m<\u001b[0m\u001b[32ma\u001b[0m\u001b[32m \u001b[0m\n",
       "\u001b[32mhref\u001b[0m\u001b[32m=\u001b[0m\u001b[32m\"https\u001b[0m\u001b[32m://github.com/bigskysoftware/htmx/releases/tag/v1.8.4\"\u001b[0m\u001b[32m>\u001b[0m\u001b[32mhtmx v1.8.4 release\u001b[0m\u001b[32m<\u001b[0m\u001b[32m/a\u001b[0m\u001b[32m>\u001b[0m\u001b[32m<\u001b[0m\u001b[32m/li\u001b[0m\u001b[32m>\u001b[0m\u001b[32m\\r\\n\\t\u001b[0m\u001b[32m<\u001b[0m\u001b[32mli\u001b[0m\u001b[32m>\u001b[0m\u001b[32m<\u001b[0m\u001b[32ma\u001b[0m\u001b[32m \u001b[0m\n",
       "\u001b[32mhref\u001b[0m\u001b[32m=\u001b[0m\u001b[32m\"https\u001b[0m\u001b[32m://docs.djangoproject.com/en/4.1/releases/4.1.3/\"\u001b[0m\u001b[32m>\u001b[0m\u001b[32mDjango 4.1.3 release\u001b[0m\u001b[32m<\u001b[0m\u001b[32m/a\u001b[0m\u001b[32m>\u001b[0m\u001b[32m&nbsp;| Support for Python \u001b[0m\n",
       "\u001b[32m3.11 + some bugfixes\u001b[0m\u001b[32m<\u001b[0m\u001b[32m/li\u001b[0m\u001b[32m>\u001b[0m\u001b[32m\\r\\n\\t\u001b[0m\u001b[32m<\u001b[0m\u001b[32mli\u001b[0m\u001b[32m>\u001b[0m\u001b[32m<\u001b[0m\u001b[32ma\u001b[0m\u001b[32m \u001b[0m\n",
       "\u001b[32mhref\u001b[0m\u001b[32m=\u001b[0m\u001b[32m\"https\u001b[0m\u001b[32m://adamj.eu/tech/2022/10/26/django-upgrade-mega-release/\"\u001b[0m\u001b[32m>\u001b[0m\u001b[32mdjango-upgrade Mega Release \u001b[0m\n",
       "\u001b[32m1.11.0\u001b[0m\u001b[32m<\u001b[0m\u001b[32m/a\u001b[0m\u001b[32m>\u001b[0m\u001b[32m<\u001b[0m\u001b[32m/li\u001b[0m\u001b[32m>\u001b[0m\u001b[32m\\r\\n\\t\u001b[0m\u001b[32m<\u001b[0m\u001b[32mli\u001b[0m\u001b[32m>\u001b[0m\u001b[32m<\u001b[0m\u001b[32ma\u001b[0m\u001b[32m \u001b[0m\u001b[32mhref\u001b[0m\u001b[32m=\u001b[0m\u001b[32m\"https\u001b[0m\u001b[32m://web.dev/patterns/components/\"\u001b[0m\u001b[32m>\u001b[0m\u001b[32mComponent patterns A collection of cross \u001b[0m\n",
       "\u001b[32mbrowser UI components for use in accelerating or inspiring your own design \u001b[0m\n",
       "\u001b[32msystems.\u001b[0m\u001b[32m<\u001b[0m\u001b[32m/a\u001b[0m\u001b[32m>\u001b[0m\u001b[32m<\u001b[0m\u001b[32m/li\u001b[0m\u001b[32m>\u001b[0m\u001b[32m\\r\\n\u001b[0m\u001b[32m<\u001b[0m\u001b[32m/ul\u001b[0m\u001b[32m>\u001b[0m\u001b[32m\\r\\n\\r\\n\u001b[0m\u001b[32m<\u001b[0m\u001b[32mh3\u001b[0m\u001b[32m>\u001b[0m\u001b[32m<\u001b[0m\u001b[32mbr\u001b[0m\u001b[32m /\u001b[0m\u001b[32m>\u001b[0m\u001b[32m\\r\\nPodcasts\u001b[0m\u001b[32m<\u001b[0m\u001b[32m/h3\u001b[0m\u001b[32m>\u001b[0m\u001b[32m\\r\\n\\r\\n\u001b[0m\u001b[32m<\u001b[0m\u001b[32mul\u001b[0m\u001b[32m>\u001b[0m\u001b[32m\\r\\n\\t\u001b[0m\u001b[32m<\u001b[0m\u001b[32mli\u001b[0m\u001b[32m>\u001b[0m\u001b[32m<\u001b[0m\u001b[32ma\u001b[0m\u001b[32m \u001b[0m\n",
       "\u001b[32mhref\u001b[0m\u001b[32m=\u001b[0m\u001b[32m\"https\u001b[0m\u001b[32m://www1.wdr.de/mediathek/audio/wdr5/wdr5-das-philosophische-radio/audio-was-sollte-ihrer-meinung-nach-de\u001b[0m\n",
       "\u001b[32mn-kapitalismus-abloesen-100.html\"\u001b[0m\u001b[32m>\u001b[0m\u001b[32mWas sollte Ihrer Meinung nach den Kapitalismus abl&ouml;sen?\u001b[0m\u001b[32m<\u001b[0m\u001b[32m/a\u001b[0m\u001b[32m>\u001b[0m\u001b[32m&nbsp;\u001b[0m\u001b[32m(\u001b[0m\u001b[32m<\u001b[0m\u001b[32ma\u001b[0m\u001b[32m \u001b[0m\n",
       "\u001b[32mhref\u001b[0m\u001b[32m=\u001b[0m\u001b[32m\"https\u001b[0m\u001b[32m://www1.wdr.de/radio/wdr5/sendungen/philosophisches-radio/index.html\"\u001b[0m\u001b[32m>\u001b[0m\u001b[32mDas philosophische \u001b[0m\n",
       "\u001b[32mRadio\u001b[0m\u001b[32m<\u001b[0m\u001b[32m/a\u001b[0m\u001b[32m>\u001b[0m\u001b[32m)\u001b[0m\u001b[32m<\u001b[0m\u001b[32m/li\u001b[0m\u001b[32m>\u001b[0m\u001b[32m\\r\\n\\t\u001b[0m\u001b[32m<\u001b[0m\u001b[32mli\u001b[0m\u001b[32m>\u001b[0m\u001b[32m<\u001b[0m\u001b[32ma\u001b[0m\u001b[32m \u001b[0m\n",
       "\u001b[32mhref\u001b[0m\u001b[32m=\u001b[0m\u001b[32m\"https\u001b[0m\u001b[32m://capitalisnt.simplecast.com/episodes/a-different-story-of-inflation-with-john-cochrane\"\u001b[0m\u001b[32m>\u001b[0m\u001b[32mA Different \u001b[0m\n",
       "\u001b[32mStory Of Inflation With John Cochrane\u001b[0m\u001b[32m<\u001b[0m\u001b[32m/a\u001b[0m\u001b[32m>\u001b[0m\u001b[32m&nbsp;\u001b[0m\u001b[32m(\u001b[0m\u001b[32m<\u001b[0m\u001b[32ma\u001b[0m\u001b[32m \u001b[0m\u001b[32mhref\u001b[0m\u001b[32m=\u001b[0m\u001b[32m\"https\u001b[0m\u001b[32m://capitalisnt.simplecast.com\"\u001b[0m\u001b[32m>\u001b[0m\u001b[32mCapitalisn&#39;t\u001b[0m\u001b[32m<\u001b[0m\u001b[32m/a\u001b[0m\u001b[32m>\u001b[0m\u001b[32m)\u001b[0m\u001b[32m \u001b[0m\n",
       "\u001b[32m| Doh - bonds and cash aren&#39;t the same?\u001b[0m\u001b[32m<\u001b[0m\u001b[32m/li\u001b[0m\u001b[32m>\u001b[0m\u001b[32m\\r\\n\\t\u001b[0m\u001b[32m<\u001b[0m\u001b[32mli\u001b[0m\u001b[32m>\u001b[0m\u001b[32m<\u001b[0m\u001b[32ma\u001b[0m\u001b[32m \u001b[0m\n",
       "\u001b[32mhref\u001b[0m\u001b[32m=\u001b[0m\u001b[32m\"https\u001b[0m\u001b[32m://www.datascience.salon/project/episode-27-probabilistic-thinking-with-james-jd-long/\"\u001b[0m\u001b[32m>\u001b[0m\u001b[32mProbabilistic \u001b[0m\n",
       "\u001b[32mthinking with James &ldquo;JD&rdquo; Long\u001b[0m\u001b[32m<\u001b[0m\u001b[32m/a\u001b[0m\u001b[32m>\u001b[0m\u001b[32m&nbsp;\u001b[0m\u001b[32m(\u001b[0m\u001b[32m<\u001b[0m\u001b[32ma\u001b[0m\u001b[32m \u001b[0m\u001b[32mhref\u001b[0m\u001b[32m=\u001b[0m\u001b[32m\"https\u001b[0m\u001b[32m://www.datascience.salon/podcast/\"\u001b[0m\u001b[32m>\u001b[0m\u001b[32mData Science \u001b[0m\n",
       "\u001b[32mSalon\u001b[0m\u001b[32m<\u001b[0m\u001b[32m/a\u001b[0m\u001b[32m>\u001b[0m\u001b[32m)\u001b[0m\u001b[32m | Very familiar vibes here -&nbsp;I also wonder why people get away that often with publishing just an \u001b[0m\n",
       "\u001b[32maccuracy number which is meanlingless in most contexts. On the other hand, I don&#39;t buy the economic arguments \u001b[0m\n",
       "\u001b[32min favor of the cloud: You just have to pay for what you use. Use also have to pay for being able to use the cloud \u001b[0m\n",
       "\u001b[32mefficently, you pay for stuff you forgot to turn off and last but not least you pay for not having a competent IT \u001b[0m\n",
       "\u001b[32mpeople and living with grossly inefficient cloud solutions.\u001b[0m\u001b[32m<\u001b[0m\u001b[32m/li\u001b[0m\u001b[32m>\u001b[0m\u001b[32m\\r\\n\\t\u001b[0m\u001b[32m<\u001b[0m\u001b[32mli\u001b[0m\u001b[32m>\u001b[0m\u001b[32m<\u001b[0m\u001b[32ma\u001b[0m\u001b[32m \u001b[0m\n",
       "\u001b[32mhref\u001b[0m\u001b[32m=\u001b[0m\u001b[32m\"https\u001b[0m\u001b[32m://djangochat.com/episodes/horserecords-andy-ide\"\u001b[0m\u001b[32m>\u001b[0m\u001b[32mHorseRecords - Andy Ide\u001b[0m\u001b[32m<\u001b[0m\u001b[32m/a\u001b[0m\u001b[32m>\u001b[0m\u001b[32m&nbsp;\u001b[0m\u001b[32m(\u001b[0m\u001b[32m<\u001b[0m\u001b[32ma\u001b[0m\u001b[32m \u001b[0m\n",
       "\u001b[32mhref\u001b[0m\u001b[32m=\u001b[0m\u001b[32m\"https\u001b[0m\u001b[32m://djangochat.com\"\u001b[0m\u001b[32m>\u001b[0m\u001b[32mDjango Chat\u001b[0m\u001b[32m<\u001b[0m\u001b[32m/a\u001b[0m\u001b[32m>\u001b[0m\u001b[32m)\u001b[0m\u001b[32m | Hmm, maybe need to take a closer look at&nbsp;\u001b[0m\u001b[32m<\u001b[0m\u001b[32ma\u001b[0m\u001b[32m \u001b[0m\n",
       "\u001b[32mhref\u001b[0m\u001b[32m=\u001b[0m\u001b[32m\"https\u001b[0m\u001b[32m://www.django-unicorn.com/\"\u001b[0m\u001b[32m>\u001b[0m\u001b[32mdjango-unicorn\u001b[0m\u001b[32m<\u001b[0m\u001b[32m/a\u001b[0m\u001b[32m>\u001b[0m\u001b[32m<\u001b[0m\u001b[32m/li\u001b[0m\u001b[32m>\u001b[0m\u001b[32m\\r\\n\\t\u001b[0m\u001b[32m<\u001b[0m\u001b[32mli\u001b[0m\u001b[32m>\u001b[0m\u001b[32m<\u001b[0m\u001b[32ma\u001b[0m\u001b[32m \u001b[0m\n",
       "\u001b[32mhref\u001b[0m\u001b[32m=\u001b[0m\u001b[32m\"https\u001b[0m\u001b[32m://realpython.com/podcasts/rpp/130/\"\u001b[0m\u001b[32m>\u001b[0m\u001b[32mEpisode 130: Fostering an Internal Python Community &amp; Managing \u001b[0m\n",
       "\u001b[32mthe 3.11 Release\u001b[0m\u001b[32m<\u001b[0m\u001b[32m/a\u001b[0m\u001b[32m>\u001b[0m\u001b[32m&nbsp;\u001b[0m\u001b[32m(\u001b[0m\u001b[32m<\u001b[0m\u001b[32ma\u001b[0m\u001b[32m \u001b[0m\u001b[32mhref\u001b[0m\u001b[32m=\u001b[0m\u001b[32m\"https\u001b[0m\u001b[32m://realpython.com/podcasts/rpp/\"\u001b[0m\u001b[32m>\u001b[0m\u001b[32mThe Real Python Podcast\u001b[0m\u001b[32m<\u001b[0m\u001b[32m/a\u001b[0m\u001b[32m>\u001b[0m\u001b[32m)\u001b[0m\u001b[32m | \u001b[0m\n",
       "\u001b[32m&quot;Sometimes you have to break a few eggs to make an omelette.. and some dishes, and the restaurant&quot; \u001b[0m\n",
       "\u001b[32m😃\u001b[0m\u001b[32m<\u001b[0m\u001b[32m/li\u001b[0m\u001b[32m>\u001b[0m\u001b[32m\\r\\n\u001b[0m\u001b[32m<\u001b[0m\u001b[32m/ul\u001b[0m\u001b[32m>\u001b[0m\u001b[32m\\r\\n\\r\\n\u001b[0m\u001b[32m<\u001b[0m\u001b[32mh3\u001b[0m\u001b[32m>\u001b[0m\u001b[32m&nbsp; &nbsp;\u001b[0m\u001b[32m<\u001b[0m\u001b[32mbr\u001b[0m\u001b[32m /\u001b[0m\u001b[32m>\u001b[0m\u001b[32m\\r\\nOut of Context Images\u001b[0m\u001b[32m<\u001b[0m\u001b[32m/h3\u001b[0m\u001b[32m>\u001b[0m\u001b[32m\\r\\n'\u001b[0m\u001b[1m}\u001b[0m, \u001b[1m{\u001b[0m\u001b[32m'type'\u001b[0m: \u001b[32m'image'\u001b[0m, \u001b[32m'value'\u001b[0m: \n",
       "\u001b[1;36m1281\u001b[0m\u001b[1m}\u001b[0m\u001b[1m]\u001b[0m\u001b[1m}\u001b[0m\u001b[1m]\u001b[0m\n"
      ]
     },
     "metadata": {},
     "output_type": "display_data"
    }
   ],
   "source": [
    "print(post.body.raw_data)"
   ]
  },
  {
   "cell_type": "code",
   "execution_count": 21,
   "id": "9548db65-b0b5-4e1c-b655-2f7387128628",
   "metadata": {},
   "outputs": [],
   "source": [
    "post = blog.add_child(instance=post)"
   ]
  },
  {
   "cell_type": "code",
   "execution_count": 56,
   "id": "a4cd705e-82e5-4be1-8757-3994e8d043ae",
   "metadata": {},
   "outputs": [],
   "source": [
    "def is_tag(text):\n",
    "    return text.startswith(\"{%\") and text.endswith(\"%}\")\n",
    "\n",
    "\n",
    "def tag_to_block(tag):\n",
    "    tag_name, tag_id = tag.strip(\"{%\").strip(\"%}\").split()\n",
    "    tag_id = int(tag_id)\n",
    "    return {\"type\": tag_name, \"value\": tag_id}\n",
    "\n",
    "\n",
    "def content_to_streamfield(content):\n",
    "    blocks = overview = []\n",
    "    just_tag = re.compile(r\"({% \\w+ \\d+ %})\")\n",
    "    for part in just_tag.split(content):\n",
    "        if len(part) == 0:\n",
    "            continue\n",
    "        if is_tag(part):\n",
    "            blocks.append(tag_to_block(part))\n",
    "        else:\n",
    "            blocks.append({\"type\": \"paragraph\", \"value\": part})\n",
    "    return [{\"type\": \"overview\", \"value\": overview}]"
   ]
  },
  {
   "cell_type": "code",
   "execution_count": 57,
   "id": "a302b1d4-0961-4210-a957-7175c2d57e16",
   "metadata": {},
   "outputs": [
    {
     "data": {
      "text/plain": [
       "[{'type': 'overview',\n",
       "  'value': [{'type': 'paragraph',\n",
       "    'value': '<p>Short work week. Gave me time to indulge in heavy yak shaving. At first, I tried to just make&nbsp;<a href=\"https://github.com/ephes/django-cast\">django-cast</a>&nbsp;(the develop branch) work for newer <a href=\"https://www.djangoproject.com/\">Django</a> and <a href=\"https://wagtail.org/\">Wagtail</a> versions. Then I realized I had to fix&nbsp;<a href=\"http://github.com/ephes/wagtail_srcset/issues/2\">wagtail-srcset</a>&nbsp;first and replaced&nbsp;<a href=\"https://python-poetry.org/\">poetry</a>&nbsp;with&nbsp;<a href=\"https://flit.pypa.io/en/stable/\">flit</a>&nbsp;while I&#39;m at it. Then I got lost fixing some stuff in&nbsp;<a href=\"https://github.com/ephes/kptncook/issues/18\">kptncook</a>&nbsp;before I remembered that I have to also update&nbsp;<a href=\"https://github.com/ephes/django-indieweb\">django-indieweb</a>&nbsp;and&nbsp;<a href=\"https://github.com/ephes/django_fileresponse/tree/main/\">django-fileresponse</a>&nbsp;to be able to finally fix&nbsp;<a href=\"https://github.com/ephes/django-cast\">django-cast</a>&nbsp;and make it deployable on my staging system using the latest and greatest Django and Wagtail versions. Oh and then I fixed some bootstrap stuff in the commands.py of my <a href=\"https://github.com/ephes/django-template/issues/7\">Django startproject template</a>. Maybe I&#39;ll manage to merge the develop branch of <a href=\"https://github.com/ephes/django-cast\">django-cast</a>&nbsp;back into main soon after develop started to diverge back in 2019 iirc&nbsp;because I wanted to use Wagtail as a CMS. Looking forward to meet some hairy yaks on the way.&nbsp;<br />\\r\\n&nbsp;</p>\\r\\n\\r\\n<h3>Articles</h3>\\r\\n\\r\\n<ul>\\r\\n\\t<li><a href=\"https://github.com/simonw/simonwillisonblog/issues/290\">Get a Mastodon instance running #290</a>&nbsp;| This yak is looking especially attractive atm</li>\\r\\n\\t<li><a href=\"https://aeracode.org/2022/11/03/static-dynamic-in-memory-sqlite/\">Static-Dynamic Content With In-Memory SQLite</a>&nbsp;| Hmm, cool - but I need to shave my postgres 15 yak first, sorry</li>\\r\\n\\t<li><a href=\"https://fasterthanli.me/articles/becoming-fasterthanlime-full-time\">Becoming fasterthanlime full-time</a></li>\\r\\n</ul>\\r\\n\\r\\n<h3><br />\\r\\nTwitter</h3>\\r\\n\\r\\n<ul>\\r\\n\\t<li>No twitter this week, just yaks</li>\\r\\n</ul>\\r\\n&nbsp;\\r\\n\\r\\n<h3>Weeknotes</h3>\\r\\n\\r\\n<ul>\\r\\n\\t<li><a href=\"https://luisnatera.com/posts/2022/10/2022-10-31-review/\">Week in Review 2022-10-31</a>&nbsp;| Luis</li>\\r\\n\\t<li><a href=\"https://shezi.de/weeklogs/log-2022-10-30.html\">Weeklog for Week 43: October 24 to October 30</a>&nbsp;| Johannes</li>\\r\\n</ul>\\r\\n&nbsp;\\r\\n\\r\\n<h3>Software</h3>\\r\\n\\r\\n<ul>\\r\\n\\t<li><a href=\"https://github.com/bigskysoftware/htmx/releases/tag/v1.8.4\">htmx v1.8.4 release</a></li>\\r\\n\\t<li><a href=\"https://docs.djangoproject.com/en/4.1/releases/4.1.3/\">Django 4.1.3 release</a>&nbsp;| Support for Python 3.11 + some bugfixes</li>\\r\\n\\t<li><a href=\"https://adamj.eu/tech/2022/10/26/django-upgrade-mega-release/\">django-upgrade Mega Release 1.11.0</a></li>\\r\\n\\t<li><a href=\"https://web.dev/patterns/components/\">Component patterns A collection of cross browser UI components for use in accelerating or inspiring your own design systems.</a></li>\\r\\n</ul>\\r\\n\\r\\n<h3><br />\\r\\nPodcasts</h3>\\r\\n\\r\\n<ul>\\r\\n\\t<li><a href=\"https://www1.wdr.de/mediathek/audio/wdr5/wdr5-das-philosophische-radio/audio-was-sollte-ihrer-meinung-nach-den-kapitalismus-abloesen-100.html\">Was sollte Ihrer Meinung nach den Kapitalismus abl&ouml;sen?</a>&nbsp;(<a href=\"https://www1.wdr.de/radio/wdr5/sendungen/philosophisches-radio/index.html\">Das philosophische Radio</a>)</li>\\r\\n\\t<li><a href=\"https://capitalisnt.simplecast.com/episodes/a-different-story-of-inflation-with-john-cochrane\">A Different Story Of Inflation With John Cochrane</a>&nbsp;(<a href=\"https://capitalisnt.simplecast.com\">Capitalisn&#39;t</a>) | Doh - bonds and cash aren&#39;t the same?</li>\\r\\n\\t<li><a href=\"https://www.datascience.salon/project/episode-27-probabilistic-thinking-with-james-jd-long/\">Probabilistic thinking with James &ldquo;JD&rdquo; Long</a>&nbsp;(<a href=\"https://www.datascience.salon/podcast/\">Data Science Salon</a>) | Very familiar vibes here -&nbsp;I also wonder why people get away that often with publishing just an accuracy number which is meanlingless in most contexts. On the other hand, I don&#39;t buy the economic arguments in favor of the cloud: You just have to pay for what you use. Use also have to pay for being able to use the cloud efficently, you pay for stuff you forgot to turn off and last but not least you pay for not having a competent IT people and living with grossly inefficient cloud solutions.</li>\\r\\n\\t<li><a href=\"https://djangochat.com/episodes/horserecords-andy-ide\">HorseRecords - Andy Ide</a>&nbsp;(<a href=\"https://djangochat.com\">Django Chat</a>) | Hmm, maybe need to take a closer look at&nbsp;<a href=\"https://www.django-unicorn.com/\">django-unicorn</a></li>\\r\\n\\t<li><a href=\"https://realpython.com/podcasts/rpp/130/\">Episode 130: Fostering an Internal Python Community &amp; Managing the 3.11 Release</a>&nbsp;(<a href=\"https://realpython.com/podcasts/rpp/\">The Real Python Podcast</a>) | &quot;Sometimes you have to break a few eggs to make an omelette.. and some dishes, and the restaurant&quot; 😃</li>\\r\\n</ul>\\r\\n\\r\\n<h3>&nbsp; &nbsp;<br />\\r\\nOut of Context Images</h3>\\r\\n'},\n",
       "   {'type': 'image', 'value': 1281}]}]"
      ]
     },
     "execution_count": 57,
     "metadata": {},
     "output_type": "execute_result"
    }
   ],
   "source": [
    "content_to_streamfield(l_post[\"content\"])"
   ]
  },
  {
   "cell_type": "code",
   "execution_count": 45,
   "id": "b8c67000-d608-415d-a297-f8def3f7d849",
   "metadata": {},
   "outputs": [
    {
     "data": {
      "text/plain": [
       "'3>\\r\\n{% image 1281 %}'"
      ]
     },
     "execution_count": 45,
     "metadata": {},
     "output_type": "execute_result"
    }
   ],
   "source": [
    "l_post[\"content\"][-20:]"
   ]
  },
  {
   "cell_type": "code",
   "execution_count": 29,
   "id": "c52491a1-73bf-4e93-ab90-c4e30a996eab",
   "metadata": {},
   "outputs": [],
   "source": [
    "post = blog.add_child(instance=post)"
   ]
  },
  {
   "cell_type": "code",
   "execution_count": 14,
   "id": "66cd8c6d-8cf4-4e16-a550-3a2b956090e7",
   "metadata": {},
   "outputs": [
    {
     "data": {
      "text/plain": [
       "datetime.datetime(2022, 11, 7, 0, 0, tzinfo=datetime.timezone.utc)"
      ]
     },
     "execution_count": 14,
     "metadata": {},
     "output_type": "execute_result"
    }
   ],
   "source": [
    "post.visible_date"
   ]
  },
  {
   "cell_type": "code",
   "execution_count": 17,
   "id": "d2563aeb-8fc8-4ba1-a2ba-b1dceabd84f3",
   "metadata": {},
   "outputs": [],
   "source": [
    "post.delete()"
   ]
  },
  {
   "cell_type": "markdown",
   "id": "49325a68-984f-4c82-9e7a-d753dd80cc22",
   "metadata": {},
   "source": [
    "# Get Templatetags from Content"
   ]
  },
  {
   "cell_type": "code",
   "execution_count": 39,
   "id": "613054bf-f356-41ea-96eb-9ed4ab77f698",
   "metadata": {},
   "outputs": [
    {
     "data": {
      "text/plain": [
       "['foo ', '{% asdf 34 %}', ' bar']"
      ]
     },
     "execution_count": 39,
     "metadata": {},
     "output_type": "execute_result"
    }
   ],
   "source": [
    "just_tag = re.compile(r\"({% \\w+ \\d+ %})\")\n",
    "just_tag.split(\"foo {% asdf 34 %} bar\")"
   ]
  },
  {
   "cell_type": "code",
   "execution_count": 38,
   "id": "33ce3614-3c43-4b07-bb2f-207b610a32ae",
   "metadata": {},
   "outputs": [],
   "source": [
    "#split_tags.split(legacy[\"content\"])"
   ]
  },
  {
   "cell_type": "code",
   "execution_count": 44,
   "id": "ac71f1f1-0910-4ae4-9d28-18bbbe9ef355",
   "metadata": {},
   "outputs": [
    {
     "data": {
      "text/html": [
       "<pre style=\"white-space:pre;overflow-x:auto;line-height:normal;font-family:Menlo,'DejaVu Sans Mono',consolas,'Courier New',monospace\">asdf <span style=\"color: #008080; text-decoration-color: #008080; font-weight: bold\">34</span>\n",
       "</pre>\n"
      ],
      "text/plain": [
       "asdf \u001b[1;36m34\u001b[0m\n"
      ]
     },
     "metadata": {},
     "output_type": "display_data"
    }
   ],
   "source": [
    "parse_tag = re.compile(r\"{% (\\w+) (\\d+) %}\")\n",
    "[(tag_name, tag_pk)] = parse_tag.findall(\"{% asdf 34 %}\")\n",
    "print(tag_name, tag_pk)"
   ]
  },
  {
   "cell_type": "code",
   "execution_count": 42,
   "id": "aa1bcdca-683e-4c56-b219-b557b2c63871",
   "metadata": {},
   "outputs": [
    {
     "data": {
      "text/plain": [
       "[]"
      ]
     },
     "execution_count": 42,
     "metadata": {},
     "output_type": "execute_result"
    }
   ],
   "source": [
    "parse_tag.findall(\"asdf\")"
   ]
  },
  {
   "cell_type": "code",
   "execution_count": 21,
   "id": "b0b188e1-750e-4022-825a-c5b8f109435e",
   "metadata": {},
   "outputs": [
    {
     "data": {
      "text/plain": [
       "[('image', '1281')]"
      ]
     },
     "execution_count": 21,
     "metadata": {},
     "output_type": "execute_result"
    }
   ],
   "source": [
    "tags_regex.findall(legacy[\"content\"])"
   ]
  },
  {
   "cell_type": "code",
   "execution_count": 51,
   "id": "9c6cc32f-e1ee-49e1-a46b-6a331a507717",
   "metadata": {},
   "outputs": [
    {
     "data": {
      "text/html": [
       "<pre style=\"white-space:pre;overflow-x:auto;line-height:normal;font-family:Menlo,'DejaVu Sans Mono',consolas,'Courier New',monospace\">image <span style=\"color: #008080; text-decoration-color: #008080; font-weight: bold\">1281</span>\n",
       "</pre>\n"
      ],
      "text/plain": [
       "image \u001b[1;36m1281\u001b[0m\n"
      ]
     },
     "metadata": {},
     "output_type": "display_data"
    }
   ],
   "source": [
    "tag_name, tag_id = \"{% image 1281 %}\".strip(\"{%\").strip(\"%}\").split()\n",
    "tag_id = int(tag_id)\n",
    "print(tag_name, tag_id)"
   ]
  },
  {
   "cell_type": "code",
   "execution_count": 20,
   "id": "2ecffa76-6be9-4e2e-b8ef-84121766d3e7",
   "metadata": {},
   "outputs": [
    {
     "data": {
      "text/plain": [
       "6"
      ]
     },
     "execution_count": 20,
     "metadata": {},
     "output_type": "execute_result"
    }
   ],
   "source": [
    "Page.objects.last().pk"
   ]
  },
  {
   "cell_type": "code",
   "execution_count": 30,
   "id": "902117c7-c48e-49d9-8efc-3d031859d0ed",
   "metadata": {},
   "outputs": [
    {
     "data": {
      "text/html": [
       "<pre style=\"white-space:pre;overflow-x:auto;line-height:normal;font-family:Menlo,'DejaVu Sans Mono',consolas,'Courier New',monospace\"><span style=\"font-weight: bold\">[{</span><span style=\"color: #008000; text-decoration-color: #008000\">'type'</span>: <span style=\"color: #008000; text-decoration-color: #008000\">'overview'</span>, <span style=\"color: #008000; text-decoration-color: #008000\">'value'</span>: <span style=\"font-weight: bold\">[{</span><span style=\"color: #008000; text-decoration-color: #008000\">'type'</span>: <span style=\"color: #008000; text-decoration-color: #008000\">'heading'</span>, <span style=\"color: #008000; text-decoration-color: #008000\">'value'</span>: <span style=\"color: #008000; text-decoration-color: #008000\">'asdf'</span>, <span style=\"color: #008000; text-decoration-color: #008000\">'id'</span>: <span style=\"color: #008000; text-decoration-color: #008000\">'a5b3c0cc-889b-4b57-bd81-3a4bed41528b'</span><span style=\"font-weight: bold\">}</span>,\n",
       "<span style=\"font-weight: bold\">{</span><span style=\"color: #008000; text-decoration-color: #008000\">'type'</span>: <span style=\"color: #008000; text-decoration-color: #008000\">'gallery'</span>, <span style=\"color: #008000; text-decoration-color: #008000\">'value'</span>: <span style=\"font-weight: bold\">[{</span><span style=\"color: #008000; text-decoration-color: #008000\">'type'</span>: <span style=\"color: #008000; text-decoration-color: #008000\">'item'</span>, <span style=\"color: #008000; text-decoration-color: #008000\">'value'</span>: <span style=\"color: #008080; text-decoration-color: #008080; font-weight: bold\">1281</span>, <span style=\"color: #008000; text-decoration-color: #008000\">'id'</span>: <span style=\"color: #008000; text-decoration-color: #008000\">'88c02e62-77e9-44f2-a84e-c3d84453cb13'</span><span style=\"font-weight: bold\">}</span>, \n",
       "<span style=\"font-weight: bold\">{</span><span style=\"color: #008000; text-decoration-color: #008000\">'type'</span>: <span style=\"color: #008000; text-decoration-color: #008000\">'item'</span>, <span style=\"color: #008000; text-decoration-color: #008000\">'value'</span>: <span style=\"color: #008080; text-decoration-color: #008080; font-weight: bold\">1280</span>, <span style=\"color: #008000; text-decoration-color: #008000\">'id'</span>: <span style=\"color: #008000; text-decoration-color: #008000\">'eb5d3c2e-6e47-434a-a18a-98e2e0c5d3af'</span><span style=\"font-weight: bold\">}]</span>, <span style=\"color: #008000; text-decoration-color: #008000\">'id'</span>: \n",
       "<span style=\"color: #008000; text-decoration-color: #008000\">'2a30b103-f138-488d-aa73-713b1de7d5ef'</span><span style=\"font-weight: bold\">}]</span>, <span style=\"color: #008000; text-decoration-color: #008000\">'id'</span>: <span style=\"color: #008000; text-decoration-color: #008000\">'56fa286a-3d6e-46c1-8000-b29f0cc9e847'</span><span style=\"font-weight: bold\">}]</span>\n",
       "</pre>\n"
      ],
      "text/plain": [
       "\u001b[1m[\u001b[0m\u001b[1m{\u001b[0m\u001b[32m'type'\u001b[0m: \u001b[32m'overview'\u001b[0m, \u001b[32m'value'\u001b[0m: \u001b[1m[\u001b[0m\u001b[1m{\u001b[0m\u001b[32m'type'\u001b[0m: \u001b[32m'heading'\u001b[0m, \u001b[32m'value'\u001b[0m: \u001b[32m'asdf'\u001b[0m, \u001b[32m'id'\u001b[0m: \u001b[32m'a5b3c0cc-889b-4b57-bd81-3a4bed41528b'\u001b[0m\u001b[1m}\u001b[0m,\n",
       "\u001b[1m{\u001b[0m\u001b[32m'type'\u001b[0m: \u001b[32m'gallery'\u001b[0m, \u001b[32m'value'\u001b[0m: \u001b[1m[\u001b[0m\u001b[1m{\u001b[0m\u001b[32m'type'\u001b[0m: \u001b[32m'item'\u001b[0m, \u001b[32m'value'\u001b[0m: \u001b[1;36m1281\u001b[0m, \u001b[32m'id'\u001b[0m: \u001b[32m'88c02e62-77e9-44f2-a84e-c3d84453cb13'\u001b[0m\u001b[1m}\u001b[0m, \n",
       "\u001b[1m{\u001b[0m\u001b[32m'type'\u001b[0m: \u001b[32m'item'\u001b[0m, \u001b[32m'value'\u001b[0m: \u001b[1;36m1280\u001b[0m, \u001b[32m'id'\u001b[0m: \u001b[32m'eb5d3c2e-6e47-434a-a18a-98e2e0c5d3af'\u001b[0m\u001b[1m}\u001b[0m\u001b[1m]\u001b[0m, \u001b[32m'id'\u001b[0m: \n",
       "\u001b[32m'2a30b103-f138-488d-aa73-713b1de7d5ef'\u001b[0m\u001b[1m}\u001b[0m\u001b[1m]\u001b[0m, \u001b[32m'id'\u001b[0m: \u001b[32m'56fa286a-3d6e-46c1-8000-b29f0cc9e847'\u001b[0m\u001b[1m}\u001b[0m\u001b[1m]\u001b[0m\n"
      ]
     },
     "metadata": {},
     "output_type": "display_data"
    }
   ],
   "source": [
    "print(Page.objects.get(slug=\"gallerie-test\").post.body.raw_data)"
   ]
  },
  {
   "cell_type": "code",
   "execution_count": 44,
   "id": "d464d0d7-505d-4a66-aba1-8e6f66b1143e",
   "metadata": {},
   "outputs": [
    {
     "data": {
      "text/plain": [
       "{'type': 'gallery',\n",
       " 'value': [{'type': 'item',\n",
       "   'value': 1281,\n",
       "   'id': '88c02e62-77e9-44f2-a84e-c3d84453cb13'},\n",
       "  {'type': 'item',\n",
       "   'value': 1280,\n",
       "   'id': 'eb5d3c2e-6e47-434a-a18a-98e2e0c5d3af'}]}"
      ]
     },
     "execution_count": 44,
     "metadata": {},
     "output_type": "execute_result"
    }
   ],
   "source": [
    "{\n",
    "    \"type\": \"gallery\",\n",
    "    \"value\": [\n",
    "        {\"type\": \"item\", \"value\": 1281, \"id\": \"88c02e62-77e9-44f2-a84e-c3d84453cb13\"},\n",
    "        {\"type\": \"item\", \"value\": 1280, \"id\": \"eb5d3c2e-6e47-434a-a18a-98e2e0c5d3af\"},\n",
    "    ],\n",
    "}"
   ]
  },
  {
   "cell_type": "code",
   "execution_count": 25,
   "id": "9ba0a405-fbfa-4647-a536-6a4e28322e15",
   "metadata": {},
   "outputs": [
    {
     "data": {
      "text/plain": [
       "<PageQuerySet [<Page: Root>, <Page: Welcome to your new Wagtail site!>, <Page: Claas sagt Hallo>, <Page: Ephes Blog>, <Page: Gallerie-Test>, <Page: sadf>]>"
      ]
     },
     "execution_count": 25,
     "metadata": {},
     "output_type": "execute_result"
    }
   ],
   "source": [
    "Page.objects.all()"
   ]
  },
  {
   "cell_type": "code",
   "execution_count": 46,
   "id": "d689c4b5-6775-4eed-8962-6b2234a79c9a",
   "metadata": {},
   "outputs": [
    {
     "data": {
      "text/plain": [
       "{'type': 'gallery',\n",
       " 'value': [{'type': 'item',\n",
       "   'value': 1281,\n",
       "   'id': '88c02e62-77e9-44f2-a84e-c3d84453cb13'},\n",
       "  {'type': 'item',\n",
       "   'value': 1280,\n",
       "   'id': 'eb5d3c2e-6e47-434a-a18a-98e2e0c5d3af'}]}"
      ]
     },
     "execution_count": 46,
     "metadata": {},
     "output_type": "execute_result"
    }
   ],
   "source": [
    "post.body.raw_data[0][\"value\"][-1]"
   ]
  },
  {
   "cell_type": "code",
   "execution_count": 49,
   "id": "1e9e1c85-ef8b-4fdd-a753-eebca9d1403a",
   "metadata": {},
   "outputs": [],
   "source": [
    "post.body.raw_data[0][\"value\"][-1] = {\n",
    "    \"type\": \"gallery\",\n",
    "    \"value\": [\n",
    "        {\"type\": \"item\", \"value\": 1281, \"id\": \"88c02e62-77e9-44f2-a84e-c3d84453cb13\"},\n",
    "        {\"type\": \"item\", \"value\": 1280, \"id\": \"eb5d3c2e-6e47-434a-a18a-98e2e0c5d3af\"},\n",
    "    ],\n",
    "}"
   ]
  },
  {
   "cell_type": "code",
   "execution_count": 51,
   "id": "934f57b1-e67e-4195-873b-8dcfdb697bd5",
   "metadata": {},
   "outputs": [
    {
     "data": {
      "text/plain": [
       "<PageQuerySet [<Post: Gallerie-Test>]>"
      ]
     },
     "execution_count": 51,
     "metadata": {},
     "output_type": "execute_result"
    }
   ],
   "source": [
    "Post.objects.all()"
   ]
  },
  {
   "cell_type": "code",
   "execution_count": 56,
   "id": "7fa8af5a-da8b-4ce8-94b9-9a609539e75a",
   "metadata": {},
   "outputs": [
    {
     "data": {
      "text/plain": [
       "<Page: sadf>"
      ]
     },
     "execution_count": 56,
     "metadata": {},
     "output_type": "execute_result"
    }
   ],
   "source": [
    "Page.objects.last()"
   ]
  },
  {
   "cell_type": "code",
   "execution_count": 18,
   "id": "88f93415-1468-4355-8d48-aadae3aa35f9",
   "metadata": {},
   "outputs": [
    {
     "data": {
      "text/plain": [
       "{'type': 'gallery',\n",
       " 'value': [{'type': 'item', 'value': 1281}, {'type': 'item', 'value': 1280}]}"
      ]
     },
     "execution_count": 18,
     "metadata": {},
     "output_type": "execute_result"
    }
   ],
   "source": [
    "{\n",
    "    \"type\": \"gallery\",\n",
    "    \"value\": [\n",
    "        {\"type\": \"item\", \"value\": 1281},\n",
    "        {\"type\": \"item\", \"value\": 1280},\n",
    "    ],\n",
    "}"
   ]
  },
  {
   "cell_type": "code",
   "execution_count": 11,
   "id": "430075ea-8653-4691-89f8-9a9549d526b9",
   "metadata": {},
   "outputs": [
    {
     "data": {
      "text/plain": [
       "{'type': 'gallery',\n",
       " 'value': [{'type': 'item',\n",
       "   'value': 1281,\n",
       "   'id': '88c02e62-77e9-44f2-a84e-c3d84453cb13'},\n",
       "  {'type': 'item',\n",
       "   'value': 1280,\n",
       "   'id': 'eb5d3c2e-6e47-434a-a18a-98e2e0c5d3af'}]}"
      ]
     },
     "execution_count": 11,
     "metadata": {},
     "output_type": "execute_result"
    }
   ],
   "source": [
    "{\n",
    "    \"type\": \"gallery\",\n",
    "    \"value\": [\n",
    "        {\"type\": \"item\", \"value\": 1281, \"id\": \"88c02e62-77e9-44f2-a84e-c3d84453cb13\"},\n",
    "        {\"type\": \"item\", \"value\": 1280, \"id\": \"eb5d3c2e-6e47-434a-a18a-98e2e0c5d3af\"},\n",
    "    ],\n",
    "}"
   ]
  },
  {
   "cell_type": "code",
   "execution_count": 23,
   "id": "bb9b0a1e-8bed-4ede-afff-59fab83de14e",
   "metadata": {},
   "outputs": [],
   "source": [
    "from uuid import uuid4"
   ]
  },
  {
   "cell_type": "code",
   "execution_count": 26,
   "id": "1dd9054b-0cd0-4beb-84da-5e3c3c6a1351",
   "metadata": {},
   "outputs": [
    {
     "data": {
      "text/plain": [
       "'96bbeccf-1981-4c90-aa53-ddc703c90c8e'"
      ]
     },
     "execution_count": 26,
     "metadata": {},
     "output_type": "execute_result"
    }
   ],
   "source": [
    "str(uuid4())"
   ]
  },
  {
   "cell_type": "code",
   "execution_count": null,
   "id": "77f04bbf-e932-4b9c-bd2b-a551bbe1991f",
   "metadata": {},
   "outputs": [],
   "source": []
  }
 ],
 "metadata": {
  "kernelspec": {
   "display_name": "Django Kernel",
   "language": "python",
   "name": "django_extensions"
  },
  "language_info": {
   "codemirror_mode": {
    "name": "ipython",
    "version": 3
   },
   "file_extension": ".py",
   "mimetype": "text/x-python",
   "name": "python",
   "nbconvert_exporter": "python",
   "pygments_lexer": "ipython3",
   "version": "3.11.0"
  }
 },
 "nbformat": 4,
 "nbformat_minor": 5
}
