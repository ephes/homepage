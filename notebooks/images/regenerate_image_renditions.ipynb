{
 "cells": [
  {
   "cell_type": "markdown",
   "id": "93fa5c78-f262-4238-9e5a-916d95ea10c6",
   "metadata": {},
   "source": [
    "# Accidentally Deleted all Renditions\n",
    "\n",
    "Maybe I can regenerate all of them in a notebook."
   ]
  },
  {
   "cell_type": "code",
   "execution_count": 26,
   "id": "ece8e2eb-33d5-432d-a0ad-cda1f43047e5",
   "metadata": {
    "tags": []
   },
   "outputs": [],
   "source": [
    "def regenerate_renditions_for_image(image):\n",
    "    new_renditions = []\n",
    "    for rendition in image.renditions.all():\n",
    "        r = httpx.head(rendition.url)\n",
    "        if r.status_code == 200:\n",
    "            continue\n",
    "        # create new rendition - don't use get_rendition, because it will not create a file if\n",
    "        # a rendition with the same filter already exists\n",
    "        rendition_filter = rendition.filter\n",
    "        rendition.delete()\n",
    "        new_renditions.append(image.create_rendition(rendition.filter))\n",
    "    return new_renditions\n",
    "        \n",
    "\n",
    "\n",
    "def regenerate_renditions_for_post(post):\n",
    "    new_renditions = []\n",
    "    for image in post.images.all():\n",
    "        new_renditions.extend(regenerate_renditions_for_image(image))\n",
    "    for gallery in post.galleries.all():\n",
    "        for image in gallery.images.all():\n",
    "            new_renditions.extend(regenerate_renditions_for_image(image))\n",
    "    return new_renditions"
   ]
  },
  {
   "cell_type": "code",
   "execution_count": 27,
   "id": "0a71f3e0-148b-4273-be8f-63e56a4cc298",
   "metadata": {
    "tags": []
   },
   "outputs": [
    {
     "name": "stdout",
     "output_type": "stream",
     "text": [
      "CPU times: user 2.09 ms, sys: 967 µs, total: 3.06 ms\n",
      "Wall time: 2.19 ms\n"
     ]
    }
   ],
   "source": [
    "%%time\n",
    "post = Post.objects.get(slug=\"weeknotes-2023-07-31\")"
   ]
  },
  {
   "cell_type": "code",
   "execution_count": 28,
   "id": "c65ff42b-42d3-4d26-803d-1dc78d94fe2e",
   "metadata": {
    "tags": []
   },
   "outputs": [
    {
     "name": "stdout",
     "output_type": "stream",
     "text": [
      "CPU times: user 1min 52s, sys: 22.9 s, total: 2min 15s\n",
      "Wall time: 4min 22s\n"
     ]
    }
   ],
   "source": [
    "%%time\n",
    "new_renditions = regenerate_renditions_for_post(post)"
   ]
  },
  {
   "cell_type": "code",
   "execution_count": 12,
   "id": "e1b31752-6da5-48d4-a896-e487ca964fee",
   "metadata": {
    "tags": []
   },
   "outputs": [
    {
     "name": "stdout",
     "output_type": "stream",
     "text": [
      "Rendition object (10047)\n"
     ]
    }
   ],
   "source": [
    "rendition = new_renditions[0]\n",
    "print(rendition)"
   ]
  },
  {
   "cell_type": "code",
   "execution_count": 20,
   "id": "ac3aec5e-b5e3-490c-8602-9451f905b73d",
   "metadata": {
    "tags": []
   },
   "outputs": [
    {
     "data": {
      "text/plain": [
       "'https://d2b7dn9rofvhjd.cloudfront.net/images/IMG_0738.max-800x600.jpg'"
      ]
     },
     "execution_count": 20,
     "metadata": {},
     "output_type": "execute_result"
    }
   ],
   "source": [
    "rendition.url"
   ]
  },
  {
   "cell_type": "code",
   "execution_count": 22,
   "id": "f57ea133-fa87-41e4-a902-c095d17bf86d",
   "metadata": {
    "tags": []
   },
   "outputs": [],
   "source": [
    "rendition_filter = rendition.filter\n",
    "image = rendition.image\n",
    "rendition.delete()\n",
    "new_rendition = image.create_rendition(rendition_filter)"
   ]
  },
  {
   "cell_type": "code",
   "execution_count": 23,
   "id": "382b7b04-ebfb-4d4f-b74f-abe5395c6d8c",
   "metadata": {
    "tags": []
   },
   "outputs": [
    {
     "data": {
      "text/plain": [
       "'https://d2b7dn9rofvhjd.cloudfront.net/images/IMG_0738.max-800x600.jpg'"
      ]
     },
     "execution_count": 23,
     "metadata": {},
     "output_type": "execute_result"
    }
   ],
   "source": [
    "new_rendition.url"
   ]
  },
  {
   "cell_type": "code",
   "execution_count": 10,
   "id": "bc11eac7-4f9c-4aaf-8f63-d1abb5f4b636",
   "metadata": {
    "tags": []
   },
   "outputs": [],
   "source": [
    "image = rendition.image"
   ]
  },
  {
   "cell_type": "code",
   "execution_count": 11,
   "id": "45174520-29cb-444f-8e6f-0013cf67d7e4",
   "metadata": {
    "tags": []
   },
   "outputs": [
    {
     "data": {
      "text/plain": [
       "<Rendition: Rendition object (10047)>"
      ]
     },
     "execution_count": 11,
     "metadata": {},
     "output_type": "execute_result"
    }
   ],
   "source": [
    "image.find_existing_rendition(rendition.filter)"
   ]
  },
  {
   "cell_type": "code",
   "execution_count": 13,
   "id": "e9af6d14-e44e-44cf-a144-aeb02601f760",
   "metadata": {
    "tags": []
   },
   "outputs": [],
   "source": [
    "import httpx"
   ]
  },
  {
   "cell_type": "code",
   "execution_count": 14,
   "id": "d577be05-254f-46cf-af3c-c88f30785c9e",
   "metadata": {
    "tags": []
   },
   "outputs": [],
   "source": [
    "r = httpx.head(rendition.url)"
   ]
  },
  {
   "cell_type": "code",
   "execution_count": 15,
   "id": "ddcda6d0-c013-4306-be02-0aae63216e34",
   "metadata": {
    "tags": []
   },
   "outputs": [
    {
     "data": {
      "text/plain": [
       "403"
      ]
     },
     "execution_count": 15,
     "metadata": {},
     "output_type": "execute_result"
    }
   ],
   "source": [
    "r.status_code"
   ]
  },
  {
   "cell_type": "code",
   "execution_count": 18,
   "id": "b36560d0-3e59-41d6-8b20-db0b6ad6c190",
   "metadata": {
    "tags": []
   },
   "outputs": [
    {
     "name": "stdout",
     "output_type": "stream",
     "text": [
      "------------------------------\n",
      "{403: 1}\n",
      "------------------------------\n",
      "{403: 101}\n",
      "------------------------------\n",
      "{403: 201}\n",
      "------------------------------\n",
      "{403: 301}\n",
      "------------------------------\n",
      "{403: 401}\n",
      "------------------------------\n",
      "{403: 501}\n",
      "------------------------------\n",
      "{403: 601}\n",
      "------------------------------\n",
      "{403: 701}\n",
      "------------------------------\n",
      "{403: 801}\n",
      "------------------------------\n",
      "{403: 901}\n",
      "------------------------------\n",
      "{403: 1001}\n",
      "------------------------------\n",
      "{403: 1101}\n",
      "------------------------------\n",
      "{403: 1201}\n",
      "------------------------------\n",
      "{403: 1301}\n",
      "------------------------------\n",
      "{403: 1401}\n",
      "------------------------------\n",
      "{403: 1501}\n",
      "------------------------------\n",
      "{403: 1601}\n",
      "------------------------------\n",
      "{403: 1701}\n",
      "------------------------------\n",
      "{403: 1801}\n",
      "------------------------------\n",
      "{403: 1901}\n",
      "------------------------------\n",
      "{403: 2001}\n",
      "------------------------------\n",
      "{403: 2101}\n",
      "------------------------------\n",
      "{403: 2201}\n",
      "------------------------------\n",
      "{403: 2301}\n",
      "------------------------------\n",
      "{403: 2401}\n",
      "------------------------------\n",
      "{403: 2501}\n",
      "------------------------------\n",
      "{403: 2601}\n",
      "------------------------------\n",
      "{403: 2701}\n",
      "------------------------------\n",
      "{403: 2801}\n",
      "------------------------------\n",
      "{403: 2901}\n",
      "------------------------------\n",
      "{403: 3001}\n",
      "------------------------------\n",
      "{403: 3101}\n",
      "------------------------------\n",
      "{403: 3201}\n",
      "------------------------------\n",
      "{403: 3301}\n",
      "------------------------------\n",
      "{403: 3401}\n",
      "------------------------------\n",
      "{403: 3501}\n",
      "------------------------------\n",
      "{403: 3601}\n",
      "------------------------------\n",
      "{403: 3701}\n",
      "------------------------------\n",
      "{403: 3801}\n",
      "------------------------------\n",
      "{403: 3901}\n",
      "------------------------------\n",
      "{403: 4001}\n",
      "------------------------------\n",
      "{403: 4101}\n",
      "------------------------------\n",
      "{403: 4201}\n",
      "------------------------------\n",
      "{403: 4301}\n",
      "------------------------------\n",
      "{403: 4401}\n",
      "------------------------------\n",
      "{403: 4501}\n",
      "------------------------------\n",
      "{403: 4601}\n",
      "------------------------------\n",
      "{403: 4701}\n",
      "------------------------------\n",
      "{403: 4801}\n",
      "------------------------------\n",
      "{403: 4901}\n",
      "------------------------------\n",
      "{403: 5001}\n",
      "------------------------------\n",
      "{403: 5101}\n",
      "------------------------------\n",
      "{403: 5201}\n",
      "------------------------------\n",
      "{403: 5301}\n",
      "------------------------------\n",
      "{403: 5401}\n",
      "------------------------------\n",
      "{403: 5501}\n",
      "------------------------------\n",
      "{403: 5601}\n",
      "------------------------------\n",
      "{403: 5701}\n",
      "------------------------------\n",
      "{403: 5801}\n",
      "------------------------------\n",
      "{403: 5901}\n",
      "------------------------------\n",
      "{403: 6001}\n",
      "------------------------------\n",
      "{403: 6101}\n",
      "------------------------------\n",
      "{403: 6201}\n",
      "------------------------------\n",
      "{403: 6301}\n",
      "------------------------------\n",
      "{403: 6401}\n",
      "------------------------------\n",
      "{403: 6501}\n",
      "------------------------------\n",
      "{403: 6601}\n",
      "------------------------------\n",
      "{403: 6701}\n",
      "------------------------------\n",
      "{403: 6801}\n",
      "------------------------------\n",
      "{403: 6901}\n",
      "------------------------------\n",
      "{403: 7001}\n",
      "------------------------------\n",
      "{403: 7101}\n",
      "------------------------------\n",
      "{403: 7201}\n",
      "------------------------------\n",
      "{403: 7301}\n",
      "------------------------------\n",
      "{403: 7401}\n",
      "------------------------------\n",
      "{403: 7501}\n",
      "------------------------------\n",
      "{403: 7601}\n",
      "------------------------------\n",
      "{403: 7701}\n",
      "------------------------------\n",
      "{403: 7801}\n",
      "------------------------------\n",
      "{403: 7901}\n",
      "------------------------------\n",
      "{403: 8001}\n",
      "------------------------------\n",
      "{403: 8101}\n",
      "------------------------------\n",
      "{403: 8201}\n",
      "------------------------------\n",
      "{403: 8301}\n",
      "------------------------------\n",
      "{403: 8401}\n",
      "------------------------------\n",
      "{403: 8501}\n",
      "------------------------------\n",
      "{403: 8601}\n",
      "------------------------------\n",
      "{403: 8701}\n",
      "------------------------------\n",
      "{403: 8801}\n",
      "------------------------------\n",
      "{403: 8901}\n",
      "------------------------------\n",
      "{403: 9001}\n",
      "------------------------------\n",
      "{403: 9101}\n",
      "------------------------------\n",
      "{403: 9201}\n",
      "------------------------------\n",
      "{403: 9301}\n",
      "------------------------------\n",
      "{403: 9401}\n",
      "------------------------------\n",
      "{403: 9501}\n",
      "------------------------------\n",
      "{403: 9601}\n",
      "------------------------------\n",
      "{403: 9701}\n",
      "------------------------------\n",
      "{403: 9801}\n",
      "------------------------------\n",
      "{403: 9901}\n",
      "------------------------------\n",
      "{403: 10001}\n",
      "------------------------------\n",
      "{403: 10101}\n",
      "------------------------------\n",
      "{403: 10201}\n",
      "------------------------------\n",
      "{403: 10301}\n",
      "------------------------------\n",
      "{403: 10400, 200: 1}\n",
      "------------------------------\n",
      "{403: 10499, 200: 2}\n",
      "------------------------------\n",
      "{403: 10599, 200: 2}\n",
      "------------------------------\n",
      "{403: 10699, 200: 2}\n",
      "------------------------------\n",
      "{403: 10799, 200: 2}\n",
      "------------------------------\n",
      "{403: 10899, 200: 2}\n",
      "------------------------------\n",
      "{403: 10999, 200: 2}\n",
      "------------------------------\n",
      "{403: 11099, 200: 2}\n",
      "------------------------------\n",
      "{403: 11199, 200: 2}\n",
      "------------------------------\n",
      "{403: 11299, 200: 2}\n",
      "------------------------------\n",
      "{403: 11393, 200: 8}\n",
      "------------------------------\n",
      "{403: 11489, 200: 12}\n"
     ]
    }
   ],
   "source": [
    "rendition_by_status = {}\n",
    "for num, rendition in enumerate(Rendition.objects.all()):\n",
    "    r = httpx.head(rendition.url)\n",
    "    rendition_by_status.setdefault(r.status_code, []).append(rendition)\n",
    "    if num % 100 == 0:\n",
    "        print(\"------------------------------\")\n",
    "        print({k: len(v) for k, v in rendition_by_status.items()})"
   ]
  },
  {
   "cell_type": "code",
   "execution_count": 29,
   "id": "ef75aa36-6499-4a6e-a502-feb5d433a407",
   "metadata": {
    "tags": []
   },
   "outputs": [],
   "source": [
    "blog = Blog.objects.get(slug=\"ephes_blog\")"
   ]
  },
  {
   "cell_type": "code",
   "execution_count": 30,
   "id": "7c4cb330-98d4-4abd-8309-eab38e109be9",
   "metadata": {
    "tags": []
   },
   "outputs": [
    {
     "data": {
      "text/plain": [
       "<PageQuerySet [<Post: Weeknotes 2023-09-11>, <Post: Weeknotes 2023-09-04>, <Post: Weeknotes 2023-08-28>, <Post: Weeknotes 2023-08-21>, <Post: Not Getting Payed>, <Post: Weeknotes 2023-08-14>, <Post: Testing Django Management Commands with PyTest>, <Post: TIL: Using staticfiles with STORAGES>, <Post: Estimates Considered Harmful>, <Post: Weeknotes 2023-08-07>, <Post: Weeknotes 2023-07-31>, <Post: Weeknotes 2023-07-24>, <Post: Weeknotes 2023-07-17>, <Post: Weeknotes 2023-07-10>, <Post: Weeknotes 2023-07-03>, <Post: Weeknotes 2023-06-26>, <Post: Weeknotes 2023-06-19>, <Post: Weeknotes 2023-06-12>, <Post: Weeknotes 2023-06-05>, <Post: Weeknotes 2023-05-29>, '...(remaining elements truncated)...']>"
      ]
     },
     "execution_count": 30,
     "metadata": {},
     "output_type": "execute_result"
    }
   ],
   "source": [
    "Post.objects.all().descendant_of(blog).order_by(\"-visible_date\")"
   ]
  },
  {
   "cell_type": "code",
   "execution_count": null,
   "id": "1fe17712-6ce1-4947-985d-1bed64b817a3",
   "metadata": {},
   "outputs": [],
   "source": []
  }
 ],
 "metadata": {
  "kernelspec": {
   "display_name": "Django Kernel",
   "language": "python",
   "name": "django_extensions"
  },
  "language_info": {
   "codemirror_mode": {
    "name": "ipython",
    "version": 3
   },
   "file_extension": ".py",
   "mimetype": "text/x-python",
   "name": "python",
   "nbconvert_exporter": "python",
   "pygments_lexer": "ipython3",
   "version": "3.11.5"
  }
 },
 "nbformat": 4,
 "nbformat_minor": 5
}
