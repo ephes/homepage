{
 "cells": [
  {
   "cell_type": "code",
   "execution_count": 5,
   "id": "88a20c9f-e30b-41e5-93d8-3f3b91566438",
   "metadata": {
    "tags": []
   },
   "outputs": [],
   "source": [
    "post = Post.objects.last()"
   ]
  },
  {
   "cell_type": "code",
   "execution_count": 6,
   "id": "22c717ab-c11e-428a-b91d-7b03bc51960f",
   "metadata": {
    "tags": []
   },
   "outputs": [
    {
     "data": {
      "text/plain": [
       "[('nora', 'nora_1')]"
      ]
     },
     "execution_count": 6,
     "metadata": {},
     "output_type": "execute_result"
    }
   ],
   "source": [
    "[(t.name, t.slug) for t in post.tags.all()]"
   ]
  },
  {
   "cell_type": "code",
   "execution_count": 10,
   "id": "3cc2df9b-e048-4242-9df6-68d7f5894aed",
   "metadata": {
    "tags": []
   },
   "outputs": [],
   "source": [
    "post.tags.add(\"claas\")"
   ]
  },
  {
   "cell_type": "code",
   "execution_count": 11,
   "id": "d44ca3c7-35cd-4eae-9fab-6301236c3601",
   "metadata": {
    "tags": []
   },
   "outputs": [],
   "source": [
    "post.save()"
   ]
  },
  {
   "cell_type": "code",
   "execution_count": null,
   "id": "e704ed07-761d-4a37-942c-b5a26d2da3d2",
   "metadata": {},
   "outputs": [],
   "source": []
  }
 ],
 "metadata": {
  "kernelspec": {
   "display_name": "Django Kernel",
   "language": "python",
   "name": "django_extensions"
  },
  "language_info": {
   "codemirror_mode": {
    "name": "ipython",
    "version": 3
   },
   "file_extension": ".py",
   "mimetype": "text/x-python",
   "name": "python",
   "nbconvert_exporter": "python",
   "pygments_lexer": "ipython3",
   "version": "3.11.5"
  }
 },
 "nbformat": 4,
 "nbformat_minor": 5
}
