{
 "cells": [
  {
   "cell_type": "code",
   "execution_count": 1,
   "id": "d28b8fd2-7f43-4f57-b2b4-f4f3e1dbdb1c",
   "metadata": {
    "tags": []
   },
   "outputs": [],
   "source": [
    "import sqlparse\n",
    "\n",
    "from django.db import connection, reset_queries"
   ]
  },
  {
   "cell_type": "code",
   "execution_count": 2,
   "id": "1f8444ae-4235-46be-93bb-972092c701be",
   "metadata": {
    "tags": []
   },
   "outputs": [],
   "source": [
    "def count_queries(func):\n",
    "    reset_queries()\n",
    "    renditions = list(func())\n",
    "    return len(connection.queries)\n",
    "\n",
    "\n",
    "def show_queries(queries):\n",
    "    for query in queries:\n",
    "        formatted_sql = sqlparse.format(query['sql'], reindent=True, keyword_case='upper')\n",
    "        print(formatted_sql)    "
   ]
  },
  {
   "cell_type": "code",
   "execution_count": 3,
   "id": "eae43247-dc3b-4041-ab37-dfacf96c7ebe",
   "metadata": {
    "tags": []
   },
   "outputs": [],
   "source": [
    "def get_published_posts(filtered_posts):\n",
    "    queryset = filtered_posts\n",
    "    # queryset = (\n",
    "    #    queryset.prefetch_related(\"audios\")\n",
    "    #    .prefetch_related(\"images\")\n",
    "    #    .prefetch_related(\"videos\")\n",
    "    #    .prefetch_related(\"galleries\")\n",
    "    #    .select_related(\"owner\")\n",
    "    # )\n",
    "    queryset = queryset.prefetch_related(\n",
    "        \"audios\", \"images\", \"videos\", \"galleries\", \"galleries__images\", \"owner\",\n",
    "        \"images__renditions\", \"galleries__images__renditions\",\n",
    "    )\n",
    "    return queryset\n",
    "\n",
    "\n",
    "def get_all_renditions(posts):\n",
    "    renditions = []\n",
    "    for post in posts:\n",
    "        for imag_type, image in post.get_all_images():\n",
    "            for rendition in image.renditions.all():\n",
    "                renditions.append(rendition)\n",
    "    return renditions\n"
   ]
  },
  {
   "cell_type": "code",
   "execution_count": 4,
   "id": "5bcd79b1-90c5-43c4-b01c-2653dd4c77a0",
   "metadata": {
    "tags": []
   },
   "outputs": [],
   "source": [
    "blog = Blog.objects.get(slug=\"das_claas_und_nora_blog\")\n",
    "posts_queryset = get_published_posts(Post.objects.live().descendant_of(blog).order_by(\"-visible_date\"))"
   ]
  },
  {
   "cell_type": "code",
   "execution_count": 5,
   "id": "3672d388-ef1f-439f-83a7-21b9dfd7589c",
   "metadata": {
    "tags": []
   },
   "outputs": [
    {
     "name": "stdout",
     "output_type": "stream",
     "text": [
      "CPU times: user 385 ms, sys: 28.8 ms, total: 414 ms\n",
      "Wall time: 437 ms\n"
     ]
    },
    {
     "data": {
      "text/plain": [
       "9"
      ]
     },
     "execution_count": 5,
     "metadata": {},
     "output_type": "execute_result"
    }
   ],
   "source": [
    "%%time\n",
    "reset_queries()\n",
    "# posts = list(get_published_posts(posts_queryset))\n",
    "renditions = list(Post.get_all_renditions_from_queryset(posts_queryset))\n",
    "len(connection.queries)"
   ]
  },
  {
   "cell_type": "code",
   "execution_count": 6,
   "id": "629a8fc2-b23a-4338-9936-1a416c294070",
   "metadata": {
    "tags": []
   },
   "outputs": [
    {
     "data": {
      "text/plain": [
       "1810"
      ]
     },
     "execution_count": 6,
     "metadata": {},
     "output_type": "execute_result"
    }
   ],
   "source": [
    "len(renditions)"
   ]
  },
  {
   "cell_type": "code",
   "execution_count": 7,
   "id": "d8fa06a4-b464-4de0-a20c-e96da25a868f",
   "metadata": {
    "tags": []
   },
   "outputs": [
    {
     "data": {
      "text/plain": [
       "25835"
      ]
     },
     "execution_count": 7,
     "metadata": {},
     "output_type": "execute_result"
    }
   ],
   "source": [
    "Rendition.objects.count()"
   ]
  }
 ],
 "metadata": {
  "kernelspec": {
   "display_name": "Django Kernel",
   "language": "python",
   "name": "django_extensions"
  },
  "language_info": {
   "codemirror_mode": {
    "name": "ipython",
    "version": 3
   },
   "file_extension": ".py",
   "mimetype": "text/x-python",
   "name": "python",
   "nbconvert_exporter": "python",
   "pygments_lexer": "ipython3",
   "version": "3.12.2"
  }
 },
 "nbformat": 4,
 "nbformat_minor": 5
}
