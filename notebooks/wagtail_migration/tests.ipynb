{
 "cells": [
  {
   "cell_type": "code",
   "execution_count": 1,
   "id": "b7f93d5b-0e90-4f05-92c0-e9bbfdeceaf5",
   "metadata": {},
   "outputs": [],
   "source": [
    "import requests"
   ]
  },
  {
   "cell_type": "code",
   "execution_count": 2,
   "id": "74bd1a0a-c298-4aa6-9654-88610731d972",
   "metadata": {},
   "outputs": [],
   "source": [
    "url_orig = \"https://wersdoerfer.de/blogs/das_claas_blog/roller-fahren/\"\n",
    "url_new = \"https://homepage.staging.django-cast.com/blogs/das_claas_blog/roller-fahren/\""
   ]
  },
  {
   "cell_type": "code",
   "execution_count": 3,
   "id": "424cead5-a3f9-49ed-9e59-62e06b4fcb5e",
   "metadata": {},
   "outputs": [
    {
     "name": "stdout",
     "output_type": "stream",
     "text": [
      "CPU times: user 28.2 ms, sys: 8.37 ms, total: 36.6 ms\n",
      "Wall time: 189 ms\n"
     ]
    }
   ],
   "source": [
    "%%time\n",
    "r1 = requests.get(url_orig)"
   ]
  },
  {
   "cell_type": "code",
   "execution_count": 5,
   "id": "ce3ee20f-fef8-42ca-a308-34f5a81d862c",
   "metadata": {},
   "outputs": [
    {
     "data": {
      "text/plain": [
       "200"
      ]
     },
     "execution_count": 5,
     "metadata": {},
     "output_type": "execute_result"
    }
   ],
   "source": [
    "r1.status_code"
   ]
  },
  {
   "cell_type": "code",
   "execution_count": 6,
   "id": "ee8c8b9b-978b-40d3-b375-33a920a15050",
   "metadata": {},
   "outputs": [
    {
     "name": "stdout",
     "output_type": "stream",
     "text": [
      "CPU times: user 24 ms, sys: 4.16 ms, total: 28.1 ms\n",
      "Wall time: 164 ms\n"
     ]
    }
   ],
   "source": [
    "%%time\n",
    "r2 = requests.get(url_new)"
   ]
  },
  {
   "cell_type": "code",
   "execution_count": 7,
   "id": "39b3b036-e1f5-4207-9075-97d2a89142c9",
   "metadata": {},
   "outputs": [
    {
     "name": "stdout",
     "output_type": "stream",
     "text": [
      "8381\n",
      "8393\n"
     ]
    }
   ],
   "source": [
    "print(len(r1.content))\n",
    "print(len(r2.content))"
   ]
  },
  {
   "cell_type": "code",
   "execution_count": 8,
   "id": "2eb66800-e5a2-4347-b9d5-44691022739b",
   "metadata": {},
   "outputs": [],
   "source": [
    "url_orig = \"https://wersdoerfer.de/blogs/ephes_blog/weeknotes-2022-10-17/\"\n",
    "url_new = \"https://homepage.staging.django-cast.com/blogs/ephes_blog/weeknotes-2022-10-17/\""
   ]
  },
  {
   "cell_type": "code",
   "execution_count": 9,
   "id": "3338df0c-53cf-4978-a1a5-a824c5c53126",
   "metadata": {},
   "outputs": [
    {
     "name": "stdout",
     "output_type": "stream",
     "text": [
      "CPU times: user 22.5 ms, sys: 4.89 ms, total: 27.4 ms\n",
      "Wall time: 163 ms\n"
     ]
    }
   ],
   "source": [
    "%%time\n",
    "r1 = requests.get(url_orig)"
   ]
  },
  {
   "cell_type": "code",
   "execution_count": 10,
   "id": "89ff0146-23b6-48be-b2e3-5fb318d52fe7",
   "metadata": {},
   "outputs": [
    {
     "name": "stdout",
     "output_type": "stream",
     "text": [
      "CPU times: user 20.1 ms, sys: 4.16 ms, total: 24.2 ms\n",
      "Wall time: 186 ms\n"
     ]
    }
   ],
   "source": [
    "%%time\n",
    "r2 = requests.get(url_new)"
   ]
  },
  {
   "cell_type": "code",
   "execution_count": 11,
   "id": "9245b84f-e56e-4360-ab11-a94bd47271ae",
   "metadata": {},
   "outputs": [
    {
     "name": "stdout",
     "output_type": "stream",
     "text": [
      "18089\n",
      "15868\n"
     ]
    }
   ],
   "source": [
    "print(len(r1.content))\n",
    "print(len(r2.content))"
   ]
  },
  {
   "cell_type": "code",
   "execution_count": null,
   "id": "65ca001f-da6d-4676-b31c-6371855c2cd3",
   "metadata": {},
   "outputs": [],
   "source": []
  }
 ],
 "metadata": {
  "kernelspec": {
   "display_name": "Django Kernel",
   "language": "python",
   "name": "django_extensions"
  },
  "language_info": {
   "codemirror_mode": {
    "name": "ipython",
    "version": 3
   },
   "file_extension": ".py",
   "mimetype": "text/x-python",
   "name": "python",
   "nbconvert_exporter": "python",
   "pygments_lexer": "ipython3",
   "version": "3.11.0"
  }
 },
 "nbformat": 4,
 "nbformat_minor": 5
}
