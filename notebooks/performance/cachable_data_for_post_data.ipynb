{
 "cells": [
  {
   "cell_type": "code",
   "execution_count": 2,
   "id": "861dca02-452f-46a9-8d83-f12d230fb5d3",
   "metadata": {
    "tags": []
   },
   "outputs": [],
   "source": [
    "import pickle\n",
    "import sqlparse\n",
    "\n",
    "from django.test.client import RequestFactory\n",
    "from django.db import connection, reset_queries\n",
    "\n",
    "from cast.cache import PagedPostData"
   ]
  },
  {
   "cell_type": "markdown",
   "id": "281dbef5-44d3-4cb6-aea2-42b90ea30033",
   "metadata": {},
   "source": [
    "# Replace ORM queries with raw SQL\n",
    "\n",
    "Why? Because it's difficult to cache querysets. They tend to contain\n",
    "generators, nested classes, the gorilla holding the banana and the whole jungle.\n",
    "\n",
    "A database fetchall result on the other hand is just a list of dicts.\n",
    "This should be easy to cache."
   ]
  },
  {
   "cell_type": "code",
   "execution_count": 3,
   "id": "02c79e4c-bf9f-4d4d-904c-946325842add",
   "metadata": {
    "tags": []
   },
   "outputs": [],
   "source": [
    "def show_queries(queries):\n",
    "    for query in queries:\n",
    "        formatted_sql = sqlparse.format(query['sql'], reindent=True, keyword_case='upper')\n",
    "        print(\"------------------------------------------------\")\n",
    "        print(formatted_sql)\n",
    "        \n",
    "\n",
    "def blocker(*args):\n",
    "    raise Exception(\"No database access allowed here.\")\n",
    "\n",
    "    \n",
    "# blog_slug = \"ephes_blog\"\n",
    "blog_slug = \"das_claas_und_nora_blog\"\n",
    "blog = Blog.objects.get(slug=blog_slug)\n",
    "request_factory = RequestFactory()"
   ]
  },
  {
   "cell_type": "code",
   "execution_count": 4,
   "id": "17f51bcc-a030-4f0f-8d44-357a02afdb33",
   "metadata": {
    "tags": []
   },
   "outputs": [],
   "source": [
    "# %%time\n",
    "# reset_queries()\n",
    "# post_queryset = blog.unfiltered_published_posts\n",
    "# post_data = PagedPostData.data_for_blog_index(\n",
    "#     request=request_factory.get(\"/\"),\n",
    "#     blog=blog,\n",
    "# )\n",
    "# print(len(connection.queries))"
   ]
  },
  {
   "cell_type": "code",
   "execution_count": 5,
   "id": "39e3438f-52de-4412-86f7-c3e05f426ade",
   "metadata": {
    "tags": []
   },
   "outputs": [],
   "source": [
    "#show_queries(connection.queries)"
   ]
  },
  {
   "cell_type": "markdown",
   "id": "2a5da718-9dc6-417a-9f26-048ff1670d63",
   "metadata": {},
   "source": [
    "# Just get cachable data"
   ]
  },
  {
   "cell_type": "code",
   "execution_count": 6,
   "id": "2ed94c0c-5680-4048-ae2c-24efa5bd097d",
   "metadata": {},
   "outputs": [
    {
     "name": "stdout",
     "output_type": "stream",
     "text": [
      "31\n",
      "CPU times: user 121 ms, sys: 20.2 ms, total: 141 ms\n",
      "Wall time: 169 ms\n"
     ]
    }
   ],
   "source": [
    "%%time\n",
    "request = request_factory.get(blog.get_url())\n",
    "request.htmx = False\n",
    "reset_queries()\n",
    "cachable_data = PagedPostData.data_for_blog_index_cachable(request=request, blog=blog)\n",
    "print(len(connection.queries))"
   ]
  },
  {
   "cell_type": "code",
   "execution_count": 6,
   "id": "39908a7e-9482-4cb4-b36e-257b039d4834",
   "metadata": {
    "tags": []
   },
   "outputs": [
    {
     "name": "stdout",
     "output_type": "stream",
     "text": [
      "CPU times: user 3.53 ms, sys: 3.37 ms, total: 6.9 ms\n",
      "Wall time: 4.11 ms\n"
     ]
    }
   ],
   "source": [
    "%%time\n",
    "cache_path = \"paged_post_data.pkl\"\n",
    "with open(cache_path, \"wb\") as f:\n",
    "    pickle.dump(cachable_data, f)\n",
    "\n",
    "with open(cache_path, \"rb\") as f:\n",
    "    loaded = pickle.load(f)"
   ]
  },
  {
   "cell_type": "code",
   "execution_count": 7,
   "id": "d66dec8a-2cec-43c4-9aad-52c8327a6202",
   "metadata": {
    "tags": []
   },
   "outputs": [
    {
     "name": "stdout",
     "output_type": "stream",
     "text": [
      "CPU times: user 43.7 ms, sys: 12.6 ms, total: 56.3 ms\n",
      "Wall time: 60.5 ms\n"
     ]
    }
   ],
   "source": [
    "%%time\n",
    "paged_post_data = PagedPostData.create_from_cachable_data(data=loaded)"
   ]
  },
  {
   "cell_type": "code",
   "execution_count": 8,
   "id": "6b82d116-5eb0-4019-9f67-f1bab862a966",
   "metadata": {
    "tags": []
   },
   "outputs": [],
   "source": [
    "response = blog.serve(request, post_data=paged_post_data)"
   ]
  },
  {
   "cell_type": "code",
   "execution_count": 9,
   "id": "7fe85d58-5b58-4265-a28a-897ff05d54dc",
   "metadata": {
    "tags": []
   },
   "outputs": [
    {
     "data": {
      "text/plain": [
       "'bootstrap5'"
      ]
     },
     "execution_count": 9,
     "metadata": {},
     "output_type": "execute_result"
    }
   ],
   "source": [
    "paged_post_data.template_base_dir"
   ]
  },
  {
   "cell_type": "code",
   "execution_count": 10,
   "id": "b5b4c582-9c81-4df9-9892-63a5e16cba46",
   "metadata": {
    "tags": []
   },
   "outputs": [
    {
     "data": {
      "text/plain": [
       "<cast.cache.PagedPostData at 0x127b87440>"
      ]
     },
     "execution_count": 10,
     "metadata": {},
     "output_type": "execute_result"
    }
   ],
   "source": [
    "paged_post_data"
   ]
  },
  {
   "cell_type": "markdown",
   "id": "1a8afb19-f136-412e-a832-7a77f31fe18c",
   "metadata": {},
   "source": [
    "# With cached post data vs no cache"
   ]
  },
  {
   "cell_type": "markdown",
   "id": "0f67a7f2-d012-41bd-957f-a0256b461c58",
   "metadata": {},
   "source": [
    "## without"
   ]
  },
  {
   "cell_type": "code",
   "execution_count": 15,
   "id": "ebb7d0f4-075f-43c2-9ea1-cb6331b32eeb",
   "metadata": {
    "tags": []
   },
   "outputs": [
    {
     "name": "stdout",
     "output_type": "stream",
     "text": [
      "CPU times: user 50.8 ms, sys: 20.1 ms, total: 71 ms\n",
      "Wall time: 75.3 ms\n"
     ]
    }
   ],
   "source": [
    "%%time\n",
    "request = request_factory.get(blog.get_url() + \"?foo=bar\")\n",
    "request.htmx = False\n",
    "content = blog.serve(request, post_data=paged_post_data).render()"
   ]
  },
  {
   "cell_type": "markdown",
   "id": "5bfc73b2-760b-4188-b144-f36b0c5f3012",
   "metadata": {},
   "source": [
    "## with"
   ]
  },
  {
   "cell_type": "code",
   "execution_count": 16,
   "id": "207f88ea-10e9-4d46-9da2-18b21eeed237",
   "metadata": {
    "tags": []
   },
   "outputs": [
    {
     "name": "stdout",
     "output_type": "stream",
     "text": [
      "CPU times: user 44.8 ms, sys: 6.4 ms, total: 51.2 ms\n",
      "Wall time: 52.6 ms\n"
     ]
    }
   ],
   "source": [
    "%%time\n",
    "request = request_factory.get(blog.get_url())\n",
    "request.htmx = False\n",
    "content = blog.serve(request, post_data=paged_post_data).render()"
   ]
  },
  {
   "cell_type": "code",
   "execution_count": 8,
   "id": "5c471ffa-1777-4f19-be18-05b0d9160f7d",
   "metadata": {},
   "outputs": [],
   "source": [
    "foo = '<a class=\"text-dark text-decoration-none\" href=\"/blogs/ephes_blog/weeknotes-2024-04-01/\">Weeknotes 2024-04-01</a>'"
   ]
  },
  {
   "cell_type": "code",
   "execution_count": 13,
   "id": "6e6fcaff-8848-4a41-88c3-bd72647b8662",
   "metadata": {
    "tags": []
   },
   "outputs": [],
   "source": [
    "post = Post.objects.first()"
   ]
  },
  {
   "cell_type": "code",
   "execution_count": 14,
   "id": "bcd5a298-c1d0-415a-accd-8a32b4f3f635",
   "metadata": {
    "tags": []
   },
   "outputs": [
    {
     "data": {
      "text/plain": [
       "'/blogs/das_claas_und_nora_blog/Zu-ersten-Mal-etwas-Mohrenbrei/'"
      ]
     },
     "execution_count": 14,
     "metadata": {},
     "output_type": "execute_result"
    }
   ],
   "source": [
    "post.url"
   ]
  },
  {
   "cell_type": "code",
   "execution_count": 15,
   "id": "7923cf56-ffe8-4698-8cec-5c1e03dcfa99",
   "metadata": {
    "tags": []
   },
   "outputs": [
    {
     "ename": "AttributeError",
     "evalue": "'Post' object has no attribute 'page_url'",
     "output_type": "error",
     "traceback": [
      "\u001b[0;31m---------------------------------------------------------------------------\u001b[0m",
      "\u001b[0;31mAttributeError\u001b[0m                            Traceback (most recent call last)",
      "Cell \u001b[0;32mIn[15], line 1\u001b[0m\n\u001b[0;32m----> 1\u001b[0m \u001b[43mpost\u001b[49m\u001b[38;5;241;43m.\u001b[39;49m\u001b[43mpage_url\u001b[49m\n",
      "\u001b[0;31mAttributeError\u001b[0m: 'Post' object has no attribute 'page_url'"
     ]
    }
   ],
   "source": [
    "post.page_url"
   ]
  },
  {
   "cell_type": "code",
   "execution_count": null,
   "id": "2b6aaa42-3478-489b-8966-6725ae858e15",
   "metadata": {},
   "outputs": [],
   "source": []
  }
 ],
 "metadata": {
  "kernelspec": {
   "display_name": "Django Kernel",
   "language": "python",
   "name": "django_extensions"
  },
  "language_info": {
   "codemirror_mode": {
    "name": "ipython",
    "version": 3
   },
   "file_extension": ".py",
   "mimetype": "text/x-python",
   "name": "python",
   "nbconvert_exporter": "python",
   "pygments_lexer": "ipython3",
   "version": "3.12.3"
  }
 },
 "nbformat": 4,
 "nbformat_minor": 5
}
