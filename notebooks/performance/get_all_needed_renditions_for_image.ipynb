{
 "cells": [
  {
   "cell_type": "code",
   "execution_count": 1,
   "id": "5b71e951-ab8d-4da9-99f3-1d2e6d206470",
   "metadata": {
    "tags": []
   },
   "outputs": [],
   "source": [
    "from cast.renditions import RenditionFilters"
   ]
  },
  {
   "cell_type": "code",
   "execution_count": 2,
   "id": "871b8b72-2844-4724-b9f5-dd8f46d9090a",
   "metadata": {
    "tags": []
   },
   "outputs": [],
   "source": [
    "posts = [p for p in Post.objects.all()[:10] if p.images.count() > 0]\n",
    "post = posts[0]"
   ]
  },
  {
   "cell_type": "code",
   "execution_count": 3,
   "id": "7e3664b2-2fd0-418f-8e56-7293f1de08d5",
   "metadata": {
    "tags": []
   },
   "outputs": [
    {
     "data": {
      "text/plain": [
       "'Zu-ersten-Mal-etwas-Mohrenbrei'"
      ]
     },
     "execution_count": 3,
     "metadata": {},
     "output_type": "execute_result"
    }
   ],
   "source": [
    "post.slug"
   ]
  },
  {
   "cell_type": "code",
   "execution_count": 9,
   "id": "fbd27cb4-5ed3-4c7d-9384-7a5e526f82f8",
   "metadata": {
    "tags": []
   },
   "outputs": [],
   "source": [
    "images = list(post.images.all())\n",
    "image = images[0]"
   ]
  },
  {
   "cell_type": "code",
   "execution_count": 10,
   "id": "c1923e96-fd76-4121-9210-ff8f77fbfdb7",
   "metadata": {
    "tags": []
   },
   "outputs": [],
   "source": [
    "renditions = list(image.renditions.all())"
   ]
  },
  {
   "cell_type": "code",
   "execution_count": 28,
   "id": "ce08e61b-50c5-4273-95c0-2d22cda47544",
   "metadata": {
    "tags": []
   },
   "outputs": [
    {
     "data": {
      "text/plain": [
       "'max-165x165'"
      ]
     },
     "execution_count": 28,
     "metadata": {},
     "output_type": "execute_result"
    }
   ],
   "source": [
    "renditions[0].filter_spec"
   ]
  },
  {
   "cell_type": "code",
   "execution_count": 29,
   "id": "4dad8cbf-a463-48b6-b695-519fdea310ac",
   "metadata": {
    "tags": []
   },
   "outputs": [],
   "source": [
    "existing_filter_strings = [r.filter_spec for r in renditions]"
   ]
  },
  {
   "cell_type": "code",
   "execution_count": 30,
   "id": "508b2f69-aee8-4b99-bc94-fd51426a9d70",
   "metadata": {
    "tags": []
   },
   "outputs": [
    {
     "data": {
      "text/plain": [
       "['max-165x165',\n",
       " 'width-555|format-avif',\n",
       " 'width-1110|format-avif',\n",
       " 'width-1665|format-avif',\n",
       " 'width-60|format-avif',\n",
       " 'width-120|format-avif',\n",
       " 'width-180|format-avif',\n",
       " 'width-120',\n",
       " 'width-555',\n",
       " 'width-60',\n",
       " 'width-180',\n",
       " 'width-1110',\n",
       " 'width-1665']"
      ]
     },
     "execution_count": 30,
     "metadata": {},
     "output_type": "execute_result"
    }
   ],
   "source": [
    "existing_filter_strings"
   ]
  },
  {
   "cell_type": "code",
   "execution_count": 11,
   "id": "56b6cf85-156a-4fc8-b4f7-f0ccd9bd6cc5",
   "metadata": {
    "tags": []
   },
   "outputs": [],
   "source": [
    "# for rendition in renditions:\n",
    "#     print(rendition.width, rendition.filter_spec)"
   ]
  },
  {
   "cell_type": "code",
   "execution_count": 22,
   "id": "42518c7f-ea2b-46cb-8c99-26ceed1d8e9c",
   "metadata": {
    "tags": []
   },
   "outputs": [],
   "source": [
    "rendition_filters = RenditionFilters.from_wagtail_image_with_type(image=image, image_type=\"regular\")\n",
    "slots, image_formats = rendition_filters.slots, rendition_filters.image_formats\n",
    "rendition_filter_strings = rendition_filters.filter_strings"
   ]
  },
  {
   "cell_type": "code",
   "execution_count": 26,
   "id": "b2d18129-626f-4f4f-bf70-150fb2796a97",
   "metadata": {
    "tags": []
   },
   "outputs": [
    {
     "data": {
      "text/plain": [
       "{'width-1110',\n",
       " 'width-1110|format-avif',\n",
       " 'width-1665',\n",
       " 'width-1665|format-avif',\n",
       " 'width-555',\n",
       " 'width-555|format-avif'}"
      ]
     },
     "execution_count": 26,
     "metadata": {},
     "output_type": "execute_result"
    }
   ],
   "source": [
    "set(rendition_filter_strings)"
   ]
  },
  {
   "cell_type": "code",
   "execution_count": 25,
   "id": "d7c610fe-8381-4da0-82db-aca99ee17518",
   "metadata": {
    "tags": []
   },
   "outputs": [
    {
     "data": {
      "text/plain": [
       "'jpeg'"
      ]
     },
     "execution_count": 25,
     "metadata": {},
     "output_type": "execute_result"
    }
   ],
   "source": [
    "rendition_filters.original_format"
   ]
  },
  {
   "cell_type": "code",
   "execution_count": 24,
   "id": "257f3af9-bdc3-4a40-8663-f8f2a04fa66d",
   "metadata": {
    "tags": []
   },
   "outputs": [
    {
     "data": {
      "text/plain": [
       "{}"
      ]
     },
     "execution_count": 24,
     "metadata": {},
     "output_type": "execute_result"
    }
   ],
   "source": [
    "rendition_filters.filter_to_url"
   ]
  },
  {
   "cell_type": "code",
   "execution_count": 19,
   "id": "2846320c-40bb-4ce9-922f-d57b68a5da3d",
   "metadata": {
    "tags": []
   },
   "outputs": [],
   "source": [
    "[slot] = slots"
   ]
  },
  {
   "cell_type": "code",
   "execution_count": 20,
   "id": "c62edd43-9a6e-4321-944b-9ec5545a2641",
   "metadata": {
    "tags": []
   },
   "outputs": [
    {
     "ename": "KeyError",
     "evalue": "'width-555'",
     "output_type": "error",
     "traceback": [
      "\u001b[0;31m---------------------------------------------------------------------------\u001b[0m",
      "\u001b[0;31mKeyError\u001b[0m                                  Traceback (most recent call last)",
      "Cell \u001b[0;32mIn[20], line 1\u001b[0m\n\u001b[0;32m----> 1\u001b[0m \u001b[43mrendition_filters\u001b[49m\u001b[38;5;241;43m.\u001b[39;49m\u001b[43mget_image_for_slot\u001b[49m\u001b[43m(\u001b[49m\u001b[43mslot\u001b[49m\u001b[43m)\u001b[49m\n",
      "File \u001b[0;32m~/.virtualenvs/homepage/lib/python3.12/site-packages/cast/renditions.py:256\u001b[0m, in \u001b[0;36mRenditionFilters.get_image_for_slot\u001b[0;34m(self, slot)\u001b[0m\n\u001b[1;32m    255\u001b[0m \u001b[38;5;28;01mdef\u001b[39;00m \u001b[38;5;21mget_image_for_slot\u001b[39m(\u001b[38;5;28mself\u001b[39m, slot: Rectangle) \u001b[38;5;241m-\u001b[39m\u001b[38;5;241m>\u001b[39m ImageForSlot:\n\u001b[0;32m--> 256\u001b[0m     src \u001b[38;5;241m=\u001b[39m \u001b[38;5;28;43mself\u001b[39;49m\u001b[38;5;241;43m.\u001b[39;49m\u001b[43mget_src_for_slot\u001b[49m\u001b[43m(\u001b[49m\u001b[43mslot\u001b[49m\u001b[43m)\u001b[49m\n\u001b[1;32m    257\u001b[0m     srcset \u001b[38;5;241m=\u001b[39m \u001b[38;5;28mself\u001b[39m\u001b[38;5;241m.\u001b[39mget_srcset_for_slot(slot)\n\u001b[1;32m    258\u001b[0m     fitting_image \u001b[38;5;241m=\u001b[39m Rectangle(width\u001b[38;5;241m=\u001b[39m\u001b[38;5;28mself\u001b[39m\u001b[38;5;241m.\u001b[39mslot_to_fitting_width[slot], height\u001b[38;5;241m=\u001b[39mslot\u001b[38;5;241m.\u001b[39mheight)\n",
      "File \u001b[0;32m~/.virtualenvs/homepage/lib/python3.12/site-packages/cast/renditions.py:239\u001b[0m, in \u001b[0;36mRenditionFilters.get_src_for_slot\u001b[0;34m(self, slot)\u001b[0m\n\u001b[1;32m    237\u001b[0m     format_filter \u001b[38;5;241m=\u001b[39m \u001b[38;5;28mself\u001b[39m\u001b[38;5;241m.\u001b[39mget_filter_by_slot_format_and_fitting_width(slot, image_format, fitting_width)\n\u001b[1;32m    238\u001b[0m     format_filter_string \u001b[38;5;241m=\u001b[39m format_filter\u001b[38;5;241m.\u001b[39mget_wagtail_filter_str(\u001b[38;5;28mself\u001b[39m\u001b[38;5;241m.\u001b[39moriginal_format)\n\u001b[0;32m--> 239\u001b[0m     src[image_format] \u001b[38;5;241m=\u001b[39m \u001b[38;5;28;43mself\u001b[39;49m\u001b[38;5;241;43m.\u001b[39;49m\u001b[43mfilter_to_url\u001b[49m\u001b[43m[\u001b[49m\u001b[43mformat_filter_string\u001b[49m\u001b[43m]\u001b[49m\n\u001b[1;32m    240\u001b[0m \u001b[38;5;28;01mreturn\u001b[39;00m src\n",
      "\u001b[0;31mKeyError\u001b[0m: 'width-555'"
     ]
    }
   ],
   "source": [
    "rendition_filters.get_image_for_slot(slot)"
   ]
  },
  {
   "cell_type": "code",
   "execution_count": 37,
   "id": "f9e341f2-714e-4c8a-822f-df9ba482e52f",
   "metadata": {
    "tags": []
   },
   "outputs": [
    {
     "data": {
      "text/plain": [
       "Rectangle(width=1110, height=740)"
      ]
     },
     "execution_count": 37,
     "metadata": {},
     "output_type": "execute_result"
    }
   ],
   "source": [
    "slot"
   ]
  },
  {
   "cell_type": "code",
   "execution_count": 47,
   "id": "d19ef9df-ffac-4b18-aac1-137839d59c2f",
   "metadata": {
    "tags": []
   },
   "outputs": [
    {
     "data": {
      "text/plain": [
       "{}"
      ]
     },
     "execution_count": 47,
     "metadata": {},
     "output_type": "execute_result"
    }
   ],
   "source": [
    "rendition_filters.filter_to_url"
   ]
  },
  {
   "cell_type": "markdown",
   "id": "367d2a06-fdb8-4c76-bde0-b474754403eb",
   "metadata": {},
   "source": [
    "## existing method"
   ]
  },
  {
   "cell_type": "code",
   "execution_count": 42,
   "id": "2ad91588-a36a-48ff-b433-809710aed3bc",
   "metadata": {
    "tags": []
   },
   "outputs": [],
   "source": [
    "images_with_type = Post.get_all_images_from_queryset([post])\n",
    "#obsolete, missing = Post.get_obsolete_and_missing_rendition_strings(images_with_type)"
   ]
  },
  {
   "cell_type": "code",
   "execution_count": 35,
   "id": "12f27c5a-696c-4430-9468-b53a812baf9b",
   "metadata": {
    "tags": []
   },
   "outputs": [
    {
     "data": {
      "text/plain": [
       "set()"
      ]
     },
     "execution_count": 35,
     "metadata": {},
     "output_type": "execute_result"
    }
   ],
   "source": [
    "obsolete"
   ]
  },
  {
   "cell_type": "code",
   "execution_count": 36,
   "id": "ebe340c6-3c92-42a0-9641-60e6b35ccfe0",
   "metadata": {
    "tags": []
   },
   "outputs": [
    {
     "data": {
      "text/plain": [
       "{}"
      ]
     },
     "execution_count": 36,
     "metadata": {},
     "output_type": "execute_result"
    }
   ],
   "source": [
    "missing"
   ]
  },
  {
   "cell_type": "code",
   "execution_count": 59,
   "id": "57279b7f-d351-401b-9c73-37d13555e03f",
   "metadata": {
    "tags": []
   },
   "outputs": [],
   "source": [
    "class StubFile:\n",
    "    def __init__(self, name):\n",
    "        self.name = name\n",
    "        self.url = f\"/media/{name}\"\n",
    "\n",
    "\n",
    "image = Image(id=23, width=6000, height=4000, file=StubFile(\"foo.png\"))\n",
    "image = Image(id=23, width=1, height=1, file=StubFile(\"foo.png\"))"
   ]
  },
  {
   "cell_type": "code",
   "execution_count": 60,
   "id": "d2a74d36-e5c4-4c0d-b4d1-c716bd7d5d50",
   "metadata": {
    "tags": []
   },
   "outputs": [],
   "source": [
    "images_with_type = [(\"regular\", image)]"
   ]
  },
  {
   "cell_type": "code",
   "execution_count": 61,
   "id": "0021339b-31ef-4fac-b61c-a82679090454",
   "metadata": {
    "tags": []
   },
   "outputs": [
    {
     "name": "stdout",
     "output_type": "stream",
     "text": [
      "image_type, image:  regular \n",
      "filter_strings_to_fetch:  []\n"
     ]
    },
    {
     "data": {
      "text/plain": [
       "[]"
      ]
     },
     "execution_count": 61,
     "metadata": {},
     "output_type": "execute_result"
    }
   ],
   "source": [
    "list(Post.get_all_filterstrings(images_with_type))"
   ]
  },
  {
   "cell_type": "code",
   "execution_count": 64,
   "id": "b1ecf121-e1fb-4306-9fd4-296650cc61c4",
   "metadata": {
    "tags": []
   },
   "outputs": [
    {
     "data": {
      "text/plain": [
       "555"
      ]
     },
     "execution_count": 64,
     "metadata": {},
     "output_type": "execute_result"
    }
   ],
   "source": [
    "rendition_filters.slot_to_fitting_width[slot]"
   ]
  },
  {
   "cell_type": "code",
   "execution_count": 63,
   "id": "15a5fb73-f2af-4810-b15e-ad068c23daaf",
   "metadata": {
    "tags": []
   },
   "outputs": [
    {
     "data": {
      "text/plain": [
       "Rectangle(width=1110, height=740)"
      ]
     },
     "execution_count": 63,
     "metadata": {},
     "output_type": "execute_result"
    }
   ],
   "source": [
    "slot"
   ]
  },
  {
   "cell_type": "code",
   "execution_count": null,
   "id": "5f8d3a09-b9ab-4d03-89fc-fe6ca3baaf9e",
   "metadata": {},
   "outputs": [],
   "source": []
  }
 ],
 "metadata": {
  "kernelspec": {
   "display_name": "Django Kernel",
   "language": "python",
   "name": "django_extensions"
  },
  "language_info": {
   "codemirror_mode": {
    "name": "ipython",
    "version": 3
   },
   "file_extension": ".py",
   "mimetype": "text/x-python",
   "name": "python",
   "nbconvert_exporter": "python",
   "pygments_lexer": "ipython3",
   "version": "3.12.3"
  }
 },
 "nbformat": 4,
 "nbformat_minor": 5
}
