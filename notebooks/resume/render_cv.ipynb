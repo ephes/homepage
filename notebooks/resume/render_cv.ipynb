{
 "cells": [
  {
   "cell_type": "code",
   "id": "b41a72f8-4c59-495b-92b1-f0a6f7172dcd",
   "metadata": {
    "tags": [],
    "ExecuteTime": {
     "end_time": "2024-09-02T16:40:27.709206Z",
     "start_time": "2024-09-02T16:40:25.809837Z"
    }
   },
   "source": [
    "%pip install -Uqq marko"
   ],
   "outputs": [
    {
     "name": "stdout",
     "output_type": "stream",
     "text": [
      "Note: you may need to restart the kernel to use updated packages.\n"
     ]
    }
   ],
   "execution_count": 10
  },
  {
   "cell_type": "code",
   "id": "b02edcaf-d836-4c1b-9a2b-28a79f80b277",
   "metadata": {
    "tags": [],
    "ExecuteTime": {
     "end_time": "2024-09-02T16:40:39.251299Z",
     "start_time": "2024-09-02T16:40:36.474431Z"
    }
   },
   "source": [
    "import marko\n",
    "\n",
    "from dj_notebook import activate\n",
    "\n",
    "plus = activate()"
   ],
   "outputs": [
    {
     "data": {
      "text/plain": [
       "The .env file has been loaded. See base.py for more information\n"
      ],
      "text/html": [
       "<pre style=\"white-space:pre;overflow-x:auto;line-height:normal;font-family:Menlo,'DejaVu Sans Mono',consolas,'Courier New',monospace\">The .env file has been loaded. See base.py for more information\n",
       "</pre>\n"
      ]
     },
     "metadata": {},
     "output_type": "display_data"
    },
    {
     "data": {
      "text/plain": [
       "Output()"
      ],
      "application/vnd.jupyter.widget-view+json": {
       "version_major": 2,
       "version_minor": 0,
       "model_id": "2aac4facbb60499aa022ea87c979b0a8"
      }
     },
     "metadata": {},
     "output_type": "display_data"
    },
    {
     "data": {
      "text/plain": [],
      "text/html": [
       "<pre style=\"white-space:pre;overflow-x:auto;line-height:normal;font-family:Menlo,'DejaVu Sans Mono',consolas,'Courier New',monospace\"></pre>\n"
      ]
     },
     "metadata": {},
     "output_type": "display_data"
    }
   ],
   "execution_count": 1
  },
  {
   "cell_type": "markdown",
   "id": "745a9771-4b5c-4398-a39d-1bd3cb402cd6",
   "metadata": {},
   "source": [
    "# Generate a html CV\n",
    "\n",
    "Planned workflow looks like this:\n",
    "\n",
    "- Update CV in Obsidian markdown\n",
    "- Copy markdown into this notebook\n",
    "- Generate python models from markdown\n",
    "- Render html from models and template\n",
    "\n",
    "## Layout\n",
    "\n",
    "Maybe could [look like this](https://github.com/BartoszJarocki/cv)?"
   ]
  },
  {
   "cell_type": "markdown",
   "id": "62646384-594d-49be-a945-f4c44f2c177d",
   "metadata": {},
   "source": [
    "# Create CV Datastructure from Markdown?"
   ]
  },
  {
   "cell_type": "markdown",
   "id": "61285312-1e01-4a19-a18e-3978e356517f",
   "metadata": {
    "tags": []
   },
   "source": [
    "# Tagline\n",
    "\n",
    "Freelance Software developer doing mostly data science / machine learning and web\n",
    "development using Django"
   ]
  },
  {
   "cell_type": "code",
   "id": "d455fcc3-353b-4475-9773-f744b7bba0c4",
   "metadata": {
    "tags": [],
    "ExecuteTime": {
     "end_time": "2024-09-02T16:40:40.716400Z",
     "start_time": "2024-09-02T16:40:40.713635Z"
    }
   },
   "source": "# markdown_text = _ih[1]",
   "outputs": [],
   "execution_count": 2
  },
  {
   "cell_type": "code",
   "id": "784fc235-2e28-4942-b13e-698cad1bba13",
   "metadata": {
    "tags": [],
    "ExecuteTime": {
     "end_time": "2024-09-02T16:40:40.933702Z",
     "start_time": "2024-09-02T16:40:40.930393Z"
    }
   },
   "source": "# parsed = marko.parse(markdown_text)",
   "outputs": [],
   "execution_count": 3
  },
  {
   "cell_type": "code",
   "id": "5ff5aacf-4a9c-40e0-a9cf-589273334b0b",
   "metadata": {
    "tags": [],
    "ExecuteTime": {
     "end_time": "2024-09-02T16:40:41.133804Z",
     "start_time": "2024-09-02T16:40:41.130838Z"
    }
   },
   "source": [
    "#parsed.children"
   ],
   "outputs": [],
   "execution_count": 4
  },
  {
   "cell_type": "markdown",
   "id": "bf434315-e8af-4545-96c2-67c0355b837e",
   "metadata": {},
   "source": [
    "# Start with Python Datastructure and Render to html"
   ]
  },
  {
   "cell_type": "code",
   "id": "8aefd65e-43ea-4e4d-8d93-2e3cdf00ce69",
   "metadata": {
    "tags": [],
    "ExecuteTime": {
     "end_time": "2024-09-02T16:40:41.557487Z",
     "start_time": "2024-09-02T16:40:41.546380Z"
    }
   },
   "source": [
    "from typing import NewType\n",
    "Year = NewType(\"Year\", int)\n",
    "\n",
    "\n",
    "class SocialLink:\n",
    "    def __init__(self, *, name: str, url: str, svg_icon: str):\n",
    "        self.name = name\n",
    "        self.url = url\n",
    "        self.svg_icon = svg_icon\n",
    "\n",
    "\n",
    "class Contact:\n",
    "    def __init__(self, *, email: str, phone: str, social_links: list[SocialLink]):\n",
    "        self.email = email\n",
    "        self.phone = phone\n",
    "        self.social_links = social_links\n",
    "\n",
    "\n",
    "class Person:\n",
    "    def __init__(\n",
    "        self, *,\n",
    "        name: str,\n",
    "        initials: str,\n",
    "        tagline: str,\n",
    "        about: str,\n",
    "        avatar_url: str,\n",
    "        personal_website_url: str,\n",
    "    ):\n",
    "        self.name = name\n",
    "        self.initials = initials\n",
    "        self.tagline = tagline\n",
    "        self.about = about\n",
    "        self.avatar_url = avatar_url\n",
    "        self.personal_website_url = personal_website_url\n",
    "\n",
    "        \n",
    "class Location:\n",
    "    def __init__(self, *, name: str, url: str):\n",
    "        self.name = name\n",
    "        self.url = url\n",
    "        \n",
    "\n",
    "class Education:\n",
    "    def __init__(self, *, school: str, start: Year, end: Year):\n",
    "        self.school = school\n",
    "        self.start = start\n",
    "        self.end = end\n",
    "        \n",
    "\n",
    "class Company:\n",
    "    def __init__(self, *, name: str, url: str):\n",
    "        self.name = name\n",
    "        self.url = url\n",
    "\n",
    "        \n",
    "class Work:\n",
    "    def __init__(self, *, company: Company, title: str, start: Year, end: Year, badges: list[str], description: str):\n",
    "        self.company = company\n",
    "        self.title = title\n",
    "        self.start = start\n",
    "        self.end = end\n",
    "        self.badges = badges\n",
    "        self.description = description\n",
    "        \n",
    "\n",
    "class Timeline:\n",
    "    def __init__(self, *, title: str, entries: list[Work]):\n",
    "        self.title = title\n",
    "        self.entries = entries\n",
    "\n",
    "        \n",
    "class Project:\n",
    "    def __init__(self, *, title: str, url: str, description: str, badges: list[str]):\n",
    "        self.title = title\n",
    "        self.url = url\n",
    "        self.description = description\n",
    "        self.badges = badges\n",
    "\n",
    "\n",
    "class Resume:\n",
    "    def __init__(\n",
    "        self, *,\n",
    "        person: Person,\n",
    "        location: Location,\n",
    "        contact: Contact,\n",
    "        education: Education,\n",
    "        timelines: list[Timeline],\n",
    "        skills: list[str],\n",
    "        projects: list[Project],\n",
    "    ):\n",
    "        self.person = person\n",
    "        self.location = location\n",
    "        self.contact = contact\n",
    "        self.education = education\n",
    "        self.skills = skills\n",
    "        self.timelines = timelines\n",
    "        self.projects = projects"
   ],
   "outputs": [],
   "execution_count": 5
  },
  {
   "cell_type": "code",
   "id": "30a8b32c-b135-434b-8424-963b2135fb1a",
   "metadata": {
    "ExecuteTime": {
     "end_time": "2024-09-02T16:40:41.713912Z",
     "start_time": "2024-09-02T16:40:41.707206Z"
    }
   },
   "source": [
    "github = SocialLink(\n",
    "            name=\"GitHub\",\n",
    "            url=\"https://github.com/ephes/\",\n",
    "            svg_icon='<svg width=\"24\" height=\"24\" viewBox=\"0 0 100 100\" xmlns=\"http://www.w3.org/2000/svg\"><path fill-rule=\"evenodd\" clip-rule=\"evenodd\" d=\"M48.854 0C21.839 0 0 22 0 49.217c0 21.756 13.993 40.172 33.405 46.69 2.427.49 3.316-1.059 3.316-2.362 0-1.141-.08-5.052-.08-9.127-13.59 2.934-16.42-5.867-16.42-5.867-2.184-5.704-5.42-7.17-5.42-7.17-4.448-3.015.324-3.015.324-3.015 4.934.326 7.523 5.052 7.523 5.052 4.367 7.496 11.404 5.378 14.235 4.074.404-3.178 1.699-5.378 3.074-6.6-10.839-1.141-22.243-5.378-22.243-24.283 0-5.378 1.94-9.778 5.014-13.2-.485-1.222-2.184-6.275.486-13.038 0 0 4.125-1.304 13.426 5.052a46.97 46.97 0 0 1 12.214-1.63c4.125 0 8.33.571 12.213 1.63 9.302-6.356 13.427-5.052 13.427-5.052 2.67 6.763.97 11.816.485 13.038 3.155 3.422 5.015 7.822 5.015 13.2 0 18.905-11.404 23.06-22.324 24.283 1.78 1.548 3.316 4.481 3.316 9.126 0 6.6-.08 11.897-.08 13.526 0 1.304.89 2.853 3.316 2.364 19.412-6.52 33.405-24.935 33.405-46.691C97.707 22 75.788 0 48.854 0z\" fill=\"#24292f\"/></svg>'\n",
    "        )\n",
    "phone =  SocialLink(\n",
    "            name=\"Phone\",\n",
    "            url=\"tel:+4917623530319\",\n",
    "            svg_icon=(\n",
    "                '<svg xmlns=\"http://www.w3.org/2000/svg\" width=\"24\" height=\"24\" viewBox=\"0 0 24 24\" fill=\"none\" '\n",
    "                'stroke=\"currentColor\" stroke-width=\"2\" stroke-linecap=\"round\" stroke-linejoin=\"round\" class=\"lucide '\n",
    "                'lucide-phone size-4\"><path d=\"M22 16.92v3a2 2 0 0 1-2.18 2 19.79 19.79 0 0 1-8.63-3.07 19.5 19.5 0 0 '\n",
    "                '1-6-6 19.79 19.79 0 0 1-3.07-8.67A2 2 0 0 1 4.11 2h3a2 2 0 0 1 2 1.72 12.84 12.84 0 0 0 .7 2.81 2 2 0 0 '\n",
    "                '1-.45 2.11L8.09 9.91a16 16 0 0 0 6 6l1.27-1.27a2 2 0 0 1 2.11-.45 12.84 12.84 0 0 0 2.81.7A2 2 0 0 1 22 16.92z\">'\n",
    "                '</path></svg>'\n",
    "            ),\n",
    "        )\n",
    "\n",
    "email =  SocialLink(\n",
    "            name=\"Email\",\n",
    "            url=\"mailto:jochen-cv@wersdoerfer.de\",\n",
    "            svg_icon=(\n",
    "                '<svg xmlns=\"http://www.w3.org/2000/svg\" width=\"24\" height=\"24\" viewBox=\"0 0 24 24\" fill=\"none\" '\n",
    "                'stroke=\"currentColor\" stroke-width=\"2\" stroke-linecap=\"round\" stroke-linejoin=\"round\" class=\"lucide '\n",
    "                'lucide-mail size-4\"><rect width=\"20\" height=\"16\" x=\"2\" y=\"4\" rx=\"2\"></rect>'\n",
    "                '<path d=\"m22 7-8.97 5.7a1.94 1.94 0 0 1-2.06 0L2 7\"></path></svg>'\n",
    "            ),\n",
    "        )\n",
    "linkedin = SocialLink(\n",
    "            name=\"LinkedIn\",\n",
    "            url=\"https://www.linkedin.com/in/jochen-wersdoerfer/\",\n",
    "            svg_icon=(\n",
    "                '<svg width=\"24\" height=\"24\" viewBox=\"0 0 24 24\" fill=\"none\" xmlns=\"http://www.w3.org/2000/svg\"><path d=\"M18.72 3.99997H5.37C5.19793 3.99191 5.02595 4.01786 4.86392 4.07635C4.70189 4.13484 4.55299 4.22471 4.42573 4.34081C4.29848 4.45692 4.19537 4.59699 4.12232 4.75299C4.04927 4.909 4.0077 5.07788 4 5.24997V18.63C4.01008 18.9901 4.15766 19.3328 4.41243 19.5875C4.6672 19.8423 5.00984 19.9899 5.37 20H18.72C19.0701 19.9844 19.4002 19.8322 19.6395 19.5761C19.8788 19.32 20.0082 18.9804 20 18.63V5.24997C20.0029 5.08247 19.9715 4.91616 19.9078 4.76122C19.8441 4.60629 19.7494 4.466 19.6295 4.34895C19.5097 4.23191 19.3672 4.14059 19.2108 4.08058C19.0544 4.02057 18.8874 3.99314 18.72 3.99997ZM9 17.34H6.67V10.21H9V17.34ZM7.89 9.12997C7.72741 9.13564 7.5654 9.10762 7.41416 9.04768C7.26291 8.98774 7.12569 8.89717 7.01113 8.78166C6.89656 8.66615 6.80711 8.5282 6.74841 8.37647C6.6897 8.22474 6.66301 8.06251 6.67 7.89997C6.66281 7.73567 6.69004 7.57169 6.74995 7.41854C6.80986 7.26538 6.90112 7.12644 7.01787 7.01063C7.13463 6.89481 7.2743 6.80468 7.42793 6.74602C7.58157 6.68735 7.74577 6.66145 7.91 6.66997C8.07259 6.66431 8.2346 6.69232 8.38584 6.75226C8.53709 6.8122 8.67431 6.90277 8.78887 7.01828C8.90344 7.13379 8.99289 7.27174 9.05159 7.42347C9.1103 7.5752 9.13699 7.73743 9.13 7.89997C9.13719 8.06427 9.10996 8.22825 9.05005 8.3814C8.99014 8.53456 8.89888 8.6735 8.78213 8.78931C8.66537 8.90513 8.5257 8.99526 8.37207 9.05392C8.21843 9.11259 8.05423 9.13849 7.89 9.12997ZM17.34 17.34H15V13.44C15 12.51 14.67 11.87 13.84 11.87C13.5822 11.8722 13.3313 11.9541 13.1219 12.1045C12.9124 12.2549 12.7546 12.4664 12.67 12.71C12.605 12.8926 12.5778 13.0865 12.59 13.28V17.34H10.29V10.21H12.59V11.21C12.7945 10.8343 13.0988 10.5225 13.4694 10.3089C13.84 10.0954 14.2624 9.98848 14.69 9.99997C16.2 9.99997 17.34 11 17.34 13.13V17.34Z\" fill=\"#000000\"/></svg>'\n",
    "            ),\n",
    "        )\n",
    "mastodon = SocialLink(\n",
    "            name=\"Mastodon\",\n",
    "            url=\"https://wersdoerfer.de/@jochen\",\n",
    "            svg_icon=(\n",
    "                '<svg width=\"24\" height=\"24\" viewBox=\"0 0 61 65\" fill=\"none\" xmlns=\"http://www.w3.org/2000/svg\">'\n",
    "                '<path d=\"M60.7539 14.3904C59.8143 7.40642 53.7273 1.90257 46.5117 0.836066C45.2943 0.655854 40.6819 0 29.9973 0H29.9175C19.2299 0 16.937 0.655854 15.7196 0.836066C8.70488 1.87302 2.29885 6.81852 0.744617 13.8852C-0.00294988 17.3654 -0.0827298 21.2237 0.0561464 24.7629C0.254119 29.8384 0.292531 34.905 0.753482 39.9598C1.07215 43.3175 1.62806 46.6484 2.41704 49.9276C3.89445 55.9839 9.87499 61.0239 15.7344 63.0801C22.0077 65.2244 28.7542 65.5804 35.2184 64.1082C35.9295 63.9428 36.6318 63.7508 37.3252 63.5321C38.8971 63.0329 40.738 62.4745 42.0913 61.4937C42.1099 61.4799 42.1251 61.4621 42.1358 61.4417C42.1466 61.4212 42.1526 61.3986 42.1534 61.3755V56.4773C42.153 56.4557 42.1479 56.4345 42.1383 56.4151C42.1287 56.3958 42.1149 56.3788 42.0979 56.3655C42.0809 56.3522 42.0611 56.3429 42.04 56.3382C42.019 56.3335 41.9971 56.3336 41.9761 56.3384C37.8345 57.3276 33.5905 57.8234 29.3324 57.8156C22.0045 57.8156 20.0336 54.3384 19.4693 52.8908C19.0156 51.6397 18.7275 50.3346 18.6124 49.0088C18.6112 48.9866 18.6153 48.9643 18.6243 48.9439C18.6333 48.9236 18.647 48.9056 18.6643 48.8915C18.6816 48.8774 18.7019 48.8675 18.7237 48.8628C18.7455 48.858 18.7681 48.8585 18.7897 48.8641C22.8622 49.8465 27.037 50.3423 31.2265 50.3412C32.234 50.3412 33.2387 50.3412 34.2463 50.3146C38.4598 50.1964 42.9009 49.9808 47.0465 49.1713C47.1499 49.1506 47.2534 49.1329 47.342 49.1063C53.881 47.8507 60.1038 43.9097 60.7362 33.9301C60.7598 33.5372 60.8189 29.8148 60.8189 29.4071C60.8218 28.0215 61.2651 19.5781 60.7539 14.3904Z\" fill=\"url(#paint0_linear_89_8)\"/>'\n",
    "                '<path d=\"M50.3943 22.237V39.5876H43.5185V22.7481C43.5185 19.2029 42.0411 17.3949 39.036 17.3949C35.7325 17.3949 34.0778 19.5338 34.0778 23.7585V32.9759H27.2434V23.7585C27.2434 19.5338 25.5857 17.3949 22.2822 17.3949C19.2949 17.3949 17.8027 19.2029 17.8027 22.7481V39.5876H10.9298V22.237C10.9298 18.6918 11.835 15.8754 13.6453 13.7877C15.5128 11.7049 17.9623 10.6355 21.0028 10.6355C24.522 10.6355 27.1813 11.9885 28.9542 14.6917L30.665 17.5633L32.3788 14.6917C34.1517 11.9885 36.811 10.6355 40.3243 10.6355C43.3619 10.6355 45.8114 11.7049 47.6847 13.7877C49.4931 15.8734 50.3963 18.6899 50.3943 22.237Z\" fill=\"white\"/>'\n",
    "                '<defs>'\n",
    "                '<linearGradient id=\"paint0_linear_89_8\" x1=\"30.5\" y1=\"0\" x2=\"30.5\" y2=\"65\" gradientUnits=\"userSpaceOnUse\">'\n",
    "                '<stop stop-color=\"#6364FF\"/>'\n",
    "                '<stop offset=\"1\" stop-color=\"#563ACC\"/>'\n",
    "                '</linearGradient>'\n",
    "                '</defs>'\n",
    "                '</svg>'\n",
    "            )\n",
    ")"
   ],
   "outputs": [],
   "execution_count": 6
  },
  {
   "cell_type": "code",
   "id": "39fedcaa-3b3c-4aa8-a757-75fa912a63ef",
   "metadata": {
    "tags": [],
    "ExecuteTime": {
     "end_time": "2024-09-02T16:40:41.934459Z",
     "start_time": "2024-09-02T16:40:41.920323Z"
    }
   },
   "source": [
    "jochen = Person(\n",
    "    name=\"Jochen Wersdörfer\",\n",
    "    initials=\"JW\",\n",
    "    tagline=(\n",
    "        \"Freelance Software developer doing mostly data science \"\n",
    "        \"/ machine learning and web development using Django\"\n",
    "    ),\n",
    "    about=(\n",
    "        \"As a long term Python developer I've seen a lot of different projects over the \"\n",
    "        \"years. And I always had a lot of fun building stuff, never thinking of my work \"\n",
    "        \"just as a job. Nowadays I mostly work with Python, but don't mind using other \"\n",
    "        \"languages and tools to build complete products.\"\n",
    "    ),\n",
    "    avatar_url=(\n",
    "        \"https://d2b7dn9rofvhjd.cloudfront.net/images\"\n",
    "        \"/Jochen_Profil_Dunkel_Quadratisch.original.jpg\"\n",
    "    ),\n",
    "    personal_website_url=\"https://wersdoerfer.de\",\n",
    ")\n",
    "duesseldorf = Location(\n",
    "    name=\"Düsseldorf, Germany, CET\",\n",
    "    url=\"https://www.google.com/maps/place/D%C3%BCsseldorf/\",\n",
    ")\n",
    "contact = Contact(\n",
    "    email=\"jochen-cv@wersdoerfer.de\",\n",
    "    phone=\"+4917623530319\",\n",
    "    social_links=(\n",
    "        email,\n",
    "        phone,\n",
    "        github,\n",
    "        linkedin,\n",
    "        mastodon,\n",
    "    ),\n",
    ")\n",
    "freelance = Timeline(\n",
    "    title=\"Freelance Experience\",\n",
    "    entries=[\n",
    "        Work(\n",
    "            company=Company(name=\"Pixolus\", url=\"https://pixolus.de/en/\"),\n",
    "            title=\"Senior Software Developer\",\n",
    "            start=Year(2024),\n",
    "            end=Year(2024),\n",
    "            description=\"Single Sign On Integration.\",\n",
    "            badges=[\"Remote\"],\n",
    "        ),        \n",
    "        Work(\n",
    "            company=Company(name=\"Systemiq\", url=\"https://www.systemiq.earth/\"),\n",
    "            title=\"Senior Software Architect\",\n",
    "            start=Year(2022),\n",
    "            end=Year(2024),\n",
    "            description=\"Software architecture for advanced economic models.\",\n",
    "            badges=[\"Remote\"],\n",
    "        ),\n",
    "        Work(\n",
    "            company=Company(name=\"Exkulpa\", url=\"https://exkulpa.de/\"),\n",
    "            title=\"Senior Software Developer\",\n",
    "            start=Year(2023),\n",
    "            end=Year(2023),\n",
    "            description=\"Building a system to collect hazards.\",\n",
    "            badges=[\"Remote\"],\n",
    "        ),        \n",
    "        Work(\n",
    "            company=Company(name=\"Heinrich Heine Universität Düsseldorf\", url=\"https://www.hhu.de/\"),\n",
    "            title=\"Trainer\",\n",
    "            start=Year(2022),\n",
    "            end=Year(2022),\n",
    "            description=(\n",
    "                \"Workshop on how to use PyTest.\"\n",
    "            ),\n",
    "            badges=[\"In Person\"],\n",
    "        ),\n",
    "        Work(\n",
    "            company=Company(name=\"Linuxhotel\", url=\"https://www.linuxhotel.de/\"),\n",
    "            title=\"Trainer\",\n",
    "            start=Year(2021),\n",
    "            end=Year(2022),\n",
    "            description=(\n",
    "                \"Introduction to the Python Programming Language.\"\n",
    "            ),\n",
    "            badges=[\"In Person\"],\n",
    "        ),                \n",
    "        Work(\n",
    "            company=Company(name=\"Covid IT Solutions GmbH\", url=\"https://cov-it.de/\"),\n",
    "            title=\"Senior Software Developer\",\n",
    "            start=Year(2022),\n",
    "            end=Year(2022),\n",
    "            description=(\n",
    "                \"Working on a new system to improve contact tracing for \"\n",
    "                \"public health offices using Django and HTMX to be able to \"\n",
    "                \"handle complex forms.\"\n",
    "            ),\n",
    "            badges=[\"Remote\"],\n",
    "        ),\n",
    "        Work(\n",
    "            company=Company(name=\"RTL\", url=\"https://www.rtl.de/\"),\n",
    "            title=\"Senior Software Developer\",\n",
    "            start=Year(2020),\n",
    "            end=Year(2021),\n",
    "            description=(\n",
    "                \"Building a system for context aware advertisement.\"\n",
    "            ),\n",
    "            badges=[\"In Person\", \"Remote\"],\n",
    "        ),\n",
    "        Work(\n",
    "            company=Company(name=\"Dirk Brennemann\", url=None),\n",
    "            title=\"Senior Software Developer\",\n",
    "            start=Year(2018),\n",
    "            end=Year(2019),\n",
    "            description=(\n",
    "                \"Automatic receipt handling.\"\n",
    "            ),\n",
    "            badges=[\"Remote\"],\n",
    "        ),\n",
    "        Work(\n",
    "            company=Company(name=\"Trivago\", url=\"https://www.trivago.com/\"),\n",
    "            title=\"Senior Data Scientist / Product Owner\",\n",
    "            start=Year(2016),\n",
    "            end=Year(2017),\n",
    "            description=(\n",
    "                \"Machine learning models for automatic bidding for clicks on hotel rooms.\",\n",
    "                \"A system for setting hotel room prices automatically based on forecasting.\",\n",
    "            ),\n",
    "            badges=[\"In Person\"],\n",
    "        ),\n",
    "        Work(\n",
    "            company=Company(name=\"Shop.co\", url=None),\n",
    "            title=\"Senior Data Scientist\",\n",
    "            start=Year(2015),\n",
    "            end=Year(2016),\n",
    "            description=(\n",
    "                \"Machine learning models for extracting structured data from product detail pages.\"\n",
    "\n",
    "            ),\n",
    "            badges=[\"In Person\"],\n",
    "        ),\n",
    "        Work(\n",
    "            company=Company(name=\"Otto Group\", url=\"https://www.ottogroup.com/\"),\n",
    "            title=\"Senior Data Scientist\",\n",
    "            start=Year(2015),\n",
    "            end=Year(2015),\n",
    "            description=(\n",
    "                \"Machine learning models for prediction of user attributes.\"\n",
    "\n",
    "            ),\n",
    "            badges=[\"In Person\"],\n",
    "        ),\n",
    "        Work(\n",
    "            company=Company(name=\"Pixolus\", url=\"https://pixolus.de/\"),\n",
    "            title=\"Senior Software Developer\",\n",
    "            start=Year(2014),\n",
    "            end=Year(2015),\n",
    "            description=(\n",
    "                \"Django restframework based API for mobile clients.\"\n",
    "\n",
    "            ),\n",
    "            badges=[\"In Person\"],\n",
    "        ),\n",
    "        Work(\n",
    "            company=Company(name=\"Institut für Nachrichtentechnik RWTH Aachen\", url=\"https://www.ient.rwth-aachen.de/\"),\n",
    "            title=\"Senior Software Developer\",\n",
    "            start=Year(2014),\n",
    "            end=Year(2014),\n",
    "            description=(\n",
    "                \"Django restframework based API for mobile clients.\"\n",
    "\n",
    "            ),\n",
    "            badges=[\"In Person\"],\n",
    "        ),        \n",
    "        Work(\n",
    "            company=Company(name=\"Intosite (prinz.de)\", url=\"https://prinz.de/\"),\n",
    "            title=\"Senior Software Developer\",\n",
    "            start=Year(2013),\n",
    "            end=Year(2013),\n",
    "            description=(\n",
    "                \"Django backend for events website.\"\n",
    "\n",
    "            ),\n",
    "            badges=[\"Remote\"],\n",
    "        ),                                                        \n",
    "    ]\n",
    ")\n",
    "employed = Timeline(\n",
    "    title=\"Work Experience\",\n",
    "    entries=[\n",
    "        Work(\n",
    "            company=Company(name=\"solute GmbH / billiger.de\", url=\"https://billiger.de\"),\n",
    "            title=\"Senior Software Developer\",\n",
    "            start=Year(2005),\n",
    "            end=Year(2011),\n",
    "            description=\"Backend development and machine learning.\",\n",
    "            badges=[],\n",
    "        ),\n",
    "        Work(\n",
    "            company=Company(name=\"web.de\", url=\"https://web.de\"),\n",
    "            title=\"System Administrator / Systems Programmer\",\n",
    "            start=Year(2001),\n",
    "            end=Year(2004),\n",
    "            description=\"Lifecycle management, monitoring and deployment.\",\n",
    "            badges=[],\n",
    "        )        \n",
    "    ]\n",
    ")\n",
    "\n",
    "projects = [\n",
    "    Project(\n",
    "        title=\"Python Podcast\",\n",
    "        url=\"https://python-podcast.de/show\",\n",
    "        description=\"A popular german speaking podcast about Python\",\n",
    "        badges=[\n",
    "            \"Side Project\",\n",
    "            \"Python\",\n",
    "        ],\n",
    "    ),\n",
    "    Project(\n",
    "        title=\"django-cast\",\n",
    "        url=\"https://github.com/ephes/django-cast\",\n",
    "        description=\"A podcast hosting platform built with Django and Wagtail\",\n",
    "        badges=[\n",
    "            \"Side Project\",\n",
    "            \"Python\",\n",
    "            \"Django\",\n",
    "            \"Wagtail\",\n",
    "        ],\n",
    "    ),\n",
    "    Project(\n",
    "        title=\"PlasticIQ\",\n",
    "        url=\"https://plasticiq.global/\",\n",
    "        description=\"Plastic IQ is a data-driven digital platform to help companies end plastic waste.\",\n",
    "        badges=[\n",
    "            \"Systemiq\",\n",
    "            \"Python\",\n",
    "            \"Django\",\n",
    "            \"htmx\",\n",
    "        ],\n",
    "    ),\n",
    "    Project(\n",
    "        title=\"PlastInvest\",\n",
    "        url=\"https://plastinvest.global/\",\n",
    "        description=(\n",
    "            \"PlastInvest is a tool for governments, providing quantitative and qualitative insights into \"\n",
    "            \"the investments needed to deliver national action plans for reducing plastic waste and \"\n",
    "            \"pollution.\",\n",
    "        ),\n",
    "        badges=[\n",
    "            \"Systemiq\",\n",
    "            \"Python\",\n",
    "            \"Django\",\n",
    "            \"htmx\",\n",
    "        ],\n",
    "    ),    \n",
    "]\n",
    "resume = Resume(\n",
    "    person=jochen,\n",
    "    location=duesseldorf,\n",
    "    contact=contact,\n",
    "    education=Education(school=\"Universität Karlsruhe (TH)\", start=Year(1997), end=Year(2001)),\n",
    "    timelines=[freelance, employed],\n",
    "    skills=[\"Python\", \"Django\", \"scikit-learn\", \"Pandas\", \"NumPy\", \"keras\", \"PyTorch\", \"Vue.js\", \"SQL\"],\n",
    "    projects=projects,\n",
    ")"
   ],
   "outputs": [],
   "execution_count": 7
  },
  {
   "cell_type": "markdown",
   "id": "2bced88b-51c1-4254-9076-12c953151706",
   "metadata": {},
   "source": [
    "# Render the Template"
   ]
  },
  {
   "cell_type": "code",
   "id": "0d7ab474-9b49-4dca-adec-7bf77eaa5a3e",
   "metadata": {
    "tags": [],
    "ExecuteTime": {
     "end_time": "2024-09-02T16:40:42.808830Z",
     "start_time": "2024-09-02T16:40:42.805986Z"
    }
   },
   "source": [
    "from pathlib import Path\n",
    "\n",
    "from django.template import Template, Context"
   ],
   "outputs": [],
   "execution_count": 8
  },
  {
   "cell_type": "code",
   "id": "7529afde-6ea4-4245-9377-cdd3ebd971d9",
   "metadata": {
    "tags": [],
    "ExecuteTime": {
     "end_time": "2024-09-02T16:41:07.061449Z",
     "start_time": "2024-09-02T16:41:07.053562Z"
    }
   },
   "source": [
    "with Path(\"plain.html\").open(\"r\") as f:\n",
    "    template_content = f.read()\n",
    "html_template = Template(template_content)\n",
    "\n",
    "context = Context({\n",
    "    \"resume\": resume,\n",
    "    \"person\": resume.person,\n",
    "    \"location\": resume.location,\n",
    "    \"contact\": resume.contact,\n",
    "    \"timelines\": resume.timelines,\n",
    "    \"skills\": resume.skills,\n",
    "    \"education\": resume.education,\n",
    "    \"projects\": resume.projects,\n",
    "})\n",
    "rendered_html = html_template.render(context)\n",
    "with Path(\"index.html\").open(\"w\") as f:\n",
    "    f.write(rendered_html)"
   ],
   "outputs": [],
   "execution_count": 10
  },
  {
   "cell_type": "code",
   "id": "dd2199ef-d57b-4b4b-b1f1-c92cbb07ec2f",
   "metadata": {
    "ExecuteTime": {
     "end_time": "2024-09-02T12:19:26.011756Z",
     "start_time": "2024-09-02T12:19:26.009146Z"
    }
   },
   "source": [],
   "outputs": [],
   "execution_count": null
  },
  {
   "cell_type": "code",
   "execution_count": null,
   "id": "068e62fd-a33e-490a-8c8b-1d627a37c6ba",
   "metadata": {},
   "outputs": [],
   "source": []
  }
 ],
 "metadata": {
  "kernelspec": {
   "display_name": "Python 3 (ipykernel)",
   "language": "python",
   "name": "python3"
  },
  "language_info": {
   "codemirror_mode": {
    "name": "ipython",
    "version": 3
   },
   "file_extension": ".py",
   "mimetype": "text/x-python",
   "name": "python",
   "nbconvert_exporter": "python",
   "pygments_lexer": "ipython3",
   "version": "3.12.5"
  }
 },
 "nbformat": 4,
 "nbformat_minor": 5
}
