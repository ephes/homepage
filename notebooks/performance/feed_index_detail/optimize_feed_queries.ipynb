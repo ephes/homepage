{
 "cells": [
  {
   "cell_type": "code",
   "execution_count": 1,
   "id": "cf44b904-4e9e-4146-9d2a-5db3d2b9ee60",
   "metadata": {
    "tags": []
   },
   "outputs": [],
   "source": [
    "import sqlparse\n",
    "\n",
    "from time import perf_counter\n",
    "\n",
    "from django.test import RequestFactory\n",
    "from django.db import connection, reset_queries\n",
    "\n",
    "from cast.feeds import LatestEntriesFeed\n",
    "from cast.models.repository import FeedRepository\n",
    "from cast.models.repository import data_for_blog_cachable"
   ]
  },
  {
   "cell_type": "code",
   "execution_count": 2,
   "id": "46f8eed6-f17f-41e8-abf9-b6c2bff657e6",
   "metadata": {
    "tags": []
   },
   "outputs": [],
   "source": [
    "def count_queries(func):\n",
    "    reset_queries()\n",
    "    renditions = list(func())\n",
    "    return len(connection.queries)\n",
    "\n",
    "\n",
    "def show_queries(queries):\n",
    "    queries = sorted(queries, key=lambda x: x[\"time\"], reverse=True)\n",
    "    for num, query in enumerate(queries, 1):\n",
    "        formatted_sql = sqlparse.format(query['sql'], reindent=True, keyword_case='upper')\n",
    "        duration = query[\"time\"]\n",
    "        print(f\"{num}. query | duration: {duration}\")\n",
    "        print(formatted_sql)\n",
    "        print(\"---------------\")\n",
    "        \n",
    "\n",
    "def blocker(*_args):\n",
    "    \"\"\"Get a traceback when a query is executed.\"\"\"\n",
    "    raise Exception(\"No database access allowed here.\")"
   ]
  },
  {
   "cell_type": "code",
   "execution_count": 3,
   "id": "1338ba57-0129-4532-9b9d-318eb2e43b8d",
   "metadata": {
    "tags": []
   },
   "outputs": [],
   "source": [
    "# blog_slug = \"ephes_blog\"\n",
    "blog_slug = \"das_claas_und_nora_blog\"\n",
    "blog = Blog.objects.get(slug=blog_slug)"
   ]
  },
  {
   "cell_type": "code",
   "execution_count": 4,
   "id": "a42d14b1-e7d0-4a6d-bfe4-f431fde7ec8d",
   "metadata": {
    "tags": []
   },
   "outputs": [],
   "source": [
    "request_factory = RequestFactory()\n",
    "request = request_factory.get(f\"/blogs/{blog_slug}/feed/rss.xml\")\n",
    "request.htmx = False"
   ]
  },
  {
   "cell_type": "code",
   "execution_count": 5,
   "id": "4fce7efb-cd0d-44eb-8df7-c8088f29ff91",
   "metadata": {
    "tags": []
   },
   "outputs": [
    {
     "name": "stdout",
     "output_type": "stream",
     "text": [
      "CPU times: user 1.26 s, sys: 45.5 ms, total: 1.31 s\n",
      "Wall time: 1.34 s\n"
     ]
    }
   ],
   "source": [
    "%%time\n",
    "reset_queries()\n",
    "cachable_data = FeedRepository.data_for_feed_cachable(request=request, blog=blog)"
   ]
  },
  {
   "cell_type": "code",
   "execution_count": 6,
   "id": "8d15857d-3fde-43ab-8a14-06d27fbce812",
   "metadata": {
    "tags": []
   },
   "outputs": [
    {
     "data": {
      "text/plain": [
       "{'id': 3,\n",
       " 'pk': 3,\n",
       " 'author': None,\n",
       " 'uuid': UUID('b1901089-6ddc-4297-afe7-7c75187f6ed9'),\n",
       " 'email': 'jochen-kinder@wersdoerfer.de',\n",
       " 'comments_enabled': True,\n",
       " 'noindex': True,\n",
       " 'template_base_dir': 'bootstrap5',\n",
       " 'description': '<p data-block-key=\"819mf\">Was gerade so passiert</p>'}"
      ]
     },
     "execution_count": 6,
     "metadata": {},
     "output_type": "execute_result"
    }
   ],
   "source": [
    "cachable_data[\"blog\"]"
   ]
  },
  {
   "cell_type": "code",
   "execution_count": 7,
   "id": "e756c855-2f11-407d-b4ec-0f56a207c84a",
   "metadata": {
    "tags": []
   },
   "outputs": [
    {
     "name": "stdout",
     "output_type": "stream",
     "text": [
      "CPU times: user 693 ms, sys: 8.57 ms, total: 702 ms\n",
      "Wall time: 701 ms\n"
     ]
    }
   ],
   "source": [
    "%%time\n",
    "repository = FeedRepository.create_from_cachable_data(data=cachable_data)"
   ]
  },
  {
   "cell_type": "code",
   "execution_count": 8,
   "id": "c26e5408-682c-4ad2-af3b-554b2176df91",
   "metadata": {
    "tags": []
   },
   "outputs": [
    {
     "name": "stdout",
     "output_type": "stream",
     "text": [
      "get feed:  None <WSGIRequest: GET '/blogs/das_claas_und_nora_blog/feed/rss.xml'>\n",
      "CPU times: user 2.49 s, sys: 198 ms, total: 2.69 s\n",
      "Wall time: 2.7 s\n"
     ]
    }
   ],
   "source": [
    "%%time\n",
    "reset_queries()\n",
    "# with connection.execute_wrapper(blocker):\n",
    "feed_view = LatestEntriesFeed(repository=repository)\n",
    "r = feed_view(request, slug=blog_slug)"
   ]
  },
  {
   "cell_type": "code",
   "execution_count": 9,
   "id": "b67d4806-8a4c-44cd-a6d9-477b2b01d1c1",
   "metadata": {
    "tags": []
   },
   "outputs": [
    {
     "data": {
      "text/plain": [
       "5467153"
      ]
     },
     "execution_count": 9,
     "metadata": {},
     "output_type": "execute_result"
    }
   ],
   "source": [
    "len(r.content)"
   ]
  },
  {
   "cell_type": "code",
   "execution_count": 10,
   "id": "5a613c05-21a1-4cb5-850c-28999ab60ebd",
   "metadata": {
    "tags": []
   },
   "outputs": [
    {
     "name": "stdout",
     "output_type": "stream",
     "text": [
      "1\n"
     ]
    }
   ],
   "source": [
    "print(len(connection.queries))"
   ]
  },
  {
   "cell_type": "code",
   "execution_count": 17,
   "id": "adbaaf96-4d16-41f7-8604-01f835b6711f",
   "metadata": {
    "tags": []
   },
   "outputs": [],
   "source": [
    "# print(r.content.decode(\"utf8\"))"
   ]
  },
  {
   "cell_type": "code",
   "execution_count": 18,
   "id": "fb90ef1e-a4a9-4e92-9dbb-7510f01e5321",
   "metadata": {
    "tags": []
   },
   "outputs": [],
   "source": [
    "show_queries(connection.queries)"
   ]
  },
  {
   "cell_type": "code",
   "execution_count": null,
   "id": "4ad087fc-4ead-4795-a9cc-8f5cc58085a1",
   "metadata": {},
   "outputs": [],
   "source": []
  }
 ],
 "metadata": {
  "kernelspec": {
   "display_name": "Django Kernel",
   "language": "python",
   "name": "django_extensions"
  },
  "language_info": {
   "codemirror_mode": {
    "name": "ipython",
    "version": 3
   },
   "file_extension": ".py",
   "mimetype": "text/x-python",
   "name": "python",
   "nbconvert_exporter": "python",
   "pygments_lexer": "ipython3",
   "version": "3.12.3"
  }
 },
 "nbformat": 4,
 "nbformat_minor": 5
}
