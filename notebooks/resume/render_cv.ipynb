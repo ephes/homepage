{
 "cells": [
  {
   "cell_type": "code",
   "execution_count": 3,
   "id": "b41a72f8-4c59-495b-92b1-f0a6f7172dcd",
   "metadata": {
    "tags": []
   },
   "outputs": [
    {
     "name": "stdout",
     "output_type": "stream",
     "text": [
      "Note: you may need to restart the kernel to use updated packages.\n"
     ]
    }
   ],
   "source": [
    "%pip install -Uqq marko"
   ]
  },
  {
   "cell_type": "code",
   "execution_count": 4,
   "id": "b02edcaf-d836-4c1b-9a2b-28a79f80b277",
   "metadata": {
    "tags": []
   },
   "outputs": [],
   "source": [
    "import marko"
   ]
  },
  {
   "cell_type": "markdown",
   "id": "745a9771-4b5c-4398-a39d-1bd3cb402cd6",
   "metadata": {},
   "source": [
    "# Generate a html CV\n",
    "\n",
    "Planned workflow looks like this:\n",
    "\n",
    "- Update CV in Obsidian markdown\n",
    "- Copy markdown into this notebook\n",
    "- Generate python models from markdown\n",
    "- Render html from models and template"
   ]
  },
  {
   "cell_type": "markdown",
   "id": "62646384-594d-49be-a945-f4c44f2c177d",
   "metadata": {},
   "source": [
    "# Create CV Datastructure from Markdown?"
   ]
  },
  {
   "cell_type": "markdown",
   "id": "61285312-1e01-4a19-a18e-3978e356517f",
   "metadata": {
    "tags": []
   },
   "source": [
    "# Tagline\n",
    "\n",
    "Freelance Software developer doing mostly data science / machine learning and web\n",
    "development using Django"
   ]
  },
  {
   "cell_type": "code",
   "execution_count": 6,
   "id": "d455fcc3-353b-4475-9773-f744b7bba0c4",
   "metadata": {
    "tags": []
   },
   "outputs": [],
   "source": [
    "markdown_text = _ih[1]"
   ]
  },
  {
   "cell_type": "code",
   "execution_count": 8,
   "id": "784fc235-2e28-4942-b13e-698cad1bba13",
   "metadata": {
    "tags": []
   },
   "outputs": [],
   "source": [
    "parsed = marko.parse(markdown_text)"
   ]
  },
  {
   "cell_type": "code",
   "execution_count": 13,
   "id": "5ff5aacf-4a9c-40e0-a9cf-589273334b0b",
   "metadata": {
    "tags": []
   },
   "outputs": [],
   "source": [
    "#parsed.children"
   ]
  },
  {
   "cell_type": "markdown",
   "id": "bf434315-e8af-4545-96c2-67c0355b837e",
   "metadata": {},
   "source": [
    "# Start with Python Datastructure and Render to html"
   ]
  },
  {
   "cell_type": "code",
   "execution_count": 173,
   "id": "8aefd65e-43ea-4e4d-8d93-2e3cdf00ce69",
   "metadata": {
    "tags": []
   },
   "outputs": [],
   "source": [
    "from typing import NewType\n",
    "Year = NewType(\"Year\", int)\n",
    "\n",
    "\n",
    "class SocialLink:\n",
    "    def __init__(self, *, name: str, url: str):\n",
    "        self.name = name\n",
    "        self.url = url\n",
    "\n",
    "\n",
    "class Contact:\n",
    "    def __init__(self, *, email: str, phone: str, social_links: list[SocialLink]):\n",
    "        self.email = email\n",
    "        self.phone = phone\n",
    "        self.social_links = social_links\n",
    "\n",
    "\n",
    "class Person:\n",
    "    def __init__(\n",
    "        self, *,\n",
    "        name: str,\n",
    "        initials: str,\n",
    "        tagline: str,\n",
    "        about: str,\n",
    "        avatar_url: str,\n",
    "        personal_website_url: str,\n",
    "    ):\n",
    "        self.name = name\n",
    "        self.initials = initials\n",
    "        self.tagline = tagline\n",
    "        self.about = about\n",
    "        self.avatar_url = avatar_url\n",
    "        self.personal_website_url = personal_website_url\n",
    "\n",
    "        \n",
    "class Location:\n",
    "    def __init__(self, *, name: str, url: str):\n",
    "        self.name = name\n",
    "        self.url = url\n",
    "        \n",
    "\n",
    "class Education:\n",
    "    def __init__(self, *, school: str, start: Year, end: Year):\n",
    "        self.school = school\n",
    "        self.start = start\n",
    "        self.end = end\n",
    "        \n",
    "\n",
    "class Company:\n",
    "    def __init__(self, *, name: str, url: str):\n",
    "        self.name = name\n",
    "        self.url = url\n",
    "\n",
    "        \n",
    "class Work:\n",
    "    def __init__(self, *, company: Company, title: str, start: Year, end: Year, badges: list[str], description: str):\n",
    "        self.company = company\n",
    "        self.title = title\n",
    "        self.start = start\n",
    "        self.end = end\n",
    "        self.badges = badges\n",
    "        self.description = description\n",
    "        \n",
    "\n",
    "class Timeline:\n",
    "    def __init__(self, *, title: str, entries: list[Work]):\n",
    "        self.title = title\n",
    "        self.entries = entries\n",
    "\n",
    "        \n",
    "class Project:\n",
    "    def __init__(self, *, title: str, url: str, description: str, badges: list[str]):\n",
    "        self.title = title\n",
    "        self.url = url\n",
    "        self.description = description\n",
    "        self.badges = badges\n",
    "\n",
    "\n",
    "class Resume:\n",
    "    def __init__(\n",
    "        self, *,\n",
    "        person: Person,\n",
    "        location: Location,\n",
    "        contact: Contact,\n",
    "        education: Education,\n",
    "        timelines: list[Timeline],\n",
    "        skills: list[str],\n",
    "        projects: list[Project],\n",
    "    ):\n",
    "        self.person = person\n",
    "        self.location = location\n",
    "        self.contact = contact\n",
    "        self.education = education\n",
    "        self.skills = skills\n",
    "        self.timelines = timelines\n",
    "        self.projects = projects"
   ]
  },
  {
   "cell_type": "code",
   "execution_count": 204,
   "id": "39fedcaa-3b3c-4aa8-a757-75fa912a63ef",
   "metadata": {
    "tags": []
   },
   "outputs": [],
   "source": [
    "jochen = Person(\n",
    "    name=\"Jochen Wersdörfer\",\n",
    "    initials=\"JW\",\n",
    "    tagline=(\n",
    "        \"Freelance Software developer doing mostly data science \"\n",
    "        \"/ machine learning and web development using Django\"\n",
    "    ),\n",
    "    about=(\n",
    "        \"As a long term Python developer I've seen a lot of different projects over the \"\n",
    "        \"years. And I always had a lot of fun building stuff, never thinking of my work \"\n",
    "        \"just as a job. Nowadays I mostly work with Python, but don't mind using other \"\n",
    "        \"languages and tools to build complete products.\"\n",
    "    ),\n",
    "    avatar_url=(\n",
    "        \"https://d2b7dn9rofvhjd.cloudfront.net/images\"\n",
    "        \"/Jochen_Profil_Dunkel_Quadratisch.original.jpg\"\n",
    "    ),\n",
    "    personal_website_url=\"https://wersdoerfer.de\",\n",
    ")\n",
    "duesseldorf = Location(\n",
    "    name=\"Düsseldorf, Germany, CET\",\n",
    "    url=\"https://www.google.com/maps/place/D%C3%BCsseldorf/\",\n",
    ")\n",
    "contact = Contact(\n",
    "    email=\"jochen-cv@wersdoerfer.de\",\n",
    "    phone=\"+4917623530319\",\n",
    "    social_links=(\n",
    "        SocialLink(name=\"GitHub\", url=\"https://github.com/ephes\"),\n",
    "        SocialLink(name=\"LinkedIn\", url=\"https://www.linkedin.com/in/jochen-wersdoerfer/\"),\n",
    "        SocialLink(name=\"Mastodon\", url=\"https://wersdoerfer.de/@jochen\"),\n",
    "    ),\n",
    ")\n",
    "freelance = Timeline(\n",
    "    title=\"Freelance Experience\",\n",
    "    entries=[\n",
    "        Work(\n",
    "            company=Company(name=\"Systemiq\", url=\"https://www.systemiq.earth/\"),\n",
    "            title=\"Senior Software Architect\",\n",
    "            start=Year(2022),\n",
    "            end=Year(2024),\n",
    "            description=\"Software architecture for advanced economic models.\",\n",
    "            badges=[\"Remote\"],\n",
    "        ),\n",
    "        Work(\n",
    "            company=Company(name=\"Covid IT Solutions GmbH\", url=\"https://cov-it.de/\"),\n",
    "            title=\"Senior Software Developer\",\n",
    "            start=Year(2022),\n",
    "            end=Year(2022),\n",
    "            description=(\n",
    "                \"Working on a new system to improve contact tracing for \"\n",
    "                \"public health offices using Django and HTMX to be able to \"\n",
    "                \"handle complex forms.\"\n",
    "            ),\n",
    "            badges=[\"Remote\"],\n",
    "        ),\n",
    "    ]\n",
    ")\n",
    "employed = Timeline(\n",
    "    title=\"Work Experience\",\n",
    "    entries=[\n",
    "        Work(\n",
    "            company=Company(name=\"solute GmbH / billiger.de\", url=\"https://billiger.de\"),\n",
    "            title=\"Senior Software Developer\",\n",
    "            start=Year(2005),\n",
    "            end=Year(2011),\n",
    "            description=\"Backend development and machine learning.\",\n",
    "            badges=[],\n",
    "        ),\n",
    "        Work(\n",
    "            company=Company(name=\"web.de\", url=\"https://web.de\"),\n",
    "            title=\"System Administrator / Systems Programmer\",\n",
    "            start=Year(2001),\n",
    "            end=Year(2004),\n",
    "            description=\"Lifecycle management, monitoring and deployment.\",\n",
    "            badges=[],\n",
    "        )        \n",
    "    ]\n",
    ")\n",
    "\n",
    "projects = [\n",
    "    Project(\n",
    "        title=\"Python Podcast\",\n",
    "        url=\"https://python-podcast.de/show\",\n",
    "        description=\"A popular german speaking podcast about Python\",\n",
    "        badges=[\n",
    "            \"Side Project\",\n",
    "            \"Python\",\n",
    "        ],\n",
    "    ),\n",
    "    Project(\n",
    "        title=\"django-cast\",\n",
    "        url=\"https://github.com/ephes/django-cast\",\n",
    "        description=\"A podcast hosting platform built with Django and Wagtail\",\n",
    "        badges=[\n",
    "            \"Side Project\",\n",
    "            \"Python\",\n",
    "            \"Django\",\n",
    "            \"Wagtail\",\n",
    "        ],\n",
    "    ),\n",
    "    Project(\n",
    "        title=\"PlasticIQ\",\n",
    "        url=\"https://plasticiq.global/\",\n",
    "        description=\"Plastic IQ is a data-driven digital platform to help companies end plastic waste.\",\n",
    "        badges=[\n",
    "            \"Systemiq\",\n",
    "            \"Python\",\n",
    "            \"Django\",\n",
    "            \"htmx\",\n",
    "        ],\n",
    "    ),\n",
    "]\n",
    "resume = Resume(\n",
    "    person=jochen,\n",
    "    location=duesseldorf,\n",
    "    contact=contact,\n",
    "    education=Education(school=\"Universität Karlsruhe (TH)\", start=Year(1997), end=Year(2001)),\n",
    "    timelines=[freelance, employed],\n",
    "    skills=[\"Python\", \"Django\", \"scikit-learn\", \"Pandas\", \"NumPy\", \"keras\", \"PyTorch\", \"Vue.js\", \"SQL\"],\n",
    "    projects=projects,\n",
    ")"
   ]
  },
  {
   "cell_type": "markdown",
   "id": "2bced88b-51c1-4254-9076-12c953151706",
   "metadata": {},
   "source": [
    "# Render the Template"
   ]
  },
  {
   "cell_type": "code",
   "execution_count": 205,
   "id": "0d7ab474-9b49-4dca-adec-7bf77eaa5a3e",
   "metadata": {
    "tags": []
   },
   "outputs": [],
   "source": [
    "from pathlib import Path\n",
    "\n",
    "from django.template import Template, Context"
   ]
  },
  {
   "cell_type": "code",
   "execution_count": 206,
   "id": "7529afde-6ea4-4245-9377-cdd3ebd971d9",
   "metadata": {
    "tags": []
   },
   "outputs": [],
   "source": [
    "with Path(\"plain.html\").open(\"r\") as f:\n",
    "    template_content = f.read()\n",
    "html_template = Template(template_content)\n",
    "context = Context({\n",
    "    \"resume\": resume,\n",
    "    \"person\": resume.person,\n",
    "    \"location\": resume.location,\n",
    "    \"contact\": resume.contact,\n",
    "    \"timelines\": resume.timelines,\n",
    "    \"skills\": resume.skills,\n",
    "    \"education\": resume.education,\n",
    "    \"projects\": resume.projects,\n",
    "})\n",
    "rendered_html = html_template.render(context)\n",
    "with Path(\"index.html\").open(\"w\") as f:\n",
    "    f.write(rendered_html)"
   ]
  },
  {
   "cell_type": "code",
   "execution_count": null,
   "id": "dd2199ef-d57b-4b4b-b1f1-c92cbb07ec2f",
   "metadata": {},
   "outputs": [],
   "source": []
  }
 ],
 "metadata": {
  "kernelspec": {
   "display_name": "Django Kernel",
   "language": "python",
   "name": "django_extensions"
  },
  "language_info": {
   "codemirror_mode": {
    "name": "ipython",
    "version": 3
   },
   "file_extension": ".py",
   "mimetype": "text/x-python",
   "name": "python",
   "nbconvert_exporter": "python",
   "pygments_lexer": "ipython3",
   "version": "3.12.2"
  }
 },
 "nbformat": 4,
 "nbformat_minor": 5
}
