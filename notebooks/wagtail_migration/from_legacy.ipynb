{
 "cells": [
  {
   "cell_type": "code",
   "execution_count": 1,
   "id": "13f8110b-0ec8-4c54-bd80-0cea82533bc4",
   "metadata": {},
   "outputs": [],
   "source": [
    "import json\n",
    "\n",
    "from uuid import uuid4\n",
    "\n",
    "from django.db import connections\n",
    "\n",
    "from rich import print"
   ]
  },
  {
   "cell_type": "code",
   "execution_count": 2,
   "id": "4fa72dfe-6587-41b3-a515-d41df58597c1",
   "metadata": {},
   "outputs": [],
   "source": [
    "def dictfetchall(cursor):\n",
    "    \"Return all rows from a cursor as a dict\"\n",
    "    columns = [col[0] for col in cursor.description]\n",
    "    return [\n",
    "        dict(zip(columns, row))\n",
    "        for row in cursor.fetchall()\n",
    "    ]\n",
    "\n",
    "\n",
    "def get_all_posts():\n",
    "    stmt = \"\"\"\n",
    "        select * from cast_post\n",
    "    \"\"\"\n",
    "    with connections[\"legacy\"].cursor() as cursor:\n",
    "        cursor.execute(stmt)\n",
    "        posts = dictfetchall(cursor)\n",
    "    return posts\n",
    "        \n",
    "        \n",
    "posts = get_all_posts()\n",
    "[legacy] = [p for p in posts if p[\"id\"] == 333]"
   ]
  },
  {
   "cell_type": "code",
   "execution_count": 3,
   "id": "8ebf934f-348d-4cf9-97c3-7979a96556a1",
   "metadata": {},
   "outputs": [
    {
     "data": {
      "text/html": [
       "<pre style=\"white-space:pre;overflow-x:auto;line-height:normal;font-family:Menlo,'DejaVu Sans Mono',consolas,'Courier New',monospace\"><span style=\"font-weight: bold\">{</span>\n",
       "    <span style=\"color: #008000; text-decoration-color: #008000\">'id'</span>: <span style=\"color: #008080; text-decoration-color: #008080; font-weight: bold\">333</span>,\n",
       "    <span style=\"color: #008000; text-decoration-color: #008000\">'created'</span>: <span style=\"color: #800080; text-decoration-color: #800080; font-weight: bold\">datetime.datetime</span><span style=\"font-weight: bold\">(</span><span style=\"color: #008080; text-decoration-color: #008080; font-weight: bold\">2022</span>, <span style=\"color: #008080; text-decoration-color: #008080; font-weight: bold\">11</span>, <span style=\"color: #008080; text-decoration-color: #008080; font-weight: bold\">2</span>, <span style=\"color: #008080; text-decoration-color: #008080; font-weight: bold\">5</span>, <span style=\"color: #008080; text-decoration-color: #008080; font-weight: bold\">32</span>, <span style=\"color: #008080; text-decoration-color: #008080; font-weight: bold\">58</span>, <span style=\"color: #008080; text-decoration-color: #008080; font-weight: bold\">340726</span>, <span style=\"color: #808000; text-decoration-color: #808000\">tzinfo</span>=<span style=\"color: #800080; text-decoration-color: #800080\">datetime</span>.timezone.utc<span style=\"font-weight: bold\">)</span>,\n",
       "    <span style=\"color: #008000; text-decoration-color: #008000\">'modified'</span>: <span style=\"color: #800080; text-decoration-color: #800080; font-weight: bold\">datetime.datetime</span><span style=\"font-weight: bold\">(</span><span style=\"color: #008080; text-decoration-color: #008080; font-weight: bold\">2022</span>, <span style=\"color: #008080; text-decoration-color: #008080; font-weight: bold\">11</span>, <span style=\"color: #008080; text-decoration-color: #008080; font-weight: bold\">7</span>, <span style=\"color: #008080; text-decoration-color: #008080; font-weight: bold\">13</span>, <span style=\"color: #008080; text-decoration-color: #008080; font-weight: bold\">4</span>, <span style=\"color: #008080; text-decoration-color: #008080; font-weight: bold\">8</span>, <span style=\"color: #008080; text-decoration-color: #008080; font-weight: bold\">395874</span>, <span style=\"color: #808000; text-decoration-color: #808000\">tzinfo</span>=<span style=\"color: #800080; text-decoration-color: #800080\">datetime</span>.timezone.utc<span style=\"font-weight: bold\">)</span>,\n",
       "    <span style=\"color: #008000; text-decoration-color: #008000\">'title'</span>: <span style=\"color: #008000; text-decoration-color: #008000\">'Weeknotes 2022-11-07'</span>,\n",
       "    <span style=\"color: #008000; text-decoration-color: #008000\">'pub_date'</span>: <span style=\"color: #800080; text-decoration-color: #800080; font-weight: bold\">datetime.datetime</span><span style=\"font-weight: bold\">(</span><span style=\"color: #008080; text-decoration-color: #008080; font-weight: bold\">2022</span>, <span style=\"color: #008080; text-decoration-color: #008080; font-weight: bold\">11</span>, <span style=\"color: #008080; text-decoration-color: #008080; font-weight: bold\">7</span>, <span style=\"color: #008080; text-decoration-color: #008080; font-weight: bold\">13</span>, <span style=\"color: #008080; text-decoration-color: #008080; font-weight: bold\">4</span>, <span style=\"color: #008080; text-decoration-color: #008080; font-weight: bold\">8</span>, <span style=\"color: #008080; text-decoration-color: #008080; font-weight: bold\">393468</span>, <span style=\"color: #808000; text-decoration-color: #808000\">tzinfo</span>=<span style=\"color: #800080; text-decoration-color: #800080\">datetime</span>.timezone.utc<span style=\"font-weight: bold\">)</span>,\n",
       "    <span style=\"color: #008000; text-decoration-color: #008000\">'visible_date'</span>: <span style=\"color: #800080; text-decoration-color: #800080; font-weight: bold\">datetime.datetime</span><span style=\"font-weight: bold\">(</span><span style=\"color: #008080; text-decoration-color: #008080; font-weight: bold\">2022</span>, <span style=\"color: #008080; text-decoration-color: #008080; font-weight: bold\">11</span>, <span style=\"color: #008080; text-decoration-color: #008080; font-weight: bold\">7</span>, <span style=\"color: #008080; text-decoration-color: #008080; font-weight: bold\">0</span>, <span style=\"color: #008080; text-decoration-color: #008080; font-weight: bold\">0</span>, <span style=\"color: #808000; text-decoration-color: #808000\">tzinfo</span>=<span style=\"color: #800080; text-decoration-color: #800080\">datetime</span>.timezone.utc<span style=\"font-weight: bold\">)</span>,\n",
       "    <span style=\"color: #008000; text-decoration-color: #008000\">'content'</span>: <span style=\"color: #008000; text-decoration-color: #008000\">'&lt;p&gt;Short work week. Gave me time to indulge in heavy yak shaving. At first, I tried to just </span>\n",
       "<span style=\"color: #008000; text-decoration-color: #008000\">make&amp;nbsp;&lt;a href=\"https://github.com/ephes/django-cast\"&gt;django-cast&lt;/a&gt;&amp;nbsp;(the develop branch) work for newer </span>\n",
       "<span style=\"color: #008000; text-decoration-color: #008000\">&lt;a href=\"https://www.djangoproject.com/\"&gt;Django&lt;/a&gt; and &lt;a href=\"https://wagtail.org/\"&gt;Wagtail&lt;/a&gt; versions. Then I</span>\n",
       "<span style=\"color: #008000; text-decoration-color: #008000\">realized I had to fix&amp;nbsp;&lt;a href=\"http://github.com/ephes/wagtail_srcset/issues/2\"&gt;wagtail-srcset&lt;/a&gt;&amp;nbsp;first </span>\n",
       "<span style=\"color: #008000; text-decoration-color: #008000\">and replaced&amp;nbsp;&lt;a href=\"https://python-poetry.org/\"&gt;poetry&lt;/a&gt;&amp;nbsp;with&amp;nbsp;&lt;a </span>\n",
       "<span style=\"color: #008000; text-decoration-color: #008000\">href=\"https://flit.pypa.io/en/stable/\"&gt;flit&lt;/a&gt;&amp;nbsp;while I&amp;#39;m at it. Then I got lost fixing some stuff </span>\n",
       "<span style=\"color: #008000; text-decoration-color: #008000\">in&amp;nbsp;&lt;a href=\"https://github.com/ephes/kptncook/issues/18\"&gt;kptncook&lt;/a&gt;&amp;nbsp;before I remembered that I have to </span>\n",
       "<span style=\"color: #008000; text-decoration-color: #008000\">also update&amp;nbsp;&lt;a href=\"https://github.com/ephes/django-indieweb\"&gt;django-indieweb&lt;/a&gt;&amp;nbsp;and&amp;nbsp;&lt;a </span>\n",
       "<span style=\"color: #008000; text-decoration-color: #008000\">href=\"https://github.com/ephes/django_fileresponse/tree/main/\"&gt;django-fileresponse&lt;/a&gt;&amp;nbsp;to be able to finally </span>\n",
       "<span style=\"color: #008000; text-decoration-color: #008000\">fix&amp;nbsp;&lt;a href=\"https://github.com/ephes/django-cast\"&gt;django-cast&lt;/a&gt;&amp;nbsp;and make it deployable on my staging </span>\n",
       "<span style=\"color: #008000; text-decoration-color: #008000\">system using the latest and greatest Django and Wagtail versions. Oh and then I fixed some bootstrap stuff in the </span>\n",
       "<span style=\"color: #008000; text-decoration-color: #008000\">commands.py of my &lt;a href=\"https://github.com/ephes/django-template/issues/7\"&gt;Django startproject template&lt;/a&gt;. </span>\n",
       "<span style=\"color: #008000; text-decoration-color: #008000\">Maybe I&amp;#39;ll manage to merge the develop branch of &lt;a </span>\n",
       "<span style=\"color: #008000; text-decoration-color: #008000\">href=\"https://github.com/ephes/django-cast\"&gt;django-cast&lt;/a&gt;&amp;nbsp;back into main soon after develop started to </span>\n",
       "<span style=\"color: #008000; text-decoration-color: #008000\">diverge back in 2019 iirc&amp;nbsp;because I wanted to use Wagtail as a CMS. Looking forward to meet some hairy yaks on</span>\n",
       "<span style=\"color: #008000; text-decoration-color: #008000\">the way.&amp;nbsp;&lt;br /&gt;\\r\\n&amp;nbsp;&lt;/p&gt;\\r\\n\\r\\n&lt;h3&gt;Articles&lt;/h3&gt;\\r\\n\\r\\n&lt;ul&gt;\\r\\n\\t&lt;li&gt;&lt;a </span>\n",
       "<span style=\"color: #008000; text-decoration-color: #008000\">href=\"https://github.com/simonw/simonwillisonblog/issues/290\"&gt;Get a Mastodon instance running #290&lt;/a&gt;&amp;nbsp;| This </span>\n",
       "<span style=\"color: #008000; text-decoration-color: #008000\">yak is looking especially attractive atm&lt;/li&gt;\\r\\n\\t&lt;li&gt;&lt;a </span>\n",
       "<span style=\"color: #008000; text-decoration-color: #008000\">href=\"https://aeracode.org/2022/11/03/static-dynamic-in-memory-sqlite/\"&gt;Static-Dynamic Content With In-Memory </span>\n",
       "<span style=\"color: #008000; text-decoration-color: #008000\">SQLite&lt;/a&gt;&amp;nbsp;| Hmm, cool - but I need to shave my postgres 15 yak first, sorry&lt;/li&gt;\\r\\n\\t&lt;li&gt;&lt;a </span>\n",
       "<span style=\"color: #008000; text-decoration-color: #008000\">href=\"https://fasterthanli.me/articles/becoming-fasterthanlime-full-time\"&gt;Becoming fasterthanlime </span>\n",
       "<span style=\"color: #008000; text-decoration-color: #008000\">full-time&lt;/a&gt;&lt;/li&gt;\\r\\n&lt;/ul&gt;\\r\\n\\r\\n&lt;h3&gt;&lt;br /&gt;\\r\\nTwitter&lt;/h3&gt;\\r\\n\\r\\n&lt;ul&gt;\\r\\n\\t&lt;li&gt;No twitter this week, just </span>\n",
       "<span style=\"color: #008000; text-decoration-color: #008000\">yaks&lt;/li&gt;\\r\\n&lt;/ul&gt;\\r\\n&amp;nbsp;\\r\\n\\r\\n&lt;h3&gt;Weeknotes&lt;/h3&gt;\\r\\n\\r\\n&lt;ul&gt;\\r\\n\\t&lt;li&gt;&lt;a </span>\n",
       "<span style=\"color: #008000; text-decoration-color: #008000\">href=\"https://luisnatera.com/posts/2022/10/2022-10-31-review/\"&gt;Week in Review 2022-10-31&lt;/a&gt;&amp;nbsp;| </span>\n",
       "<span style=\"color: #008000; text-decoration-color: #008000\">Luis&lt;/li&gt;\\r\\n\\t&lt;li&gt;&lt;a href=\"https://shezi.de/weeklogs/log-2022-10-30.html\"&gt;Weeklog for Week 43: October 24 to </span>\n",
       "<span style=\"color: #008000; text-decoration-color: #008000\">October 30&lt;/a&gt;&amp;nbsp;| Johannes&lt;/li&gt;\\r\\n&lt;/ul&gt;\\r\\n&amp;nbsp;\\r\\n\\r\\n&lt;h3&gt;Software&lt;/h3&gt;\\r\\n\\r\\n&lt;ul&gt;\\r\\n\\t&lt;li&gt;&lt;a </span>\n",
       "<span style=\"color: #008000; text-decoration-color: #008000\">href=\"https://github.com/bigskysoftware/htmx/releases/tag/v1.8.4\"&gt;htmx v1.8.4 release&lt;/a&gt;&lt;/li&gt;\\r\\n\\t&lt;li&gt;&lt;a </span>\n",
       "<span style=\"color: #008000; text-decoration-color: #008000\">href=\"https://docs.djangoproject.com/en/4.1/releases/4.1.3/\"&gt;Django 4.1.3 release&lt;/a&gt;&amp;nbsp;| Support for Python </span>\n",
       "<span style=\"color: #008000; text-decoration-color: #008000\">3.11 + some bugfixes&lt;/li&gt;\\r\\n\\t&lt;li&gt;&lt;a </span>\n",
       "<span style=\"color: #008000; text-decoration-color: #008000\">href=\"https://adamj.eu/tech/2022/10/26/django-upgrade-mega-release/\"&gt;django-upgrade Mega Release </span>\n",
       "<span style=\"color: #008000; text-decoration-color: #008000\">1.11.0&lt;/a&gt;&lt;/li&gt;\\r\\n\\t&lt;li&gt;&lt;a href=\"https://web.dev/patterns/components/\"&gt;Component patterns A collection of cross </span>\n",
       "<span style=\"color: #008000; text-decoration-color: #008000\">browser UI components for use in accelerating or inspiring your own design </span>\n",
       "<span style=\"color: #008000; text-decoration-color: #008000\">systems.&lt;/a&gt;&lt;/li&gt;\\r\\n&lt;/ul&gt;\\r\\n\\r\\n&lt;h3&gt;&lt;br /&gt;\\r\\nPodcasts&lt;/h3&gt;\\r\\n\\r\\n&lt;ul&gt;\\r\\n\\t&lt;li&gt;&lt;a </span>\n",
       "<span style=\"color: #008000; text-decoration-color: #008000\">href=\"https://www1.wdr.de/mediathek/audio/wdr5/wdr5-das-philosophische-radio/audio-was-sollte-ihrer-meinung-nach-de</span>\n",
       "<span style=\"color: #008000; text-decoration-color: #008000\">n-kapitalismus-abloesen-100.html\"&gt;Was sollte Ihrer Meinung nach den Kapitalismus abl&amp;ouml;sen?&lt;/a&gt;&amp;nbsp;(&lt;a </span>\n",
       "<span style=\"color: #008000; text-decoration-color: #008000\">href=\"https://www1.wdr.de/radio/wdr5/sendungen/philosophisches-radio/index.html\"&gt;Das philosophische </span>\n",
       "<span style=\"color: #008000; text-decoration-color: #008000\">Radio&lt;/a&gt;)&lt;/li&gt;\\r\\n\\t&lt;li&gt;&lt;a </span>\n",
       "<span style=\"color: #008000; text-decoration-color: #008000\">href=\"https://capitalisnt.simplecast.com/episodes/a-different-story-of-inflation-with-john-cochrane\"&gt;A Different </span>\n",
       "<span style=\"color: #008000; text-decoration-color: #008000\">Story Of Inflation With John Cochrane&lt;/a&gt;&amp;nbsp;(&lt;a href=\"https://capitalisnt.simplecast.com\"&gt;Capitalisn&amp;#39;t&lt;/a&gt;) </span>\n",
       "<span style=\"color: #008000; text-decoration-color: #008000\">| Doh - bonds and cash aren&amp;#39;t the same?&lt;/li&gt;\\r\\n\\t&lt;li&gt;&lt;a </span>\n",
       "<span style=\"color: #008000; text-decoration-color: #008000\">href=\"https://www.datascience.salon/project/episode-27-probabilistic-thinking-with-james-jd-long/\"&gt;Probabilistic </span>\n",
       "<span style=\"color: #008000; text-decoration-color: #008000\">thinking with James &amp;ldquo;JD&amp;rdquo; Long&lt;/a&gt;&amp;nbsp;(&lt;a href=\"https://www.datascience.salon/podcast/\"&gt;Data Science </span>\n",
       "<span style=\"color: #008000; text-decoration-color: #008000\">Salon&lt;/a&gt;) | Very familiar vibes here -&amp;nbsp;I also wonder why people get away that often with publishing just an </span>\n",
       "<span style=\"color: #008000; text-decoration-color: #008000\">accuracy number which is meanlingless in most contexts. On the other hand, I don&amp;#39;t buy the economic arguments </span>\n",
       "<span style=\"color: #008000; text-decoration-color: #008000\">in favor of the cloud: You just have to pay for what you use. Use also have to pay for being able to use the cloud </span>\n",
       "<span style=\"color: #008000; text-decoration-color: #008000\">efficently, you pay for stuff you forgot to turn off and last but not least you pay for not having a competent IT </span>\n",
       "<span style=\"color: #008000; text-decoration-color: #008000\">people and living with grossly inefficient cloud solutions.&lt;/li&gt;\\r\\n\\t&lt;li&gt;&lt;a </span>\n",
       "<span style=\"color: #008000; text-decoration-color: #008000\">href=\"https://djangochat.com/episodes/horserecords-andy-ide\"&gt;HorseRecords - Andy Ide&lt;/a&gt;&amp;nbsp;(&lt;a </span>\n",
       "<span style=\"color: #008000; text-decoration-color: #008000\">href=\"https://djangochat.com\"&gt;Django Chat&lt;/a&gt;) | Hmm, maybe need to take a closer look at&amp;nbsp;&lt;a </span>\n",
       "<span style=\"color: #008000; text-decoration-color: #008000\">href=\"https://www.django-unicorn.com/\"&gt;django-unicorn&lt;/a&gt;&lt;/li&gt;\\r\\n\\t&lt;li&gt;&lt;a </span>\n",
       "<span style=\"color: #008000; text-decoration-color: #008000\">href=\"https://realpython.com/podcasts/rpp/130/\"&gt;Episode 130: Fostering an Internal Python Community &amp;amp; Managing </span>\n",
       "<span style=\"color: #008000; text-decoration-color: #008000\">the 3.11 Release&lt;/a&gt;&amp;nbsp;(&lt;a href=\"https://realpython.com/podcasts/rpp/\"&gt;The Real Python Podcast&lt;/a&gt;) | </span>\n",
       "<span style=\"color: #008000; text-decoration-color: #008000\">&amp;quot;Sometimes you have to break a few eggs to make an omelette.. and some dishes, and the restaurant&amp;quot; </span>\n",
       "<span style=\"color: #008000; text-decoration-color: #008000\">😃&lt;/li&gt;\\r\\n&lt;/ul&gt;\\r\\n\\r\\n&lt;h3&gt;&amp;nbsp; &amp;nbsp;&lt;br /&gt;\\r\\nOut of Context Images&lt;/h3&gt;\\r\\n{% image 1281 %}'</span>,\n",
       "    <span style=\"color: #008000; text-decoration-color: #008000\">'slug'</span>: <span style=\"color: #008000; text-decoration-color: #008000\">'weeknotes-2022-11-07'</span>,\n",
       "    <span style=\"color: #008000; text-decoration-color: #008000\">'author_id'</span>: <span style=\"color: #008080; text-decoration-color: #008080; font-weight: bold\">1</span>,\n",
       "    <span style=\"color: #008000; text-decoration-color: #008000\">'blog_id'</span>: <span style=\"color: #008080; text-decoration-color: #008080; font-weight: bold\">1</span>,\n",
       "    <span style=\"color: #008000; text-decoration-color: #008000\">'podcast_audio_id'</span>: <span style=\"color: #800080; text-decoration-color: #800080; font-style: italic\">None</span>,\n",
       "    <span style=\"color: #008000; text-decoration-color: #008000\">'uuid'</span>: <span style=\"color: #800080; text-decoration-color: #800080; font-weight: bold\">UUID</span><span style=\"font-weight: bold\">(</span><span style=\"color: #008000; text-decoration-color: #008000\">'d402a42d-a599-4dad-b212-2f56b15b1ab5'</span><span style=\"font-weight: bold\">)</span>,\n",
       "    <span style=\"color: #008000; text-decoration-color: #008000\">'keywords'</span>: <span style=\"color: #008000; text-decoration-color: #008000\">''</span>,\n",
       "    <span style=\"color: #008000; text-decoration-color: #008000\">'explicit'</span>: <span style=\"color: #008080; text-decoration-color: #008080; font-weight: bold\">1</span>,\n",
       "    <span style=\"color: #008000; text-decoration-color: #008000\">'block'</span>: <span style=\"color: #ff0000; text-decoration-color: #ff0000; font-style: italic\">False</span>,\n",
       "    <span style=\"color: #008000; text-decoration-color: #008000\">'comments_enabled'</span>: <span style=\"color: #00ff00; text-decoration-color: #00ff00; font-style: italic\">True</span>\n",
       "<span style=\"font-weight: bold\">}</span>\n",
       "</pre>\n"
      ],
      "text/plain": [
       "\u001b[1m{\u001b[0m\n",
       "    \u001b[32m'id'\u001b[0m: \u001b[1;36m333\u001b[0m,\n",
       "    \u001b[32m'created'\u001b[0m: \u001b[1;35mdatetime.datetime\u001b[0m\u001b[1m(\u001b[0m\u001b[1;36m2022\u001b[0m, \u001b[1;36m11\u001b[0m, \u001b[1;36m2\u001b[0m, \u001b[1;36m5\u001b[0m, \u001b[1;36m32\u001b[0m, \u001b[1;36m58\u001b[0m, \u001b[1;36m340726\u001b[0m, \u001b[33mtzinfo\u001b[0m=\u001b[35mdatetime\u001b[0m.timezone.utc\u001b[1m)\u001b[0m,\n",
       "    \u001b[32m'modified'\u001b[0m: \u001b[1;35mdatetime.datetime\u001b[0m\u001b[1m(\u001b[0m\u001b[1;36m2022\u001b[0m, \u001b[1;36m11\u001b[0m, \u001b[1;36m7\u001b[0m, \u001b[1;36m13\u001b[0m, \u001b[1;36m4\u001b[0m, \u001b[1;36m8\u001b[0m, \u001b[1;36m395874\u001b[0m, \u001b[33mtzinfo\u001b[0m=\u001b[35mdatetime\u001b[0m.timezone.utc\u001b[1m)\u001b[0m,\n",
       "    \u001b[32m'title'\u001b[0m: \u001b[32m'Weeknotes 2022-11-07'\u001b[0m,\n",
       "    \u001b[32m'pub_date'\u001b[0m: \u001b[1;35mdatetime.datetime\u001b[0m\u001b[1m(\u001b[0m\u001b[1;36m2022\u001b[0m, \u001b[1;36m11\u001b[0m, \u001b[1;36m7\u001b[0m, \u001b[1;36m13\u001b[0m, \u001b[1;36m4\u001b[0m, \u001b[1;36m8\u001b[0m, \u001b[1;36m393468\u001b[0m, \u001b[33mtzinfo\u001b[0m=\u001b[35mdatetime\u001b[0m.timezone.utc\u001b[1m)\u001b[0m,\n",
       "    \u001b[32m'visible_date'\u001b[0m: \u001b[1;35mdatetime.datetime\u001b[0m\u001b[1m(\u001b[0m\u001b[1;36m2022\u001b[0m, \u001b[1;36m11\u001b[0m, \u001b[1;36m7\u001b[0m, \u001b[1;36m0\u001b[0m, \u001b[1;36m0\u001b[0m, \u001b[33mtzinfo\u001b[0m=\u001b[35mdatetime\u001b[0m.timezone.utc\u001b[1m)\u001b[0m,\n",
       "    \u001b[32m'content'\u001b[0m: \u001b[32m'\u001b[0m\u001b[32m<\u001b[0m\u001b[32mp\u001b[0m\u001b[32m>\u001b[0m\u001b[32mShort work week. Gave me time to indulge in heavy yak shaving. At first, I tried to just \u001b[0m\n",
       "\u001b[32mmake&nbsp;\u001b[0m\u001b[32m<\u001b[0m\u001b[32ma\u001b[0m\u001b[32m \u001b[0m\u001b[32mhref\u001b[0m\u001b[32m=\u001b[0m\u001b[32m\"https\u001b[0m\u001b[32m://github.com/ephes/django-cast\"\u001b[0m\u001b[32m>\u001b[0m\u001b[32mdjango-cast\u001b[0m\u001b[32m<\u001b[0m\u001b[32m/a\u001b[0m\u001b[32m>\u001b[0m\u001b[32m&nbsp;\u001b[0m\u001b[32m(\u001b[0m\u001b[32mthe develop branch\u001b[0m\u001b[32m)\u001b[0m\u001b[32m work for newer \u001b[0m\n",
       "\u001b[32m<\u001b[0m\u001b[32ma\u001b[0m\u001b[32m \u001b[0m\u001b[32mhref\u001b[0m\u001b[32m=\u001b[0m\u001b[32m\"https\u001b[0m\u001b[32m://www.djangoproject.com/\"\u001b[0m\u001b[32m>\u001b[0m\u001b[32mDjango\u001b[0m\u001b[32m<\u001b[0m\u001b[32m/a\u001b[0m\u001b[32m>\u001b[0m\u001b[32m and \u001b[0m\u001b[32m<\u001b[0m\u001b[32ma\u001b[0m\u001b[32m \u001b[0m\u001b[32mhref\u001b[0m\u001b[32m=\u001b[0m\u001b[32m\"https\u001b[0m\u001b[32m://wagtail.org/\"\u001b[0m\u001b[32m>\u001b[0m\u001b[32mWagtail\u001b[0m\u001b[32m<\u001b[0m\u001b[32m/a\u001b[0m\u001b[32m>\u001b[0m\u001b[32m versions. Then I\u001b[0m\n",
       "\u001b[32mrealized I had to fix&nbsp;\u001b[0m\u001b[32m<\u001b[0m\u001b[32ma\u001b[0m\u001b[32m \u001b[0m\u001b[32mhref\u001b[0m\u001b[32m=\u001b[0m\u001b[32m\"http\u001b[0m\u001b[32m://github.com/ephes/wagtail_srcset/issues/2\"\u001b[0m\u001b[32m>\u001b[0m\u001b[32mwagtail-srcset\u001b[0m\u001b[32m<\u001b[0m\u001b[32m/a\u001b[0m\u001b[32m>\u001b[0m\u001b[32m&nbsp;first \u001b[0m\n",
       "\u001b[32mand replaced&nbsp;\u001b[0m\u001b[32m<\u001b[0m\u001b[32ma\u001b[0m\u001b[32m \u001b[0m\u001b[32mhref\u001b[0m\u001b[32m=\u001b[0m\u001b[32m\"https\u001b[0m\u001b[32m://python-poetry.org/\"\u001b[0m\u001b[32m>\u001b[0m\u001b[32mpoetry\u001b[0m\u001b[32m<\u001b[0m\u001b[32m/a\u001b[0m\u001b[32m>\u001b[0m\u001b[32m&nbsp;with&nbsp;\u001b[0m\u001b[32m<\u001b[0m\u001b[32ma\u001b[0m\u001b[32m \u001b[0m\n",
       "\u001b[32mhref\u001b[0m\u001b[32m=\u001b[0m\u001b[32m\"https\u001b[0m\u001b[32m://flit.pypa.io/en/stable/\"\u001b[0m\u001b[32m>\u001b[0m\u001b[32mflit\u001b[0m\u001b[32m<\u001b[0m\u001b[32m/a\u001b[0m\u001b[32m>\u001b[0m\u001b[32m&nbsp;while I&#39;m at it. Then I got lost fixing some stuff \u001b[0m\n",
       "\u001b[32min&nbsp;\u001b[0m\u001b[32m<\u001b[0m\u001b[32ma\u001b[0m\u001b[32m \u001b[0m\u001b[32mhref\u001b[0m\u001b[32m=\u001b[0m\u001b[32m\"https\u001b[0m\u001b[32m://github.com/ephes/kptncook/issues/18\"\u001b[0m\u001b[32m>\u001b[0m\u001b[32mkptncook\u001b[0m\u001b[32m<\u001b[0m\u001b[32m/a\u001b[0m\u001b[32m>\u001b[0m\u001b[32m&nbsp;before I remembered that I have to \u001b[0m\n",
       "\u001b[32malso update&nbsp;\u001b[0m\u001b[32m<\u001b[0m\u001b[32ma\u001b[0m\u001b[32m \u001b[0m\u001b[32mhref\u001b[0m\u001b[32m=\u001b[0m\u001b[32m\"https\u001b[0m\u001b[32m://github.com/ephes/django-indieweb\"\u001b[0m\u001b[32m>\u001b[0m\u001b[32mdjango-indieweb\u001b[0m\u001b[32m<\u001b[0m\u001b[32m/a\u001b[0m\u001b[32m>\u001b[0m\u001b[32m&nbsp;and&nbsp;\u001b[0m\u001b[32m<\u001b[0m\u001b[32ma\u001b[0m\u001b[32m \u001b[0m\n",
       "\u001b[32mhref\u001b[0m\u001b[32m=\u001b[0m\u001b[32m\"https\u001b[0m\u001b[32m://github.com/ephes/django_fileresponse/tree/main/\"\u001b[0m\u001b[32m>\u001b[0m\u001b[32mdjango-fileresponse\u001b[0m\u001b[32m<\u001b[0m\u001b[32m/a\u001b[0m\u001b[32m>\u001b[0m\u001b[32m&nbsp;to be able to finally \u001b[0m\n",
       "\u001b[32mfix&nbsp;\u001b[0m\u001b[32m<\u001b[0m\u001b[32ma\u001b[0m\u001b[32m \u001b[0m\u001b[32mhref\u001b[0m\u001b[32m=\u001b[0m\u001b[32m\"https\u001b[0m\u001b[32m://github.com/ephes/django-cast\"\u001b[0m\u001b[32m>\u001b[0m\u001b[32mdjango-cast\u001b[0m\u001b[32m<\u001b[0m\u001b[32m/a\u001b[0m\u001b[32m>\u001b[0m\u001b[32m&nbsp;and make it deployable on my staging \u001b[0m\n",
       "\u001b[32msystem using the latest and greatest Django and Wagtail versions. Oh and then I fixed some bootstrap stuff in the \u001b[0m\n",
       "\u001b[32mcommands.py of my \u001b[0m\u001b[32m<\u001b[0m\u001b[32ma\u001b[0m\u001b[32m \u001b[0m\u001b[32mhref\u001b[0m\u001b[32m=\u001b[0m\u001b[32m\"https\u001b[0m\u001b[32m://github.com/ephes/django-template/issues/7\"\u001b[0m\u001b[32m>\u001b[0m\u001b[32mDjango startproject template\u001b[0m\u001b[32m<\u001b[0m\u001b[32m/a\u001b[0m\u001b[32m>\u001b[0m\u001b[32m. \u001b[0m\n",
       "\u001b[32mMaybe I&#39;ll manage to merge the develop branch of \u001b[0m\u001b[32m<\u001b[0m\u001b[32ma\u001b[0m\u001b[32m \u001b[0m\n",
       "\u001b[32mhref\u001b[0m\u001b[32m=\u001b[0m\u001b[32m\"https\u001b[0m\u001b[32m://github.com/ephes/django-cast\"\u001b[0m\u001b[32m>\u001b[0m\u001b[32mdjango-cast\u001b[0m\u001b[32m<\u001b[0m\u001b[32m/a\u001b[0m\u001b[32m>\u001b[0m\u001b[32m&nbsp;back into main soon after develop started to \u001b[0m\n",
       "\u001b[32mdiverge back in 2019 iirc&nbsp;because I wanted to use Wagtail as a CMS. Looking forward to meet some hairy yaks on\u001b[0m\n",
       "\u001b[32mthe way.&nbsp;\u001b[0m\u001b[32m<\u001b[0m\u001b[32mbr\u001b[0m\u001b[32m /\u001b[0m\u001b[32m>\u001b[0m\u001b[32m\\r\\n&nbsp;\u001b[0m\u001b[32m<\u001b[0m\u001b[32m/p\u001b[0m\u001b[32m>\u001b[0m\u001b[32m\\r\\n\\r\\n\u001b[0m\u001b[32m<\u001b[0m\u001b[32mh3\u001b[0m\u001b[32m>\u001b[0m\u001b[32mArticles\u001b[0m\u001b[32m<\u001b[0m\u001b[32m/h3\u001b[0m\u001b[32m>\u001b[0m\u001b[32m\\r\\n\\r\\n\u001b[0m\u001b[32m<\u001b[0m\u001b[32mul\u001b[0m\u001b[32m>\u001b[0m\u001b[32m\\r\\n\\t\u001b[0m\u001b[32m<\u001b[0m\u001b[32mli\u001b[0m\u001b[32m>\u001b[0m\u001b[32m<\u001b[0m\u001b[32ma\u001b[0m\u001b[32m \u001b[0m\n",
       "\u001b[32mhref\u001b[0m\u001b[32m=\u001b[0m\u001b[32m\"https\u001b[0m\u001b[32m://github.com/simonw/simonwillisonblog/issues/290\"\u001b[0m\u001b[32m>\u001b[0m\u001b[32mGet a Mastodon instance running #290\u001b[0m\u001b[32m<\u001b[0m\u001b[32m/a\u001b[0m\u001b[32m>\u001b[0m\u001b[32m&nbsp;| This \u001b[0m\n",
       "\u001b[32myak is looking especially attractive atm\u001b[0m\u001b[32m<\u001b[0m\u001b[32m/li\u001b[0m\u001b[32m>\u001b[0m\u001b[32m\\r\\n\\t\u001b[0m\u001b[32m<\u001b[0m\u001b[32mli\u001b[0m\u001b[32m>\u001b[0m\u001b[32m<\u001b[0m\u001b[32ma\u001b[0m\u001b[32m \u001b[0m\n",
       "\u001b[32mhref\u001b[0m\u001b[32m=\u001b[0m\u001b[32m\"https\u001b[0m\u001b[32m://aeracode.org/2022/11/03/static-dynamic-in-memory-sqlite/\"\u001b[0m\u001b[32m>\u001b[0m\u001b[32mStatic-Dynamic Content With In-Memory \u001b[0m\n",
       "\u001b[32mSQLite\u001b[0m\u001b[32m<\u001b[0m\u001b[32m/a\u001b[0m\u001b[32m>\u001b[0m\u001b[32m&nbsp;| Hmm, cool - but I need to shave my postgres 15 yak first, sorry\u001b[0m\u001b[32m<\u001b[0m\u001b[32m/li\u001b[0m\u001b[32m>\u001b[0m\u001b[32m\\r\\n\\t\u001b[0m\u001b[32m<\u001b[0m\u001b[32mli\u001b[0m\u001b[32m>\u001b[0m\u001b[32m<\u001b[0m\u001b[32ma\u001b[0m\u001b[32m \u001b[0m\n",
       "\u001b[32mhref\u001b[0m\u001b[32m=\u001b[0m\u001b[32m\"https\u001b[0m\u001b[32m://fasterthanli.me/articles/becoming-fasterthanlime-full-time\"\u001b[0m\u001b[32m>\u001b[0m\u001b[32mBecoming fasterthanlime \u001b[0m\n",
       "\u001b[32mfull-time\u001b[0m\u001b[32m<\u001b[0m\u001b[32m/a\u001b[0m\u001b[32m>\u001b[0m\u001b[32m<\u001b[0m\u001b[32m/li\u001b[0m\u001b[32m>\u001b[0m\u001b[32m\\r\\n\u001b[0m\u001b[32m<\u001b[0m\u001b[32m/ul\u001b[0m\u001b[32m>\u001b[0m\u001b[32m\\r\\n\\r\\n\u001b[0m\u001b[32m<\u001b[0m\u001b[32mh3\u001b[0m\u001b[32m>\u001b[0m\u001b[32m<\u001b[0m\u001b[32mbr\u001b[0m\u001b[32m /\u001b[0m\u001b[32m>\u001b[0m\u001b[32m\\r\\nTwitter\u001b[0m\u001b[32m<\u001b[0m\u001b[32m/h3\u001b[0m\u001b[32m>\u001b[0m\u001b[32m\\r\\n\\r\\n\u001b[0m\u001b[32m<\u001b[0m\u001b[32mul\u001b[0m\u001b[32m>\u001b[0m\u001b[32m\\r\\n\\t\u001b[0m\u001b[32m<\u001b[0m\u001b[32mli\u001b[0m\u001b[32m>\u001b[0m\u001b[32mNo twitter this week, just \u001b[0m\n",
       "\u001b[32myaks\u001b[0m\u001b[32m<\u001b[0m\u001b[32m/li\u001b[0m\u001b[32m>\u001b[0m\u001b[32m\\r\\n\u001b[0m\u001b[32m<\u001b[0m\u001b[32m/ul\u001b[0m\u001b[32m>\u001b[0m\u001b[32m\\r\\n&nbsp;\\r\\n\\r\\n\u001b[0m\u001b[32m<\u001b[0m\u001b[32mh3\u001b[0m\u001b[32m>\u001b[0m\u001b[32mWeeknotes\u001b[0m\u001b[32m<\u001b[0m\u001b[32m/h3\u001b[0m\u001b[32m>\u001b[0m\u001b[32m\\r\\n\\r\\n\u001b[0m\u001b[32m<\u001b[0m\u001b[32mul\u001b[0m\u001b[32m>\u001b[0m\u001b[32m\\r\\n\\t\u001b[0m\u001b[32m<\u001b[0m\u001b[32mli\u001b[0m\u001b[32m>\u001b[0m\u001b[32m<\u001b[0m\u001b[32ma\u001b[0m\u001b[32m \u001b[0m\n",
       "\u001b[32mhref\u001b[0m\u001b[32m=\u001b[0m\u001b[32m\"https\u001b[0m\u001b[32m://luisnatera.com/posts/2022/10/2022-10-31-review/\"\u001b[0m\u001b[32m>\u001b[0m\u001b[32mWeek in Review 2022-10-31\u001b[0m\u001b[32m<\u001b[0m\u001b[32m/a\u001b[0m\u001b[32m>\u001b[0m\u001b[32m&nbsp;| \u001b[0m\n",
       "\u001b[32mLuis\u001b[0m\u001b[32m<\u001b[0m\u001b[32m/li\u001b[0m\u001b[32m>\u001b[0m\u001b[32m\\r\\n\\t\u001b[0m\u001b[32m<\u001b[0m\u001b[32mli\u001b[0m\u001b[32m>\u001b[0m\u001b[32m<\u001b[0m\u001b[32ma\u001b[0m\u001b[32m \u001b[0m\u001b[32mhref\u001b[0m\u001b[32m=\u001b[0m\u001b[32m\"https\u001b[0m\u001b[32m://shezi.de/weeklogs/log-2022-10-30.html\"\u001b[0m\u001b[32m>\u001b[0m\u001b[32mWeeklog for Week 43: October 24 to \u001b[0m\n",
       "\u001b[32mOctober 30\u001b[0m\u001b[32m<\u001b[0m\u001b[32m/a\u001b[0m\u001b[32m>\u001b[0m\u001b[32m&nbsp;| Johannes\u001b[0m\u001b[32m<\u001b[0m\u001b[32m/li\u001b[0m\u001b[32m>\u001b[0m\u001b[32m\\r\\n\u001b[0m\u001b[32m<\u001b[0m\u001b[32m/ul\u001b[0m\u001b[32m>\u001b[0m\u001b[32m\\r\\n&nbsp;\\r\\n\\r\\n\u001b[0m\u001b[32m<\u001b[0m\u001b[32mh3\u001b[0m\u001b[32m>\u001b[0m\u001b[32mSoftware\u001b[0m\u001b[32m<\u001b[0m\u001b[32m/h3\u001b[0m\u001b[32m>\u001b[0m\u001b[32m\\r\\n\\r\\n\u001b[0m\u001b[32m<\u001b[0m\u001b[32mul\u001b[0m\u001b[32m>\u001b[0m\u001b[32m\\r\\n\\t\u001b[0m\u001b[32m<\u001b[0m\u001b[32mli\u001b[0m\u001b[32m>\u001b[0m\u001b[32m<\u001b[0m\u001b[32ma\u001b[0m\u001b[32m \u001b[0m\n",
       "\u001b[32mhref\u001b[0m\u001b[32m=\u001b[0m\u001b[32m\"https\u001b[0m\u001b[32m://github.com/bigskysoftware/htmx/releases/tag/v1.8.4\"\u001b[0m\u001b[32m>\u001b[0m\u001b[32mhtmx v1.8.4 release\u001b[0m\u001b[32m<\u001b[0m\u001b[32m/a\u001b[0m\u001b[32m>\u001b[0m\u001b[32m<\u001b[0m\u001b[32m/li\u001b[0m\u001b[32m>\u001b[0m\u001b[32m\\r\\n\\t\u001b[0m\u001b[32m<\u001b[0m\u001b[32mli\u001b[0m\u001b[32m>\u001b[0m\u001b[32m<\u001b[0m\u001b[32ma\u001b[0m\u001b[32m \u001b[0m\n",
       "\u001b[32mhref\u001b[0m\u001b[32m=\u001b[0m\u001b[32m\"https\u001b[0m\u001b[32m://docs.djangoproject.com/en/4.1/releases/4.1.3/\"\u001b[0m\u001b[32m>\u001b[0m\u001b[32mDjango 4.1.3 release\u001b[0m\u001b[32m<\u001b[0m\u001b[32m/a\u001b[0m\u001b[32m>\u001b[0m\u001b[32m&nbsp;| Support for Python \u001b[0m\n",
       "\u001b[32m3.11 + some bugfixes\u001b[0m\u001b[32m<\u001b[0m\u001b[32m/li\u001b[0m\u001b[32m>\u001b[0m\u001b[32m\\r\\n\\t\u001b[0m\u001b[32m<\u001b[0m\u001b[32mli\u001b[0m\u001b[32m>\u001b[0m\u001b[32m<\u001b[0m\u001b[32ma\u001b[0m\u001b[32m \u001b[0m\n",
       "\u001b[32mhref\u001b[0m\u001b[32m=\u001b[0m\u001b[32m\"https\u001b[0m\u001b[32m://adamj.eu/tech/2022/10/26/django-upgrade-mega-release/\"\u001b[0m\u001b[32m>\u001b[0m\u001b[32mdjango-upgrade Mega Release \u001b[0m\n",
       "\u001b[32m1.11.0\u001b[0m\u001b[32m<\u001b[0m\u001b[32m/a\u001b[0m\u001b[32m>\u001b[0m\u001b[32m<\u001b[0m\u001b[32m/li\u001b[0m\u001b[32m>\u001b[0m\u001b[32m\\r\\n\\t\u001b[0m\u001b[32m<\u001b[0m\u001b[32mli\u001b[0m\u001b[32m>\u001b[0m\u001b[32m<\u001b[0m\u001b[32ma\u001b[0m\u001b[32m \u001b[0m\u001b[32mhref\u001b[0m\u001b[32m=\u001b[0m\u001b[32m\"https\u001b[0m\u001b[32m://web.dev/patterns/components/\"\u001b[0m\u001b[32m>\u001b[0m\u001b[32mComponent patterns A collection of cross \u001b[0m\n",
       "\u001b[32mbrowser UI components for use in accelerating or inspiring your own design \u001b[0m\n",
       "\u001b[32msystems.\u001b[0m\u001b[32m<\u001b[0m\u001b[32m/a\u001b[0m\u001b[32m>\u001b[0m\u001b[32m<\u001b[0m\u001b[32m/li\u001b[0m\u001b[32m>\u001b[0m\u001b[32m\\r\\n\u001b[0m\u001b[32m<\u001b[0m\u001b[32m/ul\u001b[0m\u001b[32m>\u001b[0m\u001b[32m\\r\\n\\r\\n\u001b[0m\u001b[32m<\u001b[0m\u001b[32mh3\u001b[0m\u001b[32m>\u001b[0m\u001b[32m<\u001b[0m\u001b[32mbr\u001b[0m\u001b[32m /\u001b[0m\u001b[32m>\u001b[0m\u001b[32m\\r\\nPodcasts\u001b[0m\u001b[32m<\u001b[0m\u001b[32m/h3\u001b[0m\u001b[32m>\u001b[0m\u001b[32m\\r\\n\\r\\n\u001b[0m\u001b[32m<\u001b[0m\u001b[32mul\u001b[0m\u001b[32m>\u001b[0m\u001b[32m\\r\\n\\t\u001b[0m\u001b[32m<\u001b[0m\u001b[32mli\u001b[0m\u001b[32m>\u001b[0m\u001b[32m<\u001b[0m\u001b[32ma\u001b[0m\u001b[32m \u001b[0m\n",
       "\u001b[32mhref\u001b[0m\u001b[32m=\u001b[0m\u001b[32m\"https\u001b[0m\u001b[32m://www1.wdr.de/mediathek/audio/wdr5/wdr5-das-philosophische-radio/audio-was-sollte-ihrer-meinung-nach-de\u001b[0m\n",
       "\u001b[32mn-kapitalismus-abloesen-100.html\"\u001b[0m\u001b[32m>\u001b[0m\u001b[32mWas sollte Ihrer Meinung nach den Kapitalismus abl&ouml;sen?\u001b[0m\u001b[32m<\u001b[0m\u001b[32m/a\u001b[0m\u001b[32m>\u001b[0m\u001b[32m&nbsp;\u001b[0m\u001b[32m(\u001b[0m\u001b[32m<\u001b[0m\u001b[32ma\u001b[0m\u001b[32m \u001b[0m\n",
       "\u001b[32mhref\u001b[0m\u001b[32m=\u001b[0m\u001b[32m\"https\u001b[0m\u001b[32m://www1.wdr.de/radio/wdr5/sendungen/philosophisches-radio/index.html\"\u001b[0m\u001b[32m>\u001b[0m\u001b[32mDas philosophische \u001b[0m\n",
       "\u001b[32mRadio\u001b[0m\u001b[32m<\u001b[0m\u001b[32m/a\u001b[0m\u001b[32m>\u001b[0m\u001b[32m)\u001b[0m\u001b[32m<\u001b[0m\u001b[32m/li\u001b[0m\u001b[32m>\u001b[0m\u001b[32m\\r\\n\\t\u001b[0m\u001b[32m<\u001b[0m\u001b[32mli\u001b[0m\u001b[32m>\u001b[0m\u001b[32m<\u001b[0m\u001b[32ma\u001b[0m\u001b[32m \u001b[0m\n",
       "\u001b[32mhref\u001b[0m\u001b[32m=\u001b[0m\u001b[32m\"https\u001b[0m\u001b[32m://capitalisnt.simplecast.com/episodes/a-different-story-of-inflation-with-john-cochrane\"\u001b[0m\u001b[32m>\u001b[0m\u001b[32mA Different \u001b[0m\n",
       "\u001b[32mStory Of Inflation With John Cochrane\u001b[0m\u001b[32m<\u001b[0m\u001b[32m/a\u001b[0m\u001b[32m>\u001b[0m\u001b[32m&nbsp;\u001b[0m\u001b[32m(\u001b[0m\u001b[32m<\u001b[0m\u001b[32ma\u001b[0m\u001b[32m \u001b[0m\u001b[32mhref\u001b[0m\u001b[32m=\u001b[0m\u001b[32m\"https\u001b[0m\u001b[32m://capitalisnt.simplecast.com\"\u001b[0m\u001b[32m>\u001b[0m\u001b[32mCapitalisn&#39;t\u001b[0m\u001b[32m<\u001b[0m\u001b[32m/a\u001b[0m\u001b[32m>\u001b[0m\u001b[32m)\u001b[0m\u001b[32m \u001b[0m\n",
       "\u001b[32m| Doh - bonds and cash aren&#39;t the same?\u001b[0m\u001b[32m<\u001b[0m\u001b[32m/li\u001b[0m\u001b[32m>\u001b[0m\u001b[32m\\r\\n\\t\u001b[0m\u001b[32m<\u001b[0m\u001b[32mli\u001b[0m\u001b[32m>\u001b[0m\u001b[32m<\u001b[0m\u001b[32ma\u001b[0m\u001b[32m \u001b[0m\n",
       "\u001b[32mhref\u001b[0m\u001b[32m=\u001b[0m\u001b[32m\"https\u001b[0m\u001b[32m://www.datascience.salon/project/episode-27-probabilistic-thinking-with-james-jd-long/\"\u001b[0m\u001b[32m>\u001b[0m\u001b[32mProbabilistic \u001b[0m\n",
       "\u001b[32mthinking with James &ldquo;JD&rdquo; Long\u001b[0m\u001b[32m<\u001b[0m\u001b[32m/a\u001b[0m\u001b[32m>\u001b[0m\u001b[32m&nbsp;\u001b[0m\u001b[32m(\u001b[0m\u001b[32m<\u001b[0m\u001b[32ma\u001b[0m\u001b[32m \u001b[0m\u001b[32mhref\u001b[0m\u001b[32m=\u001b[0m\u001b[32m\"https\u001b[0m\u001b[32m://www.datascience.salon/podcast/\"\u001b[0m\u001b[32m>\u001b[0m\u001b[32mData Science \u001b[0m\n",
       "\u001b[32mSalon\u001b[0m\u001b[32m<\u001b[0m\u001b[32m/a\u001b[0m\u001b[32m>\u001b[0m\u001b[32m)\u001b[0m\u001b[32m | Very familiar vibes here -&nbsp;I also wonder why people get away that often with publishing just an \u001b[0m\n",
       "\u001b[32maccuracy number which is meanlingless in most contexts. On the other hand, I don&#39;t buy the economic arguments \u001b[0m\n",
       "\u001b[32min favor of the cloud: You just have to pay for what you use. Use also have to pay for being able to use the cloud \u001b[0m\n",
       "\u001b[32mefficently, you pay for stuff you forgot to turn off and last but not least you pay for not having a competent IT \u001b[0m\n",
       "\u001b[32mpeople and living with grossly inefficient cloud solutions.\u001b[0m\u001b[32m<\u001b[0m\u001b[32m/li\u001b[0m\u001b[32m>\u001b[0m\u001b[32m\\r\\n\\t\u001b[0m\u001b[32m<\u001b[0m\u001b[32mli\u001b[0m\u001b[32m>\u001b[0m\u001b[32m<\u001b[0m\u001b[32ma\u001b[0m\u001b[32m \u001b[0m\n",
       "\u001b[32mhref\u001b[0m\u001b[32m=\u001b[0m\u001b[32m\"https\u001b[0m\u001b[32m://djangochat.com/episodes/horserecords-andy-ide\"\u001b[0m\u001b[32m>\u001b[0m\u001b[32mHorseRecords - Andy Ide\u001b[0m\u001b[32m<\u001b[0m\u001b[32m/a\u001b[0m\u001b[32m>\u001b[0m\u001b[32m&nbsp;\u001b[0m\u001b[32m(\u001b[0m\u001b[32m<\u001b[0m\u001b[32ma\u001b[0m\u001b[32m \u001b[0m\n",
       "\u001b[32mhref\u001b[0m\u001b[32m=\u001b[0m\u001b[32m\"https\u001b[0m\u001b[32m://djangochat.com\"\u001b[0m\u001b[32m>\u001b[0m\u001b[32mDjango Chat\u001b[0m\u001b[32m<\u001b[0m\u001b[32m/a\u001b[0m\u001b[32m>\u001b[0m\u001b[32m)\u001b[0m\u001b[32m | Hmm, maybe need to take a closer look at&nbsp;\u001b[0m\u001b[32m<\u001b[0m\u001b[32ma\u001b[0m\u001b[32m \u001b[0m\n",
       "\u001b[32mhref\u001b[0m\u001b[32m=\u001b[0m\u001b[32m\"https\u001b[0m\u001b[32m://www.django-unicorn.com/\"\u001b[0m\u001b[32m>\u001b[0m\u001b[32mdjango-unicorn\u001b[0m\u001b[32m<\u001b[0m\u001b[32m/a\u001b[0m\u001b[32m>\u001b[0m\u001b[32m<\u001b[0m\u001b[32m/li\u001b[0m\u001b[32m>\u001b[0m\u001b[32m\\r\\n\\t\u001b[0m\u001b[32m<\u001b[0m\u001b[32mli\u001b[0m\u001b[32m>\u001b[0m\u001b[32m<\u001b[0m\u001b[32ma\u001b[0m\u001b[32m \u001b[0m\n",
       "\u001b[32mhref\u001b[0m\u001b[32m=\u001b[0m\u001b[32m\"https\u001b[0m\u001b[32m://realpython.com/podcasts/rpp/130/\"\u001b[0m\u001b[32m>\u001b[0m\u001b[32mEpisode 130: Fostering an Internal Python Community &amp; Managing \u001b[0m\n",
       "\u001b[32mthe 3.11 Release\u001b[0m\u001b[32m<\u001b[0m\u001b[32m/a\u001b[0m\u001b[32m>\u001b[0m\u001b[32m&nbsp;\u001b[0m\u001b[32m(\u001b[0m\u001b[32m<\u001b[0m\u001b[32ma\u001b[0m\u001b[32m \u001b[0m\u001b[32mhref\u001b[0m\u001b[32m=\u001b[0m\u001b[32m\"https\u001b[0m\u001b[32m://realpython.com/podcasts/rpp/\"\u001b[0m\u001b[32m>\u001b[0m\u001b[32mThe Real Python Podcast\u001b[0m\u001b[32m<\u001b[0m\u001b[32m/a\u001b[0m\u001b[32m>\u001b[0m\u001b[32m)\u001b[0m\u001b[32m | \u001b[0m\n",
       "\u001b[32m&quot;Sometimes you have to break a few eggs to make an omelette.. and some dishes, and the restaurant&quot; \u001b[0m\n",
       "\u001b[32m😃\u001b[0m\u001b[32m<\u001b[0m\u001b[32m/li\u001b[0m\u001b[32m>\u001b[0m\u001b[32m\\r\\n\u001b[0m\u001b[32m<\u001b[0m\u001b[32m/ul\u001b[0m\u001b[32m>\u001b[0m\u001b[32m\\r\\n\\r\\n\u001b[0m\u001b[32m<\u001b[0m\u001b[32mh3\u001b[0m\u001b[32m>\u001b[0m\u001b[32m&nbsp; &nbsp;\u001b[0m\u001b[32m<\u001b[0m\u001b[32mbr\u001b[0m\u001b[32m /\u001b[0m\u001b[32m>\u001b[0m\u001b[32m\\r\\nOut of Context Images\u001b[0m\u001b[32m<\u001b[0m\u001b[32m/h3\u001b[0m\u001b[32m>\u001b[0m\u001b[32m\\r\\n\u001b[0m\u001b[32m{\u001b[0m\u001b[32m% image 1281 %\u001b[0m\u001b[32m}\u001b[0m\u001b[32m'\u001b[0m,\n",
       "    \u001b[32m'slug'\u001b[0m: \u001b[32m'weeknotes-2022-11-07'\u001b[0m,\n",
       "    \u001b[32m'author_id'\u001b[0m: \u001b[1;36m1\u001b[0m,\n",
       "    \u001b[32m'blog_id'\u001b[0m: \u001b[1;36m1\u001b[0m,\n",
       "    \u001b[32m'podcast_audio_id'\u001b[0m: \u001b[3;35mNone\u001b[0m,\n",
       "    \u001b[32m'uuid'\u001b[0m: \u001b[1;35mUUID\u001b[0m\u001b[1m(\u001b[0m\u001b[32m'd402a42d-a599-4dad-b212-2f56b15b1ab5'\u001b[0m\u001b[1m)\u001b[0m,\n",
       "    \u001b[32m'keywords'\u001b[0m: \u001b[32m''\u001b[0m,\n",
       "    \u001b[32m'explicit'\u001b[0m: \u001b[1;36m1\u001b[0m,\n",
       "    \u001b[32m'block'\u001b[0m: \u001b[3;91mFalse\u001b[0m,\n",
       "    \u001b[32m'comments_enabled'\u001b[0m: \u001b[3;92mTrue\u001b[0m\n",
       "\u001b[1m}\u001b[0m\n"
      ]
     },
     "metadata": {},
     "output_type": "display_data"
    }
   ],
   "source": [
    "print(legacy)"
   ]
  },
  {
   "cell_type": "code",
   "execution_count": 4,
   "id": "7ef2e381-887f-4e15-8cfa-15589a46fc13",
   "metadata": {},
   "outputs": [],
   "source": [
    "post = Post.objects.first()"
   ]
  },
  {
   "cell_type": "code",
   "execution_count": 5,
   "id": "1371b408-582f-424b-9092-f01b19b7f75f",
   "metadata": {},
   "outputs": [
    {
     "data": {
      "text/plain": [
       "<Post: First Post>"
      ]
     },
     "execution_count": 5,
     "metadata": {},
     "output_type": "execute_result"
    }
   ],
   "source": [
    "post"
   ]
  },
  {
   "cell_type": "code",
   "execution_count": 6,
   "id": "b2a71737-1dd4-41c1-8eb9-86fbf66dc644",
   "metadata": {},
   "outputs": [
    {
     "data": {
      "text/html": [
       "<pre style=\"white-space:pre;overflow-x:auto;line-height:normal;font-family:Menlo,'DejaVu Sans Mono',consolas,'Courier New',monospace\"><span style=\"font-weight: bold\">[</span>\n",
       "    <span style=\"font-weight: bold\">{</span>\n",
       "        <span style=\"color: #008000; text-decoration-color: #008000\">'type'</span>: <span style=\"color: #008000; text-decoration-color: #008000\">'overview'</span>,\n",
       "        <span style=\"color: #008000; text-decoration-color: #008000\">'value'</span>: <span style=\"font-weight: bold\">[</span>\n",
       "            <span style=\"font-weight: bold\">{</span><span style=\"color: #008000; text-decoration-color: #008000\">'type'</span>: <span style=\"color: #008000; text-decoration-color: #008000\">'heading'</span>, <span style=\"color: #008000; text-decoration-color: #008000\">'value'</span>: <span style=\"color: #008000; text-decoration-color: #008000\">'Eine Überschrift'</span>, <span style=\"color: #008000; text-decoration-color: #008000\">'id'</span>: <span style=\"color: #008000; text-decoration-color: #008000\">'58378935-196d-4396-a23e-2bc1c9cbc0f3'</span><span style=\"font-weight: bold\">}</span>,\n",
       "            <span style=\"font-weight: bold\">{</span>\n",
       "                <span style=\"color: #008000; text-decoration-color: #008000\">'type'</span>: <span style=\"color: #008000; text-decoration-color: #008000\">'paragraph'</span>,\n",
       "                <span style=\"color: #008000; text-decoration-color: #008000\">'value'</span>: <span style=\"color: #008000; text-decoration-color: #008000\">'&lt;p data-block-key=\"anlsf\"&gt;Ein bisschen Text. Angeblich geht hier auch RichText. Hmm, wäre</span>\n",
       "<span style=\"color: #008000; text-decoration-color: #008000\">das dann eine Überschrift?&lt;/p&gt;&lt;p data-block-key=\"r0vs\"&gt;&lt;/p&gt;&lt;p data-block-key=\"7pj4l\"&gt;&lt;a </span>\n",
       "<span style=\"color: #008000; text-decoration-color: #008000\">href=\"http://wersdoerfer.de\"&gt;wersdoerfer&lt;/a&gt;Aha!&lt;/p&gt;&lt;p data-block-key=\"bivd5\"&gt;&lt;/p&gt;&lt;h2 </span>\n",
       "<span style=\"color: #008000; text-decoration-color: #008000\">data-block-key=\"6vmjl\"&gt;Heading 2&lt;/h2&gt;'</span>,\n",
       "                <span style=\"color: #008000; text-decoration-color: #008000\">'id'</span>: <span style=\"color: #008000; text-decoration-color: #008000\">'9279543d-88aa-4be3-a12c-952ebe6966c0'</span>\n",
       "            <span style=\"font-weight: bold\">}</span>\n",
       "        <span style=\"font-weight: bold\">]</span>,\n",
       "        <span style=\"color: #008000; text-decoration-color: #008000\">'id'</span>: <span style=\"color: #008000; text-decoration-color: #008000\">'bdab0f1c-c164-417b-879d-d4c6583c4c6c'</span>\n",
       "    <span style=\"font-weight: bold\">}</span>,\n",
       "    <span style=\"font-weight: bold\">{</span>\n",
       "        <span style=\"color: #008000; text-decoration-color: #008000\">'type'</span>: <span style=\"color: #008000; text-decoration-color: #008000\">'detail'</span>,\n",
       "        <span style=\"color: #008000; text-decoration-color: #008000\">'value'</span>: <span style=\"font-weight: bold\">[</span>\n",
       "            <span style=\"font-weight: bold\">{</span><span style=\"color: #008000; text-decoration-color: #008000\">'type'</span>: <span style=\"color: #008000; text-decoration-color: #008000\">'heading'</span>, <span style=\"color: #008000; text-decoration-color: #008000\">'value'</span>: <span style=\"color: #008000; text-decoration-color: #008000\">'Detail Überschrift'</span>, <span style=\"color: #008000; text-decoration-color: #008000\">'id'</span>: <span style=\"color: #008000; text-decoration-color: #008000\">'d7cbf386-58af-4ba6-bf7b-091e2304578a'</span><span style=\"font-weight: bold\">}</span>,\n",
       "            <span style=\"font-weight: bold\">{</span>\n",
       "                <span style=\"color: #008000; text-decoration-color: #008000\">'type'</span>: <span style=\"color: #008000; text-decoration-color: #008000\">'paragraph'</span>,\n",
       "                <span style=\"color: #008000; text-decoration-color: #008000\">'value'</span>: <span style=\"color: #008000; text-decoration-color: #008000\">'&lt;p data-block-key=\"g3l0n\"&gt;Noch ein bisschen Text :)&lt;/p&gt;'</span>,\n",
       "                <span style=\"color: #008000; text-decoration-color: #008000\">'id'</span>: <span style=\"color: #008000; text-decoration-color: #008000\">'f43fc4f3-f34f-4506-9a23-1ef4564de0e7'</span>\n",
       "            <span style=\"font-weight: bold\">}</span>\n",
       "        <span style=\"font-weight: bold\">]</span>,\n",
       "        <span style=\"color: #008000; text-decoration-color: #008000\">'id'</span>: <span style=\"color: #008000; text-decoration-color: #008000\">'6e18b320-7cfa-4255-9226-35b52b93aaac'</span>\n",
       "    <span style=\"font-weight: bold\">}</span>\n",
       "<span style=\"font-weight: bold\">]</span>\n",
       "</pre>\n"
      ],
      "text/plain": [
       "\u001b[1m[\u001b[0m\n",
       "    \u001b[1m{\u001b[0m\n",
       "        \u001b[32m'type'\u001b[0m: \u001b[32m'overview'\u001b[0m,\n",
       "        \u001b[32m'value'\u001b[0m: \u001b[1m[\u001b[0m\n",
       "            \u001b[1m{\u001b[0m\u001b[32m'type'\u001b[0m: \u001b[32m'heading'\u001b[0m, \u001b[32m'value'\u001b[0m: \u001b[32m'Eine Überschrift'\u001b[0m, \u001b[32m'id'\u001b[0m: \u001b[32m'58378935-196d-4396-a23e-2bc1c9cbc0f3'\u001b[0m\u001b[1m}\u001b[0m,\n",
       "            \u001b[1m{\u001b[0m\n",
       "                \u001b[32m'type'\u001b[0m: \u001b[32m'paragraph'\u001b[0m,\n",
       "                \u001b[32m'value'\u001b[0m: \u001b[32m'\u001b[0m\u001b[32m<\u001b[0m\u001b[32mp\u001b[0m\u001b[32m data-block-\u001b[0m\u001b[32mkey\u001b[0m\u001b[32m=\u001b[0m\u001b[32m\"anlsf\"\u001b[0m\u001b[32m>\u001b[0m\u001b[32mEin bisschen Text. Angeblich geht hier auch RichText. Hmm, wäre\u001b[0m\n",
       "\u001b[32mdas dann eine Überschrift?\u001b[0m\u001b[32m<\u001b[0m\u001b[32m/p\u001b[0m\u001b[32m>\u001b[0m\u001b[32m<\u001b[0m\u001b[32mp\u001b[0m\u001b[32m data-block-\u001b[0m\u001b[32mkey\u001b[0m\u001b[32m=\u001b[0m\u001b[32m\"r0vs\"\u001b[0m\u001b[32m>\u001b[0m\u001b[32m<\u001b[0m\u001b[32m/p\u001b[0m\u001b[32m>\u001b[0m\u001b[32m<\u001b[0m\u001b[32mp\u001b[0m\u001b[32m data-block-\u001b[0m\u001b[32mkey\u001b[0m\u001b[32m=\u001b[0m\u001b[32m\"7pj4l\"\u001b[0m\u001b[32m>\u001b[0m\u001b[32m<\u001b[0m\u001b[32ma\u001b[0m\u001b[32m \u001b[0m\n",
       "\u001b[32mhref\u001b[0m\u001b[32m=\u001b[0m\u001b[32m\"http\u001b[0m\u001b[32m://wersdoerfer.de\"\u001b[0m\u001b[32m>\u001b[0m\u001b[32mwersdoerfer\u001b[0m\u001b[32m<\u001b[0m\u001b[32m/a\u001b[0m\u001b[32m>\u001b[0m\u001b[32mAha!\u001b[0m\u001b[32m<\u001b[0m\u001b[32m/p\u001b[0m\u001b[32m>\u001b[0m\u001b[32m<\u001b[0m\u001b[32mp\u001b[0m\u001b[32m data-block-\u001b[0m\u001b[32mkey\u001b[0m\u001b[32m=\u001b[0m\u001b[32m\"bivd5\"\u001b[0m\u001b[32m>\u001b[0m\u001b[32m<\u001b[0m\u001b[32m/p\u001b[0m\u001b[32m>\u001b[0m\u001b[32m<\u001b[0m\u001b[32mh2\u001b[0m\u001b[32m \u001b[0m\n",
       "\u001b[32mdata-block-\u001b[0m\u001b[32mkey\u001b[0m\u001b[32m=\u001b[0m\u001b[32m\"6vmjl\"\u001b[0m\u001b[32m>\u001b[0m\u001b[32mHeading 2\u001b[0m\u001b[32m<\u001b[0m\u001b[32m/h2\u001b[0m\u001b[32m>\u001b[0m\u001b[32m'\u001b[0m,\n",
       "                \u001b[32m'id'\u001b[0m: \u001b[32m'9279543d-88aa-4be3-a12c-952ebe6966c0'\u001b[0m\n",
       "            \u001b[1m}\u001b[0m\n",
       "        \u001b[1m]\u001b[0m,\n",
       "        \u001b[32m'id'\u001b[0m: \u001b[32m'bdab0f1c-c164-417b-879d-d4c6583c4c6c'\u001b[0m\n",
       "    \u001b[1m}\u001b[0m,\n",
       "    \u001b[1m{\u001b[0m\n",
       "        \u001b[32m'type'\u001b[0m: \u001b[32m'detail'\u001b[0m,\n",
       "        \u001b[32m'value'\u001b[0m: \u001b[1m[\u001b[0m\n",
       "            \u001b[1m{\u001b[0m\u001b[32m'type'\u001b[0m: \u001b[32m'heading'\u001b[0m, \u001b[32m'value'\u001b[0m: \u001b[32m'Detail Überschrift'\u001b[0m, \u001b[32m'id'\u001b[0m: \u001b[32m'd7cbf386-58af-4ba6-bf7b-091e2304578a'\u001b[0m\u001b[1m}\u001b[0m,\n",
       "            \u001b[1m{\u001b[0m\n",
       "                \u001b[32m'type'\u001b[0m: \u001b[32m'paragraph'\u001b[0m,\n",
       "                \u001b[32m'value'\u001b[0m: \u001b[32m'\u001b[0m\u001b[32m<\u001b[0m\u001b[32mp\u001b[0m\u001b[32m data-block-\u001b[0m\u001b[32mkey\u001b[0m\u001b[32m=\u001b[0m\u001b[32m\"g3l0n\"\u001b[0m\u001b[32m>\u001b[0m\u001b[32mNoch ein bisschen Text :\u001b[0m\u001b[32m)\u001b[0m\u001b[32m<\u001b[0m\u001b[32m/p\u001b[0m\u001b[32m>\u001b[0m\u001b[32m'\u001b[0m,\n",
       "                \u001b[32m'id'\u001b[0m: \u001b[32m'f43fc4f3-f34f-4506-9a23-1ef4564de0e7'\u001b[0m\n",
       "            \u001b[1m}\u001b[0m\n",
       "        \u001b[1m]\u001b[0m,\n",
       "        \u001b[32m'id'\u001b[0m: \u001b[32m'6e18b320-7cfa-4255-9226-35b52b93aaac'\u001b[0m\n",
       "    \u001b[1m}\u001b[0m\n",
       "\u001b[1m]\u001b[0m\n"
      ]
     },
     "metadata": {},
     "output_type": "display_data"
    }
   ],
   "source": [
    "print(post.body._raw_data)"
   ]
  },
  {
   "cell_type": "code",
   "execution_count": 10,
   "id": "00c6afc7-71dc-45f6-b796-87e4ca967a91",
   "metadata": {},
   "outputs": [],
   "source": [
    "def build_post_from_legacy(legacy):\n",
    "    post = Post(title=legacy[\"title\"], visible_date=legacy[\"visible_date\"])\n",
    "    raw_body = [\n",
    "        {\n",
    "            'type': 'overview',\n",
    "            'value': [{\n",
    "                    'type': 'paragraph',\n",
    "                    # 'value': '<h2>Hello World!<h2>',\n",
    "                    'value': legacy[\"content\"]\n",
    "                }\n",
    "            ],\n",
    "        }\n",
    "    ]\n",
    "    post.body = json.dumps(raw_body)\n",
    "    return post"
   ]
  },
  {
   "cell_type": "code",
   "execution_count": 8,
   "id": "78771733-cb57-4de6-8064-7e681e7ffaf2",
   "metadata": {},
   "outputs": [],
   "source": [
    "blog = Blog.objects.first()"
   ]
  },
  {
   "cell_type": "code",
   "execution_count": 11,
   "id": "1f431750-de6a-4be2-bc4d-f7a168561c98",
   "metadata": {},
   "outputs": [],
   "source": [
    "post = build_post_from_legacy(legacy)"
   ]
  },
  {
   "cell_type": "code",
   "execution_count": 21,
   "id": "32c3e89a-fb3d-46ba-972a-664c67073974",
   "metadata": {},
   "outputs": [],
   "source": [
    "raw_data = [\n",
    "    {\n",
    "        'type': 'overview',\n",
    "        'value': [{\n",
    "                'type': 'paragraph',\n",
    "                'value': '<h2 data-block-key=\"asdf\">Hello World!<h2>',\n",
    "                'id': str(uuid4())\n",
    "            }\n",
    "        ],\n",
    "        'id': str(uuid4())\n",
    "    }\n",
    "]\n",
    "raw_data = [\n",
    "    {\n",
    "        'type': 'overview',\n",
    "        'value': [{\n",
    "                'type': 'paragraph',\n",
    "                'value': '<h2>Hello World!<h2>',\n",
    "            }\n",
    "        ],\n",
    "    }\n",
    "]\n",
    "\n",
    "# post.body.raw_data = raw_data\n",
    "post.body = json.dumps(raw_data)"
   ]
  },
  {
   "cell_type": "code",
   "execution_count": 18,
   "id": "3ffcb694-87df-418b-8c00-0d633a72a6ef",
   "metadata": {},
   "outputs": [],
   "source": [
    "post.save()"
   ]
  },
  {
   "cell_type": "code",
   "execution_count": 12,
   "id": "c52491a1-73bf-4e93-ab90-c4e30a996eab",
   "metadata": {},
   "outputs": [],
   "source": [
    "post = blog.add_child(instance=post)"
   ]
  },
  {
   "cell_type": "code",
   "execution_count": 14,
   "id": "66cd8c6d-8cf4-4e16-a550-3a2b956090e7",
   "metadata": {},
   "outputs": [
    {
     "data": {
      "text/plain": [
       "datetime.datetime(2022, 11, 7, 0, 0, tzinfo=datetime.timezone.utc)"
      ]
     },
     "execution_count": 14,
     "metadata": {},
     "output_type": "execute_result"
    }
   ],
   "source": [
    "post.visible_date"
   ]
  },
  {
   "cell_type": "code",
   "execution_count": 15,
   "id": "fd762082-c2ec-4fb0-acff-18f7390125f1",
   "metadata": {},
   "outputs": [
    {
     "data": {
      "text/plain": [
       "[{'type': 'overview',\n",
       "  'value': [{'type': 'paragraph',\n",
       "    'value': '<h2 data-block-key=\"asdf\">Hello World!<h2>',\n",
       "    'id': '083243f7-d231-46d8-83d3-7919016e809f'}],\n",
       "  'id': '0c2b8194-b6bc-4450-8d30-5755477198f0'}]"
      ]
     },
     "execution_count": 15,
     "metadata": {},
     "output_type": "execute_result"
    }
   ],
   "source": [
    "post.body.raw_data"
   ]
  },
  {
   "cell_type": "code",
   "execution_count": 25,
   "id": "d2563aeb-8fc8-4ba1-a2ba-b1dceabd84f3",
   "metadata": {},
   "outputs": [],
   "source": [
    "post.delete()"
   ]
  },
  {
   "cell_type": "markdown",
   "id": "49325a68-984f-4c82-9e7a-d753dd80cc22",
   "metadata": {},
   "source": [
    "# Parse Content"
   ]
  },
  {
   "cell_type": "code",
   "execution_count": 52,
   "id": "89dfa94c-6335-405b-9b76-36439ddfe761",
   "metadata": {},
   "outputs": [
    {
     "name": "stdout",
     "output_type": "stream",
     "text": [
      "Requirement already satisfied: beautifulsoup4 in /Users/jochen/.virtualenvs/homepage/lib/python3.11/site-packages (4.11.1)\n",
      "Requirement already satisfied: soupsieve>1.2 in /Users/jochen/.virtualenvs/homepage/lib/python3.11/site-packages (from beautifulsoup4) (2.3.2.post1)\n",
      "Note: you may need to restart the kernel to use updated packages.\n"
     ]
    }
   ],
   "source": [
    "%pip install beautifulsoup4"
   ]
  },
  {
   "cell_type": "code",
   "execution_count": 60,
   "id": "ee195606-085e-4df8-b4c5-bd7bcc75c368",
   "metadata": {},
   "outputs": [],
   "source": [
    "from bs4 import BeautifulSoup\n",
    "from uuid import uuid4"
   ]
  },
  {
   "cell_type": "code",
   "execution_count": 62,
   "id": "ac71f1f1-0910-4ae4-9d28-18bbbe9ef355",
   "metadata": {},
   "outputs": [
    {
     "data": {
      "text/plain": [
       "'b7f2e134-fde9-4a9f-8c70-8eb2936db93d'"
      ]
     },
     "execution_count": 62,
     "metadata": {},
     "output_type": "execute_result"
    }
   ],
   "source": [
    "str(uuid4())"
   ]
  },
  {
   "cell_type": "code",
   "execution_count": 54,
   "id": "b3d2c7c2-0b49-491a-bff6-95427a61f1ff",
   "metadata": {},
   "outputs": [],
   "source": [
    "soup = BeautifulSoup(legacy[\"content\"], \"html.parser\")"
   ]
  },
  {
   "cell_type": "code",
   "execution_count": 59,
   "id": "a808f194-6f23-4b0c-9bea-acc55bb82f4b",
   "metadata": {},
   "outputs": [],
   "source": [
    "# print(soup.prettify())"
   ]
  },
  {
   "cell_type": "code",
   "execution_count": 71,
   "id": "b794f0ba-e650-44a4-816f-f70f31fafc0d",
   "metadata": {},
   "outputs": [],
   "source": [
    "raw_data = [\n",
    "    {\n",
    "        'type': 'overview',\n",
    "        'value': [{\n",
    "                'type': 'paragraph',\n",
    "                'value': '<h2 data-block-key=\"asdf\">Hello World!<h2>',\n",
    "                'id': str(uuid4())\n",
    "            }\n",
    "        ],\n",
    "        'id': str(uuid4())\n",
    "    }\n",
    "]"
   ]
  },
  {
   "cell_type": "code",
   "execution_count": 72,
   "id": "d2137649-fdbc-4f41-9b8f-f52b3fb8e99c",
   "metadata": {},
   "outputs": [
    {
     "data": {
      "text/html": [
       "<pre style=\"white-space:pre;overflow-x:auto;line-height:normal;font-family:Menlo,'DejaVu Sans Mono',consolas,'Courier New',monospace\"><span style=\"font-weight: bold\">[</span>\n",
       "    <span style=\"font-weight: bold\">{</span>\n",
       "        <span style=\"color: #008000; text-decoration-color: #008000\">'type'</span>: <span style=\"color: #008000; text-decoration-color: #008000\">'overview'</span>,\n",
       "        <span style=\"color: #008000; text-decoration-color: #008000\">'value'</span>: <span style=\"font-weight: bold\">[</span>\n",
       "            <span style=\"font-weight: bold\">{</span>\n",
       "                <span style=\"color: #008000; text-decoration-color: #008000\">'type'</span>: <span style=\"color: #008000; text-decoration-color: #008000\">'paragraph'</span>,\n",
       "                <span style=\"color: #008000; text-decoration-color: #008000\">'value'</span>: <span style=\"color: #008000; text-decoration-color: #008000\">'&lt;h2 data-block-key=\"asdf\"&gt;Hello World!&lt;h2&gt;'</span>,\n",
       "                <span style=\"color: #008000; text-decoration-color: #008000\">'id'</span>: <span style=\"color: #008000; text-decoration-color: #008000\">'782d7d05-6d2c-4dbf-b566-4f26f24845bc'</span>\n",
       "            <span style=\"font-weight: bold\">}</span>\n",
       "        <span style=\"font-weight: bold\">]</span>,\n",
       "        <span style=\"color: #008000; text-decoration-color: #008000\">'id'</span>: <span style=\"color: #008000; text-decoration-color: #008000\">'7597a8b3-d2d2-4951-85a9-7ccc408c8b8e'</span>\n",
       "    <span style=\"font-weight: bold\">}</span>\n",
       "<span style=\"font-weight: bold\">]</span>\n",
       "</pre>\n"
      ],
      "text/plain": [
       "\u001b[1m[\u001b[0m\n",
       "    \u001b[1m{\u001b[0m\n",
       "        \u001b[32m'type'\u001b[0m: \u001b[32m'overview'\u001b[0m,\n",
       "        \u001b[32m'value'\u001b[0m: \u001b[1m[\u001b[0m\n",
       "            \u001b[1m{\u001b[0m\n",
       "                \u001b[32m'type'\u001b[0m: \u001b[32m'paragraph'\u001b[0m,\n",
       "                \u001b[32m'value'\u001b[0m: \u001b[32m'\u001b[0m\u001b[32m<\u001b[0m\u001b[32mh2\u001b[0m\u001b[32m data-block-\u001b[0m\u001b[32mkey\u001b[0m\u001b[32m=\u001b[0m\u001b[32m\"asdf\"\u001b[0m\u001b[32m>\u001b[0m\u001b[32mHello World!\u001b[0m\u001b[32m<\u001b[0m\u001b[32mh2\u001b[0m\u001b[32m>\u001b[0m\u001b[32m'\u001b[0m,\n",
       "                \u001b[32m'id'\u001b[0m: \u001b[32m'782d7d05-6d2c-4dbf-b566-4f26f24845bc'\u001b[0m\n",
       "            \u001b[1m}\u001b[0m\n",
       "        \u001b[1m]\u001b[0m,\n",
       "        \u001b[32m'id'\u001b[0m: \u001b[32m'7597a8b3-d2d2-4951-85a9-7ccc408c8b8e'\u001b[0m\n",
       "    \u001b[1m}\u001b[0m\n",
       "\u001b[1m]\u001b[0m\n"
      ]
     },
     "metadata": {},
     "output_type": "display_data"
    }
   ],
   "source": [
    "print(raw_data)"
   ]
  },
  {
   "cell_type": "code",
   "execution_count": 65,
   "id": "ed234646-452b-4c5f-a49d-044fd33f03d0",
   "metadata": {},
   "outputs": [
    {
     "data": {
      "text/plain": [
       "<Post: First Post>"
      ]
     },
     "execution_count": 65,
     "metadata": {},
     "output_type": "execute_result"
    }
   ],
   "source": [
    "post"
   ]
  },
  {
   "cell_type": "code",
   "execution_count": null,
   "id": "b0b188e1-750e-4022-825a-c5b8f109435e",
   "metadata": {},
   "outputs": [],
   "source": []
  }
 ],
 "metadata": {
  "kernelspec": {
   "display_name": "Django Kernel",
   "language": "python",
   "name": "django_extensions"
  },
  "language_info": {
   "codemirror_mode": {
    "name": "ipython",
    "version": 3
   },
   "file_extension": ".py",
   "mimetype": "text/x-python",
   "name": "python",
   "nbconvert_exporter": "python",
   "pygments_lexer": "ipython3",
   "version": "3.11.0"
  }
 },
 "nbformat": 4,
 "nbformat_minor": 5
}
