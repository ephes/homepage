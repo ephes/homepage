{
 "cells": [
  {
   "cell_type": "code",
   "execution_count": 1,
   "id": "ce62e121-65fc-422e-afe5-4d3728c4beb1",
   "metadata": {
    "tags": []
   },
   "outputs": [],
   "source": [
    "from django.db import models\n",
    "from cast.filters import PostFilterset"
   ]
  },
  {
   "cell_type": "code",
   "execution_count": 2,
   "id": "761e1a24-f6ac-4856-8fcf-1a738c38d6b3",
   "metadata": {
    "tags": []
   },
   "outputs": [
    {
     "data": {
      "text/plain": [
       "<QuerySet [<PostTag: Weeknotes 2023-07-17 tagged with claas>, <PostTag: Weeknotes 2023-07-17 tagged with foobar>]>"
      ]
     },
     "execution_count": 2,
     "metadata": {},
     "output_type": "execute_result"
    }
   ],
   "source": [
    "PostTag.objects.all()"
   ]
  },
  {
   "cell_type": "code",
   "execution_count": 2,
   "id": "678d94b8-86ca-4015-acd0-2e07715d2762",
   "metadata": {
    "tags": []
   },
   "outputs": [],
   "source": [
    "tag = PostTag.objects.first()"
   ]
  },
  {
   "cell_type": "code",
   "execution_count": 7,
   "id": "29d6b6ea-2f83-48fc-892e-9f682b3aae80",
   "metadata": {
    "tags": []
   },
   "outputs": [
    {
     "ename": "AttributeError",
     "evalue": "Manager isn't accessible via PostTag instances",
     "output_type": "error",
     "traceback": [
      "\u001b[0;31m---------------------------------------------------------------------------\u001b[0m",
      "\u001b[0;31mAttributeError\u001b[0m                            Traceback (most recent call last)",
      "Cell \u001b[0;32mIn[7], line 1\u001b[0m\n\u001b[0;32m----> 1\u001b[0m \u001b[43mtag\u001b[49m\u001b[38;5;241;43m.\u001b[39;49m\u001b[43mobjects\u001b[49m\u001b[38;5;241m.\u001b[39mall()\n",
      "File \u001b[0;32m~/.virtualenvs/homepage/lib/python3.11/site-packages/django/db/models/manager.py:186\u001b[0m, in \u001b[0;36mManagerDescriptor.__get__\u001b[0;34m(self, instance, cls)\u001b[0m\n\u001b[1;32m    184\u001b[0m \u001b[38;5;28;01mdef\u001b[39;00m \u001b[38;5;21m__get__\u001b[39m(\u001b[38;5;28mself\u001b[39m, instance, \u001b[38;5;28mcls\u001b[39m\u001b[38;5;241m=\u001b[39m\u001b[38;5;28;01mNone\u001b[39;00m):\n\u001b[1;32m    185\u001b[0m     \u001b[38;5;28;01mif\u001b[39;00m instance \u001b[38;5;129;01mis\u001b[39;00m \u001b[38;5;129;01mnot\u001b[39;00m \u001b[38;5;28;01mNone\u001b[39;00m:\n\u001b[0;32m--> 186\u001b[0m         \u001b[38;5;28;01mraise\u001b[39;00m \u001b[38;5;167;01mAttributeError\u001b[39;00m(\n\u001b[1;32m    187\u001b[0m             \u001b[38;5;124m\"\u001b[39m\u001b[38;5;124mManager isn\u001b[39m\u001b[38;5;124m'\u001b[39m\u001b[38;5;124mt accessible via \u001b[39m\u001b[38;5;132;01m%s\u001b[39;00m\u001b[38;5;124m instances\u001b[39m\u001b[38;5;124m\"\u001b[39m \u001b[38;5;241m%\u001b[39m \u001b[38;5;28mcls\u001b[39m\u001b[38;5;241m.\u001b[39m\u001b[38;5;18m__name__\u001b[39m\n\u001b[1;32m    188\u001b[0m         )\n\u001b[1;32m    190\u001b[0m     \u001b[38;5;28;01mif\u001b[39;00m \u001b[38;5;28mcls\u001b[39m\u001b[38;5;241m.\u001b[39m_meta\u001b[38;5;241m.\u001b[39mabstract:\n\u001b[1;32m    191\u001b[0m         \u001b[38;5;28;01mraise\u001b[39;00m \u001b[38;5;167;01mAttributeError\u001b[39;00m(\n\u001b[1;32m    192\u001b[0m             \u001b[38;5;124m\"\u001b[39m\u001b[38;5;124mManager isn\u001b[39m\u001b[38;5;124m'\u001b[39m\u001b[38;5;124mt available; \u001b[39m\u001b[38;5;132;01m%s\u001b[39;00m\u001b[38;5;124m is abstract\u001b[39m\u001b[38;5;124m\"\u001b[39m \u001b[38;5;241m%\u001b[39m (\u001b[38;5;28mcls\u001b[39m\u001b[38;5;241m.\u001b[39m_meta\u001b[38;5;241m.\u001b[39mobject_name,)\n\u001b[1;32m    193\u001b[0m         )\n",
      "\u001b[0;31mAttributeError\u001b[0m: Manager isn't accessible via PostTag instances"
     ]
    }
   ],
   "source": [
    "tag.objects.all()"
   ]
  },
  {
   "cell_type": "code",
   "execution_count": 5,
   "id": "fa1cc5a6-05d1-4bb9-9414-da600f13c981",
   "metadata": {
    "tags": []
   },
   "outputs": [],
   "source": [
    "blog = Blog.objects.last()"
   ]
  },
  {
   "cell_type": "code",
   "execution_count": 6,
   "id": "5f26588c-1163-4090-b502-c9597b1bee0e",
   "metadata": {
    "tags": []
   },
   "outputs": [
    {
     "data": {
      "text/plain": [
       "<PageQuerySet [<Post: Weeknotes 2023-07-17>]>"
      ]
     },
     "execution_count": 6,
     "metadata": {},
     "output_type": "execute_result"
    }
   ],
   "source": [
    "blog.unfiltered_published_posts.filter(tags__name=\"foobar\")"
   ]
  },
  {
   "cell_type": "code",
   "execution_count": 13,
   "id": "75e9d84c-0741-4dc6-bae2-65bab1ea903f",
   "metadata": {
    "tags": []
   },
   "outputs": [
    {
     "data": {
      "text/plain": [
       "<QuerySet [<Tag: claas>, <Tag: Nora>, <Tag: mastodon>, <Tag: screenshot>, <Tag: flechte>, <Tag: natur>, <Tag: baum>, <Tag: schwarz>, <Tag: katze>, <Tag: flugzeug>, <Tag: DUS>, <Tag: roller>, <Tag: badewanne>, <Tag: klettern>, <Tag: treppe>, <Tag: sipgate>, <Tag: spigate>, <Tag: nora>, <Tag: portrait>, <Tag: blume>, '...(remaining elements truncated)...']>"
      ]
     },
     "execution_count": 13,
     "metadata": {},
     "output_type": "execute_result"
    }
   ],
   "source": [
    "Tag.objects.all()"
   ]
  },
  {
   "cell_type": "code",
   "execution_count": 16,
   "id": "d4833198-5fc1-46ef-b5cb-4b530bd9ce78",
   "metadata": {
    "tags": []
   },
   "outputs": [],
   "source": [
    "tag = PostTag.objects.first()"
   ]
  },
  {
   "cell_type": "code",
   "execution_count": 30,
   "id": "f7e25cc6-5d53-4736-9ad0-429bdd7287e3",
   "metadata": {
    "tags": []
   },
   "outputs": [
    {
     "data": {
      "text/plain": [
       "<Tag: foobar>"
      ]
     },
     "execution_count": 30,
     "metadata": {},
     "output_type": "execute_result"
    }
   ],
   "source": [
    "tag.tag"
   ]
  },
  {
   "cell_type": "code",
   "execution_count": 21,
   "id": "f69a04be-46b9-4caf-ada9-65203a37076f",
   "metadata": {
    "tags": []
   },
   "outputs": [
    {
     "data": {
      "text/plain": [
       "<PageQuerySet []>"
      ]
     },
     "execution_count": 21,
     "metadata": {},
     "output_type": "execute_result"
    }
   ],
   "source": [
    "blog.unfiltered_published_posts.filter(tags__name__in=[\"foobar\"])"
   ]
  },
  {
   "cell_type": "code",
   "execution_count": 22,
   "id": "c371e59c-635b-4857-8ef7-903499f71f71",
   "metadata": {
    "tags": []
   },
   "outputs": [
    {
     "data": {
      "text/plain": [
       "<PageQuerySet []>"
      ]
     },
     "execution_count": 22,
     "metadata": {},
     "output_type": "execute_result"
    }
   ],
   "source": [
    "blog.unfiltered_published_posts.filter(tags__name=\"foobar\")"
   ]
  },
  {
   "cell_type": "code",
   "execution_count": 23,
   "id": "30f70782-2ac4-4a75-8a12-2650f4d270e3",
   "metadata": {
    "tags": []
   },
   "outputs": [],
   "source": [
    "post = Post.objects.get(pk=392)"
   ]
  },
  {
   "cell_type": "code",
   "execution_count": 32,
   "id": "d4b5fa7c-ab05-4abd-b5d9-58afc23f5c76",
   "metadata": {
    "tags": []
   },
   "outputs": [],
   "source": [
    "tag = post.tags.first()"
   ]
  },
  {
   "cell_type": "code",
   "execution_count": 34,
   "id": "906302fe-ebac-454e-855c-226e47438539",
   "metadata": {
    "tags": []
   },
   "outputs": [
    {
     "data": {
      "text/plain": [
       "<PageQuerySet []>"
      ]
     },
     "execution_count": 34,
     "metadata": {},
     "output_type": "execute_result"
    }
   ],
   "source": [
    "blog.unfiltered_published_posts.filter(tags__in=[tag])"
   ]
  },
  {
   "cell_type": "code",
   "execution_count": 33,
   "id": "b116c6cb-dbeb-4b2c-94b5-34c875395099",
   "metadata": {
    "tags": []
   },
   "outputs": [
    {
     "data": {
      "text/plain": [
       "<Tag: claas>"
      ]
     },
     "execution_count": 33,
     "metadata": {},
     "output_type": "execute_result"
    }
   ],
   "source": [
    "tag"
   ]
  },
  {
   "cell_type": "code",
   "execution_count": 35,
   "id": "13c2b3cc-5de8-444d-9824-4fae7cb01fe9",
   "metadata": {
    "tags": []
   },
   "outputs": [
    {
     "data": {
      "text/plain": [
       "<PageQuerySet [<Post: Weeknotes 2023-07-17>]>"
      ]
     },
     "execution_count": 35,
     "metadata": {},
     "output_type": "execute_result"
    }
   ],
   "source": [
    "Post.objects.filter(tags__in=[tag])"
   ]
  },
  {
   "cell_type": "code",
   "execution_count": 39,
   "id": "d841f494-f86a-42c0-a39c-e15f064cd6d3",
   "metadata": {
    "tags": []
   },
   "outputs": [
    {
     "data": {
      "text/plain": [
       "<PageQuerySet [<Post: Weeknotes 2023-07-17>]>"
      ]
     },
     "execution_count": 39,
     "metadata": {},
     "output_type": "execute_result"
    }
   ],
   "source": [
    "Post.objects.filter(tags__name=\"foobar\")"
   ]
  },
  {
   "cell_type": "code",
   "execution_count": 40,
   "id": "aeceb51e-adcb-4033-b211-694994c9ba42",
   "metadata": {
    "tags": []
   },
   "outputs": [
    {
     "data": {
      "text/plain": [
       "<PageQuerySet []>"
      ]
     },
     "execution_count": 40,
     "metadata": {},
     "output_type": "execute_result"
    }
   ],
   "source": [
    "blog.unfiltered_published_posts.filter(tags__name=\"foobar\")"
   ]
  },
  {
   "cell_type": "code",
   "execution_count": 37,
   "id": "153c31e3-9c78-4901-92e1-284ecd40afc2",
   "metadata": {
    "tags": []
   },
   "outputs": [
    {
     "data": {
      "text/plain": [
       "<PageQuerySet [<Post: Zu ersten Mal etwas Möhrenbrei>, <Post: Zu Besuch bei den Grosseltern>, <Post: Tapas mit Heike und Chrissie>, <Post: Martin und Marcus kommen zu Besuch>, <Post: Kaffeetrinken in der Spoerl-Fabrik>, <Post: In alten Möbeln>, <Post: Die U5 ist überstanden>, <Post: Spieldecke>, <Post: Schnullerversuch>, <Post: Ein Wochenende in Abentheuer>, <Post: Sofagebrabbel>, <Post: Claas zieht sich zum ersten Mal am Sofa hoch>, <Post: Zum ersten Mal Draussen>, <Post: Kinderwagen ist ok>, <Post: Erste Stehversuche>, <Post: Kurzbesuch bei Uroma Thea>, <Post: Zu Besuch in Meersen bei Onkel Jo>, <Post: Weihnachten 2017>, <Post: Mit Katharina bei Sulis>, <Post: Claas hält sich zum ersten Mal alleine am Tisch fest>, '...(remaining elements truncated)...']>"
      ]
     },
     "execution_count": 37,
     "metadata": {},
     "output_type": "execute_result"
    }
   ],
   "source": [
    "Post.objects.all()"
   ]
  },
  {
   "cell_type": "code",
   "execution_count": 42,
   "id": "6a355960-905c-4aba-9244-1e4723547781",
   "metadata": {
    "tags": []
   },
   "outputs": [
    {
     "data": {
      "text/plain": [
       "<PageQuerySet [<Post: Weeknotes 2023-07-17>]>"
      ]
     },
     "execution_count": 42,
     "metadata": {},
     "output_type": "execute_result"
    }
   ],
   "source": [
    "Post.objects.live().filter(tags__name=\"foobar\")"
   ]
  },
  {
   "cell_type": "code",
   "execution_count": 43,
   "id": "86eb1135-c148-476d-b511-b250d145fee4",
   "metadata": {
    "tags": []
   },
   "outputs": [
    {
     "data": {
      "text/plain": [
       "<Blog: Claas und Nora sagen Hallo>"
      ]
     },
     "execution_count": 43,
     "metadata": {},
     "output_type": "execute_result"
    }
   ],
   "source": [
    "blog"
   ]
  },
  {
   "cell_type": "code",
   "execution_count": 44,
   "id": "e7ec0159-bc88-4ba9-af89-85c4e3e8789c",
   "metadata": {
    "tags": []
   },
   "outputs": [
    {
     "data": {
      "text/plain": [
       "<QuerySet [<PostTag: Weeknotes 2023-07-17 tagged with claas>, <PostTag: Weeknotes 2023-07-17 tagged with foobar>]>"
      ]
     },
     "execution_count": 44,
     "metadata": {},
     "output_type": "execute_result"
    }
   ],
   "source": [
    "PostTag.objects.all()"
   ]
  },
  {
   "cell_type": "code",
   "execution_count": 46,
   "id": "fe040e29-01d2-4904-b317-d41f0fa9063a",
   "metadata": {
    "tags": []
   },
   "outputs": [],
   "source": [
    "tag = PostTag.objects.first()"
   ]
  },
  {
   "cell_type": "code",
   "execution_count": 49,
   "id": "e408c193-a493-4c1a-9823-0db1f02dad86",
   "metadata": {
    "tags": []
   },
   "outputs": [
    {
     "ename": "AttributeError",
     "evalue": "'PostTag' object has no attribute 'tagged_items'",
     "output_type": "error",
     "traceback": [
      "\u001b[0;31m---------------------------------------------------------------------------\u001b[0m",
      "\u001b[0;31mAttributeError\u001b[0m                            Traceback (most recent call last)",
      "Cell \u001b[0;32mIn[49], line 1\u001b[0m\n\u001b[0;32m----> 1\u001b[0m \u001b[43mtag\u001b[49m\u001b[38;5;241;43m.\u001b[39;49m\u001b[43mtagged_items\u001b[49m()\n",
      "\u001b[0;31mAttributeError\u001b[0m: 'PostTag' object has no attribute 'tagged_items'"
     ]
    }
   ],
   "source": [
    "tag.tagged_items()"
   ]
  },
  {
   "cell_type": "code",
   "execution_count": null,
   "id": "cf231ae1-ecce-49cf-b7ea-5c48316fa378",
   "metadata": {},
   "outputs": [],
   "source": []
  },
  {
   "cell_type": "code",
   "execution_count": 9,
   "id": "18218446-92dc-433c-a998-a6e9386de9d6",
   "metadata": {
    "tags": []
   },
   "outputs": [],
   "source": [
    "tag_count_queryset = PostTag.objects.annotate(\n",
    "    num_posts=models.Count(\n",
    "        \"content_object\",\n",
    "        filter=models.Q(content_object__in=blog.unfiltered_published_posts)\n",
    "    )\n",
    ")"
   ]
  },
  {
   "cell_type": "code",
   "execution_count": 10,
   "id": "690b9052-b30b-4b83-8789-f678d5b34e66",
   "metadata": {
    "tags": []
   },
   "outputs": [
    {
     "data": {
      "text/plain": [
       "<QuerySet [<PostTag: Weeknotes 2023-07-17 tagged with claas>, <PostTag: Weeknotes 2023-07-17 tagged with foobar>]>"
      ]
     },
     "execution_count": 10,
     "metadata": {},
     "output_type": "execute_result"
    }
   ],
   "source": [
    "tag_count_queryset"
   ]
  },
  {
   "cell_type": "code",
   "execution_count": 12,
   "id": "ff8d2bda-ed0d-41c9-816b-9c0d8deaa6dd",
   "metadata": {
    "tags": []
   },
   "outputs": [],
   "source": [
    "tag_counts = {}\n",
    "for tag in tag_count_queryset:\n",
    "    tag_counts[tag.tag.name] = tag.num_posts  # type: ignore"
   ]
  },
  {
   "cell_type": "code",
   "execution_count": 13,
   "id": "8e09ff59-ce3c-44c8-9e04-89f8304d2032",
   "metadata": {
    "tags": []
   },
   "outputs": [
    {
     "data": {
      "text/plain": [
       "{'claas': 1, 'foobar': 1}"
      ]
     },
     "execution_count": 13,
     "metadata": {},
     "output_type": "execute_result"
    }
   ],
   "source": [
    "tag_counts"
   ]
  },
  {
   "cell_type": "code",
   "execution_count": 14,
   "id": "662dba69-263f-4e1d-835c-dca3a881f768",
   "metadata": {
    "tags": []
   },
   "outputs": [
    {
     "data": {
      "text/plain": [
       "{'claas', 'foobar'}"
      ]
     },
     "execution_count": 14,
     "metadata": {},
     "output_type": "execute_result"
    }
   ],
   "source": [
    "set(PostTag.objects.values_list(\"tag__name\", flat=True))"
   ]
  },
  {
   "cell_type": "code",
   "execution_count": 6,
   "id": "a89098b1-1986-40be-973f-1430edfc768f",
   "metadata": {
    "tags": []
   },
   "outputs": [],
   "source": [
    "post_tag = PostTag.objects.first()"
   ]
  },
  {
   "cell_type": "code",
   "execution_count": 8,
   "id": "5c3ba9fe-dfa1-42d0-a021-d4dee05d916a",
   "metadata": {
    "tags": []
   },
   "outputs": [
    {
     "data": {
      "text/plain": [
       "'claas'"
      ]
     },
     "execution_count": 8,
     "metadata": {},
     "output_type": "execute_result"
    }
   ],
   "source": [
    "post_tag.tag.slug"
   ]
  },
  {
   "cell_type": "code",
   "execution_count": 3,
   "id": "8d95128a-2923-443c-adec-7f76b0c60db0",
   "metadata": {},
   "outputs": [
    {
     "data": {
      "text/plain": [
       "{'fotos', 'til', 'video', 'weeknotes'}"
      ]
     },
     "execution_count": 3,
     "metadata": {},
     "output_type": "execute_result"
    }
   ],
   "source": [
    "set(PostCategory.objects.values_list(\"slug\", flat=True))"
   ]
  },
  {
   "cell_type": "markdown",
   "id": "2e20bf4f-1863-4787-9d12-6b04b0548a2a",
   "metadata": {},
   "source": [
    "# Facet Counts are wrong (categories instead of tags)"
   ]
  },
  {
   "cell_type": "code",
   "execution_count": 1,
   "id": "dbaf6c22-840d-4143-ba75-56256164bba6",
   "metadata": {
    "tags": []
   },
   "outputs": [],
   "source": [
    "from django.db import models\n",
    "from cast.filters import PostFilterset"
   ]
  },
  {
   "cell_type": "code",
   "execution_count": 2,
   "id": "5d6d8fe8-8ed1-4187-8b0f-8525136e24bb",
   "metadata": {
    "tags": []
   },
   "outputs": [],
   "source": [
    "blog = Blog.objects.get(slug=\"ephes_blog\")\n",
    "queryset = blog.unfiltered_published_posts"
   ]
  },
  {
   "cell_type": "code",
   "execution_count": 3,
   "id": "9ec4d20a-f8df-40e6-a232-c1cd9434933d",
   "metadata": {
    "tags": []
   },
   "outputs": [
    {
     "name": "stdout",
     "output_type": "stream",
     "text": [
      "filterset cleaned_data:  {'search': '', 'date': None, 'category_facets': '', 'date_facets': '', 'o': None}\n",
      "filterset filters:  OrderedDict([('search', <django_filters.filters.CharFilter object at 0x10d519b50>), ('date', <django_filters.filters.DateFromToRangeFilter object at 0x10d515690>), ('category_facets', <cast.filters.CategoryFacetFilter object at 0x10d5143d0>), ('date_facets', <cast.filters.DateFacetFilter object at 0x10d541590>), ('o', <django_filters.filters.OrderingFilter object at 0x10d0061d0>)])\n",
      "category facet filter called with:  \n",
      "show tag facet:  False\n"
     ]
    }
   ],
   "source": [
    "filterset = PostFilterset({}, queryset, fetch_facet_counts=True)"
   ]
  },
  {
   "cell_type": "code",
   "execution_count": 4,
   "id": "af51b477-0b9a-4d42-b4d3-5b5179b8922e",
   "metadata": {
    "tags": []
   },
   "outputs": [
    {
     "data": {
      "text/plain": [
       "{'claas': 1, 'foobar': 1}"
      ]
     },
     "execution_count": 4,
     "metadata": {},
     "output_type": "execute_result"
    }
   ],
   "source": [
    "filterset.facet_counts[\"tags\"]"
   ]
  },
  {
   "cell_type": "code",
   "execution_count": 5,
   "id": "9e9bdc14-f410-4cbb-809d-b5595536ae03",
   "metadata": {
    "tags": []
   },
   "outputs": [
    {
     "name": "stdout",
     "output_type": "stream",
     "text": [
      "tag choices:  [('claas', 'claas (1)'), ('foobar', 'foobar (1)')]\n"
     ]
    }
   ],
   "source": [
    "tags_field = filterset.form.fields[\"tag_facets\"]"
   ]
  },
  {
   "cell_type": "code",
   "execution_count": 7,
   "id": "5960a46c-c95a-4915-b4c8-399ae1c839f3",
   "metadata": {
    "tags": []
   },
   "outputs": [
    {
     "data": {
      "text/plain": [
       "[('', '---------'),\n",
       " ('fotos', 'fotos (1)'),\n",
       " ('til', 'til (1)'),\n",
       " ('weeknotes', 'weeknotes (2)')]"
      ]
     },
     "execution_count": 7,
     "metadata": {},
     "output_type": "execute_result"
    }
   ],
   "source": [
    "list(tags_field.choices)"
   ]
  },
  {
   "cell_type": "code",
   "execution_count": 17,
   "id": "ffad287a-2802-41d2-86a2-b37758035225",
   "metadata": {
    "tags": []
   },
   "outputs": [],
   "source": [
    "categories_field = filterset.form.fields[\"category_facets\"]"
   ]
  },
  {
   "cell_type": "code",
   "execution_count": 18,
   "id": "427aa968-8654-4522-9a91-6ee709e4eff9",
   "metadata": {
    "tags": []
   },
   "outputs": [
    {
     "data": {
      "text/plain": [
       "[('', '---------'),\n",
       " ('fotos', 'fotos (1)'),\n",
       " ('til', 'til (1)'),\n",
       " ('weeknotes', 'weeknotes (2)')]"
      ]
     },
     "execution_count": 18,
     "metadata": {},
     "output_type": "execute_result"
    }
   ],
   "source": [
    "list(categories_field.choices)"
   ]
  },
  {
   "cell_type": "code",
   "execution_count": 5,
   "id": "15812a18-8d0a-41ce-a4c4-05cf5201c32c",
   "metadata": {},
   "outputs": [
    {
     "data": {
      "text/plain": [
       "['FILTER_DEFAULTS',\n",
       " 'Meta',\n",
       " '__class__',\n",
       " '__delattr__',\n",
       " '__dict__',\n",
       " '__dir__',\n",
       " '__doc__',\n",
       " '__eq__',\n",
       " '__format__',\n",
       " '__ge__',\n",
       " '__getattribute__',\n",
       " '__getstate__',\n",
       " '__gt__',\n",
       " '__hash__',\n",
       " '__init__',\n",
       " '__init_subclass__',\n",
       " '__le__',\n",
       " '__lt__',\n",
       " '__module__',\n",
       " '__ne__',\n",
       " '__new__',\n",
       " '__reduce__',\n",
       " '__reduce_ex__',\n",
       " '__repr__',\n",
       " '__setattr__',\n",
       " '__sizeof__',\n",
       " '__str__',\n",
       " '__subclasshook__',\n",
       " '__weakref__',\n",
       " '_csv_filter_class_name',\n",
       " '_meta',\n",
       " 'base_filters',\n",
       " 'data',\n",
       " 'declared_filters',\n",
       " 'errors',\n",
       " 'facet_counts',\n",
       " 'filter_for_field',\n",
       " 'filter_for_lookup',\n",
       " 'filter_queryset',\n",
       " 'filters',\n",
       " 'form',\n",
       " 'form_prefix',\n",
       " 'fulltext_search',\n",
       " 'get_fields',\n",
       " 'get_filter_name',\n",
       " 'get_filters',\n",
       " 'get_form_class',\n",
       " 'is_bound',\n",
       " 'is_valid',\n",
       " 'qs',\n",
       " 'queryset',\n",
       " 'request']"
      ]
     },
     "execution_count": 5,
     "metadata": {},
     "output_type": "execute_result"
    }
   ],
   "source": [
    "dir(filterset)"
   ]
  },
  {
   "cell_type": "code",
   "execution_count": 6,
   "id": "a64e2309-7900-4930-901c-919d478a6ee8",
   "metadata": {
    "tags": []
   },
   "outputs": [
    {
     "data": {
      "text/plain": [
       "['search', 'date', 'date_facets', 'category_facets', 'tag_facets']"
      ]
     },
     "execution_count": 6,
     "metadata": {},
     "output_type": "execute_result"
    }
   ],
   "source": [
    "filterset._meta.fields"
   ]
  },
  {
   "cell_type": "code",
   "execution_count": 7,
   "id": "87c00a8f-da41-4486-93fe-0141ec4b58ab",
   "metadata": {
    "tags": []
   },
   "outputs": [
    {
     "data": {
      "text/plain": [
       "OrderedDict([('search', <django_filters.filters.CharFilter at 0x10d0213d0>),\n",
       "             ('date',\n",
       "              <django_filters.filters.DateFromToRangeFilter at 0x10c0cf050>),\n",
       "             ('category_facets',\n",
       "              <cast.filters.CategoryFacetFilter at 0x10d50f750>),\n",
       "             ('date_facets', <cast.filters.DateFacetFilter at 0x10d51ff10>),\n",
       "             ('o', <django_filters.filters.OrderingFilter at 0x10d517090>)])"
      ]
     },
     "execution_count": 7,
     "metadata": {},
     "output_type": "execute_result"
    }
   ],
   "source": [
    "filterset.filters"
   ]
  },
  {
   "cell_type": "code",
   "execution_count": 8,
   "id": "da0b95ff-bbb8-46fc-82b0-dc244e8b445f",
   "metadata": {},
   "outputs": [
    {
     "ename": "NameError",
     "evalue": "name 'PageQuerySet' is not defined",
     "output_type": "error",
     "traceback": [
      "\u001b[0;31m---------------------------------------------------------------------------\u001b[0m",
      "\u001b[0;31mNameError\u001b[0m                                 Traceback (most recent call last)",
      "Cell \u001b[0;32mIn[8], line 1\u001b[0m\n\u001b[0;32m----> 1\u001b[0m \u001b[43mPageQuerySet\u001b[49m\n",
      "\u001b[0;31mNameError\u001b[0m: name 'PageQuerySet' is not defined"
     ]
    }
   ],
   "source": [
    "PageQuerySet"
   ]
  },
  {
   "cell_type": "code",
   "execution_count": null,
   "id": "302c6a1f-9d8b-4aae-9722-c4f9142d0ec8",
   "metadata": {},
   "outputs": [],
   "source": []
  }
 ],
 "metadata": {
  "kernelspec": {
   "display_name": "Django Kernel",
   "language": "python",
   "name": "django_extensions"
  },
  "language_info": {
   "codemirror_mode": {
    "name": "ipython",
    "version": 3
   },
   "file_extension": ".py",
   "mimetype": "text/x-python",
   "name": "python",
   "nbconvert_exporter": "python",
   "pygments_lexer": "ipython3",
   "version": "3.11.4"
  }
 },
 "nbformat": 4,
 "nbformat_minor": 5
}
