{
 "cells": [
  {
   "cell_type": "code",
   "execution_count": 6,
   "id": "b3e5f87f-84b7-421c-8ab9-5a0f619406c2",
   "metadata": {
    "tags": []
   },
   "outputs": [],
   "source": [
    "from django.core.paginator import Paginator\n",
    "from django.test.client import RequestFactory\n",
    "\n",
    "from cast import appsettings"
   ]
  },
  {
   "cell_type": "code",
   "execution_count": 7,
   "id": "68a4ae08-9422-458e-ae42-116c8fdcd859",
   "metadata": {
    "tags": []
   },
   "outputs": [],
   "source": [
    "request_factory = RequestFactory()\n",
    "blog_slug = \"das_claas_und_nora_blog\"\n",
    "blog = Blog.objects.get(slug=blog_slug)\n",
    "request = request_factory.get(blog.get_url())"
   ]
  },
  {
   "cell_type": "code",
   "execution_count": 8,
   "id": "185c43a1-4684-49c6-9357-9b6188aca36d",
   "metadata": {
    "tags": []
   },
   "outputs": [
    {
     "name": "stdout",
     "output_type": "stream",
     "text": [
      "CPU times: user 30.2 ms, sys: 5.64 ms, total: 35.9 ms\n",
      "Wall time: 43.4 ms\n"
     ]
    }
   ],
   "source": [
    "%%time\n",
    "get_params = request.GET.copy()\n",
    "filterset = blog.get_filterset(get_params)\n",
    "queryset = blog.get_published_posts(filterset.qs)\n",
    "context = blog.paginate_queryset({}, queryset, get_params)"
   ]
  },
  {
   "cell_type": "code",
   "execution_count": 9,
   "id": "f65b4d78-05f2-441b-a363-ba6f137fb905",
   "metadata": {
    "tags": []
   },
   "outputs": [
    {
     "name": "stdout",
     "output_type": "stream",
     "text": [
      "pagination context: \n",
      "paginator: <django.core.paginator.Paginator object at 0x133296390>\n",
      "page_obj: <Page 1 of 64>\n",
      "is_paginated: True\n",
      "object_list: 5\n",
      "renditions_for_posts: 36\n",
      "page_range: <generator object Paginator.get_elided_page_range at 0x1339e9030>\n"
     ]
    }
   ],
   "source": [
    "print(\"pagination context: \")\n",
    "for k, v in context.items():\n",
    "    if k == \"object_list\" or k == \"renditions_for_posts\":\n",
    "        print(f\"{k}: {len(v)}\")\n",
    "    else:\n",
    "        print(f\"{k}: {v}\")"
   ]
  },
  {
   "cell_type": "code",
   "execution_count": 10,
   "id": "27399ef5-2e8c-4234-945b-55926f50bdc2",
   "metadata": {
    "tags": []
   },
   "outputs": [],
   "source": [
    "paginator = context[\"paginator\"]\n",
    "page_obj = context[\"page_obj\"]\n",
    "is_paginated = context[\"is_paginated\"]\n",
    "object_list = context[\"object_list\"]\n",
    "renditions_for_posts = context[\"renditions_for_posts\"]\n",
    "page_range = context[\"page_range\"]"
   ]
  },
  {
   "cell_type": "code",
   "execution_count": 13,
   "id": "125aff6c-2079-454a-9593-e168364f286e",
   "metadata": {
    "tags": []
   },
   "outputs": [
    {
     "data": {
      "text/plain": [
       "64"
      ]
     },
     "execution_count": 13,
     "metadata": {},
     "output_type": "execute_result"
    }
   ],
   "source": [
    "paginator.num_pages"
   ]
  },
  {
   "cell_type": "code",
   "execution_count": 15,
   "id": "8deaa0c0-ee3a-4b80-b915-b6e4e2ed0627",
   "metadata": {
    "tags": []
   },
   "outputs": [
    {
     "data": {
      "text/plain": [
       "True"
      ]
     },
     "execution_count": 15,
     "metadata": {},
     "output_type": "execute_result"
    }
   ],
   "source": [
    "is_paginated"
   ]
  },
  {
   "cell_type": "code",
   "execution_count": 34,
   "id": "aab23f49-3153-43ef-b7a5-b3a739a97a34",
   "metadata": {
    "tags": []
   },
   "outputs": [],
   "source": [
    "class ObjectList:\n",
    "    ordered = True\n",
    "    \n",
    "    def __init__(self, list_len):\n",
    "        self.list_len = list_len\n",
    "        \n",
    "    def __len__(self):\n",
    "        return self.list_len"
   ]
  },
  {
   "cell_type": "code",
   "execution_count": 35,
   "id": "f035d29f-7909-4560-bd9f-68f9a0d9ef49",
   "metadata": {
    "tags": []
   },
   "outputs": [],
   "source": [
    "pagi = Paginator(ObjectList(23), appsettings.POST_LIST_PAGINATION)"
   ]
  },
  {
   "cell_type": "code",
   "execution_count": 36,
   "id": "ae3daa8c-30e4-47c0-b59c-bc9827c7c4d2",
   "metadata": {
    "tags": []
   },
   "outputs": [
    {
     "data": {
      "text/plain": [
       "<__main__.ObjectList at 0x12906bfe0>"
      ]
     },
     "execution_count": 36,
     "metadata": {},
     "output_type": "execute_result"
    }
   ],
   "source": [
    "pagi.object_list"
   ]
  },
  {
   "cell_type": "code",
   "execution_count": 37,
   "id": "34a848e6-c866-494c-bf44-b2acf280d48e",
   "metadata": {
    "tags": []
   },
   "outputs": [
    {
     "data": {
      "text/plain": [
       "5"
      ]
     },
     "execution_count": 37,
     "metadata": {},
     "output_type": "execute_result"
    }
   ],
   "source": [
    "pagi.num_pages"
   ]
  },
  {
   "cell_type": "code",
   "execution_count": 14,
   "id": "2af36cc9-97d5-4c70-891c-155ea378260a",
   "metadata": {},
   "outputs": [
    {
     "data": {
      "text/plain": [
       "5"
      ]
     },
     "execution_count": 14,
     "metadata": {},
     "output_type": "execute_result"
    }
   ],
   "source": [
    "appsettings.POST_LIST_PAGINATION"
   ]
  },
  {
   "cell_type": "code",
   "execution_count": 16,
   "id": "687dc1a9-cdc1-4f63-ad6f-0cff9052d1b2",
   "metadata": {
    "tags": []
   },
   "outputs": [],
   "source": [
    "page = paginator.get_page(2)"
   ]
  },
  {
   "cell_type": "code",
   "execution_count": 17,
   "id": "5daca00a-6df6-4c0f-9cfa-3f98702e2845",
   "metadata": {
    "tags": []
   },
   "outputs": [
    {
     "data": {
      "text/plain": [
       "<Page 2 of 64>"
      ]
     },
     "execution_count": 17,
     "metadata": {},
     "output_type": "execute_result"
    }
   ],
   "source": [
    "page"
   ]
  },
  {
   "cell_type": "code",
   "execution_count": 18,
   "id": "849d5526-98a2-4050-a147-4d4a66be07f3",
   "metadata": {
    "tags": []
   },
   "outputs": [
    {
     "data": {
      "text/plain": [
       "2"
      ]
     },
     "execution_count": 18,
     "metadata": {},
     "output_type": "execute_result"
    }
   ],
   "source": [
    "page.number"
   ]
  },
  {
   "cell_type": "code",
   "execution_count": 19,
   "id": "aff6adae-53af-4951-9efa-9394840dd819",
   "metadata": {
    "tags": []
   },
   "outputs": [
    {
     "data": {
      "text/plain": [
       "True"
      ]
     },
     "execution_count": 19,
     "metadata": {},
     "output_type": "execute_result"
    }
   ],
   "source": [
    "page.has_next()"
   ]
  },
  {
   "cell_type": "code",
   "execution_count": 20,
   "id": "f0078d59-798c-4a85-9747-f608848ca2ac",
   "metadata": {
    "tags": []
   },
   "outputs": [
    {
     "data": {
      "text/plain": [
       "True"
      ]
     },
     "execution_count": 20,
     "metadata": {},
     "output_type": "execute_result"
    }
   ],
   "source": [
    "page.has_other_pages()"
   ]
  },
  {
   "cell_type": "code",
   "execution_count": 21,
   "id": "da6e27df-3dd5-4b95-9e4d-d13a915e1dd2",
   "metadata": {
    "tags": []
   },
   "outputs": [
    {
     "data": {
      "text/plain": [
       "[1, 2, 3, 4, '…', 64]"
      ]
     },
     "execution_count": 21,
     "metadata": {},
     "output_type": "execute_result"
    }
   ],
   "source": [
    "list(page.paginator.get_elided_page_range(page.number, on_each_side=2, on_ends=1))"
   ]
  },
  {
   "cell_type": "code",
   "execution_count": 22,
   "id": "32be372c-c558-4dc0-98b0-8a3a59d4c90e",
   "metadata": {
    "tags": []
   },
   "outputs": [
    {
     "data": {
      "text/plain": [
       "'…'"
      ]
     },
     "execution_count": 22,
     "metadata": {},
     "output_type": "execute_result"
    }
   ],
   "source": [
    "paginator.ELLIPSIS"
   ]
  },
  {
   "cell_type": "code",
   "execution_count": 33,
   "id": "090abf60-5fd7-40a9-ac1a-a7cf123a43ec",
   "metadata": {
    "tags": []
   },
   "outputs": [
    {
     "data": {
      "text/plain": [
       "False"
      ]
     },
     "execution_count": 33,
     "metadata": {},
     "output_type": "execute_result"
    }
   ],
   "source": [
    "\"...\" == str(paginator.ELLIPSIS)"
   ]
  },
  {
   "cell_type": "code",
   "execution_count": 31,
   "id": "fcbe6689-4906-4794-bade-f48f8ef4c118",
   "metadata": {
    "tags": []
   },
   "outputs": [
    {
     "data": {
      "text/plain": [
       "django.utils.functional.lazy.<locals>.__proxy__"
      ]
     },
     "execution_count": 31,
     "metadata": {},
     "output_type": "execute_result"
    }
   ],
   "source": [
    "type(paginator.ELLIPSIS)"
   ]
  },
  {
   "cell_type": "code",
   "execution_count": 32,
   "id": "e71c35f3-afaf-4597-8d18-bada0a1addb7",
   "metadata": {
    "tags": []
   },
   "outputs": [
    {
     "data": {
      "text/plain": [
       "'…'"
      ]
     },
     "execution_count": 32,
     "metadata": {},
     "output_type": "execute_result"
    }
   ],
   "source": [
    "str(paginator.ELLIPSIS)"
   ]
  },
  {
   "cell_type": "code",
   "execution_count": 34,
   "id": "81f5342b-5e04-4ed4-8cc1-a524bff78df7",
   "metadata": {
    "tags": []
   },
   "outputs": [
    {
     "data": {
      "text/plain": [
       "True"
      ]
     },
     "execution_count": 34,
     "metadata": {},
     "output_type": "execute_result"
    }
   ],
   "source": [
    "'…' == str(paginator.ELLIPSIS)"
   ]
  },
  {
   "cell_type": "code",
   "execution_count": 35,
   "id": "5d31bca2-ad5c-46d9-b1b6-ce55156ac9f3",
   "metadata": {
    "tags": []
   },
   "outputs": [
    {
     "data": {
      "text/plain": [
       "'…'"
      ]
     },
     "execution_count": 35,
     "metadata": {},
     "output_type": "execute_result"
    }
   ],
   "source": [
    "Paginator.ELLIPSIS"
   ]
  },
  {
   "cell_type": "code",
   "execution_count": null,
   "id": "cd7b67c1-5fe6-4e26-b206-bd58cbb5b855",
   "metadata": {},
   "outputs": [],
   "source": []
  }
 ],
 "metadata": {
  "kernelspec": {
   "display_name": "Django Kernel",
   "language": "python",
   "name": "django_extensions"
  },
  "language_info": {
   "codemirror_mode": {
    "name": "ipython",
    "version": 3
   },
   "file_extension": ".py",
   "mimetype": "text/x-python",
   "name": "python",
   "nbconvert_exporter": "python",
   "pygments_lexer": "ipython3",
   "version": "3.12.2"
  }
 },
 "nbformat": 4,
 "nbformat_minor": 5
}
