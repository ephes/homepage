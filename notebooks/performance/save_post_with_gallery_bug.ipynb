{
 "cells": [
  {
   "cell_type": "code",
   "execution_count": 1,
   "id": "1506c7e5-12d3-448d-b062-80aae01fac04",
   "metadata": {
    "tags": []
   },
   "outputs": [],
   "source": [
    "from uuid import uuid4"
   ]
  },
  {
   "cell_type": "code",
   "execution_count": 2,
   "id": "c3ecb3e6-0e19-4d78-af49-7fda5e19c428",
   "metadata": {
    "tags": []
   },
   "outputs": [],
   "source": [
    "from modelcluster.models import ClusterableModel, get_all_child_relations"
   ]
  },
  {
   "cell_type": "code",
   "execution_count": 3,
   "id": "b35e531e-7af0-47c3-851f-810d8c35ec6f",
   "metadata": {
    "tags": []
   },
   "outputs": [],
   "source": [
    "post = Post.objects.get(pk=533)"
   ]
  },
  {
   "cell_type": "code",
   "execution_count": 4,
   "id": "43b12c57-6e50-44ed-8f41-1d43b9adbce4",
   "metadata": {
    "tags": []
   },
   "outputs": [],
   "source": [
    "body = post.body.raw_data"
   ]
  },
  {
   "cell_type": "code",
   "execution_count": 5,
   "id": "8b51c15b-39c4-4eac-b742-c8da65f65cec",
   "metadata": {
    "tags": []
   },
   "outputs": [
    {
     "data": {
      "text/plain": [
       "[{'id': '4665bbce-8b97-42ae-ab2e-04ee6f9f38ea', 'type': 'item', 'value': 2501},\n",
       " {'id': '35a2664e-c799-4374-807e-d921a7c9c31b', 'type': 'item', 'value': 2500},\n",
       " {'id': '1782b042-fe98-4937-b0e0-1b3bc72b428c', 'type': 'item', 'value': 2499},\n",
       " {'id': '57dff242-25be-4575-9544-7063e714bf53', 'type': 'item', 'value': 2498},\n",
       " {'id': '7466e1c0-1a87-4b88-a31e-6be01f32297d', 'type': 'item', 'value': 2497}]"
      ]
     },
     "execution_count": 5,
     "metadata": {},
     "output_type": "execute_result"
    }
   ],
   "source": [
    "body[0][\"value\"][2][\"value\"][\"gallery\"]"
   ]
  },
  {
   "cell_type": "code",
   "execution_count": 6,
   "id": "6d4706ca-7619-40cb-a195-4e18d2638512",
   "metadata": {
    "tags": []
   },
   "outputs": [],
   "source": [
    "#post.save()"
   ]
  },
  {
   "cell_type": "code",
   "execution_count": 7,
   "id": "951ffcae-e6d3-496a-b35c-cc0df052ed68",
   "metadata": {},
   "outputs": [],
   "source": [
    "#ReferenceIndex.create_or_update_for_object(post)"
   ]
  },
  {
   "cell_type": "code",
   "execution_count": 8,
   "id": "45856f17-d036-4372-8b2a-1cb7d71e5ab0",
   "metadata": {
    "tags": []
   },
   "outputs": [],
   "source": [
    "references = list(ReferenceIndex._extract_references_from_object(post))"
   ]
  },
  {
   "cell_type": "code",
   "execution_count": 9,
   "id": "e5f79d4f-d2cd-407a-8609-3b6b0c6ab057",
   "metadata": {
    "tags": []
   },
   "outputs": [
    {
     "data": {
      "text/plain": [
       "[(65,\n",
       "  '193',\n",
       "  'body.overview.video',\n",
       "  'body.96178f8f-80b4-41ce-9c60-a490a9e94a50.f170f3ee-0b52-4baf-8806-1d70d9b2aa4d'),\n",
       " (57, '127', 'tagged_items.item.tag', 'tagged_items.587.tag')]"
      ]
     },
     "execution_count": 9,
     "metadata": {},
     "output_type": "execute_result"
    }
   ],
   "source": [
    "references"
   ]
  },
  {
   "cell_type": "code",
   "execution_count": 10,
   "id": "f1480b8b-98da-4f2c-b586-1c013976b708",
   "metadata": {
    "tags": []
   },
   "outputs": [
    {
     "name": "stdout",
     "output_type": "stream",
     "text": [
      "65 193\n",
      "57 127\n"
     ]
    }
   ],
   "source": [
    "for to_content_type_id, to_object_id, model_path, content_path in references:\n",
    "    print(to_content_type_id, to_object_id)"
   ]
  },
  {
   "cell_type": "code",
   "execution_count": 11,
   "id": "db549a63-417d-47b5-b774-b33de1d95332",
   "metadata": {
    "tags": []
   },
   "outputs": [],
   "source": [
    "def extract_references_from_object_full(object):\n",
    "    for field in object._meta.get_fields():\n",
    "        if field.is_relation and field.many_to_one:\n",
    "            if getattr(field, \"wagtail_reference_index_ignore\", False):\n",
    "                continue\n",
    "\n",
    "            if getattr(\n",
    "                field.related_model, \"wagtail_reference_index_ignore\", False\n",
    "            ):\n",
    "                continue\n",
    "\n",
    "            if isinstance(field, (ParentalKey, GenericRel)):\n",
    "                continue\n",
    "\n",
    "            if isinstance(field, GenericForeignKey):\n",
    "                ct_field = object._meta.get_field(field.ct_field)\n",
    "                fk_field = object._meta.get_field(field.fk_field)\n",
    "                ct_value = ct_field.value_from_object(object)\n",
    "                fk_value = fk_field.value_from_object(object)\n",
    "\n",
    "                if ct_value is not None and fk_value is not None:\n",
    "                    # The content type ID referenced by the GenericForeignKey might be a subclassed\n",
    "                    # model, but the reference index requires us to index it under the base model's\n",
    "                    # content type, as that's what will be used for lookups. So, we need to convert\n",
    "                    # the content type back to a model class so that _get_base_content_type can\n",
    "                    # select the appropriate superclass if necessary, before converting back to a\n",
    "                    # content type.\n",
    "                    model = ContentType.objects.get_for_id(ct_value).model_class()\n",
    "                    yield (\n",
    "                        ReferenceIndex._get_base_content_type(model).id,\n",
    "                        str(fk_value),\n",
    "                        field.name,\n",
    "                        field.name,\n",
    "                    )\n",
    "\n",
    "                continue\n",
    "\n",
    "            if isinstance(field, GenericRel):\n",
    "                continue\n",
    "\n",
    "            value = field.value_from_object(object)\n",
    "            if value is not None:\n",
    "                yield (\n",
    "                    ReferenceIndex._get_base_content_type(field.related_model).id,\n",
    "                    str(value),\n",
    "                    field.name,\n",
    "                    field.name,\n",
    "                )\n",
    "\n",
    "        if hasattr(field, \"extract_references\"):\n",
    "            value = field.value_from_object(object)\n",
    "            if value is not None:\n",
    "                yield from (\n",
    "                    (\n",
    "                        ReferenceIndex._get_base_content_type(to_model).id,\n",
    "                        to_object_id,\n",
    "                        f\"{field.name}.{model_path}\",\n",
    "                        f\"{field.name}.{content_path}\",\n",
    "                    )\n",
    "                    for to_model, to_object_id, model_path, content_path in field.extract_references(\n",
    "                        value\n",
    "                    )\n",
    "                )\n",
    "\n",
    "    # Extract references from child relations\n",
    "    if isinstance(object, ClusterableModel):\n",
    "        for child_relation in get_all_child_relations(object):\n",
    "            relation_name = child_relation.get_accessor_name()\n",
    "            child_objects = getattr(object, relation_name).all()\n",
    "\n",
    "            for child_object in child_objects:\n",
    "                yield from (\n",
    "                    (\n",
    "                        to_content_type_id,\n",
    "                        to_object_id,\n",
    "                        f\"{relation_name}.item.{model_path}\",\n",
    "                        f\"{relation_name}.{str(child_object.id)}.{content_path}\",\n",
    "                    )\n",
    "                    for to_content_type_id, to_object_id, model_path, content_path in ReferenceIndex._extract_references_from_object(\n",
    "                        child_object\n",
    "                    )\n",
    "                )\n",
    "\n",
    "\n",
    "def extract_references_from_object(object):\n",
    "    for field in object._meta.get_fields():\n",
    "        if field.is_relation and field.many_to_one:\n",
    "            if getattr(field, \"wagtail_reference_index_ignore\", False):\n",
    "                continue\n",
    "\n",
    "            if getattr(\n",
    "                field.related_model, \"wagtail_reference_index_ignore\", False\n",
    "            ):\n",
    "                continue\n",
    "\n",
    "            if isinstance(field, (ParentalKey, GenericRel)):\n",
    "                continue\n",
    "\n",
    "            if isinstance(field, GenericForeignKey):\n",
    "                ct_field = object._meta.get_field(field.ct_field)\n",
    "                fk_field = object._meta.get_field(field.fk_field)\n",
    "                ct_value = ct_field.value_from_object(object)\n",
    "                fk_value = fk_field.value_from_object(object)\n",
    "\n",
    "                if ct_value is not None and fk_value is not None:\n",
    "                    # The content type ID referenced by the GenericForeignKey might be a subclassed\n",
    "                    # model, but the reference index requires us to index it under the base model's\n",
    "                    # content type, as that's what will be used for lookups. So, we need to convert\n",
    "                    # the content type back to a model class so that _get_base_content_type can\n",
    "                    # select the appropriate superclass if necessary, before converting back to a\n",
    "                    # content type.\n",
    "                    model = ContentType.objects.get_for_id(ct_value).model_class()\n",
    "                    yield (\n",
    "                        ReferenceIndex._get_base_content_type(model).id,\n",
    "                        str(fk_value),\n",
    "                        field.name,\n",
    "                        field.name,\n",
    "                    )\n",
    "\n",
    "                continue\n",
    "\n",
    "            if isinstance(field, GenericRel):\n",
    "                continue\n",
    "\n",
    "            value = field.value_from_object(object)\n",
    "            if value is not None:\n",
    "                yield (\n",
    "                    ReferenceIndex._get_base_content_type(field.related_model).id,\n",
    "                    str(value),\n",
    "                    field.name,\n",
    "                    field.name,\n",
    "                )\n",
    "\n",
    "        if hasattr(field, \"extract_references\"):\n",
    "            print(\"has extract references!\")\n",
    "            print(\"field: \", field)\n",
    "            value = field.value_from_object(object)\n",
    "            if value is not None:\n",
    "                print(\"value: \", repr(value))\n",
    "                yield from (\n",
    "                    (\n",
    "                        ReferenceIndex._get_base_content_type(to_model).id,\n",
    "                        to_object_id,\n",
    "                        f\"{field.name}.{model_path}\",\n",
    "                        f\"{field.name}.{content_path}\",\n",
    "                    )\n",
    "                    for to_model, to_object_id, model_path, content_path in field.extract_references(\n",
    "                        value\n",
    "                    )\n",
    "                )"
   ]
  },
  {
   "cell_type": "code",
   "execution_count": 12,
   "id": "cafdddf0-0e55-44eb-88a0-29137a875019",
   "metadata": {
    "tags": []
   },
   "outputs": [
    {
     "name": "stdout",
     "output_type": "stream",
     "text": [
      "has extract references!\n",
      "field:  cast.Post.body\n",
      "value:  <StreamValue [<block overview: <StreamValue [<block paragraph: <wagtail.rich_text.RichText object at 0x12b3f9a60>>, <block video: 193>, <block gallery: {'layout': 'default', 'gallery': [{'id': '4665bbce-8b97-42ae-ab2e-04ee6f9f38ea', 'type': 'item', 'value': 2501}, {'id': '35a2664e-c799-4374-807e-d921a7c9c31b', 'type': 'item', 'value': 2500}, {'id': '1782b042-fe98-4937-b0e0-1b3bc72b428c', 'type': 'item', 'value': 2499}, {'id': '57dff242-25be-4575-9544-7063e714bf53', 'type': 'item', 'value': 2498}, {'id': '7466e1c0-1a87-4b88-a31e-6be01f32297d', 'type': 'item', 'value': 2497}]}>]>>]>\n",
      "(65, '193', 'body.overview.video', 'body.96178f8f-80b4-41ce-9c60-a490a9e94a50.f170f3ee-0b52-4baf-8806-1d70d9b2aa4d')\n"
     ]
    }
   ],
   "source": [
    "for reference in extract_references_from_object(post):\n",
    "    print(reference)"
   ]
  },
  {
   "cell_type": "code",
   "execution_count": 14,
   "id": "2bb7e324-7a19-469e-bdf3-94414ff4eeae",
   "metadata": {
    "tags": []
   },
   "outputs": [
    {
     "ename": "AttributeError",
     "evalue": "'StreamValue' object has no attribute 'extract_references'",
     "output_type": "error",
     "traceback": [
      "\u001b[0;31m---------------------------------------------------------------------------\u001b[0m",
      "\u001b[0;31mAttributeError\u001b[0m                            Traceback (most recent call last)",
      "Cell \u001b[0;32mIn[14], line 1\u001b[0m\n\u001b[0;32m----> 1\u001b[0m \u001b[43mpost\u001b[49m\u001b[38;5;241;43m.\u001b[39;49m\u001b[43mbody\u001b[49m\u001b[38;5;241;43m.\u001b[39;49m\u001b[43mextract_references\u001b[49m(post\u001b[38;5;241m.\u001b[39mbody)\n",
      "\u001b[0;31mAttributeError\u001b[0m: 'StreamValue' object has no attribute 'extract_references'"
     ]
    }
   ],
   "source": [
    "post.body.extract_references(post.body)"
   ]
  },
  {
   "cell_type": "code",
   "execution_count": null,
   "id": "1b626029-7e13-4d40-847f-bf9668e9f022",
   "metadata": {},
   "outputs": [],
   "source": []
  }
 ],
 "metadata": {
  "kernelspec": {
   "display_name": "Django Kernel",
   "language": "python",
   "name": "django_extensions"
  },
  "language_info": {
   "codemirror_mode": {
    "name": "ipython",
    "version": 3
   },
   "file_extension": ".py",
   "mimetype": "text/x-python",
   "name": "python",
   "nbconvert_exporter": "python",
   "pygments_lexer": "ipython3",
   "version": "3.12.3"
  }
 },
 "nbformat": 4,
 "nbformat_minor": 5
}
