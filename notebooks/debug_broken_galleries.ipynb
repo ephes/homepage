{
 "cells": [
  {
   "cell_type": "code",
   "execution_count": 1,
   "id": "d89feae6-ff89-476a-93ee-10c9fb5621c9",
   "metadata": {
    "tags": []
   },
   "outputs": [],
   "source": [
    "from rich import print as rprint"
   ]
  },
  {
   "cell_type": "code",
   "execution_count": 2,
   "id": "5e639dab-157b-4615-b510-39ed28cf4c93",
   "metadata": {
    "tags": []
   },
   "outputs": [],
   "source": [
    "def show_url(post):\n",
    "    blog_slug = post.blog.slug\n",
    "    print(f\"https://wersdoerfer.de/blogs/{blog_slug}/{post.slug}/\")\n",
    "    print(f\"https://wersdoerfer.de/cms/pages/{post.pk}/edit/\")\n",
    "\n",
    "\n",
    "def has_gallery_block_without_id(post):\n",
    "    data = post.body.raw_data\n",
    "    for toplevel in data:\n",
    "        for block in toplevel[\"value\"]:\n",
    "            if block[\"type\"] == \"gallery\":\n",
    "                id_in_block = \"id\" in block\n",
    "                if not id_in_block:\n",
    "                    show_url(post)\n",
    "                    # print(post.pk, post.slug)"
   ]
  },
  {
   "cell_type": "code",
   "execution_count": 3,
   "id": "7d576376-0755-4154-b609-b61f0d2fd062",
   "metadata": {
    "tags": []
   },
   "outputs": [],
   "source": [
    "for post in Post.objects.all():\n",
    "    has_gallery_block_without_id(post)"
   ]
  },
  {
   "cell_type": "code",
   "execution_count": 3,
   "id": "e86b19ef-e7a3-4900-ba90-36d573867c65",
   "metadata": {
    "tags": []
   },
   "outputs": [],
   "source": [
    "post = Post.objects.get(slug=\"On-my-way-to-pycon\")"
   ]
  },
  {
   "cell_type": "code",
   "execution_count": null,
   "id": "8116cfab-d804-4883-9d12-3a3afb30ae12",
   "metadata": {},
   "outputs": [],
   "source": []
  },
  {
   "cell_type": "code",
   "execution_count": 4,
   "id": "ffd6b51b-404d-4dc0-babb-f2e8e719e50a",
   "metadata": {
    "tags": []
   },
   "outputs": [
    {
     "data": {
      "text/html": [
       "<pre style=\"white-space:pre;overflow-x:auto;line-height:normal;font-family:Menlo,'DejaVu Sans Mono',consolas,'Courier New',monospace\"><span style=\"font-weight: bold\">[{</span><span style=\"color: #008000; text-decoration-color: #008000\">'id'</span>: <span style=\"color: #008000; text-decoration-color: #008000\">'16cda24c-78d6-4db7-8604-26129d901f84'</span>, <span style=\"color: #008000; text-decoration-color: #008000\">'type'</span>: <span style=\"color: #008000; text-decoration-color: #008000\">'overview'</span>, <span style=\"color: #008000; text-decoration-color: #008000\">'value'</span>: <span style=\"font-weight: bold\">[{</span><span style=\"color: #008000; text-decoration-color: #008000\">'type'</span>: <span style=\"color: #008000; text-decoration-color: #008000\">'paragraph'</span>, <span style=\"color: #008000; text-decoration-color: #008000\">'value'</span>: \n",
       "<span style=\"color: #008000; text-decoration-color: #008000\">'Decided to join this years&amp;nbsp;&lt;a href=\"https://de.pycon.org\"&gt;pycon/pydata&lt;/a&gt;&amp;nbsp;conference in Karlsruhe. </span>\n",
       "<span style=\"color: #008000; text-decoration-color: #008000\">Since this was my home town for a long time, I&amp;#39;m looking forward to meet &amp;nbsp;friends and family. The </span>\n",
       "<span style=\"color: #008000; text-decoration-color: #008000\">conference schedule is filled with data science talks, so it should be quite interessting for me :).&lt;br /&gt;\\r\\n&lt;br </span>\n",
       "<span style=\"color: #008000; text-decoration-color: #008000\">/&gt;\\r\\nThe train is quite empty, so maybe I&amp;#39;ll be able to work on some blog stuff til Karlsruhe:&lt;br /&gt;\\r\\n'</span><span style=\"font-weight: bold\">}</span>, \n",
       "<span style=\"font-weight: bold\">{</span><span style=\"color: #008000; text-decoration-color: #008000\">'type'</span>: <span style=\"color: #008000; text-decoration-color: #008000\">'gallery'</span>, <span style=\"color: #008000; text-decoration-color: #008000\">'value'</span>: <span style=\"font-weight: bold\">{</span><span style=\"color: #008000; text-decoration-color: #008000\">'layout'</span>: <span style=\"color: #008000; text-decoration-color: #008000\">'default'</span>, <span style=\"color: #008000; text-decoration-color: #008000\">'gallery'</span>: <span style=\"font-weight: bold\">[{</span><span style=\"color: #008000; text-decoration-color: #008000\">'id'</span>: <span style=\"color: #008000; text-decoration-color: #008000\">'adf9930c-a1de-4955-9fac-87a35619b691'</span>, \n",
       "<span style=\"color: #008000; text-decoration-color: #008000\">'type'</span>: <span style=\"color: #008000; text-decoration-color: #008000\">'item'</span>, <span style=\"color: #008000; text-decoration-color: #008000\">'value'</span>: <span style=\"color: #008080; text-decoration-color: #008080; font-weight: bold\">27</span><span style=\"font-weight: bold\">}</span>, <span style=\"font-weight: bold\">{</span><span style=\"color: #008000; text-decoration-color: #008000\">'id'</span>: <span style=\"color: #008000; text-decoration-color: #008000\">'cc6cd19b-08c6-4156-94fe-5e3c42d84b6a'</span>, <span style=\"color: #008000; text-decoration-color: #008000\">'type'</span>: <span style=\"color: #008000; text-decoration-color: #008000\">'item'</span>, <span style=\"color: #008000; text-decoration-color: #008000\">'value'</span>: <span style=\"color: #008080; text-decoration-color: #008080; font-weight: bold\">28</span><span style=\"font-weight: bold\">}</span>, <span style=\"font-weight: bold\">{</span><span style=\"color: #008000; text-decoration-color: #008000\">'id'</span>: \n",
       "<span style=\"color: #008000; text-decoration-color: #008000\">'12ee3cae-0944-4143-834e-b27ee332004f'</span>, <span style=\"color: #008000; text-decoration-color: #008000\">'type'</span>: <span style=\"color: #008000; text-decoration-color: #008000\">'item'</span>, <span style=\"color: #008000; text-decoration-color: #008000\">'value'</span>: <span style=\"color: #008080; text-decoration-color: #008080; font-weight: bold\">29</span><span style=\"font-weight: bold\">}]}}]}]</span>\n",
       "</pre>\n"
      ],
      "text/plain": [
       "\u001b[1m[\u001b[0m\u001b[1m{\u001b[0m\u001b[32m'id'\u001b[0m: \u001b[32m'16cda24c-78d6-4db7-8604-26129d901f84'\u001b[0m, \u001b[32m'type'\u001b[0m: \u001b[32m'overview'\u001b[0m, \u001b[32m'value'\u001b[0m: \u001b[1m[\u001b[0m\u001b[1m{\u001b[0m\u001b[32m'type'\u001b[0m: \u001b[32m'paragraph'\u001b[0m, \u001b[32m'value'\u001b[0m: \n",
       "\u001b[32m'Decided to join this years&nbsp;\u001b[0m\u001b[32m<\u001b[0m\u001b[32ma\u001b[0m\u001b[32m \u001b[0m\u001b[32mhref\u001b[0m\u001b[32m=\u001b[0m\u001b[32m\"https\u001b[0m\u001b[32m://de.pycon.org\">pycon/pydata</a>&nbsp;conference in Karlsruhe. \u001b[0m\n",
       "\u001b[32mSince this was my home town for a long time, I&#39;m looking forward to meet &nbsp;friends and family. The \u001b[0m\n",
       "\u001b[32mconference schedule is filled with data science talks, so it should be quite interessting for me :\u001b[0m\u001b[32m)\u001b[0m\u001b[32m.<br />\\r\\n<br \u001b[0m\n",
       "\u001b[32m/>\\r\\nThe train is quite empty, so maybe I&#39;ll be able to work on some blog stuff til Karlsruhe:<br /\u001b[0m\u001b[32m>\u001b[0m\u001b[32m\\r\\n'\u001b[0m\u001b[1m}\u001b[0m, \n",
       "\u001b[1m{\u001b[0m\u001b[32m'type'\u001b[0m: \u001b[32m'gallery'\u001b[0m, \u001b[32m'value'\u001b[0m: \u001b[1m{\u001b[0m\u001b[32m'layout'\u001b[0m: \u001b[32m'default'\u001b[0m, \u001b[32m'gallery'\u001b[0m: \u001b[1m[\u001b[0m\u001b[1m{\u001b[0m\u001b[32m'id'\u001b[0m: \u001b[32m'adf9930c-a1de-4955-9fac-87a35619b691'\u001b[0m, \n",
       "\u001b[32m'type'\u001b[0m: \u001b[32m'item'\u001b[0m, \u001b[32m'value'\u001b[0m: \u001b[1;36m27\u001b[0m\u001b[1m}\u001b[0m, \u001b[1m{\u001b[0m\u001b[32m'id'\u001b[0m: \u001b[32m'cc6cd19b-08c6-4156-94fe-5e3c42d84b6a'\u001b[0m, \u001b[32m'type'\u001b[0m: \u001b[32m'item'\u001b[0m, \u001b[32m'value'\u001b[0m: \u001b[1;36m28\u001b[0m\u001b[1m}\u001b[0m, \u001b[1m{\u001b[0m\u001b[32m'id'\u001b[0m: \n",
       "\u001b[32m'12ee3cae-0944-4143-834e-b27ee332004f'\u001b[0m, \u001b[32m'type'\u001b[0m: \u001b[32m'item'\u001b[0m, \u001b[32m'value'\u001b[0m: \u001b[1;36m29\u001b[0m\u001b[1m}\u001b[0m\u001b[1m]\u001b[0m\u001b[1m}\u001b[0m\u001b[1m}\u001b[0m\u001b[1m]\u001b[0m\u001b[1m}\u001b[0m\u001b[1m]\u001b[0m\n"
      ]
     },
     "metadata": {},
     "output_type": "display_data"
    }
   ],
   "source": [
    "rprint(post.body.raw_data)"
   ]
  },
  {
   "cell_type": "code",
   "execution_count": 7,
   "id": "71a4944b-6380-45e2-9ada-992d51b1a1f7",
   "metadata": {
    "tags": []
   },
   "outputs": [],
   "source": [
    "post = Post.objects.get(slug=\"weeknotes-2024-02-12\")"
   ]
  },
  {
   "cell_type": "code",
   "execution_count": 8,
   "id": "162a3515-b34c-485e-bed7-c53659feaacd",
   "metadata": {
    "tags": []
   },
   "outputs": [
    {
     "data": {
      "text/html": [
       "<pre style=\"white-space:pre;overflow-x:auto;line-height:normal;font-family:Menlo,'DejaVu Sans Mono',consolas,'Courier New',monospace\"><span style=\"font-weight: bold\">[{</span><span style=\"color: #008000; text-decoration-color: #008000\">'id'</span>: <span style=\"color: #008000; text-decoration-color: #008000\">'5e28d627-affa-4040-9867-b4c0b68e1b77'</span>, <span style=\"color: #008000; text-decoration-color: #008000\">'type'</span>: <span style=\"color: #008000; text-decoration-color: #008000\">'overview'</span>, <span style=\"color: #008000; text-decoration-color: #008000\">'value'</span>: <span style=\"font-weight: bold\">[{</span><span style=\"color: #008000; text-decoration-color: #008000\">'id'</span>: \n",
       "<span style=\"color: #008000; text-decoration-color: #008000\">'ce195ddd-f5dc-4f08-8bba-d65912c85bca'</span>, <span style=\"color: #008000; text-decoration-color: #008000\">'type'</span>: <span style=\"color: #008000; text-decoration-color: #008000\">'paragraph'</span>, <span style=\"color: #008000; text-decoration-color: #008000\">'value'</span>: <span style=\"color: #008000; text-decoration-color: #008000\">'&lt;blockquote data-block-key=\"0d182\"&gt;IT&amp;#x27;S</span>\n",
       "<span style=\"color: #008000; text-decoration-color: #008000\">HARD TO BELIEVE I&amp;#x27;VE ALREADY BEEN ON THE FEDIVERSE FOR A YEAR. ONLY 999 TO GO UNTIL MY DISTRESS SIGNAL REACHES</span>\n",
       "<span style=\"color: #008000; text-decoration-color: #008000\">OMICRON PERSEI 8. --&lt;a href=\"https://beige.party/@LRRRonEarth/111880815919489474\"&gt;LRRR&lt;/a&gt;&lt;/blockquote&gt;&lt;hr/&gt;&lt;p </span>\n",
       "<span style=\"color: #008000; text-decoration-color: #008000\">data-block-key=\"1edq5\"&gt;&lt;/p&gt;&lt;p data-block-key=\"4pdu2\"&gt;Normal work week. Still wasn&amp;#x27;t able to do anything </span>\n",
       "<span style=\"color: #008000; text-decoration-color: #008000\">besides work.&lt;/p&gt;&lt;h2 data-block-key=\"dv375\"&gt;Articles&lt;/h2&gt;&lt;ul&gt;&lt;li data-block-key=\"bmr7\"&gt;&lt;a </span>\n",
       "<span style=\"color: #008000; text-decoration-color: #008000\">href=\"https://adamj.eu/tech/2024/02/10/django-join-community-mastodon/\"&gt;Django: Join the community on Mastodon&lt;/a&gt; </span>\n",
       "<span style=\"color: #008000; text-decoration-color: #008000\">| Just do it&lt;/li&gt;&lt;li data-block-key=\"9kb78\"&gt;&lt;a href=\"https://www.ppig.org/papers/2017-ppig-28th-basman/\"&gt;If What We</span>\n",
       "<span style=\"color: #008000; text-decoration-color: #008000\">Made Were Real&lt;/a&gt; | Hmm...&lt;/li&gt;&lt;li data-block-key=\"5kq46\"&gt;&lt;a href=\"https://www.foam.org\"&gt;foam - all about </span>\n",
       "<span style=\"color: #008000; text-decoration-color: #008000\">photography&lt;/a&gt; | cool magazine&lt;/li&gt;&lt;/ul&gt;&lt;h2 data-block-key=\"elhe3\"&gt;Software&lt;/h2&gt;&lt;ul&gt;&lt;li data-block-key=\"75i3d\"&gt;&lt;a </span>\n",
       "<span style=\"color: #008000; text-decoration-color: #008000\">href=\"https://realpython.com/python-news-january-2024/#python-3130-alpha-3-arrives\"&gt;Python 3.13.0 alpha 3 is now </span>\n",
       "<span style=\"color: #008000; text-decoration-color: #008000\">available&lt;/a&gt;&lt;/li&gt;&lt;li data-block-key=\"4l1pk\"&gt;&lt;a </span>\n",
       "<span style=\"color: #008000; text-decoration-color: #008000\">href=\"https://pyfound.blogspot.com/2024/01/announcing-deputy-developer-in.html\"&gt;Announcing the Deputy Developer in </span>\n",
       "<span style=\"color: #008000; text-decoration-color: #008000\">Residence and the Supporting Developer in Residence&lt;/a&gt; | PSF paid Python developers += 2&lt;/li&gt;&lt;li </span>\n",
       "<span style=\"color: #008000; text-decoration-color: #008000\">data-block-key=\"36gho\"&gt;&lt;a href=\"https://noumenal.es/posts/neapolitan-242-released/DkK/\"&gt;Neapolitan 24.2 </span>\n",
       "<span style=\"color: #008000; text-decoration-color: #008000\">release&lt;/a&gt;&lt;/li&gt;&lt;li data-block-key=\"86a0f\"&gt;&lt;a href=\"https://pgtune.leopard.in.ua/\"&gt;PGTune&lt;/a&gt; | Tune your postgres </span>\n",
       "<span style=\"color: #008000; text-decoration-color: #008000\">configuration parameters&lt;/li&gt;&lt;li data-block-key=\"b46qp\"&gt;&lt;a </span>\n",
       "<span style=\"color: #008000; text-decoration-color: #008000\">href=\"https://code.djangoproject.com/wiki/ContribAuthImprovements\"&gt;Django Issue - Improving contrib.auth&lt;/a&gt; </span>\n",
       "<span style=\"color: #008000; text-decoration-color: #008000\">|\\xa0Detailed discussion of the options. Context: Historically (and currently, still) the Django documentation </span>\n",
       "<span style=\"color: #008000; text-decoration-color: #008000\">recommends using a custom user model. Lately, opinions on whether this recommendation is correct are starting to </span>\n",
       "<span style=\"color: #008000; text-decoration-color: #008000\">shift.&lt;/li&gt;&lt;li data-block-key=\"etj0h\"&gt;&lt;a href=\"https://docs.wagtail.org/en/latest/releases/6.0.html\"&gt;Wagtail 6.0 </span>\n",
       "<span style=\"color: #008000; text-decoration-color: #008000\">release notes&lt;/a&gt;&lt;/li&gt;&lt;li data-block-key=\"71ha0\"&gt;&lt;a href=\"https://github.com/glyph/Fritter\"&gt;FRITTer - Frame-Rate </span>\n",
       "<span style=\"color: #008000; text-decoration-color: #008000\">IndependenT TimEr tRee&lt;/a&gt; | Really cool project!&lt;/li&gt;&lt;/ul&gt;&lt;h2 data-block-key=\"2fs71\"&gt;Weeknotes&lt;/h2&gt;&lt;ul&gt;&lt;li </span>\n",
       "<span style=\"color: #008000; text-decoration-color: #008000\">data-block-key=\"129nc\"&gt;&lt;a href=\"https://luisnatera.com/posts/2024/2/2024-02-05-review/\"&gt;Week in Review </span>\n",
       "<span style=\"color: #008000; text-decoration-color: #008000\">2024-02-05&lt;/a&gt; | Luis&lt;/li&gt;&lt;li data-block-key=\"15uj5\"&gt;&lt;a </span>\n",
       "<span style=\"color: #008000; text-decoration-color: #008000\">href=\"https://shezi.de/weeklogs/log-2024-02-04.html\"&gt;Weeklog for Week 5: January 29 to February 04&lt;/a&gt; | </span>\n",
       "<span style=\"color: #008000; text-decoration-color: #008000\">Johannes&lt;/li&gt;&lt;li data-block-key=\"6ijoe\"&gt;&lt;a href=\"https://simonwillison.net/2024/Feb/9/weeknotes/\"&gt;Weeknotes: a </span>\n",
       "<span style=\"color: #008000; text-decoration-color: #008000\">Datasette release, an LLM release and a bunch of new plugins&lt;/a&gt; | Simon Willison&lt;/li&gt;&lt;/ul&gt;&lt;h2 </span>\n",
       "<span style=\"color: #008000; text-decoration-color: #008000\">data-block-key=\"7p53d\"&gt;Videos&lt;/h2&gt;&lt;ul&gt;&lt;li data-block-key=\"1mq1p\"&gt;&lt;a </span>\n",
       "<span style=\"color: #008000; text-decoration-color: #008000\">href=\"https://youtu.be/gpbpVheR3gM?si=ciOeL15rXe_tf5m_\"&gt;Postgres Performance: From Slow to Pro with Elizabeth </span>\n",
       "<span style=\"color: #008000; text-decoration-color: #008000\">Christensen&lt;/a&gt; | Great talk!&lt;/li&gt;&lt;/ul&gt;&lt;h2 data-block-key=\"7k8pi\"&gt;Lectures&lt;/h2&gt;&lt;ul&gt;&lt;li data-block-key=\"72nbq\"&gt;&lt;a </span>\n",
       "<span style=\"color: #008000; text-decoration-color: #008000\">href=\"https://www.feynmanlectures.caltech.edu\"&gt;The Feynman Lectures on Physics&lt;/a&gt; | Ah, didn&amp;#x27;t know there was</span>\n",
       "<span style=\"color: #008000; text-decoration-color: #008000\">a website!&lt;/li&gt;&lt;/ul&gt;&lt;h2 data-block-key=\"77v4p\"&gt;Podcasts&lt;/h2&gt;&lt;ul&gt;&lt;li data-block-key=\"dt4kr\"&gt;New Podcast: &lt;a </span>\n",
       "<span style=\"color: #008000; text-decoration-color: #008000\">href=\"https://pypodcats.live/\"&gt;Hidden Figures of Python&lt;/a&gt; | Welcome!&lt;/li&gt;&lt;li data-block-key=\"f0hbh\"&gt;&lt;a </span>\n",
       "<span style=\"color: #008000; text-decoration-color: #008000\">href=\"https://www.scalingpostgres.com/episodes/302-uuid-vs-bigint-battle/\"&gt;UUID vs Bigint Battle!!!&lt;/a&gt; (&lt;a </span>\n",
       "<span style=\"color: #008000; text-decoration-color: #008000\">href=\"https://www.scalingpostgres.com\"&gt;Scaling PostgreSQL&lt;/a&gt;) | Except when forced to use client generated IDs, I </span>\n",
       "<span style=\"color: #008000; text-decoration-color: #008000\">use bigint.&lt;/li&gt;&lt;/ul&gt;&lt;h2 data-block-key=\"dttt8\"&gt;Out of Context Images&lt;/h2&gt;'</span><span style=\"font-weight: bold\">}</span>, <span style=\"font-weight: bold\">{</span><span style=\"color: #008000; text-decoration-color: #008000\">'id'</span>: \n",
       "<span style=\"color: #008000; text-decoration-color: #008000\">'077c60c3-75ec-410f-9ce8-dcfedbdbf51d'</span>, <span style=\"color: #008000; text-decoration-color: #008000\">'type'</span>: <span style=\"color: #008000; text-decoration-color: #008000\">'gallery'</span>, <span style=\"color: #008000; text-decoration-color: #008000\">'value'</span>: <span style=\"font-weight: bold\">{</span><span style=\"color: #008000; text-decoration-color: #008000\">'layout'</span>: <span style=\"color: #008000; text-decoration-color: #008000\">'default'</span>, <span style=\"color: #008000; text-decoration-color: #008000\">'gallery'</span>: <span style=\"font-weight: bold\">[{</span><span style=\"color: #008000; text-decoration-color: #008000\">'id'</span>: \n",
       "<span style=\"color: #008000; text-decoration-color: #008000\">'d88feb27-ca23-4e69-ba3a-3a5a955c9ed5'</span>, <span style=\"color: #008000; text-decoration-color: #008000\">'type'</span>: <span style=\"color: #008000; text-decoration-color: #008000\">'item'</span>, <span style=\"color: #008000; text-decoration-color: #008000\">'value'</span>: <span style=\"color: #008080; text-decoration-color: #008080; font-weight: bold\">2387</span><span style=\"font-weight: bold\">}</span>, <span style=\"font-weight: bold\">{</span><span style=\"color: #008000; text-decoration-color: #008000\">'id'</span>: \n",
       "<span style=\"color: #008000; text-decoration-color: #008000\">'b4e9dc92-f0c7-4e7b-8b33-c29cf77a0f6f'</span>, <span style=\"color: #008000; text-decoration-color: #008000\">'type'</span>: <span style=\"color: #008000; text-decoration-color: #008000\">'item'</span>, <span style=\"color: #008000; text-decoration-color: #008000\">'value'</span>: <span style=\"color: #008080; text-decoration-color: #008080; font-weight: bold\">2386</span><span style=\"font-weight: bold\">}</span>, <span style=\"font-weight: bold\">{</span><span style=\"color: #008000; text-decoration-color: #008000\">'id'</span>: \n",
       "<span style=\"color: #008000; text-decoration-color: #008000\">'cfde66e6-b840-4e15-b918-c48a9e6a15c6'</span>, <span style=\"color: #008000; text-decoration-color: #008000\">'type'</span>: <span style=\"color: #008000; text-decoration-color: #008000\">'item'</span>, <span style=\"color: #008000; text-decoration-color: #008000\">'value'</span>: <span style=\"color: #008080; text-decoration-color: #008080; font-weight: bold\">2385</span><span style=\"font-weight: bold\">}</span>, <span style=\"font-weight: bold\">{</span><span style=\"color: #008000; text-decoration-color: #008000\">'id'</span>: \n",
       "<span style=\"color: #008000; text-decoration-color: #008000\">'af4efd99-e28d-4a0b-ac5e-746708b357e2'</span>, <span style=\"color: #008000; text-decoration-color: #008000\">'type'</span>: <span style=\"color: #008000; text-decoration-color: #008000\">'item'</span>, <span style=\"color: #008000; text-decoration-color: #008000\">'value'</span>: <span style=\"color: #008080; text-decoration-color: #008080; font-weight: bold\">2384</span><span style=\"font-weight: bold\">}</span>, <span style=\"font-weight: bold\">{</span><span style=\"color: #008000; text-decoration-color: #008000\">'id'</span>: \n",
       "<span style=\"color: #008000; text-decoration-color: #008000\">'7d0c7919-bc36-4927-a04e-c9f162cc6542'</span>, <span style=\"color: #008000; text-decoration-color: #008000\">'type'</span>: <span style=\"color: #008000; text-decoration-color: #008000\">'item'</span>, <span style=\"color: #008000; text-decoration-color: #008000\">'value'</span>: <span style=\"color: #008080; text-decoration-color: #008080; font-weight: bold\">2383</span><span style=\"font-weight: bold\">}</span>, <span style=\"font-weight: bold\">{</span><span style=\"color: #008000; text-decoration-color: #008000\">'id'</span>: \n",
       "<span style=\"color: #008000; text-decoration-color: #008000\">'254e9d24-a2d7-4034-a824-464a9787ec75'</span>, <span style=\"color: #008000; text-decoration-color: #008000\">'type'</span>: <span style=\"color: #008000; text-decoration-color: #008000\">'item'</span>, <span style=\"color: #008000; text-decoration-color: #008000\">'value'</span>: <span style=\"color: #008080; text-decoration-color: #008080; font-weight: bold\">2382</span><span style=\"font-weight: bold\">}</span>, <span style=\"font-weight: bold\">{</span><span style=\"color: #008000; text-decoration-color: #008000\">'id'</span>: \n",
       "<span style=\"color: #008000; text-decoration-color: #008000\">'fc9cd747-adb4-45ee-a1b0-f3749e40470d'</span>, <span style=\"color: #008000; text-decoration-color: #008000\">'type'</span>: <span style=\"color: #008000; text-decoration-color: #008000\">'item'</span>, <span style=\"color: #008000; text-decoration-color: #008000\">'value'</span>: <span style=\"color: #008080; text-decoration-color: #008080; font-weight: bold\">2381</span><span style=\"font-weight: bold\">}</span>, <span style=\"font-weight: bold\">{</span><span style=\"color: #008000; text-decoration-color: #008000\">'id'</span>: \n",
       "<span style=\"color: #008000; text-decoration-color: #008000\">'10e42bd7-b2a9-495b-b193-2a05a83939ba'</span>, <span style=\"color: #008000; text-decoration-color: #008000\">'type'</span>: <span style=\"color: #008000; text-decoration-color: #008000\">'item'</span>, <span style=\"color: #008000; text-decoration-color: #008000\">'value'</span>: <span style=\"color: #008080; text-decoration-color: #008080; font-weight: bold\">2380</span><span style=\"font-weight: bold\">}</span>, <span style=\"font-weight: bold\">{</span><span style=\"color: #008000; text-decoration-color: #008000\">'id'</span>: \n",
       "<span style=\"color: #008000; text-decoration-color: #008000\">'9901220d-a529-4067-ad09-24eadfe69c5f'</span>, <span style=\"color: #008000; text-decoration-color: #008000\">'type'</span>: <span style=\"color: #008000; text-decoration-color: #008000\">'item'</span>, <span style=\"color: #008000; text-decoration-color: #008000\">'value'</span>: <span style=\"color: #008080; text-decoration-color: #008080; font-weight: bold\">2379</span><span style=\"font-weight: bold\">}</span>, <span style=\"font-weight: bold\">{</span><span style=\"color: #008000; text-decoration-color: #008000\">'id'</span>: \n",
       "<span style=\"color: #008000; text-decoration-color: #008000\">'08884216-378e-4f32-8711-8ab837c751b9'</span>, <span style=\"color: #008000; text-decoration-color: #008000\">'type'</span>: <span style=\"color: #008000; text-decoration-color: #008000\">'item'</span>, <span style=\"color: #008000; text-decoration-color: #008000\">'value'</span>: <span style=\"color: #008080; text-decoration-color: #008080; font-weight: bold\">2378</span><span style=\"font-weight: bold\">}</span>, <span style=\"font-weight: bold\">{</span><span style=\"color: #008000; text-decoration-color: #008000\">'id'</span>: \n",
       "<span style=\"color: #008000; text-decoration-color: #008000\">'03c931d7-db23-4ffd-9a72-d6038f3a31b3'</span>, <span style=\"color: #008000; text-decoration-color: #008000\">'type'</span>: <span style=\"color: #008000; text-decoration-color: #008000\">'item'</span>, <span style=\"color: #008000; text-decoration-color: #008000\">'value'</span>: <span style=\"color: #008080; text-decoration-color: #008080; font-weight: bold\">2377</span><span style=\"font-weight: bold\">}</span>, <span style=\"font-weight: bold\">{</span><span style=\"color: #008000; text-decoration-color: #008000\">'id'</span>: \n",
       "<span style=\"color: #008000; text-decoration-color: #008000\">'752af4b7-2198-43e6-8c23-35eeb29f44f8'</span>, <span style=\"color: #008000; text-decoration-color: #008000\">'type'</span>: <span style=\"color: #008000; text-decoration-color: #008000\">'item'</span>, <span style=\"color: #008000; text-decoration-color: #008000\">'value'</span>: <span style=\"color: #008080; text-decoration-color: #008080; font-weight: bold\">2376</span><span style=\"font-weight: bold\">}</span>, <span style=\"font-weight: bold\">{</span><span style=\"color: #008000; text-decoration-color: #008000\">'id'</span>: \n",
       "<span style=\"color: #008000; text-decoration-color: #008000\">'9bef48a4-2407-4488-8499-87ad0f0ededa'</span>, <span style=\"color: #008000; text-decoration-color: #008000\">'type'</span>: <span style=\"color: #008000; text-decoration-color: #008000\">'item'</span>, <span style=\"color: #008000; text-decoration-color: #008000\">'value'</span>: <span style=\"color: #008080; text-decoration-color: #008080; font-weight: bold\">2374</span><span style=\"font-weight: bold\">}</span>, <span style=\"font-weight: bold\">{</span><span style=\"color: #008000; text-decoration-color: #008000\">'id'</span>: \n",
       "<span style=\"color: #008000; text-decoration-color: #008000\">'4328eebc-efaa-4c62-85f7-3f409e39ac4f'</span>, <span style=\"color: #008000; text-decoration-color: #008000\">'type'</span>: <span style=\"color: #008000; text-decoration-color: #008000\">'item'</span>, <span style=\"color: #008000; text-decoration-color: #008000\">'value'</span>: <span style=\"color: #008080; text-decoration-color: #008080; font-weight: bold\">2373</span><span style=\"font-weight: bold\">}</span>, <span style=\"font-weight: bold\">{</span><span style=\"color: #008000; text-decoration-color: #008000\">'id'</span>: \n",
       "<span style=\"color: #008000; text-decoration-color: #008000\">'72bc5973-6c15-4cfd-ae64-3aa7f47890d7'</span>, <span style=\"color: #008000; text-decoration-color: #008000\">'type'</span>: <span style=\"color: #008000; text-decoration-color: #008000\">'item'</span>, <span style=\"color: #008000; text-decoration-color: #008000\">'value'</span>: <span style=\"color: #008080; text-decoration-color: #008080; font-weight: bold\">2375</span><span style=\"font-weight: bold\">}]}}]}]</span>\n",
       "</pre>\n"
      ],
      "text/plain": [
       "\u001b[1m[\u001b[0m\u001b[1m{\u001b[0m\u001b[32m'id'\u001b[0m: \u001b[32m'5e28d627-affa-4040-9867-b4c0b68e1b77'\u001b[0m, \u001b[32m'type'\u001b[0m: \u001b[32m'overview'\u001b[0m, \u001b[32m'value'\u001b[0m: \u001b[1m[\u001b[0m\u001b[1m{\u001b[0m\u001b[32m'id'\u001b[0m: \n",
       "\u001b[32m'ce195ddd-f5dc-4f08-8bba-d65912c85bca'\u001b[0m, \u001b[32m'type'\u001b[0m: \u001b[32m'paragraph'\u001b[0m, \u001b[32m'value'\u001b[0m: \u001b[32m'\u001b[0m\u001b[32m<\u001b[0m\u001b[32mblockquote\u001b[0m\u001b[32m data-block-\u001b[0m\u001b[32mkey\u001b[0m\u001b[32m=\u001b[0m\u001b[32m\"0d182\"\u001b[0m\u001b[32m>IT&#x27;S\u001b[0m\n",
       "\u001b[32mHARD TO BELIEVE I&#x27;VE ALREADY BEEN ON THE FEDIVERSE FOR A YEAR. ONLY 999 TO GO UNTIL MY DISTRESS SIGNAL REACHES\u001b[0m\n",
       "\u001b[32mOMICRON PERSEI 8. --<a \u001b[0m\u001b[32mhref\u001b[0m\u001b[32m=\u001b[0m\u001b[32m\"https\u001b[0m\u001b[32m://beige.party/@LRRRonEarth/111880815919489474\">LRRR</a></blockquote><hr/><p \u001b[0m\n",
       "\u001b[32mdata-block-\u001b[0m\u001b[32mkey\u001b[0m\u001b[32m=\u001b[0m\u001b[32m\"1edq5\"\u001b[0m\u001b[32m></p><p data-block-\u001b[0m\u001b[32mkey\u001b[0m\u001b[32m=\u001b[0m\u001b[32m\"4pdu2\"\u001b[0m\u001b[32m>Normal work week. Still wasn&#x27;t able to do anything \u001b[0m\n",
       "\u001b[32mbesides work.</p><h2 data-block-\u001b[0m\u001b[32mkey\u001b[0m\u001b[32m=\u001b[0m\u001b[32m\"dv375\"\u001b[0m\u001b[32m>Articles</h2><ul><li data-block-\u001b[0m\u001b[32mkey\u001b[0m\u001b[32m=\u001b[0m\u001b[32m\"bmr7\"\u001b[0m\u001b[32m><a \u001b[0m\n",
       "\u001b[32mhref\u001b[0m\u001b[32m=\u001b[0m\u001b[32m\"https\u001b[0m\u001b[32m://adamj.eu/tech/2024/02/10/django-join-community-mastodon/\">Django: Join the community on Mastodon</a> \u001b[0m\n",
       "\u001b[32m| Just do it</li><li data-block-\u001b[0m\u001b[32mkey\u001b[0m\u001b[32m=\u001b[0m\u001b[32m\"9kb78\"\u001b[0m\u001b[32m><a \u001b[0m\u001b[32mhref\u001b[0m\u001b[32m=\u001b[0m\u001b[32m\"https\u001b[0m\u001b[32m://www.ppig.org/papers/2017-ppig-28th-basman/\">If What We\u001b[0m\n",
       "\u001b[32mMade Were Real</a> | Hmm...</li><li data-block-\u001b[0m\u001b[32mkey\u001b[0m\u001b[32m=\u001b[0m\u001b[32m\"5kq46\"\u001b[0m\u001b[32m><a \u001b[0m\u001b[32mhref\u001b[0m\u001b[32m=\u001b[0m\u001b[32m\"https\u001b[0m\u001b[32m://www.foam.org\">foam - all about \u001b[0m\n",
       "\u001b[32mphotography</a> | cool magazine</li></ul><h2 data-block-\u001b[0m\u001b[32mkey\u001b[0m\u001b[32m=\u001b[0m\u001b[32m\"elhe3\"\u001b[0m\u001b[32m>Software</h2><ul><li data-block-\u001b[0m\u001b[32mkey\u001b[0m\u001b[32m=\u001b[0m\u001b[32m\"75i3d\"\u001b[0m\u001b[32m><a \u001b[0m\n",
       "\u001b[32mhref\u001b[0m\u001b[32m=\u001b[0m\u001b[32m\"https\u001b[0m\u001b[32m://realpython.com/python-news-january-2024/#python-3130-alpha-3-arrives\">Python 3.13.0 alpha 3 is now \u001b[0m\n",
       "\u001b[32mavailable</a></li><li data-block-\u001b[0m\u001b[32mkey\u001b[0m\u001b[32m=\u001b[0m\u001b[32m\"4l1pk\"\u001b[0m\u001b[32m><a \u001b[0m\n",
       "\u001b[32mhref\u001b[0m\u001b[32m=\u001b[0m\u001b[32m\"https\u001b[0m\u001b[32m://pyfound.blogspot.com/2024/01/announcing-deputy-developer-in.html\">Announcing the Deputy Developer in \u001b[0m\n",
       "\u001b[32mResidence and the Supporting Developer in Residence</a> | PSF paid Python developers += 2</li><li \u001b[0m\n",
       "\u001b[32mdata-block-\u001b[0m\u001b[32mkey\u001b[0m\u001b[32m=\u001b[0m\u001b[32m\"36gho\"\u001b[0m\u001b[32m><a \u001b[0m\u001b[32mhref\u001b[0m\u001b[32m=\u001b[0m\u001b[32m\"https\u001b[0m\u001b[32m://noumenal.es/posts/neapolitan-242-released/DkK/\">Neapolitan 24.2 \u001b[0m\n",
       "\u001b[32mrelease</a></li><li data-block-\u001b[0m\u001b[32mkey\u001b[0m\u001b[32m=\u001b[0m\u001b[32m\"86a0f\"\u001b[0m\u001b[32m><a \u001b[0m\u001b[32mhref\u001b[0m\u001b[32m=\u001b[0m\u001b[32m\"https\u001b[0m\u001b[32m://pgtune.leopard.in.ua/\">PGTune</a> | Tune your postgres \u001b[0m\n",
       "\u001b[32mconfiguration parameters</li><li data-block-\u001b[0m\u001b[32mkey\u001b[0m\u001b[32m=\u001b[0m\u001b[32m\"b46qp\"\u001b[0m\u001b[32m><a \u001b[0m\n",
       "\u001b[32mhref\u001b[0m\u001b[32m=\u001b[0m\u001b[32m\"https\u001b[0m\u001b[32m://code.djangoproject.com/wiki/ContribAuthImprovements\">Django Issue - Improving contrib.auth</a> \u001b[0m\n",
       "\u001b[32m|\\xa0Detailed discussion of the options. Context: Historically \u001b[0m\u001b[32m(\u001b[0m\u001b[32mand currently, still\u001b[0m\u001b[32m)\u001b[0m\u001b[32m the Django documentation \u001b[0m\n",
       "\u001b[32mrecommends using a custom user model. Lately, opinions on whether this recommendation is correct are starting to \u001b[0m\n",
       "\u001b[32mshift.</li><li data-block-\u001b[0m\u001b[32mkey\u001b[0m\u001b[32m=\u001b[0m\u001b[32m\"etj0h\"\u001b[0m\u001b[32m><a \u001b[0m\u001b[32mhref\u001b[0m\u001b[32m=\u001b[0m\u001b[32m\"https\u001b[0m\u001b[32m://docs.wagtail.org/en/latest/releases/6.0.html\">Wagtail 6.0 \u001b[0m\n",
       "\u001b[32mrelease notes</a></li><li data-block-\u001b[0m\u001b[32mkey\u001b[0m\u001b[32m=\u001b[0m\u001b[32m\"71ha0\"\u001b[0m\u001b[32m><a \u001b[0m\u001b[32mhref\u001b[0m\u001b[32m=\u001b[0m\u001b[32m\"https\u001b[0m\u001b[32m://github.com/glyph/Fritter\">FRITTer - Frame-Rate \u001b[0m\n",
       "\u001b[32mIndependenT TimEr tRee</a> | Really cool project!</li></ul><h2 data-block-\u001b[0m\u001b[32mkey\u001b[0m\u001b[32m=\u001b[0m\u001b[32m\"2fs71\"\u001b[0m\u001b[32m>Weeknotes</h2><ul><li \u001b[0m\n",
       "\u001b[32mdata-block-\u001b[0m\u001b[32mkey\u001b[0m\u001b[32m=\u001b[0m\u001b[32m\"129nc\"\u001b[0m\u001b[32m><a \u001b[0m\u001b[32mhref\u001b[0m\u001b[32m=\u001b[0m\u001b[32m\"https\u001b[0m\u001b[32m://luisnatera.com/posts/2024/2/2024-02-05-review/\">Week in Review \u001b[0m\n",
       "\u001b[32m2024-02-05</a> | Luis</li><li data-block-\u001b[0m\u001b[32mkey\u001b[0m\u001b[32m=\u001b[0m\u001b[32m\"15uj5\"\u001b[0m\u001b[32m><a \u001b[0m\n",
       "\u001b[32mhref\u001b[0m\u001b[32m=\u001b[0m\u001b[32m\"https\u001b[0m\u001b[32m://shezi.de/weeklogs/log-2024-02-04.html\">Weeklog for Week 5: January 29 to February 04</a> | \u001b[0m\n",
       "\u001b[32mJohannes</li><li data-block-\u001b[0m\u001b[32mkey\u001b[0m\u001b[32m=\u001b[0m\u001b[32m\"6ijoe\"\u001b[0m\u001b[32m><a \u001b[0m\u001b[32mhref\u001b[0m\u001b[32m=\u001b[0m\u001b[32m\"https\u001b[0m\u001b[32m://simonwillison.net/2024/Feb/9/weeknotes/\">Weeknotes: a \u001b[0m\n",
       "\u001b[32mDatasette release, an LLM release and a bunch of new plugins</a> | Simon Willison</li></ul><h2 \u001b[0m\n",
       "\u001b[32mdata-block-\u001b[0m\u001b[32mkey\u001b[0m\u001b[32m=\u001b[0m\u001b[32m\"7p53d\"\u001b[0m\u001b[32m>Videos</h2><ul><li data-block-\u001b[0m\u001b[32mkey\u001b[0m\u001b[32m=\u001b[0m\u001b[32m\"1mq1p\"\u001b[0m\u001b[32m><a \u001b[0m\n",
       "\u001b[32mhref\u001b[0m\u001b[32m=\u001b[0m\u001b[32m\"https\u001b[0m\u001b[32m://youtu.be/gpbpVheR3gM?\u001b[0m\u001b[32msi\u001b[0m\u001b[32m=\u001b[0m\u001b[32mciOeL15rXe_tf5m_\"\u001b[0m\u001b[32m>Postgres Performance: From Slow to Pro with Elizabeth \u001b[0m\n",
       "\u001b[32mChristensen</a> | Great talk!</li></ul><h2 data-block-\u001b[0m\u001b[32mkey\u001b[0m\u001b[32m=\u001b[0m\u001b[32m\"7k8pi\"\u001b[0m\u001b[32m>Lectures</h2><ul><li data-block-\u001b[0m\u001b[32mkey\u001b[0m\u001b[32m=\u001b[0m\u001b[32m\"72nbq\"\u001b[0m\u001b[32m><a \u001b[0m\n",
       "\u001b[32mhref\u001b[0m\u001b[32m=\u001b[0m\u001b[32m\"https\u001b[0m\u001b[32m://www.feynmanlectures.caltech.edu\">The Feynman Lectures on Physics</a> | Ah, didn&#x27;t know there was\u001b[0m\n",
       "\u001b[32ma website!</li></ul><h2 data-block-\u001b[0m\u001b[32mkey\u001b[0m\u001b[32m=\u001b[0m\u001b[32m\"77v4p\"\u001b[0m\u001b[32m>Podcasts</h2><ul><li data-block-\u001b[0m\u001b[32mkey\u001b[0m\u001b[32m=\u001b[0m\u001b[32m\"dt4kr\"\u001b[0m\u001b[32m>New Podcast: <a \u001b[0m\n",
       "\u001b[32mhref\u001b[0m\u001b[32m=\u001b[0m\u001b[32m\"https\u001b[0m\u001b[32m://pypodcats.live/\">Hidden Figures of Python</a> | Welcome!</li><li data-block-\u001b[0m\u001b[32mkey\u001b[0m\u001b[32m=\u001b[0m\u001b[32m\"f0hbh\"\u001b[0m\u001b[32m><a \u001b[0m\n",
       "\u001b[32mhref\u001b[0m\u001b[32m=\u001b[0m\u001b[32m\"https\u001b[0m\u001b[32m://www.scalingpostgres.com/episodes/302-uuid-vs-bigint-battle/\">UUID vs Bigint Battle!!!</a> \u001b[0m\u001b[32m(\u001b[0m\u001b[32m<a \u001b[0m\n",
       "\u001b[32mhref\u001b[0m\u001b[32m=\u001b[0m\u001b[32m\"https\u001b[0m\u001b[32m://www.scalingpostgres.com\">Scaling PostgreSQL</a>\u001b[0m\u001b[32m)\u001b[0m\u001b[32m | Except when forced to use client generated IDs, I \u001b[0m\n",
       "\u001b[32muse bigint.</li></ul><h2 data-block-\u001b[0m\u001b[32mkey\u001b[0m\u001b[32m=\u001b[0m\u001b[32m\"dttt8\"\u001b[0m\u001b[32m>Out of Context Images</h2\u001b[0m\u001b[32m>\u001b[0m\u001b[32m'\u001b[0m\u001b[1m}\u001b[0m, \u001b[1m{\u001b[0m\u001b[32m'id'\u001b[0m: \n",
       "\u001b[32m'077c60c3-75ec-410f-9ce8-dcfedbdbf51d'\u001b[0m, \u001b[32m'type'\u001b[0m: \u001b[32m'gallery'\u001b[0m, \u001b[32m'value'\u001b[0m: \u001b[1m{\u001b[0m\u001b[32m'layout'\u001b[0m: \u001b[32m'default'\u001b[0m, \u001b[32m'gallery'\u001b[0m: \u001b[1m[\u001b[0m\u001b[1m{\u001b[0m\u001b[32m'id'\u001b[0m: \n",
       "\u001b[32m'd88feb27-ca23-4e69-ba3a-3a5a955c9ed5'\u001b[0m, \u001b[32m'type'\u001b[0m: \u001b[32m'item'\u001b[0m, \u001b[32m'value'\u001b[0m: \u001b[1;36m2387\u001b[0m\u001b[1m}\u001b[0m, \u001b[1m{\u001b[0m\u001b[32m'id'\u001b[0m: \n",
       "\u001b[32m'b4e9dc92-f0c7-4e7b-8b33-c29cf77a0f6f'\u001b[0m, \u001b[32m'type'\u001b[0m: \u001b[32m'item'\u001b[0m, \u001b[32m'value'\u001b[0m: \u001b[1;36m2386\u001b[0m\u001b[1m}\u001b[0m, \u001b[1m{\u001b[0m\u001b[32m'id'\u001b[0m: \n",
       "\u001b[32m'cfde66e6-b840-4e15-b918-c48a9e6a15c6'\u001b[0m, \u001b[32m'type'\u001b[0m: \u001b[32m'item'\u001b[0m, \u001b[32m'value'\u001b[0m: \u001b[1;36m2385\u001b[0m\u001b[1m}\u001b[0m, \u001b[1m{\u001b[0m\u001b[32m'id'\u001b[0m: \n",
       "\u001b[32m'af4efd99-e28d-4a0b-ac5e-746708b357e2'\u001b[0m, \u001b[32m'type'\u001b[0m: \u001b[32m'item'\u001b[0m, \u001b[32m'value'\u001b[0m: \u001b[1;36m2384\u001b[0m\u001b[1m}\u001b[0m, \u001b[1m{\u001b[0m\u001b[32m'id'\u001b[0m: \n",
       "\u001b[32m'7d0c7919-bc36-4927-a04e-c9f162cc6542'\u001b[0m, \u001b[32m'type'\u001b[0m: \u001b[32m'item'\u001b[0m, \u001b[32m'value'\u001b[0m: \u001b[1;36m2383\u001b[0m\u001b[1m}\u001b[0m, \u001b[1m{\u001b[0m\u001b[32m'id'\u001b[0m: \n",
       "\u001b[32m'254e9d24-a2d7-4034-a824-464a9787ec75'\u001b[0m, \u001b[32m'type'\u001b[0m: \u001b[32m'item'\u001b[0m, \u001b[32m'value'\u001b[0m: \u001b[1;36m2382\u001b[0m\u001b[1m}\u001b[0m, \u001b[1m{\u001b[0m\u001b[32m'id'\u001b[0m: \n",
       "\u001b[32m'fc9cd747-adb4-45ee-a1b0-f3749e40470d'\u001b[0m, \u001b[32m'type'\u001b[0m: \u001b[32m'item'\u001b[0m, \u001b[32m'value'\u001b[0m: \u001b[1;36m2381\u001b[0m\u001b[1m}\u001b[0m, \u001b[1m{\u001b[0m\u001b[32m'id'\u001b[0m: \n",
       "\u001b[32m'10e42bd7-b2a9-495b-b193-2a05a83939ba'\u001b[0m, \u001b[32m'type'\u001b[0m: \u001b[32m'item'\u001b[0m, \u001b[32m'value'\u001b[0m: \u001b[1;36m2380\u001b[0m\u001b[1m}\u001b[0m, \u001b[1m{\u001b[0m\u001b[32m'id'\u001b[0m: \n",
       "\u001b[32m'9901220d-a529-4067-ad09-24eadfe69c5f'\u001b[0m, \u001b[32m'type'\u001b[0m: \u001b[32m'item'\u001b[0m, \u001b[32m'value'\u001b[0m: \u001b[1;36m2379\u001b[0m\u001b[1m}\u001b[0m, \u001b[1m{\u001b[0m\u001b[32m'id'\u001b[0m: \n",
       "\u001b[32m'08884216-378e-4f32-8711-8ab837c751b9'\u001b[0m, \u001b[32m'type'\u001b[0m: \u001b[32m'item'\u001b[0m, \u001b[32m'value'\u001b[0m: \u001b[1;36m2378\u001b[0m\u001b[1m}\u001b[0m, \u001b[1m{\u001b[0m\u001b[32m'id'\u001b[0m: \n",
       "\u001b[32m'03c931d7-db23-4ffd-9a72-d6038f3a31b3'\u001b[0m, \u001b[32m'type'\u001b[0m: \u001b[32m'item'\u001b[0m, \u001b[32m'value'\u001b[0m: \u001b[1;36m2377\u001b[0m\u001b[1m}\u001b[0m, \u001b[1m{\u001b[0m\u001b[32m'id'\u001b[0m: \n",
       "\u001b[32m'752af4b7-2198-43e6-8c23-35eeb29f44f8'\u001b[0m, \u001b[32m'type'\u001b[0m: \u001b[32m'item'\u001b[0m, \u001b[32m'value'\u001b[0m: \u001b[1;36m2376\u001b[0m\u001b[1m}\u001b[0m, \u001b[1m{\u001b[0m\u001b[32m'id'\u001b[0m: \n",
       "\u001b[32m'9bef48a4-2407-4488-8499-87ad0f0ededa'\u001b[0m, \u001b[32m'type'\u001b[0m: \u001b[32m'item'\u001b[0m, \u001b[32m'value'\u001b[0m: \u001b[1;36m2374\u001b[0m\u001b[1m}\u001b[0m, \u001b[1m{\u001b[0m\u001b[32m'id'\u001b[0m: \n",
       "\u001b[32m'4328eebc-efaa-4c62-85f7-3f409e39ac4f'\u001b[0m, \u001b[32m'type'\u001b[0m: \u001b[32m'item'\u001b[0m, \u001b[32m'value'\u001b[0m: \u001b[1;36m2373\u001b[0m\u001b[1m}\u001b[0m, \u001b[1m{\u001b[0m\u001b[32m'id'\u001b[0m: \n",
       "\u001b[32m'72bc5973-6c15-4cfd-ae64-3aa7f47890d7'\u001b[0m, \u001b[32m'type'\u001b[0m: \u001b[32m'item'\u001b[0m, \u001b[32m'value'\u001b[0m: \u001b[1;36m2375\u001b[0m\u001b[1m}\u001b[0m\u001b[1m]\u001b[0m\u001b[1m}\u001b[0m\u001b[1m}\u001b[0m\u001b[1m]\u001b[0m\u001b[1m}\u001b[0m\u001b[1m]\u001b[0m\n"
      ]
     },
     "metadata": {},
     "output_type": "display_data"
    }
   ],
   "source": [
    "rprint(post.body.raw_data)"
   ]
  },
  {
   "cell_type": "code",
   "execution_count": null,
   "id": "8c51aee3-e725-449c-97b5-0ddbb65b5697",
   "metadata": {},
   "outputs": [],
   "source": []
  }
 ],
 "metadata": {
  "kernelspec": {
   "display_name": "Django Kernel",
   "language": "python",
   "name": "django_extensions"
  },
  "language_info": {
   "codemirror_mode": {
    "name": "ipython",
    "version": 3
   },
   "file_extension": ".py",
   "mimetype": "text/x-python",
   "name": "python",
   "nbconvert_exporter": "python",
   "pygments_lexer": "ipython3",
   "version": "3.12.2"
  }
 },
 "nbformat": 4,
 "nbformat_minor": 5
}
