{
 "cells": [
  {
   "cell_type": "code",
   "execution_count": 2,
   "id": "9ee83335-d920-4add-87e1-f4d7993228a6",
   "metadata": {
    "tags": []
   },
   "outputs": [],
   "source": [
    "import inspect"
   ]
  },
  {
   "cell_type": "code",
   "execution_count": 6,
   "id": "ec737353-798a-4b28-a0bc-fce5dffaf08d",
   "metadata": {
    "tags": []
   },
   "outputs": [],
   "source": [
    "class Foobar:\n",
    "    def instance_method(self):\n",
    "        pass\n",
    "    \n",
    "    @classmethod\n",
    "    def class_method(cls):\n",
    "        pass"
   ]
  },
  {
   "cell_type": "code",
   "execution_count": 5,
   "id": "f159257e-ca46-4c35-9b19-e9a02598e89e",
   "metadata": {
    "tags": []
   },
   "outputs": [
    {
     "data": {
      "text/plain": [
       "False"
      ]
     },
     "execution_count": 5,
     "metadata": {},
     "output_type": "execute_result"
    }
   ],
   "source": [
    "inspect.ismethod(Foobar.instance_method)"
   ]
  },
  {
   "cell_type": "code",
   "execution_count": 7,
   "id": "0f5f17c7-b876-464f-b842-ecb4f996cdee",
   "metadata": {
    "tags": []
   },
   "outputs": [
    {
     "data": {
      "text/plain": [
       "True"
      ]
     },
     "execution_count": 7,
     "metadata": {},
     "output_type": "execute_result"
    }
   ],
   "source": [
    "inspect.ismethod(Foobar.class_method)"
   ]
  },
  {
   "cell_type": "code",
   "execution_count": null,
   "id": "4d687d9b-8432-4b3b-97e7-22ab6caacb08",
   "metadata": {},
   "outputs": [],
   "source": []
  }
 ],
 "metadata": {
  "kernelspec": {
   "display_name": "Django Kernel",
   "language": "python",
   "name": "django_extensions"
  },
  "language_info": {
   "codemirror_mode": {
    "name": "ipython",
    "version": 3
   },
   "file_extension": ".py",
   "mimetype": "text/x-python",
   "name": "python",
   "nbconvert_exporter": "python",
   "pygments_lexer": "ipython3",
   "version": "3.12.2"
  }
 },
 "nbformat": 4,
 "nbformat_minor": 5
}
