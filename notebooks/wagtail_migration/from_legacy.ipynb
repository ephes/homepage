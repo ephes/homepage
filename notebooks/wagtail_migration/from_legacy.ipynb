{
 "cells": [
  {
   "cell_type": "code",
   "execution_count": 1,
   "id": "d2e1da81-ab44-438a-8c91-079080fca6d7",
   "metadata": {},
   "outputs": [],
   "source": [
    "%load_ext lab_black"
   ]
  },
  {
   "cell_type": "code",
   "execution_count": 2,
   "id": "13f8110b-0ec8-4c54-bd80-0cea82533bc4",
   "metadata": {},
   "outputs": [],
   "source": [
    "import re\n",
    "import json\n",
    "\n",
    "from django.db import connections\n",
    "\n",
    "from rich import print"
   ]
  },
  {
   "cell_type": "markdown",
   "id": "28ac2bf1-661e-47c6-8b8f-e21b6bcac29c",
   "metadata": {},
   "source": [
    "# Manual Stuff\n",
    "\n",
    "* In wagtain/images/signal_handlers.py deactivate post_delete_file_cleanup, to avoid deleting original 🥶\n",
    "* Start only postgres and then: dropdb homepage && createdb homepage && python manage.py migrate\n",
    "* Sometimes after convert: python manage.py fixtree\n",
    "* Sometimes, you have to run: python manage.py sqlsequencereset cast + execute via pgcli"
   ]
  },
  {
   "cell_type": "markdown",
   "id": "c43e1b1c-d939-4858-97aa-b2885576bb3b",
   "metadata": {},
   "source": [
    "# Fetch Legacy Data from Database Restore"
   ]
  },
  {
   "cell_type": "code",
   "execution_count": 7,
   "id": "35611ccd-3682-402c-8c16-6f9196b8a2f9",
   "metadata": {},
   "outputs": [],
   "source": [
    "def dictfetchall(cursor):\n",
    "    \"Return all rows from a cursor as a dict\"\n",
    "    columns = [col[0] for col in cursor.description]\n",
    "    return [dict(zip(columns, row)) for row in cursor.fetchall()]\n",
    "\n",
    "\n",
    "class Legacy:\n",
    "    def __init__(self, db_name=\"legacy\"):\n",
    "        self.db_name = db_name\n",
    "        self.users = self.fetch_rows(\"select * from users_user\")\n",
    "        self.blogs = self.fetch_rows(\"select * from cast_blog\")\n",
    "        self.posts = self.fetch_rows(\"select * from cast_post\")\n",
    "        self.images = self.fetch_rows(\"select * from cast_image\")\n",
    "        self.galleries = self.fetch_rows(\"select * from cast_gallery\")\n",
    "        self.gallery_images = self.fetch_rows(\"select * from cast_gallery_images\")\n",
    "        self.videos = self.fetch_rows(\"select * from cast_video\")\n",
    "        self.audios = self.fetch_rows(\"select * from cast_audio\")\n",
    "\n",
    "    def fetch_rows(self, stmt):\n",
    "        with connections[self.db_name].cursor() as cursor:\n",
    "            cursor.execute(stmt)\n",
    "            rows = dictfetchall(cursor)\n",
    "        return rows\n",
    "\n",
    "\n",
    "class Converter:\n",
    "    def __init__(self, legacy):\n",
    "        self.legacy = legacy\n",
    "        self.blog_content_type = ContentType.objects.get(app_label=\"cast\", model=\"blog\")\n",
    "\n",
    "    def users(self):\n",
    "        for l_user in self.legacy.users:\n",
    "            user = User(**l_user)\n",
    "            user.save()\n",
    "        return {user.pk: user for user in User.objects.all()}\n",
    "\n",
    "    def blogs(self):\n",
    "        blog_legacy_to_wagtail = {}\n",
    "        root = Page.objects.get(title=\"Welcome to your new Wagtail site!\")\n",
    "        for l_blog in self.legacy.blogs:\n",
    "            kwargs = l_blog.copy()\n",
    "            del kwargs[\"user_id\"]\n",
    "            del kwargs[\"id\"]\n",
    "            kwargs[\"owner\"] = self.user_lookup[l_blog[\"user_id\"]]\n",
    "            l_blog[\"content_type\"] = self.blog_content_type\n",
    "            blog = Blog(**kwargs)\n",
    "            blog = root.add_child(instance=blog)\n",
    "            blog_legacy_to_wagtail[l_blog[\"id\"]] = blog.pk\n",
    "        return blog_legacy_to_wagtail\n",
    "\n",
    "    def images(self):\n",
    "        for num, l_image in enumerate(self.legacy.images):\n",
    "            image = Image(\n",
    "                pk=l_image[\"id\"],\n",
    "                file=l_image[\"original\"],\n",
    "                uploaded_by_user=self.user_lookup[l_image[\"user_id\"]],\n",
    "                created_at=l_image[\"created\"],\n",
    "                width=l_image[\"original_width\"],\n",
    "                height=l_image[\"original_height\"],\n",
    "            )\n",
    "            image.save()\n",
    "            if num % 300 == 0:\n",
    "                print(num)\n",
    "\n",
    "    def galleries(self):\n",
    "        for l_gallery in self.legacy.galleries:\n",
    "            kwargs = {k: v for k, v in l_gallery.items() if k != \"user_id\"}\n",
    "            gallery = Gallery(**kwargs)\n",
    "            gallery.save()\n",
    "\n",
    "    def gallery_image_links(self):\n",
    "        links = [\n",
    "            (gi[\"id\"], gi[\"gallery_id\"], gi[\"image_id\"])\n",
    "            for gi in self.legacy.gallery_images\n",
    "        ]\n",
    "        stmt = \"insert into cast_gallery_images (id, gallery_id, image_id) values (%s, %s, %s)\"\n",
    "        with connections[\"default\"].cursor() as cursor:\n",
    "            cursor.executemany(stmt, links)\n",
    "\n",
    "    def convert(self):\n",
    "        self.user_lookup = self.users()\n",
    "        self.blog_lookup = self.blogs()\n",
    "        self.images()\n",
    "        self.galleries()\n",
    "        self.gallery_image_links()"
   ]
  },
  {
   "cell_type": "code",
   "execution_count": 8,
   "id": "17166087-09d4-41a0-8d3e-d080c109e417",
   "metadata": {},
   "outputs": [],
   "source": [
    "converter = Converter(Legacy())"
   ]
  },
  {
   "cell_type": "code",
   "execution_count": 6,
   "id": "2f09f5d8-3340-4f0d-959b-6d15bd80b1cf",
   "metadata": {},
   "outputs": [
    {
     "data": {
      "text/html": [
       "<pre style=\"white-space:pre;overflow-x:auto;line-height:normal;font-family:Menlo,'DejaVu Sans Mono',consolas,'Courier New',monospace\"><span style=\"color: #008080; text-decoration-color: #008080; font-weight: bold\">0</span>\n",
       "</pre>\n"
      ],
      "text/plain": [
       "\u001b[1;36m0\u001b[0m\n"
      ]
     },
     "metadata": {},
     "output_type": "display_data"
    },
    {
     "data": {
      "text/html": [
       "<pre style=\"white-space:pre;overflow-x:auto;line-height:normal;font-family:Menlo,'DejaVu Sans Mono',consolas,'Courier New',monospace\"><span style=\"color: #008080; text-decoration-color: #008080; font-weight: bold\">300</span>\n",
       "</pre>\n"
      ],
      "text/plain": [
       "\u001b[1;36m300\u001b[0m\n"
      ]
     },
     "metadata": {},
     "output_type": "display_data"
    },
    {
     "data": {
      "text/html": [
       "<pre style=\"white-space:pre;overflow-x:auto;line-height:normal;font-family:Menlo,'DejaVu Sans Mono',consolas,'Courier New',monospace\"><span style=\"color: #008080; text-decoration-color: #008080; font-weight: bold\">600</span>\n",
       "</pre>\n"
      ],
      "text/plain": [
       "\u001b[1;36m600\u001b[0m\n"
      ]
     },
     "metadata": {},
     "output_type": "display_data"
    },
    {
     "data": {
      "text/html": [
       "<pre style=\"white-space:pre;overflow-x:auto;line-height:normal;font-family:Menlo,'DejaVu Sans Mono',consolas,'Courier New',monospace\"><span style=\"color: #008080; text-decoration-color: #008080; font-weight: bold\">900</span>\n",
       "</pre>\n"
      ],
      "text/plain": [
       "\u001b[1;36m900\u001b[0m\n"
      ]
     },
     "metadata": {},
     "output_type": "display_data"
    },
    {
     "data": {
      "text/html": [
       "<pre style=\"white-space:pre;overflow-x:auto;line-height:normal;font-family:Menlo,'DejaVu Sans Mono',consolas,'Courier New',monospace\"><span style=\"color: #008080; text-decoration-color: #008080; font-weight: bold\">1200</span>\n",
       "</pre>\n"
      ],
      "text/plain": [
       "\u001b[1;36m1200\u001b[0m\n"
      ]
     },
     "metadata": {},
     "output_type": "display_data"
    },
    {
     "name": "stdout",
     "output_type": "stream",
     "text": [
      "CPU times: user 4.37 s, sys: 512 ms, total: 4.88 s\n",
      "Wall time: 4.3 s\n"
     ]
    }
   ],
   "source": [
    "%%time\n",
    "converter.convert()"
   ]
  },
  {
   "cell_type": "code",
   "execution_count": 34,
   "id": "7ef2e381-887f-4e15-8cfa-15589a46fc13",
   "metadata": {},
   "outputs": [
    {
     "data": {
      "text/html": [
       "<pre style=\"white-space:pre;overflow-x:auto;line-height:normal;font-family:Menlo,'DejaVu Sans Mono',consolas,'Courier New',monospace\"><span style=\"font-weight: bold\">[</span>\n",
       "    <span style=\"font-weight: bold\">{</span>\n",
       "        <span style=\"color: #008000; text-decoration-color: #008000\">'type'</span>: <span style=\"color: #008000; text-decoration-color: #008000\">'overview'</span>,\n",
       "        <span style=\"color: #008000; text-decoration-color: #008000\">'value'</span>: <span style=\"font-weight: bold\">[</span>\n",
       "            <span style=\"font-weight: bold\">{</span><span style=\"color: #008000; text-decoration-color: #008000\">'type'</span>: <span style=\"color: #008000; text-decoration-color: #008000\">'heading'</span>, <span style=\"color: #008000; text-decoration-color: #008000\">'value'</span>: <span style=\"color: #008000; text-decoration-color: #008000\">'Eine Überschrift'</span>, <span style=\"color: #008000; text-decoration-color: #008000\">'id'</span>: <span style=\"color: #008000; text-decoration-color: #008000\">'58378935-196d-4396-a23e-2bc1c9cbc0f3'</span><span style=\"font-weight: bold\">}</span>,\n",
       "            <span style=\"font-weight: bold\">{</span>\n",
       "                <span style=\"color: #008000; text-decoration-color: #008000\">'type'</span>: <span style=\"color: #008000; text-decoration-color: #008000\">'paragraph'</span>,\n",
       "                <span style=\"color: #008000; text-decoration-color: #008000\">'value'</span>: <span style=\"color: #008000; text-decoration-color: #008000\">'&lt;p data-block-key=\"anlsf\"&gt;Ein bisschen Text. Angeblich geht hier auch RichText. Hmm, wäre</span>\n",
       "<span style=\"color: #008000; text-decoration-color: #008000\">das dann eine Überschrift?&lt;/p&gt;&lt;p data-block-key=\"r0vs\"&gt;&lt;/p&gt;&lt;p data-block-key=\"7pj4l\"&gt;&lt;a </span>\n",
       "<span style=\"color: #008000; text-decoration-color: #008000\">href=\"http://wersdoerfer.de\"&gt;wersdoerfer&lt;/a&gt;Aha!&lt;/p&gt;&lt;p data-block-key=\"bivd5\"&gt;&lt;/p&gt;&lt;h2 </span>\n",
       "<span style=\"color: #008000; text-decoration-color: #008000\">data-block-key=\"6vmjl\"&gt;Heading 2&lt;/h2&gt;'</span>,\n",
       "                <span style=\"color: #008000; text-decoration-color: #008000\">'id'</span>: <span style=\"color: #008000; text-decoration-color: #008000\">'9279543d-88aa-4be3-a12c-952ebe6966c0'</span>\n",
       "            <span style=\"font-weight: bold\">}</span>\n",
       "        <span style=\"font-weight: bold\">]</span>,\n",
       "        <span style=\"color: #008000; text-decoration-color: #008000\">'id'</span>: <span style=\"color: #008000; text-decoration-color: #008000\">'bdab0f1c-c164-417b-879d-d4c6583c4c6c'</span>\n",
       "    <span style=\"font-weight: bold\">}</span>,\n",
       "    <span style=\"font-weight: bold\">{</span>\n",
       "        <span style=\"color: #008000; text-decoration-color: #008000\">'type'</span>: <span style=\"color: #008000; text-decoration-color: #008000\">'detail'</span>,\n",
       "        <span style=\"color: #008000; text-decoration-color: #008000\">'value'</span>: <span style=\"font-weight: bold\">[</span>\n",
       "            <span style=\"font-weight: bold\">{</span><span style=\"color: #008000; text-decoration-color: #008000\">'type'</span>: <span style=\"color: #008000; text-decoration-color: #008000\">'heading'</span>, <span style=\"color: #008000; text-decoration-color: #008000\">'value'</span>: <span style=\"color: #008000; text-decoration-color: #008000\">'Detail Überschrift'</span>, <span style=\"color: #008000; text-decoration-color: #008000\">'id'</span>: <span style=\"color: #008000; text-decoration-color: #008000\">'d7cbf386-58af-4ba6-bf7b-091e2304578a'</span><span style=\"font-weight: bold\">}</span>,\n",
       "            <span style=\"font-weight: bold\">{</span>\n",
       "                <span style=\"color: #008000; text-decoration-color: #008000\">'type'</span>: <span style=\"color: #008000; text-decoration-color: #008000\">'paragraph'</span>,\n",
       "                <span style=\"color: #008000; text-decoration-color: #008000\">'value'</span>: <span style=\"color: #008000; text-decoration-color: #008000\">'&lt;p data-block-key=\"g3l0n\"&gt;Noch ein bisschen Text :)&lt;/p&gt;'</span>,\n",
       "                <span style=\"color: #008000; text-decoration-color: #008000\">'id'</span>: <span style=\"color: #008000; text-decoration-color: #008000\">'f43fc4f3-f34f-4506-9a23-1ef4564de0e7'</span>\n",
       "            <span style=\"font-weight: bold\">}</span>,\n",
       "            <span style=\"font-weight: bold\">{</span><span style=\"color: #008000; text-decoration-color: #008000\">'type'</span>: <span style=\"color: #008000; text-decoration-color: #008000\">'image'</span>, <span style=\"color: #008000; text-decoration-color: #008000\">'value'</span>: <span style=\"color: #008080; text-decoration-color: #008080; font-weight: bold\">4</span>, <span style=\"color: #008000; text-decoration-color: #008000\">'id'</span>: <span style=\"color: #008000; text-decoration-color: #008000\">'45993490-7907-4d11-ac90-35bbe87f81ee'</span><span style=\"font-weight: bold\">}</span>\n",
       "        <span style=\"font-weight: bold\">]</span>,\n",
       "        <span style=\"color: #008000; text-decoration-color: #008000\">'id'</span>: <span style=\"color: #008000; text-decoration-color: #008000\">'6e18b320-7cfa-4255-9226-35b52b93aaac'</span>\n",
       "    <span style=\"font-weight: bold\">}</span>\n",
       "<span style=\"font-weight: bold\">]</span>\n",
       "</pre>\n"
      ],
      "text/plain": [
       "\u001b[1m[\u001b[0m\n",
       "    \u001b[1m{\u001b[0m\n",
       "        \u001b[32m'type'\u001b[0m: \u001b[32m'overview'\u001b[0m,\n",
       "        \u001b[32m'value'\u001b[0m: \u001b[1m[\u001b[0m\n",
       "            \u001b[1m{\u001b[0m\u001b[32m'type'\u001b[0m: \u001b[32m'heading'\u001b[0m, \u001b[32m'value'\u001b[0m: \u001b[32m'Eine Überschrift'\u001b[0m, \u001b[32m'id'\u001b[0m: \u001b[32m'58378935-196d-4396-a23e-2bc1c9cbc0f3'\u001b[0m\u001b[1m}\u001b[0m,\n",
       "            \u001b[1m{\u001b[0m\n",
       "                \u001b[32m'type'\u001b[0m: \u001b[32m'paragraph'\u001b[0m,\n",
       "                \u001b[32m'value'\u001b[0m: \u001b[32m'\u001b[0m\u001b[32m<\u001b[0m\u001b[32mp\u001b[0m\u001b[32m data-block-\u001b[0m\u001b[32mkey\u001b[0m\u001b[32m=\u001b[0m\u001b[32m\"anlsf\"\u001b[0m\u001b[32m>\u001b[0m\u001b[32mEin bisschen Text. Angeblich geht hier auch RichText. Hmm, wäre\u001b[0m\n",
       "\u001b[32mdas dann eine Überschrift?\u001b[0m\u001b[32m<\u001b[0m\u001b[32m/p\u001b[0m\u001b[32m>\u001b[0m\u001b[32m<\u001b[0m\u001b[32mp\u001b[0m\u001b[32m data-block-\u001b[0m\u001b[32mkey\u001b[0m\u001b[32m=\u001b[0m\u001b[32m\"r0vs\"\u001b[0m\u001b[32m>\u001b[0m\u001b[32m<\u001b[0m\u001b[32m/p\u001b[0m\u001b[32m>\u001b[0m\u001b[32m<\u001b[0m\u001b[32mp\u001b[0m\u001b[32m data-block-\u001b[0m\u001b[32mkey\u001b[0m\u001b[32m=\u001b[0m\u001b[32m\"7pj4l\"\u001b[0m\u001b[32m>\u001b[0m\u001b[32m<\u001b[0m\u001b[32ma\u001b[0m\u001b[32m \u001b[0m\n",
       "\u001b[32mhref\u001b[0m\u001b[32m=\u001b[0m\u001b[32m\"http\u001b[0m\u001b[32m://wersdoerfer.de\"\u001b[0m\u001b[32m>\u001b[0m\u001b[32mwersdoerfer\u001b[0m\u001b[32m<\u001b[0m\u001b[32m/a\u001b[0m\u001b[32m>\u001b[0m\u001b[32mAha!\u001b[0m\u001b[32m<\u001b[0m\u001b[32m/p\u001b[0m\u001b[32m>\u001b[0m\u001b[32m<\u001b[0m\u001b[32mp\u001b[0m\u001b[32m data-block-\u001b[0m\u001b[32mkey\u001b[0m\u001b[32m=\u001b[0m\u001b[32m\"bivd5\"\u001b[0m\u001b[32m>\u001b[0m\u001b[32m<\u001b[0m\u001b[32m/p\u001b[0m\u001b[32m>\u001b[0m\u001b[32m<\u001b[0m\u001b[32mh2\u001b[0m\u001b[32m \u001b[0m\n",
       "\u001b[32mdata-block-\u001b[0m\u001b[32mkey\u001b[0m\u001b[32m=\u001b[0m\u001b[32m\"6vmjl\"\u001b[0m\u001b[32m>\u001b[0m\u001b[32mHeading 2\u001b[0m\u001b[32m<\u001b[0m\u001b[32m/h2\u001b[0m\u001b[32m>\u001b[0m\u001b[32m'\u001b[0m,\n",
       "                \u001b[32m'id'\u001b[0m: \u001b[32m'9279543d-88aa-4be3-a12c-952ebe6966c0'\u001b[0m\n",
       "            \u001b[1m}\u001b[0m\n",
       "        \u001b[1m]\u001b[0m,\n",
       "        \u001b[32m'id'\u001b[0m: \u001b[32m'bdab0f1c-c164-417b-879d-d4c6583c4c6c'\u001b[0m\n",
       "    \u001b[1m}\u001b[0m,\n",
       "    \u001b[1m{\u001b[0m\n",
       "        \u001b[32m'type'\u001b[0m: \u001b[32m'detail'\u001b[0m,\n",
       "        \u001b[32m'value'\u001b[0m: \u001b[1m[\u001b[0m\n",
       "            \u001b[1m{\u001b[0m\u001b[32m'type'\u001b[0m: \u001b[32m'heading'\u001b[0m, \u001b[32m'value'\u001b[0m: \u001b[32m'Detail Überschrift'\u001b[0m, \u001b[32m'id'\u001b[0m: \u001b[32m'd7cbf386-58af-4ba6-bf7b-091e2304578a'\u001b[0m\u001b[1m}\u001b[0m,\n",
       "            \u001b[1m{\u001b[0m\n",
       "                \u001b[32m'type'\u001b[0m: \u001b[32m'paragraph'\u001b[0m,\n",
       "                \u001b[32m'value'\u001b[0m: \u001b[32m'\u001b[0m\u001b[32m<\u001b[0m\u001b[32mp\u001b[0m\u001b[32m data-block-\u001b[0m\u001b[32mkey\u001b[0m\u001b[32m=\u001b[0m\u001b[32m\"g3l0n\"\u001b[0m\u001b[32m>\u001b[0m\u001b[32mNoch ein bisschen Text :\u001b[0m\u001b[32m)\u001b[0m\u001b[32m<\u001b[0m\u001b[32m/p\u001b[0m\u001b[32m>\u001b[0m\u001b[32m'\u001b[0m,\n",
       "                \u001b[32m'id'\u001b[0m: \u001b[32m'f43fc4f3-f34f-4506-9a23-1ef4564de0e7'\u001b[0m\n",
       "            \u001b[1m}\u001b[0m,\n",
       "            \u001b[1m{\u001b[0m\u001b[32m'type'\u001b[0m: \u001b[32m'image'\u001b[0m, \u001b[32m'value'\u001b[0m: \u001b[1;36m4\u001b[0m, \u001b[32m'id'\u001b[0m: \u001b[32m'45993490-7907-4d11-ac90-35bbe87f81ee'\u001b[0m\u001b[1m}\u001b[0m\n",
       "        \u001b[1m]\u001b[0m,\n",
       "        \u001b[32m'id'\u001b[0m: \u001b[32m'6e18b320-7cfa-4255-9226-35b52b93aaac'\u001b[0m\n",
       "    \u001b[1m}\u001b[0m\n",
       "\u001b[1m]\u001b[0m\n"
      ]
     },
     "metadata": {},
     "output_type": "display_data"
    }
   ],
   "source": [
    "#post = Post.objects.first()\n",
    "#print(post.body._raw_data)"
   ]
  },
  {
   "cell_type": "code",
   "execution_count": 33,
   "id": "00c6afc7-71dc-45f6-b796-87e4ca967a91",
   "metadata": {},
   "outputs": [],
   "source": [
    "def is_tag(text):\n",
    "    return text.startswith(\"{%\") and text.endswith(\"%}\")\n",
    "\n",
    "\n",
    "def tag_to_block(tag):\n",
    "    tag_name, tag_id = tag.strip(\"{%\").strip(\"%}\").split()\n",
    "    tag_id = int(tag_id)\n",
    "    if tag_name == \"gallery\":\n",
    "        image_blocks = []\n",
    "        for image in Gallery.objects.get(pk=184).images.all():\n",
    "            image_blocks.append({\"type\": \"item\", \"value\": image.pk})\n",
    "        return {\"type\": tag_name, \"value\": image_blocks}\n",
    "    return {\"type\": tag_name, \"value\": tag_id}\n",
    "\n",
    "\n",
    "def content_to_streamfield(content):\n",
    "    blocks = overview = []\n",
    "    just_tag = re.compile(r\"({% \\w+ \\d+ %})\")\n",
    "    for part in just_tag.split(content):\n",
    "        if len(part) == 0:\n",
    "            continue\n",
    "        if is_tag(part):\n",
    "            blocks.append(tag_to_block(part))\n",
    "        else:\n",
    "            blocks.append({\"type\": \"paragraph\", \"value\": part})\n",
    "    return [{\"type\": \"overview\", \"value\": overview}]\n",
    "\n",
    "\n",
    "def build_post_from_legacy(legacy):\n",
    "    # post = Post(title=legacy[\"title\"], visible_date=legacy[\"visible_date\"])\n",
    "    kwargs = {\n",
    "        k: v\n",
    "        for k, v in legacy.items()\n",
    "        if k not in [\"content\", \"author_id\", \"blog_id\", \"id\"]\n",
    "    }\n",
    "    kwargs[\"content_type\"] = ContentType.objects.get(app_label=\"cast\", model=\"post\")\n",
    "    print(kwargs)\n",
    "    post = Post(**kwargs)\n",
    "    raw_body = content_to_streamfield(legacy[\"content\"])\n",
    "    post.body = json.dumps(raw_body)\n",
    "    return post"
   ]
  },
  {
   "cell_type": "code",
   "execution_count": 34,
   "id": "78771733-cb57-4de6-8064-7e681e7ffaf2",
   "metadata": {},
   "outputs": [],
   "source": [
    "blog = Page.objects.get(slug=\"ephes_blog\")"
   ]
  },
  {
   "cell_type": "code",
   "execution_count": 35,
   "id": "eac5e9bb-c21e-4069-9faf-b8c8c111db7a",
   "metadata": {},
   "outputs": [],
   "source": [
    "[l_post] = [p for p in legacy.posts if p[\"id\"] == 332]"
   ]
  },
  {
   "cell_type": "code",
   "execution_count": 36,
   "id": "1f431750-de6a-4be2-bc4d-f7a168561c98",
   "metadata": {},
   "outputs": [
    {
     "data": {
      "text/html": [
       "<pre style=\"white-space:pre;overflow-x:auto;line-height:normal;font-family:Menlo,'DejaVu Sans Mono',consolas,'Courier New',monospace\"><span style=\"font-weight: bold\">{</span>\n",
       "    <span style=\"color: #008000; text-decoration-color: #008000\">'created'</span>: <span style=\"color: #800080; text-decoration-color: #800080; font-weight: bold\">datetime.datetime</span><span style=\"font-weight: bold\">(</span><span style=\"color: #008080; text-decoration-color: #008080; font-weight: bold\">2022</span>, <span style=\"color: #008080; text-decoration-color: #008080; font-weight: bold\">11</span>, <span style=\"color: #008080; text-decoration-color: #008080; font-weight: bold\">1</span>, <span style=\"color: #008080; text-decoration-color: #008080; font-weight: bold\">9</span>, <span style=\"color: #008080; text-decoration-color: #008080; font-weight: bold\">27</span>, <span style=\"color: #008080; text-decoration-color: #008080; font-weight: bold\">54</span>, <span style=\"color: #008080; text-decoration-color: #008080; font-weight: bold\">587153</span>, <span style=\"color: #808000; text-decoration-color: #808000\">tzinfo</span>=<span style=\"color: #800080; text-decoration-color: #800080\">datetime</span>.timezone.utc<span style=\"font-weight: bold\">)</span>,\n",
       "    <span style=\"color: #008000; text-decoration-color: #008000\">'modified'</span>: <span style=\"color: #800080; text-decoration-color: #800080; font-weight: bold\">datetime.datetime</span><span style=\"font-weight: bold\">(</span><span style=\"color: #008080; text-decoration-color: #008080; font-weight: bold\">2022</span>, <span style=\"color: #008080; text-decoration-color: #008080; font-weight: bold\">11</span>, <span style=\"color: #008080; text-decoration-color: #008080; font-weight: bold\">5</span>, <span style=\"color: #008080; text-decoration-color: #008080; font-weight: bold\">7</span>, <span style=\"color: #008080; text-decoration-color: #008080; font-weight: bold\">44</span>, <span style=\"color: #008080; text-decoration-color: #008080; font-weight: bold\">32</span>, <span style=\"color: #008080; text-decoration-color: #008080; font-weight: bold\">666170</span>, <span style=\"color: #808000; text-decoration-color: #808000\">tzinfo</span>=<span style=\"color: #800080; text-decoration-color: #800080\">datetime</span>.timezone.utc<span style=\"font-weight: bold\">)</span>,\n",
       "    <span style=\"color: #008000; text-decoration-color: #008000\">'title'</span>: <span style=\"color: #008000; text-decoration-color: #008000\">'Weeknotes 2022-10-31'</span>,\n",
       "    <span style=\"color: #008000; text-decoration-color: #008000\">'pub_date'</span>: <span style=\"color: #800080; text-decoration-color: #800080; font-weight: bold\">datetime.datetime</span><span style=\"font-weight: bold\">(</span><span style=\"color: #008080; text-decoration-color: #008080; font-weight: bold\">2022</span>, <span style=\"color: #008080; text-decoration-color: #008080; font-weight: bold\">11</span>, <span style=\"color: #008080; text-decoration-color: #008080; font-weight: bold\">5</span>, <span style=\"color: #008080; text-decoration-color: #008080; font-weight: bold\">7</span>, <span style=\"color: #008080; text-decoration-color: #008080; font-weight: bold\">42</span>, <span style=\"color: #008080; text-decoration-color: #008080; font-weight: bold\">29</span>, <span style=\"color: #808000; text-decoration-color: #808000\">tzinfo</span>=<span style=\"color: #800080; text-decoration-color: #800080\">datetime</span>.timezone.utc<span style=\"font-weight: bold\">)</span>,\n",
       "    <span style=\"color: #008000; text-decoration-color: #008000\">'visible_date'</span>: <span style=\"color: #800080; text-decoration-color: #800080; font-weight: bold\">datetime.datetime</span><span style=\"font-weight: bold\">(</span><span style=\"color: #008080; text-decoration-color: #008080; font-weight: bold\">2022</span>, <span style=\"color: #008080; text-decoration-color: #008080; font-weight: bold\">10</span>, <span style=\"color: #008080; text-decoration-color: #008080; font-weight: bold\">31</span>, <span style=\"color: #008080; text-decoration-color: #008080; font-weight: bold\">0</span>, <span style=\"color: #008080; text-decoration-color: #008080; font-weight: bold\">0</span>, <span style=\"color: #808000; text-decoration-color: #808000\">tzinfo</span>=<span style=\"color: #800080; text-decoration-color: #800080\">datetime</span>.timezone.utc<span style=\"font-weight: bold\">)</span>,\n",
       "    <span style=\"color: #008000; text-decoration-color: #008000\">'slug'</span>: <span style=\"color: #008000; text-decoration-color: #008000\">'weeknotes-2022-10-31'</span>,\n",
       "    <span style=\"color: #008000; text-decoration-color: #008000\">'podcast_audio_id'</span>: <span style=\"color: #800080; text-decoration-color: #800080; font-style: italic\">None</span>,\n",
       "    <span style=\"color: #008000; text-decoration-color: #008000\">'uuid'</span>: <span style=\"color: #800080; text-decoration-color: #800080; font-weight: bold\">UUID</span><span style=\"font-weight: bold\">(</span><span style=\"color: #008000; text-decoration-color: #008000\">'105b836b-514c-466b-ba72-6db24c63b9e3'</span><span style=\"font-weight: bold\">)</span>,\n",
       "    <span style=\"color: #008000; text-decoration-color: #008000\">'keywords'</span>: <span style=\"color: #008000; text-decoration-color: #008000\">''</span>,\n",
       "    <span style=\"color: #008000; text-decoration-color: #008000\">'explicit'</span>: <span style=\"color: #008080; text-decoration-color: #008080; font-weight: bold\">1</span>,\n",
       "    <span style=\"color: #008000; text-decoration-color: #008000\">'block'</span>: <span style=\"color: #ff0000; text-decoration-color: #ff0000; font-style: italic\">False</span>,\n",
       "    <span style=\"color: #008000; text-decoration-color: #008000\">'comments_enabled'</span>: <span style=\"color: #00ff00; text-decoration-color: #00ff00; font-style: italic\">True</span>,\n",
       "    <span style=\"color: #008000; text-decoration-color: #008000\">'content_type'</span>: <span style=\"font-weight: bold\">&lt;</span><span style=\"color: #ff00ff; text-decoration-color: #ff00ff; font-weight: bold\">ContentType:</span><span style=\"color: #000000; text-decoration-color: #000000\"> cast | post</span><span style=\"font-weight: bold\">&gt;</span>\n",
       "<span style=\"font-weight: bold\">}</span>\n",
       "</pre>\n"
      ],
      "text/plain": [
       "\u001b[1m{\u001b[0m\n",
       "    \u001b[32m'created'\u001b[0m: \u001b[1;35mdatetime.datetime\u001b[0m\u001b[1m(\u001b[0m\u001b[1;36m2022\u001b[0m, \u001b[1;36m11\u001b[0m, \u001b[1;36m1\u001b[0m, \u001b[1;36m9\u001b[0m, \u001b[1;36m27\u001b[0m, \u001b[1;36m54\u001b[0m, \u001b[1;36m587153\u001b[0m, \u001b[33mtzinfo\u001b[0m=\u001b[35mdatetime\u001b[0m.timezone.utc\u001b[1m)\u001b[0m,\n",
       "    \u001b[32m'modified'\u001b[0m: \u001b[1;35mdatetime.datetime\u001b[0m\u001b[1m(\u001b[0m\u001b[1;36m2022\u001b[0m, \u001b[1;36m11\u001b[0m, \u001b[1;36m5\u001b[0m, \u001b[1;36m7\u001b[0m, \u001b[1;36m44\u001b[0m, \u001b[1;36m32\u001b[0m, \u001b[1;36m666170\u001b[0m, \u001b[33mtzinfo\u001b[0m=\u001b[35mdatetime\u001b[0m.timezone.utc\u001b[1m)\u001b[0m,\n",
       "    \u001b[32m'title'\u001b[0m: \u001b[32m'Weeknotes 2022-10-31'\u001b[0m,\n",
       "    \u001b[32m'pub_date'\u001b[0m: \u001b[1;35mdatetime.datetime\u001b[0m\u001b[1m(\u001b[0m\u001b[1;36m2022\u001b[0m, \u001b[1;36m11\u001b[0m, \u001b[1;36m5\u001b[0m, \u001b[1;36m7\u001b[0m, \u001b[1;36m42\u001b[0m, \u001b[1;36m29\u001b[0m, \u001b[33mtzinfo\u001b[0m=\u001b[35mdatetime\u001b[0m.timezone.utc\u001b[1m)\u001b[0m,\n",
       "    \u001b[32m'visible_date'\u001b[0m: \u001b[1;35mdatetime.datetime\u001b[0m\u001b[1m(\u001b[0m\u001b[1;36m2022\u001b[0m, \u001b[1;36m10\u001b[0m, \u001b[1;36m31\u001b[0m, \u001b[1;36m0\u001b[0m, \u001b[1;36m0\u001b[0m, \u001b[33mtzinfo\u001b[0m=\u001b[35mdatetime\u001b[0m.timezone.utc\u001b[1m)\u001b[0m,\n",
       "    \u001b[32m'slug'\u001b[0m: \u001b[32m'weeknotes-2022-10-31'\u001b[0m,\n",
       "    \u001b[32m'podcast_audio_id'\u001b[0m: \u001b[3;35mNone\u001b[0m,\n",
       "    \u001b[32m'uuid'\u001b[0m: \u001b[1;35mUUID\u001b[0m\u001b[1m(\u001b[0m\u001b[32m'105b836b-514c-466b-ba72-6db24c63b9e3'\u001b[0m\u001b[1m)\u001b[0m,\n",
       "    \u001b[32m'keywords'\u001b[0m: \u001b[32m''\u001b[0m,\n",
       "    \u001b[32m'explicit'\u001b[0m: \u001b[1;36m1\u001b[0m,\n",
       "    \u001b[32m'block'\u001b[0m: \u001b[3;91mFalse\u001b[0m,\n",
       "    \u001b[32m'comments_enabled'\u001b[0m: \u001b[3;92mTrue\u001b[0m,\n",
       "    \u001b[32m'content_type'\u001b[0m: \u001b[1m<\u001b[0m\u001b[1;95mContentType:\u001b[0m\u001b[39m cast | post\u001b[0m\u001b[1m>\u001b[0m\n",
       "\u001b[1m}\u001b[0m\n"
      ]
     },
     "metadata": {},
     "output_type": "display_data"
    }
   ],
   "source": [
    "post = build_post_from_legacy(l_post)"
   ]
  },
  {
   "cell_type": "code",
   "execution_count": 48,
   "id": "152f3aa1-b8fd-4e5a-ab8d-8787729e8d2f",
   "metadata": {},
   "outputs": [
    {
     "data": {
      "text/html": [
       "<pre style=\"white-space:pre;overflow-x:auto;line-height:normal;font-family:Menlo,'DejaVu Sans Mono',consolas,'Courier New',monospace\"><span style=\"font-weight: bold\">[{</span><span style=\"color: #008000; text-decoration-color: #008000\">'type'</span>: <span style=\"color: #008000; text-decoration-color: #008000\">'overview'</span>, <span style=\"color: #008000; text-decoration-color: #008000\">'value'</span>: <span style=\"font-weight: bold\">[{</span><span style=\"color: #008000; text-decoration-color: #008000\">'type'</span>: <span style=\"color: #008000; text-decoration-color: #008000\">'paragraph'</span>, <span style=\"color: #008000; text-decoration-color: #008000\">'value'</span>: <span style=\"color: #008000; text-decoration-color: #008000\">'&lt;p&gt;Spent quite some time fiddling around with my </span>\n",
       "<span style=\"color: #008000; text-decoration-color: #008000\">phone and Computers because of the&amp;nbsp;&lt;a href=\"https://www.macrumors.com/guide/ios-16-1-features/\"&gt;iOS </span>\n",
       "<span style=\"color: #008000; text-decoration-color: #008000\">16.1&lt;/a&gt;&amp;nbsp;/ &lt;a href=\"https://www.macrumors.com/roundup/macos-13/\"&gt;macOS 13&lt;/a&gt;&amp;nbsp;releases. Notes stopped </span>\n",
       "<span style=\"color: #008000; text-decoration-color: #008000\">syncing with my Macs (which happens with every major release). Reminders synced shared lists across different users</span>\n",
       "<span style=\"color: #008000; text-decoration-color: #008000\">and phones (wow, that usually also breaks on new releases), but it stopped syncing with my watch, so I had&amp;nbsp;to </span>\n",
       "<span style=\"color: #008000; text-decoration-color: #008000\">take out my phone and look at it during grocery shopping (like an animal). I also tried out the&amp;nbsp;eagerly </span>\n",
       "<span style=\"color: #008000; text-decoration-color: #008000\">awaited shared iCloud photo library, and ran into a lot of edge cases/bugs (the&amp;nbsp;image and&amp;nbsp;video </span>\n",
       "<span style=\"color: #008000; text-decoration-color: #008000\">counts&amp;nbsp;stopped being accurate for me a while ago, but now they are just going crazy:&amp;nbsp;edited images are </span>\n",
       "<span style=\"color: #008000; text-decoration-color: #008000\">converted to&amp;nbsp; tiff sometimes and then they cannot&amp;nbsp;be uploaded to iCloud anymore and&amp;nbsp;some images just</span>\n",
       "<span style=\"color: #008000; text-decoration-color: #008000\">refuse to be added to the shared library, etc pp). Maybe I have just too many notes, reminders, and photos.&lt;br </span>\n",
       "<span style=\"color: #008000; text-decoration-color: #008000\">/&gt;\\r\\n&lt;br /&gt;\\r\\nWorked a little bit on&amp;nbsp;&lt;a href=\"https://github.com/ephes/django-cast\"&gt;django-cast&lt;/a&gt;&amp;nbsp;to </span>\n",
       "<span style=\"color: #008000; text-decoration-color: #008000\">bring its dependencies up to date. There&amp;#39;s a Wagtail&amp;nbsp;&lt;a </span>\n",
       "<span style=\"color: #008000; text-decoration-color: #008000\">href=\"https://github.com/wagtail/rfcs/blob/main/text/071-responsive-images-support.md\"&gt;RFC 71: support for </span>\n",
       "<span style=\"color: #008000; text-decoration-color: #008000\">responsive images&lt;/a&gt;&amp;nbsp;that maybe makes my&amp;nbsp;&lt;a </span>\n",
       "<span style=\"color: #008000; text-decoration-color: #008000\">href=\"https://github.com/ephes/wagtail_srcset\"&gt;wagtail-srcset&lt;/a&gt;&amp;nbsp;workaround obsolete. Would be cool if this </span>\n",
       "<span style=\"color: #008000; text-decoration-color: #008000\">is no longer needed. Planning to look into this in the next </span>\n",
       "<span style=\"color: #008000; text-decoration-color: #008000\">week.&lt;/p&gt;\\r\\n\\r\\n&lt;h3&gt;Articles&lt;/h3&gt;\\r\\n\\r\\n&lt;ul&gt;\\r\\n\\t&lt;li&gt;&lt;a </span>\n",
       "<span style=\"color: #008000; text-decoration-color: #008000\">href=\"https://thepointmag.com/examined-life/a-world-without-why/\"&gt;A World Without Why?&lt;/a&gt;&amp;nbsp;| Achievable </span>\n",
       "<span style=\"color: #008000; text-decoration-color: #008000\">aesthetics over &lt;meta charset=\"utf-8\" /&gt;unachievable ethics, no?&lt;/li&gt;\\r\\n\\t&lt;li&gt;&lt;a </span>\n",
       "<span style=\"color: #008000; text-decoration-color: #008000\">href=\"https://lemire.me/blog/2022/10/16/science-and-technology-links-october-16-2022/\"&gt;Science and Technology links</span>\n",
       "<span style=\"color: #008000; text-decoration-color: #008000\">(October 16 2022)&lt;/a&gt;&lt;/li&gt;\\r\\n\\t&lt;li&gt;&lt;a </span>\n",
       "<span style=\"color: #008000; text-decoration-color: #008000\">href=\"https://www.theverge.com/2022/10/28/23428132/elon-musk-twitter-acquisition-problems-speech-moderation\"&gt;Welcom</span>\n",
       "<span style=\"color: #008000; text-decoration-color: #008000\">e to hell, Elon&lt;/a&gt;&amp;nbsp;| Interesting social experiment. I&amp;#39;m curious about how this all will play out, but I </span>\n",
       "<span style=\"color: #008000; text-decoration-color: #008000\">wouldn&amp;#39;t&amp;nbsp;bet on the fediverse winning, sorry.&lt;/li&gt;\\r\\n&lt;/ul&gt;\\r\\n\\r\\n&lt;h3&gt;&lt;br </span>\n",
       "<span style=\"color: #008000; text-decoration-color: #008000\">/&gt;\\r\\nTwitter&lt;/h3&gt;\\r\\n\\r\\n&lt;ul&gt;\\r\\n\\t&lt;li&gt;&lt;a </span>\n",
       "<span style=\"color: #008000; text-decoration-color: #008000\">href=\"https://twitter.com/groove_sdc/status/1584951348730417153?s=12&amp;amp;t=L0VXHhYpJyucgh9MGopXyA\"&gt;Dear White </span>\n",
       "<span style=\"color: #008000; text-decoration-color: #008000\">People, No one is asking you to apologise for your ancestors. We are asking you to dismantle the systems of </span>\n",
       "<span style=\"color: #008000; text-decoration-color: #008000\">oppression they built, that you maintain and benefit from.&lt;/a&gt;&amp;nbsp;| Well, fair enough..&lt;/li&gt;\\r\\n\\t&lt;li&gt;&lt;a </span>\n",
       "<span style=\"color: #008000; text-decoration-color: #008000\">href=\"https://twitter.com/coomsicle/status/1586163302115463168?s=12&amp;amp;t=d9Ry7_G5A6r0E43Q0W1v-g\"&gt;i hate doing acid</span>\n",
       "<span style=\"color: #008000; text-decoration-color: #008000\">with other people. bro over here bugging out talmbout &amp;ldquo;is this really all there is&amp;rdquo;. can you please </span>\n",
       "<span style=\"color: #008000; text-decoration-color: #008000\">shut up i&amp;rsquo;m trying to hands-free cum&lt;/a&gt;&lt;/li&gt;\\r\\n\\t&lt;li&gt;&lt;a </span>\n",
       "<span style=\"color: #008000; text-decoration-color: #008000\">href=\"https://twitter.com/conorfi/status/1586277307869958145?s=12&amp;amp;t=N2XF9P6PnxVSiP9m_CtBYg\"&gt;3 rules: -no </span>\n",
       "<span style=\"color: #008000; text-decoration-color: #008000\">wishing for death -no falling in love -no bring back dead people. I want to use Excel as a database. There are 4 </span>\n",
       "<span style=\"color: #008000; text-decoration-color: #008000\">rules.&lt;/a&gt;&lt;/li&gt;\\r\\n&lt;/ul&gt;\\r\\n&amp;nbsp;\\r\\n\\r\\n&lt;h3&gt;Weeknotes&lt;/h3&gt;\\r\\n\\r\\n&lt;ul&gt;\\r\\n\\t&lt;li&gt;&lt;a </span>\n",
       "<span style=\"color: #008000; text-decoration-color: #008000\">href=\"https://shezi.de/weeklogs/log-2022-10-23.html\"&gt;Weeklog for Week 42: October 17 to October 23&lt;/a&gt;&amp;nbsp;| </span>\n",
       "<span style=\"color: #008000; text-decoration-color: #008000\">Johannes&lt;/li&gt;\\r\\n&lt;/ul&gt;\\r\\n&amp;nbsp;\\r\\n\\r\\n&lt;h3&gt;Software&lt;/h3&gt;\\r\\n\\r\\n&lt;ul&gt;\\r\\n\\t&lt;li&gt;&lt;a </span>\n",
       "<span style=\"color: #008000; text-decoration-color: #008000\">href=\"https://textual.textualize.io/tutorial/\"&gt;Welcome to the Textual Tutorial!&lt;/a&gt;&amp;nbsp;| Really well-done </span>\n",
       "<span style=\"color: #008000; text-decoration-color: #008000\">tutorial&lt;/li&gt;\\r\\n\\t&lt;li&gt;&lt;a href=\"https://aeturrell.github.io/coding-for-economists/vis-common-plots.html\"&gt;Common </span>\n",
       "<span style=\"color: #008000; text-decoration-color: #008000\">Plots&lt;/a&gt;&amp;nbsp;| Lots of cool example plots in&amp;nbsp;&lt;a href=\"https://matplotlib.org/\"&gt;matplotlib&lt;/a&gt;,&amp;nbsp;&lt;a </span>\n",
       "<span style=\"color: #008000; text-decoration-color: #008000\">href=\"https://plotnine.readthedocs.io/en/stable/\"&gt;plotnine&lt;/a&gt;,&amp;nbsp;&lt;a </span>\n",
       "<span style=\"color: #008000; text-decoration-color: #008000\">href=\"https://seaborn.pydata.org/\"&gt;seaborn&lt;/a&gt;,&amp;nbsp;&lt;a href=\"https://altair-viz.github.io/\"&gt;altair&lt;/a&gt;, </span>\n",
       "<span style=\"color: #008000; text-decoration-color: #008000\">and&amp;nbsp;&lt;a href=\"https://plotly.com/python/\"&gt;plotly&lt;/a&gt;.&lt;/li&gt;\\r\\n&lt;/ul&gt;\\r\\n&amp;nbsp; </span>\n",
       "<span style=\"color: #008000; text-decoration-color: #008000\">&amp;nbsp;\\r\\n\\r\\n&lt;h3&gt;Podcasts&lt;/h3&gt;\\r\\n\\r\\n&lt;ul&gt;\\r\\n\\t&lt;li&gt;&lt;a </span>\n",
       "<span style=\"color: #008000; text-decoration-color: #008000\">href=\"https://forschergeist.de/podcast/fg098-philosophie-kommunizieren/\"&gt;FG098 Philosophie </span>\n",
       "<span style=\"color: #008000; text-decoration-color: #008000\">kommunizieren&lt;/a&gt;&amp;nbsp;(&lt;a href=\"https://forschergeist.de\"&gt;Forschergeist&lt;/a&gt;) | Learned about&amp;nbsp;&lt;a </span>\n",
       "<span style=\"color: #008000; text-decoration-color: #008000\">href=\"https://denxte.de\"&gt;denxte&lt;/a&gt;&amp;nbsp;which is about philosophy and happens to be located in my home town, so </span>\n",
       "<span style=\"color: #008000; text-decoration-color: #008000\">it&amp;#39;s kind of relevant.&amp;nbsp;&lt;/li&gt;\\r\\n\\t&lt;li&gt;&lt;a </span>\n",
       "<span style=\"color: #008000; text-decoration-color: #008000\">href=\"https://wrint.de/2022/10/24/wr1418-gaspreise-grossbritannien-bank-run/\"&gt;WR1418 Gaspreise, </span>\n",
       "<span style=\"color: #008000; text-decoration-color: #008000\">Gro&amp;szlig;britannien, Bank Run&lt;/a&gt;&amp;nbsp;(&lt;a </span>\n",
       "<span style=\"color: #008000; text-decoration-color: #008000\">href=\"https://wrint.de/category/wirtschaftskunde/\"&gt;Wirtschaftskunde&lt;/a&gt;) | Another great episode&lt;/li&gt;\\r\\n\\t&lt;li&gt;&lt;a </span>\n",
       "<span style=\"color: #008000; text-decoration-color: #008000\">href=\"http://www.bitsundso.de/bus815/1017/\"&gt;#815 (S.S. SHIPIT)&lt;/a&gt;&amp;nbsp;(&lt;a href=\"http://www.bitsundso.de\"&gt;Bits und</span>\n",
       "<span style=\"color: #008000; text-decoration-color: #008000\">so&lt;/a&gt;)&lt;/li&gt;\\r\\n&lt;/ul&gt;\\r\\n\\r\\n&lt;h3&gt;&amp;nbsp; &amp;nbsp;&lt;br /&gt;\\r\\nOut of Context Images&lt;/h3&gt;\\r\\n'</span><span style=\"font-weight: bold\">}</span>, <span style=\"font-weight: bold\">{</span><span style=\"color: #008000; text-decoration-color: #008000\">'type'</span>: <span style=\"color: #008000; text-decoration-color: #008000\">'gallery'</span>, \n",
       "<span style=\"color: #008000; text-decoration-color: #008000\">'value'</span>: <span style=\"font-weight: bold\">[{</span><span style=\"color: #008000; text-decoration-color: #008000\">'type'</span>: <span style=\"color: #008000; text-decoration-color: #008000\">'item'</span>, <span style=\"color: #008000; text-decoration-color: #008000\">'value'</span>: <span style=\"color: #008080; text-decoration-color: #008080; font-weight: bold\">1281</span>, <span style=\"color: #008000; text-decoration-color: #008000\">'id'</span>: <span style=\"color: #008000; text-decoration-color: #008000\">'88c02e62-77e9-44f2-a84e-c3d84453cb13'</span><span style=\"font-weight: bold\">}</span>, <span style=\"font-weight: bold\">{</span><span style=\"color: #008000; text-decoration-color: #008000\">'type'</span>: <span style=\"color: #008000; text-decoration-color: #008000\">'item'</span>, <span style=\"color: #008000; text-decoration-color: #008000\">'value'</span>: \n",
       "<span style=\"color: #008080; text-decoration-color: #008080; font-weight: bold\">1280</span>, <span style=\"color: #008000; text-decoration-color: #008000\">'id'</span>: <span style=\"color: #008000; text-decoration-color: #008000\">'eb5d3c2e-6e47-434a-a18a-98e2e0c5d3af'</span><span style=\"font-weight: bold\">}]}]</span>, <span style=\"color: #008000; text-decoration-color: #008000\">'id'</span>: <span style=\"color: #008000; text-decoration-color: #008000\">'b5748dfe-e85e-43e0-9b23-45dede2e409c'</span><span style=\"font-weight: bold\">}]</span>\n",
       "</pre>\n"
      ],
      "text/plain": [
       "\u001b[1m[\u001b[0m\u001b[1m{\u001b[0m\u001b[32m'type'\u001b[0m: \u001b[32m'overview'\u001b[0m, \u001b[32m'value'\u001b[0m: \u001b[1m[\u001b[0m\u001b[1m{\u001b[0m\u001b[32m'type'\u001b[0m: \u001b[32m'paragraph'\u001b[0m, \u001b[32m'value'\u001b[0m: \u001b[32m'\u001b[0m\u001b[32m<\u001b[0m\u001b[32mp\u001b[0m\u001b[32m>\u001b[0m\u001b[32mSpent quite some time fiddling around with my \u001b[0m\n",
       "\u001b[32mphone and Computers because of the&nbsp;\u001b[0m\u001b[32m<\u001b[0m\u001b[32ma\u001b[0m\u001b[32m \u001b[0m\u001b[32mhref\u001b[0m\u001b[32m=\u001b[0m\u001b[32m\"https\u001b[0m\u001b[32m://www.macrumors.com/guide/ios-16-1-features/\"\u001b[0m\u001b[32m>\u001b[0m\u001b[32miOS \u001b[0m\n",
       "\u001b[32m16.1\u001b[0m\u001b[32m<\u001b[0m\u001b[32m/a\u001b[0m\u001b[32m>\u001b[0m\u001b[32m&nbsp;/ \u001b[0m\u001b[32m<\u001b[0m\u001b[32ma\u001b[0m\u001b[32m \u001b[0m\u001b[32mhref\u001b[0m\u001b[32m=\u001b[0m\u001b[32m\"https\u001b[0m\u001b[32m://www.macrumors.com/roundup/macos-13/\"\u001b[0m\u001b[32m>\u001b[0m\u001b[32mmacOS 13\u001b[0m\u001b[32m<\u001b[0m\u001b[32m/a\u001b[0m\u001b[32m>\u001b[0m\u001b[32m&nbsp;releases. Notes stopped \u001b[0m\n",
       "\u001b[32msyncing with my Macs \u001b[0m\u001b[32m(\u001b[0m\u001b[32mwhich happens with every major release\u001b[0m\u001b[32m)\u001b[0m\u001b[32m. Reminders synced shared lists across different users\u001b[0m\n",
       "\u001b[32mand phones \u001b[0m\u001b[32m(\u001b[0m\u001b[32mwow, that usually also breaks on new releases\u001b[0m\u001b[32m)\u001b[0m\u001b[32m, but it stopped syncing with my watch, so I had&nbsp;to \u001b[0m\n",
       "\u001b[32mtake out my phone and look at it during grocery shopping \u001b[0m\u001b[32m(\u001b[0m\u001b[32mlike an animal\u001b[0m\u001b[32m)\u001b[0m\u001b[32m. I also tried out the&nbsp;eagerly \u001b[0m\n",
       "\u001b[32mawaited shared iCloud photo library, and ran into a lot of edge cases/bugs \u001b[0m\u001b[32m(\u001b[0m\u001b[32mthe&nbsp;image and&nbsp;video \u001b[0m\n",
       "\u001b[32mcounts&nbsp;stopped being accurate for me a while ago, but now they are just going crazy:&nbsp;edited images are \u001b[0m\n",
       "\u001b[32mconverted to&nbsp; tiff sometimes and then they cannot&nbsp;be uploaded to iCloud anymore and&nbsp;some images just\u001b[0m\n",
       "\u001b[32mrefuse to be added to the shared library, etc pp\u001b[0m\u001b[32m)\u001b[0m\u001b[32m. Maybe I have just too many notes, reminders, and photos.\u001b[0m\u001b[32m<\u001b[0m\u001b[32mbr\u001b[0m\u001b[32m \u001b[0m\n",
       "\u001b[32m/\u001b[0m\u001b[32m>\u001b[0m\u001b[32m\\r\\n\u001b[0m\u001b[32m<\u001b[0m\u001b[32mbr\u001b[0m\u001b[32m /\u001b[0m\u001b[32m>\u001b[0m\u001b[32m\\r\\nWorked a little bit on&nbsp;\u001b[0m\u001b[32m<\u001b[0m\u001b[32ma\u001b[0m\u001b[32m \u001b[0m\u001b[32mhref\u001b[0m\u001b[32m=\u001b[0m\u001b[32m\"https\u001b[0m\u001b[32m://github.com/ephes/django-cast\"\u001b[0m\u001b[32m>\u001b[0m\u001b[32mdjango-cast\u001b[0m\u001b[32m<\u001b[0m\u001b[32m/a\u001b[0m\u001b[32m>\u001b[0m\u001b[32m&nbsp;to \u001b[0m\n",
       "\u001b[32mbring its dependencies up to date. There&#39;s a Wagtail&nbsp;\u001b[0m\u001b[32m<\u001b[0m\u001b[32ma\u001b[0m\u001b[32m \u001b[0m\n",
       "\u001b[32mhref\u001b[0m\u001b[32m=\u001b[0m\u001b[32m\"https\u001b[0m\u001b[32m://github.com/wagtail/rfcs/blob/main/text/071-responsive-images-support.md\"\u001b[0m\u001b[32m>\u001b[0m\u001b[32mRFC 71: support for \u001b[0m\n",
       "\u001b[32mresponsive images\u001b[0m\u001b[32m<\u001b[0m\u001b[32m/a\u001b[0m\u001b[32m>\u001b[0m\u001b[32m&nbsp;that maybe makes my&nbsp;\u001b[0m\u001b[32m<\u001b[0m\u001b[32ma\u001b[0m\u001b[32m \u001b[0m\n",
       "\u001b[32mhref\u001b[0m\u001b[32m=\u001b[0m\u001b[32m\"https\u001b[0m\u001b[32m://github.com/ephes/wagtail_srcset\"\u001b[0m\u001b[32m>\u001b[0m\u001b[32mwagtail-srcset\u001b[0m\u001b[32m<\u001b[0m\u001b[32m/a\u001b[0m\u001b[32m>\u001b[0m\u001b[32m&nbsp;workaround obsolete. Would be cool if this \u001b[0m\n",
       "\u001b[32mis no longer needed. Planning to look into this in the next \u001b[0m\n",
       "\u001b[32mweek.\u001b[0m\u001b[32m<\u001b[0m\u001b[32m/p\u001b[0m\u001b[32m>\u001b[0m\u001b[32m\\r\\n\\r\\n\u001b[0m\u001b[32m<\u001b[0m\u001b[32mh3\u001b[0m\u001b[32m>\u001b[0m\u001b[32mArticles\u001b[0m\u001b[32m<\u001b[0m\u001b[32m/h3\u001b[0m\u001b[32m>\u001b[0m\u001b[32m\\r\\n\\r\\n\u001b[0m\u001b[32m<\u001b[0m\u001b[32mul\u001b[0m\u001b[32m>\u001b[0m\u001b[32m\\r\\n\\t\u001b[0m\u001b[32m<\u001b[0m\u001b[32mli\u001b[0m\u001b[32m>\u001b[0m\u001b[32m<\u001b[0m\u001b[32ma\u001b[0m\u001b[32m \u001b[0m\n",
       "\u001b[32mhref\u001b[0m\u001b[32m=\u001b[0m\u001b[32m\"https\u001b[0m\u001b[32m://thepointmag.com/examined-life/a-world-without-why/\"\u001b[0m\u001b[32m>\u001b[0m\u001b[32mA World Without Why?\u001b[0m\u001b[32m<\u001b[0m\u001b[32m/a\u001b[0m\u001b[32m>\u001b[0m\u001b[32m&nbsp;| Achievable \u001b[0m\n",
       "\u001b[32maesthetics over \u001b[0m\u001b[32m<\u001b[0m\u001b[32mmeta\u001b[0m\u001b[32m \u001b[0m\u001b[32mcharset\u001b[0m\u001b[32m=\u001b[0m\u001b[32m\"utf\u001b[0m\u001b[32m-8\" /\u001b[0m\u001b[32m>\u001b[0m\u001b[32munachievable ethics, no?\u001b[0m\u001b[32m<\u001b[0m\u001b[32m/li\u001b[0m\u001b[32m>\u001b[0m\u001b[32m\\r\\n\\t\u001b[0m\u001b[32m<\u001b[0m\u001b[32mli\u001b[0m\u001b[32m>\u001b[0m\u001b[32m<\u001b[0m\u001b[32ma\u001b[0m\u001b[32m \u001b[0m\n",
       "\u001b[32mhref\u001b[0m\u001b[32m=\u001b[0m\u001b[32m\"https\u001b[0m\u001b[32m://lemire.me/blog/2022/10/16/science-and-technology-links-october-16-2022/\"\u001b[0m\u001b[32m>\u001b[0m\u001b[32mScience and Technology links\u001b[0m\n",
       "\u001b[32m(\u001b[0m\u001b[32mOctober 16 2022\u001b[0m\u001b[32m)\u001b[0m\u001b[32m<\u001b[0m\u001b[32m/a\u001b[0m\u001b[32m>\u001b[0m\u001b[32m<\u001b[0m\u001b[32m/li\u001b[0m\u001b[32m>\u001b[0m\u001b[32m\\r\\n\\t\u001b[0m\u001b[32m<\u001b[0m\u001b[32mli\u001b[0m\u001b[32m>\u001b[0m\u001b[32m<\u001b[0m\u001b[32ma\u001b[0m\u001b[32m \u001b[0m\n",
       "\u001b[32mhref\u001b[0m\u001b[32m=\u001b[0m\u001b[32m\"https\u001b[0m\u001b[32m://www.theverge.com/2022/10/28/23428132/elon-musk-twitter-acquisition-problems-speech-moderation\"\u001b[0m\u001b[32m>\u001b[0m\u001b[32mWelcom\u001b[0m\n",
       "\u001b[32me to hell, Elon\u001b[0m\u001b[32m<\u001b[0m\u001b[32m/a\u001b[0m\u001b[32m>\u001b[0m\u001b[32m&nbsp;| Interesting social experiment. I&#39;m curious about how this all will play out, but I \u001b[0m\n",
       "\u001b[32mwouldn&#39;t&nbsp;bet on the fediverse winning, sorry.\u001b[0m\u001b[32m<\u001b[0m\u001b[32m/li\u001b[0m\u001b[32m>\u001b[0m\u001b[32m\\r\\n\u001b[0m\u001b[32m<\u001b[0m\u001b[32m/ul\u001b[0m\u001b[32m>\u001b[0m\u001b[32m\\r\\n\\r\\n\u001b[0m\u001b[32m<\u001b[0m\u001b[32mh3\u001b[0m\u001b[32m>\u001b[0m\u001b[32m<\u001b[0m\u001b[32mbr\u001b[0m\u001b[32m \u001b[0m\n",
       "\u001b[32m/\u001b[0m\u001b[32m>\u001b[0m\u001b[32m\\r\\nTwitter\u001b[0m\u001b[32m<\u001b[0m\u001b[32m/h3\u001b[0m\u001b[32m>\u001b[0m\u001b[32m\\r\\n\\r\\n\u001b[0m\u001b[32m<\u001b[0m\u001b[32mul\u001b[0m\u001b[32m>\u001b[0m\u001b[32m\\r\\n\\t\u001b[0m\u001b[32m<\u001b[0m\u001b[32mli\u001b[0m\u001b[32m>\u001b[0m\u001b[32m<\u001b[0m\u001b[32ma\u001b[0m\u001b[32m \u001b[0m\n",
       "\u001b[32mhref\u001b[0m\u001b[32m=\u001b[0m\u001b[32m\"https\u001b[0m\u001b[32m://twitter.com/groove_sdc/status/1584951348730417153?\u001b[0m\u001b[32ms\u001b[0m\u001b[32m=\u001b[0m\u001b[32m12\u001b[0m\u001b[32m&amp;\u001b[0m\u001b[32mt\u001b[0m\u001b[32m=\u001b[0m\u001b[32mL0VXHhYpJyucgh9MGopXyA\"\u001b[0m\u001b[32m>\u001b[0m\u001b[32mDear White \u001b[0m\n",
       "\u001b[32mPeople, No one is asking you to apologise for your ancestors. We are asking you to dismantle the systems of \u001b[0m\n",
       "\u001b[32moppression they built, that you maintain and benefit from.\u001b[0m\u001b[32m<\u001b[0m\u001b[32m/a\u001b[0m\u001b[32m>\u001b[0m\u001b[32m&nbsp;| Well, fair enough..\u001b[0m\u001b[32m<\u001b[0m\u001b[32m/li\u001b[0m\u001b[32m>\u001b[0m\u001b[32m\\r\\n\\t\u001b[0m\u001b[32m<\u001b[0m\u001b[32mli\u001b[0m\u001b[32m>\u001b[0m\u001b[32m<\u001b[0m\u001b[32ma\u001b[0m\u001b[32m \u001b[0m\n",
       "\u001b[32mhref\u001b[0m\u001b[32m=\u001b[0m\u001b[32m\"https\u001b[0m\u001b[32m://twitter.com/coomsicle/status/1586163302115463168?\u001b[0m\u001b[32ms\u001b[0m\u001b[32m=\u001b[0m\u001b[32m12\u001b[0m\u001b[32m&amp;\u001b[0m\u001b[32mt\u001b[0m\u001b[32m=\u001b[0m\u001b[32md9Ry7_G5A6r0E43Q0W1v\u001b[0m\u001b[32m-g\"\u001b[0m\u001b[32m>\u001b[0m\u001b[32mi hate doing acid\u001b[0m\n",
       "\u001b[32mwith other people. bro over here bugging out talmbout &ldquo;is this really all there is&rdquo;. can you please \u001b[0m\n",
       "\u001b[32mshut up i&rsquo;m trying to hands-free cum\u001b[0m\u001b[32m<\u001b[0m\u001b[32m/a\u001b[0m\u001b[32m>\u001b[0m\u001b[32m<\u001b[0m\u001b[32m/li\u001b[0m\u001b[32m>\u001b[0m\u001b[32m\\r\\n\\t\u001b[0m\u001b[32m<\u001b[0m\u001b[32mli\u001b[0m\u001b[32m>\u001b[0m\u001b[32m<\u001b[0m\u001b[32ma\u001b[0m\u001b[32m \u001b[0m\n",
       "\u001b[32mhref\u001b[0m\u001b[32m=\u001b[0m\u001b[32m\"https\u001b[0m\u001b[32m://twitter.com/conorfi/status/1586277307869958145?\u001b[0m\u001b[32ms\u001b[0m\u001b[32m=\u001b[0m\u001b[32m12\u001b[0m\u001b[32m&amp;\u001b[0m\u001b[32mt\u001b[0m\u001b[32m=\u001b[0m\u001b[32mN2XF9P6PnxVSiP9m_CtBYg\"\u001b[0m\u001b[32m>\u001b[0m\u001b[32m3 rules: -no \u001b[0m\n",
       "\u001b[32mwishing for death -no falling in love -no bring back dead people. I want to use Excel as a database. There are 4 \u001b[0m\n",
       "\u001b[32mrules.\u001b[0m\u001b[32m<\u001b[0m\u001b[32m/a\u001b[0m\u001b[32m>\u001b[0m\u001b[32m<\u001b[0m\u001b[32m/li\u001b[0m\u001b[32m>\u001b[0m\u001b[32m\\r\\n\u001b[0m\u001b[32m<\u001b[0m\u001b[32m/ul\u001b[0m\u001b[32m>\u001b[0m\u001b[32m\\r\\n&nbsp;\\r\\n\\r\\n\u001b[0m\u001b[32m<\u001b[0m\u001b[32mh3\u001b[0m\u001b[32m>\u001b[0m\u001b[32mWeeknotes\u001b[0m\u001b[32m<\u001b[0m\u001b[32m/h3\u001b[0m\u001b[32m>\u001b[0m\u001b[32m\\r\\n\\r\\n\u001b[0m\u001b[32m<\u001b[0m\u001b[32mul\u001b[0m\u001b[32m>\u001b[0m\u001b[32m\\r\\n\\t\u001b[0m\u001b[32m<\u001b[0m\u001b[32mli\u001b[0m\u001b[32m>\u001b[0m\u001b[32m<\u001b[0m\u001b[32ma\u001b[0m\u001b[32m \u001b[0m\n",
       "\u001b[32mhref\u001b[0m\u001b[32m=\u001b[0m\u001b[32m\"https\u001b[0m\u001b[32m://shezi.de/weeklogs/log-2022-10-23.html\"\u001b[0m\u001b[32m>\u001b[0m\u001b[32mWeeklog for Week 42: October 17 to October 23\u001b[0m\u001b[32m<\u001b[0m\u001b[32m/a\u001b[0m\u001b[32m>\u001b[0m\u001b[32m&nbsp;| \u001b[0m\n",
       "\u001b[32mJohannes\u001b[0m\u001b[32m<\u001b[0m\u001b[32m/li\u001b[0m\u001b[32m>\u001b[0m\u001b[32m\\r\\n\u001b[0m\u001b[32m<\u001b[0m\u001b[32m/ul\u001b[0m\u001b[32m>\u001b[0m\u001b[32m\\r\\n&nbsp;\\r\\n\\r\\n\u001b[0m\u001b[32m<\u001b[0m\u001b[32mh3\u001b[0m\u001b[32m>\u001b[0m\u001b[32mSoftware\u001b[0m\u001b[32m<\u001b[0m\u001b[32m/h3\u001b[0m\u001b[32m>\u001b[0m\u001b[32m\\r\\n\\r\\n\u001b[0m\u001b[32m<\u001b[0m\u001b[32mul\u001b[0m\u001b[32m>\u001b[0m\u001b[32m\\r\\n\\t\u001b[0m\u001b[32m<\u001b[0m\u001b[32mli\u001b[0m\u001b[32m>\u001b[0m\u001b[32m<\u001b[0m\u001b[32ma\u001b[0m\u001b[32m \u001b[0m\n",
       "\u001b[32mhref\u001b[0m\u001b[32m=\u001b[0m\u001b[32m\"https\u001b[0m\u001b[32m://textual.textualize.io/tutorial/\"\u001b[0m\u001b[32m>\u001b[0m\u001b[32mWelcome to the Textual Tutorial!\u001b[0m\u001b[32m<\u001b[0m\u001b[32m/a\u001b[0m\u001b[32m>\u001b[0m\u001b[32m&nbsp;| Really well-done \u001b[0m\n",
       "\u001b[32mtutorial\u001b[0m\u001b[32m<\u001b[0m\u001b[32m/li\u001b[0m\u001b[32m>\u001b[0m\u001b[32m\\r\\n\\t\u001b[0m\u001b[32m<\u001b[0m\u001b[32mli\u001b[0m\u001b[32m>\u001b[0m\u001b[32m<\u001b[0m\u001b[32ma\u001b[0m\u001b[32m \u001b[0m\u001b[32mhref\u001b[0m\u001b[32m=\u001b[0m\u001b[32m\"https\u001b[0m\u001b[32m://aeturrell.github.io/coding-for-economists/vis-common-plots.html\"\u001b[0m\u001b[32m>\u001b[0m\u001b[32mCommon \u001b[0m\n",
       "\u001b[32mPlots\u001b[0m\u001b[32m<\u001b[0m\u001b[32m/a\u001b[0m\u001b[32m>\u001b[0m\u001b[32m&nbsp;| Lots of cool example plots in&nbsp;\u001b[0m\u001b[32m<\u001b[0m\u001b[32ma\u001b[0m\u001b[32m \u001b[0m\u001b[32mhref\u001b[0m\u001b[32m=\u001b[0m\u001b[32m\"https\u001b[0m\u001b[32m://matplotlib.org/\"\u001b[0m\u001b[32m>\u001b[0m\u001b[32mmatplotlib\u001b[0m\u001b[32m<\u001b[0m\u001b[32m/a\u001b[0m\u001b[32m>\u001b[0m\u001b[32m,&nbsp;\u001b[0m\u001b[32m<\u001b[0m\u001b[32ma\u001b[0m\u001b[32m \u001b[0m\n",
       "\u001b[32mhref\u001b[0m\u001b[32m=\u001b[0m\u001b[32m\"https\u001b[0m\u001b[32m://plotnine.readthedocs.io/en/stable/\"\u001b[0m\u001b[32m>\u001b[0m\u001b[32mplotnine\u001b[0m\u001b[32m<\u001b[0m\u001b[32m/a\u001b[0m\u001b[32m>\u001b[0m\u001b[32m,&nbsp;\u001b[0m\u001b[32m<\u001b[0m\u001b[32ma\u001b[0m\u001b[32m \u001b[0m\n",
       "\u001b[32mhref\u001b[0m\u001b[32m=\u001b[0m\u001b[32m\"https\u001b[0m\u001b[32m://seaborn.pydata.org/\"\u001b[0m\u001b[32m>\u001b[0m\u001b[32mseaborn\u001b[0m\u001b[32m<\u001b[0m\u001b[32m/a\u001b[0m\u001b[32m>\u001b[0m\u001b[32m,&nbsp;\u001b[0m\u001b[32m<\u001b[0m\u001b[32ma\u001b[0m\u001b[32m \u001b[0m\u001b[32mhref\u001b[0m\u001b[32m=\u001b[0m\u001b[32m\"https\u001b[0m\u001b[32m://altair-viz.github.io/\"\u001b[0m\u001b[32m>\u001b[0m\u001b[32maltair\u001b[0m\u001b[32m<\u001b[0m\u001b[32m/a\u001b[0m\u001b[32m>\u001b[0m\u001b[32m, \u001b[0m\n",
       "\u001b[32mand&nbsp;\u001b[0m\u001b[32m<\u001b[0m\u001b[32ma\u001b[0m\u001b[32m \u001b[0m\u001b[32mhref\u001b[0m\u001b[32m=\u001b[0m\u001b[32m\"https\u001b[0m\u001b[32m://plotly.com/python/\"\u001b[0m\u001b[32m>\u001b[0m\u001b[32mplotly\u001b[0m\u001b[32m<\u001b[0m\u001b[32m/a\u001b[0m\u001b[32m>\u001b[0m\u001b[32m.\u001b[0m\u001b[32m<\u001b[0m\u001b[32m/li\u001b[0m\u001b[32m>\u001b[0m\u001b[32m\\r\\n\u001b[0m\u001b[32m<\u001b[0m\u001b[32m/ul\u001b[0m\u001b[32m>\u001b[0m\u001b[32m\\r\\n&nbsp; \u001b[0m\n",
       "\u001b[32m&nbsp;\\r\\n\\r\\n\u001b[0m\u001b[32m<\u001b[0m\u001b[32mh3\u001b[0m\u001b[32m>\u001b[0m\u001b[32mPodcasts\u001b[0m\u001b[32m<\u001b[0m\u001b[32m/h3\u001b[0m\u001b[32m>\u001b[0m\u001b[32m\\r\\n\\r\\n\u001b[0m\u001b[32m<\u001b[0m\u001b[32mul\u001b[0m\u001b[32m>\u001b[0m\u001b[32m\\r\\n\\t\u001b[0m\u001b[32m<\u001b[0m\u001b[32mli\u001b[0m\u001b[32m>\u001b[0m\u001b[32m<\u001b[0m\u001b[32ma\u001b[0m\u001b[32m \u001b[0m\n",
       "\u001b[32mhref\u001b[0m\u001b[32m=\u001b[0m\u001b[32m\"https\u001b[0m\u001b[32m://forschergeist.de/podcast/fg098-philosophie-kommunizieren/\"\u001b[0m\u001b[32m>\u001b[0m\u001b[32mFG098 Philosophie \u001b[0m\n",
       "\u001b[32mkommunizieren\u001b[0m\u001b[32m<\u001b[0m\u001b[32m/a\u001b[0m\u001b[32m>\u001b[0m\u001b[32m&nbsp;\u001b[0m\u001b[32m(\u001b[0m\u001b[32m<\u001b[0m\u001b[32ma\u001b[0m\u001b[32m \u001b[0m\u001b[32mhref\u001b[0m\u001b[32m=\u001b[0m\u001b[32m\"https\u001b[0m\u001b[32m://forschergeist.de\"\u001b[0m\u001b[32m>\u001b[0m\u001b[32mForschergeist\u001b[0m\u001b[32m<\u001b[0m\u001b[32m/a\u001b[0m\u001b[32m>\u001b[0m\u001b[32m)\u001b[0m\u001b[32m | Learned about&nbsp;\u001b[0m\u001b[32m<\u001b[0m\u001b[32ma\u001b[0m\u001b[32m \u001b[0m\n",
       "\u001b[32mhref\u001b[0m\u001b[32m=\u001b[0m\u001b[32m\"https\u001b[0m\u001b[32m://denxte.de\"\u001b[0m\u001b[32m>\u001b[0m\u001b[32mdenxte\u001b[0m\u001b[32m<\u001b[0m\u001b[32m/a\u001b[0m\u001b[32m>\u001b[0m\u001b[32m&nbsp;which is about philosophy and happens to be located in my home town, so \u001b[0m\n",
       "\u001b[32mit&#39;s kind of relevant.&nbsp;\u001b[0m\u001b[32m<\u001b[0m\u001b[32m/li\u001b[0m\u001b[32m>\u001b[0m\u001b[32m\\r\\n\\t\u001b[0m\u001b[32m<\u001b[0m\u001b[32mli\u001b[0m\u001b[32m>\u001b[0m\u001b[32m<\u001b[0m\u001b[32ma\u001b[0m\u001b[32m \u001b[0m\n",
       "\u001b[32mhref\u001b[0m\u001b[32m=\u001b[0m\u001b[32m\"https\u001b[0m\u001b[32m://wrint.de/2022/10/24/wr1418-gaspreise-grossbritannien-bank-run/\"\u001b[0m\u001b[32m>\u001b[0m\u001b[32mWR1418 Gaspreise, \u001b[0m\n",
       "\u001b[32mGro&szlig;britannien, Bank Run\u001b[0m\u001b[32m<\u001b[0m\u001b[32m/a\u001b[0m\u001b[32m>\u001b[0m\u001b[32m&nbsp;\u001b[0m\u001b[32m(\u001b[0m\u001b[32m<\u001b[0m\u001b[32ma\u001b[0m\u001b[32m \u001b[0m\n",
       "\u001b[32mhref\u001b[0m\u001b[32m=\u001b[0m\u001b[32m\"https\u001b[0m\u001b[32m://wrint.de/category/wirtschaftskunde/\"\u001b[0m\u001b[32m>\u001b[0m\u001b[32mWirtschaftskunde\u001b[0m\u001b[32m<\u001b[0m\u001b[32m/a\u001b[0m\u001b[32m>\u001b[0m\u001b[32m)\u001b[0m\u001b[32m | Another great episode\u001b[0m\u001b[32m<\u001b[0m\u001b[32m/li\u001b[0m\u001b[32m>\u001b[0m\u001b[32m\\r\\n\\t\u001b[0m\u001b[32m<\u001b[0m\u001b[32mli\u001b[0m\u001b[32m>\u001b[0m\u001b[32m<\u001b[0m\u001b[32ma\u001b[0m\u001b[32m \u001b[0m\n",
       "\u001b[32mhref\u001b[0m\u001b[32m=\u001b[0m\u001b[32m\"http\u001b[0m\u001b[32m://www.bitsundso.de/bus815/1017/\"\u001b[0m\u001b[32m>\u001b[0m\u001b[32m#815 \u001b[0m\u001b[32m(\u001b[0m\u001b[32mS.S. SHIPIT\u001b[0m\u001b[32m)\u001b[0m\u001b[32m<\u001b[0m\u001b[32m/a\u001b[0m\u001b[32m>\u001b[0m\u001b[32m&nbsp;\u001b[0m\u001b[32m(\u001b[0m\u001b[32m<\u001b[0m\u001b[32ma\u001b[0m\u001b[32m \u001b[0m\u001b[32mhref\u001b[0m\u001b[32m=\u001b[0m\u001b[32m\"http\u001b[0m\u001b[32m://www.bitsundso.de\"\u001b[0m\u001b[32m>\u001b[0m\u001b[32mBits und\u001b[0m\n",
       "\u001b[32mso\u001b[0m\u001b[32m<\u001b[0m\u001b[32m/a\u001b[0m\u001b[32m>\u001b[0m\u001b[32m)\u001b[0m\u001b[32m<\u001b[0m\u001b[32m/li\u001b[0m\u001b[32m>\u001b[0m\u001b[32m\\r\\n\u001b[0m\u001b[32m<\u001b[0m\u001b[32m/ul\u001b[0m\u001b[32m>\u001b[0m\u001b[32m\\r\\n\\r\\n\u001b[0m\u001b[32m<\u001b[0m\u001b[32mh3\u001b[0m\u001b[32m>\u001b[0m\u001b[32m&nbsp; &nbsp;\u001b[0m\u001b[32m<\u001b[0m\u001b[32mbr\u001b[0m\u001b[32m /\u001b[0m\u001b[32m>\u001b[0m\u001b[32m\\r\\nOut of Context Images\u001b[0m\u001b[32m<\u001b[0m\u001b[32m/h3\u001b[0m\u001b[32m>\u001b[0m\u001b[32m\\r\\n'\u001b[0m\u001b[1m}\u001b[0m, \u001b[1m{\u001b[0m\u001b[32m'type'\u001b[0m: \u001b[32m'gallery'\u001b[0m, \n",
       "\u001b[32m'value'\u001b[0m: \u001b[1m[\u001b[0m\u001b[1m{\u001b[0m\u001b[32m'type'\u001b[0m: \u001b[32m'item'\u001b[0m, \u001b[32m'value'\u001b[0m: \u001b[1;36m1281\u001b[0m, \u001b[32m'id'\u001b[0m: \u001b[32m'88c02e62-77e9-44f2-a84e-c3d84453cb13'\u001b[0m\u001b[1m}\u001b[0m, \u001b[1m{\u001b[0m\u001b[32m'type'\u001b[0m: \u001b[32m'item'\u001b[0m, \u001b[32m'value'\u001b[0m: \n",
       "\u001b[1;36m1280\u001b[0m, \u001b[32m'id'\u001b[0m: \u001b[32m'eb5d3c2e-6e47-434a-a18a-98e2e0c5d3af'\u001b[0m\u001b[1m}\u001b[0m\u001b[1m]\u001b[0m\u001b[1m}\u001b[0m\u001b[1m]\u001b[0m, \u001b[32m'id'\u001b[0m: \u001b[32m'b5748dfe-e85e-43e0-9b23-45dede2e409c'\u001b[0m\u001b[1m}\u001b[0m\u001b[1m]\u001b[0m\n"
      ]
     },
     "metadata": {},
     "output_type": "display_data"
    }
   ],
   "source": [
    "print(post.body.raw_data)"
   ]
  },
  {
   "cell_type": "code",
   "execution_count": 50,
   "id": "9548db65-b0b5-4e1c-b655-2f7387128628",
   "metadata": {},
   "outputs": [
    {
     "ename": "NodeAlreadySaved",
     "evalue": "Attempted to add a tree node that is already in the database",
     "output_type": "error",
     "traceback": [
      "\u001b[0;31m---------------------------------------------------------------------------\u001b[0m",
      "\u001b[0;31mNodeAlreadySaved\u001b[0m                          Traceback (most recent call last)",
      "Cell \u001b[0;32mIn [50], line 1\u001b[0m\n\u001b[0;32m----> 1\u001b[0m post \u001b[38;5;241m=\u001b[39m \u001b[43mblog\u001b[49m\u001b[38;5;241;43m.\u001b[39;49m\u001b[43madd_child\u001b[49m\u001b[43m(\u001b[49m\u001b[43minstance\u001b[49m\u001b[38;5;241;43m=\u001b[39;49m\u001b[43mpost\u001b[49m\u001b[43m)\u001b[49m\n",
      "File \u001b[0;32m~/.virtualenvs/homepage/lib/python3.11/site-packages/treebeard/mp_tree.py:1083\u001b[0m, in \u001b[0;36mMP_Node.add_child\u001b[0;34m(self, **kwargs)\u001b[0m\n\u001b[1;32m   1071\u001b[0m \u001b[38;5;28;01mdef\u001b[39;00m \u001b[38;5;21madd_child\u001b[39m(\u001b[38;5;28mself\u001b[39m, \u001b[38;5;241m*\u001b[39m\u001b[38;5;241m*\u001b[39mkwargs):\n\u001b[1;32m   1072\u001b[0m     \u001b[38;5;124;03m\"\"\"\u001b[39;00m\n\u001b[1;32m   1073\u001b[0m \u001b[38;5;124;03m    Adds a child to the node.\u001b[39;00m\n\u001b[1;32m   1074\u001b[0m \n\u001b[0;32m   (...)\u001b[0m\n\u001b[1;32m   1081\u001b[0m \u001b[38;5;124;03m    :raise PathOverflow: when no more child nodes can be added\u001b[39;00m\n\u001b[1;32m   1082\u001b[0m \u001b[38;5;124;03m    \"\"\"\u001b[39;00m\n\u001b[0;32m-> 1083\u001b[0m     \u001b[38;5;28;01mreturn\u001b[39;00m \u001b[43mMP_AddChildHandler\u001b[49m\u001b[43m(\u001b[49m\u001b[38;5;28;43mself\u001b[39;49m\u001b[43m,\u001b[49m\u001b[43m \u001b[49m\u001b[38;5;241;43m*\u001b[39;49m\u001b[38;5;241;43m*\u001b[39;49m\u001b[43mkwargs\u001b[49m\u001b[43m)\u001b[49m\u001b[38;5;241;43m.\u001b[39;49m\u001b[43mprocess\u001b[49m\u001b[43m(\u001b[49m\u001b[43m)\u001b[49m\n",
      "File \u001b[0;32m~/.virtualenvs/homepage/lib/python3.11/site-packages/treebeard/mp_tree.py:358\u001b[0m, in \u001b[0;36mMP_AddChildHandler.process\u001b[0;34m(self)\u001b[0m\n\u001b[1;32m    356\u001b[0m     newobj \u001b[38;5;241m=\u001b[39m \u001b[38;5;28mself\u001b[39m\u001b[38;5;241m.\u001b[39mkwargs[\u001b[38;5;124m'\u001b[39m\u001b[38;5;124minstance\u001b[39m\u001b[38;5;124m'\u001b[39m]\n\u001b[1;32m    357\u001b[0m     \u001b[38;5;28;01mif\u001b[39;00m \u001b[38;5;129;01mnot\u001b[39;00m newobj\u001b[38;5;241m.\u001b[39m_state\u001b[38;5;241m.\u001b[39madding:\n\u001b[0;32m--> 358\u001b[0m         \u001b[38;5;28;01mraise\u001b[39;00m NodeAlreadySaved(\u001b[38;5;124m\"\u001b[39m\u001b[38;5;124mAttempted to add a tree node that is \u001b[39m\u001b[38;5;124m\"\u001b[39m\\\n\u001b[1;32m    359\u001b[0m             \u001b[38;5;124m\"\u001b[39m\u001b[38;5;124malready in the database\u001b[39m\u001b[38;5;124m\"\u001b[39m)\n\u001b[1;32m    360\u001b[0m \u001b[38;5;28;01melse\u001b[39;00m:\n\u001b[1;32m    361\u001b[0m     \u001b[38;5;66;03m# creating a new object\u001b[39;00m\n\u001b[1;32m    362\u001b[0m     newobj \u001b[38;5;241m=\u001b[39m \u001b[38;5;28mself\u001b[39m\u001b[38;5;241m.\u001b[39mnode_cls(\u001b[38;5;241m*\u001b[39m\u001b[38;5;241m*\u001b[39m\u001b[38;5;28mself\u001b[39m\u001b[38;5;241m.\u001b[39mkwargs)\n",
      "\u001b[0;31mNodeAlreadySaved\u001b[0m: Attempted to add a tree node that is already in the database"
     ]
    }
   ],
   "source": [
    "post = blog.add_child(instance=post)"
   ]
  },
  {
   "cell_type": "code",
   "execution_count": 56,
   "id": "a4cd705e-82e5-4be1-8757-3994e8d043ae",
   "metadata": {},
   "outputs": [],
   "source": [
    "def is_tag(text):\n",
    "    return text.startswith(\"{%\") and text.endswith(\"%}\")\n",
    "\n",
    "\n",
    "def tag_to_block(tag):\n",
    "    tag_name, tag_id = tag.strip(\"{%\").strip(\"%}\").split()\n",
    "    tag_id = int(tag_id)\n",
    "    return {\"type\": tag_name, \"value\": tag_id}\n",
    "\n",
    "\n",
    "def content_to_streamfield(content):\n",
    "    blocks = overview = []\n",
    "    just_tag = re.compile(r\"({% \\w+ \\d+ %})\")\n",
    "    for part in just_tag.split(content):\n",
    "        if len(part) == 0:\n",
    "            continue\n",
    "        if is_tag(part):\n",
    "            blocks.append(tag_to_block(part))\n",
    "        else:\n",
    "            blocks.append({\"type\": \"paragraph\", \"value\": part})\n",
    "    return [{\"type\": \"overview\", \"value\": overview}]"
   ]
  },
  {
   "cell_type": "code",
   "execution_count": 57,
   "id": "a302b1d4-0961-4210-a957-7175c2d57e16",
   "metadata": {},
   "outputs": [
    {
     "data": {
      "text/plain": [
       "[{'type': 'overview',\n",
       "  'value': [{'type': 'paragraph',\n",
       "    'value': '<p>Short work week. Gave me time to indulge in heavy yak shaving. At first, I tried to just make&nbsp;<a href=\"https://github.com/ephes/django-cast\">django-cast</a>&nbsp;(the develop branch) work for newer <a href=\"https://www.djangoproject.com/\">Django</a> and <a href=\"https://wagtail.org/\">Wagtail</a> versions. Then I realized I had to fix&nbsp;<a href=\"http://github.com/ephes/wagtail_srcset/issues/2\">wagtail-srcset</a>&nbsp;first and replaced&nbsp;<a href=\"https://python-poetry.org/\">poetry</a>&nbsp;with&nbsp;<a href=\"https://flit.pypa.io/en/stable/\">flit</a>&nbsp;while I&#39;m at it. Then I got lost fixing some stuff in&nbsp;<a href=\"https://github.com/ephes/kptncook/issues/18\">kptncook</a>&nbsp;before I remembered that I have to also update&nbsp;<a href=\"https://github.com/ephes/django-indieweb\">django-indieweb</a>&nbsp;and&nbsp;<a href=\"https://github.com/ephes/django_fileresponse/tree/main/\">django-fileresponse</a>&nbsp;to be able to finally fix&nbsp;<a href=\"https://github.com/ephes/django-cast\">django-cast</a>&nbsp;and make it deployable on my staging system using the latest and greatest Django and Wagtail versions. Oh and then I fixed some bootstrap stuff in the commands.py of my <a href=\"https://github.com/ephes/django-template/issues/7\">Django startproject template</a>. Maybe I&#39;ll manage to merge the develop branch of <a href=\"https://github.com/ephes/django-cast\">django-cast</a>&nbsp;back into main soon after develop started to diverge back in 2019 iirc&nbsp;because I wanted to use Wagtail as a CMS. Looking forward to meet some hairy yaks on the way.&nbsp;<br />\\r\\n&nbsp;</p>\\r\\n\\r\\n<h3>Articles</h3>\\r\\n\\r\\n<ul>\\r\\n\\t<li><a href=\"https://github.com/simonw/simonwillisonblog/issues/290\">Get a Mastodon instance running #290</a>&nbsp;| This yak is looking especially attractive atm</li>\\r\\n\\t<li><a href=\"https://aeracode.org/2022/11/03/static-dynamic-in-memory-sqlite/\">Static-Dynamic Content With In-Memory SQLite</a>&nbsp;| Hmm, cool - but I need to shave my postgres 15 yak first, sorry</li>\\r\\n\\t<li><a href=\"https://fasterthanli.me/articles/becoming-fasterthanlime-full-time\">Becoming fasterthanlime full-time</a></li>\\r\\n</ul>\\r\\n\\r\\n<h3><br />\\r\\nTwitter</h3>\\r\\n\\r\\n<ul>\\r\\n\\t<li>No twitter this week, just yaks</li>\\r\\n</ul>\\r\\n&nbsp;\\r\\n\\r\\n<h3>Weeknotes</h3>\\r\\n\\r\\n<ul>\\r\\n\\t<li><a href=\"https://luisnatera.com/posts/2022/10/2022-10-31-review/\">Week in Review 2022-10-31</a>&nbsp;| Luis</li>\\r\\n\\t<li><a href=\"https://shezi.de/weeklogs/log-2022-10-30.html\">Weeklog for Week 43: October 24 to October 30</a>&nbsp;| Johannes</li>\\r\\n</ul>\\r\\n&nbsp;\\r\\n\\r\\n<h3>Software</h3>\\r\\n\\r\\n<ul>\\r\\n\\t<li><a href=\"https://github.com/bigskysoftware/htmx/releases/tag/v1.8.4\">htmx v1.8.4 release</a></li>\\r\\n\\t<li><a href=\"https://docs.djangoproject.com/en/4.1/releases/4.1.3/\">Django 4.1.3 release</a>&nbsp;| Support for Python 3.11 + some bugfixes</li>\\r\\n\\t<li><a href=\"https://adamj.eu/tech/2022/10/26/django-upgrade-mega-release/\">django-upgrade Mega Release 1.11.0</a></li>\\r\\n\\t<li><a href=\"https://web.dev/patterns/components/\">Component patterns A collection of cross browser UI components for use in accelerating or inspiring your own design systems.</a></li>\\r\\n</ul>\\r\\n\\r\\n<h3><br />\\r\\nPodcasts</h3>\\r\\n\\r\\n<ul>\\r\\n\\t<li><a href=\"https://www1.wdr.de/mediathek/audio/wdr5/wdr5-das-philosophische-radio/audio-was-sollte-ihrer-meinung-nach-den-kapitalismus-abloesen-100.html\">Was sollte Ihrer Meinung nach den Kapitalismus abl&ouml;sen?</a>&nbsp;(<a href=\"https://www1.wdr.de/radio/wdr5/sendungen/philosophisches-radio/index.html\">Das philosophische Radio</a>)</li>\\r\\n\\t<li><a href=\"https://capitalisnt.simplecast.com/episodes/a-different-story-of-inflation-with-john-cochrane\">A Different Story Of Inflation With John Cochrane</a>&nbsp;(<a href=\"https://capitalisnt.simplecast.com\">Capitalisn&#39;t</a>) | Doh - bonds and cash aren&#39;t the same?</li>\\r\\n\\t<li><a href=\"https://www.datascience.salon/project/episode-27-probabilistic-thinking-with-james-jd-long/\">Probabilistic thinking with James &ldquo;JD&rdquo; Long</a>&nbsp;(<a href=\"https://www.datascience.salon/podcast/\">Data Science Salon</a>) | Very familiar vibes here -&nbsp;I also wonder why people get away that often with publishing just an accuracy number which is meanlingless in most contexts. On the other hand, I don&#39;t buy the economic arguments in favor of the cloud: You just have to pay for what you use. Use also have to pay for being able to use the cloud efficently, you pay for stuff you forgot to turn off and last but not least you pay for not having a competent IT people and living with grossly inefficient cloud solutions.</li>\\r\\n\\t<li><a href=\"https://djangochat.com/episodes/horserecords-andy-ide\">HorseRecords - Andy Ide</a>&nbsp;(<a href=\"https://djangochat.com\">Django Chat</a>) | Hmm, maybe need to take a closer look at&nbsp;<a href=\"https://www.django-unicorn.com/\">django-unicorn</a></li>\\r\\n\\t<li><a href=\"https://realpython.com/podcasts/rpp/130/\">Episode 130: Fostering an Internal Python Community &amp; Managing the 3.11 Release</a>&nbsp;(<a href=\"https://realpython.com/podcasts/rpp/\">The Real Python Podcast</a>) | &quot;Sometimes you have to break a few eggs to make an omelette.. and some dishes, and the restaurant&quot; 😃</li>\\r\\n</ul>\\r\\n\\r\\n<h3>&nbsp; &nbsp;<br />\\r\\nOut of Context Images</h3>\\r\\n'},\n",
       "   {'type': 'image', 'value': 1281}]}]"
      ]
     },
     "execution_count": 57,
     "metadata": {},
     "output_type": "execute_result"
    }
   ],
   "source": [
    "content_to_streamfield(l_post[\"content\"])"
   ]
  },
  {
   "cell_type": "code",
   "execution_count": 45,
   "id": "b8c67000-d608-415d-a297-f8def3f7d849",
   "metadata": {},
   "outputs": [
    {
     "data": {
      "text/plain": [
       "'3>\\r\\n{% image 1281 %}'"
      ]
     },
     "execution_count": 45,
     "metadata": {},
     "output_type": "execute_result"
    }
   ],
   "source": [
    "l_post[\"content\"][-20:]"
   ]
  },
  {
   "cell_type": "code",
   "execution_count": 29,
   "id": "c52491a1-73bf-4e93-ab90-c4e30a996eab",
   "metadata": {},
   "outputs": [],
   "source": [
    "post = blog.add_child(instance=post)"
   ]
  },
  {
   "cell_type": "code",
   "execution_count": 14,
   "id": "66cd8c6d-8cf4-4e16-a550-3a2b956090e7",
   "metadata": {},
   "outputs": [
    {
     "data": {
      "text/plain": [
       "datetime.datetime(2022, 11, 7, 0, 0, tzinfo=datetime.timezone.utc)"
      ]
     },
     "execution_count": 14,
     "metadata": {},
     "output_type": "execute_result"
    }
   ],
   "source": [
    "post.visible_date"
   ]
  },
  {
   "cell_type": "code",
   "execution_count": 17,
   "id": "d2563aeb-8fc8-4ba1-a2ba-b1dceabd84f3",
   "metadata": {},
   "outputs": [],
   "source": [
    "post.delete()"
   ]
  },
  {
   "cell_type": "markdown",
   "id": "49325a68-984f-4c82-9e7a-d753dd80cc22",
   "metadata": {},
   "source": [
    "# Get Templatetags from Content"
   ]
  },
  {
   "cell_type": "code",
   "execution_count": 39,
   "id": "613054bf-f356-41ea-96eb-9ed4ab77f698",
   "metadata": {},
   "outputs": [
    {
     "data": {
      "text/plain": [
       "['foo ', '{% asdf 34 %}', ' bar']"
      ]
     },
     "execution_count": 39,
     "metadata": {},
     "output_type": "execute_result"
    }
   ],
   "source": [
    "just_tag = re.compile(r\"({% \\w+ \\d+ %})\")\n",
    "just_tag.split(\"foo {% asdf 34 %} bar\")"
   ]
  },
  {
   "cell_type": "code",
   "execution_count": 38,
   "id": "33ce3614-3c43-4b07-bb2f-207b610a32ae",
   "metadata": {},
   "outputs": [],
   "source": [
    "#split_tags.split(legacy[\"content\"])"
   ]
  },
  {
   "cell_type": "code",
   "execution_count": 44,
   "id": "ac71f1f1-0910-4ae4-9d28-18bbbe9ef355",
   "metadata": {},
   "outputs": [
    {
     "data": {
      "text/html": [
       "<pre style=\"white-space:pre;overflow-x:auto;line-height:normal;font-family:Menlo,'DejaVu Sans Mono',consolas,'Courier New',monospace\">asdf <span style=\"color: #008080; text-decoration-color: #008080; font-weight: bold\">34</span>\n",
       "</pre>\n"
      ],
      "text/plain": [
       "asdf \u001b[1;36m34\u001b[0m\n"
      ]
     },
     "metadata": {},
     "output_type": "display_data"
    }
   ],
   "source": [
    "parse_tag = re.compile(r\"{% (\\w+) (\\d+) %}\")\n",
    "[(tag_name, tag_pk)] = parse_tag.findall(\"{% asdf 34 %}\")\n",
    "print(tag_name, tag_pk)"
   ]
  },
  {
   "cell_type": "code",
   "execution_count": 42,
   "id": "aa1bcdca-683e-4c56-b219-b557b2c63871",
   "metadata": {},
   "outputs": [
    {
     "data": {
      "text/plain": [
       "[]"
      ]
     },
     "execution_count": 42,
     "metadata": {},
     "output_type": "execute_result"
    }
   ],
   "source": [
    "parse_tag.findall(\"asdf\")"
   ]
  },
  {
   "cell_type": "code",
   "execution_count": 21,
   "id": "b0b188e1-750e-4022-825a-c5b8f109435e",
   "metadata": {},
   "outputs": [
    {
     "data": {
      "text/plain": [
       "[('image', '1281')]"
      ]
     },
     "execution_count": 21,
     "metadata": {},
     "output_type": "execute_result"
    }
   ],
   "source": [
    "tags_regex.findall(legacy[\"content\"])"
   ]
  },
  {
   "cell_type": "code",
   "execution_count": 51,
   "id": "9c6cc32f-e1ee-49e1-a46b-6a331a507717",
   "metadata": {},
   "outputs": [
    {
     "data": {
      "text/html": [
       "<pre style=\"white-space:pre;overflow-x:auto;line-height:normal;font-family:Menlo,'DejaVu Sans Mono',consolas,'Courier New',monospace\">image <span style=\"color: #008080; text-decoration-color: #008080; font-weight: bold\">1281</span>\n",
       "</pre>\n"
      ],
      "text/plain": [
       "image \u001b[1;36m1281\u001b[0m\n"
      ]
     },
     "metadata": {},
     "output_type": "display_data"
    }
   ],
   "source": [
    "tag_name, tag_id = \"{% image 1281 %}\".strip(\"{%\").strip(\"%}\").split()\n",
    "tag_id = int(tag_id)\n",
    "print(tag_name, tag_id)"
   ]
  },
  {
   "cell_type": "code",
   "execution_count": 20,
   "id": "2ecffa76-6be9-4e2e-b8ef-84121766d3e7",
   "metadata": {},
   "outputs": [
    {
     "data": {
      "text/plain": [
       "6"
      ]
     },
     "execution_count": 20,
     "metadata": {},
     "output_type": "execute_result"
    }
   ],
   "source": [
    "Page.objects.last().pk"
   ]
  },
  {
   "cell_type": "code",
   "execution_count": 30,
   "id": "902117c7-c48e-49d9-8efc-3d031859d0ed",
   "metadata": {},
   "outputs": [
    {
     "data": {
      "text/html": [
       "<pre style=\"white-space:pre;overflow-x:auto;line-height:normal;font-family:Menlo,'DejaVu Sans Mono',consolas,'Courier New',monospace\"><span style=\"font-weight: bold\">[{</span><span style=\"color: #008000; text-decoration-color: #008000\">'type'</span>: <span style=\"color: #008000; text-decoration-color: #008000\">'overview'</span>, <span style=\"color: #008000; text-decoration-color: #008000\">'value'</span>: <span style=\"font-weight: bold\">[{</span><span style=\"color: #008000; text-decoration-color: #008000\">'type'</span>: <span style=\"color: #008000; text-decoration-color: #008000\">'heading'</span>, <span style=\"color: #008000; text-decoration-color: #008000\">'value'</span>: <span style=\"color: #008000; text-decoration-color: #008000\">'asdf'</span>, <span style=\"color: #008000; text-decoration-color: #008000\">'id'</span>: <span style=\"color: #008000; text-decoration-color: #008000\">'a5b3c0cc-889b-4b57-bd81-3a4bed41528b'</span><span style=\"font-weight: bold\">}</span>,\n",
       "<span style=\"font-weight: bold\">{</span><span style=\"color: #008000; text-decoration-color: #008000\">'type'</span>: <span style=\"color: #008000; text-decoration-color: #008000\">'gallery'</span>, <span style=\"color: #008000; text-decoration-color: #008000\">'value'</span>: <span style=\"font-weight: bold\">[{</span><span style=\"color: #008000; text-decoration-color: #008000\">'type'</span>: <span style=\"color: #008000; text-decoration-color: #008000\">'item'</span>, <span style=\"color: #008000; text-decoration-color: #008000\">'value'</span>: <span style=\"color: #008080; text-decoration-color: #008080; font-weight: bold\">1281</span>, <span style=\"color: #008000; text-decoration-color: #008000\">'id'</span>: <span style=\"color: #008000; text-decoration-color: #008000\">'88c02e62-77e9-44f2-a84e-c3d84453cb13'</span><span style=\"font-weight: bold\">}</span>, \n",
       "<span style=\"font-weight: bold\">{</span><span style=\"color: #008000; text-decoration-color: #008000\">'type'</span>: <span style=\"color: #008000; text-decoration-color: #008000\">'item'</span>, <span style=\"color: #008000; text-decoration-color: #008000\">'value'</span>: <span style=\"color: #008080; text-decoration-color: #008080; font-weight: bold\">1280</span>, <span style=\"color: #008000; text-decoration-color: #008000\">'id'</span>: <span style=\"color: #008000; text-decoration-color: #008000\">'eb5d3c2e-6e47-434a-a18a-98e2e0c5d3af'</span><span style=\"font-weight: bold\">}]</span>, <span style=\"color: #008000; text-decoration-color: #008000\">'id'</span>: \n",
       "<span style=\"color: #008000; text-decoration-color: #008000\">'2a30b103-f138-488d-aa73-713b1de7d5ef'</span><span style=\"font-weight: bold\">}]</span>, <span style=\"color: #008000; text-decoration-color: #008000\">'id'</span>: <span style=\"color: #008000; text-decoration-color: #008000\">'56fa286a-3d6e-46c1-8000-b29f0cc9e847'</span><span style=\"font-weight: bold\">}]</span>\n",
       "</pre>\n"
      ],
      "text/plain": [
       "\u001b[1m[\u001b[0m\u001b[1m{\u001b[0m\u001b[32m'type'\u001b[0m: \u001b[32m'overview'\u001b[0m, \u001b[32m'value'\u001b[0m: \u001b[1m[\u001b[0m\u001b[1m{\u001b[0m\u001b[32m'type'\u001b[0m: \u001b[32m'heading'\u001b[0m, \u001b[32m'value'\u001b[0m: \u001b[32m'asdf'\u001b[0m, \u001b[32m'id'\u001b[0m: \u001b[32m'a5b3c0cc-889b-4b57-bd81-3a4bed41528b'\u001b[0m\u001b[1m}\u001b[0m,\n",
       "\u001b[1m{\u001b[0m\u001b[32m'type'\u001b[0m: \u001b[32m'gallery'\u001b[0m, \u001b[32m'value'\u001b[0m: \u001b[1m[\u001b[0m\u001b[1m{\u001b[0m\u001b[32m'type'\u001b[0m: \u001b[32m'item'\u001b[0m, \u001b[32m'value'\u001b[0m: \u001b[1;36m1281\u001b[0m, \u001b[32m'id'\u001b[0m: \u001b[32m'88c02e62-77e9-44f2-a84e-c3d84453cb13'\u001b[0m\u001b[1m}\u001b[0m, \n",
       "\u001b[1m{\u001b[0m\u001b[32m'type'\u001b[0m: \u001b[32m'item'\u001b[0m, \u001b[32m'value'\u001b[0m: \u001b[1;36m1280\u001b[0m, \u001b[32m'id'\u001b[0m: \u001b[32m'eb5d3c2e-6e47-434a-a18a-98e2e0c5d3af'\u001b[0m\u001b[1m}\u001b[0m\u001b[1m]\u001b[0m, \u001b[32m'id'\u001b[0m: \n",
       "\u001b[32m'2a30b103-f138-488d-aa73-713b1de7d5ef'\u001b[0m\u001b[1m}\u001b[0m\u001b[1m]\u001b[0m, \u001b[32m'id'\u001b[0m: \u001b[32m'56fa286a-3d6e-46c1-8000-b29f0cc9e847'\u001b[0m\u001b[1m}\u001b[0m\u001b[1m]\u001b[0m\n"
      ]
     },
     "metadata": {},
     "output_type": "display_data"
    }
   ],
   "source": [
    "print(Page.objects.get(slug=\"gallerie-test\").post.body.raw_data)"
   ]
  },
  {
   "cell_type": "code",
   "execution_count": 44,
   "id": "d464d0d7-505d-4a66-aba1-8e6f66b1143e",
   "metadata": {},
   "outputs": [
    {
     "data": {
      "text/plain": [
       "{'type': 'gallery',\n",
       " 'value': [{'type': 'item',\n",
       "   'value': 1281,\n",
       "   'id': '88c02e62-77e9-44f2-a84e-c3d84453cb13'},\n",
       "  {'type': 'item',\n",
       "   'value': 1280,\n",
       "   'id': 'eb5d3c2e-6e47-434a-a18a-98e2e0c5d3af'}]}"
      ]
     },
     "execution_count": 44,
     "metadata": {},
     "output_type": "execute_result"
    }
   ],
   "source": [
    "{\n",
    "    \"type\": \"gallery\",\n",
    "    \"value\": [\n",
    "        {\"type\": \"item\", \"value\": 1281, \"id\": \"88c02e62-77e9-44f2-a84e-c3d84453cb13\"},\n",
    "        {\"type\": \"item\", \"value\": 1280, \"id\": \"eb5d3c2e-6e47-434a-a18a-98e2e0c5d3af\"},\n",
    "    ],\n",
    "}"
   ]
  },
  {
   "cell_type": "code",
   "execution_count": 25,
   "id": "9ba0a405-fbfa-4647-a536-6a4e28322e15",
   "metadata": {},
   "outputs": [
    {
     "data": {
      "text/plain": [
       "<PageQuerySet [<Page: Root>, <Page: Welcome to your new Wagtail site!>, <Page: Claas sagt Hallo>, <Page: Ephes Blog>, <Page: Gallerie-Test>, <Page: sadf>]>"
      ]
     },
     "execution_count": 25,
     "metadata": {},
     "output_type": "execute_result"
    }
   ],
   "source": [
    "Page.objects.all()"
   ]
  },
  {
   "cell_type": "code",
   "execution_count": 46,
   "id": "d689c4b5-6775-4eed-8962-6b2234a79c9a",
   "metadata": {},
   "outputs": [
    {
     "data": {
      "text/plain": [
       "{'type': 'gallery',\n",
       " 'value': [{'type': 'item',\n",
       "   'value': 1281,\n",
       "   'id': '88c02e62-77e9-44f2-a84e-c3d84453cb13'},\n",
       "  {'type': 'item',\n",
       "   'value': 1280,\n",
       "   'id': 'eb5d3c2e-6e47-434a-a18a-98e2e0c5d3af'}]}"
      ]
     },
     "execution_count": 46,
     "metadata": {},
     "output_type": "execute_result"
    }
   ],
   "source": [
    "post.body.raw_data[0][\"value\"][-1]"
   ]
  },
  {
   "cell_type": "code",
   "execution_count": 49,
   "id": "1e9e1c85-ef8b-4fdd-a753-eebca9d1403a",
   "metadata": {},
   "outputs": [],
   "source": [
    "post.body.raw_data[0][\"value\"][-1] = {\n",
    "    \"type\": \"gallery\",\n",
    "    \"value\": [\n",
    "        {\"type\": \"item\", \"value\": 1281, \"id\": \"88c02e62-77e9-44f2-a84e-c3d84453cb13\"},\n",
    "        {\"type\": \"item\", \"value\": 1280, \"id\": \"eb5d3c2e-6e47-434a-a18a-98e2e0c5d3af\"},\n",
    "    ],\n",
    "}"
   ]
  },
  {
   "cell_type": "code",
   "execution_count": 51,
   "id": "934f57b1-e67e-4195-873b-8dcfdb697bd5",
   "metadata": {},
   "outputs": [
    {
     "data": {
      "text/plain": [
       "<PageQuerySet [<Post: Gallerie-Test>]>"
      ]
     },
     "execution_count": 51,
     "metadata": {},
     "output_type": "execute_result"
    }
   ],
   "source": [
    "Post.objects.all()"
   ]
  },
  {
   "cell_type": "code",
   "execution_count": null,
   "id": "7fa8af5a-da8b-4ce8-94b9-9a609539e75a",
   "metadata": {},
   "outputs": [],
   "source": []
  }
 ],
 "metadata": {
  "kernelspec": {
   "display_name": "Django Kernel",
   "language": "python",
   "name": "django_extensions"
  },
  "language_info": {
   "codemirror_mode": {
    "name": "ipython",
    "version": 3
   },
   "file_extension": ".py",
   "mimetype": "text/x-python",
   "name": "python",
   "nbconvert_exporter": "python",
   "pygments_lexer": "ipython3",
   "version": "3.11.0"
  }
 },
 "nbformat": 4,
 "nbformat_minor": 5
}
