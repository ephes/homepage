{
 "cells": [
  {
   "cell_type": "code",
   "execution_count": 1,
   "id": "34eb4c33-b178-4932-8131-bbbac2feed77",
   "metadata": {},
   "outputs": [],
   "source": [
    "import requests"
   ]
  },
  {
   "cell_type": "code",
   "execution_count": 2,
   "id": "884c0505-40f2-4510-9cbe-bfc3dd6aed08",
   "metadata": {},
   "outputs": [],
   "source": [
    "local_feed_url = \"http://localhost:8000/blogs/ephes_blog/feed/rss.xml\"\n",
    "orig_feed_url = \"https://wersdoerfer.de/blogs/ephes_blog/feed/rss.xml\"\n",
    "new_feed_url = \"https://homepage.staging.django-cast.com/blogs/ephes_blog/feed/rss.xml\""
   ]
  },
  {
   "cell_type": "code",
   "execution_count": 3,
   "id": "98b8dd5b-ac95-4f13-97eb-6c1e1847e00f",
   "metadata": {},
   "outputs": [
    {
     "name": "stdout",
     "output_type": "stream",
     "text": [
      "CPU times: user 37 ms, sys: 9.97 ms, total: 47 ms\n",
      "Wall time: 2.3 s\n"
     ]
    }
   ],
   "source": [
    "%%time\n",
    "r1 = requests.get(orig_feed_url)"
   ]
  },
  {
   "cell_type": "code",
   "execution_count": 4,
   "id": "4e2b035b-fb14-4356-b6eb-a755ee943c35",
   "metadata": {},
   "outputs": [
    {
     "name": "stdout",
     "output_type": "stream",
     "text": [
      "CPU times: user 24.4 ms, sys: 7.24 ms, total: 31.7 ms\n",
      "Wall time: 290 ms\n"
     ]
    }
   ],
   "source": [
    "%%time\n",
    "r2 = requests.get(new_feed_url)"
   ]
  },
  {
   "cell_type": "code",
   "execution_count": 5,
   "id": "e51c1c57-400a-4f9d-a4fa-011a57ff225d",
   "metadata": {},
   "outputs": [
    {
     "name": "stdout",
     "output_type": "stream",
     "text": [
      "741737\n",
      "752865\n"
     ]
    }
   ],
   "source": [
    "print(len(r1.content))\n",
    "print(len(r2.content))"
   ]
  },
  {
   "cell_type": "code",
   "execution_count": 7,
   "id": "0da93ffd-5154-4579-a3c1-d1e96def969a",
   "metadata": {},
   "outputs": [],
   "source": [
    "post = Post.objects.first()"
   ]
  },
  {
   "cell_type": "code",
   "execution_count": 8,
   "id": "54f1ce31-704a-40a5-8706-decb2a299898",
   "metadata": {},
   "outputs": [
    {
     "data": {
      "text/plain": [
       "'http://localhost/blogs/das_claas_blog/Zu-ersten-Mal-etwas-Mohrenbrei/'"
      ]
     },
     "execution_count": 8,
     "metadata": {},
     "output_type": "execute_result"
    }
   ],
   "source": [
    "post.get_full_url()"
   ]
  },
  {
   "cell_type": "code",
   "execution_count": 9,
   "id": "b4b4b0b0-7356-47b9-b425-07cd042e401c",
   "metadata": {},
   "outputs": [
    {
     "data": {
      "text/plain": [
       "'/blogs/das_claas_blog/Zu-ersten-Mal-etwas-Mohrenbrei/'"
      ]
     },
     "execution_count": 9,
     "metadata": {},
     "output_type": "execute_result"
    }
   ],
   "source": [
    "post.url"
   ]
  },
  {
   "cell_type": "code",
   "execution_count": null,
   "id": "17652ec5-31fc-4f51-9b21-582ddb5979ce",
   "metadata": {},
   "outputs": [],
   "source": []
  }
 ],
 "metadata": {
  "kernelspec": {
   "display_name": "Django Kernel",
   "language": "python",
   "name": "django_extensions"
  },
  "language_info": {
   "codemirror_mode": {
    "name": "ipython",
    "version": 3
   },
   "file_extension": ".py",
   "mimetype": "text/x-python",
   "name": "python",
   "nbconvert_exporter": "python",
   "pygments_lexer": "ipython3",
   "version": "3.11.0"
  }
 },
 "nbformat": 4,
 "nbformat_minor": 5
}
