{
 "cells": [
  {
   "cell_type": "code",
   "execution_count": 1,
   "id": "4546675b-1c3a-451f-a4a9-ba8c5c05d956",
   "metadata": {
    "tags": []
   },
   "outputs": [
    {
     "name": "stdout",
     "output_type": "stream",
     "text": [
      "Requirement already satisfied: httpx in /Users/jochen/.virtualenvs/homepage/lib/python3.12/site-packages (0.27.0)\n",
      "Requirement already satisfied: anyio in /Users/jochen/.virtualenvs/homepage/lib/python3.12/site-packages (from httpx) (3.7.1)\n",
      "Requirement already satisfied: certifi in /Users/jochen/.virtualenvs/homepage/lib/python3.12/site-packages (from httpx) (2024.2.2)\n",
      "Requirement already satisfied: httpcore==1.* in /Users/jochen/.virtualenvs/homepage/lib/python3.12/site-packages (from httpx) (1.0.5)\n",
      "Requirement already satisfied: idna in /Users/jochen/.virtualenvs/homepage/lib/python3.12/site-packages (from httpx) (3.6)\n",
      "Requirement already satisfied: sniffio in /Users/jochen/.virtualenvs/homepage/lib/python3.12/site-packages (from httpx) (1.3.1)\n",
      "Requirement already satisfied: h11<0.15,>=0.13 in /Users/jochen/.virtualenvs/homepage/lib/python3.12/site-packages (from httpcore==1.*->httpx) (0.14.0)\n",
      "Note: you may need to restart the kernel to use updated packages.\n"
     ]
    }
   ],
   "source": [
    "%pip install httpx"
   ]
  },
  {
   "cell_type": "code",
   "execution_count": 34,
   "id": "fdd1c5e7-035e-4cd4-8d62-b1cd1f875f15",
   "metadata": {
    "tags": []
   },
   "outputs": [],
   "source": [
    "import httpx\n",
    "\n",
    "from pathlib import Path"
   ]
  },
  {
   "cell_type": "markdown",
   "id": "23bf08ed-145c-4776-9491-fcfde5733388",
   "metadata": {},
   "source": [
    "# Comparing prod and dev\n",
    "\n",
    "Ok, not much difference here."
   ]
  },
  {
   "cell_type": "code",
   "execution_count": 20,
   "id": "f8efc4ff-27e3-45cb-b4cd-241782ad8eea",
   "metadata": {
    "tags": []
   },
   "outputs": [],
   "source": [
    "prod = \"https://wersdoerfer.de\"\n",
    "staging = \"https://homepage.staging.django-cast.com\"\n",
    "dev = \"http://localhost:8000\""
   ]
  },
  {
   "cell_type": "markdown",
   "id": "4536160f-b75f-4bb9-8abc-68064f9a69c6",
   "metadata": {},
   "source": [
    "# For About"
   ]
  },
  {
   "cell_type": "code",
   "execution_count": 23,
   "id": "698000b3-bbca-4523-8d5a-f41619ddf037",
   "metadata": {
    "tags": []
   },
   "outputs": [
    {
     "name": "stdout",
     "output_type": "stream",
     "text": [
      "2765\n",
      "CPU times: user 19.5 ms, sys: 4.26 ms, total: 23.8 ms\n",
      "Wall time: 126 ms\n"
     ]
    }
   ],
   "source": [
    "%%time\n",
    "r = httpx.get(f\"{prod}/about/\")\n",
    "r.raise_for_status()\n",
    "content = r.text\n",
    "print(len(content))"
   ]
  },
  {
   "cell_type": "code",
   "execution_count": 24,
   "id": "e3210708-54d0-4ac2-9ad8-d3eb31edbfe8",
   "metadata": {
    "tags": []
   },
   "outputs": [
    {
     "name": "stdout",
     "output_type": "stream",
     "text": [
      "2765\n",
      "CPU times: user 23 ms, sys: 3.5 ms, total: 26.5 ms\n",
      "Wall time: 115 ms\n"
     ]
    }
   ],
   "source": [
    "%%time\n",
    "r = httpx.get(f\"{staging}/about/\")\n",
    "r.raise_for_status()\n",
    "content = r.text\n",
    "print(len(content))"
   ]
  },
  {
   "cell_type": "code",
   "execution_count": 25,
   "id": "d8a32449-9fa1-429f-9c5c-4e0be20a397f",
   "metadata": {
    "tags": []
   },
   "outputs": [
    {
     "name": "stdout",
     "output_type": "stream",
     "text": [
      "12477\n",
      "CPU times: user 14.9 ms, sys: 3.23 ms, total: 18.2 ms\n",
      "Wall time: 77.9 ms\n"
     ]
    }
   ],
   "source": [
    "%%time\n",
    "r = httpx.get(f\"{dev}/about/\")\n",
    "r.raise_for_status()\n",
    "content = r.text\n",
    "print(len(content))"
   ]
  },
  {
   "cell_type": "code",
   "execution_count": 22,
   "id": "6353d9f9-3ae4-4cc8-a281-f0cc51dd88b0",
   "metadata": {
    "tags": []
   },
   "outputs": [
    {
     "data": {
      "text/plain": [
       "'/about/'"
      ]
     },
     "execution_count": 22,
     "metadata": {},
     "output_type": "execute_result"
    }
   ],
   "source": [
    "reverse(\"about\")"
   ]
  },
  {
   "cell_type": "markdown",
   "id": "4838932c-7de0-48f5-aa04-01c3ed01563c",
   "metadata": {},
   "source": [
    "# For a Blog Index Page"
   ]
  },
  {
   "cell_type": "code",
   "execution_count": 35,
   "id": "0388a9cd-8f2f-4113-8139-abbba83042b6",
   "metadata": {
    "tags": []
   },
   "outputs": [],
   "source": [
    "# blog_slug = \"ephes_blog\"\n",
    "blog_slug = \"das_claas_und_nora_blog\""
   ]
  },
  {
   "cell_type": "code",
   "execution_count": 36,
   "id": "1874c6f6-3bb8-44e6-bf15-a3da908f2e42",
   "metadata": {
    "tags": []
   },
   "outputs": [
    {
     "name": "stdout",
     "output_type": "stream",
     "text": [
      "120531\n",
      "CPU times: user 23 ms, sys: 9.86 ms, total: 32.8 ms\n",
      "Wall time: 5.5 s\n"
     ]
    }
   ],
   "source": [
    "%%time\n",
    "r = httpx.get(f\"{prod}/blogs/{blog_slug}/\", timeout=60)\n",
    "r.raise_for_status()\n",
    "content = r.text\n",
    "print(len(content))"
   ]
  },
  {
   "cell_type": "code",
   "execution_count": 38,
   "id": "356fc438-f05b-4520-8782-3a443e61d011",
   "metadata": {
    "tags": []
   },
   "outputs": [],
   "source": [
    "with Path(\"/tmp/production.html\").open(\"w\") as f:\n",
    "    f.write(content)"
   ]
  },
  {
   "cell_type": "code",
   "execution_count": 39,
   "id": "02a9d93d-acfd-4d68-beea-005e3f77de82",
   "metadata": {
    "tags": []
   },
   "outputs": [
    {
     "name": "stdout",
     "output_type": "stream",
     "text": [
      "110135\n",
      "CPU times: user 23.5 ms, sys: 4.63 ms, total: 28.1 ms\n",
      "Wall time: 344 ms\n"
     ]
    }
   ],
   "source": [
    "%%time\n",
    "r = httpx.get(f\"{staging}/blogs/{blog_slug}/\", timeout=60)\n",
    "r.raise_for_status()\n",
    "content = r.text\n",
    "print(len(content))"
   ]
  },
  {
   "cell_type": "code",
   "execution_count": 41,
   "id": "7aeacc7f-6508-40ec-a793-f10a1f45f6c2",
   "metadata": {
    "tags": []
   },
   "outputs": [],
   "source": [
    "with Path(\"/tmp/staging.html\").open(\"w\") as f:\n",
    "    f.write(content)"
   ]
  },
  {
   "cell_type": "code",
   "execution_count": 18,
   "id": "8795aa0e-28a1-454f-b17c-e9269dc4b132",
   "metadata": {
    "tags": []
   },
   "outputs": [
    {
     "name": "stdout",
     "output_type": "stream",
     "text": [
      "61106\n",
      "CPU times: user 17.5 ms, sys: 3.65 ms, total: 21.1 ms\n",
      "Wall time: 432 ms\n"
     ]
    }
   ],
   "source": [
    "%%time\n",
    "r = httpx.get(f\"{dev}/blogs/{blog_slug}/\")\n",
    "r.raise_for_status()\n",
    "content = r.text\n",
    "print(len(content))"
   ]
  },
  {
   "cell_type": "code",
   "execution_count": 19,
   "id": "3ce5260c-6b37-4df0-888a-da4108eaaa0e",
   "metadata": {
    "tags": []
   },
   "outputs": [
    {
     "name": "stdout",
     "output_type": "stream",
     "text": [
      "0\n",
      "CPU times: user 19.3 ms, sys: 3.6 ms, total: 22.9 ms\n",
      "Wall time: 195 ms\n"
     ]
    }
   ],
   "source": [
    "%%time\n",
    "r = httpx.head(f\"{dev}/blogs/{blog_slug}/\")\n",
    "r.raise_for_status()\n",
    "content = r.text\n",
    "print(len(content))"
   ]
  },
  {
   "cell_type": "code",
   "execution_count": 10,
   "id": "549e6c35-9fe0-40c1-abac-177fc03f5b82",
   "metadata": {
    "tags": []
   },
   "outputs": [
    {
     "name": "stdout",
     "output_type": "stream",
     "text": [
      "http://localhost:8000/blogs/das_claas_und_nora_blog/\n"
     ]
    }
   ],
   "source": [
    "print(f\"{dev}/blogs/{blog_slug}/\")"
   ]
  },
  {
   "cell_type": "markdown",
   "id": "1e13cc20-6c22-4a7d-af84-7e813e9483ac",
   "metadata": {},
   "source": [
    "# What About the Feed?"
   ]
  },
  {
   "cell_type": "code",
   "execution_count": 32,
   "id": "0a926d2d-d922-4439-ab7f-e76d1a28eb31",
   "metadata": {
    "tags": []
   },
   "outputs": [
    {
     "name": "stdout",
     "output_type": "stream",
     "text": [
      "Production!\n",
      "5278134\n",
      "CPU times: user 39.2 ms, sys: 22.8 ms, total: 62 ms\n",
      "Wall time: 4.14 s\n"
     ]
    }
   ],
   "source": [
    "%%time\n",
    "print(\"Production!\")\n",
    "r = httpx.get(f\"{prod}/blogs/{blog_slug}/feed/rss.xml\")\n",
    "r.raise_for_status()\n",
    "content = r.text\n",
    "print(len(content))"
   ]
  },
  {
   "cell_type": "code",
   "execution_count": 12,
   "id": "d6e45f9e-4f8b-46cb-918b-ac53599b81e3",
   "metadata": {
    "tags": []
   },
   "outputs": [
    {
     "name": "stdout",
     "output_type": "stream",
     "text": [
      "Staging!\n",
      "5276223\n",
      "CPU times: user 63.8 ms, sys: 16.2 ms, total: 80 ms\n",
      "Wall time: 3.14 s\n"
     ]
    }
   ],
   "source": [
    "%%time\n",
    "print(\"Staging!\")\n",
    "r = httpx.get(f\"{staging}/blogs/{blog_slug}/feed/rss.xml\", timeout=600)\n",
    "r.raise_for_status()\n",
    "content = r.text\n",
    "print(len(content))"
   ]
  },
  {
   "cell_type": "code",
   "execution_count": 13,
   "id": "42534ba7-ebae-4de6-b3ea-271e14f59c29",
   "metadata": {
    "tags": []
   },
   "outputs": [
    {
     "name": "stdout",
     "output_type": "stream",
     "text": [
      "Development!\n",
      "5276222\n",
      "CPU times: user 32.8 ms, sys: 12.5 ms, total: 45.3 ms\n",
      "Wall time: 7.15 s\n"
     ]
    }
   ],
   "source": [
    "%%time\n",
    "print(\"Development!\")\n",
    "r = httpx.get(f\"{dev}/blogs/{blog_slug}/feed/rss.xml\", timeout=60)\n",
    "r.raise_for_status()\n",
    "content = r.text\n",
    "print(len(content))"
   ]
  },
  {
   "cell_type": "code",
   "execution_count": 14,
   "id": "a46d3c86-8503-45cd-8c98-df3129e8fc38",
   "metadata": {
    "tags": []
   },
   "outputs": [
    {
     "name": "stdout",
     "output_type": "stream",
     "text": [
      "das_claas_und_nora_blog\n"
     ]
    }
   ],
   "source": [
    "print(blog_slug)"
   ]
  },
  {
   "cell_type": "markdown",
   "id": "39f0b5e0-2624-4d33-91bd-683329618cf2",
   "metadata": {},
   "source": [
    "## Claas Blog"
   ]
  },
  {
   "cell_type": "code",
   "execution_count": 29,
   "id": "0587357f-2086-48c4-b8e7-df1aa7b58a43",
   "metadata": {
    "tags": []
   },
   "outputs": [],
   "source": [
    "blog_slug = \"das_claas_und_nora_blog\""
   ]
  },
  {
   "cell_type": "code",
   "execution_count": 30,
   "id": "049967e4-e532-496d-9663-5b5761ee2aae",
   "metadata": {
    "tags": []
   },
   "outputs": [
    {
     "name": "stdout",
     "output_type": "stream",
     "text": [
      "Development!\n",
      "5278133\n",
      "CPU times: user 29.1 ms, sys: 11.9 ms, total: 41 ms\n",
      "Wall time: 69.4 ms\n"
     ]
    }
   ],
   "source": [
    "%%time\n",
    "print(\"Development!\")\n",
    "r = httpx.get(f\"{dev}/blogs/{blog_slug}/feed/rss.xml\", timeout=60)\n",
    "r.raise_for_status()\n",
    "content = r.text\n",
    "print(len(content))"
   ]
  },
  {
   "cell_type": "code",
   "execution_count": 31,
   "id": "748d7cf9-fa15-4943-a7f9-4c841e15abdf",
   "metadata": {
    "tags": []
   },
   "outputs": [
    {
     "name": "stdout",
     "output_type": "stream",
     "text": [
      "Staging!\n",
      "5278134\n",
      "CPU times: user 30.3 ms, sys: 10.3 ms, total: 40.5 ms\n",
      "Wall time: 230 ms\n"
     ]
    }
   ],
   "source": [
    "%%time\n",
    "print(\"Staging!\")\n",
    "r = httpx.get(f\"{staging}/blogs/{blog_slug}/feed/rss.xml\", timeout=600)\n",
    "r.raise_for_status()\n",
    "content = r.text\n",
    "print(len(content))"
   ]
  },
  {
   "cell_type": "code",
   "execution_count": 32,
   "id": "01525464-f207-4179-b97d-eaffd3971469",
   "metadata": {
    "tags": []
   },
   "outputs": [
    {
     "name": "stdout",
     "output_type": "stream",
     "text": [
      "Production!\n",
      "5278134\n",
      "CPU times: user 19.3 ms, sys: 6.9 ms, total: 26.2 ms\n",
      "Wall time: 229 ms\n"
     ]
    }
   ],
   "source": [
    "%%time\n",
    "print(\"Production!\")\n",
    "r = httpx.get(f\"{prod}/blogs/{blog_slug}/feed/rss.xml\", timeout=600)\n",
    "r.raise_for_status()\n",
    "content = r.text\n",
    "print(len(content))"
   ]
  },
  {
   "cell_type": "markdown",
   "id": "61dfab65-c53d-4ab2-b398-6786aff7036a",
   "metadata": {},
   "source": [
    "## What about the feed call?"
   ]
  },
  {
   "cell_type": "code",
   "execution_count": 33,
   "id": "e7e1de94-eb29-4149-af62-45ef0e4e7f54",
   "metadata": {
    "tags": []
   },
   "outputs": [],
   "source": [
    "from django.test.client import RequestFactory\n",
    "from cast.feeds import LatestEntriesFeed"
   ]
  },
  {
   "cell_type": "code",
   "execution_count": 34,
   "id": "87e155ce-03a3-465b-b148-dc696b7989d3",
   "metadata": {
    "tags": []
   },
   "outputs": [
    {
     "name": "stdout",
     "output_type": "stream",
     "text": [
      "page url:  https://wersdoerfer.de/blogs/das_claas_und_nora_blog/april-2024-04-01/\n",
      "page url:  https://wersdoerfer.de/blogs/das_claas_und_nora_blog/marz-2024-03-25/\n",
      "page url:  https://wersdoerfer.de/blogs/das_claas_und_nora_blog/marz-2024-03-18/\n",
      "page url:  https://wersdoerfer.de/blogs/das_claas_und_nora_blog/marz-2024-03-11/\n",
      "page url:  https://wersdoerfer.de/blogs/das_claas_und_nora_blog/marz-2024-03-04/\n",
      "page url:  https://wersdoerfer.de/blogs/das_claas_und_nora_blog/februar-2024-02-26/\n",
      "page url:  https://wersdoerfer.de/blogs/das_claas_und_nora_blog/februar-2024-02-19/\n",
      "page url:  https://wersdoerfer.de/blogs/das_claas_und_nora_blog/februar-2024-02-12/\n",
      "page url:  https://wersdoerfer.de/blogs/das_claas_und_nora_blog/februar-2024-02-05/\n",
      "page url:  https://wersdoerfer.de/blogs/das_claas_und_nora_blog/januar-2024-01-29/\n",
      "page url:  https://wersdoerfer.de/blogs/das_claas_und_nora_blog/ginos-kinderland/\n",
      "page url:  https://wersdoerfer.de/blogs/das_claas_und_nora_blog/januar-2024-01-22/\n",
      "page url:  https://wersdoerfer.de/blogs/das_claas_und_nora_blog/januar-2024-01-15/\n",
      "page url:  https://wersdoerfer.de/blogs/das_claas_und_nora_blog/januar-2024-01-08/\n",
      "page url:  https://wersdoerfer.de/blogs/das_claas_und_nora_blog/januar-2024-01-01/\n",
      "page url:  https://wersdoerfer.de/blogs/das_claas_und_nora_blog/neujahr-20232024/\n",
      "page url:  https://wersdoerfer.de/blogs/das_claas_und_nora_blog/karussell-auf-dem-weihnachtsmarkt/\n",
      "page url:  https://wersdoerfer.de/blogs/das_claas_und_nora_blog/dezember-2023-12-25/\n",
      "page url:  https://wersdoerfer.de/blogs/das_claas_und_nora_blog/weihnachten-in-lohmar/\n",
      "page url:  https://wersdoerfer.de/blogs/das_claas_und_nora_blog/heiligabend-in-siegburg/\n",
      "page url:  https://wersdoerfer.de/blogs/das_claas_und_nora_blog/dezember-2023-12-18/\n",
      "page url:  https://wersdoerfer.de/blogs/das_claas_und_nora_blog/dezember-2023-12-11/\n",
      "page url:  https://wersdoerfer.de/blogs/das_claas_und_nora_blog/fackelkralle-teil-1/\n",
      "page url:  https://wersdoerfer.de/blogs/das_claas_und_nora_blog/dezember-2023-12-04/\n",
      "page url:  https://wersdoerfer.de/blogs/das_claas_und_nora_blog/november-2023-11-27/\n",
      "page url:  https://wersdoerfer.de/blogs/das_claas_und_nora_blog/claas-wunschzettel-fur-weihnachten/\n",
      "page url:  https://wersdoerfer.de/blogs/das_claas_und_nora_blog/november-2023-11-20/\n",
      "page url:  https://wersdoerfer.de/blogs/das_claas_und_nora_blog/november-2023-11-13/\n",
      "page url:  https://wersdoerfer.de/blogs/das_claas_und_nora_blog/november-2023-11-06/\n",
      "page url:  https://wersdoerfer.de/blogs/das_claas_und_nora_blog/nora-rollert-auf-dem-anna-spielplatz/\n",
      "page url:  https://wersdoerfer.de/blogs/das_claas_und_nora_blog/oktober-2023/\n",
      "page url:  https://wersdoerfer.de/blogs/das_claas_und_nora_blog/jurassic-world-im-odysseum/\n",
      "page url:  https://wersdoerfer.de/blogs/das_claas_und_nora_blog/die-autostadt/\n",
      "page url:  https://wersdoerfer.de/blogs/das_claas_und_nora_blog/im-tierpark-essehof/\n",
      "page url:  https://wersdoerfer.de/blogs/das_claas_und_nora_blog/kirmes-in-burgdorf/\n",
      "page url:  https://wersdoerfer.de/blogs/das_claas_und_nora_blog/herbstferien-in-braunschweig/\n",
      "page url:  https://wersdoerfer.de/blogs/das_claas_und_nora_blog/claas-klettert-im-superblock/\n",
      "page url:  https://wersdoerfer.de/blogs/das_claas_und_nora_blog/nora-auf-der-kletterspinne/\n",
      "page url:  https://wersdoerfer.de/blogs/das_claas_und_nora_blog/zu-besuch-bei-jo-in-meersen/\n",
      "page url:  https://wersdoerfer.de/blogs/das_claas_und_nora_blog/nora-ubt-tischmanieren/\n",
      "page url:  https://wersdoerfer.de/blogs/das_claas_und_nora_blog/nora-klettert-im-monkeyspot/\n",
      "page url:  https://wersdoerfer.de/blogs/das_claas_und_nora_blog/schrankmonster-am-weltkindertag/\n",
      "page url:  https://wersdoerfer.de/blogs/das_claas_und_nora_blog/kita-sommerfest-2023/\n",
      "page url:  https://wersdoerfer.de/blogs/das_claas_und_nora_blog/klimastreik-in-dusseldorf/\n",
      "page url:  https://wersdoerfer.de/blogs/das_claas_und_nora_blog/der-lego-roboter/\n",
      "page url:  https://wersdoerfer.de/blogs/das_claas_und_nora_blog/gewitter-mit-hagel/\n",
      "page url:  https://wersdoerfer.de/blogs/das_claas_und_nora_blog/xtumineta/\n",
      "page url:  https://wersdoerfer.de/blogs/das_claas_und_nora_blog/paddeln-auf-der-niers/\n",
      "page url:  https://wersdoerfer.de/blogs/das_claas_und_nora_blog/claas-liest-namen-auf-dem-globus/\n",
      "page url:  https://wersdoerfer.de/blogs/das_claas_und_nora_blog/von-ronald-nach-hause/\n",
      "page url:  https://wersdoerfer.de/blogs/das_claas_und_nora_blog/auf-dem-krewelshof/\n",
      "page url:  https://wersdoerfer.de/blogs/das_claas_und_nora_blog/claas-feiert-kindergeburtstag/\n",
      "page url:  https://wersdoerfer.de/blogs/das_claas_und_nora_blog/claas-sechster-geburtstag/\n",
      "page url:  https://wersdoerfer.de/blogs/das_claas_und_nora_blog/edi-auf-tour/\n",
      "page url:  https://wersdoerfer.de/blogs/das_claas_und_nora_blog/mit-ewa-und-co-im-neandertal/\n",
      "page url:  https://wersdoerfer.de/blogs/das_claas_und_nora_blog/claas-im-monkeyspot/\n",
      "page url:  https://wersdoerfer.de/blogs/das_claas_und_nora_blog/wo-sind-blos-meine-manieren/\n",
      "page url:  https://wersdoerfer.de/blogs/das_claas_und_nora_blog/mit-philipp-und-sina-im-nordpark/\n",
      "page url:  https://wersdoerfer.de/blogs/das_claas_und_nora_blog/zwischen-lohmar-und-solingen/\n",
      "page url:  https://wersdoerfer.de/blogs/das_claas_und_nora_blog/claas-erster-tag-in-der-boulderhalle/\n",
      "page url:  https://wersdoerfer.de/blogs/das_claas_und_nora_blog/claas-wird-eingeschult/\n",
      "page url:  https://wersdoerfer.de/blogs/das_claas_und_nora_blog/evakuierung-mal-wieder/\n",
      "page url:  https://wersdoerfer.de/blogs/das_claas_und_nora_blog/claas-hat-das-seepferdchen/\n",
      "page url:  https://wersdoerfer.de/blogs/das_claas_und_nora_blog/die-kita-eingewohnung-fur-nora-startet/\n",
      "page url:  https://wersdoerfer.de/blogs/das_claas_und_nora_blog/auray/\n",
      "page url:  https://wersdoerfer.de/blogs/das_claas_und_nora_blog/claas-kann-jetzt-schwimmen/\n",
      "page url:  https://wersdoerfer.de/blogs/das_claas_und_nora_blog/museum-in-st-nazaire/\n",
      "page url:  https://wersdoerfer.de/blogs/das_claas_und_nora_blog/tierpark-branfere/\n",
      "page url:  https://wersdoerfer.de/blogs/das_claas_und_nora_blog/nora-ist-ein-pirat/\n",
      "page url:  https://wersdoerfer.de/blogs/das_claas_und_nora_blog/im-schloss-suscinio/\n",
      "page url:  https://wersdoerfer.de/blogs/das_claas_und_nora_blog/picknick-am-strand-von-mousterian/\n",
      "page url:  https://wersdoerfer.de/blogs/das_claas_und_nora_blog/schwimmbadkoma/\n",
      "page url:  https://wersdoerfer.de/blogs/das_claas_und_nora_blog/megalithen-in-carnac-und-strand-auf-quiberon/\n",
      "page url:  https://wersdoerfer.de/blogs/das_claas_und_nora_blog/saline-von-sarzeau/\n",
      "page url:  https://wersdoerfer.de/blogs/das_claas_und_nora_blog/in-vannes/\n",
      "page url:  https://wersdoerfer.de/blogs/das_claas_und_nora_blog/ankunft-in-sene/\n",
      "page url:  https://wersdoerfer.de/blogs/das_claas_und_nora_blog/am-mummelsee/\n",
      "page url:  https://wersdoerfer.de/blogs/das_claas_und_nora_blog/in-baden-baden-baden/\n",
      "page url:  https://wersdoerfer.de/blogs/das_claas_und_nora_blog/klettern-in-karlsruhe/\n",
      "page url:  https://wersdoerfer.de/blogs/das_claas_und_nora_blog/burg-windeck/\n",
      "page url:  https://wersdoerfer.de/blogs/das_claas_und_nora_blog/spaziergang-richtung-gertelbachfalle/\n",
      "page url:  https://wersdoerfer.de/blogs/das_claas_und_nora_blog/nora-erfindet-neue-worter/\n",
      "page url:  https://wersdoerfer.de/blogs/das_claas_und_nora_blog/nora-spricht-jetzt-in-satzen/\n",
      "page url:  https://wersdoerfer.de/blogs/das_claas_und_nora_blog/ein-ganz-normaler-donnerstag/\n",
      "page url:  https://wersdoerfer.de/blogs/das_claas_und_nora_blog/mit-den-haages-im-aaper-wald/\n",
      "page url:  https://wersdoerfer.de/blogs/das_claas_und_nora_blog/nora-vom-hochbett-gefallen/\n",
      "page url:  https://wersdoerfer.de/blogs/das_claas_und_nora_blog/claas-erzahlt-von-hornzacke/\n",
      "page url:  https://wersdoerfer.de/blogs/das_claas_und_nora_blog/der-alljahrliche-weihnachtsbaumeinkauf/\n",
      "page url:  https://wersdoerfer.de/blogs/das_claas_und_nora_blog/schuhe-zubinden/\n",
      "page url:  https://wersdoerfer.de/blogs/das_claas_und_nora_blog/weihnachtsmarkt-in-maastricht/\n",
      "page url:  https://wersdoerfer.de/blogs/das_claas_und_nora_blog/bei-norman-in-hattgenstein/\n",
      "page url:  https://wersdoerfer.de/blogs/das_claas_und_nora_blog/claas-malt-einen-piraten-nach/\n",
      "page url:  https://wersdoerfer.de/blogs/das_claas_und_nora_blog/brombeermassaker/\n",
      "page url:  https://wersdoerfer.de/blogs/das_claas_und_nora_blog/mit-leander-auf-dem-kita-spielplatz/\n",
      "page url:  https://wersdoerfer.de/blogs/das_claas_und_nora_blog/bewegungsshow-villa-kunterbunt/\n",
      "page url:  https://wersdoerfer.de/blogs/das_claas_und_nora_blog/tonic-water/\n",
      "page url:  https://wersdoerfer.de/blogs/das_claas_und_nora_blog/trampolin-spielplatz/\n",
      "page url:  https://wersdoerfer.de/blogs/das_claas_und_nora_blog/braunschweig-portraits/\n",
      "page url:  https://wersdoerfer.de/blogs/das_claas_und_nora_blog/volker-fluegel/\n",
      "page url:  https://wersdoerfer.de/blogs/das_claas_und_nora_blog/braunshweig-spaziergang/\n",
      "page url:  https://wersdoerfer.de/blogs/das_claas_und_nora_blog/braunshweig-wetter/\n",
      "page url:  https://wersdoerfer.de/blogs/das_claas_und_nora_blog/besuch-braunschweig/\n",
      "page url:  https://wersdoerfer.de/blogs/das_claas_und_nora_blog/braunschweig-spielplaetze/\n",
      "page url:  https://wersdoerfer.de/blogs/das_claas_und_nora_blog/claas-hupft-vom-wohnzimmertisch/\n",
      "page url:  https://wersdoerfer.de/blogs/das_claas_und_nora_blog/mit-liz-und-oli-auf-der-museumsinsel-hombroich/\n",
      "page url:  https://wersdoerfer.de/blogs/das_claas_und_nora_blog/fruhstuck-bei-massi/\n",
      "page url:  https://wersdoerfer.de/blogs/das_claas_und_nora_blog/ganz-schon-voll-auf-dem-anna-spielplatz/\n",
      "page url:  https://wersdoerfer.de/blogs/das_claas_und_nora_blog/zu-florians-hochzeit-in-karlsruhe/\n",
      "page url:  https://wersdoerfer.de/blogs/das_claas_und_nora_blog/beim-notar/\n",
      "page url:  https://wersdoerfer.de/blogs/das_claas_und_nora_blog/oma-thea-feiert-geburtstag-in-koln/\n",
      "page url:  https://wersdoerfer.de/blogs/das_claas_und_nora_blog/oma-thea-70er-geburtstag-in-lohmar/\n",
      "page url:  https://wersdoerfer.de/blogs/das_claas_und_nora_blog/beyond-tellerrand-2019/\n",
      "page url:  https://wersdoerfer.de/blogs/das_claas_und_nora_blog/indiewebcamp-dusseldorf/\n",
      "page url:  https://wersdoerfer.de/blogs/das_claas_und_nora_blog/claas-badet/\n",
      "page url:  https://wersdoerfer.de/blogs/das_claas_und_nora_blog/geburtstagsfeierlichkeiten/\n",
      "page url:  https://wersdoerfer.de/blogs/das_claas_und_nora_blog/roller-fahren/\n",
      "page url:  https://wersdoerfer.de/blogs/das_claas_und_nora_blog/seifenblasen/\n",
      "page url:  https://wersdoerfer.de/blogs/das_claas_und_nora_blog/kraeuter-fuer-den-sommer/\n",
      "page url:  https://wersdoerfer.de/blogs/das_claas_und_nora_blog/hofgarten-wippen/\n",
      "page url:  https://wersdoerfer.de/blogs/das_claas_und_nora_blog/regalcrash/\n",
      "page url:  https://wersdoerfer.de/blogs/das_claas_und_nora_blog/kleine-hofgartenrutsche/\n",
      "page url:  https://wersdoerfer.de/blogs/das_claas_und_nora_blog/roller-huepfen/\n",
      "page url:  https://wersdoerfer.de/blogs/das_claas_und_nora_blog/wasser-annaspielplatz/\n",
      "page url:  https://wersdoerfer.de/blogs/das_claas_und_nora_blog/ostereier-suchen-siegburg/\n",
      "page url:  https://wersdoerfer.de/blogs/das_claas_und_nora_blog/in-der-badewanne/\n",
      "page url:  https://wersdoerfer.de/blogs/das_claas_und_nora_blog/spielplatz-michaelsberg-ostern/\n",
      "page url:  https://wersdoerfer.de/blogs/das_claas_und_nora_blog/ostern-in-lohmar/\n",
      "page url:  https://wersdoerfer.de/blogs/das_claas_und_nora_blog/bei-jo-in-meersen/\n",
      "page url:  https://wersdoerfer.de/blogs/das_claas_und_nora_blog/hofgarten-rutsche/\n",
      "page url:  https://wersdoerfer.de/blogs/das_claas_und_nora_blog/annastrasse-mit-bobbycar/\n",
      "page url:  https://wersdoerfer.de/blogs/das_claas_und_nora_blog/ballebu/\n",
      "page url:  https://wersdoerfer.de/blogs/das_claas_und_nora_blog/im-eigenen-bett/\n",
      "page url:  https://wersdoerfer.de/blogs/das_claas_und_nora_blog/lohmar-rutsche/\n",
      "page url:  https://wersdoerfer.de/blogs/das_claas_und_nora_blog/siegburg-michaelsberg/\n",
      "page url:  https://wersdoerfer.de/blogs/das_claas_und_nora_blog/spichernplatz/\n",
      "page url:  https://wersdoerfer.de/blogs/das_claas_und_nora_blog/neue-gartenschaukel/\n",
      "page url:  https://wersdoerfer.de/blogs/das_claas_und_nora_blog/sessel-agentur/\n",
      "page url:  https://wersdoerfer.de/blogs/das_claas_und_nora_blog/schaukelpferd-spielplatz/\n",
      "page url:  https://wersdoerfer.de/blogs/das_claas_und_nora_blog/blaues-bobbycar/\n",
      "page url:  https://wersdoerfer.de/blogs/das_claas_und_nora_blog/claas-ukulele/\n",
      "page url:  https://wersdoerfer.de/blogs/das_claas_und_nora_blog/charlie-zweiter-geburtstag/\n",
      "page url:  https://wersdoerfer.de/blogs/das_claas_und_nora_blog/toben-fruehe-form/\n",
      "page url:  https://wersdoerfer.de/blogs/das_claas_und_nora_blog/charlie-krabbelt/\n",
      "page url:  https://wersdoerfer.de/blogs/das_claas_und_nora_blog/grueffelo/\n",
      "page url:  https://wersdoerfer.de/blogs/das_claas_und_nora_blog/roller-spielplatz/\n",
      "page url:  https://wersdoerfer.de/blogs/das_claas_und_nora_blog/strohut/\n",
      "page url:  https://wersdoerfer.de/blogs/das_claas_und_nora_blog/sag-mal-baer/\n",
      "page url:  https://wersdoerfer.de/blogs/das_claas_und_nora_blog/laufstall/\n",
      "page url:  https://wersdoerfer.de/blogs/das_claas_und_nora_blog/bruessel/\n",
      "page url:  https://wersdoerfer.de/blogs/das_claas_und_nora_blog/schnee/\n",
      "page url:  https://wersdoerfer.de/blogs/das_claas_und_nora_blog/sofahuepfen/\n",
      "page url:  https://wersdoerfer.de/blogs/das_claas_und_nora_blog/pfuetze/\n",
      "page url:  https://wersdoerfer.de/blogs/das_claas_und_nora_blog/umzug-huan-volker-teil-ii/\n",
      "page url:  https://wersdoerfer.de/blogs/das_claas_und_nora_blog/bilderserie-claas-in-der-kiste/\n",
      "page url:  https://wersdoerfer.de/blogs/das_claas_und_nora_blog/der-schneeanzug-ja-er-wurde-wirklich-benutzt/\n",
      "page url:  https://wersdoerfer.de/blogs/das_claas_und_nora_blog/am-fenster-nach-vogeln-schauen/\n",
      "page url:  https://wersdoerfer.de/blogs/das_claas_und_nora_blog/umzug-huan-volker/\n",
      "page url:  https://wersdoerfer.de/blogs/das_claas_und_nora_blog/mal-ein-selfie-zur-abwechslung/\n",
      "page url:  https://wersdoerfer.de/blogs/das_claas_und_nora_blog/claas-kann-jetzt-turen-offnen/\n",
      "page url:  https://wersdoerfer.de/blogs/das_claas_und_nora_blog/mit-greta-und-lisa-auf-dem-spielplatz/\n",
      "page url:  https://wersdoerfer.de/blogs/das_claas_und_nora_blog/weihnachten/\n",
      "page url:  https://wersdoerfer.de/blogs/das_claas_und_nora_blog/rutschen-ist-bei-jedem-wetter-toll/\n",
      "page url:  https://wersdoerfer.de/blogs/das_claas_und_nora_blog/claas-plundert-den-weihnachtsbaum/\n",
      "page url:  https://wersdoerfer.de/blogs/das_claas_und_nora_blog/der-weihnachtsbaumeinkauf/\n",
      "page url:  https://wersdoerfer.de/blogs/das_claas_und_nora_blog/auf-dem-siegburger-mittelaltermarkt/\n",
      "page url:  https://wersdoerfer.de/blogs/das_claas_und_nora_blog/wenn-man-gerade-nicht-weg-kann/\n",
      "page url:  https://wersdoerfer.de/blogs/das_claas_und_nora_blog/ein-paar-bilder-aus-dem-wintergarten/\n",
      "page url:  https://wersdoerfer.de/blogs/das_claas_und_nora_blog/mit-karl-auf-dem-spielplatz-kolpingplatz/\n",
      "page url:  https://wersdoerfer.de/blogs/das_claas_und_nora_blog/zu-besuch-bei-grosstante-maike/\n",
      "page url:  https://wersdoerfer.de/blogs/das_claas_und_nora_blog/nikolausbesuch-bei-jo-2018/\n",
      "page url:  https://wersdoerfer.de/blogs/das_claas_und_nora_blog/bei-norman-zum-geburtstag/\n",
      "page url:  https://wersdoerfer.de/blogs/das_claas_und_nora_blog/pyddf-herbstsprint-bei-trivago/\n",
      "page url:  https://wersdoerfer.de/blogs/das_claas_und_nora_blog/claas-erzahlt-eine-geschichte/\n",
      "page url:  https://wersdoerfer.de/blogs/das_claas_und_nora_blog/schaukeln-im-hofgarten/\n",
      "page url:  https://wersdoerfer.de/blogs/das_claas_und_nora_blog/rumhampeln-auf-dem-kuchenstuhl/\n",
      "page url:  https://wersdoerfer.de/blogs/das_claas_und_nora_blog/claas-fegt-den-hof/\n",
      "page url:  https://wersdoerfer.de/blogs/das_claas_und_nora_blog/claas-reitet-das-schaf/\n",
      "page url:  https://wersdoerfer.de/blogs/das_claas_und_nora_blog/claas-kann-jetzt-ruckwarts-laufen/\n",
      "page url:  https://wersdoerfer.de/blogs/das_claas_und_nora_blog/zu-besuch-bei-greta-in-stuttgart/\n",
      "page url:  https://wersdoerfer.de/blogs/das_claas_und_nora_blog/claas-baut-einen-turm/\n",
      "page url:  https://wersdoerfer.de/blogs/das_claas_und_nora_blog/auf-dem-spielplatz-an-der-nordstrasse/\n",
      "page url:  https://wersdoerfer.de/blogs/das_claas_und_nora_blog/mittagspause-in-der-spoerl-fabrik/\n",
      "page url:  https://wersdoerfer.de/blogs/das_claas_und_nora_blog/neue-skulptur-vor-dem-museum-kunstpalast/\n",
      "page url:  https://wersdoerfer.de/blogs/das_claas_und_nora_blog/hochgeschwindigkeitsgummistiefel/\n",
      "page url:  https://wersdoerfer.de/blogs/das_claas_und_nora_blog/claas-in-der-kiste/\n",
      "page url:  https://wersdoerfer.de/blogs/das_claas_und_nora_blog/claas-hat-es-auf-den-schrankschlussel-abgesehen/\n",
      "page url:  https://wersdoerfer.de/blogs/das_claas_und_nora_blog/claas-brabbelt-auf-dem-wickeltisch/\n",
      "page url:  https://wersdoerfer.de/blogs/das_claas_und_nora_blog/auf-dem-spielplatz-im-hofgarten/\n",
      "page url:  https://wersdoerfer.de/blogs/das_claas_und_nora_blog/martin-und-markus-mal-wieder-zu-besuch/\n",
      "page url:  https://wersdoerfer.de/blogs/das_claas_und_nora_blog/kuckkuck-auf-dem-tripp-trapp/\n",
      "page url:  https://wersdoerfer.de/blogs/das_claas_und_nora_blog/mit-karl-auf-dem-spielplatz-am-michaelsberg/\n",
      "page url:  https://wersdoerfer.de/blogs/das_claas_und_nora_blog/geburtstag-onkel-jo-2018/\n",
      "page url:  https://wersdoerfer.de/blogs/das_claas_und_nora_blog/sonnenuntergang-tonhallenbrucke/\n",
      "page url:  https://wersdoerfer.de/blogs/das_claas_und_nora_blog/spielplatz-am-hofgarten/\n",
      "page url:  https://wersdoerfer.de/blogs/das_claas_und_nora_blog/brabbelkiste/\n",
      "page url:  https://wersdoerfer.de/blogs/das_claas_und_nora_blog/hochzeit-dirk-und-sophie/\n",
      "page url:  https://wersdoerfer.de/blogs/das_claas_und_nora_blog/war-da-wirklich-nur-wasser-in-dem-becher/\n",
      "page url:  https://wersdoerfer.de/blogs/das_claas_und_nora_blog/maskenball/\n",
      "page url:  https://wersdoerfer.de/blogs/das_claas_und_nora_blog/Wie-ist-Claas-da-bloss-raufgekommen/\n",
      "page url:  https://wersdoerfer.de/blogs/das_claas_und_nora_blog/claas-erster-geburtstag/\n",
      "page url:  https://wersdoerfer.de/blogs/das_claas_und_nora_blog/alle-zusammen-in-lohmar/\n",
      "page url:  https://wersdoerfer.de/blogs/das_claas_und_nora_blog/mit-sophie-und-dirk-zu-besuch-bei-huan-und-volker/\n",
      "page url:  https://wersdoerfer.de/blogs/das_claas_und_nora_blog/alles-ba/\n",
      "page url:  https://wersdoerfer.de/blogs/das_claas_und_nora_blog/trockenheit/\n",
      "page url:  https://wersdoerfer.de/blogs/das_claas_und_nora_blog/ein-langes-brillenvideo/\n",
      "page url:  https://wersdoerfer.de/blogs/das_claas_und_nora_blog/Der-bose-Staubsauger/\n",
      "page url:  https://wersdoerfer.de/blogs/das_claas_und_nora_blog/ein-neues-abentheuer/\n",
      "page url:  https://wersdoerfer.de/blogs/das_claas_und_nora_blog/Fruhstuck-in-der-Spoerl-Fabrik/\n",
      "page url:  https://wersdoerfer.de/blogs/das_claas_und_nora_blog/Klettern/\n",
      "page url:  https://wersdoerfer.de/blogs/das_claas_und_nora_blog/Ja-es-ist-sehr-warm/\n",
      "page url:  https://wersdoerfer.de/blogs/das_claas_und_nora_blog/Abend-mit-Kollegen/\n",
      "page url:  https://wersdoerfer.de/blogs/das_claas_und_nora_blog/Picknick-vor-dem-Hochofen-5/\n",
      "page url:  https://wersdoerfer.de/blogs/das_claas_und_nora_blog/Mit-Sina-auf-der-Kirmes/\n",
      "page url:  https://wersdoerfer.de/blogs/das_claas_und_nora_blog/Kinderflohmarkt/\n",
      "page url:  https://wersdoerfer.de/blogs/das_claas_und_nora_blog/Claas-erste-Demo/\n",
      "page url:  https://wersdoerfer.de/blogs/das_claas_und_nora_blog/Nein-es-ist-noch-nicht-besser-geworden/\n",
      "page url:  https://wersdoerfer.de/blogs/das_claas_und_nora_blog/Im-Pool/\n",
      "page url:  https://wersdoerfer.de/blogs/das_claas_und_nora_blog/Flashback-Fruhling/\n",
      "page url:  https://wersdoerfer.de/blogs/das_claas_und_nora_blog/Besuch-auf-Schloss-Dyck/\n",
      "page url:  https://wersdoerfer.de/blogs/das_claas_und_nora_blog/Hoffentlich-ist-peak-Matscherei-bald-erreicht/\n",
      "page url:  https://wersdoerfer.de/blogs/das_claas_und_nora_blog/Claas-hat-eine-neue-Fortbewegungsmethode-entdeckt/\n",
      "page url:  https://wersdoerfer.de/blogs/das_claas_und_nora_blog/Museumsinsel-Hombroich/\n",
      "page url:  https://wersdoerfer.de/blogs/das_claas_und_nora_blog/Besuch-im-Aquazoo-und-Nordpark/\n",
      "page url:  https://wersdoerfer.de/blogs/das_claas_und_nora_blog/Sundowner-am-Rhein/\n",
      "page url:  https://wersdoerfer.de/blogs/das_claas_und_nora_blog/Huan-und-Rolfs-Geburtstag/\n",
      "page url:  https://wersdoerfer.de/blogs/das_claas_und_nora_blog/Motorradtreffen/\n",
      "page url:  https://wersdoerfer.de/blogs/das_claas_und_nora_blog/erste_schritte/\n",
      "page url:  https://wersdoerfer.de/blogs/das_claas_und_nora_blog/Japantag-in-den-Rheinauen/\n",
      "page url:  https://wersdoerfer.de/blogs/das_claas_und_nora_blog/Grillen-bei-Johannes/\n",
      "page url:  https://wersdoerfer.de/blogs/das_claas_und_nora_blog/Pfingsten-im-Hof/\n",
      "page url:  https://wersdoerfer.de/blogs/das_claas_und_nora_blog/Leckere-Steine/\n",
      "page url:  https://wersdoerfer.de/blogs/das_claas_und_nora_blog/Geburtstag-von-Oma-Thea-und-Onkel-Volker/\n",
      "page url:  https://wersdoerfer.de/blogs/das_claas_und_nora_blog/Es-hagelt/\n",
      "page url:  https://wersdoerfer.de/blogs/das_claas_und_nora_blog/Uroma-Anita-ist-zu-Besuch/\n",
      "page url:  https://wersdoerfer.de/blogs/das_claas_und_nora_blog/Drehknopfe/\n",
      "page url:  https://wersdoerfer.de/blogs/das_claas_und_nora_blog/Katharinas-Geburtstag/\n",
      "page url:  https://wersdoerfer.de/blogs/das_claas_und_nora_blog/Katharinas-und-Wolfgangs-Hochzeit/\n",
      "page url:  https://wersdoerfer.de/blogs/das_claas_und_nora_blog/Spaziergang/\n",
      "page url:  https://wersdoerfer.de/blogs/das_claas_und_nora_blog/Picknick-auf-dem-Spielplatz-um-die-Ecke/\n",
      "page url:  https://wersdoerfer.de/blogs/das_claas_und_nora_blog/Kirmes/\n",
      "page url:  https://wersdoerfer.de/blogs/das_claas_und_nora_blog/Die-Kuchenturschwelle/\n",
      "page url:  https://wersdoerfer.de/blogs/das_claas_und_nora_blog/Der-erste-warme-Fruhlingstag/\n",
      "page url:  https://wersdoerfer.de/blogs/das_claas_und_nora_blog/Spaziergang-am-Rhein/\n",
      "page url:  https://wersdoerfer.de/blogs/das_claas_und_nora_blog/Abendlicht/\n",
      "page url:  https://wersdoerfer.de/blogs/das_claas_und_nora_blog/Claas-im-Kinderkaffee/\n",
      "page url:  https://wersdoerfer.de/blogs/das_claas_und_nora_blog/Milchbinge/\n",
      "page url:  https://wersdoerfer.de/blogs/das_claas_und_nora_blog/Zu-Besuch-bei-Huan-und-Volker/\n",
      "page url:  https://wersdoerfer.de/blogs/das_claas_und_nora_blog/Die-letzte-Milch-war-wohl-schlecht/\n",
      "page url:  https://wersdoerfer.de/blogs/das_claas_und_nora_blog/Opa-Ingos-Geburtstag/\n",
      "page url:  https://wersdoerfer.de/blogs/das_claas_und_nora_blog/Ostern-2018/\n",
      "page url:  https://wersdoerfer.de/blogs/das_claas_und_nora_blog/Zum-ersten-Mal-beim-Krabbeln-gefilmt/\n",
      "page url:  https://wersdoerfer.de/blogs/das_claas_und_nora_blog/Karfreitag-im-Carrotcake/\n",
      "page url:  https://wersdoerfer.de/blogs/das_claas_und_nora_blog/Spaziergang-in-Dusseldorf/\n",
      "page url:  https://wersdoerfer.de/blogs/das_claas_und_nora_blog/wintergarten_ohne_kissen/\n",
      "page url:  https://wersdoerfer.de/blogs/das_claas_und_nora_blog/Luftrollenspielzeug/\n",
      "page url:  https://wersdoerfer.de/blogs/das_claas_und_nora_blog/Ausgiebiges-Brabbeln/\n",
      "page url:  https://wersdoerfer.de/blogs/das_claas_und_nora_blog/hochzeitseinladungsessen/\n",
      "page url:  https://wersdoerfer.de/blogs/das_claas_und_nora_blog/u5/\n",
      "page url:  https://wersdoerfer.de/blogs/das_claas_und_nora_blog/apple-support/\n",
      "page url:  https://wersdoerfer.de/blogs/das_claas_und_nora_blog/ingo-alte-moebel/\n",
      "page url:  https://wersdoerfer.de/blogs/das_claas_und_nora_blog/Claas-rollt-herum-und-setzt-sich-alleine-hin/\n",
      "page url:  https://wersdoerfer.de/blogs/das_claas_und_nora_blog/Claas-zieht-sich-zum-ersten-Mal-am-Sofa-hoch/\n",
      "page url:  https://wersdoerfer.de/blogs/das_claas_und_nora_blog/Kaffeetrinken-in-der-Spoerl-Fabrik/\n",
      "page url:  https://wersdoerfer.de/blogs/das_claas_und_nora_blog/Besuch-bei-Jo-in-Maastricht/\n",
      "page url:  https://wersdoerfer.de/blogs/das_claas_und_nora_blog/Letzte-Woche-im-Wildpark-Grafenberger-Wald/\n",
      "page url:  https://wersdoerfer.de/blogs/das_claas_und_nora_blog/Claas-sitzt-zum-ersten-Mal-alleine/\n",
      "page url:  https://wersdoerfer.de/blogs/das_claas_und_nora_blog/claas-alleine-tisch/\n",
      "page url:  https://wersdoerfer.de/blogs/das_claas_und_nora_blog/Martin-und-Marcus-kommen-zu-Besuch/\n",
      "page url:  https://wersdoerfer.de/blogs/das_claas_und_nora_blog/Tapas-mit-Heike-und-Chrissie/\n",
      "page url:  https://wersdoerfer.de/blogs/das_claas_und_nora_blog/Karl-und-der-Ofen/\n",
      "page url:  https://wersdoerfer.de/blogs/das_claas_und_nora_blog/Zu-Besuch-bei-den-Grosseltern/\n",
      "page url:  https://wersdoerfer.de/blogs/das_claas_und_nora_blog/Mit-Katharina-bei-Sulis/\n",
      "page url:  https://wersdoerfer.de/blogs/das_claas_und_nora_blog/Drehende-Handchen-sind-irre-lustig/\n",
      "page url:  https://wersdoerfer.de/blogs/das_claas_und_nora_blog/Zu-ersten-Mal-etwas-Mohrenbrei/\n",
      "page url:  https://wersdoerfer.de/blogs/das_claas_und_nora_blog/Weihnachten-2017/\n",
      "page url:  https://wersdoerfer.de/blogs/das_claas_und_nora_blog/Schnullerversuch/\n",
      "page url:  https://wersdoerfer.de/blogs/das_claas_und_nora_blog/Wiege-mit-Ball/\n",
      "page url:  https://wersdoerfer.de/blogs/das_claas_und_nora_blog/Fuchsmutze/\n",
      "page url:  https://wersdoerfer.de/blogs/das_claas_und_nora_blog/claas-opa-ingo/\n",
      "page url:  https://wersdoerfer.de/blogs/das_claas_und_nora_blog/Dirk-und-Sophie-waren-zu-Besuch/\n",
      "page url:  https://wersdoerfer.de/blogs/das_claas_und_nora_blog/Mit-Anke-bei-Sulis/\n",
      "page url:  https://wersdoerfer.de/blogs/das_claas_und_nora_blog/Zu-Besuch-in-Meersen-bei-Onkel-Jo/\n",
      "page url:  https://wersdoerfer.de/blogs/das_claas_und_nora_blog/Sofagebrabbel/\n",
      "page url:  https://wersdoerfer.de/blogs/das_claas_und_nora_blog/Kurzbesuch-bei-Uroma-Thea/\n",
      "page url:  https://wersdoerfer.de/blogs/das_claas_und_nora_blog/Ein-Wochenende-in-Abentheuer/\n",
      "page url:  https://wersdoerfer.de/blogs/das_claas_und_nora_blog/Brillenprobe/\n",
      "page url:  https://wersdoerfer.de/blogs/das_claas_und_nora_blog/Wickeltisch-Strampelei/\n",
      "page url:  https://wersdoerfer.de/blogs/das_claas_und_nora_blog/In-der-Wiege/\n",
      "page url:  https://wersdoerfer.de/blogs/das_claas_und_nora_blog/erste-stehversuche/\n",
      "page url:  https://wersdoerfer.de/blogs/das_claas_und_nora_blog/besuch-von-den-kollegen/\n",
      "page url:  https://wersdoerfer.de/blogs/das_claas_und_nora_blog/onkel-karl/\n",
      "page url:  https://wersdoerfer.de/blogs/das_claas_und_nora_blog/einmal-laecheln/\n",
      "page url:  https://wersdoerfer.de/blogs/das_claas_und_nora_blog/babymodellierung/\n",
      "page url:  https://wersdoerfer.de/blogs/das_claas_und_nora_blog/gute-laune-freitagabend/\n",
      "page url:  https://wersdoerfer.de/blogs/das_claas_und_nora_blog/kinderwagen-ok/\n",
      "page url:  https://wersdoerfer.de/blogs/das_claas_und_nora_blog/wickeltisch/\n",
      "page url:  https://wersdoerfer.de/blogs/das_claas_und_nora_blog/sonntag-lohmar/\n",
      "page url:  https://wersdoerfer.de/blogs/das_claas_und_nora_blog/anita/\n",
      "page url:  https://wersdoerfer.de/blogs/das_claas_und_nora_blog/Spieldecke/\n",
      "page url:  https://wersdoerfer.de/blogs/das_claas_und_nora_blog/schmatzen-ist-toll/\n",
      "page url:  https://wersdoerfer.de/blogs/das_claas_und_nora_blog/Video-mit-grosser-Kamera/\n",
      "page url:  https://wersdoerfer.de/blogs/das_claas_und_nora_blog/lohmart/\n",
      "page url:  https://wersdoerfer.de/blogs/das_claas_und_nora_blog/claas-wickeltisch-geraeusche/\n",
      "page url:  https://wersdoerfer.de/blogs/das_claas_und_nora_blog/paar-portraits/\n",
      "page url:  https://wersdoerfer.de/blogs/das_claas_und_nora_blog/claas-dreht-sich/\n",
      "page url:  https://wersdoerfer.de/blogs/das_claas_und_nora_blog/paar-fotos-und-ein-video/\n",
      "page url:  https://wersdoerfer.de/blogs/das_claas_und_nora_blog/30_party/\n",
      "page url:  https://wersdoerfer.de/blogs/das_claas_und_nora_blog/geraeusche-von-draussen/\n",
      "page url:  https://wersdoerfer.de/blogs/das_claas_und_nora_blog/guten_morgen_3/\n",
      "page url:  https://wersdoerfer.de/blogs/das_claas_und_nora_blog/unterwegs-auf-der-koe/\n",
      "page url:  https://wersdoerfer.de/blogs/das_claas_und_nora_blog/geburstag_jo/\n",
      "page url:  https://wersdoerfer.de/blogs/das_claas_und_nora_blog/guten_morgen_2/\n",
      "page url:  https://wersdoerfer.de/blogs/das_claas_und_nora_blog/guten_morgen_video/\n",
      "page url:  https://wersdoerfer.de/blogs/das_claas_und_nora_blog/omas_geburtstag/\n",
      "page url:  https://wersdoerfer.de/blogs/das_claas_und_nora_blog/claas_uroma_thea/\n",
      "page url:  https://wersdoerfer.de/blogs/das_claas_und_nora_blog/milchpumpe/\n",
      "page url:  https://wersdoerfer.de/blogs/das_claas_und_nora_blog/Zum-ersten-Mal-Draussen/\n",
      "CPU times: user 1.64 s, sys: 115 ms, total: 1.76 s\n",
      "Wall time: 1.84 s\n"
     ]
    }
   ],
   "source": [
    "%%time\n",
    "feed_view = LatestEntriesFeed()\n",
    "request_factory = RequestFactory()\n",
    "request = request_factory.get(f\"/blogs/{blog_slug}/feed/rss.xml\")\n",
    "r = feed_view(request, slug=blog_slug)"
   ]
  },
  {
   "cell_type": "code",
   "execution_count": 35,
   "id": "0005e743-891e-4963-b6b2-abb2c1a39c50",
   "metadata": {
    "tags": []
   },
   "outputs": [
    {
     "name": "stdout",
     "output_type": "stream",
     "text": [
      "5279333\n"
     ]
    }
   ],
   "source": [
    "print(len(r.content))"
   ]
  },
  {
   "cell_type": "markdown",
   "id": "dcd68ecd-2a0f-4b93-aa56-06a395eb2d93",
   "metadata": {},
   "source": [
    "# How long does the serve call take?"
   ]
  },
  {
   "cell_type": "code",
   "execution_count": 36,
   "id": "49b79b42-aa90-41fa-ab50-59e095f102ea",
   "metadata": {
    "tags": []
   },
   "outputs": [],
   "source": [
    "from django.test.client import RequestFactory\n",
    "from django_htmx.middleware import HtmxDetails"
   ]
  },
  {
   "cell_type": "code",
   "execution_count": 37,
   "id": "f01ff56c-6063-4012-87f8-524c168c9191",
   "metadata": {
    "tags": []
   },
   "outputs": [],
   "source": [
    "request_factory = RequestFactory()\n",
    "request = request_factory.get(\"/\")\n",
    "request.htmx = HtmxDetails(request)"
   ]
  },
  {
   "cell_type": "code",
   "execution_count": 38,
   "id": "4daac98f-a69e-4284-acd5-ddb51d95943d",
   "metadata": {
    "tags": []
   },
   "outputs": [],
   "source": [
    "blog = Blog.objects.get(slug=blog_slug)"
   ]
  },
  {
   "cell_type": "code",
   "execution_count": 39,
   "id": "536c7c64-f84d-4b4b-86b1-4d2f1817ffa9",
   "metadata": {
    "tags": []
   },
   "outputs": [
    {
     "name": "stdout",
     "output_type": "stream",
     "text": [
      "120626\n",
      "CPU times: user 80.5 ms, sys: 13.8 ms, total: 94.3 ms\n",
      "Wall time: 109 ms\n"
     ]
    }
   ],
   "source": [
    "%%time\n",
    "response = blog.serve(request).render()\n",
    "print(len(response.content))"
   ]
  },
  {
   "cell_type": "code",
   "execution_count": 40,
   "id": "a8d41382-9705-48e7-8f9b-20d2a3eb42c5",
   "metadata": {
    "tags": []
   },
   "outputs": [
    {
     "data": {
      "text/plain": [
       "['das_claas_und_nora_blog', 'ephes_blog']"
      ]
     },
     "execution_count": 40,
     "metadata": {},
     "output_type": "execute_result"
    }
   ],
   "source": [
    "[b.slug for b in Blog.objects.all()]"
   ]
  },
  {
   "cell_type": "code",
   "execution_count": 41,
   "id": "ca7a28e3-9529-42f5-8dce-6463b7fac45b",
   "metadata": {
    "tags": []
   },
   "outputs": [],
   "source": [
    "#Rendition.objects.all().delete()"
   ]
  },
  {
   "cell_type": "code",
   "execution_count": 42,
   "id": "f4fb15ba-6779-42c5-a07e-2ab38840cc44",
   "metadata": {
    "tags": []
   },
   "outputs": [],
   "source": [
    "slug = \"weeknotes-2023-07-24\"\n",
    "post = Post.objects.get(slug=slug)"
   ]
  },
  {
   "cell_type": "code",
   "execution_count": 43,
   "id": "e0e12e50-1ece-4cf3-91b8-492f40e0e316",
   "metadata": {
    "tags": []
   },
   "outputs": [],
   "source": [
    "post.sync_media_ids()"
   ]
  },
  {
   "cell_type": "code",
   "execution_count": 44,
   "id": "756bab9c-c03a-4e20-90d1-e8e43282406c",
   "metadata": {
    "tags": []
   },
   "outputs": [
    {
     "data": {
      "text/plain": [
       "{'image': set(), 'video': set(), 'gallery': {228}, 'audio': set()}"
      ]
     },
     "execution_count": 44,
     "metadata": {},
     "output_type": "execute_result"
    }
   ],
   "source": [
    "post.media_ids_from_db"
   ]
  },
  {
   "cell_type": "code",
   "execution_count": 45,
   "id": "ff611144-f629-4fa0-ac3c-364206b1260d",
   "metadata": {
    "tags": []
   },
   "outputs": [
    {
     "data": {
      "text/plain": [
       "{'gallery': {228}}"
      ]
     },
     "execution_count": 45,
     "metadata": {},
     "output_type": "execute_result"
    }
   ],
   "source": [
    "post.media_ids_from_body"
   ]
  },
  {
   "cell_type": "code",
   "execution_count": 46,
   "id": "613c5fdf-17c1-49a8-82f5-8d903a7605ef",
   "metadata": {
    "tags": []
   },
   "outputs": [],
   "source": [
    "[gallery] = post.galleries.all()"
   ]
  },
  {
   "cell_type": "code",
   "execution_count": 47,
   "id": "48f7fd8c-3297-44b9-8a3f-b70cd94ea0ab",
   "metadata": {
    "tags": []
   },
   "outputs": [
    {
     "data": {
      "text/plain": [
       "<Gallery: Gallery object (228)>"
      ]
     },
     "execution_count": 47,
     "metadata": {},
     "output_type": "execute_result"
    }
   ],
   "source": [
    "gallery\n"
   ]
  },
  {
   "cell_type": "code",
   "execution_count": 52,
   "id": "8ed0dcb3-66a3-4e0d-a750-a4f95065e69e",
   "metadata": {
    "tags": []
   },
   "outputs": [
    {
     "data": {
      "text/plain": [
       "<ImageQuerySet [<Image: Marktplatz in Vannes>, <Image: Fachwerkhäuser in Vannes>, <Image: Fensterspiegelung>, <Image: Sonnenstern an der Saline>, <Image: Fernglas zum Beobachten der Vögel an der Saline>, <Image: Salz in der Saline>, <Image: Windrad neben der Saline>, <Image: Ein paar Blumen am Wegesrand>, <Image: Atlantikküste vor Quiberon>, <Image: Steilküste vor Quiberon>, <Image: Strand in Quiberon>, <Image: Am Strand von Mousterian>, <Image: Frau am Strand von Mousterian>]>"
      ]
     },
     "execution_count": 52,
     "metadata": {},
     "output_type": "execute_result"
    }
   ],
   "source": [
    "gallery.images.all()"
   ]
  },
  {
   "cell_type": "code",
   "execution_count": 53,
   "id": "d8939a2b-15ec-4c12-bf72-1a6d69ecc400",
   "metadata": {
    "tags": []
   },
   "outputs": [
    {
     "data": {
      "text/plain": [
       "<ImageQuerySet []>"
      ]
     },
     "execution_count": 53,
     "metadata": {},
     "output_type": "execute_result"
    }
   ],
   "source": [
    "post.images.all()"
   ]
  },
  {
   "cell_type": "code",
   "execution_count": 55,
   "id": "13fc906a-416a-46eb-9efc-1094f4818cfe",
   "metadata": {
    "tags": []
   },
   "outputs": [
    {
     "data": {
      "text/plain": [
       "1734"
      ]
     },
     "execution_count": 55,
     "metadata": {},
     "output_type": "execute_result"
    }
   ],
   "source": [
    "Image.objects.count()"
   ]
  },
  {
   "cell_type": "markdown",
   "id": "03f8dd1b-f0e3-4402-b460-c6f5eb66c406",
   "metadata": {},
   "source": [
    "## Count Queries"
   ]
  },
  {
   "cell_type": "code",
   "execution_count": 26,
   "id": "e3222ba5-94ca-4a63-a423-0611892ded83",
   "metadata": {
    "tags": []
   },
   "outputs": [],
   "source": [
    "import sqlparse\n",
    "\n",
    "from django.db import connection, reset_queries"
   ]
  },
  {
   "cell_type": "code",
   "execution_count": 27,
   "id": "a5c91804-437e-48f0-8040-4a1b8d182b27",
   "metadata": {
    "tags": []
   },
   "outputs": [],
   "source": [
    "def count_queries(func):\n",
    "    reset_queries()\n",
    "    response = func()\n",
    "    print(len(response.content))\n",
    "    return len(connection.queries)\n",
    "\n",
    "\n",
    "def show_queries(queries):\n",
    "    for query in queries:\n",
    "        formatted_sql = sqlparse.format(query['sql'], reindent=True, keyword_case='upper')\n",
    "        print(formatted_sql)    "
   ]
  },
  {
   "cell_type": "code",
   "execution_count": 29,
   "id": "8c5ae38e-c90a-4ef5-8f2c-b26337726243",
   "metadata": {
    "tags": []
   },
   "outputs": [
    {
     "name": "stdout",
     "output_type": "stream",
     "text": [
      "4860770\n"
     ]
    },
    {
     "data": {
      "text/plain": [
       "3220"
      ]
     },
     "execution_count": 29,
     "metadata": {},
     "output_type": "execute_result"
    }
   ],
   "source": [
    "feed_view = LatestEntriesFeed()\n",
    "request_factory = RequestFactory()\n",
    "request = request_factory.get(f\"/blogs/{blog_slug}/feed/rss.xml\")\n",
    "func = lambda: feed_view(request, slug=blog_slug)\n",
    "count_queries(func)"
   ]
  },
  {
   "cell_type": "code",
   "execution_count": 15,
   "id": "8399cac6-52ce-4a58-bc5f-dfa00dfbc710",
   "metadata": {
    "tags": []
   },
   "outputs": [],
   "source": [
    "request_factory = RequestFactory()\n",
    "request = request_factory.get(\"/\")\n",
    "htmx\n"
   ]
  },
  {
   "cell_type": "code",
   "execution_count": 16,
   "id": "62bc9c75-95b9-41bf-addf-681196f2ada4",
   "metadata": {
    "tags": []
   },
   "outputs": [],
   "source": [
    "blog = Blog.objects.get(slug=blog_slug)"
   ]
  },
  {
   "cell_type": "code",
   "execution_count": 17,
   "id": "1d7ad4ad-76d4-4a78-aa29-068f750b4d84",
   "metadata": {
    "tags": []
   },
   "outputs": [
    {
     "name": "stdout",
     "output_type": "stream",
     "text": [
      "5\n",
      "CPU times: user 174 ms, sys: 22.5 ms, total: 196 ms\n",
      "Wall time: 209 ms\n"
     ]
    }
   ],
   "source": [
    "%%time\n",
    "num_queries = count_queries(blog.serve(request).render)\n",
    "print(num_queries)"
   ]
  },
  {
   "cell_type": "code",
   "execution_count": 31,
   "id": "0d9ef63f-4733-422e-a68d-6b045b62de34",
   "metadata": {
    "tags": []
   },
   "outputs": [],
   "source": [
    "# show_queries(connection.queries)"
   ]
  },
  {
   "cell_type": "code",
   "execution_count": null,
   "id": "da023467-a871-44af-9ea3-bea512e920b3",
   "metadata": {},
   "outputs": [],
   "source": []
  }
 ],
 "metadata": {
  "kernelspec": {
   "display_name": "Django Kernel",
   "language": "python",
   "name": "django_extensions"
  },
  "language_info": {
   "codemirror_mode": {
    "name": "ipython",
    "version": 3
   },
   "file_extension": ".py",
   "mimetype": "text/x-python",
   "name": "python",
   "nbconvert_exporter": "python",
   "pygments_lexer": "ipython3",
   "version": "3.12.2"
  }
 },
 "nbformat": 4,
 "nbformat_minor": 5
}
