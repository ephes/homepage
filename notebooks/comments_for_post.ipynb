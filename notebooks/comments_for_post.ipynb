{
 "cells": [
  {
   "cell_type": "code",
   "execution_count": 16,
   "id": "7e1c92ae-8623-4f34-bfa5-3fa2575e3149",
   "metadata": {
    "tags": []
   },
   "outputs": [],
   "source": [
    "from django.utils.encoding import smart_str\n",
    "\n",
    "from django_comments import get_model as get_comments_model\n",
    "from django.conf import settings"
   ]
  },
  {
   "cell_type": "code",
   "execution_count": 10,
   "id": "4c0a237e-ce35-4704-9461-85ad64fb0bfc",
   "metadata": {
    "tags": []
   },
   "outputs": [],
   "source": [
    "Comment = get_comments_model()"
   ]
  },
  {
   "cell_type": "code",
   "execution_count": 11,
   "id": "a4113026-9689-4d8d-847e-5ac7ff793777",
   "metadata": {
    "tags": []
   },
   "outputs": [
    {
     "name": "stdout",
     "output_type": "stream",
     "text": [
      "Thea Wersdoerfer: Sehr schön erzählt 👏🏻👏🏻👍😀...\n",
      "Jochen Wersdörfer: Ja, finde ich auch 😃...\n",
      "Jochen Wersdörfer: Ha, Bild entstaucht!...\n"
     ]
    }
   ],
   "source": [
    "for comment in Comment.objects.all():\n",
    "    print(comment)"
   ]
  },
  {
   "cell_type": "code",
   "execution_count": 12,
   "id": "604d54c1-cc9e-489f-b8bc-434170c610c4",
   "metadata": {
    "tags": []
   },
   "outputs": [],
   "source": [
    "comment = Comment.objects.first()"
   ]
  },
  {
   "cell_type": "code",
   "execution_count": 13,
   "id": "641ab1f5-818f-4c95-9e71-5b59cb6a412c",
   "metadata": {
    "tags": []
   },
   "outputs": [],
   "source": [
    "post = comment.content_object"
   ]
  },
  {
   "cell_type": "code",
   "execution_count": 15,
   "id": "13146f28-4d4e-4f43-8264-e5b626ac3ea9",
   "metadata": {
    "tags": []
   },
   "outputs": [],
   "source": [
    "ctype = ContentType.objects.get_for_model(post)\n",
    "site_id = getattr(settings, \"SITE_ID\", None)"
   ]
  },
  {
   "cell_type": "code",
   "execution_count": 19,
   "id": "24d35bee-40af-4aa5-b03b-b483a89495db",
   "metadata": {
    "tags": []
   },
   "outputs": [
    {
     "data": {
      "text/plain": [
       "<QuerySet [<FluentComment: Thea Wersdoerfer: Sehr schön erzählt 👏🏻👏🏻👍😀...>, <FluentComment: Jochen Wersdörfer: Ja, finde ich auch 😃...>]>"
      ]
     },
     "execution_count": 19,
     "metadata": {},
     "output_type": "execute_result"
    }
   ],
   "source": [
    "Comment.objects.filter(\n",
    "    content_type=ctype,\n",
    "    object_pk=smart_str(post.pk),\n",
    "    site__pk=site_id,\n",
    ")"
   ]
  },
  {
   "cell_type": "code",
   "execution_count": 20,
   "id": "c9a335b8-221b-4f3d-830a-3a35d924276c",
   "metadata": {
    "tags": []
   },
   "outputs": [],
   "source": [
    "field_names = [f.name for f in Comment._meta.fields]"
   ]
  },
  {
   "cell_type": "code",
   "execution_count": 21,
   "id": "52f01e90-40bb-488f-93c5-9212488a6a3b",
   "metadata": {
    "tags": []
   },
   "outputs": [
    {
     "data": {
      "text/plain": [
       "['id',\n",
       " 'content_type',\n",
       " 'object_pk',\n",
       " 'site',\n",
       " 'user',\n",
       " 'user_name',\n",
       " 'user_email',\n",
       " 'user_url',\n",
       " 'comment',\n",
       " 'submit_date',\n",
       " 'ip_address',\n",
       " 'is_public',\n",
       " 'is_removed',\n",
       " 'comment_ptr',\n",
       " 'title',\n",
       " 'parent',\n",
       " 'last_child',\n",
       " 'tree_path',\n",
       " 'newest_activity']"
      ]
     },
     "execution_count": 21,
     "metadata": {},
     "output_type": "execute_result"
    }
   ],
   "source": [
    "field_names"
   ]
  },
  {
   "cell_type": "code",
   "execution_count": 22,
   "id": "1da06a26-3560-467f-a6cf-ea53c1b1c3e3",
   "metadata": {
    "tags": []
   },
   "outputs": [
    {
     "ename": "AttributeError",
     "evalue": "'Post' object has no attribute 'comments'",
     "output_type": "error",
     "traceback": [
      "\u001b[0;31m---------------------------------------------------------------------------\u001b[0m",
      "\u001b[0;31mAttributeError\u001b[0m                            Traceback (most recent call last)",
      "Cell \u001b[0;32mIn[22], line 1\u001b[0m\n\u001b[0;32m----> 1\u001b[0m \u001b[43mpost\u001b[49m\u001b[38;5;241;43m.\u001b[39;49m\u001b[43mcomments\u001b[49m\u001b[38;5;241m.\u001b[39mall()\n",
      "\u001b[0;31mAttributeError\u001b[0m: 'Post' object has no attribute 'comments'"
     ]
    }
   ],
   "source": [
    "post.comments.all()"
   ]
  },
  {
   "cell_type": "code",
   "execution_count": 23,
   "id": "be8acbab-cd79-48ad-bb59-2b79af151356",
   "metadata": {
    "tags": []
   },
   "outputs": [
    {
     "data": {
      "text/plain": [
       "363"
      ]
     },
     "execution_count": 23,
     "metadata": {},
     "output_type": "execute_result"
    }
   ],
   "source": [
    "post.pk"
   ]
  },
  {
   "cell_type": "code",
   "execution_count": null,
   "id": "ef6ec298-c4d4-44aa-83a4-8206831292fb",
   "metadata": {},
   "outputs": [],
   "source": []
  }
 ],
 "metadata": {
  "kernelspec": {
   "display_name": "Django Kernel",
   "language": "python",
   "name": "django_extensions"
  },
  "language_info": {
   "codemirror_mode": {
    "name": "ipython",
    "version": 3
   },
   "file_extension": ".py",
   "mimetype": "text/x-python",
   "name": "python",
   "nbconvert_exporter": "python",
   "pygments_lexer": "ipython3",
   "version": "3.11.3"
  }
 },
 "nbformat": 4,
 "nbformat_minor": 5
}
