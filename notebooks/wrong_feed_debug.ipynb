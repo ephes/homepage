{
 "cells": [
  {
   "cell_type": "code",
   "execution_count": 1,
   "id": "b59a7c9f-8311-4385-8f21-2d08e3a2af81",
   "metadata": {},
   "outputs": [
    {
     "data": {
      "text/html": [
       "<pre style=\"white-space:pre;overflow-x:auto;line-height:normal;font-family:Menlo,'DejaVu Sans Mono',consolas,'Courier New',monospace\"></pre>\n"
      ],
      "text/plain": []
     },
     "metadata": {},
     "output_type": "display_data"
    }
   ],
   "source": [
    "from dj_notebook import activate\n",
    "plus = activate()"
   ]
  },
  {
   "cell_type": "code",
   "execution_count": 2,
   "id": "0c192f33-43f0-44f7-9a1d-0a3c57602a89",
   "metadata": {},
   "outputs": [
    {
     "name": "stdout",
     "output_type": "stream",
     "text": [
      "Requirement already satisfied: httpx in /Users/jochen/.virtualenvs/homepage/lib/python3.12/site-packages (0.27.0)\n",
      "Requirement already satisfied: anyio in /Users/jochen/.virtualenvs/homepage/lib/python3.12/site-packages (from httpx) (4.3.0)\n",
      "Requirement already satisfied: certifi in /Users/jochen/.virtualenvs/homepage/lib/python3.12/site-packages (from httpx) (2024.2.2)\n",
      "Requirement already satisfied: httpcore==1.* in /Users/jochen/.virtualenvs/homepage/lib/python3.12/site-packages (from httpx) (1.0.5)\n",
      "Requirement already satisfied: idna in /Users/jochen/.virtualenvs/homepage/lib/python3.12/site-packages (from httpx) (3.7)\n",
      "Requirement already satisfied: sniffio in /Users/jochen/.virtualenvs/homepage/lib/python3.12/site-packages (from httpx) (1.3.1)\n",
      "Requirement already satisfied: h11<0.15,>=0.13 in /Users/jochen/.virtualenvs/homepage/lib/python3.12/site-packages (from httpcore==1.*->httpx) (0.14.0)\n",
      "Note: you may need to restart the kernel to use updated packages.\n",
      "Requirement already satisfied: feedparser in /Users/jochen/.virtualenvs/homepage/lib/python3.12/site-packages (6.0.11)\n",
      "Requirement already satisfied: sgmllib3k in /Users/jochen/.virtualenvs/homepage/lib/python3.12/site-packages (from feedparser) (1.0.0)\n",
      "Note: you may need to restart the kernel to use updated packages.\n"
     ]
    }
   ],
   "source": [
    "%pip install httpx\n",
    "%pip install feedparser\n",
    "import httpx\n",
    "import feedparser"
   ]
  },
  {
   "cell_type": "code",
   "execution_count": 3,
   "id": "ba5a30a7-3b01-485c-8bc9-83f4bcf6c8a0",
   "metadata": {},
   "outputs": [],
   "source": [
    "prod = \"https://wersdoerfer.de\"\n",
    "blog_slug = \"ephes_blog\"\n",
    "# blog_slug = \"das_claas_und_nora_blog\""
   ]
  },
  {
   "cell_type": "code",
   "execution_count": 6,
   "id": "c2ffee1e-5baf-4a18-a8dc-3324af58cff9",
   "metadata": {},
   "outputs": [
    {
     "name": "stdout",
     "output_type": "stream",
     "text": [
      "Production!\n",
      "2277823\n",
      "CPU times: user 48.4 ms, sys: 11.2 ms, total: 59.6 ms\n",
      "Wall time: 259 ms\n"
     ]
    }
   ],
   "source": [
    "%%time\n",
    "print(\"Production!\")\n",
    "feed_url = f\"{prod}/blogs/{blog_slug}/feed/rss.xml\"\n",
    "r = httpx.get(feed_url)\n",
    "r.raise_for_status()\n",
    "content = r.text\n",
    "print(len(content))"
   ]
  },
  {
   "cell_type": "code",
   "execution_count": 5,
   "id": "b633601c-c7b4-4925-8baf-949180445d0d",
   "metadata": {},
   "outputs": [
    {
     "data": {
      "text/plain": [
       "True"
      ]
     },
     "execution_count": 5,
     "metadata": {},
     "output_type": "execute_result"
    }
   ],
   "source": [
    "\"nora\" in content"
   ]
  },
  {
   "cell_type": "code",
   "execution_count": 7,
   "id": "bfb7e620-5721-4dc5-8bc2-c629d499ae69",
   "metadata": {},
   "outputs": [],
   "source": [
    "d = feedparser.parse(feed_url)"
   ]
  },
  {
   "cell_type": "code",
   "execution_count": 8,
   "id": "b47adb13-57c7-4ce0-a471-6b889b02c299",
   "metadata": {},
   "outputs": [
    {
     "data": {
      "text/plain": [
       "'Ephes Blog'"
      ]
     },
     "execution_count": 8,
     "metadata": {},
     "output_type": "execute_result"
    }
   ],
   "source": [
    "d['feed']['title']"
   ]
  },
  {
   "cell_type": "code",
   "execution_count": 9,
   "id": "ad143477-8bc7-4b7b-9c25-2e4f8c64112c",
   "metadata": {},
   "outputs": [
    {
     "data": {
      "text/plain": [
       "'Ephes Blog'"
      ]
     },
     "execution_count": 9,
     "metadata": {},
     "output_type": "execute_result"
    }
   ],
   "source": [
    "d.feed.title"
   ]
  },
  {
   "cell_type": "code",
   "execution_count": 10,
   "id": "2b7f8594-0c19-4422-a0c9-ac2f4394fe9c",
   "metadata": {},
   "outputs": [
    {
     "data": {
      "text/plain": [
       "'<p>Miscellaneous things. Mostly Weeknotes and links I stumbled upon.</p>'"
      ]
     },
     "execution_count": 10,
     "metadata": {},
     "output_type": "execute_result"
    }
   ],
   "source": [
    "d.feed.description"
   ]
  },
  {
   "cell_type": "code",
   "execution_count": 11,
   "id": "5fb32987-e5b5-4f8e-a6c9-b691e43a6f75",
   "metadata": {},
   "outputs": [
    {
     "name": "stdout",
     "output_type": "stream",
     "text": [
      "Weeknotes 2024-05-20\n",
      "Weeknotes 2024-05-13\n",
      "Weeknotes 2024-05-06\n",
      "Weeknotes 2024-04-29\n",
      "Weeknotes 2024-04-22\n",
      "Weeknotes 2024-04-15\n",
      "Weeknotes 2024-04-08\n",
      "Weeknotes 2024-04-01\n",
      "Weeknotes 2024-03-25\n",
      "Weeknotes 2024-03-18\n",
      "Weeknotes 2024-03-11\n",
      "Weeknotes 2024-03-04\n",
      "Workaround for Paying OpenAI via bunq\n",
      "Weeknotes 2024-02-26\n",
      "Weeknotes 2024-02-19\n",
      "Weeknotes 2024-02-12\n",
      "Weeknotes 2024-02-05\n",
      "Weeknotes 2024-01-29\n",
      "Weeknotes 2024-01-22\n",
      "Weeknotes 2024-01-15\n",
      "Weeknotes 2024-01-08\n",
      "📆 Year in Review 2023\n",
      "Weeknotes 2024-01-01\n",
      "Weeknotes 2023-12-25\n",
      "Weeknotes 2023-12-18\n",
      "Weeknotes 2023-12-11\n",
      "Weeknotes 2023-12-04\n",
      "Weeknotes 2023-11-27\n",
      "Weeknotes 2023-11-20\n",
      "Weeknotes 2023-11-13\n",
      "Weeknotes 2023-11-06\n",
      "Weeknotes 2023-10-30\n",
      "Weeknotes 2023-10-23\n",
      "Weeknotes 2023-10-16\n",
      "Weeknotes 2023-10-09\n",
      "Weeknotes 2023-10-02\n",
      "Weeknotes 2023-09-25\n",
      "Weeknotes 2023-09-18\n",
      "Upgrading Postgres\n",
      "Weeknotes 2023-09-11\n",
      "How to Pass a Request Object from Wagtail API to a Page\n",
      "Weeknotes 2023-09-04\n",
      "Weeknotes 2023-08-28\n",
      "Weeknotes 2023-08-21\n",
      "Weeknotes 2023-08-14\n",
      "Testing Django Management Commands with PyTest\n",
      "Using staticfiles with STORAGES in Django 4.2\n",
      "Weeknotes 2023-08-07\n",
      "Weeknotes 2023-07-31\n",
      "Weeknotes 2023-07-24\n",
      "Weeknotes 2023-07-17\n",
      "Weeknotes 2023-07-10\n",
      "Weeknotes 2023-07-03\n",
      "Weeknotes 2023-06-26\n",
      "Weeknotes 2023-06-19\n",
      "Weeknotes 2023-06-12\n",
      "Weeknotes 2023-06-05\n",
      "Weeknotes 2023-05-29\n",
      "Weeknotes 2023-05-22\n",
      "TIL: Using django-filter Filtersets in Wagtail API v2\n",
      "Weeknotes 2023-05-15\n",
      "Weeknotes 2023-05-08\n",
      "Weeknotes 2023-05-01\n",
      "Weeknotes 2023-04-24\n",
      "TIL: Real-time Collaboration for Jupyter Notebooks\n",
      "Weeknotes 2023-04-17\n",
      "TIL: Validating Wagtail Page Fields Only Upon Publishing\n",
      "Weeknotes 2023-04-10\n",
      "Weeknotes 2023-04-03\n",
      "Full-Stack Team Now Open for Projects: A First-Time Announcement! 🚀\n",
      "Weeknotes 2023-03-27\n",
      "Weeknotes 2023-03-20\n",
      "Weeknotes 2023-03-13\n",
      "Weeknotes 2023-03-06\n",
      "Weeknotes 2023-02-27\n",
      "TIL: Integrate Wagtail API into Local Namespace\n",
      "Weeknotes 2023-02-20\n",
      "Weeknotes 2023-02-13\n",
      "Weeknotes 2023-02-06\n",
      "Weeknotes 2023-01-30\n",
      "TIL: Editable Package Installation\n",
      "Caching Audio File Sizes\n",
      "Weeknotes 2023-01-23\n",
      "Wagtail - Splitting up Posts and Episodes\n",
      "Weeknotes 2023-01-16\n",
      "Podlove Share Sheet Fixing + Wagtail Code Blocks\n",
      "Weeknotes 2023-01-09\n",
      "Fixing a Spam Filter Bug\n",
      "Weeknotes 2023-01-02\n",
      "Weeknotes 2022-12-26\n",
      "TIL Deploying Takahē\n",
      "Weeknotes 2022-12-19\n",
      "TIL: Flush the FRITZ!Box DNS Cache\n",
      "TIL: Change Owner of Postgres Database Objects Using Ansible\n",
      "Weeknotes 2022-12-12\n",
      "Weeknotes 2022-12-05\n",
      "Kptncook and Mealie\n",
      "Weeknotes 2022-11-28\n",
      "TIL: Setting up a Mastodon Instance\n",
      "Weeknotes 2022-11-21\n",
      "TIL: Be careful with your wagtail javascript\n",
      "Weeknotes 2022-11-14\n",
      "Weeknotes 2022-11-07\n",
      "Weeknotes 2022-10-31\n",
      "Weeknotes 2022-10-24\n",
      "Weeknotes 2022-10-17\n",
      "Weeknotes 2022-10-10\n",
      "Weeknotes 2022-10-03\n",
      "Weeknotes 2022-09-26\n",
      "Weeknotes 2022-09-19\n",
      "Weeknotes 2022-09-12\n",
      "Weeknotes 2022-09-05\n",
      "Weeknotes 2022-08-29\n",
      "Weeknotes 2022-08-22\n",
      "Weeknotes 2022-08-15\n",
      "Weeknotes 2022-08-08\n",
      "Weeknotes 2022-08-01\n",
      "Weeknotes 2022-07-25\n",
      "Weeknotes 2022-07-18\n",
      "Django Beginner Series: Setting up Python\n",
      "Weeknotes 2022-07-11\n",
      "Weeknotes 2022-07-04\n",
      "Weeknotes 2022-06-27\n",
      "Weeknotes 2022-06-20\n",
      "Weeknotes 2022-06-13\n",
      "Weeknotes 2022-06-06\n",
      "Weeknotes 2022-05-30\n",
      "Weeknotes 2022-05-23\n",
      "Weeknotes 2022-05-16\n",
      "Weeknotes 2022-05-09\n",
      "Beyond Tellerrand 2022\n",
      "Weeknotes 2022-05-02\n",
      "Weeknotes 2022-04-25\n",
      "Weeknotes 2022-04-18\n",
      "PyCon DE Day Three\n",
      "PyCon DE Day Two\n",
      "Weeknotes 2022-04-11\n",
      "PyCon DE Day One\n",
      "Weeknotes 2022-04-04\n",
      "Benchmarking nginx vs caddy vs uvicorn for serving static files\n",
      "Weeknotes 2022-03-28\n",
      "Weeknotes 2022-03-21\n",
      "Weeknotes 2022-03-14\n",
      "Weeknotes 2022-03-07\n",
      "Weeknotes 2022-02-28\n",
      "Weeknotes 2022-02-21\n",
      "Weeknotes 2022-02-14\n",
      "Weeknotes 2022-02-07\n",
      "Weeknotes 2022-01-31\n",
      "Weeknotes 2022-01-24\n",
      "Chicken Soup\n",
      "Weeknotes 2022-01-17\n",
      "Weeknotes 2022-01-10 Changed Streaming Schedule\n",
      "Weeknotes 2022-01-03 fastdeploy\n",
      "Weeknotes 2021-11-01 FastAPI and Vue\n",
      "Weeknotes 2021-10-25\n",
      "Weeknotes 2021-10-18\n",
      "Weeknotes 2021-10-11\n",
      "Naive Bayes Implementation\n",
      "Weeknotes 2021-10-04\n",
      "Weeknotes 2021-09-27\n",
      "Weeknotes 2021-09-20\n",
      "Weeknotes 2021-09-06\n",
      "Weeknotes 2021-08-30\n",
      "Weeknotes 2021-08-23\n",
      "Weeknotes 2021-08-16\n",
      "Weeknotes 2021-08-09\n",
      "Weeknotes 2021-08-02\n",
      "Weeknotes 2021-07-26\n",
      "Weeknotes 2021-07-19\n",
      "Weeknotes 2021-07-12\n",
      "Weeknotes 2021-07-05\n",
      "Weeknotes 2021-06-28\n",
      "Serving Files With Django - DjangoCon Europe 2021 Talk\n",
      "Weeknotes 2021-06-21\n",
      "Django 3.1 Async\n",
      "Scatter plots with density quartiles with python\n",
      "Writing my own blog engine: The database model\n",
      "Tartlets\n",
      "Using a CDN\n",
      "PyCon 2017\n",
      "On my way to pycon\n",
      "Added rudimentary gallery support\n",
      "Added pagination\n",
      "Videos\n",
      "RSS Feeds\n",
      "Responsive images\n",
      "Caddy vs. nginx\n",
      "Getting images to work\n",
      "First post\n"
     ]
    }
   ],
   "source": [
    "for entry in d.entries:\n",
    "    print(entry.title)"
   ]
  },
  {
   "cell_type": "code",
   "execution_count": 15,
   "id": "81d61dad-ce2a-4c13-a533-77ff40df3dab",
   "metadata": {},
   "outputs": [
    {
     "data": {
      "text/plain": [
       "-1"
      ]
     },
     "execution_count": 15,
     "metadata": {},
     "output_type": "execute_result"
    }
   ],
   "source": [
    "content.find(\" Claas \")"
   ]
  },
  {
   "cell_type": "code",
   "execution_count": 13,
   "id": "2afac5e3-ffc0-4ed9-b68d-32b40bd73c83",
   "metadata": {},
   "outputs": [
    {
     "data": {
      "text/plain": [
       "'(bad) or ignorance ('"
      ]
     },
     "execution_count": 13,
     "metadata": {},
     "output_type": "execute_result"
    }
   ],
   "source": [
    "content[916570:916590]"
   ]
  },
  {
   "cell_type": "code",
   "execution_count": null,
   "id": "0f52968c-def5-48b7-acce-a46f57c542da",
   "metadata": {},
   "outputs": [],
   "source": []
  }
 ],
 "metadata": {
  "kernelspec": {
   "display_name": "Django Kernel",
   "language": "python",
   "name": "django_extensions"
  },
  "language_info": {
   "codemirror_mode": {
    "name": "ipython",
    "version": 3
   },
   "file_extension": ".py",
   "mimetype": "text/x-python",
   "name": "python",
   "nbconvert_exporter": "python",
   "pygments_lexer": "ipython3",
   "version": "3.12.3"
  }
 },
 "nbformat": 4,
 "nbformat_minor": 5
}
