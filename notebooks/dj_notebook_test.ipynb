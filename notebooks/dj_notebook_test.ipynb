{
 "cells": [
  {
   "cell_type": "code",
   "execution_count": 1,
   "id": "ede00bdd-08a8-4ca6-bf7c-b592905ede2e",
   "metadata": {},
   "outputs": [],
   "source": [
    "from dj_notebook import activate"
   ]
  },
  {
   "cell_type": "code",
   "execution_count": 2,
   "id": "4d991eed-c4e8-4221-8e39-e1e81c0e4195",
   "metadata": {},
   "outputs": [
    {
     "data": {
      "text/html": [
       "<pre style=\"white-space:pre;overflow-x:auto;line-height:normal;font-family:Menlo,'DejaVu Sans Mono',consolas,'Courier New',monospace\">The .env file has been loaded. See base.py for more information\n",
       "</pre>\n"
      ],
      "text/plain": [
       "The .env file has been loaded. See base.py for more information\n"
      ]
     },
     "metadata": {},
     "output_type": "display_data"
    },
    {
     "data": {
      "application/vnd.jupyter.widget-view+json": {
       "model_id": "",
       "version_major": 2,
       "version_minor": 0
      },
      "text/plain": [
       "Output()"
      ]
     },
     "metadata": {},
     "output_type": "display_data"
    },
    {
     "data": {
      "text/html": [
       "<pre style=\"white-space:pre;overflow-x:auto;line-height:normal;font-family:Menlo,'DejaVu Sans Mono',consolas,'Courier New',monospace\"></pre>\n"
      ],
      "text/plain": []
     },
     "metadata": {},
     "output_type": "display_data"
    }
   ],
   "source": [
    "plus = activate()"
   ]
  },
  {
   "cell_type": "code",
   "execution_count": 3,
   "id": "dbc9b370-bca9-4a89-8af9-dc54699c9764",
   "metadata": {},
   "outputs": [],
   "source": [
    "from cast.models import Audio"
   ]
  },
  {
   "cell_type": "code",
   "execution_count": 4,
   "id": "f9cbe6f5-e047-435c-bb90-ea40e4220d06",
   "metadata": {},
   "outputs": [
    {
     "data": {
      "text/plain": [
       "<AudioQuerySet [<Audio: 1 - Claas erzählt von Hornzacke>, <Audio: 2 - Fackelkralle Teil 1>]>"
      ]
     },
     "execution_count": 4,
     "metadata": {},
     "output_type": "execute_result"
    }
   ],
   "source": [
    "Audio.objects.all()"
   ]
  },
  {
   "cell_type": "code",
   "execution_count": 3,
   "id": "2a04f84b-8fde-4eb1-8bea-0a548f527512",
   "metadata": {},
   "outputs": [
    {
     "data": {
      "text/plain": [
       "<AudioQuerySet [<Audio: 1 - Claas erzählt von Hornzacke>, <Audio: 2 - Fackelkralle Teil 1>]>"
      ]
     },
     "execution_count": 3,
     "metadata": {},
     "output_type": "execute_result"
    }
   ],
   "source": [
    "plus.Audio.objects.all()"
   ]
  },
  {
   "cell_type": "code",
   "execution_count": null,
   "id": "b4038d92-933b-42d8-a070-b18dabdc78ea",
   "metadata": {},
   "outputs": [],
   "source": []
  }
 ],
 "metadata": {
  "kernelspec": {
   "display_name": "Python 3 (ipykernel)",
   "language": "python",
   "name": "python3"
  },
  "language_info": {
   "codemirror_mode": {
    "name": "ipython",
    "version": 3
   },
   "file_extension": ".py",
   "mimetype": "text/x-python",
   "name": "python",
   "nbconvert_exporter": "python",
   "pygments_lexer": "ipython3",
   "version": "3.12.3"
  }
 },
 "nbformat": 4,
 "nbformat_minor": 5
}
